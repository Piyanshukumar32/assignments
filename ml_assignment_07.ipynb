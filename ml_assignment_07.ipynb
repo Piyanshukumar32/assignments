{
  "nbformat": 4,
  "nbformat_minor": 0,
  "metadata": {
    "colab": {
      "provenance": []
    },
    "kernelspec": {
      "name": "python3",
      "display_name": "Python 3"
    },
    "language_info": {
      "name": "python"
    }
  },
  "cells": [
    {
      "cell_type": "code",
      "execution_count": null,
      "metadata": {
        "id": "gMkNHW_25nep"
      },
      "outputs": [],
      "source": []
    },
    {
      "cell_type": "markdown",
      "source": [
        "1. What is a Support Vector Machine (SVM)4\n",
        "\n",
        "\n",
        "\n",
        "ans:-A Support Vector Machine (SVM) is a powerful supervised machine learning algorithm used for classification and regression tasks. In simpler terms, it's a method to categorize data by finding an optimal boundary (a hyperplane in higher dimensions) that best separates different classes.\n",
        "\n",
        "Here's a breakdown:\n",
        "\n",
        "The Goal: SVMs aim to find the hyperplane that maximizes the margin between data points of different classes. The margin is the distance between the hyperplane and the nearest data points of each class (called support vectors).\n",
        "How it Works:\n",
        "SVMs map data points to a high-dimensional space where they can be linearly separated, even if they're not linearly separable in the original space.\n",
        "They then find the optimal hyperplane that maximizes the margin between the classes in this high-dimensional space.\n",
        "This hyperplane acts as a decision boundary for classifying new data points.\n",
        "Kernel Trick: SVMs utilize a \"kernel trick\" to efficiently handle high-dimensional spaces without explicitly calculating the transformations. The kernel function defines how the data is mapped to the higher dimension.\n",
        "Types of SVMs:\n",
        "\n",
        "Linear SVM: Used when data is linearly separable.\n",
        "Non-linear SVM: Used when data is not linearly separable. Different kernel functions (e.g., polynomial, radial basis function) are employed to map data to a higher dimension where it becomes linearly separable.\n",
        "Advantages of SVMs:\n",
        "\n",
        "Effective in high-dimensional spaces.\n",
        "Relatively memory efficient.\n",
        "Versatile due to the use of different kernel functions.\n",
        "Disadvantages of SVMs:\n",
        "\n",
        "Can be computationally expensive for large datasets.\n",
        "Performance is sensitive to the choice of kernel function and hyperparameters.\n",
        "Not easily interpretable compared to some other algorithms."
      ],
      "metadata": {
        "id": "6qT6AwMn5uOh"
      }
    },
    {
      "cell_type": "markdown",
      "source": [
        "2. What is the dins:-fference between Hard Margin and Soft Margin SVM4\n",
        "\n",
        "\n",
        "ans:-Hard Margin SVM:\n",
        "\n",
        "Assumption: Assumes the data is perfectly linearly separable, meaning there's a clear gap between the two classes.\n",
        "Functionality: Aims to find the hyperplane that perfectly separates the classes with the maximum margin.\n",
        "Outliers: Very sensitive to outliers. Even a single outlier can significantly affect the position of the hyperplane, potentially leading to misclassification.\n",
        "Practicality: Often not practical in real-world scenarios where data is rarely perfectly separable.\n",
        "Soft Margin SVM:\n",
        "\n",
        "Assumption: Acknowledges that data might not be perfectly separable and may contain outliers.\n",
        "Functionality: Allows for some misclassifications or violations of the margin to accommodate outliers and achieve a better overall model.\n",
        "Outliers: More robust to outliers as it allows some data points to fall within the margin or even on the wrong side of the hyperplane.\n",
        "Practicality: More practical and commonly used in real-world applications.\n",
        "In simpler terms:\n",
        "\n",
        "Imagine you're trying to separate two groups of objects with a straight line.\n",
        "\n",
        "Hard Margin: Like drawing a line that perfectly separates the groups, but even one object in the wrong place can mess up the line.\n",
        "Soft Margin: More flexible, allowing a few objects to be on the wrong side or close to the line to get a better overall separation.\n",
        "Key Parameter: C (Regularization Parameter)\n",
        "\n",
        "Hard Margin: Equivalent to having a very large value of C, emphasizing strict separation with no margin violations.\n",
        "Soft Margin: Uses a smaller value of C, allowing for some margin violations and balancing the trade-off between maximizing the margin and minimizing misclassifications.\n",
        "In summary:\n",
        "\n",
        "Feature\tHard Margin SVM\tSoft Margin SVM\n",
        "Data Separability\tAssumes perfect linear separability\tAllows for some overlap or outliers\n",
        "Outlier Sensitivity\tVery sensitive\tMore robust\n",
        "Margin Violations\tNot allowed\tAllowed to some extent\n",
        "Practicality\tLess practical\tMore practical\n",
        "Regularization Parameter (C)\tVery large\tSmaller"
      ],
      "metadata": {
        "id": "s31iVNou5-Z2"
      }
    },
    {
      "cell_type": "markdown",
      "source": [
        "3. What is the mathematical intuition behind SVM4\n",
        "\n",
        "\n",
        "\n",
        "ans:-The Core Idea: Finding the Optimal Hyperplane\n",
        "\n",
        "The fundamental principle of SVMs is to find the optimal hyperplane that best separates data points of different classes. This hyperplane is chosen to maximize the margin between the classes.\n",
        "\n",
        "Mathematical Formulation\n",
        "\n",
        "Hyperplane Equation: A hyperplane can be represented by the equation:\n",
        "\n",
        "w^T * x + b = 0\n",
        "Use code with caution\n",
        "where:\n",
        "\n",
        "w is the weight vector (perpendicular to the hyperplane)\n",
        "x is the input data point\n",
        "b is the bias term\n",
        "Margin: The margin is the distance between the hyperplane and the nearest data points of each class (support vectors). It is calculated as:\n",
        "\n",
        "Margin = 2 / ||w||\n",
        "Use code with caution\n",
        "where ||w|| is the norm (magnitude) of the weight vector.\n",
        "\n",
        "Optimization Objective: The goal is to maximize the margin while ensuring correct classification of the training data. This is formulated as an optimization problem:\n",
        "\n",
        "Maximize: 2 / ||w||\n",
        "   Subject to: y_i * (w^T * x_i + b) >= 1 for all i\n",
        "Use code with caution\n",
        "where:\n",
        "\n",
        "y_i is the class label of the i-th data point (-1 or +1)\n",
        "x_i is the i-th data point\n",
        "Intuition behind the Optimization\n",
        "\n",
        "Maximizing the margin (2 / ||w||): A larger margin leads to a more confident and generalized model, as it creates a wider separation between the classes.\n",
        "Subject to the constraint: The constraint ensures that all data points are correctly classified and lie on the correct side of the hyperplane with a margin of at least 1.\n",
        "Kernel Trick\n",
        "\n",
        "For non-linearly separable data, SVMs use the \"kernel trick\" to map the data to a higher-dimensional space where it becomes linearly separable. The kernel function implicitly calculates the dot product of data points in this higher-dimensional space without explicitly performing the transformation.\n",
        "\n",
        "Soft Margin SVM\n",
        "\n",
        "In cases where perfect separation is not possible, soft margin SVMs introduce slack variables (ξ) to allow for some misclassifications. The optimization problem is modified to include a penalty for these misclassifications, controlled by the regularization parameter (C)."
      ],
      "metadata": {
        "id": "wIDUfMD56Yw8"
      }
    },
    {
      "cell_type": "markdown",
      "source": [
        "4.What is the role of Lagrange Multipliers in SVM4\n",
        "\n",
        "\n",
        "ans:-Lagrange Multipliers in SVM Optimization\n",
        "\n",
        "In SVMs, the optimization problem of finding the optimal hyperplane involves maximizing the margin while ensuring correct classification of data points. This problem is typically formulated as a constrained optimization problem. Lagrange multipliers play a crucial role in solving this constrained optimization problem.\n",
        "\n",
        "Here's how they are used:\n",
        "\n",
        "Formulating the Lagrangian: The constrained optimization problem is transformed into an unconstrained problem by introducing Lagrange multipliers (α). A new function called the Lagrangian is formed, which incorporates the original objective function and the constraints, weighted by the Lagrange multipliers.\n",
        "\n",
        "Dual Problem: The original optimization problem (primal problem) is then converted into its dual form. This dual problem is often easier to solve and provides valuable insights. Lagrange multipliers become the variables of this dual problem.\n",
        "\n",
        "Solving for Lagrange Multipliers: The dual problem is solved to find the optimal values of the Lagrange multipliers (α). These values provide information about the support vectors, which are the data points that lie closest to the decision boundary.\n",
        "\n",
        "Defining the Hyperplane: Once the Lagrange multipliers are determined, they are used to calculate the weight vector (w) and bias (b) of the optimal hyperplane. These parameters define the decision boundary of the SVM model.\n",
        "\n",
        "Intuition behind Lagrange Multipliers in SVM\n",
        "\n",
        "Identifying Support Vectors: Lagrange multipliers (α) associated with data points that are not support vectors are zero. Non-zero Lagrange multipliers indicate that the corresponding data points are support vectors and contribute to defining the decision boundary.\n",
        "Margin Calculation: The magnitude of the Lagrange multipliers (α) is directly related to the importance of the corresponding support vectors in determining the margin. Larger values of α indicate that the support vector has a greater influence on the margin.\n",
        "Sparsity: The fact that many Lagrange multipliers are zero leads to sparsity in the SVM solution. This means that only a subset of the training data (the support vectors) is needed to define the decision boundary, making SVMs memory-efficient."
      ],
      "metadata": {
        "id": "xKyCmkan6kdn"
      }
    },
    {
      "cell_type": "markdown",
      "source": [
        "5. What are Support Vectors in SVM4\n",
        "\n",
        "\n",
        "\n",
        "ans:-Support Vectors: The Key Players in SVM\n",
        "\n",
        "In an SVM model, support vectors are the data points that lie closest to the decision boundary (hyperplane). These points are crucial because they have the most influence on the position and orientation of the hyperplane.\n",
        "\n",
        "Why are they called \"Support Vectors\"?\n",
        "\n",
        "They are called \"support vectors\" because they \"support\" or define the decision boundary. If you were to remove any other data points that are not support vectors, the position of the hyperplane would remain unchanged.\n",
        "\n",
        "How are Support Vectors identified?\n",
        "\n",
        "During the training process of an SVM, the algorithm identifies the support vectors by solving the optimization problem. The data points that have non-zero Lagrange multipliers (α) associated with them are the support vectors.\n",
        "\n",
        "Importance of Support Vectors\n",
        "\n",
        "Defining the Decision Boundary: The position of the hyperplane is determined solely by the support vectors. Other data points do not directly influence the decision boundary.\n",
        "Margin Calculation: The margin, which is the distance between the hyperplane and the nearest data points (support vectors), is a crucial factor in SVM's generalization ability. Support vectors play a key role in maximizing this margin.\n",
        "Memory Efficiency: Since only the support vectors are needed to define the hyperplane, SVMs can be memory-efficient, especially when dealing with large datasets."
      ],
      "metadata": {
        "id": "L2VhuI-l6wat"
      }
    },
    {
      "cell_type": "markdown",
      "source": [
        "6. What is a Support Vector Classifier (SVC)4\n",
        "\n",
        "\n",
        "ans:-Support Vector Classifier (SVC)\n",
        "\n",
        "A Support Vector Classifier (SVC) is a specific type of Support Vector Machine (SVM) algorithm used for classification tasks. It is one of the most popular and widely used SVM algorithms.\n",
        "\n",
        "How it Works\n",
        "\n",
        "SVC aims to find the optimal hyperplane that best separates data points of different classes. This hyperplane is chosen to maximize the margin between the classes, making the model more robust and less prone to overfitting.\n",
        "\n",
        "Key Features of SVC\n",
        "\n",
        "Binary and Multi-class Classification: SVC can be used for both binary (two-class) and multi-class classification problems.\n",
        "Kernel Trick: It utilizes the kernel trick to handle non-linearly separable data by mapping it to a higher-dimensional space.\n",
        "Regularization Parameter (C): Controls the trade-off between maximizing the margin and minimizing misclassifications. A higher C value emphasizes strict separation, while a lower C value allows for some margin violations.\n",
        "Kernel Functions: Offers various kernel functions (linear, polynomial, RBF, sigmoid) to handle different data distributions.\n",
        "Support Vectors: Identifies and uses support vectors to define the decision boundary, making the model memory-efficient.\n",
        "Implementation in Python using scikit-learn\n",
        "\n",
        "SVC is readily available in the scikit-learn library, a popular machine learning library in Python. Here's a basic example:\n",
        "\n",
        "\n",
        "from sklearn.svm import SVC\n",
        "\n",
        "# Create an SVC object\n",
        "model = SVC(kernel='linear', C=1.0)  # You can choose different kernels and C values\n",
        "\n",
        "# Train the model\n",
        "model.fit(X_train, y_train)  # X_train: training data, y_train: target labels\n",
        "\n",
        "# Make predictions\n",
        "y_pred = model.predict(X_test)  # X_test: test data"
      ],
      "metadata": {
        "id": "cowubESN67K1"
      }
    },
    {
      "cell_type": "markdown",
      "source": [
        "7. What is a Support Vector Regressor (SVR)4\n",
        "\n",
        "\n",
        "ans:-Support Vector Regressor (SVR)\n",
        "\n",
        "A Support Vector Regressor (SVR) is a type of Support Vector Machine (SVM) algorithm used for regression tasks, meaning predicting a continuous target variable instead of discrete classes. It is an extension of the Support Vector Classifier (SVC) adapted for regression problems.\n",
        "\n",
        "How it Works\n",
        "\n",
        "Instead of finding a hyperplane to separate classes, SVR aims to find a hyperplane that best fits the data points while staying within a certain margin of error (epsilon). The goal is to have as many data points as possible within this margin, called the \"epsilon-tube.\"\n",
        "\n",
        "Key Features of SVR\n",
        "\n",
        "Continuous Target Variable: SVR is used for predicting continuous values, such as stock prices, temperature, or housing values.\n",
        "Kernel Trick: Like SVC, SVR utilizes the kernel trick to handle non-linear relationships between features and the target variable by mapping data to a higher-dimensional space.\n",
        "Regularization Parameter (C): Controls the trade-off between the model's complexity and the amount of deviation allowed outside the epsilon-tube. A higher C value leads to a stricter fit, while a lower C value allows for more flexibility.\n",
        "Epsilon (ε): Defines the width of the epsilon-tube, which determines the margin of error allowed for predictions. Data points within the epsilon-tube do not contribute to the loss function.\n",
        "Kernel Functions: Offers various kernel functions (linear, polynomial, RBF, sigmoid) to model different types of relationships between features and the target variable.\n",
        "Implementation in Python using scikit-learn\n",
        "\n",
        "SVR is also available in the scikit-learn library. Here's a basic example:\n",
        "\n",
        "\n",
        "from sklearn.svm import SVR\n",
        "\n",
        "# Create an SVR object\n",
        "model = SVR(kernel='linear', C=1.0, epsilon=0.1)  # You can choose different kernels, C, and epsilon values\n",
        "\n",
        "# Train the model\n",
        "model.fit(X_train, y_train)  # X_train: training data, y_train: target values\n",
        "\n",
        "# Make predictions\n",
        "y_pred = model.predict(X_test)  # X_test: test data"
      ],
      "metadata": {
        "id": "a30ArMI37FCA"
      }
    },
    {
      "cell_type": "markdown",
      "source": [
        "8. What is the Kernel Trick in SVM4\n",
        "\n",
        "\n",
        "ans:-The Kernel Trick: Handling Non-linearity\n",
        "\n",
        "The kernel trick is a clever technique used in SVMs to handle non-linearly separable data. It allows SVMs to implicitly map data points to a higher-dimensional space where they become linearly separable, without actually performing the computationally expensive transformation.\n",
        "\n",
        "Why is it needed?\n",
        "\n",
        "In many real-world scenarios, data is not linearly separable, meaning you can't draw a straight line to perfectly separate the different classes. To address this, SVMs use the kernel trick to transform the data into a higher-dimensional space where it becomes linearly separable.\n",
        "\n",
        "How it Works\n",
        "\n",
        "Kernel Function: The kernel trick relies on a kernel function, which is a mathematical function that defines how the data is mapped to the higher-dimensional space. Common kernel functions include:\n",
        "\n",
        "Linear: For linearly separable data.\n",
        "Polynomial: For data with non-linear relationships.\n",
        "Radial Basis Function (RBF): A versatile kernel for various data distributions.\n",
        "Sigmoid: Similar to the activation function used in neural networks.\n",
        "Implicit Mapping: Instead of explicitly calculating the coordinates of data points in the higher-dimensional space, the kernel function directly computes the dot product between the images of all pairs of data in the feature space. This avoids the computational cost of the explicit transformation.\n",
        "\n",
        "Linear Separation: Once the data is mapped to the higher-dimensional space (implicitly), a linear hyperplane can be used to separate the classes.\n",
        "\n",
        "Benefits of the Kernel Trick\n",
        "\n",
        "Efficiency: Avoids the computational cost of explicitly transforming data to a higher dimension.\n",
        "Flexibility: Allows SVMs to handle non-linearly separable data using various kernel functions.\n",
        "Versatility: Applicable to a wide range of data types and distributions.\n",
        "In simpler terms:\n",
        "\n",
        "Imagine you have data points scattered on a 2D plane that cannot be separated by a straight line. The kernel trick is like lifting these points into a 3D space where you can now separate them with a flat plane. The kernel function acts as the \"lifting mechanism\" without actually having to calculate the 3D coordinates of the points."
      ],
      "metadata": {
        "id": "8_2mH_cf7RQB"
      }
    },
    {
      "cell_type": "markdown",
      "source": [
        "9. Compare Linear Kernel, Polynomial Kernel, and RBF Kernel:\n",
        "\n",
        "\n",
        "ans:-These kernels are mathematical functions that define how data is transformed in SVMs to potentially make it linearly separable. Each kernel has its own characteristics and is suitable for different types of data and problems.\n",
        "\n",
        "Here's a comparison:\n",
        "\n",
        "Feature\tLinear Kernel\tPolynomial Kernel\tRBF Kernel\n",
        "Mathematical Form\tK(x, y) = x^T * y\tK(x, y) = (γ * x^T * y + r)^d\t`K(x, y) = exp(-γ *\n",
        "Parameters\tNone\td (degree), γ (gamma), r (coef0)\tγ (gamma)\n",
        "Complexity\tLow\tModerate\tHigh\n",
        "Data Separability\tLinearly separable data\tNon-linearly separable data with curved boundaries\tNon-linearly separable data with complex patterns\n",
        "Computational Cost\tEfficient\tModerate\tCan be expensive for large datasets\n",
        "Generalization\tProne to underfitting for complex data\tCan overfit if the degree is too high\tGood generalization if parameters are well-tuned\n",
        "Interpretability\tEasy to interpret\tModerate\tDifficult to interpret\n",
        "Use Cases\tText classification, large datasets\tImage processing, natural language processing\tGeneral-purpose, widely applicable\n",
        "In summary:\n",
        "\n",
        "Linear Kernel: Suitable for linearly separable data, efficient but may underfit complex data.\n",
        "Polynomial Kernel: Can handle non-linear data with curved boundaries, but can overfit if the degree is too high.\n",
        "RBF Kernel: Versatile and widely applicable, good generalization but can be computationally expensive.\n",
        "Choosing the right kernel:\n",
        "\n",
        "The choice of kernel depends on the specific dataset and problem. Here are some guidelines:\n",
        "\n",
        "If the data is linearly separable, the linear kernel is a good starting point.\n",
        "If the data is non-linear and has curved boundaries, the polynomial kernel can be considered.\n",
        "If the data has complex patterns or the relationship between features and target is unknown, the RBF kernel is often a good choice.\n",
        "It's often recommended to experiment with different kernels and parameters using techniques like cross-validation to find the best performing kernel for your specific task."
      ],
      "metadata": {
        "id": "EXE3b8237zcn"
      }
    },
    {
      "cell_type": "markdown",
      "source": [
        "10: What is the effect of the C parameter in SVM4\n",
        "\n",
        "\n",
        "ans:-The C Parameter: Balancing Margin and Misclassifications\n",
        "\n",
        "The C parameter in SVMs is a regularization parameter that controls the trade-off between maximizing the margin and minimizing misclassifications. It's a crucial hyperparameter that can significantly affect the performance of the SVM model.\n",
        "\n",
        "How it Works\n",
        "\n",
        "High C Value: A high value of C emphasizes a smaller margin and tries to classify all training points correctly. This can lead to a more complex model that is prone to overfitting, especially if the data is noisy or has outliers.\n",
        "Low C Value: A low value of C emphasizes a wider margin, allowing for some misclassifications in the training data. This can lead to a simpler and more generalized model that is less prone to overfitting but may have lower accuracy on the training data.\n",
        "In simpler terms:\n",
        "\n",
        "Imagine you're trying to separate two groups of objects with a fence.\n",
        "\n",
        "High C: Like building a very rigid fence that tries to perfectly separate every single object, even if it means the fence becomes very complex and follows every twist and turn of the data.\n",
        "Low C: Like building a more flexible fence that allows for a few objects to be on the wrong side, but overall provides a simpler and smoother separation.\n",
        "Effect on the Decision Boundary\n",
        "\n",
        "High C: Leads to a more complex decision boundary that closely follows the training data, potentially overfitting to noise or outliers.\n",
        "Low C: Leads to a smoother and simpler decision boundary that may misclassify some training points but generalizes better to unseen data.\n",
        "Choosing the Right C Value\n",
        "\n",
        "The optimal C value depends on the specific dataset and the desired balance between margin and misclassifications. It's often recommended to experiment with different C values using techniques like cross-validation to find the best value for your task.\n",
        "\n",
        "In general:\n",
        "\n",
        "For datasets with noise or outliers, a lower C value is preferred to prevent overfitting.\n",
        "For datasets with clear separation and little noise, a higher C value can be used to achieve higher accuracy.\n",
        "In summary:\n",
        "\n",
        "The C parameter in SVMs controls the trade-off between margin and misclassifications.\n",
        "High C values emphasize correct classification of all training points, leading to a more complex model.\n",
        "Low C values emphasize a wider margin, allowing for some misclassifications and a simpler model.\n",
        "The optimal C value should be chosen through experimentation and cross-validation."
      ],
      "metadata": {
        "id": "kFsFowO978CH"
      }
    },
    {
      "cell_type": "markdown",
      "source": [
        "11. What is the role of the Gamma parameter in RBF Kernel SVM4\n",
        "\n",
        "\n",
        "ans:-The Gamma Parameter in RBF Kernel SVM\n",
        "\n",
        "The Gamma parameter (γ) is a hyperparameter that controls the influence of a single training example on the decision boundary in a Support Vector Machine (SVM) model using the Radial Basis Function (RBF) kernel. It determines the shape of the decision boundary.\n",
        "\n",
        "How it Works\n",
        "\n",
        "High Gamma Value: A high gamma value means that the influence of a single training example is limited to a small area around it. This leads to a more complex and flexible decision boundary that can closely fit the training data. However, it can also lead to overfitting if the gamma value is too high.\n",
        "Low Gamma Value: A low gamma value means that the influence of a single training example extends to a larger area. This leads to a smoother and simpler decision boundary that may not fit the training data as closely but can generalize better to unseen data.\n",
        "In simpler terms:\n",
        "\n",
        "Imagine you're trying to draw a circle around each data point to define its influence on the decision boundary.\n",
        "\n",
        "High Gamma: Like drawing small, tight circles around each data point, creating a very detailed and potentially overfit decision boundary.\n",
        "Low Gamma: Like drawing large, overlapping circles around each data point, creating a smoother and more generalized decision boundary.\n",
        "Effect on the Decision Boundary\n",
        "\n",
        "High Gamma: Leads to a more complex and wiggly decision boundary that closely follows the training data.\n",
        "Low Gamma: Leads to a smoother and more linear decision boundary that may misclassify some training points but generalizes better.\n",
        "Choosing the Right Gamma Value\n",
        "\n",
        "The optimal gamma value depends on the specific dataset and the desired balance between model complexity and generalization. It's often recommended to experiment with different gamma values using techniques like cross-validation to find the best value for your task.\n",
        "\n",
        "In general:\n",
        "\n",
        "For datasets with complex patterns or where a more flexible decision boundary is needed, a higher gamma value might be appropriate.\n",
        "For datasets with simpler patterns or where generalization is more important, a lower gamma value might be preferred.\n",
        "In summary:\n",
        "\n",
        "The Gamma parameter in RBF Kernel SVM controls the influence of a single training example on the decision boundary.\n",
        "High gamma values lead to a more complex and flexible decision boundary, potentially overfitting.\n",
        "Low gamma values lead to a smoother and simpler decision boundary, potentially underfitting.\n",
        "The optimal gamma value should be chosen through experimentation and cross-validation."
      ],
      "metadata": {
        "id": "EOikiRf48HlK"
      }
    },
    {
      "cell_type": "markdown",
      "source": [
        "12. What is the Naïve Bayes classifier, and why is it called \"Naïve\"4\n",
        "\n",
        "\n",
        "ans:-The Naïve Bayes classifier is a probabilistic machine learning algorithm based on Bayes' Theorem, used for classification tasks. It is particularly well-suited for text classification problems like spam filtering and sentiment analysis.\n",
        "\n",
        "How it Works\n",
        "\n",
        "Bayes' Theorem: The Naïve Bayes classifier uses Bayes' Theorem to calculate the probability of a data point belonging to a particular class, given its features.\n",
        "Prior Probability: It starts with an initial estimate of the probability of each class (prior probability).\n",
        "Likelihood: It then calculates the likelihood of observing the features of the data point, given that it belongs to each class.\n",
        "Posterior Probability: Finally, it combines the prior probability and likelihood to calculate the posterior probability of the data point belonging to each class. The data point is assigned to the class with the highest posterior probability.\n",
        "Why is it called \"Naïve\"?\n",
        "\n",
        "The Naïve Bayes classifier is called \"naïve\" because it makes a strong assumption about the independence of features. It assumes that the presence or absence of one feature does not affect the presence or absence of any other feature. This assumption is often not true in real-world data, but it simplifies the calculations and often leads to surprisingly good results.\n",
        "\n",
        "Example\n",
        "\n",
        "Consider classifying an email as spam or not spam. The Naïve Bayes classifier would assume that the presence of words like \"free,\" \"money,\" or \"prize\" in the email is independent of each other. While this may not be entirely true, it simplifies the classification process.\n",
        "\n",
        "Advantages of Naïve Bayes\n",
        "\n",
        "Simple and easy to understand.\n",
        "Fast and efficient for training and prediction.\n",
        "Works well with high-dimensional data.\n",
        "Surprisingly effective even with the naive assumption.\n",
        "Disadvantages of Naïve Bayes\n",
        "\n",
        "The naive assumption can be a limitation in some cases.\n",
        "Can be sensitive to irrelevant features.\n",
        "May not perform well when the features are highly correlated."
      ],
      "metadata": {
        "id": "BVNP9TUW8Sql"
      }
    },
    {
      "cell_type": "markdown",
      "source": [
        "13. What is Bayes’ Theorem4\n",
        "\n",
        "\n",
        "ans:-Bayes' Theorem\n",
        "\n",
        "Bayes' Theorem is a fundamental concept in probability theory and statistics. It describes the probability of an event, based on prior knowledge of conditions that might be related to the event. It's a way to update our beliefs about the probability of an event in light of new evidence.\n",
        "\n",
        "Formula\n",
        "\n",
        "The formula for Bayes' Theorem is:\n",
        "\n",
        "\n",
        "P(A|B) = [P(B|A) * P(A)] / P(B)\n",
        "Use code with caution\n",
        "where:\n",
        "\n",
        "P(A|B) is the posterior probability of event A occurring, given that event B has occurred. This is what we want to calculate.\n",
        "P(B|A) is the likelihood of event B occurring, given that event A has occurred. This is often known or can be estimated.\n",
        "P(A) is the prior probability of event A occurring. This is our initial belief about the probability of A.\n",
        "P(B) is the prior probability of event B occurring. This can be calculated using the law of total probability.\n",
        "Intuition\n",
        "\n",
        "Bayes' Theorem provides a way to revise our initial beliefs (prior probability) about an event based on new evidence (likelihood) to arrive at a revised belief (posterior probability). It's a way to incorporate new information into our understanding of the world.\n",
        "\n",
        "Example\n",
        "\n",
        "Let's say you want to know the probability of having a disease (A) given that you tested positive for it (B). Bayes' Theorem can help you calculate this:\n",
        "\n",
        "P(A|B): The probability of having the disease given a positive test result (what you want to find).\n",
        "P(B|A): The probability of testing positive given that you have the disease (likelihood, e.g., the accuracy of the test).\n",
        "P(A): The probability of having the disease before the test (prior probability, e.g., the prevalence of the disease in the population).\n",
        "P(B): The probability of testing positive (prior probability, which can be calculated considering both true positives and false positives).\n",
        "By plugging in the known values, you can calculate P(A|B), the probability of having the disease given a positive test result.\n",
        "\n",
        "Applications\n",
        "\n",
        "Bayes' Theorem has numerous applications in various fields, including:\n",
        "\n",
        "Medical diagnosis: Calculating the probability of a disease given symptoms or test results.\n",
        "Spam filtering: Classifying emails as spam or not spam based on the words in the email.\n",
        "Machine learning: Used in algorithms like Naïve Bayes for classification tasks.\n",
        "Risk assessment: Evaluating the probability of an event occurring based on risk factors.\n",
        "In summary:\n",
        "\n",
        "Bayes' Theorem is a way to update probabilities based on new evidence.\n",
        "It's used to calculate the probability of an event given prior knowledge and new information.\n",
        "It has wide applications in various fields, including medical diagnosis, spam filtering, and machine learning."
      ],
      "metadata": {
        "id": "05ZycxSJ8icZ"
      }
    },
    {
      "cell_type": "markdown",
      "source": [
        "14. Explain the differences between Gaussian Naïve Bayes, Multinomial Naïve Bayes, and Bernoulli Naïve Bayes:\n",
        "\n",
        "\n",
        "ans:-These are three common variations of the Naïve Bayes algorithm, each suited for different types of data and classification problems. The main difference lies in the assumptions they make about the distribution of the features (independent variables):\n",
        "\n",
        "Gaussian Naïve Bayes\n",
        "\n",
        "Assumption: Assumes that features follow a Gaussian (normal) distribution.\n",
        "Data Type: Suitable for continuous numerical features.\n",
        "Use Cases: Often used for classification problems where features are continuous, such as predicting the likelihood of a customer buying a product based on their age, income, and purchase history.\n",
        "Multinomial Naïve Bayes\n",
        "\n",
        "Assumption: Assumes that features represent the frequency of discrete events, such as word counts in a document.\n",
        "Data Type: Suitable for discrete count data, typically non-negative integers.\n",
        "Use Cases: Commonly used for text classification tasks, such as spam filtering or sentiment analysis, where features represent word frequencies.\n",
        "Bernoulli Naïve Bayes\n",
        "\n",
        "Assumption: Assumes that features are binary (present or absent), such as the presence or absence of a word in a document.\n",
        "Data Type: Suitable for binary or boolean features.\n",
        "Use Cases: Often used for document classification tasks where the presence or absence of words is more important than their frequency. It can also be used for spam filtering, where the presence of certain words might indicate spam.\n",
        "In summary:\n",
        "\n",
        "Feature\tGaussian Naïve Bayes\tMultinomial Naïve Bayes\tBernoulli Naïve Bayes\n",
        "Feature Distribution\tGaussian (normal)\tMultinomial\tBernoulli\n",
        "Data Type\tContinuous numerical\tDiscrete count data\tBinary or boolean\n",
        "Use Cases\tContinuous features, e.g., customer profiling\tText classification, e.g., spam filtering\tDocument classification, presence/absence of features\n",
        "Choosing the right Naïve Bayes variant:\n",
        "\n",
        "The choice of which Naïve Bayes variant to use depends on the nature of your data and the specific classification problem you are trying to solve.\n",
        "\n",
        "If your features are continuous and normally distributed, Gaussian Naïve Bayes is a good choice.\n",
        "If your features represent discrete counts (e.g., word frequencies), Multinomial Naïve Bayes is more appropriate.\n",
        "If your features are binary or boolean (presence/absence), Bernoulli Naïve Bayes is the most suitable option.\n",
        "\n",
        "\n",
        "\n"
      ],
      "metadata": {
        "id": "a0TvX_zzEwng"
      }
    },
    {
      "cell_type": "markdown",
      "source": [
        "15. When should you use Gaussian Naïve Bayes over other variants4\n",
        "\n",
        "\n",
        "\n",
        "ans:-Okay, let's discuss when to use Gaussian Naïve Bayes over other variants:\n",
        "\n",
        "When to Use Gaussian Naïve Bayes\n",
        "\n",
        "Gaussian Naïve Bayes is the preferred choice when the following conditions are met:\n",
        "\n",
        "Continuous Features: Your dataset primarily consists of continuous numerical features. Gaussian Naïve Bayes is specifically designed to handle features that follow a Gaussian (normal) distribution.\n",
        "Assumption of Normality: You have reason to believe or have verified that the continuous features in your dataset approximately follow a normal distribution. This assumption is crucial for the algorithm's effectiveness.\n",
        "Simplicity and Speed: You need a simple and fast algorithm for classification. Gaussian Naïve Bayes is relatively straightforward to implement and computationally efficient, making it suitable for large datasets or situations where quick predictions are required.\n",
        "Examples of Use Cases\n",
        "\n",
        "Customer profiling: Predicting customer behavior or preferences based on continuous features like age, income, purchase history, etc.\n",
        "Risk assessment: Evaluating the risk of an event (e.g., loan default, fraud) based on continuous factors like credit score, income, debt-to-income ratio, etc.\n",
        "Medical diagnosis: Predicting the likelihood of a disease based on continuous measurements like blood pressure, cholesterol levels, body temperature, etc.\n",
        "When to Consider Other Variants\n",
        "\n",
        "Multinomial Naïve Bayes: If your dataset contains discrete count data, such as word frequencies in text classification, Multinomial Naïve Bayes is more appropriate.\n",
        "Bernoulli Naïve Bayes: If your dataset has binary or boolean features, representing the presence or absence of certain characteristics, Bernoulli Naïve Bayes is the better choice."
      ],
      "metadata": {
        "id": "atsZZ0lpE-6c"
      }
    },
    {
      "cell_type": "markdown",
      "source": [
        "16. What are the key assumptions made by Naïve Bayes4\n",
        "\n",
        "\n",
        "\n",
        "ans:-Key Assumptions of Naïve Bayes\n",
        "\n",
        "The Naïve Bayes classifier makes the following key assumptions:\n",
        "\n",
        "Feature Independence: This is the most important assumption. Naïve Bayes assumes that the presence or absence of one feature does not affect the presence or absence of any other feature. In other words, features are considered to be independent of each other, given the class label.\n",
        "\n",
        "Why it's called \"Naïve\": This assumption is often unrealistic in real-world scenarios, as features are often correlated. However, it simplifies the calculations and surprisingly often leads to good results, hence the name \"naïve.\"\n",
        "Equal Importance of Features: Naïve Bayes assumes that all features contribute equally to the classification process. This means that the algorithm does not prioritize any specific feature over others.\n",
        "\n",
        "In practice: While this assumption might not always hold true, Naïve Bayes can still perform well even when features have varying importance.\n",
        "Data Distribution: Depending on the specific variant of Naïve Bayes (Gaussian, Multinomial, Bernoulli), there are assumptions about the distribution of the features.\n",
        "\n",
        "Gaussian Naïve Bayes: Assumes that continuous features follow a Gaussian (normal) distribution.\n",
        "Multinomial Naïve Bayes: Assumes that features represent the frequency of discrete events and follow a multinomial distribution.\n",
        "Bernoulli Naïve Bayes: Assumes that features are binary and follow a Bernoulli distribution.\n",
        "Implications of the Assumptions\n",
        "\n",
        "Simplicity and Efficiency: The feature independence assumption makes Naïve Bayes computationally efficient, as it simplifies the probability calculations.\n",
        "Robustness to Irrelevant Features: The equal importance assumption makes Naïve Bayes relatively robust to irrelevant features, as it treats all features equally.\n",
        "Limitations: The naive assumptions can be a limitation in some cases, especially when features are highly correlated or have significantly different importance."
      ],
      "metadata": {
        "id": "-IoLvcErFIOH"
      }
    },
    {
      "cell_type": "markdown",
      "source": [
        "17. What are the advantages and disadvantages of Naïve Bayes4\n",
        "\n",
        "\n",
        "ans:-Advantages of Naïve Bayes\n",
        "\n",
        "Simplicity and Ease of Implementation: Naïve Bayes is a relatively simple algorithm to understand and implement. It has a straightforward probabilistic framework based on Bayes' Theorem. This makes it easy to develop and deploy Naïve Bayes models quickly.\n",
        "\n",
        "Computational Efficiency: Naïve Bayes is computationally efficient, especially for training. The training process typically involves calculating probabilities and counting frequencies, which can be done quickly. This makes Naïve Bayes suitable for large datasets and real-time applications.\n",
        "\n",
        "Good Performance with High-Dimensional Data: Naïve Bayes can perform well even with high-dimensional data, where the number of features is large. This is because the algorithm makes the simplifying assumption of feature independence, which reduces the complexity of the model.\n",
        "\n",
        "Robustness to Irrelevant Features: Naïve Bayes is relatively robust to irrelevant features. Since it treats all features independently and equally, the presence of irrelevant features does not significantly affect the model's performance.\n",
        "\n",
        "Suitable for Text Classification: Naïve Bayes has been widely used and proven effective for text classification tasks, such as spam filtering, sentiment analysis, and document categorization. Its ability to handle discrete features like word frequencies makes it well-suited for text data.\n",
        "\n",
        "Disadvantages of Naïve Bayes\n",
        "\n",
        "The \"Naïve\" Assumption: The main disadvantage of Naïve Bayes is its strong assumption of feature independence. In real-world data, features are often correlated, and this assumption can be violated. This can lead to suboptimal performance in some cases.\n",
        "\n",
        "Sensitivity to Feature Scaling: Naïve Bayes can be sensitive to the scaling of features. If features have different scales, it can affect the calculation of probabilities and impact the model's performance. It's often recommended to normalize or standardize features before applying Naïve Bayes.\n",
        "\n",
        "Zero-Frequency Problem: Naïve Bayes can encounter the \"zero-frequency problem\" when a feature value that was not observed in the training data appears in the test data. This can lead to zero probabilities, which can disrupt the calculations. Smoothing techniques like Laplace smoothing are often used to address this issue.\n",
        "\n",
        "Limited Expressiveness: Naïve Bayes is a relatively simple model and may not be able to capture complex relationships between features and the target variable. For highly non-linear or complex datasets, more sophisticated algorithms might be more suitable."
      ],
      "metadata": {
        "id": "ec_BCv0BFfpi"
      }
    },
    {
      "cell_type": "markdown",
      "source": [
        "18. Why is Naïve Bayes a good choice for text classification4\n",
        "\n",
        "\n",
        "\n",
        "ans:-Why Naïve Bayes is Well-Suited for Text Classification\n",
        "\n",
        "Naïve Bayes has several characteristics that make it a popular and effective algorithm for text classification tasks:\n",
        "\n",
        "Feature Independence Assumption: While the assumption of feature independence might seem unrealistic for text data (where words are often related), it surprisingly works well in practice. This is because, in text classification, the presence or absence of a word often provides enough information for classification, even if it's not completely independent of other words.\n",
        "\n",
        "High-Dimensional Data Handling: Text data is typically represented as high-dimensional vectors, where each dimension corresponds to a word or term in the vocabulary. Naïve Bayes handles high-dimensional data efficiently due to its simple probabilistic framework and the feature independence assumption.\n",
        "\n",
        "Fast Training and Prediction: Naïve Bayes is computationally efficient, both for training and prediction. This is crucial for text classification tasks, which often involve large datasets and require quick processing.\n",
        "\n",
        "Good Performance with Sparse Data: Text data is often sparse, meaning that most documents contain only a small fraction of the total vocabulary. Naïve Bayes performs well with sparse data because it focuses on the presence or absence of individual words rather than complex relationships between them.\n",
        "\n",
        "Effective for Specific Text Classification Tasks: Naïve Bayes has been shown to be particularly effective for certain text classification tasks, such as:\n",
        "\n",
        "Spam filtering: Identifying spam emails based on the presence of certain words or phrases.\n",
        "Sentiment analysis: Classifying text as positive, negative, or neutral based on the emotional tone of the words used.\n",
        "Document categorization: Assigning documents to predefined categories based on their content.\n",
        "Easy to Implement and Interpret: Naïve Bayes is relatively easy to implement and understand, making it a good choice for beginners in text classification. The probabilistic nature of the algorithm also makes it relatively easy to interpret the results and understand why a particular document was classified into a specific category.\n",
        "\n"
      ],
      "metadata": {
        "id": "KPipVs8oFpeF"
      }
    },
    {
      "cell_type": "markdown",
      "source": [
        "19. Compare SVM and Naïve Bayes for classification tasks:\n",
        "\n",
        "\n",
        "\n",
        "ans:-Okay, let's compare SVM and Naïve Bayes for classification tasks:\n",
        "\n",
        "Both SVM and Naïve Bayes are popular algorithms for classification, but they differ in their underlying principles and approaches. Here's a comparison:\n",
        "\n",
        "Feature\tSVM\tNaïve Bayes\n",
        "Underlying Principle\tGeometric (finds optimal hyperplane)\tProbabilistic (based on Bayes' Theorem)\n",
        "Data Distribution\tMakes no assumptions about data distribution\tAssumes features are independent and follow a specific distribution (Gaussian, Multinomial, Bernoulli)\n",
        "Model Complexity\tCan handle complex relationships, especially with non-linear kernels\tRelatively simpler model\n",
        "Computational Cost\tCan be computationally expensive for large datasets, especially with non-linear kernels\tGenerally faster and more efficient\n",
        "Interpretability\tLess interpretable, especially with non-linear kernels\tMore interpretable due to probabilistic nature\n",
        "Handling High-Dimensional Data\tEffective in high-dimensional spaces\tCan handle high-dimensional data, but may suffer from the curse of dimensionality\n",
        "Sensitivity to Outliers\tLess sensitive to outliers, especially with soft margin\tCan be sensitive to outliers\n",
        "Text Classification\tOften used for text classification, but may require careful feature engineering\tWidely used and effective for text classification, especially with appropriate feature representation\n",
        "Strengths\tEffective in high-dimensional spaces, handles complex relationships, robust to outliers\tSimple, fast, efficient, good for text classification\n",
        "Weaknesses\tCan be computationally expensive, less interpretable\tNaïve assumption can limit performance, sensitive to irrelevant features\n",
        "In general:\n",
        "\n",
        "SVM: Often preferred when dealing with complex relationships in the data, especially in high-dimensional spaces, and when robustness to outliers is important.\n",
        "Naïve Bayes: A good choice for simpler classification tasks, especially with text data, where speed and efficiency are crucial.\n",
        "Choosing between SVM and Naïve Bayes:\n",
        "\n",
        "The best choice depends on the specific characteristics of your dataset and the requirements of your classification problem.\n",
        "\n",
        "If you have a large dataset with complex relationships and need a robust model, SVM might be a better option.\n",
        "If you need a fast and efficient model, especially for text classification, Naïve Bayes could be a good choice.\n",
        "It's often recommended to experiment with both algorithms and compare their performance using techniques like cross-validation to determine the best approach for your specific task."
      ],
      "metadata": {
        "id": "peBabiaMFzKY"
      }
    },
    {
      "cell_type": "markdown",
      "source": [
        "20. How does Laplace Smoothing help in Naïve Bayes?\n",
        "\n",
        "\n",
        "ans:-Laplace Smoothing: Addressing the Zero-Frequency Problem\n",
        "\n",
        "In Naïve Bayes, the likelihood of observing a feature given a class is calculated using the frequency of that feature in the training data for that class. However, if a feature value is not observed in the training data for a particular class, its likelihood becomes zero. This can cause problems during prediction, as the posterior probability for that class will also become zero, regardless of other features.\n",
        "\n",
        "The Zero-Frequency Problem\n",
        "\n",
        "This issue is known as the \"zero-frequency problem\" and can significantly impact the performance of Naïve Bayes. It essentially prevents the classifier from considering unseen feature values during prediction.\n",
        "\n",
        "Laplace Smoothing to the Rescue\n",
        "\n",
        "Laplace Smoothing (also known as add-one smoothing) is a technique used to address the zero-frequency problem in Naïve Bayes. It works by adding a small positive value (usually 1) to the count of each feature value in the training data, including those that were not observed. This ensures that no feature value has a zero likelihood.\n",
        "\n",
        "How it Works\n",
        "\n",
        "The formula for calculating the likelihood with Laplace smoothing is:\n",
        "\n",
        "\n",
        "P(feature|class) = (count(feature, class) + alpha) / (count(class) + alpha * num_features)\n",
        "Use code with caution\n",
        "where:\n",
        "\n",
        "count(feature, class) is the number of times the feature appears in the training data for the given class.\n",
        "count(class) is the total number of instances belonging to the given class.\n",
        "alpha is the smoothing parameter (usually set to 1 for Laplace smoothing).\n",
        "num_features is the total number of features.\n",
        "Benefits of Laplace Smoothing\n",
        "\n",
        "Handles Zero-Frequency Problem: By adding a small value to the counts, Laplace smoothing ensures that no likelihood becomes zero, allowing the classifier to consider unseen feature values during prediction.\n",
        "Improves Model Performance: This can significantly improve the performance of Naïve Bayes, especially when dealing with datasets where some feature values are rare or unseen in the training data.\n",
        "Provides a Prior: Laplace smoothing can be interpreted as introducing a prior belief that all feature values have a small probability of occurring, even if they were not observed in the training data."
      ],
      "metadata": {
        "id": "4KVNpzxPGAgq"
      }
    },
    {
      "cell_type": "markdown",
      "source": [
        "practical"
      ],
      "metadata": {
        "id": "78ZmsIHXGJ3s"
      }
    },
    {
      "cell_type": "markdown",
      "source": [
        "21. Write a Python program to train an SVM Classifier on the Iris dataset and evaluate accuracy:\n",
        "\n",
        "\n",
        "\n",
        "ans:-"
      ],
      "metadata": {
        "id": "2FY0sZAOGMAp"
      }
    },
    {
      "source": [
        "from sklearn.datasets import load_iris\n",
        "from sklearn.model_selection import train_test_split\n",
        "from sklearn.svm import SVC\n",
        "from sklearn.metrics import accuracy_score\n",
        "\n",
        "# Load the Iris dataset\n",
        "iris = load_iris()\n",
        "X = iris.data  # Features\n",
        "y = iris.target  # Target variable\n",
        "\n",
        "# Split the data into training and testing sets\n",
        "X_train, X_test, y_train, y_test = train_test_split(X, y, test_size=0.3, random_state=42)\n",
        "\n",
        "# Create an SVM classifier object\n",
        "svm_classifier = SVC(kernel='linear')  # You can choose different kernels like 'rbf', 'poly', etc.\n",
        "\n",
        "# Train the classifier\n",
        "svm_classifier.fit(X_train, y_train)\n",
        "\n",
        "# Make predictions on the test set\n",
        "y_pred = svm_classifier.predict(X_test)\n",
        "\n",
        "# Evaluate accuracy\n",
        "accuracy = accuracy_score(y_test, y_pred)\n",
        "print(\"Accuracy:\", accuracy)"
      ],
      "cell_type": "code",
      "metadata": {
        "colab": {
          "base_uri": "https://localhost:8080/"
        },
        "id": "W-OAJYh8GaxI",
        "outputId": "db16ce17-3aa4-46fc-fe36-2a019cccb7f2"
      },
      "execution_count": 1,
      "outputs": [
        {
          "output_type": "stream",
          "name": "stdout",
          "text": [
            "Accuracy: 1.0\n"
          ]
        }
      ]
    },
    {
      "cell_type": "markdown",
      "source": [
        "22. Write a Python program to train two SVM classifiers with Linear and RBF kernels on the Wine dataset, then compare their accuracies:\n",
        "\n",
        "\n",
        "ans:-"
      ],
      "metadata": {
        "id": "A6pxpRNrGfrw"
      }
    },
    {
      "source": [
        "from sklearn.datasets import load_wine\n",
        "from sklearn.model_selection import train_test_split\n",
        "from sklearn.svm import SVC\n",
        "from sklearn.metrics import accuracy_score\n",
        "\n",
        "# Load the Wine dataset\n",
        "wine = load_wine()\n",
        "X = wine.data  # Features\n",
        "y = wine.target  # Target variable\n",
        "\n",
        "# Split the data into training and testing sets\n",
        "X_train, X_test, y_train, y_test = train_test_split(X, y, test_size=0.3, random_state=42)\n",
        "\n",
        "# Create SVM classifiers with Linear and RBF kernels\n",
        "svm_linear = SVC(kernel='linear')\n",
        "svm_rbf = SVC(kernel='rbf')\n",
        "\n",
        "# Train the classifiers\n",
        "svm_linear.fit(X_train, y_train)\n",
        "svm_rbf.fit(X_train, y_train)\n",
        "\n",
        "# Make predictions on the test set\n",
        "y_pred_linear = svm_linear.predict(X_test)\n",
        "y_pred_rbf = svm_rbf.predict(X_test)\n",
        "\n",
        "# Evaluate accuracies\n",
        "accuracy_linear = accuracy_score(y_test, y_pred_linear)\n",
        "accuracy_rbf = accuracy_score(y_test, y_pred_rbf)\n",
        "\n",
        "# Print accuracies\n",
        "print(\"Accuracy (Linear Kernel):\", accuracy_linear)\n",
        "print(\"Accuracy (RBF Kernel):\", accuracy_rbf)"
      ],
      "cell_type": "code",
      "metadata": {
        "colab": {
          "base_uri": "https://localhost:8080/"
        },
        "id": "WuKdkv9IGpMf",
        "outputId": "fba4621c-ed6b-44a9-f0b8-e96bdbf4600e"
      },
      "execution_count": 2,
      "outputs": [
        {
          "output_type": "stream",
          "name": "stdout",
          "text": [
            "Accuracy (Linear Kernel): 0.9814814814814815\n",
            "Accuracy (RBF Kernel): 0.7592592592592593\n"
          ]
        }
      ]
    },
    {
      "cell_type": "markdown",
      "source": [
        "23. Write a Python program to train an SVM Regressor (SVR) on a housing dataset and evaluate it using Mean Squared Error (MSE):\n",
        "\n",
        "\n",
        "ans:-"
      ],
      "metadata": {
        "id": "zobPmMKOGqrP"
      }
    },
    {
      "source": [
        "from sklearn.datasets import fetch_california_housing\n",
        "from sklearn.model_selection import train_test_split\n",
        "from sklearn.svm import SVR\n",
        "from sklearn.metrics import mean_squared_error\n",
        "\n",
        "# Load the California housing dataset\n",
        "housing = fetch_california_housing()\n",
        "X = housing.data  # Features\n",
        "y = housing.target  # Target variable (house prices)\n",
        "\n",
        "# Split the data into training and testing sets\n",
        "X_train, X_test, y_train, y_test = train_test_split(X, y, test_size=0.3, random_state=42)\n",
        "\n",
        "# Create an SVR object\n",
        "svr_regressor = SVR(kernel='linear')  # You can choose different kernels like 'rbf', 'poly', etc.\n",
        "\n",
        "# Train the regressor\n",
        "svr_regressor.fit(X_train, y_train)\n",
        "\n",
        "# Make predictions on the test set\n",
        "y_pred = svr_regressor.predict(X_test)\n",
        "\n",
        "# Evaluate using Mean Squared Error (MSE)\n",
        "mse = mean_squared_error(y_test, y_pred)\n",
        "print(\"Mean Squared Error (MSE):\", mse)"
      ],
      "cell_type": "code",
      "metadata": {
        "id": "qvmW6aOIGyZ2"
      },
      "execution_count": null,
      "outputs": []
    },
    {
      "cell_type": "markdown",
      "source": [
        "24. Write a Python program to train an SVM Classifier with a Polynomial Kernel and visualize the decision boundary:\n",
        "\n",
        "\n",
        "ans:-"
      ],
      "metadata": {
        "id": "Dbzn0R4sIRrD"
      }
    },
    {
      "source": [
        "import numpy as np\n",
        "import matplotlib.pyplot as plt\n",
        "from sklearn import datasets\n",
        "from sklearn.model_selection import train_test_split\n",
        "from sklearn.svm import SVC\n",
        "\n",
        "# Load the Iris dataset (for simplicity, we'll use only 2 features)\n",
        "iris = datasets.load_iris()\n",
        "X = iris.data[:, :2]  # Take only the first two features\n",
        "y = iris.target\n",
        "\n",
        "# Split the data into training and testing sets\n",
        "X_train, X_test, y_train, y_test = train_test_split(X, y, test_size=0.3, random_state=42)\n",
        "\n",
        "# Create an SVM classifier with a Polynomial kernel\n",
        "svm_classifier = SVC(kernel='poly', degree=3, coef0=1)  # degree: polynomial degree, coef0: independent term\n",
        "\n",
        "# Train the classifier\n",
        "svm_classifier.fit(X_train, y_train)\n",
        "\n",
        "# Create a meshgrid to plot the decision boundary\n",
        "x_min, x_max = X[:, 0].min() - 1, X[:, 0].max() + 1\n",
        "y_min, y_max = X[:, 1].min() - 1, X[:, 1].max() + 1\n",
        "xx, yy = np.meshgrid(np.arange(x_min, x_max, 0.02), np.arange(y_min, y_max, 0.02))\n",
        "\n",
        "# Predict the class labels for the meshgrid points\n",
        "Z = svm_classifier.predict(np.c_[xx.ravel(), yy.ravel()])\n",
        "Z = Z.reshape(xx.shape)\n",
        "\n",
        "# Plot the decision boundary and data points\n",
        "plt.contourf(xx, yy, Z, cmap=plt.cm.coolwarm, alpha=0.8)\n",
        "plt.scatter(X[:, 0], X[:, 1], c=y, cmap=plt.cm.coolwarm, edgecolors='k')\n",
        "plt.xlabel('Sepal length')\n",
        "plt.ylabel('Sepal width')\n",
        "plt.title('SVM Decision Boundary (Polynomial Kernel)')\n",
        "plt.show()"
      ],
      "cell_type": "code",
      "metadata": {
        "colab": {
          "base_uri": "https://localhost:8080/",
          "height": 472
        },
        "id": "N4imbKJjIKgc",
        "outputId": "2abfe2ea-fe44-49fb-a0cb-224e73998dbb"
      },
      "execution_count": 1,
      "outputs": [
        {
          "output_type": "display_data",
          "data": {
            "text/plain": [
              "<Figure size 640x480 with 1 Axes>"
            ],
            "image/png": "[encoded data removed]"
          },
          "metadata": {}
        }
      ]
    },
    {
      "cell_type": "markdown",
      "source": [
        "25. Write a Python program to train a Gaussian Naïve Bayes classifier on the Breast Cancer dataset and\n",
        "evaluate accuracy:\n",
        "\n",
        "\n",
        "ans:-"
      ],
      "metadata": {
        "id": "UrMUXw1gIT_V"
      }
    },
    {
      "source": [
        "from sklearn.datasets import load_breast_cancer\n",
        "from sklearn.model_selection import train_test_split\n",
        "from sklearn.naive_bayes import GaussianNB\n",
        "from sklearn.metrics import accuracy_score\n",
        "\n",
        "# Load the Breast Cancer dataset\n",
        "breast_cancer = load_breast_cancer()\n",
        "X = breast_cancer.data  # Features\n",
        "y = breast_cancer.target  # Target variable (malignant or benign)\n",
        "\n",
        "# Split the data into training and testing sets\n",
        "X_train, X_test, y_train, y_test = train_test_split(X, y, test_size=0.3, random_state=42)\n",
        "\n",
        "# Create a Gaussian Naïve Bayes classifier object\n",
        "gnb_classifier = GaussianNB()\n",
        "\n",
        "# Train the classifier\n",
        "gnb_classifier.fit(X_train, y_train)\n",
        "\n",
        "# Make predictions on the test set\n",
        "y_pred = gnb_classifier.predict(X_test)\n",
        "\n",
        "# Evaluate accuracy\n",
        "accuracy = accuracy_score(y_test, y_pred)\n",
        "print(\"Accuracy:\", accuracy)"
      ],
      "cell_type": "code",
      "metadata": {
        "colab": {
          "base_uri": "https://localhost:8080/"
        },
        "id": "MQmB63JyIiNy",
        "outputId": "fcce59f1-3ae2-488c-9abb-41b5b8bbced7"
      },
      "execution_count": 2,
      "outputs": [
        {
          "output_type": "stream",
          "name": "stdout",
          "text": [
            "Accuracy: 0.9415204678362573\n"
          ]
        }
      ]
    },
    {
      "cell_type": "markdown",
      "source": [
        "26. Write a Python program to train a Multinomial Naïve Bayes classifier for text classification using the 20 Newsgroups dataset.\n",
        "\n",
        "\n",
        "ans:-"
      ],
      "metadata": {
        "id": "7O8d8nNkIjdb"
      }
    },
    {
      "source": [
        "from sklearn.datasets import fetch_20newsgroups\n",
        "from sklearn.feature_extraction.text import TfidfVectorizer\n",
        "from sklearn.naive_bayes import MultinomialNB\n",
        "from sklearn.pipeline import make_pipeline\n",
        "from sklearn.metrics import accuracy_score\n",
        "\n",
        "# Load the 20 Newsgroups dataset\n",
        "categories = ['alt.atheism', 'talk.religion.misc', 'comp.graphics', 'sci.space']\n",
        "newsgroups_train = fetch_20newsgroups(subset='train', categories=categories)\n",
        "newsgroups_test = fetch_20newsgroups(subset='test', categories=categories)\n",
        "\n",
        "# Create a pipeline with TF-IDF vectorizer and Multinomial Naïve Bayes classifier\n",
        "model = make_pipeline(TfidfVectorizer(), MultinomialNB())\n",
        "\n",
        "# Train the model\n",
        "model.fit(newsgroups_train.data, newsgroups_train.target)\n",
        "\n",
        "# Make predictions on the test set\n",
        "predicted = model.predict(newsgroups_test.data)\n",
        "\n",
        "# Evaluate accuracy\n",
        "accuracy = accuracy_score(newsgroups_test.target, predicted)\n",
        "print(\"Accuracy:\", accuracy)"
      ],
      "cell_type": "code",
      "metadata": {
        "colab": {
          "base_uri": "https://localhost:8080/",
          "height": 442
        },
        "id": "srIsdVWqIxDa",
        "outputId": "92d22243-b5c8-4eab-e977-2e19207c8e00"
      },
      "execution_count": 3,
      "outputs": [
        {
          "output_type": "error",
          "ename": "KeyboardInterrupt",
          "evalue": "encoding with 'zlib_codec' codec failed (KeyboardInterrupt: )",
          "traceback": [
            "\u001b[0;31m---------------------------------------------------------------------------\u001b[0m",
            "\u001b[0;31mKeyboardInterrupt\u001b[0m                         Traceback (most recent call last)",
            "\u001b[0;32m/usr/lib/python3.11/encodings/zlib_codec.py\u001b[0m in \u001b[0;36mzlib_encode\u001b[0;34m(input, errors)\u001b[0m\n\u001b[1;32m     14\u001b[0m     \u001b[0;32massert\u001b[0m \u001b[0merrors\u001b[0m \u001b[0;34m==\u001b[0m \u001b[0;34m'strict'\u001b[0m\u001b[0;34m\u001b[0m\u001b[0;34m\u001b[0m\u001b[0m\n\u001b[0;32m---> 15\u001b[0;31m     \u001b[0;32mreturn\u001b[0m \u001b[0;34m(\u001b[0m\u001b[0mzlib\u001b[0m\u001b[0;34m.\u001b[0m\u001b[0mcompress\u001b[0m\u001b[0;34m(\u001b[0m\u001b[0minput\u001b[0m\u001b[0;34m)\u001b[0m\u001b[0;34m,\u001b[0m \u001b[0mlen\u001b[0m\u001b[0;34m(\u001b[0m\u001b[0minput\u001b[0m\u001b[0;34m)\u001b[0m\u001b[0;34m)\u001b[0m\u001b[0;34m\u001b[0m\u001b[0;34m\u001b[0m\u001b[0m\n\u001b[0m\u001b[1;32m     16\u001b[0m \u001b[0;34m\u001b[0m\u001b[0m\n",
            "\u001b[0;31mKeyboardInterrupt\u001b[0m: ",
            "\nThe above exception was the direct cause of the following exception:\n",
            "\u001b[0;31mKeyboardInterrupt\u001b[0m                         Traceback (most recent call last)",
            "\u001b[0;32m<ipython-input-3-2f905f357e0f>\u001b[0m in \u001b[0;36m<cell line: 0>\u001b[0;34m()\u001b[0m\n\u001b[1;32m      7\u001b[0m \u001b[0;31m# Load the 20 Newsgroups dataset\u001b[0m\u001b[0;34m\u001b[0m\u001b[0;34m\u001b[0m\u001b[0m\n\u001b[1;32m      8\u001b[0m \u001b[0mcategories\u001b[0m \u001b[0;34m=\u001b[0m \u001b[0;34m[\u001b[0m\u001b[0;34m'alt.atheism'\u001b[0m\u001b[0;34m,\u001b[0m \u001b[0;34m'talk.religion.misc'\u001b[0m\u001b[0;34m,\u001b[0m \u001b[0;34m'comp.graphics'\u001b[0m\u001b[0;34m,\u001b[0m \u001b[0;34m'sci.space'\u001b[0m\u001b[0;34m]\u001b[0m\u001b[0;34m\u001b[0m\u001b[0;34m\u001b[0m\u001b[0m\n\u001b[0;32m----> 9\u001b[0;31m \u001b[0mnewsgroups_train\u001b[0m \u001b[0;34m=\u001b[0m \u001b[0mfetch_20newsgroups\u001b[0m\u001b[0;34m(\u001b[0m\u001b[0msubset\u001b[0m\u001b[0;34m=\u001b[0m\u001b[0;34m'train'\u001b[0m\u001b[0;34m,\u001b[0m \u001b[0mcategories\u001b[0m\u001b[0;34m=\u001b[0m\u001b[0mcategories\u001b[0m\u001b[0;34m)\u001b[0m\u001b[0;34m\u001b[0m\u001b[0;34m\u001b[0m\u001b[0m\n\u001b[0m\u001b[1;32m     10\u001b[0m \u001b[0mnewsgroups_test\u001b[0m \u001b[0;34m=\u001b[0m \u001b[0mfetch_20newsgroups\u001b[0m\u001b[0;34m(\u001b[0m\u001b[0msubset\u001b[0m\u001b[0;34m=\u001b[0m\u001b[0;34m'test'\u001b[0m\u001b[0;34m,\u001b[0m \u001b[0mcategories\u001b[0m\u001b[0;34m=\u001b[0m\u001b[0mcategories\u001b[0m\u001b[0;34m)\u001b[0m\u001b[0;34m\u001b[0m\u001b[0;34m\u001b[0m\u001b[0m\n\u001b[1;32m     11\u001b[0m \u001b[0;34m\u001b[0m\u001b[0m\n",
            "\u001b[0;32m/usr/local/lib/python3.11/dist-packages/sklearn/utils/_param_validation.py\u001b[0m in \u001b[0;36mwrapper\u001b[0;34m(*args, **kwargs)\u001b[0m\n\u001b[1;32m    214\u001b[0m                     )\n\u001b[1;32m    215\u001b[0m                 ):\n\u001b[0;32m--> 216\u001b[0;31m                     \u001b[0;32mreturn\u001b[0m \u001b[0mfunc\u001b[0m\u001b[0;34m(\u001b[0m\u001b[0;34m*\u001b[0m\u001b[0margs\u001b[0m\u001b[0;34m,\u001b[0m \u001b[0;34m**\u001b[0m\u001b[0mkwargs\u001b[0m\u001b[0;34m)\u001b[0m\u001b[0;34m\u001b[0m\u001b[0;34m\u001b[0m\u001b[0m\n\u001b[0m\u001b[1;32m    217\u001b[0m             \u001b[0;32mexcept\u001b[0m \u001b[0mInvalidParameterError\u001b[0m \u001b[0;32mas\u001b[0m \u001b[0me\u001b[0m\u001b[0;34m:\u001b[0m\u001b[0;34m\u001b[0m\u001b[0;34m\u001b[0m\u001b[0m\n\u001b[1;32m    218\u001b[0m                 \u001b[0;31m# When the function is just a wrapper around an estimator, we allow\u001b[0m\u001b[0;34m\u001b[0m\u001b[0;34m\u001b[0m\u001b[0m\n",
            "\u001b[0;32m/usr/local/lib/python3.11/dist-packages/sklearn/datasets/_twenty_newsgroups.py\u001b[0m in \u001b[0;36mfetch_20newsgroups\u001b[0;34m(data_home, subset, categories, shuffle, random_state, remove, download_if_missing, return_X_y, n_retries, delay)\u001b[0m\n\u001b[1;32m    318\u001b[0m         \u001b[0;32mif\u001b[0m \u001b[0mdownload_if_missing\u001b[0m\u001b[0;34m:\u001b[0m\u001b[0;34m\u001b[0m\u001b[0;34m\u001b[0m\u001b[0m\n\u001b[1;32m    319\u001b[0m             \u001b[0mlogger\u001b[0m\u001b[0;34m.\u001b[0m\u001b[0minfo\u001b[0m\u001b[0;34m(\u001b[0m\u001b[0;34m\"Downloading 20news dataset. This may take a few minutes.\"\u001b[0m\u001b[0;34m)\u001b[0m\u001b[0;34m\u001b[0m\u001b[0;34m\u001b[0m\u001b[0m\n\u001b[0;32m--> 320\u001b[0;31m             cache = _download_20newsgroups(\n\u001b[0m\u001b[1;32m    321\u001b[0m                 \u001b[0mtarget_dir\u001b[0m\u001b[0;34m=\u001b[0m\u001b[0mtwenty_home\u001b[0m\u001b[0;34m,\u001b[0m\u001b[0;34m\u001b[0m\u001b[0;34m\u001b[0m\u001b[0m\n\u001b[1;32m    322\u001b[0m                 \u001b[0mcache_path\u001b[0m\u001b[0;34m=\u001b[0m\u001b[0mcache_path\u001b[0m\u001b[0;34m,\u001b[0m\u001b[0;34m\u001b[0m\u001b[0;34m\u001b[0m\u001b[0m\n",
            "\u001b[0;32m/usr/local/lib/python3.11/dist-packages/sklearn/datasets/_twenty_newsgroups.py\u001b[0m in \u001b[0;36m_download_20newsgroups\u001b[0;34m(target_dir, cache_path, n_retries, delay)\u001b[0m\n\u001b[1;32m     93\u001b[0m         \u001b[0mtest\u001b[0m\u001b[0;34m=\u001b[0m\u001b[0mload_files\u001b[0m\u001b[0;34m(\u001b[0m\u001b[0mtest_path\u001b[0m\u001b[0;34m,\u001b[0m \u001b[0mencoding\u001b[0m\u001b[0;34m=\u001b[0m\u001b[0;34m\"latin1\"\u001b[0m\u001b[0;34m)\u001b[0m\u001b[0;34m,\u001b[0m\u001b[0;34m\u001b[0m\u001b[0;34m\u001b[0m\u001b[0m\n\u001b[1;32m     94\u001b[0m     )\n\u001b[0;32m---> 95\u001b[0;31m     \u001b[0mcompressed_content\u001b[0m \u001b[0;34m=\u001b[0m \u001b[0mcodecs\u001b[0m\u001b[0;34m.\u001b[0m\u001b[0mencode\u001b[0m\u001b[0;34m(\u001b[0m\u001b[0mpickle\u001b[0m\u001b[0;34m.\u001b[0m\u001b[0mdumps\u001b[0m\u001b[0;34m(\u001b[0m\u001b[0mcache\u001b[0m\u001b[0;34m)\u001b[0m\u001b[0;34m,\u001b[0m \u001b[0;34m\"zlib_codec\"\u001b[0m\u001b[0;34m)\u001b[0m\u001b[0;34m\u001b[0m\u001b[0;34m\u001b[0m\u001b[0m\n\u001b[0m\u001b[1;32m     96\u001b[0m     \u001b[0;32mwith\u001b[0m \u001b[0mopen\u001b[0m\u001b[0;34m(\u001b[0m\u001b[0mcache_path\u001b[0m\u001b[0;34m,\u001b[0m \u001b[0;34m\"wb\"\u001b[0m\u001b[0;34m)\u001b[0m \u001b[0;32mas\u001b[0m \u001b[0mf\u001b[0m\u001b[0;34m:\u001b[0m\u001b[0;34m\u001b[0m\u001b[0;34m\u001b[0m\u001b[0m\n\u001b[1;32m     97\u001b[0m         \u001b[0mf\u001b[0m\u001b[0;34m.\u001b[0m\u001b[0mwrite\u001b[0m\u001b[0;34m(\u001b[0m\u001b[0mcompressed_content\u001b[0m\u001b[0;34m)\u001b[0m\u001b[0;34m\u001b[0m\u001b[0;34m\u001b[0m\u001b[0m\n",
            "\u001b[0;31mKeyboardInterrupt\u001b[0m: encoding with 'zlib_codec' codec failed (KeyboardInterrupt: )"
          ]
        }
      ]
    },
    {
      "cell_type": "markdown",
      "source": [
        "27. Write a Python program to train an SVM Classifier with different C values and compare the decision\n",
        "boundaries visually=\n",
        "\n",
        "\n",
        "ans:-"
      ],
      "metadata": {
        "id": "E1FW8s4IIyi9"
      }
    },
    {
      "source": [
        "import numpy as np\n",
        "import matplotlib.pyplot as plt\n",
        "from sklearn import datasets\n",
        "from sklearn.model_selection import train_test_split\n",
        "from sklearn.svm import SVC\n",
        "\n",
        "# Load the Iris dataset (for simplicity, we'll use only 2 features)\n",
        "iris = datasets.load_iris()\n",
        "X = iris.data[:, :2]  # Take only the first two features\n",
        "y = iris.target\n",
        "\n",
        "# Split the data into training and testing sets\n",
        "X_train, X_test, y_train, y_test = train_test_split(X, y, test_size=0.3, random_state=42)\n",
        "\n",
        "# Define a list of C values to try\n",
        "C_values = [0.1, 1, 10, 100]\n",
        "\n",
        "# Create a figure and axes for plotting\n",
        "fig, axes = plt.subplots(2, 2, figsize=(10, 10))\n",
        "fig.suptitle('SVM Decision Boundaries with Different C Values')\n",
        "\n",
        "# Iterate over C values and train SVM classifiers\n",
        "for i, C in enumerate(C_values):\n",
        "    # Create an SVM classifier with the current C value\n",
        "    svm_classifier = SVC(kernel='linear', C=C)  # Use linear kernel for simplicity\n",
        "\n",
        "    # Train the classifier\n",
        "    svm_classifier.fit(X_train, y_train)\n",
        "\n",
        "    # Create a meshgrid to plot the decision boundary\n",
        "    x_min, x_max = X[:, 0].min() - 1, X[:, 0].max() + 1\n",
        "    y_min, y_max = X[:, 1].min() - 1, X[:, 1].max() + 1\n",
        "    xx, yy = np.meshgrid(np.arange(x_min, x_max, 0.02), np.arange(y_min, y_max, 0.02))\n",
        "\n",
        "    # Predict the class labels for the meshgrid points\n",
        "    Z = svm_classifier.predict(np.c_[xx.ravel(), yy.ravel()])\n",
        "    Z = Z.reshape(xx.shape)\n",
        "\n",
        "    # Plot the decision boundary and data points on the current subplot\n",
        "    ax = axes[i // 2, i % 2]\n",
        "    ax.contourf(xx, yy, Z, cmap=plt.cm.coolwarm, alpha=0.8)\n",
        "    ax.scatter(X[:, 0], X[:, 1], c=y, cmap=plt.cm.coolwarm, edgecolors='k')\n",
        "    ax.set_xlabel('Sepal length')\n",
        "    ax.set_ylabel('Sepal width')\n",
        "    ax.set_title(f'C = {C}')\n",
        "\n",
        "plt.tight_layout()\n",
        "plt.show()"
      ],
      "cell_type": "code",
      "metadata": {
        "colab": {
          "base_uri": "https://localhost:8080/",
          "height": 872
        },
        "id": "DJKq4VBGJIE_",
        "outputId": "c230d487-1628-4988-f363-7bcb1bdb2855"
      },
      "execution_count": 1,
      "outputs": [
        {
          "output_type": "display_data",
          "data": {
            "text/plain": [
              "<Figure size 1000x1000 with 4 Axes>"
            ],
            "image/png": "[encoded data removed]"
          },
          "metadata": {}
        }
      ]
    },
    {
      "cell_type": "markdown",
      "source": [
        "28. Write a Python program to train a Bernoulli Naïve Bayes classifier for binary classification on a dataset with\n",
        "binary features=\n",
        "\n",
        "\n",
        "ans:-"
      ],
      "metadata": {
        "id": "de-QFuZ-JLjR"
      }
    },
    {
      "source": [
        "import numpy as np\n",
        "from sklearn.naive_bayes import BernoulliNB\n",
        "from sklearn.model_selection import train_test_split\n",
        "from sklearn.metrics import accuracy_score\n",
        "\n",
        "# Generate a sample dataset with binary features (for demonstration)\n",
        "np.random.seed(42)\n",
        "X = np.random.randint(2, size=(100, 5))  # 100 samples, 5 binary features\n",
        "y = np.random.randint(2, size=100)  # Binary target variable\n",
        "\n",
        "# Split the data into training and testing sets\n",
        "X_train, X_test, y_train, y_test = train_test_split(X, y, test_size=0.3, random_state=42)\n",
        "\n",
        "# Create a Bernoulli Naïve Bayes classifier object\n",
        "bnb_classifier = BernoulliNB()\n",
        "\n",
        "# Train the classifier\n",
        "bnb_classifier.fit(X_train, y_train)\n",
        "\n",
        "# Make predictions on the test set\n",
        "y_pred = bnb_classifier.predict(X_test)\n",
        "\n",
        "# Evaluate accuracy\n",
        "accuracy = accuracy_score(y_test, y_pred)\n",
        "print(\"Accuracy:\", accuracy)"
      ],
      "cell_type": "code",
      "metadata": {
        "colab": {
          "base_uri": "https://localhost:8080/"
        },
        "id": "lNZuvpJJJS-J",
        "outputId": "b689d8bc-f436-423d-ec78-39f43dc92cbd"
      },
      "execution_count": 2,
      "outputs": [
        {
          "output_type": "stream",
          "name": "stdout",
          "text": [
            "Accuracy: 0.36666666666666664\n"
          ]
        }
      ]
    },
    {
      "cell_type": "markdown",
      "source": [
        "29. Write a Python program to apply feature scaling before training an SVM model and compare results with unscaled data=\n",
        "\n",
        "\n",
        "ans:-"
      ],
      "metadata": {
        "id": "qTLoDtSYJUVF"
      }
    },
    {
      "source": [
        "import numpy as np\n",
        "from sklearn.datasets import load_breast_cancer\n",
        "from sklearn.model_selection import train_test_split\n",
        "from sklearn.svm import SVC\n",
        "from sklearn.preprocessing import StandardScaler\n",
        "from sklearn.metrics import accuracy_score\n",
        "\n",
        "# Load the Breast Cancer dataset\n",
        "breast_cancer = load_breast_cancer()\n",
        "X = breast_cancer.data  # Features\n",
        "y = breast_cancer.target  # Target variable (malignant or benign)\n",
        "\n",
        "# Split the data into training and testing sets\n",
        "X_train, X_test, y_train, y_test = train_test_split(X, y, test_size=0.3, random_state=42)\n",
        "\n",
        "# Train SVM with unscaled data\n",
        "svm_unscaled = SVC(kernel='linear')  # Use linear kernel for simplicity\n",
        "svm_unscaled.fit(X_train, y_train)\n",
        "y_pred_unscaled = svm_unscaled.predict(X_test)\n",
        "accuracy_unscaled = accuracy_score(y_test, y_pred_unscaled)\n",
        "\n",
        "# Apply feature scaling using StandardScaler\n",
        "scaler = StandardScaler()\n",
        "X_train_scaled = scaler.fit_transform(X_train)\n",
        "X_test_scaled = scaler.transform(X_test)\n",
        "\n",
        "# Train SVM with scaled data\n",
        "svm_scaled = SVC(kernel='linear')\n",
        "svm_scaled.fit(X_train_scaled, y_train)\n",
        "y_pred_scaled = svm_scaled.predict(X_test_scaled)\n",
        "accuracy_scaled = accuracy_score(y_test, y_pred_scaled)\n",
        "\n",
        "# Print accuracies\n",
        "print(\"Accuracy (Unscaled Data):\", accuracy_unscaled)\n",
        "print(\"Accuracy (Scaled Data):\", accuracy_scaled)"
      ],
      "cell_type": "code",
      "metadata": {
        "colab": {
          "base_uri": "https://localhost:8080/"
        },
        "id": "zHsmWZJHJbnH",
        "outputId": "a37589d3-e9e4-4597-f622-fb5ee3a35398"
      },
      "execution_count": 3,
      "outputs": [
        {
          "output_type": "stream",
          "name": "stdout",
          "text": [
            "Accuracy (Unscaled Data): 0.9649122807017544\n",
            "Accuracy (Scaled Data): 0.9766081871345029\n"
          ]
        }
      ]
    },
    {
      "cell_type": "markdown",
      "source": [
        "30.Write a Python program to train a Gaussian Naïve Bayes model and compare the predictions before and\n",
        "after Laplace Smoothing=\n",
        "\n",
        "\n",
        "ans:-"
      ],
      "metadata": {
        "id": "FhHXyQJVJdI7"
      }
    },
    {
      "source": [
        "import numpy as np\n",
        "from sklearn.naive_bayes import GaussianNB\n",
        "from sklearn.model_selection import train_test_split\n",
        "from sklearn.datasets import load_iris\n",
        "\n",
        "# Load the Iris dataset\n",
        "iris = load_iris()\n",
        "X = iris.data\n",
        "y = iris.target\n",
        "\n",
        "# Split data into training and testing sets\n",
        "X_train, X_test, y_train, y_test = train_test_split(X, y, test_size=0.3, random_state=42)\n",
        "\n",
        "# Train Gaussian Naïve Bayes without smoothing\n",
        "gnb_no_smoothing = GaussianNB(var_smoothing=0)  # var_smoothing=0 disables smoothing\n",
        "gnb_no_smoothing.fit(X_train, y_train)\n",
        "y_pred_no_smoothing = gnb_no_smoothing.predict(X_test)\n",
        "\n",
        "# Train Gaussian Naïve Bayes with Laplace smoothing\n",
        "gnb_smoothing = GaussianNB()  # Default var_smoothing applies Laplace smoothing\n",
        "gnb_smoothing.fit(X_train, y_train)\n",
        "y_pred_smoothing = gnb_smoothing.predict(X_test)\n",
        "\n",
        "# Compare predictions\n",
        "print(\"Predictions without smoothing:\\n\", y_pred_no_smoothing)\n",
        "print(\"\\nPredictions with smoothing:\\n\", y_pred_smoothing)\n",
        "\n",
        "# You can further analyze the differences and evaluate performance using metrics\n",
        "# like accuracy, precision, recall, etc."
      ],
      "cell_type": "code",
      "metadata": {
        "colab": {
          "base_uri": "https://localhost:8080/"
        },
        "id": "JgyQHOqFJmFU",
        "outputId": "aeed5713-bf86-4ed2-ee44-6962857d1e88"
      },
      "execution_count": 4,
      "outputs": [
        {
          "output_type": "stream",
          "name": "stdout",
          "text": [
            "Predictions without smoothing:\n",
            " [1 0 2 1 1 0 1 2 1 1 2 0 0 0 0 2 2 1 1 2 0 2 0 2 2 2 2 2 0 0 0 0 1 0 0 2 1\n",
            " 0 0 0 2 1 1 0 0]\n",
            "\n",
            "Predictions with smoothing:\n",
            " [1 0 2 1 1 0 1 2 1 1 2 0 0 0 0 2 2 1 1 2 0 2 0 2 2 2 2 2 0 0 0 0 1 0 0 2 1\n",
            " 0 0 0 2 1 1 0 0]\n"
          ]
        }
      ]
    },
    {
      "cell_type": "markdown",
      "source": [
        "31.Write a Python program to train an SVM Classifier and use GridSearchCV to tune the hyperparameters (C,gamma, kernel)=\n",
        "\n",
        "\n",
        "ans:-\n",
        "\n",
        "---\n",
        "\n"
      ],
      "metadata": {
        "id": "g6PPe6VTJnew"
      }
    },
    {
      "source": [
        "from sklearn.datasets import load_breast_cancer\n",
        "from sklearn.model_selection import train_test_split, GridSearchCV\n",
        "from sklearn.svm import SVC\n",
        "from sklearn.metrics import accuracy_score\n",
        "\n",
        "# Load the Breast Cancer dataset\n",
        "breast_cancer = load_breast_cancer()\n",
        "X = breast_cancer.data  # Features\n",
        "y = breast_cancer.target  # Target variable (malignant or benign)\n",
        "\n",
        "# Split the data into training and testing sets\n",
        "X_train, X_test, y_train, y_test = train_test_split(X, y, test_size=0.3, random_state=42)\n",
        "\n",
        "# Define the parameter grid for GridSearchCV\n",
        "param_grid = {\n",
        "    'C': [0.1, 1, 10, 100],\n",
        "    'gamma': [1, 0.1, 0.01, 0.001],\n",
        "    'kernel': ['linear', 'rbf']\n",
        "}\n",
        "\n",
        "# Create an SVM classifier object\n",
        "svm_classifier = SVC()\n",
        "\n",
        "# Create a GridSearchCV object\n",
        "grid_search = GridSearchCV(svm_classifier, param_grid, cv=5, scoring='accuracy')  # cv: number of cross-validation folds\n",
        "\n",
        "# Train the model using GridSearchCV\n",
        "grid_search.fit(X_train, y_train)\n",
        "\n",
        "# Get the best hyperparameters\n",
        "best_params = grid_search.best_params_\n",
        "print(\"Best Hyperparameters:\", best_params)\n",
        "\n",
        "# Get the best model\n",
        "best_model = grid_search.best_estimator_\n",
        "\n",
        "# Make predictions on the test set using the best model\n",
        "y_pred = best_model.predict(X_test)\n",
        "\n",
        "# Evaluate accuracy\n",
        "accuracy = accuracy_score(y_test, y_pred)\n",
        "print(\"Accuracy:\", accuracy)"
      ],
      "cell_type": "code",
      "metadata": {
        "colab": {
          "base_uri": "https://localhost:8080/",
          "height": 388
        },
        "id": "dBbn6EgvJ1Qg",
        "outputId": "a43a1e99-9d8b-4cca-e2e3-fce3b138c685"
      },
      "execution_count": 5,
      "outputs": [
        {
          "output_type": "error",
          "ename": "KeyboardInterrupt",
          "evalue": "",
          "traceback": [
            "\u001b[0;31m---------------------------------------------------------------------------\u001b[0m",
            "\u001b[0;31mKeyboardInterrupt\u001b[0m                         Traceback (most recent call last)",
            "\u001b[0;32m<ipython-input-5-f9bda28a0bf9>\u001b[0m in \u001b[0;36m<cell line: 0>\u001b[0;34m()\u001b[0m\n\u001b[1;32m     26\u001b[0m \u001b[0;34m\u001b[0m\u001b[0m\n\u001b[1;32m     27\u001b[0m \u001b[0;31m# Train the model using GridSearchCV\u001b[0m\u001b[0;34m\u001b[0m\u001b[0;34m\u001b[0m\u001b[0m\n\u001b[0;32m---> 28\u001b[0;31m \u001b[0mgrid_search\u001b[0m\u001b[0;34m.\u001b[0m\u001b[0mfit\u001b[0m\u001b[0;34m(\u001b[0m\u001b[0mX_train\u001b[0m\u001b[0;34m,\u001b[0m \u001b[0my_train\u001b[0m\u001b[0;34m)\u001b[0m\u001b[0;34m\u001b[0m\u001b[0;34m\u001b[0m\u001b[0m\n\u001b[0m\u001b[1;32m     29\u001b[0m \u001b[0;34m\u001b[0m\u001b[0m\n\u001b[1;32m     30\u001b[0m \u001b[0;31m# Get the best hyperparameters\u001b[0m\u001b[0;34m\u001b[0m\u001b[0;34m\u001b[0m\u001b[0m\n",
            "\u001b[0;32m/usr/local/lib/python3.11/dist-packages/sklearn/base.py\u001b[0m in \u001b[0;36mwrapper\u001b[0;34m(estimator, *args, **kwargs)\u001b[0m\n\u001b[1;32m   1387\u001b[0m                 )\n\u001b[1;32m   1388\u001b[0m             ):\n\u001b[0;32m-> 1389\u001b[0;31m                 \u001b[0;32mreturn\u001b[0m \u001b[0mfit_method\u001b[0m\u001b[0;34m(\u001b[0m\u001b[0mestimator\u001b[0m\u001b[0;34m,\u001b[0m \u001b[0;34m*\u001b[0m\u001b[0margs\u001b[0m\u001b[0;34m,\u001b[0m \u001b[0;34m**\u001b[0m\u001b[0mkwargs\u001b[0m\u001b[0;34m)\u001b[0m\u001b[0;34m\u001b[0m\u001b[0;34m\u001b[0m\u001b[0m\n\u001b[0m\u001b[1;32m   1390\u001b[0m \u001b[0;34m\u001b[0m\u001b[0m\n\u001b[1;32m   1391\u001b[0m         \u001b[0;32mreturn\u001b[0m \u001b[0mwrapper\u001b[0m\u001b[0;34m\u001b[0m\u001b[0;34m\u001b[0m\u001b[0m\n",
            "\u001b[0;32m/usr/local/lib/python3.11/dist-packages/sklearn/model_selection/_search.py\u001b[0m in \u001b[0;36mfit\u001b[0;34m(self, X, y, **params)\u001b[0m\n\u001b[1;32m   1022\u001b[0m                 \u001b[0;32mreturn\u001b[0m \u001b[0mresults\u001b[0m\u001b[0;34m\u001b[0m\u001b[0;34m\u001b[0m\u001b[0m\n\u001b[1;32m   1023\u001b[0m \u001b[0;34m\u001b[0m\u001b[0m\n\u001b[0;32m-> 1024\u001b[0;31m             \u001b[0mself\u001b[0m\u001b[0;34m.\u001b[0m\u001b[0m_run_search\u001b[0m\u001b[0;34m(\u001b[0m\u001b[0mevaluate_candidates\u001b[0m\u001b[0;34m)\u001b[0m\u001b[0;34m\u001b[0m\u001b[0;34m\u001b[0m\u001b[0m\n\u001b[0m\u001b[1;32m   1025\u001b[0m \u001b[0;34m\u001b[0m\u001b[0m\n\u001b[1;32m   1026\u001b[0m             \u001b[0;31m# multimetric is determined here because in the case of a callable\u001b[0m\u001b[0;34m\u001b[0m\u001b[0;34m\u001b[0m\u001b[0m\n",
            "\u001b[0;32m/usr/local/lib/python3.11/dist-packages/sklearn/model_selection/_search.py\u001b[0m in \u001b[0;36m_run_search\u001b[0;34m(self, evaluate_candidates)\u001b[0m\n\u001b[1;32m   1569\u001b[0m     \u001b[0;32mdef\u001b[0m \u001b[0m_run_search\u001b[0m\u001b[0;34m(\u001b[0m\u001b[0mself\u001b[0m\u001b[0;34m,\u001b[0m \u001b[0mevaluate_candidates\u001b[0m\u001b[0;34m)\u001b[0m\u001b[0;34m:\u001b[0m\u001b[0;34m\u001b[0m\u001b[0;34m\u001b[0m\u001b[0m\n\u001b[1;32m   1570\u001b[0m         \u001b[0;34m\"\"\"Search all candidates in param_grid\"\"\"\u001b[0m\u001b[0;34m\u001b[0m\u001b[0;34m\u001b[0m\u001b[0m\n\u001b[0;32m-> 1571\u001b[0;31m         \u001b[0mevaluate_candidates\u001b[0m\u001b[0;34m(\u001b[0m\u001b[0mParameterGrid\u001b[0m\u001b[0;34m(\u001b[0m\u001b[0mself\u001b[0m\u001b[0;34m.\u001b[0m\u001b[0mparam_grid\u001b[0m\u001b[0;34m)\u001b[0m\u001b[0;34m)\u001b[0m\u001b[0;34m\u001b[0m\u001b[0;34m\u001b[0m\u001b[0m\n\u001b[0m\u001b[1;32m   1572\u001b[0m \u001b[0;34m\u001b[0m\u001b[0m\n\u001b[1;32m   1573\u001b[0m \u001b[0;34m\u001b[0m\u001b[0m\n",
            "\u001b[0;32m/usr/local/lib/python3.11/dist-packages/sklearn/model_selection/_search.py\u001b[0m in \u001b[0;36mevaluate_candidates\u001b[0;34m(candidate_params, cv, more_results)\u001b[0m\n\u001b[1;32m    968\u001b[0m                     )\n\u001b[1;32m    969\u001b[0m \u001b[0;34m\u001b[0m\u001b[0m\n\u001b[0;32m--> 970\u001b[0;31m                 out = parallel(\n\u001b[0m\u001b[1;32m    971\u001b[0m                     delayed(_fit_and_score)(\n\u001b[1;32m    972\u001b[0m                         \u001b[0mclone\u001b[0m\u001b[0;34m(\u001b[0m\u001b[0mbase_estimator\u001b[0m\u001b[0;34m)\u001b[0m\u001b[0;34m,\u001b[0m\u001b[0;34m\u001b[0m\u001b[0;34m\u001b[0m\u001b[0m\n",
            "\u001b[0;32m/usr/local/lib/python3.11/dist-packages/sklearn/utils/parallel.py\u001b[0m in \u001b[0;36m__call__\u001b[0;34m(self, iterable)\u001b[0m\n\u001b[1;32m     75\u001b[0m             \u001b[0;32mfor\u001b[0m \u001b[0mdelayed_func\u001b[0m\u001b[0;34m,\u001b[0m \u001b[0margs\u001b[0m\u001b[0;34m,\u001b[0m \u001b[0mkwargs\u001b[0m \u001b[0;32min\u001b[0m \u001b[0miterable\u001b[0m\u001b[0;34m\u001b[0m\u001b[0;34m\u001b[0m\u001b[0m\n\u001b[1;32m     76\u001b[0m         )\n\u001b[0;32m---> 77\u001b[0;31m         \u001b[0;32mreturn\u001b[0m \u001b[0msuper\u001b[0m\u001b[0;34m(\u001b[0m\u001b[0;34m)\u001b[0m\u001b[0;34m.\u001b[0m\u001b[0m__call__\u001b[0m\u001b[0;34m(\u001b[0m\u001b[0miterable_with_config\u001b[0m\u001b[0;34m)\u001b[0m\u001b[0;34m\u001b[0m\u001b[0;34m\u001b[0m\u001b[0m\n\u001b[0m\u001b[1;32m     78\u001b[0m \u001b[0;34m\u001b[0m\u001b[0m\n\u001b[1;32m     79\u001b[0m \u001b[0;34m\u001b[0m\u001b[0m\n",
            "\u001b[0;32m/usr/local/lib/python3.11/dist-packages/joblib/parallel.py\u001b[0m in \u001b[0;36m__call__\u001b[0;34m(self, iterable)\u001b[0m\n\u001b[1;32m   1916\u001b[0m             \u001b[0moutput\u001b[0m \u001b[0;34m=\u001b[0m \u001b[0mself\u001b[0m\u001b[0;34m.\u001b[0m\u001b[0m_get_sequential_output\u001b[0m\u001b[0;34m(\u001b[0m\u001b[0miterable\u001b[0m\u001b[0;34m)\u001b[0m\u001b[0;34m\u001b[0m\u001b[0;34m\u001b[0m\u001b[0m\n\u001b[1;32m   1917\u001b[0m             \u001b[0mnext\u001b[0m\u001b[0;34m(\u001b[0m\u001b[0moutput\u001b[0m\u001b[0;34m)\u001b[0m\u001b[0;34m\u001b[0m\u001b[0;34m\u001b[0m\u001b[0m\n\u001b[0;32m-> 1918\u001b[0;31m             \u001b[0;32mreturn\u001b[0m \u001b[0moutput\u001b[0m \u001b[0;32mif\u001b[0m \u001b[0mself\u001b[0m\u001b[0;34m.\u001b[0m\u001b[0mreturn_generator\u001b[0m \u001b[0;32melse\u001b[0m \u001b[0mlist\u001b[0m\u001b[0;34m(\u001b[0m\u001b[0moutput\u001b[0m\u001b[0;34m)\u001b[0m\u001b[0;34m\u001b[0m\u001b[0;34m\u001b[0m\u001b[0m\n\u001b[0m\u001b[1;32m   1919\u001b[0m \u001b[0;34m\u001b[0m\u001b[0m\n\u001b[1;32m   1920\u001b[0m         \u001b[0;31m# Let's create an ID that uniquely identifies the current call. If the\u001b[0m\u001b[0;34m\u001b[0m\u001b[0;34m\u001b[0m\u001b[0m\n",
            "\u001b[0;32m/usr/local/lib/python3.11/dist-packages/joblib/parallel.py\u001b[0m in \u001b[0;36m_get_sequential_output\u001b[0;34m(self, iterable)\u001b[0m\n\u001b[1;32m   1845\u001b[0m                 \u001b[0mself\u001b[0m\u001b[0;34m.\u001b[0m\u001b[0mn_dispatched_batches\u001b[0m \u001b[0;34m+=\u001b[0m \u001b[0;36m1\u001b[0m\u001b[0;34m\u001b[0m\u001b[0;34m\u001b[0m\u001b[0m\n\u001b[1;32m   1846\u001b[0m                 \u001b[0mself\u001b[0m\u001b[0;34m.\u001b[0m\u001b[0mn_dispatched_tasks\u001b[0m \u001b[0;34m+=\u001b[0m \u001b[0;36m1\u001b[0m\u001b[0;34m\u001b[0m\u001b[0;34m\u001b[0m\u001b[0m\n\u001b[0;32m-> 1847\u001b[0;31m                 \u001b[0mres\u001b[0m \u001b[0;34m=\u001b[0m \u001b[0mfunc\u001b[0m\u001b[0;34m(\u001b[0m\u001b[0;34m*\u001b[0m\u001b[0margs\u001b[0m\u001b[0;34m,\u001b[0m \u001b[0;34m**\u001b[0m\u001b[0mkwargs\u001b[0m\u001b[0;34m)\u001b[0m\u001b[0;34m\u001b[0m\u001b[0;34m\u001b[0m\u001b[0m\n\u001b[0m\u001b[1;32m   1848\u001b[0m                 \u001b[0mself\u001b[0m\u001b[0;34m.\u001b[0m\u001b[0mn_completed_tasks\u001b[0m \u001b[0;34m+=\u001b[0m \u001b[0;36m1\u001b[0m\u001b[0;34m\u001b[0m\u001b[0;34m\u001b[0m\u001b[0m\n\u001b[1;32m   1849\u001b[0m                 \u001b[0mself\u001b[0m\u001b[0;34m.\u001b[0m\u001b[0mprint_progress\u001b[0m\u001b[0;34m(\u001b[0m\u001b[0;34m)\u001b[0m\u001b[0;34m\u001b[0m\u001b[0;34m\u001b[0m\u001b[0m\n",
            "\u001b[0;32m/usr/local/lib/python3.11/dist-packages/sklearn/utils/parallel.py\u001b[0m in \u001b[0;36m__call__\u001b[0;34m(self, *args, **kwargs)\u001b[0m\n\u001b[1;32m    137\u001b[0m             \u001b[0mconfig\u001b[0m \u001b[0;34m=\u001b[0m \u001b[0;34m{\u001b[0m\u001b[0;34m}\u001b[0m\u001b[0;34m\u001b[0m\u001b[0;34m\u001b[0m\u001b[0m\n\u001b[1;32m    138\u001b[0m         \u001b[0;32mwith\u001b[0m \u001b[0mconfig_context\u001b[0m\u001b[0;34m(\u001b[0m\u001b[0;34m**\u001b[0m\u001b[0mconfig\u001b[0m\u001b[0;34m)\u001b[0m\u001b[0;34m:\u001b[0m\u001b[0;34m\u001b[0m\u001b[0;34m\u001b[0m\u001b[0m\n\u001b[0;32m--> 139\u001b[0;31m             \u001b[0;32mreturn\u001b[0m \u001b[0mself\u001b[0m\u001b[0;34m.\u001b[0m\u001b[0mfunction\u001b[0m\u001b[0;34m(\u001b[0m\u001b[0;34m*\u001b[0m\u001b[0margs\u001b[0m\u001b[0;34m,\u001b[0m \u001b[0;34m**\u001b[0m\u001b[0mkwargs\u001b[0m\u001b[0;34m)\u001b[0m\u001b[0;34m\u001b[0m\u001b[0;34m\u001b[0m\u001b[0m\n\u001b[0m\u001b[1;32m    140\u001b[0m \u001b[0;34m\u001b[0m\u001b[0m\n\u001b[1;32m    141\u001b[0m \u001b[0;34m\u001b[0m\u001b[0m\n",
            "\u001b[0;32m/usr/local/lib/python3.11/dist-packages/sklearn/model_selection/_validation.py\u001b[0m in \u001b[0;36m_fit_and_score\u001b[0;34m(estimator, X, y, scorer, train, test, verbose, parameters, fit_params, score_params, return_train_score, return_parameters, return_n_test_samples, return_times, return_estimator, split_progress, candidate_progress, error_score)\u001b[0m\n\u001b[1;32m    864\u001b[0m             \u001b[0mestimator\u001b[0m\u001b[0;34m.\u001b[0m\u001b[0mfit\u001b[0m\u001b[0;34m(\u001b[0m\u001b[0mX_train\u001b[0m\u001b[0;34m,\u001b[0m \u001b[0;34m**\u001b[0m\u001b[0mfit_params\u001b[0m\u001b[0;34m)\u001b[0m\u001b[0;34m\u001b[0m\u001b[0;34m\u001b[0m\u001b[0m\n\u001b[1;32m    865\u001b[0m         \u001b[0;32melse\u001b[0m\u001b[0;34m:\u001b[0m\u001b[0;34m\u001b[0m\u001b[0;34m\u001b[0m\u001b[0m\n\u001b[0;32m--> 866\u001b[0;31m             \u001b[0mestimator\u001b[0m\u001b[0;34m.\u001b[0m\u001b[0mfit\u001b[0m\u001b[0;34m(\u001b[0m\u001b[0mX_train\u001b[0m\u001b[0;34m,\u001b[0m \u001b[0my_train\u001b[0m\u001b[0;34m,\u001b[0m \u001b[0;34m**\u001b[0m\u001b[0mfit_params\u001b[0m\u001b[0;34m)\u001b[0m\u001b[0;34m\u001b[0m\u001b[0;34m\u001b[0m\u001b[0m\n\u001b[0m\u001b[1;32m    867\u001b[0m \u001b[0;34m\u001b[0m\u001b[0m\n\u001b[1;32m    868\u001b[0m     \u001b[0;32mexcept\u001b[0m \u001b[0mException\u001b[0m\u001b[0;34m:\u001b[0m\u001b[0;34m\u001b[0m\u001b[0;34m\u001b[0m\u001b[0m\n",
            "\u001b[0;32m/usr/local/lib/python3.11/dist-packages/sklearn/base.py\u001b[0m in \u001b[0;36mwrapper\u001b[0;34m(estimator, *args, **kwargs)\u001b[0m\n\u001b[1;32m   1387\u001b[0m                 )\n\u001b[1;32m   1388\u001b[0m             ):\n\u001b[0;32m-> 1389\u001b[0;31m                 \u001b[0;32mreturn\u001b[0m \u001b[0mfit_method\u001b[0m\u001b[0;34m(\u001b[0m\u001b[0mestimator\u001b[0m\u001b[0;34m,\u001b[0m \u001b[0;34m*\u001b[0m\u001b[0margs\u001b[0m\u001b[0;34m,\u001b[0m \u001b[0;34m**\u001b[0m\u001b[0mkwargs\u001b[0m\u001b[0;34m)\u001b[0m\u001b[0;34m\u001b[0m\u001b[0;34m\u001b[0m\u001b[0m\n\u001b[0m\u001b[1;32m   1390\u001b[0m \u001b[0;34m\u001b[0m\u001b[0m\n\u001b[1;32m   1391\u001b[0m         \u001b[0;32mreturn\u001b[0m \u001b[0mwrapper\u001b[0m\u001b[0;34m\u001b[0m\u001b[0;34m\u001b[0m\u001b[0m\n",
            "\u001b[0;32m/usr/local/lib/python3.11/dist-packages/sklearn/svm/_base.py\u001b[0m in \u001b[0;36mfit\u001b[0;34m(self, X, y, sample_weight)\u001b[0m\n\u001b[1;32m    256\u001b[0m \u001b[0;34m\u001b[0m\u001b[0m\n\u001b[1;32m    257\u001b[0m         \u001b[0mseed\u001b[0m \u001b[0;34m=\u001b[0m \u001b[0mrnd\u001b[0m\u001b[0;34m.\u001b[0m\u001b[0mrandint\u001b[0m\u001b[0;34m(\u001b[0m\u001b[0mnp\u001b[0m\u001b[0;34m.\u001b[0m\u001b[0miinfo\u001b[0m\u001b[0;34m(\u001b[0m\u001b[0;34m\"i\"\u001b[0m\u001b[0;34m)\u001b[0m\u001b[0;34m.\u001b[0m\u001b[0mmax\u001b[0m\u001b[0;34m)\u001b[0m\u001b[0;34m\u001b[0m\u001b[0;34m\u001b[0m\u001b[0m\n\u001b[0;32m--> 258\u001b[0;31m         \u001b[0mfit\u001b[0m\u001b[0;34m(\u001b[0m\u001b[0mX\u001b[0m\u001b[0;34m,\u001b[0m \u001b[0my\u001b[0m\u001b[0;34m,\u001b[0m \u001b[0msample_weight\u001b[0m\u001b[0;34m,\u001b[0m \u001b[0msolver_type\u001b[0m\u001b[0;34m,\u001b[0m \u001b[0mkernel\u001b[0m\u001b[0;34m,\u001b[0m \u001b[0mrandom_seed\u001b[0m\u001b[0;34m=\u001b[0m\u001b[0mseed\u001b[0m\u001b[0;34m)\u001b[0m\u001b[0;34m\u001b[0m\u001b[0;34m\u001b[0m\u001b[0m\n\u001b[0m\u001b[1;32m    259\u001b[0m         \u001b[0;31m# see comment on the other call to np.iinfo in this file\u001b[0m\u001b[0;34m\u001b[0m\u001b[0;34m\u001b[0m\u001b[0m\n\u001b[1;32m    260\u001b[0m \u001b[0;34m\u001b[0m\u001b[0m\n",
            "\u001b[0;32m/usr/local/lib/python3.11/dist-packages/sklearn/svm/_base.py\u001b[0m in \u001b[0;36m_dense_fit\u001b[0;34m(self, X, y, sample_weight, solver_type, kernel, random_seed)\u001b[0m\n\u001b[1;32m    334\u001b[0m             \u001b[0mself\u001b[0m\u001b[0;34m.\u001b[0m\u001b[0mfit_status_\u001b[0m\u001b[0;34m,\u001b[0m\u001b[0;34m\u001b[0m\u001b[0;34m\u001b[0m\u001b[0m\n\u001b[1;32m    335\u001b[0m             \u001b[0mself\u001b[0m\u001b[0;34m.\u001b[0m\u001b[0m_num_iter\u001b[0m\u001b[0;34m,\u001b[0m\u001b[0;34m\u001b[0m\u001b[0;34m\u001b[0m\u001b[0m\n\u001b[0;32m--> 336\u001b[0;31m         \u001b[0;34m)\u001b[0m \u001b[0;34m=\u001b[0m \u001b[0mlibsvm\u001b[0m\u001b[0;34m.\u001b[0m\u001b[0mfit\u001b[0m\u001b[0;34m(\u001b[0m\u001b[0;34m\u001b[0m\u001b[0;34m\u001b[0m\u001b[0m\n\u001b[0m\u001b[1;32m    337\u001b[0m             \u001b[0mX\u001b[0m\u001b[0;34m,\u001b[0m\u001b[0;34m\u001b[0m\u001b[0;34m\u001b[0m\u001b[0m\n\u001b[1;32m    338\u001b[0m             \u001b[0my\u001b[0m\u001b[0;34m,\u001b[0m\u001b[0;34m\u001b[0m\u001b[0;34m\u001b[0m\u001b[0m\n",
            "\u001b[0;31mKeyboardInterrupt\u001b[0m: "
          ]
        }
      ]
    },
    {
      "cell_type": "markdown",
      "source": [
        "32. Write a Python program to train an SVM Classifier on an imbalanced dataset and apply class weighting and check it improve accuracy=\n",
        "\n",
        "\n",
        "ans:-"
      ],
      "metadata": {
        "id": "td6iwwN9KKv3"
      }
    },
    {
      "source": [
        "from sklearn.datasets import load_breast_cancer\n",
        "from sklearn.model_selection import train_test_split\n",
        "from sklearn.svm import SVC\n",
        "from sklearn.metrics import accuracy_score\n",
        "\n",
        "# Load the Breast Cancer dataset (it's slightly imbalanced)\n",
        "breast_cancer = load_breast_cancer()\n",
        "X = breast_cancer.data\n",
        "y = breast_cancer.target\n",
        "\n",
        "# Split the data into training and testing sets\n",
        "X_train, X_test, y_train, y_test = train_test_split(X, y, test_size=0.3, random_state=42)\n",
        "\n",
        "# Train SVM without class weighting\n",
        "svm_no_weight = SVC(kernel='linear')  # Use linear kernel for simplicity\n",
        "svm_no_weight.fit(X_train, y_train)\n",
        "y_pred_no_weight = svm_no_weight.predict(X_test)\n",
        "accuracy_no_weight = accuracy_score(y_test, y_pred_no_weight)\n",
        "\n",
        "# Train SVM with class weighting\n",
        "svm_weighted = SVC(kernel='linear', class_weight='balanced')  # Apply class weighting\n",
        "svm_weighted.fit(X_train, y_train)\n",
        "y_pred_weighted = svm_weighted.predict(X_test)\n",
        "accuracy_weighted = accuracy_score(y_test, y_pred_weighted)\n",
        "\n",
        "# Print accuracies\n",
        "print(\"Accuracy (Without Class Weighting):\", accuracy_no_weight)\n",
        "print(\"Accuracy (With Class Weighting):\", accuracy_weighted)"
      ],
      "cell_type": "code",
      "metadata": {
        "colab": {
          "base_uri": "https://localhost:8080/"
        },
        "id": "Kc3qjri5KhCo",
        "outputId": "17f43281-4cd5-46b9-9748-c14f4263753f"
      },
      "execution_count": 6,
      "outputs": [
        {
          "output_type": "stream",
          "name": "stdout",
          "text": [
            "Accuracy (Without Class Weighting): 0.9649122807017544\n",
            "Accuracy (With Class Weighting): 0.9590643274853801\n"
          ]
        }
      ]
    },
    {
      "source": [
        "import pandas as pd\n",
        "from sklearn.model_selection import train_test_split\n",
        "from sklearn.feature_extraction.text import CountVectorizer\n",
        "from sklearn.naive_bayes import MultinomialNB\n",
        "from sklearn.metrics import accuracy_score\n",
        "\n",
        "# Load the email dataset (replace with your actual dataset)\n",
        "# Assuming your dataset has two columns: 'email_text' and 'spam_label' (0 for ham, 1 for spam)\n",
        "data = pd.read_csv('email_data.csv')\n",
        "\n",
        "# Split the data into training and testing sets\n",
        "X_train, X_test, y_train, y_test = train_test_split(data['email_text'], data['spam_label'], test_size=0.3, random_state=42)\n",
        "\n",
        "# Create a CountVectorizer to convert email text into numerical features\n",
        "vectorizer = CountVectorizer()\n",
        "X_train_vec = vectorizer.fit_transform(X_train)\n",
        "X_test_vec = vectorizer.transform(X_test)\n",
        "\n",
        "# Train a Multinomial Naïve Bayes classifier\n",
        "classifier = MultinomialNB()\n",
        "classifier.fit(X_train_vec, y_train)\n",
        "\n",
        "# Make predictions on the test set\n",
        "y_pred = classifier.predict(X_test_vec)\n",
        "\n",
        "# Evaluate accuracy\n",
        "accuracy = accuracy_score(y_test, y_pred)\n",
        "print(\"Accuracy:\", accuracy)\n",
        "\n",
        "# Example prediction on a new email\n",
        "new_email = [\"This is an example email.\"]\n",
        "new_email_vec = vectorizer.transform(new_email)\n",
        "prediction = classifier.predict(new_email_vec)\n",
        "print(\"Prediction for new email:\", prediction) # 0 for ham, 1 for spam"
      ],
      "cell_type": "code",
      "metadata": {
        "colab": {
          "base_uri": "https://localhost:8080/",
          "height": 388
        },
        "id": "-HKg5xxLKrpf",
        "outputId": "08e25398-66e4-46ad-be97-b734eef1dcc6"
      },
      "execution_count": 7,
      "outputs": [
        {
          "output_type": "error",
          "ename": "FileNotFoundError",
          "evalue": "[Errno 2] No such file or directory: 'email_data.csv'",
          "traceback": [
            "\u001b[0;31m---------------------------------------------------------------------------\u001b[0m",
            "\u001b[0;31mFileNotFoundError\u001b[0m                         Traceback (most recent call last)",
            "\u001b[0;32m<ipython-input-7-9069b30e0f97>\u001b[0m in \u001b[0;36m<cell line: 0>\u001b[0;34m()\u001b[0m\n\u001b[1;32m      7\u001b[0m \u001b[0;31m# Load the email dataset (replace with your actual dataset)\u001b[0m\u001b[0;34m\u001b[0m\u001b[0;34m\u001b[0m\u001b[0m\n\u001b[1;32m      8\u001b[0m \u001b[0;31m# Assuming your dataset has two columns: 'email_text' and 'spam_label' (0 for ham, 1 for spam)\u001b[0m\u001b[0;34m\u001b[0m\u001b[0;34m\u001b[0m\u001b[0m\n\u001b[0;32m----> 9\u001b[0;31m \u001b[0mdata\u001b[0m \u001b[0;34m=\u001b[0m \u001b[0mpd\u001b[0m\u001b[0;34m.\u001b[0m\u001b[0mread_csv\u001b[0m\u001b[0;34m(\u001b[0m\u001b[0;34m'email_data.csv'\u001b[0m\u001b[0;34m)\u001b[0m\u001b[0;34m\u001b[0m\u001b[0;34m\u001b[0m\u001b[0m\n\u001b[0m\u001b[1;32m     10\u001b[0m \u001b[0;34m\u001b[0m\u001b[0m\n\u001b[1;32m     11\u001b[0m \u001b[0;31m# Split the data into training and testing sets\u001b[0m\u001b[0;34m\u001b[0m\u001b[0;34m\u001b[0m\u001b[0m\n",
            "\u001b[0;32m/usr/local/lib/python3.11/dist-packages/pandas/io/parsers/readers.py\u001b[0m in \u001b[0;36mread_csv\u001b[0;34m(filepath_or_buffer, sep, delimiter, header, names, index_col, usecols, dtype, engine, converters, true_values, false_values, skipinitialspace, skiprows, skipfooter, nrows, na_values, keep_default_na, na_filter, verbose, skip_blank_lines, parse_dates, infer_datetime_format, keep_date_col, date_parser, date_format, dayfirst, cache_dates, iterator, chunksize, compression, thousands, decimal, lineterminator, quotechar, quoting, doublequote, escapechar, comment, encoding, encoding_errors, dialect, on_bad_lines, delim_whitespace, low_memory, memory_map, float_precision, storage_options, dtype_backend)\u001b[0m\n\u001b[1;32m   1024\u001b[0m     \u001b[0mkwds\u001b[0m\u001b[0;34m.\u001b[0m\u001b[0mupdate\u001b[0m\u001b[0;34m(\u001b[0m\u001b[0mkwds_defaults\u001b[0m\u001b[0;34m)\u001b[0m\u001b[0;34m\u001b[0m\u001b[0;34m\u001b[0m\u001b[0m\n\u001b[1;32m   1025\u001b[0m \u001b[0;34m\u001b[0m\u001b[0m\n\u001b[0;32m-> 1026\u001b[0;31m     \u001b[0;32mreturn\u001b[0m \u001b[0m_read\u001b[0m\u001b[0;34m(\u001b[0m\u001b[0mfilepath_or_buffer\u001b[0m\u001b[0;34m,\u001b[0m \u001b[0mkwds\u001b[0m\u001b[0;34m)\u001b[0m\u001b[0;34m\u001b[0m\u001b[0;34m\u001b[0m\u001b[0m\n\u001b[0m\u001b[1;32m   1027\u001b[0m \u001b[0;34m\u001b[0m\u001b[0m\n\u001b[1;32m   1028\u001b[0m \u001b[0;34m\u001b[0m\u001b[0m\n",
            "\u001b[0;32m/usr/local/lib/python3.11/dist-packages/pandas/io/parsers/readers.py\u001b[0m in \u001b[0;36m_read\u001b[0;34m(filepath_or_buffer, kwds)\u001b[0m\n\u001b[1;32m    618\u001b[0m \u001b[0;34m\u001b[0m\u001b[0m\n\u001b[1;32m    619\u001b[0m     \u001b[0;31m# Create the parser.\u001b[0m\u001b[0;34m\u001b[0m\u001b[0;34m\u001b[0m\u001b[0m\n\u001b[0;32m--> 620\u001b[0;31m     \u001b[0mparser\u001b[0m \u001b[0;34m=\u001b[0m \u001b[0mTextFileReader\u001b[0m\u001b[0;34m(\u001b[0m\u001b[0mfilepath_or_buffer\u001b[0m\u001b[0;34m,\u001b[0m \u001b[0;34m**\u001b[0m\u001b[0mkwds\u001b[0m\u001b[0;34m)\u001b[0m\u001b[0;34m\u001b[0m\u001b[0;34m\u001b[0m\u001b[0m\n\u001b[0m\u001b[1;32m    621\u001b[0m \u001b[0;34m\u001b[0m\u001b[0m\n\u001b[1;32m    622\u001b[0m     \u001b[0;32mif\u001b[0m \u001b[0mchunksize\u001b[0m \u001b[0;32mor\u001b[0m \u001b[0miterator\u001b[0m\u001b[0;34m:\u001b[0m\u001b[0;34m\u001b[0m\u001b[0;34m\u001b[0m\u001b[0m\n",
            "\u001b[0;32m/usr/local/lib/python3.11/dist-packages/pandas/io/parsers/readers.py\u001b[0m in \u001b[0;36m__init__\u001b[0;34m(self, f, engine, **kwds)\u001b[0m\n\u001b[1;32m   1618\u001b[0m \u001b[0;34m\u001b[0m\u001b[0m\n\u001b[1;32m   1619\u001b[0m         \u001b[0mself\u001b[0m\u001b[0;34m.\u001b[0m\u001b[0mhandles\u001b[0m\u001b[0;34m:\u001b[0m \u001b[0mIOHandles\u001b[0m \u001b[0;34m|\u001b[0m \u001b[0;32mNone\u001b[0m \u001b[0;34m=\u001b[0m \u001b[0;32mNone\u001b[0m\u001b[0;34m\u001b[0m\u001b[0;34m\u001b[0m\u001b[0m\n\u001b[0;32m-> 1620\u001b[0;31m         \u001b[0mself\u001b[0m\u001b[0;34m.\u001b[0m\u001b[0m_engine\u001b[0m \u001b[0;34m=\u001b[0m \u001b[0mself\u001b[0m\u001b[0;34m.\u001b[0m\u001b[0m_make_engine\u001b[0m\u001b[0;34m(\u001b[0m\u001b[0mf\u001b[0m\u001b[0;34m,\u001b[0m \u001b[0mself\u001b[0m\u001b[0;34m.\u001b[0m\u001b[0mengine\u001b[0m\u001b[0;34m)\u001b[0m\u001b[0;34m\u001b[0m\u001b[0;34m\u001b[0m\u001b[0m\n\u001b[0m\u001b[1;32m   1621\u001b[0m \u001b[0;34m\u001b[0m\u001b[0m\n\u001b[1;32m   1622\u001b[0m     \u001b[0;32mdef\u001b[0m \u001b[0mclose\u001b[0m\u001b[0;34m(\u001b[0m\u001b[0mself\u001b[0m\u001b[0;34m)\u001b[0m \u001b[0;34m->\u001b[0m \u001b[0;32mNone\u001b[0m\u001b[0;34m:\u001b[0m\u001b[0;34m\u001b[0m\u001b[0;34m\u001b[0m\u001b[0m\n",
            "\u001b[0;32m/usr/local/lib/python3.11/dist-packages/pandas/io/parsers/readers.py\u001b[0m in \u001b[0;36m_make_engine\u001b[0;34m(self, f, engine)\u001b[0m\n\u001b[1;32m   1878\u001b[0m                 \u001b[0;32mif\u001b[0m \u001b[0;34m\"b\"\u001b[0m \u001b[0;32mnot\u001b[0m \u001b[0;32min\u001b[0m \u001b[0mmode\u001b[0m\u001b[0;34m:\u001b[0m\u001b[0;34m\u001b[0m\u001b[0;34m\u001b[0m\u001b[0m\n\u001b[1;32m   1879\u001b[0m                     \u001b[0mmode\u001b[0m \u001b[0;34m+=\u001b[0m \u001b[0;34m\"b\"\u001b[0m\u001b[0;34m\u001b[0m\u001b[0;34m\u001b[0m\u001b[0m\n\u001b[0;32m-> 1880\u001b[0;31m             self.handles = get_handle(\n\u001b[0m\u001b[1;32m   1881\u001b[0m                 \u001b[0mf\u001b[0m\u001b[0;34m,\u001b[0m\u001b[0;34m\u001b[0m\u001b[0;34m\u001b[0m\u001b[0m\n\u001b[1;32m   1882\u001b[0m                 \u001b[0mmode\u001b[0m\u001b[0;34m,\u001b[0m\u001b[0;34m\u001b[0m\u001b[0;34m\u001b[0m\u001b[0m\n",
            "\u001b[0;32m/usr/local/lib/python3.11/dist-packages/pandas/io/common.py\u001b[0m in \u001b[0;36mget_handle\u001b[0;34m(path_or_buf, mode, encoding, compression, memory_map, is_text, errors, storage_options)\u001b[0m\n\u001b[1;32m    871\u001b[0m         \u001b[0;32mif\u001b[0m \u001b[0mioargs\u001b[0m\u001b[0;34m.\u001b[0m\u001b[0mencoding\u001b[0m \u001b[0;32mand\u001b[0m \u001b[0;34m\"b\"\u001b[0m \u001b[0;32mnot\u001b[0m \u001b[0;32min\u001b[0m \u001b[0mioargs\u001b[0m\u001b[0;34m.\u001b[0m\u001b[0mmode\u001b[0m\u001b[0;34m:\u001b[0m\u001b[0;34m\u001b[0m\u001b[0;34m\u001b[0m\u001b[0m\n\u001b[1;32m    872\u001b[0m             \u001b[0;31m# Encoding\u001b[0m\u001b[0;34m\u001b[0m\u001b[0;34m\u001b[0m\u001b[0m\n\u001b[0;32m--> 873\u001b[0;31m             handle = open(\n\u001b[0m\u001b[1;32m    874\u001b[0m                 \u001b[0mhandle\u001b[0m\u001b[0;34m,\u001b[0m\u001b[0;34m\u001b[0m\u001b[0;34m\u001b[0m\u001b[0m\n\u001b[1;32m    875\u001b[0m                 \u001b[0mioargs\u001b[0m\u001b[0;34m.\u001b[0m\u001b[0mmode\u001b[0m\u001b[0;34m,\u001b[0m\u001b[0;34m\u001b[0m\u001b[0;34m\u001b[0m\u001b[0m\n",
            "\u001b[0;31mFileNotFoundError\u001b[0m: [Errno 2] No such file or directory: 'email_data.csv'"
          ]
        }
      ]
    },
    {
      "cell_type": "markdown",
      "source": [
        "33. Write a Python program to implement a Naïve Bayes classifier for spam detection using email data=\n",
        "\n",
        "\n",
        "\n",
        "ans:-"
      ],
      "metadata": {
        "id": "-3zEMgkSKjKd"
      }
    },
    {
      "cell_type": "markdown",
      "source": [
        "34.Write a Python program to train an SVM Classifier and a Naïve Bayes Classifier on the same dataset and compare their accuracy=\n",
        "\n",
        "\n",
        "ans:-"
      ],
      "metadata": {
        "id": "Kh1MZGJiKtcK"
      }
    },
    {
      "source": [
        "from sklearn.datasets import load_breast_cancer\n",
        "from sklearn.model_selection import train_test_split\n",
        "from sklearn.svm import SVC\n",
        "from sklearn.naive_bayes import GaussianNB\n",
        "from sklearn.metrics import accuracy_score\n",
        "\n",
        "# Load the Breast Cancer dataset\n",
        "breast_cancer = load_breast_cancer()\n",
        "X = breast_cancer.data\n",
        "y = breast_cancer.target\n",
        "\n",
        "# Split the data into training and testing sets\n",
        "X_train, X_test, y_train, y_test = train_test_split(X, y, test_size=0.3, random_state=42)\n",
        "\n",
        "# Train SVM Classifier\n",
        "svm_classifier = SVC(kernel='linear')  # Use linear kernel for simplicity\n",
        "svm_classifier.fit(X_train, y_train)\n",
        "y_pred_svm = svm_classifier.predict(X_test)\n",
        "accuracy_svm = accuracy_score(y_test, y_pred_svm)\n",
        "\n",
        "# Train Naïve Bayes Classifier\n",
        "nb_classifier = GaussianNB()\n",
        "nb_classifier.fit(X_train, y_train)\n",
        "y_pred_nb = nb_classifier.predict(X_test)\n",
        "accuracy_nb = accuracy_score(y_test, y_pred_nb)\n",
        "\n",
        "# Print accuracies\n",
        "print(\"Accuracy (SVM Classifier):\", accuracy_svm)\n",
        "print(\"Accuracy (Naïve Bayes Classifier):\", accuracy_nb)"
      ],
      "cell_type": "code",
      "metadata": {
        "colab": {
          "base_uri": "https://localhost:8080/"
        },
        "id": "wrn5YH30K87O",
        "outputId": "c0b393ad-47dc-4bae-ae35-0da529e8a562"
      },
      "execution_count": 8,
      "outputs": [
        {
          "output_type": "stream",
          "name": "stdout",
          "text": [
            "Accuracy (SVM Classifier): 0.9649122807017544\n",
            "Accuracy (Naïve Bayes Classifier): 0.9415204678362573\n"
          ]
        }
      ]
    },
    {
      "cell_type": "markdown",
      "source": [
        "35. Write a Python program to perform feature selection before training a Naïve Bayes classifier and compare results=\n",
        "\n",
        "\n",
        "ans:-*italicized text*"
      ],
      "metadata": {
        "id": "R0Bg9vJwK-jQ"
      }
    },
    {
      "source": [
        "import numpy as np\n",
        "from sklearn.datasets import load_breast_cancer\n",
        "from sklearn.model_selection import train_test_split\n",
        "from sklearn.feature_selection import SelectKBest, chi2\n",
        "from sklearn.naive_bayes import GaussianNB\n",
        "from sklearn.metrics import accuracy_score\n",
        "\n",
        "# Load the Breast Cancer dataset\n",
        "breast_cancer = load_breast_cancer()\n",
        "X = breast_cancer.data\n",
        "y = breast_cancer.target\n",
        "\n",
        "# Split the data into training and testing sets\n",
        "X_train, X_test, y_train, y_test = train_test_split(X, y, test_size=0.3, random_state=42)\n",
        "\n",
        "# Feature selection using SelectKBest with chi-squared test\n",
        "k_best = SelectKBest(chi2, k=10)  # Select top 10 features\n",
        "X_train_selected = k_best.fit_transform(X_train, y_train)\n",
        "X_test_selected = k_best.transform(X_test)\n",
        "\n",
        "# Train Naïve Bayes with all features\n",
        "nb_all_features = GaussianNB()\n",
        "nb_all_features.fit(X_train, y_train)\n",
        "y_pred_all_features = nb_all_features.predict(X_test)\n",
        "accuracy_all_features = accuracy_score(y_test, y_pred_all_features)\n",
        "\n",
        "# Train Naïve Bayes with selected features\n",
        "nb_selected_features = GaussianNB()\n",
        "nb_selected_features.fit(X_train_selected, y_train)\n",
        "y_pred_selected_features = nb_selected_features.predict(X_test_selected)\n",
        "accuracy_selected_features = accuracy_score(y_test, y_pred_selected_features)\n",
        "\n",
        "# Print accuracies\n",
        "print(\"Accuracy (All Features):\", accuracy_all_features)\n",
        "print(\"Accuracy (Selected Features):\", accuracy_selected_features)"
      ],
      "cell_type": "code",
      "metadata": {
        "colab": {
          "base_uri": "https://localhost:8080/"
        },
        "id": "figcqjqWLGYi",
        "outputId": "b926bb57-0587-402e-91d3-72dba91b856a"
      },
      "execution_count": 9,
      "outputs": [
        {
          "output_type": "stream",
          "name": "stdout",
          "text": [
            "Accuracy (All Features): 0.9415204678362573\n",
            "Accuracy (Selected Features): 0.9532163742690059\n"
          ]
        }
      ]
    },
    {
      "cell_type": "markdown",
      "source": [],
      "metadata": {
        "id": "T7meFLvWLJre"
      }
    },
    {
      "source": [
        "from sklearn.datasets import load_wine\n",
        "from sklearn.model_selection import train_test_split\n",
        "from sklearn.svm import SVC\n",
        "from sklearn.multiclass import OneVsRestClassifier, OneVsOneClassifier\n",
        "from sklearn.metrics import accuracy_score\n",
        "\n",
        "# Load the Wine dataset\n",
        "wine = load_wine()\n",
        "X = wine.data\n",
        "y = wine.target\n",
        "\n",
        "# Split the data into training and testing sets\n",
        "X_train, X_test, y_train, y_test = train_test_split(X, y, test_size=0.3, random_state=42)\n",
        "\n",
        "# Train SVM with OvR strategy\n",
        "ovr_classifier = OneVsRestClassifier(SVC(kernel='linear'))  # Use linear kernel for simplicity\n",
        "ovr_classifier.fit(X_train, y_train)\n",
        "y_pred_ovr = ovr_classifier.predict(X_test)\n",
        "accuracy_ovr = accuracy_score(y_test, y_pred_ovr)\n",
        "\n",
        "# Train SVM with OvO strategy\n",
        "ovo_classifier = OneVsOneClassifier(SVC(kernel='linear'))\n",
        "ovo_classifier.fit(X_train, y_train)\n",
        "y_pred_ovo = ovo_classifier.predict(X_test)\n",
        "accuracy_ovo = accuracy_score(y_test, y_pred_ovo)\n",
        "\n",
        "# Print accuracies\n",
        "print(\"Accuracy (One-vs-Rest):\", accuracy_ovr)\n",
        "print(\"Accuracy (One-vs-One):\", accuracy_ovo)"
      ],
      "cell_type": "code",
      "metadata": {
        "colab": {
          "base_uri": "https://localhost:8080/"
        },
        "id": "EOlDvXlDLVZU",
        "outputId": "1c9049cf-9a2b-4337-a1d5-a262dd03e168"
      },
      "execution_count": 10,
      "outputs": [
        {
          "output_type": "stream",
          "name": "stdout",
          "text": [
            "Accuracy (One-vs-Rest): 0.9814814814814815\n",
            "Accuracy (One-vs-One): 0.9814814814814815\n"
          ]
        }
      ]
    },
    {
      "cell_type": "markdown",
      "source": [
        "37. Write a Python program to train an SVM Classifier using Linear, Polynomial, and RBF kernels on the Breast Cancer dataset and compare their accuracy=\n",
        "\n",
        "\n",
        "ans1-"
      ],
      "metadata": {
        "id": "H4FTLQQNLWrN"
      }
    },
    {
      "source": [
        "from sklearn.datasets import load_breast_cancer\n",
        "from sklearn.model_selection import train_test_split\n",
        "from sklearn.svm import SVC\n",
        "from sklearn.metrics import accuracy_score\n",
        "\n",
        "# Load the Breast Cancer dataset\n",
        "breast_cancer = load_breast_cancer()\n",
        "X = breast_cancer.data\n",
        "y = breast_cancer.target\n",
        "\n",
        "# Split the data into training and testing sets\n",
        "X_train, X_test, y_train, y_test = train_test_split(X, y, test_size=0.3, random_state=42)\n",
        "\n",
        "# Train SVM with Linear kernel\n",
        "svm_linear = SVC(kernel='linear')\n",
        "svm_linear.fit(X_train, y_train)\n",
        "y_pred_linear = svm_linear.predict(X_test)\n",
        "accuracy_linear = accuracy_score(y_test, y_pred_linear)\n",
        "\n",
        "# Train SVM with Polynomial kernel\n",
        "svm_poly = SVC(kernel='poly')\n",
        "svm_poly.fit(X_train, y_train)\n",
        "y_pred_poly = svm_poly.predict(X_test)\n",
        "accuracy_poly = accuracy_score(y_test, y_pred_poly)\n",
        "\n",
        "# Train SVM with RBF kernel\n",
        "svm_rbf = SVC(kernel='rbf')\n",
        "svm_rbf.fit(X_train, y_train)\n",
        "y_pred_rbf = svm_rbf.predict(X_test)\n",
        "accuracy_rbf = accuracy_score(y_test, y_pred_rbf)\n",
        "\n",
        "# Print accuracies\n",
        "print(\"Accuracy (Linear Kernel):\", accuracy_linear)\n",
        "print(\"Accuracy (Polynomial Kernel):\", accuracy_poly)\n",
        "print(\"Accuracy (RBF Kernel):\", accuracy_rbf)"
      ],
      "cell_type": "code",
      "metadata": {
        "colab": {
          "base_uri": "https://localhost:8080/"
        },
        "id": "_qQP0upXLhir",
        "outputId": "da284e7f-7084-4958-e937-6e0fbe79ffa2"
      },
      "execution_count": 11,
      "outputs": [
        {
          "output_type": "stream",
          "name": "stdout",
          "text": [
            "Accuracy (Linear Kernel): 0.9649122807017544\n",
            "Accuracy (Polynomial Kernel): 0.9415204678362573\n",
            "Accuracy (RBF Kernel): 0.935672514619883\n"
          ]
        }
      ]
    },
    {
      "cell_type": "markdown",
      "source": [
        "38. Write a Python program to train an SVM Classifier using Stratified K-Fold Cross-Validation and compute the average accuracy=\n",
        "\n",
        "\n",
        "ans:-"
      ],
      "metadata": {
        "id": "QQiF59BeOWyo"
      }
    },
    {
      "source": [
        "from sklearn.datasets import load_breast_cancer\n",
        "from sklearn.model_selection import StratifiedKFold, cross_val_score\n",
        "from sklearn.svm import SVC\n",
        "\n",
        "# Load the Breast Cancer dataset\n",
        "breast_cancer = load_breast_cancer()\n",
        "X = breast_cancer.data\n",
        "y = breast_cancer.target\n",
        "\n",
        "# Create a StratifiedKFold object\n",
        "skf = StratifiedKFold(n_splits=5, shuffle=True, random_state=42)  # 5 folds, shuffle data\n",
        "\n",
        "# Create an SVM classifier object\n",
        "svm_classifier = SVC(kernel='linear')  # Use linear kernel for simplicity\n",
        "\n",
        "# Perform cross-validation and compute average accuracy\n",
        "scores = cross_val_score(svm_classifier, X, y, cv=skf, scoring='accuracy')\n",
        "average_accuracy = scores.mean()\n",
        "\n",
        "# Print the average accuracy\n",
        "print(\"Average Accuracy:\", average_accuracy)"
      ],
      "cell_type": "code",
      "metadata": {
        "colab": {
          "base_uri": "https://localhost:8080/"
        },
        "id": "P_QhcpSkOtFK",
        "outputId": "8cd803c1-7291-4d74-e264-d822db614688"
      },
      "execution_count": 12,
      "outputs": [
        {
          "output_type": "stream",
          "name": "stdout",
          "text": [
            "Average Accuracy: 0.9473063188945815\n"
          ]
        }
      ]
    },
    {
      "cell_type": "markdown",
      "source": [
        "39. Write a Python program to train a Naïve Bayes classifier using different prior probabilities and compare performance=\n",
        "\n",
        "\n",
        "ans:-"
      ],
      "metadata": {
        "id": "X91ACDbBO8cj"
      }
    },
    {
      "cell_type": "code",
      "source": [],
      "metadata": {
        "id": "Oi5oQBY0IiiB"
      },
      "execution_count": null,
      "outputs": []
    },
    {
      "source": [
        "import numpy as np\n",
        "from sklearn.datasets import load_iris\n",
        "from sklearn.model_selection import train_test_split\n",
        "from sklearn.naive_bayes import GaussianNB\n",
        "from sklearn.metrics import accuracy_score\n",
        "\n",
        "# Load the Iris dataset\n",
        "iris = load_iris()\n",
        "X = iris.data\n",
        "y = iris.target\n",
        "\n",
        "# Split data into training and testing sets\n",
        "X_train, X_test, y_train, y_test = train_test_split(X, y, test_size=0.3, random_state=42)\n",
        "\n",
        "# Define different prior probabilities\n",
        "priors_1 = [0.33, 0.33, 0.34]  # Equal priors for all classes\n",
        "priors_2 = [0.2, 0.5, 0.3]  # Different priors\n",
        "\n",
        "# Train Naïve Bayes with equal priors\n",
        "nb_equal_priors = GaussianNB(priors=priors_1)\n",
        "nb_equal_priors.fit(X_train, y_train)\n",
        "y_pred_equal_priors = nb_equal_priors.predict(X_test)\n",
        "accuracy_equal_priors = accuracy_score(y_test, y_pred_equal_priors)\n",
        "\n",
        "# Train Naïve Bayes with different priors\n",
        "nb_diff_priors = GaussianNB(priors=priors_2)\n",
        "nb_diff_priors.fit(X_train, y_train)\n",
        "y_pred_diff_priors = nb_diff_priors.predict(X_test)\n",
        "accuracy_diff_priors = accuracy_score(y_test, y_pred_diff_priors)\n",
        "\n",
        "# Print accuracies\n",
        "print(\"Accuracy (Equal Priors):\", accuracy_equal_priors)\n",
        "print(\"Accuracy (Different Priors):\", accuracy_diff_priors)"
      ],
      "cell_type": "code",
      "metadata": {
        "colab": {
          "base_uri": "https://localhost:8080/"
        },
        "id": "u_HkqKHMPHjz",
        "outputId": "d7a91e4a-788d-4085-c6fa-288c0bc01db3"
      },
      "execution_count": 14,
      "outputs": [
        {
          "output_type": "stream",
          "name": "stdout",
          "text": [
            "Accuracy (Equal Priors): 0.9777777777777777\n",
            "Accuracy (Different Priors): 1.0\n"
          ]
        }
      ]
    },
    {
      "cell_type": "markdown",
      "source": [
        "40.Write a Python program to perform Recursive Feature Elimination (RFE) before training an SVM Classifier and compare accuracy=\n",
        "\n",
        "\n",
        "ans:-"
      ],
      "metadata": {
        "id": "oORfuPmVPM3P"
      }
    },
    {
      "source": [
        "from sklearn.datasets import load_breast_cancer\n",
        "from sklearn.model_selection import train_test_split\n",
        "from sklearn.feature_selection import RFE\n",
        "from sklearn.svm import SVC\n",
        "from sklearn.metrics import accuracy_score\n",
        "\n",
        "# Load the Breast Cancer dataset\n",
        "breast_cancer = load_breast_cancer()\n",
        "X = breast_cancer.data\n",
        "y = breast_cancer.target\n",
        "\n",
        "# Split data into training and testing sets\n",
        "X_train, X_test, y_train, y_test = train_test_split(X, y, test_size=0.3, random_state=42)\n",
        "\n",
        "# Create an SVM classifier object\n",
        "svm_classifier = SVC(kernel='linear')  # Use linear kernel for simplicity\n",
        "\n",
        "# Create an RFE object\n",
        "rfe = RFE(estimator=svm_classifier, n_features_to_select=10, step=1)  # Select 10 features\n",
        "\n",
        "# Perform RFE and transform the data\n",
        "X_train_rfe = rfe.fit_transform(X_train, y_train)\n",
        "X_test_rfe = rfe.transform(X_test)\n",
        "\n",
        "# Train SVM with all features\n",
        "svm_all_features = SVC(kernel='linear')\n",
        "svm_all_features.fit(X_train, y_train)\n",
        "y_pred_all_features = svm_all_features.predict(X_test)\n",
        "accuracy_all_features = accuracy_score(y_test, y_pred_all_features)\n",
        "\n",
        "# Train SVM with selected features (after RFE)\n",
        "svm_selected_features = SVC(kernel='linear')\n",
        "svm_selected_features.fit(X_train_rfe, y_train)\n",
        "y_pred_selected_features = svm_selected_features.predict(X_test_rfe)\n",
        "accuracy_selected_features = accuracy_score(y_test, y_pred_selected_features)\n",
        "\n",
        "# Print accuracies\n",
        "print(\"Accuracy (All Features):\", accuracy_all_features)\n",
        "print(\"Accuracy (Selected Features):\", accuracy_selected_features)"
      ],
      "cell_type": "code",
      "metadata": {
        "colab": {
          "base_uri": "https://localhost:8080/"
        },
        "id": "ffUmQKKsPhdU",
        "outputId": "4743dc3a-a2ba-4e51-86c6-13e21d7ed41f"
      },
      "execution_count": 15,
      "outputs": [
        {
          "output_type": "stream",
          "name": "stdout",
          "text": [
            "Accuracy (All Features): 0.9649122807017544\n",
            "Accuracy (Selected Features): 0.9298245614035088\n"
          ]
        }
      ]
    },
    {
      "cell_type": "markdown",
      "source": [
        "41. Write a Python program to train an SVM Classifier and evaluate its performance using Precision, Recall, and F1-Score instead of accuracy=\n",
        "\n",
        "ans:-"
      ],
      "metadata": {
        "id": "6aCrxKGcPmRw"
      }
    },
    {
      "source": [
        "from sklearn.datasets import load_breast_cancer\n",
        "from sklearn.model_selection import train_test_split\n",
        "from sklearn.svm import SVC\n",
        "from sklearn.metrics import precision_score, recall_score, f1_score\n",
        "\n",
        "# Load the Breast Cancer dataset\n",
        "breast_cancer = load_breast_cancer()\n",
        "X = breast_cancer.data\n",
        "y = breast_cancer.target\n",
        "\n",
        "# Split the data into training and testing sets\n",
        "X_train, X_test, y_train, y_test = train_test_split(X, y, test_size=0.3, random_state=42)\n",
        "\n",
        "# Train an SVM classifier\n",
        "svm_classifier = SVC(kernel='linear')  # Use linear kernel for simplicity\n",
        "svm_classifier.fit(X_train, y_train)\n",
        "\n",
        "# Make predictions on the test set\n",
        "y_pred = svm_classifier.predict(X_test)\n",
        "\n",
        "# Calculate and print Precision, Recall, and F1-Score\n",
        "precision = precision_score(y_test, y_pred)\n",
        "recall = recall_score(y_test, y_pred)\n",
        "f1 = f1_score(y_test, y_pred)\n",
        "\n",
        "print(\"Precision:\", precision)\n",
        "print(\"Recall:\", recall)\n",
        "print(\"F1-Score:\", f1)"
      ],
      "cell_type": "code",
      "metadata": {
        "colab": {
          "base_uri": "https://localhost:8080/"
        },
        "id": "qzaarR44P2bK",
        "outputId": "b0517b0c-2f20-40cd-f2e4-bc8952a90275"
      },
      "execution_count": 16,
      "outputs": [
        {
          "output_type": "stream",
          "name": "stdout",
          "text": [
            "Precision: 0.9636363636363636\n",
            "Recall: 0.9814814814814815\n",
            "F1-Score: 0.9724770642201835\n"
          ]
        }
      ]
    },
    {
      "cell_type": "markdown",
      "source": [
        "42. Write a Python program to train a Naïve Bayes Classifier and evaluate its performance using Log Loss\n",
        "(Cross-Entropy Loss)=\n",
        "\n",
        "\n",
        "ans:-"
      ],
      "metadata": {
        "id": "BzKwYQlxP_3b"
      }
    },
    {
      "source": [
        "from sklearn.datasets import load_breast_cancer\n",
        "from sklearn.model_selection import train_test_split\n",
        "from sklearn.naive_bayes import GaussianNB\n",
        "from sklearn.metrics import log_loss\n",
        "\n",
        "# Load the Breast Cancer dataset\n",
        "breast_cancer = load_breast_cancer()\n",
        "X = breast_cancer.data\n",
        "y = breast_cancer.target\n",
        "\n",
        "# Split the data into training and testing sets\n",
        "X_train, X_test, y_train, y_test = train_test_split(X, y, test_size=0.3, random_state=42)\n",
        "\n",
        "# Train a Naïve Bayes classifier\n",
        "nb_classifier = GaussianNB()\n",
        "nb_classifier.fit(X_train, y_train)\n",
        "\n",
        "# Predict probabilities on the test set\n",
        "y_pred_prob = nb_classifier.predict_proba(X_test)\n",
        "\n",
        "# Calculate and print Log Loss\n",
        "logloss = log_loss(y_test, y_pred_prob)\n",
        "print(\"Log Loss:\", logloss)"
      ],
      "cell_type": "code",
      "metadata": {
        "colab": {
          "base_uri": "https://localhost:8080/"
        },
        "id": "mcMW007XQq99",
        "outputId": "b44991bb-7198-4862-e036-8867dfaf89da"
      },
      "execution_count": 17,
      "outputs": [
        {
          "output_type": "stream",
          "name": "stdout",
          "text": [
            "Log Loss: 0.48986013210958873\n"
          ]
        }
      ]
    },
    {
      "cell_type": "markdown",
      "source": [
        "43. Write a Python program to train an SVM Classifier and visualize the Confusion Matrix using seaborn=\n",
        "\n",
        "\n",
        "\n",
        "ans:-"
      ],
      "metadata": {
        "id": "R4supVVIQtPj"
      }
    },
    {
      "cell_type": "code",
      "source": [],
      "metadata": {
        "id": "lDstBHwpQKdp"
      },
      "execution_count": null,
      "outputs": []
    },
    {
      "source": [
        "import seaborn as sns\n",
        "import matplotlib.pyplot as plt\n",
        "from sklearn.datasets import load_breast_cancer\n",
        "from sklearn.model_selection import train_test_split\n",
        "from sklearn.svm import SVC\n",
        "from sklearn.metrics import confusion_matrix\n",
        "\n",
        "# Load the Breast Cancer dataset\n",
        "breast_cancer = load_breast_cancer()\n",
        "X = breast_cancer.data\n",
        "y = breast_cancer.target\n",
        "\n",
        "# Split the data into training and testing sets\n",
        "X_train, X_test, y_train, y_test = train_test_split(X, y, test_size=0.3, random_state=42)\n",
        "\n",
        "# Train an SVM classifier\n",
        "svm_classifier = SVC(kernel='linear')  # Use linear kernel for simplicity\n",
        "svm_classifier.fit(X_train, y_train)\n",
        "\n",
        "# Make predictions on the test set\n",
        "y_pred = svm_classifier.predict(X_test)\n",
        "\n",
        "# Create the confusion matrix\n",
        "cm = confusion_matrix(y_test, y_pred)\n",
        "\n",
        "# Visualize the confusion matrix using seaborn\n",
        "plt.figure(figsize=(8, 6))\n",
        "sns.heatmap(cm, annot=True, fmt=\"d\", cmap=\"Blues\", cbar=False)\n",
        "plt.title(\"Confusion Matrix for SVM Classifier\")\n",
        "plt.xlabel(\"Predicted Label\")\n",
        "plt.ylabel(\"True Label\")\n",
        "plt.show()"
      ],
      "cell_type": "code",
      "metadata": {
        "colab": {
          "base_uri": "https://localhost:8080/",
          "height": 564
        },
        "id": "kFSmzAfkQ0yJ",
        "outputId": "6d24acfa-5f5d-4cf0-8941-fb1b5eef34ab"
      },
      "execution_count": 18,
      "outputs": [
        {
          "output_type": "display_data",
          "data": {
            "text/plain": [
              "<Figure size 800x600 with 1 Axes>"
            ],
            "image/png": "[encoded data removed]"
          },
          "metadata": {}
        }
      ]
    },
    {
      "cell_type": "markdown",
      "source": [
        "44. Write a Python program to train an SVM Regressor (SVR) and evaluate its performance using Mean Absolute Error (MAE) instead of MSE=\n",
        "\n",
        "\n",
        "ans:-"
      ],
      "metadata": {
        "id": "tSq3YZRUQ3Lb"
      }
    },
    {
      "source": [
        "\n",
        "from sklearn.datasets import load_boston\n",
        "from sklearn.model_selection import train_test_split\n",
        "from sklearn.svm import SVR\n",
        "from sklearn.metrics import mean_absolute_error\n",
        "\n",
        "# Load the Boston Housing dataset\n",
        "boston = load_boston()\n",
        "X = boston.data\n",
        "y = boston.target\n",
        "\n",
        "# Split the data into training and testing sets\n",
        "X_train, X_test, y_train, y_test = train_test_split(X, y, test_size=0.3, random_state=42)\n",
        "\n",
        "# Train an SVR model\n",
        "svr_model = SVR(kernel='linear')  # Use linear kernel for simplicity\n",
        "svr_model.fit(X_train, y_train)\n",
        "\n",
        "# Make predictions on the test set\n",
        "y_pred = svr_model.predict(X_test)\n",
        "\n",
        "# Calculate and print Mean Absolute Error (MAE)\n",
        "mae = mean_absolute_error(y_test, y_pred)\n",
        "print(\"Mean Absolute Error (MAE):\", mae)"
      ],
      "cell_type": "code",
      "metadata": {
        "colab": {
          "base_uri": "https://localhost:8080/",
          "height": 1000
        },
        "id": "KwX37-PdQ-Xj",
        "outputId": "e3cb5f3c-499f-4875-8953-9fa8fa3d3b41"
      },
      "execution_count": 19,
      "outputs": [
        {
          "output_type": "error",
          "ename": "ImportError",
          "evalue": "\n`load_boston` has been removed from scikit-learn since version 1.2.\n\nThe Boston housing prices dataset has an ethical problem: as\ninvestigated in [1], the authors of this dataset engineered a\nnon-invertible variable \"B\" assuming that racial self-segregation had a\npositive impact on house prices [2]. Furthermore the goal of the\nresearch that led to the creation of this dataset was to study the\nimpact of air quality but it did not give adequate demonstration of the\nvalidity of this assumption.\n\nThe scikit-learn maintainers therefore strongly discourage the use of\nthis dataset unless the purpose of the code is to study and educate\nabout ethical issues in data science and machine learning.\n\nIn this special case, you can fetch the dataset from the original\nsource::\n\n    import pandas as pd\n    import numpy as np\n\n    data_url = \"http://lib.stat.cmu.edu/datasets/boston\"\n    raw_df = pd.read_csv(data_url, sep=\"\\s+\", skiprows=22, header=None)\n    data = np.hstack([raw_df.values[::2, :], raw_df.values[1::2, :2]])\n    target = raw_df.values[1::2, 2]\n\nAlternative datasets include the California housing dataset and the\nAmes housing dataset. You can load the datasets as follows::\n\n    from sklearn.datasets import fetch_california_housing\n    housing = fetch_california_housing()\n\nfor the California housing dataset and::\n\n    from sklearn.datasets import fetch_openml\n    housing = fetch_openml(name=\"house_prices\", as_frame=True)\n\nfor the Ames housing dataset.\n\n[1] M Carlisle.\n\"Racist data destruction?\"\n<https://medium.com/@docintangible/racist-data-destruction-113e3eff54a8>\n\n[2] Harrison Jr, David, and Daniel L. Rubinfeld.\n\"Hedonic housing prices and the demand for clean air.\"\nJournal of environmental economics and management 5.1 (1978): 81-102.\n<https://www.researchgate.net/publication/4974606_Hedonic_housing_prices_and_the_demand_for_clean_air>\n",
          "traceback": [
            "\u001b[0;31m---------------------------------------------------------------------------\u001b[0m",
            "\u001b[0;31mImportError\u001b[0m                               Traceback (most recent call last)",
            "\u001b[0;32m<ipython-input-19-e7308041f12e>\u001b[0m in \u001b[0;36m<cell line: 0>\u001b[0;34m()\u001b[0m\n\u001b[0;32m----> 1\u001b[0;31m \u001b[0;32mfrom\u001b[0m \u001b[0msklearn\u001b[0m\u001b[0;34m.\u001b[0m\u001b[0mdatasets\u001b[0m \u001b[0;32mimport\u001b[0m \u001b[0mload_boston\u001b[0m\u001b[0;34m\u001b[0m\u001b[0;34m\u001b[0m\u001b[0m\n\u001b[0m\u001b[1;32m      2\u001b[0m \u001b[0;32mfrom\u001b[0m \u001b[0msklearn\u001b[0m\u001b[0;34m.\u001b[0m\u001b[0mmodel_selection\u001b[0m \u001b[0;32mimport\u001b[0m \u001b[0mtrain_test_split\u001b[0m\u001b[0;34m\u001b[0m\u001b[0;34m\u001b[0m\u001b[0m\n\u001b[1;32m      3\u001b[0m \u001b[0;32mfrom\u001b[0m \u001b[0msklearn\u001b[0m\u001b[0;34m.\u001b[0m\u001b[0msvm\u001b[0m \u001b[0;32mimport\u001b[0m \u001b[0mSVR\u001b[0m\u001b[0;34m\u001b[0m\u001b[0;34m\u001b[0m\u001b[0m\n\u001b[1;32m      4\u001b[0m \u001b[0;32mfrom\u001b[0m \u001b[0msklearn\u001b[0m\u001b[0;34m.\u001b[0m\u001b[0mmetrics\u001b[0m \u001b[0;32mimport\u001b[0m \u001b[0mmean_absolute_error\u001b[0m\u001b[0;34m\u001b[0m\u001b[0;34m\u001b[0m\u001b[0m\n\u001b[1;32m      5\u001b[0m \u001b[0;34m\u001b[0m\u001b[0m\n",
            "\u001b[0;32m/usr/local/lib/python3.11/dist-packages/sklearn/datasets/__init__.py\u001b[0m in \u001b[0;36m__getattr__\u001b[0;34m(name)\u001b[0m\n\u001b[1;32m    159\u001b[0m             \"\"\"\n\u001b[1;32m    160\u001b[0m         )\n\u001b[0;32m--> 161\u001b[0;31m         \u001b[0;32mraise\u001b[0m \u001b[0mImportError\u001b[0m\u001b[0;34m(\u001b[0m\u001b[0mmsg\u001b[0m\u001b[0;34m)\u001b[0m\u001b[0;34m\u001b[0m\u001b[0;34m\u001b[0m\u001b[0m\n\u001b[0m\u001b[1;32m    162\u001b[0m     \u001b[0;32mtry\u001b[0m\u001b[0;34m:\u001b[0m\u001b[0;34m\u001b[0m\u001b[0;34m\u001b[0m\u001b[0m\n\u001b[1;32m    163\u001b[0m         \u001b[0;32mreturn\u001b[0m \u001b[0mglobals\u001b[0m\u001b[0;34m(\u001b[0m\u001b[0;34m)\u001b[0m\u001b[0;34m[\u001b[0m\u001b[0mname\u001b[0m\u001b[0;34m]\u001b[0m\u001b[0;34m\u001b[0m\u001b[0;34m\u001b[0m\u001b[0m\n",
            "\u001b[0;31mImportError\u001b[0m: \n`load_boston` has been removed from scikit-learn since version 1.2.\n\nThe Boston housing prices dataset has an ethical problem: as\ninvestigated in [1], the authors of this dataset engineered a\nnon-invertible variable \"B\" assuming that racial self-segregation had a\npositive impact on house prices [2]. Furthermore the goal of the\nresearch that led to the creation of this dataset was to study the\nimpact of air quality but it did not give adequate demonstration of the\nvalidity of this assumption.\n\nThe scikit-learn maintainers therefore strongly discourage the use of\nthis dataset unless the purpose of the code is to study and educate\nabout ethical issues in data science and machine learning.\n\nIn this special case, you can fetch the dataset from the original\nsource::\n\n    import pandas as pd\n    import numpy as np\n\n    data_url = \"http://lib.stat.cmu.edu/datasets/boston\"\n    raw_df = pd.read_csv(data_url, sep=\"\\s+\", skiprows=22, header=None)\n    data = np.hstack([raw_df.values[::2, :], raw_df.values[1::2, :2]])\n    target = raw_df.values[1::2, 2]\n\nAlternative datasets include the California housing dataset and the\nAmes housing dataset. You can load the datasets as follows::\n\n    from sklearn.datasets import fetch_california_housing\n    housing = fetch_california_housing()\n\nfor the California housing dataset and::\n\n    from sklearn.datasets import fetch_openml\n    housing = fetch_openml(name=\"house_prices\", as_frame=True)\n\nfor the Ames housing dataset.\n\n[1] M Carlisle.\n\"Racist data destruction?\"\n<https://medium.com/@docintangible/racist-data-destruction-113e3eff54a8>\n\n[2] Harrison Jr, David, and Daniel L. Rubinfeld.\n\"Hedonic housing prices and the demand for clean air.\"\nJournal of environmental economics and management 5.1 (1978): 81-102.\n<https://www.researchgate.net/publication/4974606_Hedonic_housing_prices_and_the_demand_for_clean_air>\n",
            "",
            "\u001b[0;31m---------------------------------------------------------------------------\u001b[0;32m\nNOTE: If your import is failing due to a missing package, you can\nmanually install dependencies using either !pip or !apt.\n\nTo view examples of installing some common dependencies, click the\n\"Open Examples\" button below.\n\u001b[0;31m---------------------------------------------------------------------------\u001b[0m\n"
          ],
          "errorDetails": {
            "actions": [
              {
                "action": "open_url",
                "actionText": "Open Examples",
                "url": "/notebooks/snippets/importing_libraries.ipynb"
              }
            ]
          }
        }
      ]
    },
    {
      "cell_type": "markdown",
      "source": [
        "45.Write a Python program to train a Naïve Bayes classifier and evaluate its performance using the ROC-AUC score=\n",
        "\n",
        "\n",
        "\n",
        "ans:-"
      ],
      "metadata": {
        "id": "qSgZDxCLRA34"
      }
    },
    {
      "source": [
        "import numpy as np\n",
        "from sklearn.datasets import load_breast_cancer\n",
        "from sklearn.model_selection import train_test_split\n",
        "from sklearn.naive_bayes import GaussianNB\n",
        "from sklearn.metrics import roc_auc_score\n",
        "\n",
        "# Load the Breast Cancer dataset\n",
        "breast_cancer = load_breast_cancer()\n",
        "X = breast_cancer.data\n",
        "y = breast_cancer.target\n",
        "\n",
        "# Split the data into training and testing sets\n",
        "X_train, X_test, y_train, y_test = train_test_split(X, y, test_size=0.3, random_state=42)\n",
        "\n",
        "# Train a Naïve Bayes classifier\n",
        "nb_classifier = GaussianNB()\n",
        "nb_classifier.fit(X_train, y_train)\n",
        "\n",
        "# Predict probabilities for the positive class\n",
        "y_pred_prob = nb_classifier.predict_proba(X_test)[:, 1]  # Probability of class 1\n",
        "\n",
        "# Calculate and print the ROC-AUC score\n",
        "roc_auc = roc_auc_score(y_test, y_pred_prob)\n",
        "print(\"ROC-AUC Score:\", roc_auc)"
      ],
      "cell_type": "code",
      "metadata": {
        "colab": {
          "base_uri": "https://localhost:8080/"
        },
        "id": "StG3JQ5cRZOw",
        "outputId": "b07c3432-89d4-4861-eaa9-2516f1ca13d4"
      },
      "execution_count": 20,
      "outputs": [
        {
          "output_type": "stream",
          "name": "stdout",
          "text": [
            "ROC-AUC Score: 0.9922104644326867\n"
          ]
        }
      ]
    },
    {
      "cell_type": "markdown",
      "source": [
        "46. Write a Python program to train an SVM Classifier and visualize the Precision-Recall Curve.\n",
        "\n",
        "\n",
        "ans:-"
      ],
      "metadata": {
        "id": "yJ6xPD3RRacG"
      }
    },
    {
      "source": [
        "import matplotlib.pyplot as plt\n",
        "from sklearn.datasets import load_breast_cancer\n",
        "from sklearn.model_selection import train_test_split\n",
        "from sklearn.svm import SVC\n",
        "from sklearn.metrics import precision_recall_curve, average_precision_score\n",
        "\n",
        "# Load the Breast Cancer dataset\n",
        "breast_cancer = load_breast_cancer()\n",
        "X = breast_cancer.data\n",
        "y = breast_cancer.target\n",
        "\n",
        "# Split the data into training and testing sets\n",
        "X_train, X_test, y_train, y_test = train_test_split(X, y, test_size=0.3, random_state=42)\n",
        "\n",
        "# Train an SVM classifier\n",
        "svm_classifier = SVC(kernel='linear', probability=True)  # probability=True is important for predict_proba\n",
        "svm_classifier.fit(X_train, y_train)\n",
        "\n",
        "# Predict probabilities for the positive class\n",
        "y_pred_prob = svm_classifier.predict_proba(X_test)[:, 1]\n",
        "\n",
        "# Calculate precision, recall, and thresholds\n",
        "precision, recall, thresholds = precision_recall_curve(y_test, y_pred_prob)\n",
        "\n",
        "# Calculate average precision\n",
        "average_precision = average_precision_score(y_test, y_pred_prob)\n",
        "\n",
        "# Plot the Precision-Recall curve\n",
        "plt.figure(figsize=(8, 6))\n",
        "plt.step(recall, precision, color='b', alpha=0.2, where='post')\n",
        "plt.fill_between(recall, precision, step='post', alpha=0.2, color='b')\n",
        "plt.xlabel('Recall')\n",
        "plt.ylabel('Precision')\n",
        "plt.title('Precision-Recall curve: AP={0:0.2f}'.format(average_precision))\n",
        "plt.show()"
      ],
      "cell_type": "code",
      "metadata": {
        "colab": {
          "base_uri": "https://localhost:8080/",
          "height": 564
        },
        "id": "riGYt3vXRjSi",
        "outputId": "16855ced-d0c4-45ca-9301-7ab439622d2c"
      },
      "execution_count": 21,
      "outputs": [
        {
          "output_type": "display_data",
          "data": {
            "text/plain": [
              "<Figure size 800x600 with 1 Axes>"
            ],
            "image/png": "[encoded data removed]"
          },
          "metadata": {}
        }
      ]
    },
    {
      "cell_type": "code",
      "source": [],
      "metadata": {
        "id": "tZrU8UkKQ1HX"
      },
      "execution_count": null,
      "outputs": []
    }
  ]
}