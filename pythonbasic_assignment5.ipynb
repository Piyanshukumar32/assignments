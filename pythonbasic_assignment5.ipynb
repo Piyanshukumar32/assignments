{
  "nbformat": 4,
  "nbformat_minor": 0,
  "metadata": {
    "colab": {
      "provenance": []
    },
    "kernelspec": {
      "name": "python3",
      "display_name": "Python 3"
    },
    "language_info": {
      "name": "python"
    }
  },
  "cells": [
    {
      "cell_type": "code",
      "execution_count": null,
      "metadata": {
        "id": "UDswBkM64OjV"
      },
      "outputs": [],
      "source": []
    },
    {
      "cell_type": "markdown",
      "source": [
        "1.what are the five key concepts of object-oriented programming (opp).\n",
        "\n",
        "ans:-the five key concepts of object-oriented programming (OOP):\n",
        "\n",
        "Classes and Objects: Classes are blueprints for creating objects, which are instances of a class. For example, you could have a class called Dog and create objects like my_dog and your_dog, which would both have the properties and behaviors defined by the Dog class.\n",
        "Abstraction: Abstraction is the process of hiding complex implementation details and showing only the essential information to the user. This makes code easier to understand and use. For example, when you drive a car, you don't need to know how the engine works, you only need to know how to use the steering wheel, gas pedal, and brakes.\n",
        "Encapsulation: Encapsulation is the process of bundling data and methods that operate on that data within a single unit (a class). This protects data from unauthorized access and modification. For example, a bank account class might encapsulate the account balance and provide methods for depositing and withdrawing money, preventing direct access to the balance from outside the class.\n",
        "Inheritance: Inheritance is the mechanism that allows classes to inherit properties and behaviors from other classes. This promotes code reusability and reduces redundancy. For example, you could have a class called Animal and then create subclasses like Dog and Cat, which would inherit properties like name and age from the Animal class.\n",
        "Polymorphism: Polymorphism means \"many forms\" and refers to the ability of objects to take on different forms. This allows you to write code that can work with objects of different classes in a uniform way. For example, you could have a method called make_sound() that works with both Dog and Cat objects, even though they make different sounds.\n",
        "These concepts work together to make OOP a powerful and flexible programming paradigm."
      ],
      "metadata": {
        "id": "luigWtvE4Xy3"
      }
    },
    {
      "cell_type": "markdown",
      "source": [
        "2.write a python class for a car with attributes for make ,model,and year include a method to display the car information.\n",
        "\n",
        "ans:-How it Works:\n",
        "\n",
        "Class Definition: The class Car: line defines a new class called Car.\n",
        "Constructor (__init__): The __init__ method is a special method called the constructor. It is executed when a new object of the class is created. It initializes the object's attributes (make, model, year) with the values provided as arguments.\n",
        "Method (display_info): The display_info method is defined within the class. It prints the car's make, model, and year to the console.\n",
        "Object Creation: my_car = Car(\"Toyota\", \"Camry\", 2023) creates a new object of the Car class and assigns it to the variable my_car. The arguments \"Toyota\", \"Camry\", and 2023 are passed to the constructor to initialize the object's attributes.\n",
        "Method Call: my_car.display_info() calls the display_info method on the my_car object, which prints the car's information."
      ],
      "metadata": {
        "id": "1Wi_qvu74m9I"
      }
    },
    {
      "cell_type": "code",
      "source": [
        "class Car:\n",
        "    def __init__(self, make, model, year):\n",
        "        self.make = make\n",
        "        self.model = model\n",
        "        self.year = year\n",
        "\n",
        "    def display_info(self):\n",
        "        print(f\"Make: {self.make}\")\n",
        "        print(f\"Model: {self.model}\")\n",
        "        print(f\"Year: {self.year}\")\n",
        "\n",
        "# Create an instance of the Car class\n",
        "my_car = Car(\"Toyota\", \"Camry\", 2023)\n",
        "\n",
        "# Display the car's information\n",
        "my_car.display_info()\n"
      ],
      "metadata": {
        "colab": {
          "base_uri": "https://localhost:8080/"
        },
        "id": "Y1ZyXxeq4jRW",
        "outputId": "5d170945-0e2f-4c29-84f5-50a645251c73"
      },
      "execution_count": null,
      "outputs": [
        {
          "output_type": "stream",
          "name": "stdout",
          "text": [
            "Make: Toyota\n",
            "Model: Camry\n",
            "Year: 2023\n"
          ]
        }
      ]
    },
    {
      "cell_type": "markdown",
      "source": [
        "3.explain the difference between instance methods and class methods.provide an example of each.\n",
        "\n",
        "ans:-Instance Methods\n",
        "\n",
        "Purpose: These methods operate on an instance of a class (an object). They have access to the instance's attributes (self) and can modify them.\n",
        "Definition: Defined using def within the class. The first parameter is usually self, representing the instance.\n",
        "Calling: Called on an object using the dot operator (e.g., my_object.my_method()).\n",
        "Class Methods\n",
        "\n",
        "Purpose: These methods operate on the class itself, not on a specific instance. They have access to the class (cls) and can modify class-level attributes.\n",
        "Definition: Defined using def and decorated with @classmethod. The first parameter is usually cls, representing the class.\n",
        "Calling: Can be called on the class directly (e.g., MyClass.my_class_method()) or on an instance (though it's less common).\n",
        "example\n"
      ],
      "metadata": {
        "id": "ENlnp_-N5Dtb"
      }
    },
    {
      "cell_type": "code",
      "source": [
        "class MyClass:\n",
        "    class_variable = 0  # Class-level attribute\n",
        "\n",
        "    def __init__(self, value):\n",
        "        self.instance_variable = value  # Instance-level attribute\n",
        "\n",
        "    def instance_method(self):\n",
        "        print(f\"Instance method: {self.instance_variable}\")\n",
        "\n",
        "    @classmethod\n",
        "    def class_method(cls):\n",
        "        print(f\"Class method: {cls.class_variable}\")\n",
        "\n",
        "# Create an object\n",
        "obj = MyClass(15)\n",
        "\n",
        "# Call instance method\n",
        "obj.instance_method()  # Output: Instance method: 10\n",
        "\n",
        "# Call class method\n",
        "MyClass.class_method()  # Output: Class method: 0"
      ],
      "metadata": {
        "colab": {
          "base_uri": "https://localhost:8080/"
        },
        "id": "FUHG9W5o4869",
        "outputId": "c0a7fa6a-01ca-4874-f150-ab351eacecb4"
      },
      "execution_count": null,
      "outputs": [
        {
          "output_type": "stream",
          "name": "stdout",
          "text": [
            "Instance method: 15\n",
            "Class method: 0\n"
          ]
        }
      ]
    },
    {
      "cell_type": "markdown",
      "source": [
        "4.how does python implement method overloading .give an example.\n",
        "\n",
        "ans:-Python's Approach\n",
        "\n",
        "Python doesn't have traditional method overloading like some other languages (e.g., Java, C++). In those languages, you can define multiple methods with the same name but different parameters, and the correct method is chosen based on the arguments at compile time.\n",
        "\n",
        "Instead, Python uses a more flexible approach where the latest defined method with the same name overrides any previous definitions. It focuses on runtime behavior.\n",
        "\n",
        "Example"
      ],
      "metadata": {
        "id": "mxBYxeiP5iQz"
      }
    },
    {
      "cell_type": "code",
      "source": [
        "class Calculator:\n",
        "    def add(self, x, y=None, z=None):\n",
        "        if y is None and z is None:\n",
        "            return x\n",
        "        elif z is None:\n",
        "            return x + y\n",
        "        else:\n",
        "            return x + y + z\n",
        "\n",
        "# Create an instance\n",
        "calc = Calculator()\n",
        "\n",
        "# Call add() with different arguments\n",
        "print(calc.add(5))\n",
        "print(calc.add(5, 10))\n",
        "print(calc.add(5, 10, 15))"
      ],
      "metadata": {
        "colab": {
          "base_uri": "https://localhost:8080/"
        },
        "id": "rU8qSckr5cdQ",
        "outputId": "5a794360-648f-404c-9030-8005c114a7b7"
      },
      "execution_count": null,
      "outputs": [
        {
          "output_type": "stream",
          "name": "stdout",
          "text": [
            "5\n",
            "15\n",
            "30\n"
          ]
        }
      ]
    },
    {
      "cell_type": "markdown",
      "source": [
        "5.what are the three types of access modifilers in python.how they are denoted.\n",
        "\n",
        "\n",
        "ans:-Access Modifiers\n",
        "\n",
        "Access modifiers control the visibility and accessibility of class members (attributes and methods). In Python, we have three main types:\n",
        "\n",
        "Public: Members are accessible from anywhere. They are denoted by simply defining them without any leading underscores.\n",
        "Protected: Members are accessible within the class and its subclasses. They are denoted by a single leading underscore (e.g., _protected_member).\n",
        "Private: Members are intended to be accessible only within the class itself. They are denoted by a double leading underscore (e.g., __private_member).\n",
        "\n",
        "Key Considerations\n",
        "\n",
        "Name Mangling: Private members undergo name mangling, where the name is modified to include the class name (e.g., _MyClass__private_member). This makes it harder to accidentally access them from outside the class.\n",
        "Convention: While Python doesn't enforce strict access control like some other languages, using underscores is a convention to signal the intended level of access and encourage good practice.\n",
        "Flexibility: Python's approach to access modifiers is more about guiding developers than strict restrictions. Direct access to protected and private members is technically possible but discouraged."
      ],
      "metadata": {
        "id": "rUCt3Xyi58Lq"
      }
    },
    {
      "cell_type": "code",
      "source": [
        "class MyClass:\n",
        "    def __init__(self):\n",
        "        self.public_member = 10      # Public\n",
        "        self._protected_member = 20  # Protected\n",
        "        self.__private_member = 30   # Private\n",
        "\n",
        "    def public_method(self):\n",
        "        pass\n",
        "\n",
        "    def _protected_method(self):\n",
        "        pass\n",
        "\n",
        "    def __private_method(self):\n",
        "        pass\n",
        "\n",
        "\n",
        "obj = MyClass()\n",
        "print(obj.public_member)\n",
        "print(obj._protected_member)\n",
        "print(obj._MyClass__private_member)"
      ],
      "metadata": {
        "colab": {
          "base_uri": "https://localhost:8080/"
        },
        "id": "7OOF4O9M5x0y",
        "outputId": "92c694a0-dc5b-4e38-e869-b54b44d68ae7"
      },
      "execution_count": null,
      "outputs": [
        {
          "output_type": "stream",
          "name": "stdout",
          "text": [
            "10\n",
            "20\n",
            "30\n"
          ]
        }
      ]
    },
    {
      "cell_type": "markdown",
      "source": [
        "6.describe the five types of inheritance in python. provide a simple example of multiple inheritance.\n",
        "\n",
        "ans:-Types of Inheritance\n",
        "\n",
        "Single Inheritance: A class inherits from a single base class.\n",
        "Multiple Inheritance: A class inherits from multiple base classes.\n",
        "Multilevel Inheritance: A class inherits from a derived class, which in turn inherits from another base class (forming a hierarchy).\n",
        "Hierarchical Inheritance: Multiple classes inherit from a single base class.\n",
        "Hybrid Inheritance: A combination of multiple and multilevel inheritance.\n",
        "Example of Multiple Inheritance"
      ],
      "metadata": {
        "id": "CIbs_kK06inI"
      }
    },
    {
      "cell_type": "code",
      "source": [
        "class Animal:\n",
        "    def speak(self):\n",
        "        print(\"Generic animal sound\")\n",
        "\n",
        "class Dog(Animal):\n",
        "    def bark(self):\n",
        "        print(\"Woof!\")\n",
        "\n",
        "class Cat(Animal):\n",
        "    def meow(self):\n",
        "        print(\"Meow!\")\n",
        "\n",
        "class DogCat(Dog, Cat):  # Multiple inheritance\n",
        "    pass\n",
        "\n",
        "# Create a DogCat object\n",
        "my_pet = DogCat()\n",
        "\n",
        "# Call inherited methods\n",
        "my_pet.bark()\n",
        "my_pet.meow()\n",
        "my_pet.speak()"
      ],
      "metadata": {
        "colab": {
          "base_uri": "https://localhost:8080/"
        },
        "id": "9e-cTrcR6Z1R",
        "outputId": "b56b504a-eaae-4f0f-c6a9-ceb807c53cc8"
      },
      "execution_count": null,
      "outputs": [
        {
          "output_type": "stream",
          "name": "stdout",
          "text": [
            "Woof!\n",
            "Meow!\n",
            "Generic animal sound\n"
          ]
        }
      ]
    },
    {
      "cell_type": "markdown",
      "source": [
        "7.what is the method resolution order (mro)in python . how can you retrive it programmiticaly.\n",
        "\n",
        "ans:-Method Resolution Order (MRO)\n",
        "\n",
        "MRO defines the order in which Python searches for methods in a class hierarchy, especially in cases of multiple inheritance. It ensures that method lookup is consistent and predictable.\n",
        "\n",
        "Retrieving MRO Programmatically\n",
        "\n",
        "You can retrieve the MRO of a class using the following methods:\n",
        "\n",
        "__mro__ attribute:"
      ],
      "metadata": {
        "id": "As2Pl-9u7MOc"
      }
    },
    {
      "cell_type": "code",
      "source": [
        "class MyClass:\n",
        "        pass\n",
        "        print(MyClass.__mro__)"
      ],
      "metadata": {
        "colab": {
          "base_uri": "https://localhost:8080/"
        },
        "id": "DQBXw2LP7Czf",
        "outputId": "cb92cf45-2d59-4fe9-85ca-e12614eaabad"
      },
      "execution_count": null,
      "outputs": [
        {
          "output_type": "stream",
          "name": "stdout",
          "text": [
            "(<class '__main__.MyClass'>, <class 'object'>)\n"
          ]
        }
      ]
    },
    {
      "cell_type": "code",
      "source": [
        "#mro()method\n",
        "class MyClass:\n",
        "        pass\n",
        "        print(MyClass.mro())"
      ],
      "metadata": {
        "colab": {
          "base_uri": "https://localhost:8080/"
        },
        "id": "omYDexS27weT",
        "outputId": "04e3775e-38aa-4fc2-b80d-21f9ffd28e7a"
      },
      "execution_count": null,
      "outputs": [
        {
          "output_type": "stream",
          "name": "stdout",
          "text": [
            "[<class '__main__.MyClass'>, <class 'object'>]\n"
          ]
        }
      ]
    },
    {
      "cell_type": "markdown",
      "source": [
        "Key Idea\n",
        "\n",
        "MRO is essential for understanding how Python resolves method calls in complex inheritance scenarios. By retrieving the MRO programmatically, you can gain insight into the lookup process and ensure your code behaves as expected."
      ],
      "metadata": {
        "id": "glyqMv5W7nEP"
      }
    },
    {
      "cell_type": "code",
      "source": [
        "class A:\n",
        "    pass\n",
        "\n",
        "class B(A):\n",
        "    pass\n",
        "\n",
        "class C(A):\n",
        "    pass\n",
        "\n",
        "class D(B, C):\n",
        "    pass\n",
        "\n",
        "print(D.__mro__)  # Output: (<class '__main__.D'>, <class '__main__.B'>, <class '__main__.C'>, <class '__main__.A'>, <class 'object'>)\n",
        "print(D.mro())    # Output: [<class '__main__.D'>, <class '__main__.B'>, <class '__main__.C'>, <class '__main__.A'>, <class 'object'>]"
      ],
      "metadata": {
        "colab": {
          "base_uri": "https://localhost:8080/"
        },
        "id": "I1WqfH_I7hoL",
        "outputId": "dcf57744-3af5-4ff3-a444-44a7c7176f4d"
      },
      "execution_count": null,
      "outputs": [
        {
          "output_type": "stream",
          "name": "stdout",
          "text": [
            "(<class '__main__.D'>, <class '__main__.B'>, <class '__main__.C'>, <class '__main__.A'>, <class 'object'>)\n",
            "[<class '__main__.D'>, <class '__main__.B'>, <class '__main__.C'>, <class '__main__.A'>, <class 'object'>]\n"
          ]
        }
      ]
    },
    {
      "cell_type": "markdown",
      "source": [
        "8.create an abstract base class shop with an abstract method area ().then create two subclasses circle and\n",
        "\n",
        "ans:-"
      ],
      "metadata": {
        "id": "PxBcCeOQ8AiJ"
      }
    },
    {
      "cell_type": "code",
      "source": [
        "from abc import ABC, abstractmethod\n",
        "\n",
        "class Shop(ABC):  # Abstract base class\n",
        "    @abstractmethod\n",
        "    def area(self):\n",
        "        pass\n",
        "\n",
        "class Circle(Shop):\n",
        "    def __init__(self, radius):\n",
        "        self.radius = radius\n",
        "\n",
        "    def area(self):\n",
        "        return 3.14159 * self.radius * self.radius\n",
        "\n",
        "class Rectangle(Shop):\n",
        "    def __init__(self, length, width):\n",
        "        self.length = length\n",
        "        self.width = width\n",
        "\n",
        "    def area(self):\n",
        "        return self.length * self.width\n",
        "\n",
        "# Create objects and calculate areas\n",
        "circle = Circle(5)\n",
        "rectangle = Rectangle(4, 6)\n",
        "\n",
        "print(f\"Circle area: {circle.area()}\")\n",
        "print(f\"Rectangle area: {rectangle.area()}\")"
      ],
      "metadata": {
        "colab": {
          "base_uri": "https://localhost:8080/"
        },
        "id": "g7GpH9sR7-nV",
        "outputId": "b5ef0354-dfef-43e8-8a21-4de70af5aa54"
      },
      "execution_count": null,
      "outputs": [
        {
          "output_type": "stream",
          "name": "stdout",
          "text": [
            "Circle area: 78.53975\n",
            "Rectangle area: 24\n"
          ]
        }
      ]
    },
    {
      "cell_type": "markdown",
      "source": [
        "9.demonstrate polymorphism by creating a function that can work with different shape objects to calculate and print their areas."
      ],
      "metadata": {
        "id": "i_6Qgj8O8TWa"
      }
    },
    {
      "cell_type": "code",
      "source": [
        "#answer\n",
        "from abc import ABC, abstractmethod\n",
        "\n",
        "class Shape(ABC):\n",
        "    @abstractmethod\n",
        "    def area(self):\n",
        "        pass\n",
        "\n",
        "class Circle(Shape):\n",
        "    def __init__(self, radius):\n",
        "        self.radius = radius\n",
        "\n",
        "    def area(self):\n",
        "        return 3.14159 * self.radius * self.radius\n",
        "\n",
        "class Rectangle(Shape):\n",
        "    def __init__(self, length, width):\n",
        "        self.length = length\n",
        "        self.width = width\n",
        "\n",
        "    def area(self):\n",
        "        return self.length * self.width\n",
        "\n",
        "def calculate_area(shape):\n",
        "    print(f\"Area: {shape.area()}\")\n",
        "\n",
        "# Create objects\n",
        "circle = Circle(5)\n",
        "rectangle = Rectangle(4, 6)\n",
        "\n",
        "# Calculate and print areas using polymorphism\n",
        "calculate_area(circle)\n",
        "calculate_area(rectangle)"
      ],
      "metadata": {
        "colab": {
          "base_uri": "https://localhost:8080/"
        },
        "id": "Wt6bXic48NMj",
        "outputId": "5419aac4-aa1a-42b7-a7bf-5d27a581ddc6"
      },
      "execution_count": null,
      "outputs": [
        {
          "output_type": "stream",
          "name": "stdout",
          "text": [
            "Area: 78.53975\n",
            "Area: 24\n"
          ]
        }
      ]
    },
    {
      "cell_type": "markdown",
      "source": [
        "10.implement encapsulation in a bank account class with private attributes for  blance and account_number include method for deposit,withdral ,and balance inquiry.\n",
        "\n",
        "aanas:-How Encapsulation is Applied:\n",
        "\n",
        "Private Attributes: __account_number and __balance are declared as private using double underscores. This restricts direct access from outside the class.\n",
        "Public Methods: deposit, withdraw, and get_balance are public methods that provide controlled access to the private attributes.\n",
        "Data Protection: Encapsulation protects the internal state of the BankAccount object by preventing external code from directly modifying the balance or account number. Interactions are done through the defined methods, ensuring data integrity."
      ],
      "metadata": {
        "id": "mTrTPZ2m8rTq"
      }
    },
    {
      "cell_type": "code",
      "source": [
        "class BankAccount:\n",
        "    def __init__(self, account_number, initial_balance):\n",
        "        self.__account_number = account_number  # Private attribute\n",
        "        self.__balance = initial_balance        # Private attribute\n",
        "\n",
        "    def deposit(self, amount):\n",
        "        if amount > 0:\n",
        "            self.__balance += amount\n",
        "            print(f\"Deposited: ${amount}\")\n",
        "        else:\n",
        "            print(\"Invalid deposit amount.\")\n",
        "\n",
        "    def withdraw(self, amount):\n",
        "        if 0 < amount <= self.__balance:\n",
        "            self.__balance -= amount\n",
        "            print(f\"Withdrew: ${amount}\")\n",
        "        else:\n",
        "            print(\"Insufficient funds or invalid withdrawal amount.\")\n",
        "\n",
        "    def get_balance(self):\n",
        "        print(f\"Account Balance: ${self.__balance}\")\n",
        "\n",
        "# Create an account\n",
        "account = BankAccount(\"1234567890\", 1000)\n",
        "\n",
        "# Perform operations\n",
        "account.deposit(500)\n",
        "account.withdraw(200)\n",
        "account.get_balance()"
      ],
      "metadata": {
        "colab": {
          "base_uri": "https://localhost:8080/"
        },
        "id": "qauawF0n8pgR",
        "outputId": "90207a9c-efe5-416d-ce7f-eb3753f64088"
      },
      "execution_count": null,
      "outputs": [
        {
          "output_type": "stream",
          "name": "stdout",
          "text": [
            "Deposited: $500\n",
            "Withdrew: $200\n",
            "Account Balance: $1300\n"
          ]
        }
      ]
    },
    {
      "cell_type": "markdown",
      "source": [
        "11.write a class that overrides the __str__and __odd__magic methods.what will these methods allow you to do.\n",
        "\n",
        "aNS:-class that overrides the __str__ and __add__ magic methods (I believe you meant __add__ instead of __odd__) and an explanation of what these methods allow you to do:\n",
        "\n",
        "What these methods allow you to do:\n",
        "\n",
        "__str__: This method allows you to define how an instance of your class is represented as a string when you use the print() function or convert it to a string using str(). In this example, it's used to print the Point object in a user-friendly format.\n",
        "\n",
        "__add__: This method allows you to define the behavior of the + operator when used with instances of your class. In this case, it allows you to add two Point objects together by adding their respective x and y coordinates."
      ],
      "metadata": {
        "id": "LOD8prdF9NRt"
      }
    },
    {
      "cell_type": "code",
      "source": [
        "class Point:\n",
        "    def __init__(self, x, y):\n",
        "        self.x = x\n",
        "        self.y = y\n",
        "\n",
        "    def __str__(self):\n",
        "        return f\"Point({self.x}, {self.y})\"\n",
        "\n",
        "    def __add__(self, other):\n",
        "        return Point(self.x + other.x, self.y + other.y)\n",
        "\n",
        "# Create instances\n",
        "p1 = Point(2, 3)\n",
        "p2 = Point(4, 5)\n",
        "\n",
        "# Using the overridden methods\n",
        "print(p1)\n",
        "p3 = p1 + p2\n",
        "print(p3)"
      ],
      "metadata": {
        "colab": {
          "base_uri": "https://localhost:8080/"
        },
        "id": "fSPYqdmq9COd",
        "outputId": "d411ea66-5a76-42a9-a915-b457c6f1908d"
      },
      "execution_count": null,
      "outputs": [
        {
          "output_type": "stream",
          "name": "stdout",
          "text": [
            "Point(2, 3)\n",
            "Point(6, 8)\n"
          ]
        }
      ]
    },
    {
      "cell_type": "markdown",
      "source": [
        "12.create a decorator that measures and prints the execution time of a function.\n",
        "\n",
        "ANS:-"
      ],
      "metadata": {
        "id": "Iwth4HiM964X"
      }
    },
    {
      "cell_type": "code",
      "source": [
        "#ANS\n",
        "import time\n",
        "\n",
        "def timer(func):\n",
        "    def wrapper(*args, **kwargs):\n",
        "        start_time = time.time()\n",
        "        result = func(*args, **kwargs)\n",
        "        end_time = time.time()\n",
        "        execution_time = end_time - start_time\n",
        "        print(f\"Function {func.__name__} took {execution_time:.6f} seconds to execute.\")\n",
        "        return result\n",
        "    return wrapper\n",
        "\n",
        "@timer\n",
        "def my_function():\n",
        "    time.sleep(2)\n",
        "\n",
        "my_function()"
      ],
      "metadata": {
        "id": "uMz01UpV9z6T",
        "colab": {
          "base_uri": "https://localhost:8080/"
        },
        "outputId": "c20878c6-5366-46e2-ed5d-c180cef4dc0e"
      },
      "execution_count": 21,
      "outputs": [
        {
          "output_type": "stream",
          "name": "stdout",
          "text": [
            "Function my_function took 2.001423 seconds to execute.\n"
          ]
        }
      ]
    },
    {
      "cell_type": "markdown",
      "source": [
        "13,explain the concept of the diamond problem in multiple inheritance .how does python resolve it.\n",
        "\n",
        "ANS:-the Diamond Problem\n",
        "\n",
        "The diamond problem arises in multiple inheritance when a class inherits from two classes that have a common base class. This creates ambiguity about which method or attribute to inherit when they have the same name in the different parent classes.\n",
        "\n",
        "Python's Solution: Method Resolution Order (MRO)\n",
        "\n",
        "Python resolves the diamond problem using a mechanism called Method Resolution Order (MRO). It defines a specific order in which base classes are searched when looking for a method or attribute.\n",
        "\n",
        "C3 Linearization: Python uses the C3 linearization algorithm to determine the MRO. It ensures that the order is consistent and predictable, preventing ambiguity.\n",
        "__mro__ Attribute: The MRO of a class can be accessed using the __mro__ attribute or the mro() method.\n",
        "In the above example:\n",
        "\n",
        "The MRO of class D would be: D, B, C, A, object.\n",
        "When obj.method() is called, Python searches for the method in this order.\n",
        "It finds the method in class B first and executes it.\n",
        "Resolution:\n",
        "\n",
        "Python's MRO ensures that the method from the first class in the MRO that defines it is called, resolving the diamond problem and preventing ambiguity.\n",
        "\n",
        "Benefits:\n",
        "\n",
        "Predictable Behavior: MRO provides a clear and predictable way to resolve method calls in multiple inheritance.\n",
        "Avoiding Ambiguity: It eliminates the ambiguity of the diamond problem, ensuring that the correct method is executed.\n",
        "Consistent Inheritance: It ensures consistent inheritance of methods and attributes in complex class hierarchies.\n"
      ],
      "metadata": {
        "id": "ZL1QZaWO_x8U"
      }
    },
    {
      "cell_type": "code",
      "source": [
        "#example\n",
        "class A:\n",
        "    def method(self):\n",
        "        print(\"Method from A\")\n",
        "\n",
        "class B(A):\n",
        "    def method(self):\n",
        "        print(\"Method from B\")\n",
        "\n",
        "class C(A):\n",
        "    def method(self):\n",
        "        print(\"Method from C\")\n",
        "\n",
        "class D(B, C):\n",
        "    pass\n",
        "\n",
        "obj = D()\n",
        "obj.method()  # Which method will be called?\n"
      ],
      "metadata": {
        "colab": {
          "base_uri": "https://localhost:8080/"
        },
        "id": "bHiW8tRt_l6R",
        "outputId": "0275e9ed-2511-4135-d62c-467afbf80873"
      },
      "execution_count": 22,
      "outputs": [
        {
          "output_type": "stream",
          "name": "stdout",
          "text": [
            "Method from B\n"
          ]
        }
      ]
    },
    {
      "cell_type": "markdown",
      "source": [
        "14.write a class method that keeps track of the number of instances created from a class.\n",
        "\n",
        "ans:-"
      ],
      "metadata": {
        "id": "M_EWdoz5AOcS"
      }
    },
    {
      "cell_type": "code",
      "source": [
        "class MyClass:\n",
        "    instance_count = 0  # Class variable to store the count\n",
        "\n",
        "    def __init__(self):\n",
        "        MyClass.instance_count += 1  # Increment the count in the constructor\n",
        "\n",
        "    @classmethod\n",
        "    def get_instance_count(cls):\n",
        "        return cls.instance_count  # Return the count\n",
        "\n",
        "# Create instances\n",
        "obj1 = MyClass()\n",
        "obj2 = MyClass()\n",
        "obj3 = MyClass()\n",
        "\n",
        "# Get and print the instance count\n",
        "print(f\"Total instances created: {MyClass.get_instance_count()}\")"
      ],
      "metadata": {
        "colab": {
          "base_uri": "https://localhost:8080/"
        },
        "id": "OiEzxp4hAMvd",
        "outputId": "c4fc5378-4cfc-4325-dfd2-ad958d59f45c"
      },
      "execution_count": 24,
      "outputs": [
        {
          "output_type": "stream",
          "name": "stdout",
          "text": [
            "Total instances created: 3\n"
          ]
        }
      ]
    },
    {
      "cell_type": "markdown",
      "source": [
        "15.implement a static method in a class that checks if a given year is a leap year.\n",
        "\n",
        "ans:-"
      ],
      "metadata": {
        "id": "W5LfNOa2AetC"
      }
    },
    {
      "cell_type": "code",
      "source": [
        "class DateUtils:\n",
        "    @staticmethod\n",
        "    def is_leap_year(year):\n",
        "        \"\"\"Checks if a given year is a leap year.\"\"\"\n",
        "        if year % 4 == 0:\n",
        "            if year % 100 == 0:\n",
        "                if year % 400 == 0:\n",
        "                    return True\n",
        "                else:\n",
        "                    return False\n",
        "            else:\n",
        "                return True\n",
        "        else:\n",
        "            return False\n",
        "\n",
        "# Example usage\n",
        "year = 2024\n",
        "if DateUtils.is_leap_year(year):\n",
        "    print(f\"{year} is a leap year.\")\n",
        "else:\n",
        "    print(f\"{year} is not a leap year.\")"
      ],
      "metadata": {
        "colab": {
          "base_uri": "https://localhost:8080/"
        },
        "id": "IQX17kDiAYoe",
        "outputId": "524175dc-9921-4399-f62d-9859c60cfba1"
      },
      "execution_count": 25,
      "outputs": [
        {
          "output_type": "stream",
          "name": "stdout",
          "text": [
            "2024 is a leap year.\n"
          ]
        }
      ]
    },
    {
      "cell_type": "code",
      "source": [],
      "metadata": {
        "id": "28fV_L1GAulB"
      },
      "execution_count": 25,
      "outputs": []
    }
  ]
}