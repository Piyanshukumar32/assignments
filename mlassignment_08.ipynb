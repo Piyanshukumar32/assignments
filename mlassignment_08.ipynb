{
  "nbformat": 4,
  "nbformat_minor": 0,
  "metadata": {
    "colab": {
      "provenance": []
    },
    "kernelspec": {
      "name": "python3",
      "display_name": "Python 3"
    },
    "language_info": {
      "name": "python"
    }
  },
  "cells": [
    {
      "cell_type": "code",
      "execution_count": null,
      "metadata": {
        "id": "70HAfdjbVGKk"
      },
      "outputs": [],
      "source": []
    },
    {
      "cell_type": "markdown",
      "source": [
        "1.Can we use Bagging for regression problems\u0010\n",
        "\n",
        "\n",
        "ans;-Bagging for Regression\n",
        "\n",
        "In regression problems, bagging involves creating multiple subsets of the training data using bootstrapping (random sampling with replacement). Then, a base regression model (e.g., a decision tree) is trained on each subset. Finally, the predictions from all the base models are averaged to get the final prediction. This process helps to reduce variance and improve the accuracy of the model.\n",
        "\n",
        "Here's a step-by-step explanation:\n",
        "\n",
        "Create multiple subsets of the training data: Randomly sample data points from the training data with replacement to create multiple subsets. This is known as bootstrapping.\n",
        "\n",
        "Train base regression models: Train a base regression model (e.g., a decision tree) on each subset of the data.\n",
        "\n",
        "Average predictions: When making predictions on new data, use each base model to generate a prediction and then average the predictions to get the final prediction.\n",
        "\n",
        "Benefits of Bagging for Regression:\n",
        "\n",
        "Reduced Variance: Bagging helps to reduce the variance of the model, making it less sensitive to the specific training data used. This leads to more stable and consistent predictions.\n",
        "Improved Accuracy: By combining predictions from multiple models, bagging can improve the overall accuracy of the regression model.\n",
        "Reduced Overfitting: Bagging can help to reduce overfitting, especially when using complex base models like decision trees.\n",
        "Example using scikit-learn in Python:\n",
        "\n",
        "\n",
        "from sklearn.ensemble import BaggingRegressor\n",
        "from sklearn.tree import DecisionTreeRegressor\n",
        "\n",
        "# Create a BaggingRegressor with DecisionTreeRegressor as the base model\n",
        "bagging_regressor = BaggingRegressor(base_estimator=DecisionTreeRegressor(),\n",
        "                                    n_estimators=10,  # Number of base models\n",
        "                                    random_state=42)  # Random seed for reproducibility\n",
        "\n",
        "# Fit the BaggingRegressor to the training data\n",
        "bagging_regressor.fit(X_train, y_train)\n",
        "\n",
        "# Make predictions on new data\n",
        "y_pred = bagging_regressor.predict(X_test)"
      ],
      "metadata": {
        "id": "cR-MgweHVK4w"
      }
    },
    {
      "cell_type": "markdown",
      "source": [
        "2. What is the difference between multiple model training and single model training\u0010\n",
        "\n",
        "\n",
        "ans;-Single Model Training\n",
        "\n",
        "In single model training, you train one model on your entire dataset. This model is then used to make predictions on new data. This approach is straightforward and often works well for simple problems.\n",
        "\n",
        "Multiple Model Training\n",
        "\n",
        "In multiple model training, you train multiple models, either on different subsets of the data or using different algorithms. These models are then combined to make a final prediction. This approach can be more complex, but it can often lead to better performance, especially for complex problems.\n",
        "\n",
        "Here's a table summarizing the key differences:\n",
        "\n",
        "Feature\tSingle Model Training\tMultiple Model Training\n",
        "Number of models\tOne\tMultiple\n",
        "Data used\tEntire dataset\tSubsets of the data or different datasets\n",
        "Algorithms\tOne\tCan be the same or different\n",
        "Complexity\tSimpler\tMore complex\n",
        "Performance\tCan be good for simple problems\tOften better for complex problems\n",
        "Interpretability\tEasier to interpret\tCan be more difficult to interpret\n",
        "When to Use Multiple Model Training\n",
        "\n",
        "Multiple model training is often preferred in the following situations:\n",
        "\n",
        "Complex problems: When the relationship between the input features and the target variable is complex, multiple models can often capture different aspects of the relationship and lead to better predictions.\n",
        "Large datasets: When you have a large dataset, training multiple models on different subsets of the data can be more efficient and can lead to better performance.\n",
        "Ensemble methods: Ensemble methods, such as bagging and boosting, rely on training multiple models to improve performance.\n",
        "Types of Multiple Model Training\n",
        "\n",
        "There are several different types of multiple model training, including:\n",
        "\n",
        "Bagging: Training multiple models on different bootstrapped samples of the data and averaging the predictions.\n",
        "Boosting: Training multiple models sequentially, where each model tries to correct the errors of the previous models.\n",
        "Stacking: Training multiple models and then using a meta-model to combine their predictions."
      ],
      "metadata": {
        "id": "tmnSLU8fVWPG"
      }
    },
    {
      "cell_type": "markdown",
      "source": [
        "3. Explain the concept of feature randomness in Random Forest2\n",
        "\n",
        "\n",
        "ans;-Feature Randomness in Random Forest\n",
        "\n",
        "Feature randomness, also known as feature bagging or the random subspace method, is a crucial aspect of the Random Forest algorithm. It involves randomly selecting a subset of features at each node of a decision tree during the tree-building process. This means that each tree in the forest is built using a different random subset of features.\n",
        "\n",
        "Reasoning Behind Feature Randomness:\n",
        "\n",
        "The primary reason for introducing feature randomness is to reduce correlation between individual trees in the forest. By using different feature subsets for each tree, the algorithm ensures that the trees are more diverse and less likely to make the same mistakes. This diversity ultimately leads to improved performance and robustness of the overall model.\n",
        "\n",
        "Benefits of Feature Randomness\n",
        "\n",
        "Reduced Overfitting: Feature randomness helps to prevent overfitting, which is a common problem with decision trees. Overfitting occurs when a model learns the training data too well and performs poorly on unseen data. By introducing randomness, the algorithm encourages the trees to focus on different aspects of the data, reducing the risk of overfitting.\n",
        "\n",
        "Improved Accuracy: By reducing correlation between trees, feature randomness leads to a more accurate and robust model. The combined predictions of diverse trees are less likely to be influenced by individual errors, resulting in improved overall accuracy.\n",
        "\n",
        "Handling High-Dimensional Data: Feature randomness is particularly useful when dealing with high-dimensional data, where there are many features. By randomly selecting a subset of features, the algorithm can effectively reduce the dimensionality of the problem and improve computational efficiency.\n",
        "\n",
        "How it Works in Practice\n",
        "\n",
        "During the construction of each tree in a Random Forest:\n",
        "\n",
        "Node Splitting: At each node of the tree, the algorithm randomly selects a subset of features from the total number of features available.\n",
        "\n",
        "Feature Selection: The best feature for splitting the node is selected from this random subset, based on a criterion such as information gain or Gini impurity.\n",
        "\n",
        "Tree Growth: The tree is grown by recursively repeating this process for each child node until a stopping criterion is met.\n",
        "\n",
        "Illustrative Example\n",
        "\n",
        "Imagine you have a dataset with 10 features. In a Random Forest with feature randomness, each tree might be built using a random subset of 5 features. This means that each tree will focus on different aspects of the data, leading to a more diverse and robust forest."
      ],
      "metadata": {
        "id": "CoWmJ_BeVdeR"
      }
    },
    {
      "cell_type": "markdown",
      "source": [
        "4. What is OOB (Out-of-Bag) Score\u0010\n",
        "\n",
        "\n",
        "\n",
        "ans:-OOB (Out-of-Bag) Score\n",
        "\n",
        "The OOB score is a method for evaluating the performance of a Random Forest model without the need for a separate validation dataset. It leverages the bootstrapping process inherent in Random Forest to estimate the model's generalization error.\n",
        "\n",
        "How it Works\n",
        "\n",
        "Bootstrapping: In Random Forest, each decision tree is trained on a bootstrapped sample of the training data. This means that each tree only sees a random subset of the data, and some data points are left out.\n",
        "\n",
        "OOB Samples: The data points that are not used to train a particular tree are called \"out-of-bag\" (OOB) samples for that tree.\n",
        "\n",
        "OOB Predictions: For each data point in the training set, we can obtain predictions from the trees for which it was an OOB sample.\n",
        "\n",
        "OOB Score: The OOB score is calculated by aggregating the predictions for each data point across all the trees where it was an OOB sample. This provides an estimate of the model's performance on unseen data.\n",
        "\n",
        "Benefits of OOB Score\n",
        "\n",
        "No Need for Validation Set: The OOB score eliminates the need to split the data into training and validation sets, which can be beneficial when data is limited.\n",
        "\n",
        "Efficient Evaluation: It provides an efficient way to evaluate the model's performance during training without incurring the computational cost of cross-validation.\n",
        "\n",
        "Unbiased Estimate: The OOB score is considered an unbiased estimate of the model's generalization error, as it is based on predictions made on data points that were not used for training.\n",
        "\n",
        "Calculation\n",
        "\n",
        "The OOB score can be calculated for both classification and regression problems.\n",
        "\n",
        "Classification: For classification, the OOB score is typically the accuracy or error rate calculated on the OOB predictions.\n",
        "\n",
        "Regression: For regression, the OOB score is typically the mean squared error (MSE) or R-squared calculated on the OOB predictions.\n",
        "\n",
        "Example in scikit-learn\n",
        "\n",
        "In scikit-learn, you can enable OOB score calculation by setting the oob_score parameter to True when creating a Random Forest model.\n",
        "\n",
        "\n",
        "from sklearn.ensemble import RandomForestClassifier\n",
        "\n",
        "rf_classifier = RandomForestClassifier(oob_score=True)\n",
        "rf_classifier.fit(X_train, y_train)\n",
        "\n",
        "oob_score = rf_classifier.oob_score_\n",
        "print(\"OOB Score:\", oob_score)\n",
        "Use code with caution\n",
        "This will calculate and print the OOB score after training the model."
      ],
      "metadata": {
        "id": "dSnNoWl9VnSu"
      }
    },
    {
      "cell_type": "markdown",
      "source": [
        "5.How can you measure the importance of features in a Random Forest model\u0010\n",
        "\n",
        "\n",
        "\n",
        "ans:-Feature Importance in Random Forest\n",
        "\n",
        "Random Forest models offer a built-in mechanism to assess the importance of features in predicting the target variable. This information can be valuable for understanding the underlying relationships in your data and for feature selection.\n",
        "\n",
        "Methods for Measuring Feature Importance\n",
        "\n",
        "Gini Importance (Mean Decrease Impurity):\n",
        "\n",
        "This method is based on the Gini impurity, which measures the disorder or uncertainty in a set of samples.\n",
        "For each feature, the Gini importance is calculated by summing the weighted decrease in Gini impurity achieved by splits using that feature across all trees in the forest.\n",
        "Features that lead to larger decreases in impurity are considered more important.\n",
        "In scikit-learn, this is the default method for feature importance in Random Forest.\n",
        "Permutation Importance (Mean Decrease Accuracy):\n",
        "\n",
        "This method measures the importance of a feature by observing the decrease in model performance when the values of that feature are randomly shuffled.\n",
        "For each feature, the values are permuted, and the model's performance is evaluated on the permuted data.\n",
        "The decrease in performance (e.g., accuracy or R-squared) is attributed to the importance of the feature.\n",
        "This method is less biased than Gini importance, especially for high-cardinality features.\n",
        "Accessing Feature Importance in scikit-learn\n",
        "\n",
        "After training a Random Forest model in scikit-learn, you can access the feature importances using the feature_importances_ attribute.\n",
        "\n",
        "\n",
        "from sklearn.ensemble import RandomForestClassifier\n",
        "\n",
        "# Train the Random Forest model\n",
        "rf_classifier = RandomForestClassifier()\n",
        "rf_classifier.fit(X_train, y_train)\n",
        "\n",
        "# Get feature importances\n",
        "feature_importances = rf_classifier.feature_importances_\n",
        "\n",
        "# Print feature importances\n",
        "for i, feature in enumerate(X_train.columns):\n",
        "    print(f\"{feature}: {feature_importances[i]}\")\n",
        "Use code with caution\n",
        "This code snippet demonstrates how to retrieve and print the feature importances for each feature in your dataset.\n",
        "\n",
        "Visualizing Feature Importance\n",
        "\n",
        "You can visualize feature importances using various plotting techniques, such as bar charts or horizontal bar charts. This can help you easily identify the most important features in your model.\n",
        "\n",
        "\n",
        "import matplotlib.pyplot as plt\n",
        "\n",
        "# Create a bar chart of feature importances\n",
        "plt.bar(X_train.columns, feature_importances)\n",
        "plt.xlabel(\"Features\")\n",
        "plt.ylabel(\"Importance\")\n",
        "plt.title(\"Feature Importance in Random Forest\")\n",
        "plt.xticks(rotation=90)  # Rotate x-axis labels for better readability\n",
        "plt.show()\n",
        "Use code with caution\n",
        "This code snippet demonstrates how to create a simple bar chart to visualize feature importances."
      ],
      "metadata": {
        "id": "XX7R4zGGVxfy"
      }
    },
    {
      "cell_type": "markdown",
      "source": [
        "6. Explain the working principle of a Bagging Classifier2\n",
        "\n",
        "\n",
        "\n",
        "ans;-Bagging Classifier\n",
        "\n",
        "A Bagging Classifier is an ensemble learning method that combines the predictions of multiple base classifiers to improve the overall accuracy and robustness of the model. It is based on the concept of bootstrap aggregating, or bagging.\n",
        "\n",
        "Working Principle\n",
        "\n",
        "Bootstrapping: The Bagging Classifier starts by creating multiple subsets of the training data using bootstrapping. Bootstrapping involves randomly sampling data points from the training data with replacement. This means that some data points may be selected multiple times, while others may not be selected at all.\n",
        "\n",
        "Base Classifier Training: A base classifier (e.g., a decision tree) is trained on each bootstrapped subset of the data. These base classifiers are typically weak learners, meaning they have relatively high variance and may not perform well individually.\n",
        "\n",
        "Aggregation: Once all the base classifiers are trained, the Bagging Classifier aggregates their predictions to make a final prediction. For classification problems, the aggregation is typically done by majority voting. This means that the class that is predicted by the majority of the base classifiers is chosen as the final prediction.\n",
        "\n",
        "Steps Involved\n",
        "\n",
        "Here's a step-by-step breakdown of the Bagging Classifier's working principle:\n",
        "\n",
        "Create multiple bootstrapped subsets of the training data.\n",
        "Train a base classifier on each bootstrapped subset.\n",
        "Aggregate the predictions of the base classifiers to make a final prediction.\n",
        "Benefits of Bagging\n",
        "\n",
        "Reduced Variance: Bagging helps to reduce the variance of the model by combining the predictions of multiple base classifiers. This makes the model less sensitive to the specific training data used and leads to more stable and consistent predictions.\n",
        "\n",
        "Improved Accuracy: By combining the predictions of multiple base classifiers, bagging can improve the overall accuracy of the model. This is especially true when the base classifiers are weak learners.\n",
        "\n",
        "Reduced Overfitting: Bagging can help to reduce overfitting, which is a common problem with complex models. This is because the base classifiers are trained on different subsets of the data, which helps to prevent them from memorizing the training data too well.\n",
        "\n",
        "Illustrative Example\n",
        "\n",
        "Imagine you have a dataset with 100 data points. You want to train a Bagging Classifier with 10 base classifiers.\n",
        "\n",
        "The Bagging Classifier would create 10 bootstrapped subsets of the data, each containing 100 data points sampled with replacement.\n",
        "A base classifier (e.g., a decision tree) would be trained on each bootstrapped subset.\n",
        "When making a prediction on a new data point, the Bagging Classifier would obtain predictions from all 10 base classifiers.\n",
        "The final prediction would be the class that is predicted by the majority of the base classifiers."
      ],
      "metadata": {
        "id": "cXeNe8eXV7RJ"
      }
    },
    {
      "cell_type": "markdown",
      "source": [
        "7. How do you evaluate a Bagging Classifier’s performance\u0010\n",
        "\n",
        "\n",
        "\n",
        "ans:-Evaluating a Bagging Classifier's Performance\n",
        "\n",
        "Evaluating the performance of a Bagging Classifier is crucial to ensure that it is generalizing well to unseen data and making accurate predictions. Here are some common methods for evaluating its performance:\n",
        "\n",
        "Accuracy Score: For classification tasks, accuracy is a commonly used metric that measures the proportion of correctly classified instances out of the total number of instances.\n",
        "\n",
        "Precision and Recall: Precision measures the proportion of correctly predicted positive instances out of all instances predicted as positive. Recall measures the proportion of correctly predicted positive instances out of all actual positive instances. These metrics are particularly useful when dealing with imbalanced datasets.\n",
        "\n",
        "F1-Score: The F1-score is the harmonic mean of precision and recall, providing a balanced measure of both metrics. It is especially useful when you want to consider both false positives and false negatives.\n",
        "\n",
        "ROC AUC Score: The Receiver Operating Characteristic (ROC) Area Under the Curve (AUC) score is a measure of the classifier's ability to distinguish between positive and negative classes. It is particularly useful for binary classification problems.\n",
        "\n",
        "Cross-Validation: Cross-validation involves splitting the data into multiple folds and training the model on different combinations of folds. This helps to assess the model's performance on unseen data and reduce the impact of data variability.\n",
        "\n",
        "Out-of-Bag (OOB) Score: As discussed earlier, the OOB score is a specific evaluation method for Bagging Classifiers that leverages the bootstrapping process to estimate the model's generalization error without the need for a separate validation set.\n",
        "\n",
        "Example in scikit-learn\n",
        "\n",
        "Here's an example of how to evaluate a Bagging Classifier's performance using scikit-learn:\n",
        "\n",
        "\n",
        "from sklearn.ensemble import BaggingClassifier\n",
        "from sklearn.model_selection import train_test_split\n",
        "from sklearn.metrics import accuracy_score, precision_score, recall_score, f1_score, roc_auc_score\n",
        "\n",
        "# Split the data into training and testing sets\n",
        "X_train, X_test, y_train, y_test = train_test_split(X, y, test_size=0.2, random_state=42)\n",
        "\n",
        "# Create a Bagging Classifier\n",
        "bagging_classifier = BaggingClassifier()\n",
        "\n",
        "# Train the model\n",
        "bagging_classifier.fit(X_train, y_train)\n",
        "\n",
        "# Make predictions on the testing set\n",
        "y_pred = bagging_classifier.predict(X_test)\n",
        "\n",
        "# Evaluate the model's performance\n",
        "accuracy = accuracy_score(y_test, y_pred)\n",
        "precision = precision_score(y_test, y_pred)\n",
        "recall = recall_score(y_test, y_pred)\n",
        "f1 = f1_score(y_test, y_pred)\n",
        "roc_auc = roc_auc_score(y_test, y_pred)\n",
        "\n",
        "print(\"Accuracy:\", accuracy)\n",
        "print(\"Precision:\", precision)\n",
        "print(\"Recall:\", recall)\n",
        "print(\"F1-Score:\", f1)\n",
        "print(\"ROC AUC Score:\", roc_auc)\n",
        "Use code with caution\n",
        "This code snippet demonstrates how to calculate various evaluation metrics for a Bagging Classifier using scikit-learn's built-in functions. You can choose the appropriate metrics based on your specific problem and dataset."
      ],
      "metadata": {
        "id": "t3cY7a8GWE12"
      }
    },
    {
      "cell_type": "markdown",
      "source": [
        "8.How does a Bagging Regressor work\u0010\n",
        "\n",
        "\n",
        "\n",
        "ans:-Bagging Regressor\n",
        "\n",
        "A Bagging Regressor is an ensemble learning method used for regression tasks. It leverages the concept of bootstrap aggregating (bagging) to improve the accuracy and stability of regression models.\n",
        "\n",
        "Working Principle\n",
        "\n",
        "Bootstrapping: The Bagging Regressor starts by creating multiple subsets of the training data using bootstrapping. Bootstrapping involves randomly sampling data points from the training data with replacement. This means that some data points may be selected multiple times, while others may not be selected at all.\n",
        "\n",
        "Base Regressor Training: A base regressor (e.g., a decision tree regressor) is trained on each bootstrapped subset of the data. These base regressors are typically weak learners, meaning they have relatively high variance and may not perform well individually.\n",
        "\n",
        "Aggregation: Once all the base regressors are trained, the Bagging Regressor aggregates their predictions to make a final prediction. For regression problems, the aggregation is typically done by averaging the predictions of all the base regressors.\n",
        "\n",
        "Steps Involved\n",
        "\n",
        "Here's a step-by-step breakdown of the Bagging Regressor's working principle:\n",
        "\n",
        "Create multiple bootstrapped subsets of the training data.\n",
        "Train a base regressor on each bootstrapped subset.\n",
        "Average the predictions of the base regressors to make a final prediction.\n",
        "Benefits of Bagging for Regression\n",
        "\n",
        "Reduced Variance: Bagging helps to reduce the variance of the regression model by combining the predictions of multiple base regressors. This makes the model less sensitive to the specific training data used and leads to more stable and consistent predictions.\n",
        "\n",
        "Improved Accuracy: By combining the predictions of multiple base regressors, bagging can improve the overall accuracy of the regression model. This is especially true when the base regressors are weak learners.\n",
        "\n",
        "Reduced Overfitting: Bagging can help to reduce overfitting, which is a common problem with complex regression models. This is because the base regressors are trained on different subsets of the data, which helps to prevent them from memorizing the training data too well.\n",
        "\n",
        "Example in scikit-learn\n",
        "\n",
        "Here's an example of how to use a Bagging Regressor in scikit-learn:\n",
        "\n",
        "\n",
        "from sklearn.ensemble import BaggingRegressor\n",
        "from sklearn.tree import DecisionTreeRegressor\n",
        "\n",
        "# Create a Bagging Regressor with DecisionTreeRegressor as the base model\n",
        "bagging_regressor = BaggingRegressor(base_estimator=DecisionTreeRegressor(),\n",
        "                                    n_estimators=10,  # Number of base regressors\n",
        "                                    random_state=42)  # Random seed for reproducibility\n",
        "\n",
        "# Fit the Bagging Regressor to the training data\n",
        "bagging_regressor.fit(X_train, y_train)\n",
        "\n",
        "# Make predictions on new data\n",
        "y_pred = bagging_regressor.predict(X_test)\n",
        "Use code with caution\n",
        "This code snippet demonstrates how to create and use a Bagging Regressor with a decision tree regressor as the base model. You can adjust the number of base regressors (n_estimators) and other parameters as needed."
      ],
      "metadata": {
        "id": "Xf20pAJrWOua"
      }
    },
    {
      "cell_type": "markdown",
      "source": [
        "9. What is the main advantage of ensemble techniques\u0010\n",
        "\n",
        "\n",
        "\n",
        "ans:-Main Advantage of Ensemble Techniques\n",
        "\n",
        "The main advantage of ensemble techniques is their ability to significantly improve the predictive performance of machine learning models. This improvement is achieved by combining the predictions of multiple individual models (base learners) to create a more robust and accurate overall model.\n",
        "\n",
        "Reasoning\n",
        "\n",
        "Ensemble techniques leverage the principle of \"wisdom of the crowd,\" where the collective knowledge of multiple models is often more accurate than the knowledge of any single model. By combining the predictions of diverse models, ensemble methods can effectively reduce errors, handle noise, and improve generalization.\n",
        "\n",
        "Key Benefits\n",
        "\n",
        "Improved Accuracy: Ensemble methods often achieve higher accuracy compared to individual models, especially when the base learners are diverse and have complementary strengths.\n",
        "Reduced Overfitting: Ensemble methods can help to reduce overfitting, which is a common problem in machine learning where a model performs well on the training data but poorly on unseen data. By combining multiple models, ensemble methods can mitigate the risk of overfitting and improve generalization.\n",
        "Increased Robustness: Ensemble methods are more robust to noise and outliers in the data compared to individual models. This is because the errors of individual models tend to cancel each other out when combined in an ensemble.\n",
        "Handling Complex Relationships: Ensemble methods can effectively capture complex relationships in the data that may be difficult for a single model to learn. This is because different models in the ensemble may focus on different aspects of the data, leading to a more comprehensive understanding of the underlying patterns.\n",
        "Example\n",
        "\n",
        "Consider a scenario where you want to predict whether a customer will churn. You could train multiple models, such as logistic regression, decision trees, and support vector machines, on the same data. Then, you could combine the predictions of these models using an ensemble method like bagging or boosting. The ensemble model is likely to achieve higher accuracy and be more robust to noise compared to any of the individual models."
      ],
      "metadata": {
        "id": "YcuiW_y1Wfiy"
      }
    },
    {
      "cell_type": "markdown",
      "source": [
        "\n",
        "10. What is the main challenge of ensemble methods\u0010\n",
        "\n",
        "\n",
        "ans:_Main Challenge of Ensemble Methods\n",
        "\n",
        "While ensemble methods offer significant advantages in terms of predictive performance, they also come with their own set of challenges. The main challenge of ensemble methods is the increased complexity compared to using a single model. This complexity arises from several factors:\n",
        "\n",
        "Computational Cost: Training and deploying multiple models can be computationally expensive, especially when dealing with large datasets or complex models. The increased computational cost can make ensemble methods impractical for some applications with limited resources.\n",
        "\n",
        "Interpretability: Ensemble models can be more difficult to interpret compared to single models. This is because the predictions of multiple models are combined, making it harder to understand the underlying relationships between the features and the target variable.\n",
        "\n",
        "Model Selection and Tuning: Choosing the right base learners and hyperparameters for the ensemble can be a challenging task. There are many different types of ensemble methods and a wide range of hyperparameters to tune. Selecting the optimal combination of base learners and hyperparameters often requires extensive experimentation and domain expertise.\n",
        "\n",
        "Data Requirements: Ensemble methods often require more data than single models to achieve their full potential. This is because multiple models need to be trained, and each model needs sufficient data to learn effectively.\n",
        "\n",
        "Diversity of Base Learners: For ensemble methods to be effective, the base learners should be diverse and have complementary strengths. Achieving diversity can be challenging, as it requires careful selection of base learners and potentially different training procedures.\n",
        "\n",
        "Addressing the Challenges\n",
        "\n",
        "While the complexity of ensemble methods can be a challenge, there are various strategies to mitigate these challenges:\n",
        "\n",
        "Using efficient algorithms: Choosing base learners that are computationally efficient can help reduce the overall computational cost of the ensemble.\n",
        "Feature importance analysis: Analyzing the feature importance of the ensemble can provide insights into the model's decision-making process and improve interpretability.\n",
        "Automated model selection and tuning: Using automated techniques, such as grid search or Bayesian optimization, can help find the optimal combination of base learners and hyperparameters.\n",
        "Data augmentation: Applying data augmentation techniques can help increase the effective size of the training data and improve the performance of the ensemble.\n",
        "Ensemble pruning: Removing redundant or less informative base learners from the ensemble can simplify the model and improve interpretability.\n",
        "By carefully considering these challenges and applying appropriate strategies, you can effectively leverage the power of ensemble methods while minimizing their drawbacks."
      ],
      "metadata": {
        "id": "ZZ-4s4NyWwp7"
      }
    },
    {
      "cell_type": "markdown",
      "source": [
        "11. Explain the key idea behind ensemble techniques2\n",
        "\n",
        "\n",
        "\n",
        "ans:-Key Idea Behind Ensemble Techniques\n",
        "\n",
        "The key idea behind ensemble techniques is to combine the predictions of multiple individual models (base learners) to improve the overall predictive performance. This is based on the principle that the collective knowledge of multiple models is often more accurate and robust than the knowledge of any single model.\n",
        "\n",
        "Reasoning\n",
        "\n",
        "Ensemble techniques leverage the \"wisdom of the crowd\" phenomenon, where the combined opinions of a group of individuals are often more accurate than the opinion of any single individual. In the context of machine learning, this translates to combining the predictions of multiple models to create a more accurate and robust overall model.\n",
        "\n",
        "How it Works\n",
        "\n",
        "Ensemble techniques typically involve the following steps:\n",
        "\n",
        "Training Base Learners: Multiple individual models (base learners) are trained on the same or different subsets of the training data. These base learners can be of the same type (e.g., all decision trees) or different types (e.g., a mix of decision trees, support vector machines, and logistic regression models).\n",
        "\n",
        "Combining Predictions: The predictions of the base learners are combined to produce a final prediction. This combination can be done in various ways, such as:\n",
        "\n",
        "Averaging: For regression problems, the predictions of the base learners can be averaged to produce the final prediction.\n",
        "Majority Voting: For classification problems, the class that is predicted by the majority of the base learners is chosen as the final prediction.\n",
        "Weighted Averaging: The predictions of the base learners can be weighted based on their individual performance or confidence levels.\n",
        "Benefits of Ensemble Techniques\n",
        "\n",
        "Improved Accuracy: By combining the predictions of multiple models, ensemble techniques can often achieve higher accuracy compared to individual models.\n",
        "Reduced Overfitting: Ensemble techniques can help to reduce overfitting, which is a common problem in machine learning where a model performs well on the training data but poorly on unseen data.\n",
        "Increased Robustness: Ensemble techniques are more robust to noise and outliers in the data compared to individual models.\n",
        "Handling Complex Relationships: Ensemble techniques can effectively capture complex relationships in the data that may be difficult for a single model to learn.\n",
        "Illustrative Example\n",
        "\n",
        "Imagine you have a group of doctors trying to diagnose a patient's illness. Each doctor may have their own expertise and perspective, and they may arrive at different diagnoses. However, by combining their opinions and considering all the available evidence, they are more likely to arrive at the correct diagnosis. This is analogous to how ensemble techniques work in machine learning."
      ],
      "metadata": {
        "id": "HYI_GiPIXFhK"
      }
    },
    {
      "cell_type": "markdown",
      "source": [
        "12. What is a Random Forest Classifier\u0010\n",
        "\n",
        "\n",
        "ans:-Random Forest Classifier\n",
        "\n",
        "A Random Forest Classifier is an ensemble learning method that belongs to the bagging family. It constructs a multitude of decision trees during training and outputs the class that is the mode of the classes (classification) or mean/average prediction (regression) of the individual trees.\n",
        "\n",
        "Key Characteristics\n",
        "\n",
        "Ensemble of Decision Trees: A Random Forest is essentially a collection of decision trees, where each tree is trained on a different subset of the data and uses a random subset of features for making decisions at each node.\n",
        "Bagging: It utilizes the bagging technique (bootstrap aggregating) to create diverse training sets for each tree. This involves randomly sampling data points with replacement from the original dataset.\n",
        "Feature Randomness: In addition to bagging, Random Forest also introduces feature randomness, where each tree only considers a random subset of features for splitting at each node. This further increases the diversity of the trees and helps to reduce overfitting.\n",
        "Robustness and Accuracy: By combining the predictions of multiple trees, Random Forest achieves higher accuracy and robustness compared to individual decision trees. It is less prone to overfitting and can handle noisy data effectively.\n",
        "Working Principle\n",
        "\n",
        "Bootstrapping: Create multiple bootstrapped samples of the training data.\n",
        "Tree Construction: For each bootstrapped sample, build a decision tree using a random subset of features at each node.\n",
        "Prediction: To make a prediction on a new data point, pass it through each tree in the forest and obtain individual predictions.\n",
        "Aggregation: Aggregate the predictions of all trees to produce the final prediction. For classification, this is typically done by majority voting (mode of the classes).\n",
        "Advantages of Random Forest Classifier\n",
        "\n",
        "High Accuracy: Random Forest often achieves high accuracy in classification tasks.\n",
        "Robustness: It is robust to noise and outliers in the data.\n",
        "Handles High-Dimensional Data: It can effectively handle datasets with a large number of features.\n",
        "Feature Importance: It provides insights into the importance of different features in the prediction process.\n",
        "Reduces Overfitting: The ensemble nature of Random Forest helps to reduce overfitting compared to individual decision trees.\n",
        "Example in scikit-learn\n",
        "\n",
        "\n",
        "from sklearn.ensemble import RandomForestClassifier\n",
        "\n",
        "# Create a Random Forest Classifier\n",
        "rf_classifier = RandomForestClassifier(n_estimators=100, random_state=42)\n",
        "\n",
        "# Train the model\n",
        "rf_classifier.fit(X_train, y_train)\n",
        "\n",
        "# Make predictions on new data\n",
        "y_pred = rf_classifier.predict(X_test)\n",
        "Use code with caution\n",
        "This code snippet demonstrates how to create and use a Random Forest Classifier in scikit-learn. You can adjust the number of trees (n_estimators) and other parameters as needed."
      ],
      "metadata": {
        "id": "BX7IR0W0XR10"
      }
    },
    {
      "cell_type": "markdown",
      "source": [
        "13. What are the main types of ensemble techniques\u0010\n",
        "\n",
        "\n",
        "\n",
        "ans:-Main Types of Ensemble Techniques\n",
        "\n",
        "Ensemble techniques can be broadly categorized into three main types:\n",
        "\n",
        "Bagging (Bootstrap Aggregating)\n",
        "\n",
        "Key Idea: Create multiple subsets of the training data using bootstrapping (random sampling with replacement). Train a base learner on each subset and combine their predictions through averaging (for regression) or voting (for classification).\n",
        "Examples: Random Forest, Bagging Classifier, Bagging Regressor\n",
        "Benefits: Reduces variance, improves accuracy, and handles high-dimensional data effectively.\n",
        "Boosting\n",
        "\n",
        "Key Idea: Train base learners sequentially, where each subsequent learner focuses on correcting the errors made by the previous learners. The final prediction is a weighted combination of the predictions from all learners.\n",
        "Examples: AdaBoost, Gradient Boosting, XGBoost, LightGBM\n",
        "Benefits: Achieves high accuracy, handles complex relationships, and can be effective with limited data.\n",
        "Stacking\n",
        "\n",
        "Key Idea: Train multiple base learners and use their predictions as input features to train a meta-learner that combines the predictions to produce the final prediction.\n",
        "Examples: Stacking Classifier, Stacking Regressor\n",
        "Benefits: Can potentially improve accuracy further by leveraging the strengths of different base learners and capturing higher-order interactions between them.\n",
        "Choosing the Right Ensemble Technique\n",
        "\n",
        "The choice of ensemble technique depends on various factors, including the specific problem, the dataset characteristics, and the desired performance goals. Here's a brief overview of when to consider each type:\n",
        "\n",
        "Bagging: Suitable for problems with high variance and when you want to reduce overfitting.\n",
        "Boosting: Effective for achieving high accuracy and handling complex relationships in the data.\n",
        "Stacking: Can be used to further improve accuracy by combining the predictions of multiple base learners in a more sophisticated way.\n",
        "It's often beneficial to experiment with different ensemble techniques and compare their performance to find the best approach for your specific task."
      ],
      "metadata": {
        "id": "kel0gDNBXdUW"
      }
    },
    {
      "cell_type": "markdown",
      "source": [
        "14. What is ensemble learning in machine learning\u0010\n",
        "\n",
        "\n",
        "\n",
        "ans:-Ensemble Learning\n",
        "\n",
        "Ensemble learning is a machine learning technique that combines the predictions of multiple individual models (base learners) to create a more accurate and robust overall model. This is based on the principle that the collective knowledge of multiple models is often more accurate than the knowledge of any single model.\n",
        "\n",
        "Key Idea\n",
        "\n",
        "The key idea behind ensemble learning is to leverage the \"wisdom of the crowd\" phenomenon, where the combined opinions of a group of individuals are often more accurate than the opinion of any single individual. In the context of machine learning, this translates to combining the predictions of multiple models to create a more accurate and robust overall model.\n",
        "\n",
        "How it Works\n",
        "\n",
        "Ensemble learning typically involves the following steps:\n",
        "\n",
        "Training Base Learners: Multiple individual models (base learners) are trained on the same or different subsets of the training data. These base learners can be of the same type (e.g., all decision trees) or different types (e.g., a mix of decision trees, support vector machines, and logistic regression models).\n",
        "\n",
        "Combining Predictions: The predictions of the base learners are combined to produce a final prediction. This combination can be done in various ways, such as:\n",
        "\n",
        "Averaging: For regression problems, the predictions of the base learners can be averaged to produce the final prediction.\n",
        "Majority Voting: For classification problems, the class that is predicted by the majority of the base learners is chosen as the final prediction.\n",
        "Weighted Averaging: The predictions of the base learners can be weighted based on their individual performance or confidence levels.\n",
        "Benefits of Ensemble Learning\n",
        "\n",
        "Improved Accuracy: By combining the predictions of multiple models, ensemble learning can often achieve higher accuracy compared to individual models.\n",
        "Reduced Overfitting: Ensemble learning can help to reduce overfitting, which is a common problem in machine learning where a model performs well on the training data but poorly on unseen data.\n",
        "Increased Robustness: Ensemble learning is more robust to noise and outliers in the data compared to individual models.\n",
        "Handling Complex Relationships: Ensemble learning can effectively capture complex relationships in the data that may be difficult for a single model to learn.\n",
        "Types of Ensemble Methods\n",
        "\n",
        "There are several different types of ensemble methods, including:\n",
        "\n",
        "Bagging (Bootstrap Aggregating): Random Forest, Bagging Classifier, Bagging Regressor\n",
        "Boosting: AdaBoost, Gradient Boosting, XGBoost, LightGBM\n",
        "Stacking: Stacking Classifier, Stacking Regressor\n",
        "Illustrative Example\n",
        "\n",
        "Imagine you have a group of doctors trying to diagnose a patient's illness. Each doctor may have their own expertise and perspective, and they may arrive at different diagnoses. However, by combining their opinions and considering all the available evidence, they are more likely to arrive at the correct diagnosis. This is analogous to how ensemble learning works in machine learning."
      ],
      "metadata": {
        "id": "4-uMuzxPXl5M"
      }
    },
    {
      "cell_type": "markdown",
      "source": [
        "15.When should we avoid using ensemble methods\u0010\n",
        "\n",
        "\n",
        "ans:-When to Avoid Ensemble Methods\n",
        "\n",
        "While ensemble methods are powerful and often improve predictive performance, there are certain situations where they may not be the best choice:\n",
        "\n",
        "Simple Problems: For relatively simple problems where a single model can achieve satisfactory performance, using an ensemble method may be unnecessary and introduce unnecessary complexity.\n",
        "\n",
        "Limited Data: Ensemble methods typically require more data than single models to train effectively. With limited data, an ensemble may overfit and perform poorly on unseen data.\n",
        "\n",
        "Computational Constraints: Training and deploying multiple models can be computationally expensive. If computational resources are limited, using a simpler model may be more practical.\n",
        "\n",
        "Interpretability Requirements: Ensemble models can be more difficult to interpret than single models. If interpretability is a crucial requirement, a simpler model may be preferred.\n",
        "\n",
        "Low Diversity of Base Learners: For ensemble methods to be effective, the base learners should be diverse and have complementary strengths. If the base learners are too similar, the ensemble may not provide significant improvement over a single model.\n",
        "\n",
        "Time Constraints: Training multiple models can take longer than training a single model. If time is a constraint, using a simpler model may be necessary.\n",
        "\n",
        "Deployment Complexity: Deploying an ensemble model can be more complex than deploying a single model. This added complexity may not be justified if the performance gains are marginal.\n",
        "\n",
        "Alternatives to Ensemble Methods\n",
        "\n",
        "In situations where ensemble methods are not suitable, consider these alternatives:\n",
        "\n",
        "Feature Engineering: Focus on improving the quality and relevance of your features to improve the performance of a single model.\n",
        "Hyperparameter Tuning: Carefully tune the hyperparameters of a single model to optimize its performance.\n",
        "Regularization: Apply regularization techniques to prevent overfitting and improve the generalization of a single model.\n",
        "Using a More Complex Model: If a single model is underfitting, consider using a more complex model with greater capacity."
      ],
      "metadata": {
        "id": "5SNmPeaaXyvE"
      }
    },
    {
      "cell_type": "markdown",
      "source": [
        "16. How does Bagging help in reducing overfitting\u0010\n",
        "\n",
        "\n",
        "ans:-How Bagging Reduces Overfitting\n",
        "\n",
        "Bagging, or Bootstrap Aggregating, is an ensemble technique that helps reduce overfitting in machine learning models, particularly decision trees, by introducing diversity and reducing variance. Here's how it works:\n",
        "\n",
        "Bootstrapping: Bagging creates multiple subsets of the original training data by randomly sampling data points with replacement. Each subset, called a bootstrap sample, is the same size as the original dataset but contains some duplicate entries and omits some original data points.\n",
        "\n",
        "Training Multiple Models: A separate base model (often a decision tree) is trained on each bootstrap sample. This results in an ensemble of models, each with a slightly different perspective on the data.\n",
        "\n",
        "Aggregation: When making predictions, the outputs of all the individual models are combined, typically by averaging (for regression) or majority voting (for classification).\n",
        "\n",
        "Why This Reduces Overfitting:\n",
        "\n",
        "Reduced Variance: Individual decision trees are prone to high variance, meaning they can be sensitive to small changes in the training data. By averaging the predictions of multiple trees trained on different subsets of data, Bagging reduces this variance and creates a more stable model.\n",
        "\n",
        "Diversity of Models: Each tree in the ensemble is trained on a different bootstrap sample, leading to diversity in their structure and predictions. This diversity helps to avoid overfitting to specific patterns in the training data that might not generalize well to unseen data.\n",
        "\n",
        "Focus on Important Features: While not as pronounced as in Random Forests, Bagging can indirectly lead to models that focus on more important features. Trees trained on different bootstrap samples are likely to identify and prioritize different features, leading to a more robust overall model that is less swayed by irrelevant or noisy features.\n",
        "\n",
        "Analogy:\n",
        "\n",
        "Imagine you have a group of experts trying to make a prediction. Each expert is given a slightly different set of information about the problem. By combining their individual predictions, you are likely to get a more accurate and reliable answer than by relying on a single expert who might be biased by their limited information. Bagging works similarly by combining the predictions of multiple models trained on different subsets of the data, leading to a more robust and less overfit model."
      ],
      "metadata": {
        "id": "9VeoP-gaYEd7"
      }
    },
    {
      "cell_type": "markdown",
      "source": [
        "17. Why is Random Forest better than a single Decision Tree\u0010\n",
        "\n",
        "\n",
        "\n",
        "ans:-Why Random Forest Outperforms a Single Decision Tree\n",
        "\n",
        "Random Forest, an ensemble learning method, often outperforms a single Decision Tree due to its ability to reduce overfitting and improve prediction accuracy. Here's a breakdown of the key reasons:\n",
        "\n",
        "Reduced Overfitting:\n",
        "\n",
        "Decision Trees are prone to overfitting, where they learn the training data too well and fail to generalize to unseen data.\n",
        "Random Forest mitigates this by creating an ensemble of trees, each trained on a different subset of the data and using a random subset of features. This diversity prevents individual trees from memorizing the training data too closely, leading to a more robust and generalized model.\n",
        "Improved Accuracy:\n",
        "\n",
        "By combining the predictions of multiple trees, Random Forest reduces the impact of individual tree errors and produces a more accurate overall prediction.\n",
        "The aggregation of predictions from diverse trees helps to smooth out noise and capture a wider range of patterns in the data, leading to better performance on unseen data.\n",
        "Robustness to Noise and Outliers:\n",
        "\n",
        "Random Forest is less sensitive to noise and outliers in the data compared to a single Decision Tree.\n",
        "The ensemble nature of Random Forest helps to mitigate the influence of individual data points that might be erroneous or atypical, leading to a more stable and reliable model.\n",
        "Handling High-Dimensional Data:\n",
        "\n",
        "Random Forest can effectively handle datasets with a large number of features.\n",
        "The random feature selection at each node of the trees helps to reduce the dimensionality of the problem and focus on the most relevant features, improving computational efficiency and preventing overfitting.\n",
        "Feature Importance:\n",
        "\n",
        "Random Forest provides insights into the importance of different features in the prediction process.\n",
        "By analyzing the frequency and impact of features used for splitting across all trees, you can gain a better understanding of the underlying relationships in your data.\n",
        "Analogy:\n",
        "\n",
        "Imagine you need to make an important decision. Instead of relying on a single person's opinion, you consult multiple experts with diverse backgrounds and perspectives. By combining their insights, you are likely to make a more informed and reliable decision. Random Forest works similarly by combining the predictions of multiple trees, each with a different view of the data, leading to a more robust and accurate model."
      ],
      "metadata": {
        "id": "0Bo_cQ5VYNGb"
      }
    },
    {
      "cell_type": "markdown",
      "source": [
        "18.What is the role of bootstrap sampling in Bagging\u0010\n",
        "\n",
        "\n",
        "\n",
        "ans:-Role of Bootstrap Sampling in Bagging\n",
        "\n",
        "Bootstrap sampling plays a crucial role in Bagging (Bootstrap Aggregating) by creating diverse training datasets for individual models in the ensemble. This diversity is key to Bagging's effectiveness in reducing overfitting and improving prediction accuracy.\n",
        "\n",
        "Here's how bootstrap sampling works within Bagging:\n",
        "\n",
        "Creating Bootstrap Samples:\n",
        "\n",
        "From the original training dataset, multiple subsets (bootstrap samples) are created by randomly selecting data points with replacement.\n",
        "Each bootstrap sample is the same size as the original dataset, but because of the replacement, some data points may appear multiple times, while others might be omitted.\n",
        "Training Base Models:\n",
        "\n",
        "A separate base model (e.g., a decision tree) is trained on each bootstrap sample.\n",
        "Since each sample is slightly different, the resulting models will have variations in their structure and learned patterns.\n",
        "Diversity and Reduced Overfitting:\n",
        "\n",
        "This diversity among the base models is the key benefit of bootstrap sampling.\n",
        "By training models on different subsets of the data, Bagging reduces the risk of overfitting to specific nuances or noise present in the original dataset.\n",
        "Each model learns a slightly different representation of the underlying relationships in the data.\n",
        "Aggregation for Robust Predictions:\n",
        "\n",
        "When making predictions, the outputs of all the individual models are combined, typically by averaging (for regression) or majority voting (for classification).\n",
        "This aggregation process further reduces variance and improves the overall prediction accuracy and robustness of the ensemble.\n",
        "Analogy:\n",
        "\n",
        "Imagine you have a group of students studying for an exam. Instead of all students using the same textbook, each student is given a different set of practice questions randomly selected from a larger pool. This ensures that each student learns different aspects of the material and has a unique perspective. When they come together to discuss the exam, they can share their knowledge and collectively arrive at a better understanding of the subject. Bootstrap sampling in Bagging works similarly by creating diverse training datasets, leading to a more robust and generalized ensemble model."
      ],
      "metadata": {
        "id": "H6p2HnqXYWEc"
      }
    },
    {
      "cell_type": "markdown",
      "source": [
        "Real-World Applications of Ensemble Techniques\n",
        "\n",
        "Ensemble techniques are widely used in various domains due to their ability to improve prediction accuracy and model robustness. Here are some prominent real-world applications:\n",
        "\n",
        "Financial Modeling:\n",
        "\n",
        "Credit Risk Assessment: Ensemble methods are used to predict the likelihood of loan defaults, helping financial institutions make informed lending decisions.\n",
        "Fraud Detection: Ensembles can identify fraudulent transactions by combining patterns detected by different models, reducing financial losses.\n",
        "Algorithmic Trading: Ensemble models are used to predict stock prices and make automated trading decisions, potentially increasing profitability.\n",
        "Healthcare:\n",
        "\n",
        "Disease Diagnosis: Ensembles can assist in diagnosing diseases by combining insights from various medical data sources, such as imaging, lab results, and patient history.\n",
        "Personalized Medicine: Ensemble methods help tailor treatment plans based on individual patient characteristics and predicted responses to different therapies.\n",
        "Drug Discovery: Ensembles can accelerate drug discovery by predicting the effectiveness of potential drug candidates, reducing research time and costs.\n",
        "Marketing and Sales:\n",
        "\n",
        "Customer Churn Prediction: Ensemble models predict customer churn, allowing businesses to implement retention strategies.\n",
        "Targeted Advertising: Ensembles help personalize advertising campaigns by predicting customer preferences and responses to different ads.\n",
        "Sales Forecasting: Ensemble models can forecast future sales based on historical data and market trends, aiding in inventory management and resource allocation.\n",
        "Image and Object Recognition:\n",
        "\n",
        "Self-Driving Cars: Ensemble methods are crucial for object detection and scene understanding in autonomous vehicles, enabling safe navigation.\n",
        "Facial Recognition: Ensembles are used in facial recognition systems for security and authentication purposes.\n",
        "Medical Imaging Analysis: Ensemble models can assist in identifying tumors or other anomalies in medical images, improving diagnostic accuracy.\n",
        "Natural Language Processing (NLP):\n",
        "\n",
        "Sentiment Analysis: Ensembles can analyze text to determine the sentiment expressed, such as positive, negative, or neutral, for applications like social media monitoring.\n",
        "Machine Translation: Ensemble methods improve the accuracy of machine translation systems by combining predictions from different translation models.\n",
        "Spam Filtering: Ensembles can effectively filter spam emails by identifying patterns indicative of unwanted messages.\n",
        "These are just a few examples, and the applications of ensemble techniques are continuously expanding as the field of machine learning evolves. The ability of ensembles to combine the strengths of multiple models makes them valuable tools for solving complex real-world problems across various industries."
      ],
      "metadata": {
        "id": "fovldrQwYfyX"
      }
    },
    {
      "cell_type": "markdown",
      "source": [
        "20.What is the difference between Bagging and Boosting?\n",
        "\n",
        "\n",
        "\n",
        "ans:-Bagging vs. Boosting\n",
        "\n",
        "Bagging and Boosting are both ensemble techniques that combine multiple models to improve prediction accuracy, but they differ in their approach:\n",
        "\n",
        "Bagging (Bootstrap Aggregating)\n",
        "\n",
        "Focus: Reducing variance and overfitting.\n",
        "Method:\n",
        "Creates multiple subsets of the training data using bootstrapping (random sampling with replacement).\n",
        "Trains a separate base model (often a decision tree) on each subset.\n",
        "Combines predictions by averaging (regression) or majority voting (classification).\n",
        "Model Independence: Base models are trained independently and in parallel.\n",
        "Example: Random Forest.\n",
        "Boosting\n",
        "\n",
        "Focus: Reducing bias and improving accuracy.\n",
        "Method:\n",
        "Trains base models sequentially, where each subsequent model focuses on correcting errors made by previous models.\n",
        "Assigns weights to data points, giving higher weight to misclassified instances.\n",
        "Combines predictions using a weighted average.\n",
        "Model Dependence: Base models are trained iteratively, with each model building upon the previous ones.\n",
        "Example: AdaBoost, Gradient Boosting, XGBoost.\n",
        "Here's a table summarizing the key differences:\n",
        "\n",
        "Feature\tBagging\tBoosting\n",
        "Goal\tReduce variance, overfitting\tReduce bias, improve accuracy\n",
        "Model Training\tParallel, independent\tSequential, dependent\n",
        "Data Sampling\tBootstrapping\tWeighted data points\n",
        "Prediction Combination\tAveraging, majority voting\tWeighted average\n",
        "Base Model\tTypically Decision Trees\tCan be various models\n",
        "Example\tRandom Forest\tAdaBoost, Gradient Boosting\n",
        "In simpler terms:\n",
        "\n",
        "Bagging: Like having multiple independent experts who provide their opinions, and the final decision is based on averaging or voting.\n",
        "Boosting: Like having a team of experts where each expert focuses on improving the areas where previous experts made mistakes.\n",
        "Choosing between Bagging and Boosting:\n",
        "\n",
        "Bagging is generally preferred when the base model has high variance (e.g., Decision Trees), and the goal is to reduce overfitting.\n",
        "Boosting is preferred when the base model has high bias (e.g., weak learners), and the goal is to improve accuracy.\n",
        "Ultimately, the best choice depends on the specific problem and the characteristics of the dataset. It's often beneficial to experiment with both techniques and compare their performance."
      ],
      "metadata": {
        "id": "NlautRnDY2Qc"
      }
    },
    {
      "cell_type": "markdown",
      "source": [
        "practical"
      ],
      "metadata": {
        "id": "OiNvygGIZAmW"
      }
    },
    {
      "cell_type": "markdown",
      "source": [
        "21.Train a Bagging Classifier using Decision Trees on a sample dataset and print model accuracy2\n",
        "\n",
        "\n",
        "\n",
        "ans:-"
      ],
      "metadata": {
        "id": "yXIlJ2n_ZEDM"
      }
    },
    {
      "source": [
        "from sklearn.ensemble import BaggingClassifier\n",
        "from sklearn.tree import DecisionTreeClassifier\n",
        "from sklearn.model_selection import train_test_split\n",
        "from sklearn.metrics import accuracy_score\n",
        "from sklearn.datasets import load_iris"
      ],
      "cell_type": "code",
      "metadata": {
        "id": "Mf1L8W6jZK7J"
      },
      "execution_count": 1,
      "outputs": []
    },
    {
      "cell_type": "code",
      "source": [],
      "metadata": {
        "id": "1BbFPFrBZLOU"
      },
      "execution_count": null,
      "outputs": []
    },
    {
      "source": [
        "iris = load_iris()\n",
        "X, y = iris.data, iris.target"
      ],
      "cell_type": "code",
      "metadata": {
        "id": "0qsdtd3tZMyX"
      },
      "execution_count": null,
      "outputs": []
    },
    {
      "source": [
        "bagging_classifier = BaggingClassifier(base_estimator=DecisionTreeClassifier(), n_estimators=10, random_state=42)\n",
        "bagging_classifier.fit(X_train, y_train)"
      ],
      "cell_type": "code",
      "metadata": {
        "id": "wznYHx7JZNc7"
      },
      "execution_count": null,
      "outputs": []
    },
    {
      "source": [
        "y_pred = bagging_classifier.predict(X_test)\n",
        "accuracy = accuracy_score(y_test, y_pred)\n",
        "print(f\"Accuracy: {accuracy}\")"
      ],
      "cell_type": "code",
      "metadata": {
        "id": "vNhK61QsZN5r"
      },
      "execution_count": null,
      "outputs": []
    },
    {
      "source": [
        "from sklearn.ensemble import BaggingClassifier\n",
        "from sklearn.tree import DecisionTreeClassifier\n",
        "from sklearn.model_selection import train_test_split\n",
        "from sklearn.metrics import accuracy_score\n",
        "from sklearn.datasets import load_iris\n",
        "\n",
        "# Load the Iris dataset\n",
        "iris = load_iris()\n",
        "X, y = iris.data, iris.target\n",
        "\n",
        "# Split data into training and testing sets\n",
        "X_train, X_test, y_train, y_test = train_test_split(X, y, test_size=0.2, random_state=42)\n",
        "\n",
        "# Create and train the Bagging Classifier\n",
        "bagging_classifier = BaggingClassifier(base_estimator=DecisionTreeClassifier(), n_estimators=10, random_state=42)\n",
        "bagging_classifier.fit(X_train, y_train)\n",
        "\n",
        "# Make predictions and evaluate accuracy\n",
        "y_pred = bagging_classifier.predict(X_test)\n",
        "accuracy = accuracy_score(y_test, y_pred)\n",
        "print(f\"Accuracy: {accuracy}\")"
      ],
      "cell_type": "code",
      "metadata": {
        "colab": {
          "base_uri": "https://localhost:8080/",
          "height": 237
        },
        "id": "tP_JfFfvZOcR",
        "outputId": "4f56e4be-8304-4304-8783-76a5fd97e651"
      },
      "execution_count": 2,
      "outputs": [
        {
          "output_type": "error",
          "ename": "TypeError",
          "evalue": "BaggingClassifier.__init__() got an unexpected keyword argument 'base_estimator'",
          "traceback": [
            "\u001b[0;31m---------------------------------------------------------------------------\u001b[0m",
            "\u001b[0;31mTypeError\u001b[0m                                 Traceback (most recent call last)",
            "\u001b[0;32m<ipython-input-2-b7aea508d967>\u001b[0m in \u001b[0;36m<cell line: 0>\u001b[0;34m()\u001b[0m\n\u001b[1;32m     13\u001b[0m \u001b[0;34m\u001b[0m\u001b[0m\n\u001b[1;32m     14\u001b[0m \u001b[0;31m# Create and train the Bagging Classifier\u001b[0m\u001b[0;34m\u001b[0m\u001b[0;34m\u001b[0m\u001b[0m\n\u001b[0;32m---> 15\u001b[0;31m \u001b[0mbagging_classifier\u001b[0m \u001b[0;34m=\u001b[0m \u001b[0mBaggingClassifier\u001b[0m\u001b[0;34m(\u001b[0m\u001b[0mbase_estimator\u001b[0m\u001b[0;34m=\u001b[0m\u001b[0mDecisionTreeClassifier\u001b[0m\u001b[0;34m(\u001b[0m\u001b[0;34m)\u001b[0m\u001b[0;34m,\u001b[0m \u001b[0mn_estimators\u001b[0m\u001b[0;34m=\u001b[0m\u001b[0;36m10\u001b[0m\u001b[0;34m,\u001b[0m \u001b[0mrandom_state\u001b[0m\u001b[0;34m=\u001b[0m\u001b[0;36m42\u001b[0m\u001b[0;34m)\u001b[0m\u001b[0;34m\u001b[0m\u001b[0;34m\u001b[0m\u001b[0m\n\u001b[0m\u001b[1;32m     16\u001b[0m \u001b[0mbagging_classifier\u001b[0m\u001b[0;34m.\u001b[0m\u001b[0mfit\u001b[0m\u001b[0;34m(\u001b[0m\u001b[0mX_train\u001b[0m\u001b[0;34m,\u001b[0m \u001b[0my_train\u001b[0m\u001b[0;34m)\u001b[0m\u001b[0;34m\u001b[0m\u001b[0;34m\u001b[0m\u001b[0m\n\u001b[1;32m     17\u001b[0m \u001b[0;34m\u001b[0m\u001b[0m\n",
            "\u001b[0;31mTypeError\u001b[0m: BaggingClassifier.__init__() got an unexpected keyword argument 'base_estimator'"
          ]
        }
      ]
    },
    {
      "cell_type": "markdown",
      "source": [
        "22. Train a Bagging Regressor using Decision Trees and evaluate using Mean Squared Error (MSE)2\n",
        "\n",
        "\n",
        "\n",
        "ans:-"
      ],
      "metadata": {
        "id": "d_7i4jTKZZUU"
      }
    },
    {
      "source": [
        "from sklearn.ensemble import BaggingRegressor\n",
        "from sklearn.tree import DecisionTreeRegressor\n",
        "from sklearn.model_selection import train_test_split\n",
        "from sklearn.metrics import mean_squared_error\n",
        "from sklearn.datasets import load_boston"
      ],
      "cell_type": "code",
      "metadata": {
        "id": "Tox6rNprZiHj"
      },
      "execution_count": null,
      "outputs": []
    },
    {
      "source": [
        "boston = load_boston()  # Load the Boston Housing dataset\n",
        "X, y = boston.data, boston.target"
      ],
      "cell_type": "code",
      "metadata": {
        "id": "UA8YVRiYZi2W"
      },
      "execution_count": null,
      "outputs": []
    },
    {
      "source": [
        "X_train, X_test, y_train, y_test = train_test_split(X, y, test_size=0.2, random_state=42)"
      ],
      "cell_type": "code",
      "metadata": {
        "id": "nsm46eprZjwn"
      },
      "execution_count": null,
      "outputs": []
    },
    {
      "source": [
        "bagging_regressor = BaggingRegressor(base_estimator=DecisionTreeRegressor(), n_estimators=10, random_state=42)\n",
        "bagging_regressor.fit(X_train, y_train)"
      ],
      "cell_type": "code",
      "metadata": {
        "id": "ic-Oe0j3ZkHy"
      },
      "execution_count": null,
      "outputs": []
    },
    {
      "source": [
        "y_pred = bagging_regressor.predict(X_test)\n",
        "mse = mean_squared_error(y_test, y_pred)\n",
        "print(f\"Mean Squared Error: {mse}\")"
      ],
      "cell_type": "code",
      "metadata": {
        "id": "RXnV2KfKZklA"
      },
      "execution_count": null,
      "outputs": []
    },
    {
      "source": [
        "from sklearn.ensemble import BaggingRegressor\n",
        "from sklearn.tree import DecisionTreeRegressor\n",
        "from sklearn.model_selection import train_test_split\n",
        "from sklearn.metrics import mean_squared_error\n",
        "from sklearn.datasets import load_boston\n",
        "\n",
        "# Load the Boston Housing dataset\n",
        "boston = load_boston()\n",
        "X, y = boston.data, boston.target\n",
        "\n",
        "# Split data into training and testing sets\n",
        "X_train, X_test, y_train, y_test = train_test_split(X, y, test_size=0.2, random_state=42)\n",
        "\n",
        "# Create and train the Bagging Regressor\n",
        "bagging_regressor = BaggingRegressor(base_estimator=DecisionTreeRegressor(), n_estimators=10, random_state=42)\n",
        "bagging_regressor.fit(X_train, y_train)\n",
        "\n",
        "# Make predictions and evaluate MSE\n",
        "y_pred = bagging_regressor.predict(X_test)\n",
        "mse = mean_squared_error(y_test, y_pred)\n",
        "print(f\"Mean Squared Error: {mse}\")"
      ],
      "cell_type": "code",
      "metadata": {
        "colab": {
          "base_uri": "https://localhost:8080/",
          "height": 1000
        },
        "id": "7IRbQleHZk-z",
        "outputId": "b3532619-f0c1-4908-8018-7d95bfb6efc7"
      },
      "execution_count": 3,
      "outputs": [
        {
          "output_type": "error",
          "ename": "ImportError",
          "evalue": "\n`load_boston` has been removed from scikit-learn since version 1.2.\n\nThe Boston housing prices dataset has an ethical problem: as\ninvestigated in [1], the authors of this dataset engineered a\nnon-invertible variable \"B\" assuming that racial self-segregation had a\npositive impact on house prices [2]. Furthermore the goal of the\nresearch that led to the creation of this dataset was to study the\nimpact of air quality but it did not give adequate demonstration of the\nvalidity of this assumption.\n\nThe scikit-learn maintainers therefore strongly discourage the use of\nthis dataset unless the purpose of the code is to study and educate\nabout ethical issues in data science and machine learning.\n\nIn this special case, you can fetch the dataset from the original\nsource::\n\n    import pandas as pd\n    import numpy as np\n\n    data_url = \"http://lib.stat.cmu.edu/datasets/boston\"\n    raw_df = pd.read_csv(data_url, sep=\"\\s+\", skiprows=22, header=None)\n    data = np.hstack([raw_df.values[::2, :], raw_df.values[1::2, :2]])\n    target = raw_df.values[1::2, 2]\n\nAlternative datasets include the California housing dataset and the\nAmes housing dataset. You can load the datasets as follows::\n\n    from sklearn.datasets import fetch_california_housing\n    housing = fetch_california_housing()\n\nfor the California housing dataset and::\n\n    from sklearn.datasets import fetch_openml\n    housing = fetch_openml(name=\"house_prices\", as_frame=True)\n\nfor the Ames housing dataset.\n\n[1] M Carlisle.\n\"Racist data destruction?\"\n<https://medium.com/@docintangible/racist-data-destruction-113e3eff54a8>\n\n[2] Harrison Jr, David, and Daniel L. Rubinfeld.\n\"Hedonic housing prices and the demand for clean air.\"\nJournal of environmental economics and management 5.1 (1978): 81-102.\n<https://www.researchgate.net/publication/4974606_Hedonic_housing_prices_and_the_demand_for_clean_air>\n",
          "traceback": [
            "\u001b[0;31m---------------------------------------------------------------------------\u001b[0m",
            "\u001b[0;31mImportError\u001b[0m                               Traceback (most recent call last)",
            "\u001b[0;32m<ipython-input-3-0755a0fd6519>\u001b[0m in \u001b[0;36m<cell line: 0>\u001b[0;34m()\u001b[0m\n\u001b[1;32m      3\u001b[0m \u001b[0;32mfrom\u001b[0m \u001b[0msklearn\u001b[0m\u001b[0;34m.\u001b[0m\u001b[0mmodel_selection\u001b[0m \u001b[0;32mimport\u001b[0m \u001b[0mtrain_test_split\u001b[0m\u001b[0;34m\u001b[0m\u001b[0;34m\u001b[0m\u001b[0m\n\u001b[1;32m      4\u001b[0m \u001b[0;32mfrom\u001b[0m \u001b[0msklearn\u001b[0m\u001b[0;34m.\u001b[0m\u001b[0mmetrics\u001b[0m \u001b[0;32mimport\u001b[0m \u001b[0mmean_squared_error\u001b[0m\u001b[0;34m\u001b[0m\u001b[0;34m\u001b[0m\u001b[0m\n\u001b[0;32m----> 5\u001b[0;31m \u001b[0;32mfrom\u001b[0m \u001b[0msklearn\u001b[0m\u001b[0;34m.\u001b[0m\u001b[0mdatasets\u001b[0m \u001b[0;32mimport\u001b[0m \u001b[0mload_boston\u001b[0m\u001b[0;34m\u001b[0m\u001b[0;34m\u001b[0m\u001b[0m\n\u001b[0m\u001b[1;32m      6\u001b[0m \u001b[0;34m\u001b[0m\u001b[0m\n\u001b[1;32m      7\u001b[0m \u001b[0;31m# Load the Boston Housing dataset\u001b[0m\u001b[0;34m\u001b[0m\u001b[0;34m\u001b[0m\u001b[0m\n",
            "\u001b[0;32m/usr/local/lib/python3.11/dist-packages/sklearn/datasets/__init__.py\u001b[0m in \u001b[0;36m__getattr__\u001b[0;34m(name)\u001b[0m\n\u001b[1;32m    159\u001b[0m             \"\"\"\n\u001b[1;32m    160\u001b[0m         )\n\u001b[0;32m--> 161\u001b[0;31m         \u001b[0;32mraise\u001b[0m \u001b[0mImportError\u001b[0m\u001b[0;34m(\u001b[0m\u001b[0mmsg\u001b[0m\u001b[0;34m)\u001b[0m\u001b[0;34m\u001b[0m\u001b[0;34m\u001b[0m\u001b[0m\n\u001b[0m\u001b[1;32m    162\u001b[0m     \u001b[0;32mtry\u001b[0m\u001b[0;34m:\u001b[0m\u001b[0;34m\u001b[0m\u001b[0;34m\u001b[0m\u001b[0m\n\u001b[1;32m    163\u001b[0m         \u001b[0;32mreturn\u001b[0m \u001b[0mglobals\u001b[0m\u001b[0;34m(\u001b[0m\u001b[0;34m)\u001b[0m\u001b[0;34m[\u001b[0m\u001b[0mname\u001b[0m\u001b[0;34m]\u001b[0m\u001b[0;34m\u001b[0m\u001b[0;34m\u001b[0m\u001b[0m\n",
            "\u001b[0;31mImportError\u001b[0m: \n`load_boston` has been removed from scikit-learn since version 1.2.\n\nThe Boston housing prices dataset has an ethical problem: as\ninvestigated in [1], the authors of this dataset engineered a\nnon-invertible variable \"B\" assuming that racial self-segregation had a\npositive impact on house prices [2]. Furthermore the goal of the\nresearch that led to the creation of this dataset was to study the\nimpact of air quality but it did not give adequate demonstration of the\nvalidity of this assumption.\n\nThe scikit-learn maintainers therefore strongly discourage the use of\nthis dataset unless the purpose of the code is to study and educate\nabout ethical issues in data science and machine learning.\n\nIn this special case, you can fetch the dataset from the original\nsource::\n\n    import pandas as pd\n    import numpy as np\n\n    data_url = \"http://lib.stat.cmu.edu/datasets/boston\"\n    raw_df = pd.read_csv(data_url, sep=\"\\s+\", skiprows=22, header=None)\n    data = np.hstack([raw_df.values[::2, :], raw_df.values[1::2, :2]])\n    target = raw_df.values[1::2, 2]\n\nAlternative datasets include the California housing dataset and the\nAmes housing dataset. You can load the datasets as follows::\n\n    from sklearn.datasets import fetch_california_housing\n    housing = fetch_california_housing()\n\nfor the California housing dataset and::\n\n    from sklearn.datasets import fetch_openml\n    housing = fetch_openml(name=\"house_prices\", as_frame=True)\n\nfor the Ames housing dataset.\n\n[1] M Carlisle.\n\"Racist data destruction?\"\n<https://medium.com/@docintangible/racist-data-destruction-113e3eff54a8>\n\n[2] Harrison Jr, David, and Daniel L. Rubinfeld.\n\"Hedonic housing prices and the demand for clean air.\"\nJournal of environmental economics and management 5.1 (1978): 81-102.\n<https://www.researchgate.net/publication/4974606_Hedonic_housing_prices_and_the_demand_for_clean_air>\n",
            "",
            "\u001b[0;31m---------------------------------------------------------------------------\u001b[0;32m\nNOTE: If your import is failing due to a missing package, you can\nmanually install dependencies using either !pip or !apt.\n\nTo view examples of installing some common dependencies, click the\n\"Open Examples\" button below.\n\u001b[0;31m---------------------------------------------------------------------------\u001b[0m\n"
          ],
          "errorDetails": {
            "actions": [
              {
                "action": "open_url",
                "actionText": "Open Examples",
                "url": "/notebooks/snippets/importing_libraries.ipynb"
              }
            ]
          }
        }
      ]
    },
    {
      "cell_type": "markdown",
      "source": [
        "23. Train a Random Forest Classifier on the Breast Cancer dataset and print feature importance scores2\n",
        "\n",
        "\n",
        "\n",
        "ans:-"
      ],
      "metadata": {
        "id": "gIk__DQOZms2"
      }
    },
    {
      "source": [
        "from sklearn.ensemble import RandomForestClassifier\n",
        "from sklearn.model_selection import train_test_split\n",
        "from sklearn.datasets import load_breast_cancer\n",
        "import pandas as pd"
      ],
      "cell_type": "code",
      "metadata": {
        "id": "U4KSaUleZuEt"
      },
      "execution_count": null,
      "outputs": []
    },
    {
      "source": [
        "breast_cancer = load_breast_cancer()\n",
        "X, y = breast_cancer.data, breast_cancer.target\n",
        "feature_names = breast_cancer.feature_names"
      ],
      "cell_type": "code",
      "metadata": {
        "id": "9eZAHBoXZuZM"
      },
      "execution_count": null,
      "outputs": []
    },
    {
      "source": [
        "X_train, X_test, y_train, y_test = train_test_split(X, y, test_size=0.2, random_state=42)"
      ],
      "cell_type": "code",
      "metadata": {
        "id": "27bnGcvqZu_I"
      },
      "execution_count": null,
      "outputs": []
    },
    {
      "source": [
        "rf_classifier = RandomForestClassifier(n_estimators=100, random_state=42)  # You can adjust n_estimators\n",
        "rf_classifier.fit(X_train, y_train)"
      ],
      "cell_type": "code",
      "metadata": {
        "id": "ScN9ljbkZvif"
      },
      "execution_count": null,
      "outputs": []
    },
    {
      "source": [
        "feature_importances = pd.DataFrame({'feature': feature_names, 'importance': rf_classifier.feature_importances_})\n",
        "feature_importances = feature_importances.sort_values('importance', ascending=False)\n",
        "print(feature_importances)"
      ],
      "cell_type": "code",
      "metadata": {
        "id": "TnW0x9uoZwCx"
      },
      "execution_count": null,
      "outputs": []
    },
    {
      "source": [
        "from sklearn.ensemble import RandomForestClassifier\n",
        "from sklearn.model_selection import train_test_split\n",
        "from sklearn.datasets import load_breast_cancer\n",
        "import pandas as pd\n",
        "\n",
        "# Load the Breast Cancer dataset\n",
        "breast_cancer = load_breast_cancer()\n",
        "X, y = breast_cancer.data, breast_cancer.target\n",
        "feature_names = breast_cancer.feature_names\n",
        "\n",
        "# Split data into training and testing sets\n",
        "X_train, X_test, y_train, y_test = train_test_split(X, y, test_size=0.2, random_state=42)\n",
        "\n",
        "# Create and train the Random Forest Classifier\n",
        "rf_classifier = RandomForestClassifier(n_estimators=100, random_state=42)\n",
        "rf_classifier.fit(X_train, y_train)\n",
        "\n",
        "# Get and print feature importance scores\n",
        "feature_importances = pd.DataFrame({'feature': feature_names, 'importance': rf_classifier.feature_importances_})\n",
        "feature_importances = feature_importances.sort_values('importance', ascending=False)\n",
        "print(feature_importances)"
      ],
      "cell_type": "code",
      "metadata": {
        "colab": {
          "base_uri": "https://localhost:8080/"
        },
        "id": "7wsVoDm1ZwZ9",
        "outputId": "d9f04294-176f-4169-f7cc-72a46707251b"
      },
      "execution_count": 4,
      "outputs": [
        {
          "output_type": "stream",
          "name": "stdout",
          "text": [
            "                    feature  importance\n",
            "23               worst area    0.153892\n",
            "27     worst concave points    0.144663\n",
            "7       mean concave points    0.106210\n",
            "20             worst radius    0.077987\n",
            "6            mean concavity    0.068001\n",
            "22          worst perimeter    0.067115\n",
            "2            mean perimeter    0.053270\n",
            "0               mean radius    0.048703\n",
            "3                 mean area    0.047555\n",
            "26          worst concavity    0.031802\n",
            "13               area error    0.022407\n",
            "21            worst texture    0.021749\n",
            "25        worst compactness    0.020266\n",
            "10             radius error    0.020139\n",
            "5          mean compactness    0.013944\n",
            "1              mean texture    0.013591\n",
            "12          perimeter error    0.011303\n",
            "24         worst smoothness    0.010644\n",
            "28           worst symmetry    0.010120\n",
            "16          concavity error    0.009386\n",
            "4           mean smoothness    0.007285\n",
            "19  fractal dimension error    0.005321\n",
            "15        compactness error    0.005253\n",
            "29  worst fractal dimension    0.005210\n",
            "11            texture error    0.004724\n",
            "14         smoothness error    0.004271\n",
            "18           symmetry error    0.004018\n",
            "9    mean fractal dimension    0.003886\n",
            "8             mean symmetry    0.003770\n",
            "17     concave points error    0.003513\n"
          ]
        }
      ]
    },
    {
      "cell_type": "markdown",
      "source": [
        "24. Train a Random Forest Regressor and compare its performance with a single Decision Tree2\n",
        "\n",
        "\n",
        "\n",
        "ans:-"
      ],
      "metadata": {
        "id": "q3CDW8KZZyCr"
      }
    },
    {
      "source": [
        "from sklearn.ensemble import RandomForestRegressor\n",
        "from sklearn.tree import DecisionTreeRegressor\n",
        "from sklearn.model_selection import train_test_split\n",
        "from sklearn.metrics import mean_squared_error\n",
        "from sklearn.datasets import load_boston"
      ],
      "cell_type": "code",
      "metadata": {
        "id": "Giw2-YqtZ3tG"
      },
      "execution_count": null,
      "outputs": []
    },
    {
      "source": [
        "boston = load_boston()\n",
        "X, y = boston.data, boston.target"
      ],
      "cell_type": "code",
      "metadata": {
        "id": "Uc4lQp2DZ4AX"
      },
      "execution_count": null,
      "outputs": []
    },
    {
      "source": [
        "X_train, X_test, y_train, y_test = train_test_split(X, y, test_size=0.2, random_state=42)"
      ],
      "cell_type": "code",
      "metadata": {
        "id": "_SYKju7dZ4WC"
      },
      "execution_count": null,
      "outputs": []
    },
    {
      "source": [
        "# Random Forest Regressor\n",
        "rf_regressor = RandomForestRegressor(n_estimators=100, random_state=42)  # You can adjust n_estimators\n",
        "rf_regressor.fit(X_train, y_train)\n",
        "\n",
        "# Decision Tree Regressor\n",
        "dt_regressor = DecisionTreeRegressor(random_state=42)\n",
        "dt_regressor.fit(X_train, y_train)"
      ],
      "cell_type": "code",
      "metadata": {
        "id": "ftLcfJAhZ4sO"
      },
      "execution_count": null,
      "outputs": []
    },
    {
      "source": [
        "# Random Forest\n",
        "rf_predictions = rf_regressor.predict(X_test)\n",
        "rf_mse = mean_squared_error(y_test, rf_predictions)\n",
        "\n",
        "# Decision Tree\n",
        "dt_predictions = dt_regressor.predict(X_test)\n",
        "dt_mse = mean_squared_error(y_test, dt_predictions)\n",
        "\n",
        "print(f\"Random Forest MSE: {rf_mse}\")\n",
        "print(f\"Decision Tree MSE: {dt_mse}\")"
      ],
      "cell_type": "code",
      "metadata": {
        "colab": {
          "base_uri": "https://localhost:8080/",
          "height": 219
        },
        "id": "UqbKSrHYZ5EN",
        "outputId": "519a4da1-3109-4c9e-fb76-f445d4727188"
      },
      "execution_count": 5,
      "outputs": [
        {
          "output_type": "error",
          "ename": "NameError",
          "evalue": "name 'rf_regressor' is not defined",
          "traceback": [
            "\u001b[0;31m---------------------------------------------------------------------------\u001b[0m",
            "\u001b[0;31mNameError\u001b[0m                                 Traceback (most recent call last)",
            "\u001b[0;32m<ipython-input-5-23512817c0ce>\u001b[0m in \u001b[0;36m<cell line: 0>\u001b[0;34m()\u001b[0m\n\u001b[1;32m      1\u001b[0m \u001b[0;31m# Random Forest\u001b[0m\u001b[0;34m\u001b[0m\u001b[0;34m\u001b[0m\u001b[0m\n\u001b[0;32m----> 2\u001b[0;31m \u001b[0mrf_predictions\u001b[0m \u001b[0;34m=\u001b[0m \u001b[0mrf_regressor\u001b[0m\u001b[0;34m.\u001b[0m\u001b[0mpredict\u001b[0m\u001b[0;34m(\u001b[0m\u001b[0mX_test\u001b[0m\u001b[0;34m)\u001b[0m\u001b[0;34m\u001b[0m\u001b[0;34m\u001b[0m\u001b[0m\n\u001b[0m\u001b[1;32m      3\u001b[0m \u001b[0mrf_mse\u001b[0m \u001b[0;34m=\u001b[0m \u001b[0mmean_squared_error\u001b[0m\u001b[0;34m(\u001b[0m\u001b[0my_test\u001b[0m\u001b[0;34m,\u001b[0m \u001b[0mrf_predictions\u001b[0m\u001b[0;34m)\u001b[0m\u001b[0;34m\u001b[0m\u001b[0;34m\u001b[0m\u001b[0m\n\u001b[1;32m      4\u001b[0m \u001b[0;34m\u001b[0m\u001b[0m\n\u001b[1;32m      5\u001b[0m \u001b[0;31m# Decision Tree\u001b[0m\u001b[0;34m\u001b[0m\u001b[0;34m\u001b[0m\u001b[0m\n",
            "\u001b[0;31mNameError\u001b[0m: name 'rf_regressor' is not defined"
          ]
        }
      ]
    },
    {
      "cell_type": "code",
      "source": [],
      "metadata": {
        "id": "KK0sXLqSZPHV"
      },
      "execution_count": null,
      "outputs": []
    },
    {
      "source": [
        "# Random Forest\n",
        "rf_predictions = rf_regressor.predict(X_test)\n",
        "rf_mse = mean_squared_error(y_test, rf_predictions)\n",
        "\n",
        "# Decision Tree\n",
        "dt_predictions = dt_regressor.predict(X_test)\n",
        "dt_mse = mean_squared_error(y_test, dt_predictions)\n",
        "\n",
        "print(f\"Random Forest MSE: {rf_mse}\")\n",
        "print(f\"Decision Tree MSE: {dt_mse}\")"
      ],
      "cell_type": "code",
      "metadata": {
        "colab": {
          "base_uri": "https://localhost:8080/",
          "height": 219
        },
        "id": "BvZYb2VLZ6aZ",
        "outputId": "34068262-8f1a-4f16-b25c-bf93b48183a4"
      },
      "execution_count": 6,
      "outputs": [
        {
          "output_type": "error",
          "ename": "NameError",
          "evalue": "name 'rf_regressor' is not defined",
          "traceback": [
            "\u001b[0;31m---------------------------------------------------------------------------\u001b[0m",
            "\u001b[0;31mNameError\u001b[0m                                 Traceback (most recent call last)",
            "\u001b[0;32m<ipython-input-6-23512817c0ce>\u001b[0m in \u001b[0;36m<cell line: 0>\u001b[0;34m()\u001b[0m\n\u001b[1;32m      1\u001b[0m \u001b[0;31m# Random Forest\u001b[0m\u001b[0;34m\u001b[0m\u001b[0;34m\u001b[0m\u001b[0m\n\u001b[0;32m----> 2\u001b[0;31m \u001b[0mrf_predictions\u001b[0m \u001b[0;34m=\u001b[0m \u001b[0mrf_regressor\u001b[0m\u001b[0;34m.\u001b[0m\u001b[0mpredict\u001b[0m\u001b[0;34m(\u001b[0m\u001b[0mX_test\u001b[0m\u001b[0;34m)\u001b[0m\u001b[0;34m\u001b[0m\u001b[0;34m\u001b[0m\u001b[0m\n\u001b[0m\u001b[1;32m      3\u001b[0m \u001b[0mrf_mse\u001b[0m \u001b[0;34m=\u001b[0m \u001b[0mmean_squared_error\u001b[0m\u001b[0;34m(\u001b[0m\u001b[0my_test\u001b[0m\u001b[0;34m,\u001b[0m \u001b[0mrf_predictions\u001b[0m\u001b[0;34m)\u001b[0m\u001b[0;34m\u001b[0m\u001b[0;34m\u001b[0m\u001b[0m\n\u001b[1;32m      4\u001b[0m \u001b[0;34m\u001b[0m\u001b[0m\n\u001b[1;32m      5\u001b[0m \u001b[0;31m# Decision Tree\u001b[0m\u001b[0;34m\u001b[0m\u001b[0;34m\u001b[0m\u001b[0m\n",
            "\u001b[0;31mNameError\u001b[0m: name 'rf_regressor' is not defined"
          ]
        }
      ]
    },
    {
      "cell_type": "markdown",
      "source": [
        "25.Compute the Out-of-Bag (OOB) Score for a Random Forest Classifier2\n",
        "\n",
        "\n",
        "\n",
        "ans:-"
      ],
      "metadata": {
        "id": "zExneHZ2Z8f3"
      }
    },
    {
      "source": [
        "from sklearn.ensemble import RandomForestClassifier\n",
        "from sklearn.model_selection import train_test_split\n",
        "from sklearn.datasets import load_breast_cancer"
      ],
      "cell_type": "code",
      "metadata": {
        "id": "EmfnU1HbaF_O"
      },
      "execution_count": null,
      "outputs": []
    },
    {
      "source": [
        "breast_cancer = load_breast_cancer()\n",
        "X, y = breast_cancer.data, breast_cancer.target"
      ],
      "cell_type": "code",
      "metadata": {
        "id": "m8YrfzrhaGPf"
      },
      "execution_count": null,
      "outputs": []
    },
    {
      "source": [
        "X_train, X_test, y_train, y_test = train_test_split(X, y, test_size=0.2, random_state=42)"
      ],
      "cell_type": "code",
      "metadata": {
        "id": "SnedZhsMaGi_"
      },
      "execution_count": null,
      "outputs": []
    },
    {
      "source": [
        "rf_classifier = RandomForestClassifier(n_estimators=100, oob_score=True, random_state=42)  # Enable oob_score\n",
        "rf_classifier.fit(X_train, y_train)"
      ],
      "cell_type": "code",
      "metadata": {
        "id": "LFJPOv91aHJ2"
      },
      "execution_count": null,
      "outputs": []
    },
    {
      "source": [
        "oob_score = rf_classifier.oob_score_\n",
        "print(f\"OOB Score: {oob_score}\")"
      ],
      "cell_type": "code",
      "metadata": {
        "colab": {
          "base_uri": "https://localhost:8080/",
          "height": 164
        },
        "id": "7RAf6GbeaHmO",
        "outputId": "f1f59501-e784-4d07-a7f2-dc150aaa9a67"
      },
      "execution_count": 7,
      "outputs": [
        {
          "output_type": "error",
          "ename": "AttributeError",
          "evalue": "'RandomForestClassifier' object has no attribute 'oob_score_'",
          "traceback": [
            "\u001b[0;31m---------------------------------------------------------------------------\u001b[0m",
            "\u001b[0;31mAttributeError\u001b[0m                            Traceback (most recent call last)",
            "\u001b[0;32m<ipython-input-7-c96b638164fc>\u001b[0m in \u001b[0;36m<cell line: 0>\u001b[0;34m()\u001b[0m\n\u001b[0;32m----> 1\u001b[0;31m \u001b[0moob_score\u001b[0m \u001b[0;34m=\u001b[0m \u001b[0mrf_classifier\u001b[0m\u001b[0;34m.\u001b[0m\u001b[0moob_score_\u001b[0m\u001b[0;34m\u001b[0m\u001b[0;34m\u001b[0m\u001b[0m\n\u001b[0m\u001b[1;32m      2\u001b[0m \u001b[0mprint\u001b[0m\u001b[0;34m(\u001b[0m\u001b[0;34mf\"OOB Score: {oob_score}\"\u001b[0m\u001b[0;34m)\u001b[0m\u001b[0;34m\u001b[0m\u001b[0;34m\u001b[0m\u001b[0m\n",
            "\u001b[0;31mAttributeError\u001b[0m: 'RandomForestClassifier' object has no attribute 'oob_score_'"
          ]
        }
      ]
    },
    {
      "cell_type": "code",
      "source": [],
      "metadata": {
        "id": "hMXxIua8Z6qZ"
      },
      "execution_count": null,
      "outputs": []
    },
    {
      "source": [
        "from sklearn.ensemble import RandomForestClassifier\n",
        "from sklearn.model_selection import train_test_split\n",
        "from sklearn.datasets import load_breast_cancer\n",
        "\n",
        "# Load the Breast Cancer dataset\n",
        "breast_cancer = load_breast_cancer()\n",
        "X, y = breast_cancer.data, breast_cancer.target\n",
        "\n",
        "# Split data into training and testing sets (optional)\n",
        "X_train, X_test, y_train, y_test = train_test_split(X, y, test_size=0.2, random_state=42)\n",
        "\n",
        "# Create and train the Random Forest Classifier with OOB score enabled\n",
        "rf_classifier = RandomForestClassifier(n_estimators=100, oob_score=True, random_state=42)\n",
        "rf_classifier.fit(X_train, y_train)\n",
        "\n",
        "# Get and print the OOB score\n",
        "oob_score = rf_classifier.oob_score_\n",
        "print(f\"OOB Score: {oob_score}\")"
      ],
      "cell_type": "code",
      "metadata": {
        "colab": {
          "base_uri": "https://localhost:8080/"
        },
        "id": "B6fWJzUuaJro",
        "outputId": "04470b27-28e8-48bf-f0a2-ce74fd94819c"
      },
      "execution_count": 8,
      "outputs": [
        {
          "output_type": "stream",
          "name": "stdout",
          "text": [
            "OOB Score: 0.9560439560439561\n"
          ]
        }
      ]
    },
    {
      "cell_type": "markdown",
      "source": [
        "26. Train a Bagging Classifier using SVM as a base estimator and print accuracy2\n",
        "\n",
        "\n",
        "ans:-"
      ],
      "metadata": {
        "id": "JlyGuaFeaK88"
      }
    },
    {
      "source": [
        "from sklearn.ensemble import BaggingClassifier\n",
        "from sklearn.svm import SVC\n",
        "from sklearn.model_selection import train_test_split\n",
        "from sklearn.metrics import accuracy_score\n",
        "from sklearn.datasets import load_breast_cancer  # Using Breast Cancer dataset for this example\n"
      ],
      "cell_type": "code",
      "metadata": {
        "id": "fLV_vsYgacNy"
      },
      "execution_count": null,
      "outputs": []
    },
    {
      "source": [
        "breast_cancer = load_breast_cancer()\n",
        "X, y = breast_cancer.data, breast_cancer.target"
      ],
      "cell_type": "code",
      "metadata": {
        "id": "T495IZQDaczH"
      },
      "execution_count": null,
      "outputs": []
    },
    {
      "source": [
        "X_train, X_test, y_train, y_test = train_test_split(X, y, test_size=0.2, random_state=42)"
      ],
      "cell_type": "code",
      "metadata": {
        "id": "7psb3zD7adjg"
      },
      "execution_count": null,
      "outputs": []
    },
    {
      "source": [
        "bagging_classifier = BaggingClassifier(base_estimator=SVC(), n_estimators=10, random_state=42)\n",
        "bagging_classifier.fit(X_train, y_train)"
      ],
      "cell_type": "code",
      "metadata": {
        "id": "py3e8mhUad8U"
      },
      "execution_count": null,
      "outputs": []
    },
    {
      "source": [
        "bagging_classifier = BaggingClassifier(base_estimator=SVC(), n_estimators=10, random_state=42)\n",
        "bagging_classifier.fit(X_train, y_train)"
      ],
      "cell_type": "code",
      "metadata": {
        "id": "lN84rMdpaeFL"
      },
      "execution_count": null,
      "outputs": []
    },
    {
      "source": [
        "bagging_classifier = BaggingClassifier(base_estimator=SVC(), n_estimators=10, random_state=42)\n",
        "bagging_classifier.fit(X_train, y_train)"
      ],
      "cell_type": "code",
      "metadata": {
        "id": "LrUbp9yfae4B"
      },
      "execution_count": null,
      "outputs": []
    },
    {
      "source": [
        "y_pred = bagging_classifier.predict(X_test)\n",
        "accuracy = accuracy_score(y_test, y_pred)\n",
        "print(f\"Accuracy: {accuracy}\")"
      ],
      "cell_type": "code",
      "metadata": {
        "id": "6-fhfz8lafOt"
      },
      "execution_count": null,
      "outputs": []
    },
    {
      "source": [
        "from sklearn.ensemble import BaggingClassifier\n",
        "from sklearn.svm import SVC\n",
        "from sklearn.model_selection import train_test_split\n",
        "from sklearn.metrics import accuracy_score\n",
        "from sklearn.datasets import load_breast_cancer\n",
        "\n",
        "# Load the Breast Cancer dataset\n",
        "breast_cancer = load_breast_cancer()\n",
        "X, y = breast_cancer.data, breast_cancer.target\n",
        "\n",
        "# Split data into training and testing sets\n",
        "X_train, X_test, y_train, y_test = train_test_split(X, y, test_size=0.2, random_state=42)\n",
        "\n",
        "# Create and train the Bagging Classifier with SVM base estimator\n",
        "bagging_classifier = BaggingClassifier(base_estimator=SVC(), n_estimators=10, random_state=42)\n",
        "bagging_classifier.fit(X_train, y_train)\n",
        "\n",
        "# Make predictions and evaluate accuracy\n",
        "y_pred = bagging_classifier.predict(X_test)\n",
        "accuracy = accuracy_score(y_test, y_pred)\n",
        "print(f\"Accuracy: {accuracy}\")"
      ],
      "cell_type": "code",
      "metadata": {
        "colab": {
          "base_uri": "https://localhost:8080/",
          "height": 219
        },
        "id": "xG8JiAwuafuZ",
        "outputId": "b3e1f231-54d6-4be0-f558-8c6a8bf6a050"
      },
      "execution_count": 9,
      "outputs": [
        {
          "output_type": "error",
          "ename": "TypeError",
          "evalue": "BaggingClassifier.__init__() got an unexpected keyword argument 'base_estimator'",
          "traceback": [
            "\u001b[0;31m---------------------------------------------------------------------------\u001b[0m",
            "\u001b[0;31mTypeError\u001b[0m                                 Traceback (most recent call last)",
            "\u001b[0;32m<ipython-input-9-dc3a8dd3d682>\u001b[0m in \u001b[0;36m<cell line: 0>\u001b[0;34m()\u001b[0m\n\u001b[1;32m     13\u001b[0m \u001b[0;34m\u001b[0m\u001b[0m\n\u001b[1;32m     14\u001b[0m \u001b[0;31m# Create and train the Bagging Classifier with SVM base estimator\u001b[0m\u001b[0;34m\u001b[0m\u001b[0;34m\u001b[0m\u001b[0m\n\u001b[0;32m---> 15\u001b[0;31m \u001b[0mbagging_classifier\u001b[0m \u001b[0;34m=\u001b[0m \u001b[0mBaggingClassifier\u001b[0m\u001b[0;34m(\u001b[0m\u001b[0mbase_estimator\u001b[0m\u001b[0;34m=\u001b[0m\u001b[0mSVC\u001b[0m\u001b[0;34m(\u001b[0m\u001b[0;34m)\u001b[0m\u001b[0;34m,\u001b[0m \u001b[0mn_estimators\u001b[0m\u001b[0;34m=\u001b[0m\u001b[0;36m10\u001b[0m\u001b[0;34m,\u001b[0m \u001b[0mrandom_state\u001b[0m\u001b[0;34m=\u001b[0m\u001b[0;36m42\u001b[0m\u001b[0;34m)\u001b[0m\u001b[0;34m\u001b[0m\u001b[0;34m\u001b[0m\u001b[0m\n\u001b[0m\u001b[1;32m     16\u001b[0m \u001b[0mbagging_classifier\u001b[0m\u001b[0;34m.\u001b[0m\u001b[0mfit\u001b[0m\u001b[0;34m(\u001b[0m\u001b[0mX_train\u001b[0m\u001b[0;34m,\u001b[0m \u001b[0my_train\u001b[0m\u001b[0;34m)\u001b[0m\u001b[0;34m\u001b[0m\u001b[0;34m\u001b[0m\u001b[0m\n\u001b[1;32m     17\u001b[0m \u001b[0;34m\u001b[0m\u001b[0m\n",
            "\u001b[0;31mTypeError\u001b[0m: BaggingClassifier.__init__() got an unexpected keyword argument 'base_estimator'"
          ]
        }
      ]
    },
    {
      "cell_type": "markdown",
      "source": [
        "27. Train a Random Forest Classifier with different numbers of trees and compare accuracy2\n",
        "\n",
        "\n",
        "\n",
        "ans:-"
      ],
      "metadata": {
        "id": "BA0UmqEwahGd"
      }
    },
    {
      "source": [
        "import pandas as pd\n",
        "import matplotlib.pyplot as plt\n",
        "from sklearn.ensemble import RandomForestClassifier\n",
        "from sklearn.model_selection import train_test_split\n",
        "from sklearn.metrics import accuracy_score\n",
        "from sklearn.datasets import load_breast_cancer"
      ],
      "cell_type": "code",
      "metadata": {
        "id": "EGO7oIAiaryc"
      },
      "execution_count": null,
      "outputs": []
    },
    {
      "source": [
        "breast_cancer = load_breast_cancer()\n",
        "X, y = breast_cancer.data, breast_cancer.target"
      ],
      "cell_type": "code",
      "metadata": {
        "id": "RZoDJfZAasFQ"
      },
      "execution_count": null,
      "outputs": []
    },
    {
      "source": [
        "X_train, X_test, y_train, y_test = train_test_split(X, y, test_size=0.2, random_state=42)"
      ],
      "cell_type": "code",
      "metadata": {
        "id": "wV8wIV_jask5"
      },
      "execution_count": null,
      "outputs": []
    },
    {
      "source": [
        "n_estimators_list = [10, 50, 100, 200, 500]  # List of number of trees to try\n",
        "accuracy_scores = []\n",
        "\n",
        "for n_estimators in n_estimators_list:\n",
        "    rf_classifier = RandomForestClassifier(n_estimators=n_estimators, random_state=42)\n",
        "    rf_classifier.fit(X_train, y_train)\n",
        "    y_pred = rf_classifier.predict(X_test)\n",
        "    accuracy = accuracy_score(y_test, y_pred)\n",
        "    accuracy_scores.append(accuracy)\n",
        "    print(f\"Accuracy with {n_estimators} trees: {accuracy}\")\n",
        "\n",
        "# Create a DataFrame to store the results\n",
        "results = pd.DataFrame({'n_estimators': n_estimators_list, 'accuracy': accuracy_scores})\n",
        "\n",
        "# Plot the results\n",
        "plt.plot(results['n_estimators'], results['accuracy'], marker='o')\n",
        "plt.xlabel('Number of Trees (n_estimators)')\n",
        "plt.ylabel('Accuracy')\n",
        "plt.title('Accuracy vs. Number of Trees in Random Forest')\n",
        "plt.grid(True)\n",
        "plt.show()  # To display the plot in Colab, you might need to use plt.show()"
      ],
      "cell_type": "code",
      "metadata": {
        "id": "BcLu54Nqas5c"
      },
      "execution_count": null,
      "outputs": []
    },
    {
      "source": [
        "import pandas as pd\n",
        "import matplotlib.pyplot as plt\n",
        "from sklearn.ensemble import RandomForestClassifier\n",
        "from sklearn.model_selection import train_test_split\n",
        "from sklearn.metrics import accuracy_score\n",
        "from sklearn.datasets import load_breast_cancer\n",
        "\n",
        "# Load the Breast Cancer dataset\n",
        "breast_cancer = load_breast_cancer()\n",
        "X, y = breast_cancer.data, breast_cancer.target\n",
        "\n",
        "# Split data into training and testing sets\n",
        "X_train, X_test, y_train, y_test = train_test_split(X, y, test_size=0.2, random_state=42)\n",
        "\n",
        "# Train and evaluate for different numbers of trees\n",
        "n_estimators_list = [10, 50, 100, 200, 500]\n",
        "accuracy_scores = []\n",
        "\n",
        "for n_estimators in n_estimators_list:\n",
        "    rf_classifier = RandomForestClassifier(n_estimators=n_estimators, random_state=42)\n",
        "    rf_classifier.fit(X_train, y_train)\n",
        "    y_pred = rf_classifier.predict(X_test)\n",
        "    accuracy = accuracy_score(y_test, y_pred)\n",
        "    accuracy_scores.append(accuracy)\n",
        "    print(f\"Accuracy with {n_estimators} trees: {accuracy}\")\n",
        "\n",
        "# Create a DataFrame to store the results\n",
        "results = pd.DataFrame({'n_estimators': n_estimators_list, 'accuracy': accuracy_scores})\n",
        "\n",
        "# Plot the results\n",
        "plt.plot(results['n_estimators'], results['accuracy'], marker='o')\n",
        "plt.xlabel('Number of Trees (n_estimators)')\n",
        "plt.ylabel('Accuracy')\n",
        "plt.title('Accuracy vs. Number of Trees in Random Forest')\n",
        "plt.grid(True)\n",
        "plt.show()"
      ],
      "cell_type": "code",
      "metadata": {
        "colab": {
          "base_uri": "https://localhost:8080/",
          "height": 563
        },
        "id": "bjNzqW-qatwr",
        "outputId": "79296ec5-f036-45a9-9015-403c048d6a12"
      },
      "execution_count": 10,
      "outputs": [
        {
          "output_type": "stream",
          "name": "stdout",
          "text": [
            "Accuracy with 10 trees: 0.956140350877193\n",
            "Accuracy with 50 trees: 0.9649122807017544\n",
            "Accuracy with 100 trees: 0.9649122807017544\n",
            "Accuracy with 200 trees: 0.9649122807017544\n",
            "Accuracy with 500 trees: 0.9649122807017544\n"
          ]
        },
        {
          "output_type": "display_data",
          "data": {
            "text/plain": [
              "<Figure size 640x480 with 1 Axes>"
            ],
            "image/png": "[encoded data removed]"
          },
          "metadata": {}
        }
      ]
    },
    {
      "cell_type": "markdown",
      "source": [
        "28. Train a Bagging Classifier using Logistic Regression as a base estimator and print AUC score2\n",
        "\n",
        "\n",
        "\n",
        "ans:-"
      ],
      "metadata": {
        "id": "RI-ZoIAMa2uU"
      }
    },
    {
      "source": [
        "from sklearn.ensemble import BaggingClassifier\n",
        "from sklearn.linear_model import LogisticRegression\n",
        "from sklearn.model_selection import train_test_split\n",
        "from sklearn.metrics import roc_auc_score\n",
        "from sklearn.datasets import load_breast_cancer"
      ],
      "cell_type": "code",
      "metadata": {
        "id": "aPAqFwkBa7_9"
      },
      "execution_count": null,
      "outputs": []
    },
    {
      "cell_type": "markdown",
      "source": [
        "29. Train a Random Forest Regressor and analyze feature importance scores2\n",
        "\n",
        "\n",
        "\n",
        "ans:-"
      ],
      "metadata": {
        "id": "4XegSCsxa-VQ"
      }
    },
    {
      "source": [
        "#1. Import necessary libraries:\n",
        "import pandas as pd\n",
        "import matplotlib.pyplot as plt\n",
        "from sklearn.ensemble import RandomForestRegressor\n",
        "from sklearn.model_selection import train_test_split\n",
        "from sklearn.datasets import load_boston"
      ],
      "cell_type": "code",
      "metadata": {
        "id": "I4fI5cSbbQrY"
      },
      "execution_count": null,
      "outputs": []
    },
    {
      "source": [
        "#2. Load the sample dataset:\n",
        "boston = load_boston()\n",
        "X, y = boston.data, boston.target\n",
        "feature_names = boston.feature_names"
      ],
      "cell_type": "code",
      "metadata": {
        "id": "F3xeUd_gbThI"
      },
      "execution_count": null,
      "outputs": []
    },
    {
      "source": [
        "#Split data into training and testing sets:\n",
        "X_train, X_test, y_train, y_test = train_test_split(X, y, test_size=0.2, random_state=42)"
      ],
      "cell_type": "code",
      "metadata": {
        "id": "0XOIRkdpbYrp"
      },
      "execution_count": null,
      "outputs": []
    },
    {
      "source": [
        "#4. Create and train the Random Forest Regressor:\n",
        "rf_regressor = RandomForestRegressor(n_estimators=100, random_state=42)  # You can adjust n_estimators\n",
        "rf_regressor.fit(X_train, y_train)"
      ],
      "cell_type": "code",
      "metadata": {
        "id": "_MJ71wYibew0"
      },
      "execution_count": null,
      "outputs": []
    },
    {
      "source": [
        "#5. Get and analyze feature importance scores:\n",
        "feature_importances = pd.DataFrame({'feature': feature_names, 'importance': rf_regressor.feature_importances_})\n",
        "feature_importances = feature_importances.sort_values('importance', ascending=False)\n",
        "print(feature_importances)\n",
        "\n",
        "# Plot feature importances\n",
        "plt.bar(feature_importances['feature'], feature_importances['importance'])\n",
        "plt.xlabel('Features')\n",
        "plt.ylabel('Importance')\n",
        "plt.title('Feature Importance in Random Forest Regressor')\n",
        "plt.xticks(rotation=90)  # Rotate x-axis labels for better readability\n",
        "plt.show()"
      ],
      "cell_type": "code",
      "metadata": {
        "id": "RUcUCYAvbj6G"
      },
      "execution_count": null,
      "outputs": []
    },
    {
      "source": [
        "import pandas as pd\n",
        "import matplotlib.pyplot as plt\n",
        "from sklearn.ensemble import RandomForestRegressor\n",
        "from sklearn.model_selection import train_test_split\n",
        "from sklearn.datasets import load_boston\n",
        "\n",
        "# Load the Boston Housing dataset\n",
        "boston = load_boston()\n",
        "X, y = boston.data, boston.target\n",
        "feature_names = boston.feature_names\n",
        "\n",
        "# Split data into training and testing sets\n",
        "X_train, X_test, y_train, y_test = train_test_split(X, y, test_size=0.2, random_state=42)\n",
        "\n",
        "# Create and train the Random Forest Regressor\n",
        "rf_regressor = RandomForestRegressor(n_estimators=100, random_state=42)\n",
        "rf_regressor.fit(X_train, y_train)\n",
        "\n",
        "# Get and analyze feature importance scores\n",
        "feature_importances = pd.DataFrame({'feature': feature_names, 'importance': rf_regressor.feature_importances_})\n",
        "feature_importances = feature_importances.sort_values('importance', ascending=False)\n",
        "print(feature_importances)\n",
        "\n",
        "# Plot feature importances\n",
        "plt.bar(feature_importances['feature'], feature_importances['importance'])\n",
        "plt.xlabel('Features')\n",
        "plt.ylabel('Importance')\n",
        "plt.title('Feature Importance in Random Forest Regressor')\n",
        "plt.xticks(rotation=90)\n",
        "plt.show()"
      ],
      "cell_type": "code",
      "metadata": {
        "colab": {
          "base_uri": "https://localhost:8080/",
          "height": 1000
        },
        "id": "28iP3sxSbnaL",
        "outputId": "b1c97309-7f95-4143-d0a5-5bc0c912b780"
      },
      "execution_count": 11,
      "outputs": [
        {
          "output_type": "error",
          "ename": "ImportError",
          "evalue": "\n`load_boston` has been removed from scikit-learn since version 1.2.\n\nThe Boston housing prices dataset has an ethical problem: as\ninvestigated in [1], the authors of this dataset engineered a\nnon-invertible variable \"B\" assuming that racial self-segregation had a\npositive impact on house prices [2]. Furthermore the goal of the\nresearch that led to the creation of this dataset was to study the\nimpact of air quality but it did not give adequate demonstration of the\nvalidity of this assumption.\n\nThe scikit-learn maintainers therefore strongly discourage the use of\nthis dataset unless the purpose of the code is to study and educate\nabout ethical issues in data science and machine learning.\n\nIn this special case, you can fetch the dataset from the original\nsource::\n\n    import pandas as pd\n    import numpy as np\n\n    data_url = \"http://lib.stat.cmu.edu/datasets/boston\"\n    raw_df = pd.read_csv(data_url, sep=\"\\s+\", skiprows=22, header=None)\n    data = np.hstack([raw_df.values[::2, :], raw_df.values[1::2, :2]])\n    target = raw_df.values[1::2, 2]\n\nAlternative datasets include the California housing dataset and the\nAmes housing dataset. You can load the datasets as follows::\n\n    from sklearn.datasets import fetch_california_housing\n    housing = fetch_california_housing()\n\nfor the California housing dataset and::\n\n    from sklearn.datasets import fetch_openml\n    housing = fetch_openml(name=\"house_prices\", as_frame=True)\n\nfor the Ames housing dataset.\n\n[1] M Carlisle.\n\"Racist data destruction?\"\n<https://medium.com/@docintangible/racist-data-destruction-113e3eff54a8>\n\n[2] Harrison Jr, David, and Daniel L. Rubinfeld.\n\"Hedonic housing prices and the demand for clean air.\"\nJournal of environmental economics and management 5.1 (1978): 81-102.\n<https://www.researchgate.net/publication/4974606_Hedonic_housing_prices_and_the_demand_for_clean_air>\n",
          "traceback": [
            "\u001b[0;31m---------------------------------------------------------------------------\u001b[0m",
            "\u001b[0;31mImportError\u001b[0m                               Traceback (most recent call last)",
            "\u001b[0;32m<ipython-input-11-b06829ade47a>\u001b[0m in \u001b[0;36m<cell line: 0>\u001b[0;34m()\u001b[0m\n\u001b[1;32m      3\u001b[0m \u001b[0;32mfrom\u001b[0m \u001b[0msklearn\u001b[0m\u001b[0;34m.\u001b[0m\u001b[0mensemble\u001b[0m \u001b[0;32mimport\u001b[0m \u001b[0mRandomForestRegressor\u001b[0m\u001b[0;34m\u001b[0m\u001b[0;34m\u001b[0m\u001b[0m\n\u001b[1;32m      4\u001b[0m \u001b[0;32mfrom\u001b[0m \u001b[0msklearn\u001b[0m\u001b[0;34m.\u001b[0m\u001b[0mmodel_selection\u001b[0m \u001b[0;32mimport\u001b[0m \u001b[0mtrain_test_split\u001b[0m\u001b[0;34m\u001b[0m\u001b[0;34m\u001b[0m\u001b[0m\n\u001b[0;32m----> 5\u001b[0;31m \u001b[0;32mfrom\u001b[0m \u001b[0msklearn\u001b[0m\u001b[0;34m.\u001b[0m\u001b[0mdatasets\u001b[0m \u001b[0;32mimport\u001b[0m \u001b[0mload_boston\u001b[0m\u001b[0;34m\u001b[0m\u001b[0;34m\u001b[0m\u001b[0m\n\u001b[0m\u001b[1;32m      6\u001b[0m \u001b[0;34m\u001b[0m\u001b[0m\n\u001b[1;32m      7\u001b[0m \u001b[0;31m# Load the Boston Housing dataset\u001b[0m\u001b[0;34m\u001b[0m\u001b[0;34m\u001b[0m\u001b[0m\n",
            "\u001b[0;32m/usr/local/lib/python3.11/dist-packages/sklearn/datasets/__init__.py\u001b[0m in \u001b[0;36m__getattr__\u001b[0;34m(name)\u001b[0m\n\u001b[1;32m    159\u001b[0m             \"\"\"\n\u001b[1;32m    160\u001b[0m         )\n\u001b[0;32m--> 161\u001b[0;31m         \u001b[0;32mraise\u001b[0m \u001b[0mImportError\u001b[0m\u001b[0;34m(\u001b[0m\u001b[0mmsg\u001b[0m\u001b[0;34m)\u001b[0m\u001b[0;34m\u001b[0m\u001b[0;34m\u001b[0m\u001b[0m\n\u001b[0m\u001b[1;32m    162\u001b[0m     \u001b[0;32mtry\u001b[0m\u001b[0;34m:\u001b[0m\u001b[0;34m\u001b[0m\u001b[0;34m\u001b[0m\u001b[0m\n\u001b[1;32m    163\u001b[0m         \u001b[0;32mreturn\u001b[0m \u001b[0mglobals\u001b[0m\u001b[0;34m(\u001b[0m\u001b[0;34m)\u001b[0m\u001b[0;34m[\u001b[0m\u001b[0mname\u001b[0m\u001b[0;34m]\u001b[0m\u001b[0;34m\u001b[0m\u001b[0;34m\u001b[0m\u001b[0m\n",
            "\u001b[0;31mImportError\u001b[0m: \n`load_boston` has been removed from scikit-learn since version 1.2.\n\nThe Boston housing prices dataset has an ethical problem: as\ninvestigated in [1], the authors of this dataset engineered a\nnon-invertible variable \"B\" assuming that racial self-segregation had a\npositive impact on house prices [2]. Furthermore the goal of the\nresearch that led to the creation of this dataset was to study the\nimpact of air quality but it did not give adequate demonstration of the\nvalidity of this assumption.\n\nThe scikit-learn maintainers therefore strongly discourage the use of\nthis dataset unless the purpose of the code is to study and educate\nabout ethical issues in data science and machine learning.\n\nIn this special case, you can fetch the dataset from the original\nsource::\n\n    import pandas as pd\n    import numpy as np\n\n    data_url = \"http://lib.stat.cmu.edu/datasets/boston\"\n    raw_df = pd.read_csv(data_url, sep=\"\\s+\", skiprows=22, header=None)\n    data = np.hstack([raw_df.values[::2, :], raw_df.values[1::2, :2]])\n    target = raw_df.values[1::2, 2]\n\nAlternative datasets include the California housing dataset and the\nAmes housing dataset. You can load the datasets as follows::\n\n    from sklearn.datasets import fetch_california_housing\n    housing = fetch_california_housing()\n\nfor the California housing dataset and::\n\n    from sklearn.datasets import fetch_openml\n    housing = fetch_openml(name=\"house_prices\", as_frame=True)\n\nfor the Ames housing dataset.\n\n[1] M Carlisle.\n\"Racist data destruction?\"\n<https://medium.com/@docintangible/racist-data-destruction-113e3eff54a8>\n\n[2] Harrison Jr, David, and Daniel L. Rubinfeld.\n\"Hedonic housing prices and the demand for clean air.\"\nJournal of environmental economics and management 5.1 (1978): 81-102.\n<https://www.researchgate.net/publication/4974606_Hedonic_housing_prices_and_the_demand_for_clean_air>\n",
            "",
            "\u001b[0;31m---------------------------------------------------------------------------\u001b[0;32m\nNOTE: If your import is failing due to a missing package, you can\nmanually install dependencies using either !pip or !apt.\n\nTo view examples of installing some common dependencies, click the\n\"Open Examples\" button below.\n\u001b[0;31m---------------------------------------------------------------------------\u001b[0m\n"
          ],
          "errorDetails": {
            "actions": [
              {
                "action": "open_url",
                "actionText": "Open Examples",
                "url": "/notebooks/snippets/importing_libraries.ipynb"
              }
            ]
          }
        }
      ]
    },
    {
      "cell_type": "markdown",
      "source": [
        "30.Train an ensemble model using both Bagging and Random Forest and compare accuracy.\n",
        "\n",
        "\n",
        "\n",
        "as:-"
      ],
      "metadata": {
        "id": "yo8m2SxXbpKf"
      }
    },
    {
      "source": [
        "from sklearn.ensemble import BaggingClassifier, RandomForestClassifier\n",
        "from sklearn.tree import DecisionTreeClassifier  # Base estimator for Bagging\n",
        "from sklearn.model_selection import train_test_split\n",
        "from sklearn.metrics import accuracy_score\n",
        "from sklearn.datasets import load_breast_cancer"
      ],
      "cell_type": "code",
      "metadata": {
        "id": "33-uDCCZcXfi"
      },
      "execution_count": null,
      "outputs": []
    },
    {
      "source": [
        "X_train, X_test, y_train, y_test = train_test_split(X, y, test_size=0.2, random_state=42)"
      ],
      "cell_type": "code",
      "metadata": {
        "id": "RTxPAMd7cXzL"
      },
      "execution_count": null,
      "outputs": []
    },
    {
      "source": [
        "breast_cancer = load_breast_cancer()\n",
        "X, y = breast_cancer.data, breast_cancer.target"
      ],
      "cell_type": "code",
      "metadata": {
        "id": "ao_y-9l0cYCp"
      },
      "execution_count": null,
      "outputs": []
    },
    {
      "source": [
        "# Bagging Classifier\n",
        "bagging_classifier = BaggingClassifier(base_estimator=DecisionTreeClassifier(), n_estimators=100, random_state=42)\n",
        "bagging_classifier.fit(X_train, y_train)\n",
        "\n",
        "# Random Forest Classifier\n",
        "rf_classifier = RandomForestClassifier(n_estimators=100, random_state=42)\n",
        "rf_classifier.fit(X_train, y_train)"
      ],
      "cell_type": "code",
      "metadata": {
        "id": "ppOvrMuWcYXf"
      },
      "execution_count": null,
      "outputs": []
    },
    {
      "source": [
        "# Bagging Classifier\n",
        "bagging_predictions = bagging_classifier.predict(X_test)\n",
        "bagging_accuracy = accuracy_score(y_test, bagging_predictions)\n",
        "\n",
        "# Random Forest Classifier\n",
        "rf_predictions = rf_classifier.predict(X_test)\n",
        "rf_accuracy = accuracy_score(y_test, rf_predictions)\n",
        "\n",
        "print(f\"Bagging Classifier Accuracy: {bagging_accuracy}\")\n",
        "print(f\"Random Forest Classifier Accuracy: {rf_accuracy}\")"
      ],
      "cell_type": "code",
      "metadata": {
        "id": "fgvtm9BQcY1G"
      },
      "execution_count": null,
      "outputs": []
    },
    {
      "source": [
        "from sklearn.ensemble import BaggingClassifier, RandomForestClassifier\n",
        "from sklearn.tree import DecisionTreeClassifier\n",
        "from sklearn.model_selection import train_test_split\n",
        "from sklearn.metrics import accuracy_score\n",
        "from sklearn.datasets import load_breast_cancer\n",
        "\n",
        "# Load the Breast Cancer dataset\n",
        "breast_cancer = load_breast_cancer()\n",
        "X, y = breast_cancer.data, breast_cancer.target\n",
        "\n",
        "# Split data into training and testing sets\n",
        "X_train, X_test, y_train, y_test = train_test_split(X, y, test_size=0.2, random_state=42)\n",
        "\n",
        "# Create and train the models\n",
        "bagging_classifier = BaggingClassifier(base_estimator=DecisionTreeClassifier(), n_estimators=100, random_state=42)\n",
        "bagging_classifier.fit(X_train, y_train)\n",
        "\n",
        "rf_classifier = RandomForestClassifier(n_estimators=100, random_state=42)\n",
        "rf_classifier.fit(X_train, y_train)\n",
        "\n",
        "# Make predictions and evaluate accuracy\n",
        "bagging_predictions = bagging_classifier.predict(X_test)\n",
        "bagging_accuracy = accuracy_score(y_test, bagging_predictions)\n",
        "\n",
        "rf_predictions = rf_classifier.predict(X_test)\n",
        "rf_accuracy = accuracy_score(y_test, rf_predictions)\n",
        "\n",
        "print(f\"Bagging Classifier Accuracy: {bagging_accuracy}\")\n",
        "print(f\"Random Forest Classifier Accuracy: {rf_accuracy}\")"
      ],
      "cell_type": "code",
      "metadata": {
        "colab": {
          "base_uri": "https://localhost:8080/",
          "height": 237
        },
        "id": "bAUlxoRUcZSy",
        "outputId": "1c6c7568-399d-40a5-ced3-807beae2ef5b"
      },
      "execution_count": 12,
      "outputs": [
        {
          "output_type": "error",
          "ename": "TypeError",
          "evalue": "BaggingClassifier.__init__() got an unexpected keyword argument 'base_estimator'",
          "traceback": [
            "\u001b[0;31m---------------------------------------------------------------------------\u001b[0m",
            "\u001b[0;31mTypeError\u001b[0m                                 Traceback (most recent call last)",
            "\u001b[0;32m<ipython-input-12-afd82ea4442b>\u001b[0m in \u001b[0;36m<cell line: 0>\u001b[0;34m()\u001b[0m\n\u001b[1;32m     13\u001b[0m \u001b[0;34m\u001b[0m\u001b[0m\n\u001b[1;32m     14\u001b[0m \u001b[0;31m# Create and train the models\u001b[0m\u001b[0;34m\u001b[0m\u001b[0;34m\u001b[0m\u001b[0m\n\u001b[0;32m---> 15\u001b[0;31m \u001b[0mbagging_classifier\u001b[0m \u001b[0;34m=\u001b[0m \u001b[0mBaggingClassifier\u001b[0m\u001b[0;34m(\u001b[0m\u001b[0mbase_estimator\u001b[0m\u001b[0;34m=\u001b[0m\u001b[0mDecisionTreeClassifier\u001b[0m\u001b[0;34m(\u001b[0m\u001b[0;34m)\u001b[0m\u001b[0;34m,\u001b[0m \u001b[0mn_estimators\u001b[0m\u001b[0;34m=\u001b[0m\u001b[0;36m100\u001b[0m\u001b[0;34m,\u001b[0m \u001b[0mrandom_state\u001b[0m\u001b[0;34m=\u001b[0m\u001b[0;36m42\u001b[0m\u001b[0;34m)\u001b[0m\u001b[0;34m\u001b[0m\u001b[0;34m\u001b[0m\u001b[0m\n\u001b[0m\u001b[1;32m     16\u001b[0m \u001b[0mbagging_classifier\u001b[0m\u001b[0;34m.\u001b[0m\u001b[0mfit\u001b[0m\u001b[0;34m(\u001b[0m\u001b[0mX_train\u001b[0m\u001b[0;34m,\u001b[0m \u001b[0my_train\u001b[0m\u001b[0;34m)\u001b[0m\u001b[0;34m\u001b[0m\u001b[0;34m\u001b[0m\u001b[0m\n\u001b[1;32m     17\u001b[0m \u001b[0;34m\u001b[0m\u001b[0m\n",
            "\u001b[0;31mTypeError\u001b[0m: BaggingClassifier.__init__() got an unexpected keyword argument 'base_estimator'"
          ]
        }
      ]
    },
    {
      "cell_type": "markdown",
      "source": [
        "31.Train a Random Forest Classifier and tune hyperparameters using GridSearchCV=\n",
        "\n",
        "\n",
        "ans:-"
      ],
      "metadata": {
        "id": "XHqTv7iectGU"
      }
    },
    {
      "source": [
        "from sklearn.ensemble import RandomForestClassifier\n",
        "from sklearn.model_selection import train_test_split, GridSearchCV\n",
        "from sklearn.metrics import accuracy_score\n",
        "from sklearn.datasets import load_breast_cancer"
      ],
      "cell_type": "code",
      "metadata": {
        "id": "33uvMscFcy15"
      },
      "execution_count": null,
      "outputs": []
    },
    {
      "source": [
        "breast_cancer = load_breast_cancer()\n",
        "X, y = breast_cancer.data, breast_cancer.target"
      ],
      "cell_type": "code",
      "metadata": {
        "id": "0h5giHDlczIj"
      },
      "execution_count": null,
      "outputs": []
    },
    {
      "source": [
        "X_train, X_test, y_train, y_test = train_test_split(X, y, test_size=0.2, random_state=42)"
      ],
      "cell_type": "code",
      "metadata": {
        "id": "U0Wnxh1yczby"
      },
      "execution_count": null,
      "outputs": []
    },
    {
      "source": [
        "param_grid = {\n",
        "    'n_estimators': [100, 200, 300],  # Number of trees in the forest\n",
        "    'max_depth': [None, 5, 10],  # Maximum depth of the trees\n",
        "    'min_samples_split': [2, 5, 10],  # Minimum number of samples required to split an internal node\n",
        "    'min_samples_leaf': [1, 2, 4]  # Minimum number of samples required to be at a leaf node\n",
        "}"
      ],
      "cell_type": "code",
      "metadata": {
        "id": "Rjh2EyA0cz_6"
      },
      "execution_count": null,
      "outputs": []
    },
    {
      "source": [
        "rf_classifier = RandomForestClassifier(random_state=42)\n",
        "grid_search = GridSearchCV(estimator=rf_classifier, param_grid=param_grid, scoring='accuracy', cv=5)  # 5-fold cross-validation\n",
        "grid_search.fit(X_train, y_train)"
      ],
      "cell_type": "code",
      "metadata": {
        "id": "gmEVNanSc0Y-"
      },
      "execution_count": null,
      "outputs": []
    },
    {
      "source": [
        "best_params = grid_search.best_params_\n",
        "best_model = grid_search.best_estimator_\n",
        "y_pred = best_model.predict(X_test)\n",
        "accuracy = accuracy_score(y_test, y_pred)\n",
        "\n",
        "print(f\"Best Hyperparameters: {best_params}\")\n",
        "print(f\"Accuracy on Test Set: {accuracy}\")"
      ],
      "cell_type": "code",
      "metadata": {
        "id": "gl1okc16c3Vo"
      },
      "execution_count": null,
      "outputs": []
    },
    {
      "source": [
        "from sklearn.ensemble import RandomForestClassifier\n",
        "from sklearn.model_selection import train_test_split, GridSearchCV\n",
        "from sklearn.metrics import accuracy_score\n",
        "from sklearn.datasets import load_breast_cancer\n",
        "\n",
        "# Load the Breast Cancer dataset\n",
        "breast_cancer = load_breast_cancer()\n",
        "X, y = breast_cancer.data, breast_cancer.target\n",
        "\n",
        "# Split data into training and testing sets\n",
        "X_train, X_test, y_train, y_test = train_test_split(X, y, test_size=0.2, random_state=42)\n",
        "\n",
        "# Define the parameter grid for GridSearchCV\n",
        "param_grid = {\n",
        "    'n_estimators': [100, 200, 300],\n",
        "    'max_depth': [None, 5, 10],\n",
        "    'min_samples_split': [2, 5, 10],\n",
        "    'min_samples_leaf': [1, 2, 4]\n",
        "}\n",
        "\n",
        "# Create and train the model using GridSearchCV\n",
        "rf_classifier = RandomForestClassifier(random_state=42)\n",
        "grid_search = GridSearchCV(estimator=rf_classifier, param_grid=param_grid, scoring='accuracy', cv=5)\n",
        "grid_search.fit(X_train, y_train)\n",
        "\n",
        "# Get the best hyperparameters and evaluate on the test set\n",
        "best_params = grid_search.best_params_\n",
        "best_model = grid_search.best_estimator_\n",
        "y_pred = best_model.predict(X_test)\n",
        "accuracy = accuracy_score(y_test, y_pred)\n",
        "\n",
        "print(f\"Best Hyperparameters: {best_params}\")\n",
        "print(f\"Accuracy on Test Set: {accuracy}\")"
      ],
      "cell_type": "code",
      "metadata": {
        "colab": {
          "base_uri": "https://localhost:8080/",
          "height": 388
        },
        "id": "QCFomTiMc3y-",
        "outputId": "dbd16df4-a3fd-4599-e069-2c5c76362173"
      },
      "execution_count": 13,
      "outputs": [
        {
          "output_type": "error",
          "ename": "KeyboardInterrupt",
          "evalue": "",
          "traceback": [
            "\u001b[0;31m---------------------------------------------------------------------------\u001b[0m",
            "\u001b[0;31mKeyboardInterrupt\u001b[0m                         Traceback (most recent call last)",
            "\u001b[0;32m<ipython-input-13-de1715af68e0>\u001b[0m in \u001b[0;36m<cell line: 0>\u001b[0;34m()\u001b[0m\n\u001b[1;32m     22\u001b[0m \u001b[0mrf_classifier\u001b[0m \u001b[0;34m=\u001b[0m \u001b[0mRandomForestClassifier\u001b[0m\u001b[0;34m(\u001b[0m\u001b[0mrandom_state\u001b[0m\u001b[0;34m=\u001b[0m\u001b[0;36m42\u001b[0m\u001b[0;34m)\u001b[0m\u001b[0;34m\u001b[0m\u001b[0;34m\u001b[0m\u001b[0m\n\u001b[1;32m     23\u001b[0m \u001b[0mgrid_search\u001b[0m \u001b[0;34m=\u001b[0m \u001b[0mGridSearchCV\u001b[0m\u001b[0;34m(\u001b[0m\u001b[0mestimator\u001b[0m\u001b[0;34m=\u001b[0m\u001b[0mrf_classifier\u001b[0m\u001b[0;34m,\u001b[0m \u001b[0mparam_grid\u001b[0m\u001b[0;34m=\u001b[0m\u001b[0mparam_grid\u001b[0m\u001b[0;34m,\u001b[0m \u001b[0mscoring\u001b[0m\u001b[0;34m=\u001b[0m\u001b[0;34m'accuracy'\u001b[0m\u001b[0;34m,\u001b[0m \u001b[0mcv\u001b[0m\u001b[0;34m=\u001b[0m\u001b[0;36m5\u001b[0m\u001b[0;34m)\u001b[0m\u001b[0;34m\u001b[0m\u001b[0;34m\u001b[0m\u001b[0m\n\u001b[0;32m---> 24\u001b[0;31m \u001b[0mgrid_search\u001b[0m\u001b[0;34m.\u001b[0m\u001b[0mfit\u001b[0m\u001b[0;34m(\u001b[0m\u001b[0mX_train\u001b[0m\u001b[0;34m,\u001b[0m \u001b[0my_train\u001b[0m\u001b[0;34m)\u001b[0m\u001b[0;34m\u001b[0m\u001b[0;34m\u001b[0m\u001b[0m\n\u001b[0m\u001b[1;32m     25\u001b[0m \u001b[0;34m\u001b[0m\u001b[0m\n\u001b[1;32m     26\u001b[0m \u001b[0;31m# Get the best hyperparameters and evaluate on the test set\u001b[0m\u001b[0;34m\u001b[0m\u001b[0;34m\u001b[0m\u001b[0m\n",
            "\u001b[0;32m/usr/local/lib/python3.11/dist-packages/sklearn/base.py\u001b[0m in \u001b[0;36mwrapper\u001b[0;34m(estimator, *args, **kwargs)\u001b[0m\n\u001b[1;32m   1387\u001b[0m                 )\n\u001b[1;32m   1388\u001b[0m             ):\n\u001b[0;32m-> 1389\u001b[0;31m                 \u001b[0;32mreturn\u001b[0m \u001b[0mfit_method\u001b[0m\u001b[0;34m(\u001b[0m\u001b[0mestimator\u001b[0m\u001b[0;34m,\u001b[0m \u001b[0;34m*\u001b[0m\u001b[0margs\u001b[0m\u001b[0;34m,\u001b[0m \u001b[0;34m**\u001b[0m\u001b[0mkwargs\u001b[0m\u001b[0;34m)\u001b[0m\u001b[0;34m\u001b[0m\u001b[0;34m\u001b[0m\u001b[0m\n\u001b[0m\u001b[1;32m   1390\u001b[0m \u001b[0;34m\u001b[0m\u001b[0m\n\u001b[1;32m   1391\u001b[0m         \u001b[0;32mreturn\u001b[0m \u001b[0mwrapper\u001b[0m\u001b[0;34m\u001b[0m\u001b[0;34m\u001b[0m\u001b[0m\n",
            "\u001b[0;32m/usr/local/lib/python3.11/dist-packages/sklearn/model_selection/_search.py\u001b[0m in \u001b[0;36mfit\u001b[0;34m(self, X, y, **params)\u001b[0m\n\u001b[1;32m   1022\u001b[0m                 \u001b[0;32mreturn\u001b[0m \u001b[0mresults\u001b[0m\u001b[0;34m\u001b[0m\u001b[0;34m\u001b[0m\u001b[0m\n\u001b[1;32m   1023\u001b[0m \u001b[0;34m\u001b[0m\u001b[0m\n\u001b[0;32m-> 1024\u001b[0;31m             \u001b[0mself\u001b[0m\u001b[0;34m.\u001b[0m\u001b[0m_run_search\u001b[0m\u001b[0;34m(\u001b[0m\u001b[0mevaluate_candidates\u001b[0m\u001b[0;34m)\u001b[0m\u001b[0;34m\u001b[0m\u001b[0;34m\u001b[0m\u001b[0m\n\u001b[0m\u001b[1;32m   1025\u001b[0m \u001b[0;34m\u001b[0m\u001b[0m\n\u001b[1;32m   1026\u001b[0m             \u001b[0;31m# multimetric is determined here because in the case of a callable\u001b[0m\u001b[0;34m\u001b[0m\u001b[0;34m\u001b[0m\u001b[0m\n",
            "\u001b[0;32m/usr/local/lib/python3.11/dist-packages/sklearn/model_selection/_search.py\u001b[0m in \u001b[0;36m_run_search\u001b[0;34m(self, evaluate_candidates)\u001b[0m\n\u001b[1;32m   1569\u001b[0m     \u001b[0;32mdef\u001b[0m \u001b[0m_run_search\u001b[0m\u001b[0;34m(\u001b[0m\u001b[0mself\u001b[0m\u001b[0;34m,\u001b[0m \u001b[0mevaluate_candidates\u001b[0m\u001b[0;34m)\u001b[0m\u001b[0;34m:\u001b[0m\u001b[0;34m\u001b[0m\u001b[0;34m\u001b[0m\u001b[0m\n\u001b[1;32m   1570\u001b[0m         \u001b[0;34m\"\"\"Search all candidates in param_grid\"\"\"\u001b[0m\u001b[0;34m\u001b[0m\u001b[0;34m\u001b[0m\u001b[0m\n\u001b[0;32m-> 1571\u001b[0;31m         \u001b[0mevaluate_candidates\u001b[0m\u001b[0;34m(\u001b[0m\u001b[0mParameterGrid\u001b[0m\u001b[0;34m(\u001b[0m\u001b[0mself\u001b[0m\u001b[0;34m.\u001b[0m\u001b[0mparam_grid\u001b[0m\u001b[0;34m)\u001b[0m\u001b[0;34m)\u001b[0m\u001b[0;34m\u001b[0m\u001b[0;34m\u001b[0m\u001b[0m\n\u001b[0m\u001b[1;32m   1572\u001b[0m \u001b[0;34m\u001b[0m\u001b[0m\n\u001b[1;32m   1573\u001b[0m \u001b[0;34m\u001b[0m\u001b[0m\n",
            "\u001b[0;32m/usr/local/lib/python3.11/dist-packages/sklearn/model_selection/_search.py\u001b[0m in \u001b[0;36mevaluate_candidates\u001b[0;34m(candidate_params, cv, more_results)\u001b[0m\n\u001b[1;32m    968\u001b[0m                     )\n\u001b[1;32m    969\u001b[0m \u001b[0;34m\u001b[0m\u001b[0m\n\u001b[0;32m--> 970\u001b[0;31m                 out = parallel(\n\u001b[0m\u001b[1;32m    971\u001b[0m                     delayed(_fit_and_score)(\n\u001b[1;32m    972\u001b[0m                         \u001b[0mclone\u001b[0m\u001b[0;34m(\u001b[0m\u001b[0mbase_estimator\u001b[0m\u001b[0;34m)\u001b[0m\u001b[0;34m,\u001b[0m\u001b[0;34m\u001b[0m\u001b[0;34m\u001b[0m\u001b[0m\n",
            "\u001b[0;32m/usr/local/lib/python3.11/dist-packages/sklearn/utils/parallel.py\u001b[0m in \u001b[0;36m__call__\u001b[0;34m(self, iterable)\u001b[0m\n\u001b[1;32m     75\u001b[0m             \u001b[0;32mfor\u001b[0m \u001b[0mdelayed_func\u001b[0m\u001b[0;34m,\u001b[0m \u001b[0margs\u001b[0m\u001b[0;34m,\u001b[0m \u001b[0mkwargs\u001b[0m \u001b[0;32min\u001b[0m \u001b[0miterable\u001b[0m\u001b[0;34m\u001b[0m\u001b[0;34m\u001b[0m\u001b[0m\n\u001b[1;32m     76\u001b[0m         )\n\u001b[0;32m---> 77\u001b[0;31m         \u001b[0;32mreturn\u001b[0m \u001b[0msuper\u001b[0m\u001b[0;34m(\u001b[0m\u001b[0;34m)\u001b[0m\u001b[0;34m.\u001b[0m\u001b[0m__call__\u001b[0m\u001b[0;34m(\u001b[0m\u001b[0miterable_with_config\u001b[0m\u001b[0;34m)\u001b[0m\u001b[0;34m\u001b[0m\u001b[0;34m\u001b[0m\u001b[0m\n\u001b[0m\u001b[1;32m     78\u001b[0m \u001b[0;34m\u001b[0m\u001b[0m\n\u001b[1;32m     79\u001b[0m \u001b[0;34m\u001b[0m\u001b[0m\n",
            "\u001b[0;32m/usr/local/lib/python3.11/dist-packages/joblib/parallel.py\u001b[0m in \u001b[0;36m__call__\u001b[0;34m(self, iterable)\u001b[0m\n\u001b[1;32m   1916\u001b[0m             \u001b[0moutput\u001b[0m \u001b[0;34m=\u001b[0m \u001b[0mself\u001b[0m\u001b[0;34m.\u001b[0m\u001b[0m_get_sequential_output\u001b[0m\u001b[0;34m(\u001b[0m\u001b[0miterable\u001b[0m\u001b[0;34m)\u001b[0m\u001b[0;34m\u001b[0m\u001b[0;34m\u001b[0m\u001b[0m\n\u001b[1;32m   1917\u001b[0m             \u001b[0mnext\u001b[0m\u001b[0;34m(\u001b[0m\u001b[0moutput\u001b[0m\u001b[0;34m)\u001b[0m\u001b[0;34m\u001b[0m\u001b[0;34m\u001b[0m\u001b[0m\n\u001b[0;32m-> 1918\u001b[0;31m             \u001b[0;32mreturn\u001b[0m \u001b[0moutput\u001b[0m \u001b[0;32mif\u001b[0m \u001b[0mself\u001b[0m\u001b[0;34m.\u001b[0m\u001b[0mreturn_generator\u001b[0m \u001b[0;32melse\u001b[0m \u001b[0mlist\u001b[0m\u001b[0;34m(\u001b[0m\u001b[0moutput\u001b[0m\u001b[0;34m)\u001b[0m\u001b[0;34m\u001b[0m\u001b[0;34m\u001b[0m\u001b[0m\n\u001b[0m\u001b[1;32m   1919\u001b[0m \u001b[0;34m\u001b[0m\u001b[0m\n\u001b[1;32m   1920\u001b[0m         \u001b[0;31m# Let's create an ID that uniquely identifies the current call. If the\u001b[0m\u001b[0;34m\u001b[0m\u001b[0;34m\u001b[0m\u001b[0m\n",
            "\u001b[0;32m/usr/local/lib/python3.11/dist-packages/joblib/parallel.py\u001b[0m in \u001b[0;36m_get_sequential_output\u001b[0;34m(self, iterable)\u001b[0m\n\u001b[1;32m   1845\u001b[0m                 \u001b[0mself\u001b[0m\u001b[0;34m.\u001b[0m\u001b[0mn_dispatched_batches\u001b[0m \u001b[0;34m+=\u001b[0m \u001b[0;36m1\u001b[0m\u001b[0;34m\u001b[0m\u001b[0;34m\u001b[0m\u001b[0m\n\u001b[1;32m   1846\u001b[0m                 \u001b[0mself\u001b[0m\u001b[0;34m.\u001b[0m\u001b[0mn_dispatched_tasks\u001b[0m \u001b[0;34m+=\u001b[0m \u001b[0;36m1\u001b[0m\u001b[0;34m\u001b[0m\u001b[0;34m\u001b[0m\u001b[0m\n\u001b[0;32m-> 1847\u001b[0;31m                 \u001b[0mres\u001b[0m \u001b[0;34m=\u001b[0m \u001b[0mfunc\u001b[0m\u001b[0;34m(\u001b[0m\u001b[0;34m*\u001b[0m\u001b[0margs\u001b[0m\u001b[0;34m,\u001b[0m \u001b[0;34m**\u001b[0m\u001b[0mkwargs\u001b[0m\u001b[0;34m)\u001b[0m\u001b[0;34m\u001b[0m\u001b[0;34m\u001b[0m\u001b[0m\n\u001b[0m\u001b[1;32m   1848\u001b[0m                 \u001b[0mself\u001b[0m\u001b[0;34m.\u001b[0m\u001b[0mn_completed_tasks\u001b[0m \u001b[0;34m+=\u001b[0m \u001b[0;36m1\u001b[0m\u001b[0;34m\u001b[0m\u001b[0;34m\u001b[0m\u001b[0m\n\u001b[1;32m   1849\u001b[0m                 \u001b[0mself\u001b[0m\u001b[0;34m.\u001b[0m\u001b[0mprint_progress\u001b[0m\u001b[0;34m(\u001b[0m\u001b[0;34m)\u001b[0m\u001b[0;34m\u001b[0m\u001b[0;34m\u001b[0m\u001b[0m\n",
            "\u001b[0;32m/usr/local/lib/python3.11/dist-packages/sklearn/utils/parallel.py\u001b[0m in \u001b[0;36m__call__\u001b[0;34m(self, *args, **kwargs)\u001b[0m\n\u001b[1;32m    137\u001b[0m             \u001b[0mconfig\u001b[0m \u001b[0;34m=\u001b[0m \u001b[0;34m{\u001b[0m\u001b[0;34m}\u001b[0m\u001b[0;34m\u001b[0m\u001b[0;34m\u001b[0m\u001b[0m\n\u001b[1;32m    138\u001b[0m         \u001b[0;32mwith\u001b[0m \u001b[0mconfig_context\u001b[0m\u001b[0;34m(\u001b[0m\u001b[0;34m**\u001b[0m\u001b[0mconfig\u001b[0m\u001b[0;34m)\u001b[0m\u001b[0;34m:\u001b[0m\u001b[0;34m\u001b[0m\u001b[0;34m\u001b[0m\u001b[0m\n\u001b[0;32m--> 139\u001b[0;31m             \u001b[0;32mreturn\u001b[0m \u001b[0mself\u001b[0m\u001b[0;34m.\u001b[0m\u001b[0mfunction\u001b[0m\u001b[0;34m(\u001b[0m\u001b[0;34m*\u001b[0m\u001b[0margs\u001b[0m\u001b[0;34m,\u001b[0m \u001b[0;34m**\u001b[0m\u001b[0mkwargs\u001b[0m\u001b[0;34m)\u001b[0m\u001b[0;34m\u001b[0m\u001b[0;34m\u001b[0m\u001b[0m\n\u001b[0m\u001b[1;32m    140\u001b[0m \u001b[0;34m\u001b[0m\u001b[0m\n\u001b[1;32m    141\u001b[0m \u001b[0;34m\u001b[0m\u001b[0m\n",
            "\u001b[0;32m/usr/local/lib/python3.11/dist-packages/sklearn/model_selection/_validation.py\u001b[0m in \u001b[0;36m_fit_and_score\u001b[0;34m(estimator, X, y, scorer, train, test, verbose, parameters, fit_params, score_params, return_train_score, return_parameters, return_n_test_samples, return_times, return_estimator, split_progress, candidate_progress, error_score)\u001b[0m\n\u001b[1;32m    864\u001b[0m             \u001b[0mestimator\u001b[0m\u001b[0;34m.\u001b[0m\u001b[0mfit\u001b[0m\u001b[0;34m(\u001b[0m\u001b[0mX_train\u001b[0m\u001b[0;34m,\u001b[0m \u001b[0;34m**\u001b[0m\u001b[0mfit_params\u001b[0m\u001b[0;34m)\u001b[0m\u001b[0;34m\u001b[0m\u001b[0;34m\u001b[0m\u001b[0m\n\u001b[1;32m    865\u001b[0m         \u001b[0;32melse\u001b[0m\u001b[0;34m:\u001b[0m\u001b[0;34m\u001b[0m\u001b[0;34m\u001b[0m\u001b[0m\n\u001b[0;32m--> 866\u001b[0;31m             \u001b[0mestimator\u001b[0m\u001b[0;34m.\u001b[0m\u001b[0mfit\u001b[0m\u001b[0;34m(\u001b[0m\u001b[0mX_train\u001b[0m\u001b[0;34m,\u001b[0m \u001b[0my_train\u001b[0m\u001b[0;34m,\u001b[0m \u001b[0;34m**\u001b[0m\u001b[0mfit_params\u001b[0m\u001b[0;34m)\u001b[0m\u001b[0;34m\u001b[0m\u001b[0;34m\u001b[0m\u001b[0m\n\u001b[0m\u001b[1;32m    867\u001b[0m \u001b[0;34m\u001b[0m\u001b[0m\n\u001b[1;32m    868\u001b[0m     \u001b[0;32mexcept\u001b[0m \u001b[0mException\u001b[0m\u001b[0;34m:\u001b[0m\u001b[0;34m\u001b[0m\u001b[0;34m\u001b[0m\u001b[0m\n",
            "\u001b[0;32m/usr/local/lib/python3.11/dist-packages/sklearn/base.py\u001b[0m in \u001b[0;36mwrapper\u001b[0;34m(estimator, *args, **kwargs)\u001b[0m\n\u001b[1;32m   1387\u001b[0m                 )\n\u001b[1;32m   1388\u001b[0m             ):\n\u001b[0;32m-> 1389\u001b[0;31m                 \u001b[0;32mreturn\u001b[0m \u001b[0mfit_method\u001b[0m\u001b[0;34m(\u001b[0m\u001b[0mestimator\u001b[0m\u001b[0;34m,\u001b[0m \u001b[0;34m*\u001b[0m\u001b[0margs\u001b[0m\u001b[0;34m,\u001b[0m \u001b[0;34m**\u001b[0m\u001b[0mkwargs\u001b[0m\u001b[0;34m)\u001b[0m\u001b[0;34m\u001b[0m\u001b[0;34m\u001b[0m\u001b[0m\n\u001b[0m\u001b[1;32m   1390\u001b[0m \u001b[0;34m\u001b[0m\u001b[0m\n\u001b[1;32m   1391\u001b[0m         \u001b[0;32mreturn\u001b[0m \u001b[0mwrapper\u001b[0m\u001b[0;34m\u001b[0m\u001b[0;34m\u001b[0m\u001b[0m\n",
            "\u001b[0;32m/usr/local/lib/python3.11/dist-packages/sklearn/ensemble/_forest.py\u001b[0m in \u001b[0;36mfit\u001b[0;34m(self, X, y, sample_weight)\u001b[0m\n\u001b[1;32m    485\u001b[0m             \u001b[0;31m# parallel_backend contexts set at a higher level,\u001b[0m\u001b[0;34m\u001b[0m\u001b[0;34m\u001b[0m\u001b[0m\n\u001b[1;32m    486\u001b[0m             \u001b[0;31m# since correctness does not rely on using threads.\u001b[0m\u001b[0;34m\u001b[0m\u001b[0;34m\u001b[0m\u001b[0m\n\u001b[0;32m--> 487\u001b[0;31m             trees = Parallel(\n\u001b[0m\u001b[1;32m    488\u001b[0m                 \u001b[0mn_jobs\u001b[0m\u001b[0;34m=\u001b[0m\u001b[0mself\u001b[0m\u001b[0;34m.\u001b[0m\u001b[0mn_jobs\u001b[0m\u001b[0;34m,\u001b[0m\u001b[0;34m\u001b[0m\u001b[0;34m\u001b[0m\u001b[0m\n\u001b[1;32m    489\u001b[0m                 \u001b[0mverbose\u001b[0m\u001b[0;34m=\u001b[0m\u001b[0mself\u001b[0m\u001b[0;34m.\u001b[0m\u001b[0mverbose\u001b[0m\u001b[0;34m,\u001b[0m\u001b[0;34m\u001b[0m\u001b[0;34m\u001b[0m\u001b[0m\n",
            "\u001b[0;32m/usr/local/lib/python3.11/dist-packages/sklearn/utils/parallel.py\u001b[0m in \u001b[0;36m__call__\u001b[0;34m(self, iterable)\u001b[0m\n\u001b[1;32m     75\u001b[0m             \u001b[0;32mfor\u001b[0m \u001b[0mdelayed_func\u001b[0m\u001b[0;34m,\u001b[0m \u001b[0margs\u001b[0m\u001b[0;34m,\u001b[0m \u001b[0mkwargs\u001b[0m \u001b[0;32min\u001b[0m \u001b[0miterable\u001b[0m\u001b[0;34m\u001b[0m\u001b[0;34m\u001b[0m\u001b[0m\n\u001b[1;32m     76\u001b[0m         )\n\u001b[0;32m---> 77\u001b[0;31m         \u001b[0;32mreturn\u001b[0m \u001b[0msuper\u001b[0m\u001b[0;34m(\u001b[0m\u001b[0;34m)\u001b[0m\u001b[0;34m.\u001b[0m\u001b[0m__call__\u001b[0m\u001b[0;34m(\u001b[0m\u001b[0miterable_with_config\u001b[0m\u001b[0;34m)\u001b[0m\u001b[0;34m\u001b[0m\u001b[0;34m\u001b[0m\u001b[0m\n\u001b[0m\u001b[1;32m     78\u001b[0m \u001b[0;34m\u001b[0m\u001b[0m\n\u001b[1;32m     79\u001b[0m \u001b[0;34m\u001b[0m\u001b[0m\n",
            "\u001b[0;32m/usr/local/lib/python3.11/dist-packages/joblib/parallel.py\u001b[0m in \u001b[0;36m__call__\u001b[0;34m(self, iterable)\u001b[0m\n\u001b[1;32m   1916\u001b[0m             \u001b[0moutput\u001b[0m \u001b[0;34m=\u001b[0m \u001b[0mself\u001b[0m\u001b[0;34m.\u001b[0m\u001b[0m_get_sequential_output\u001b[0m\u001b[0;34m(\u001b[0m\u001b[0miterable\u001b[0m\u001b[0;34m)\u001b[0m\u001b[0;34m\u001b[0m\u001b[0;34m\u001b[0m\u001b[0m\n\u001b[1;32m   1917\u001b[0m             \u001b[0mnext\u001b[0m\u001b[0;34m(\u001b[0m\u001b[0moutput\u001b[0m\u001b[0;34m)\u001b[0m\u001b[0;34m\u001b[0m\u001b[0;34m\u001b[0m\u001b[0m\n\u001b[0;32m-> 1918\u001b[0;31m             \u001b[0;32mreturn\u001b[0m \u001b[0moutput\u001b[0m \u001b[0;32mif\u001b[0m \u001b[0mself\u001b[0m\u001b[0;34m.\u001b[0m\u001b[0mreturn_generator\u001b[0m \u001b[0;32melse\u001b[0m \u001b[0mlist\u001b[0m\u001b[0;34m(\u001b[0m\u001b[0moutput\u001b[0m\u001b[0;34m)\u001b[0m\u001b[0;34m\u001b[0m\u001b[0;34m\u001b[0m\u001b[0m\n\u001b[0m\u001b[1;32m   1919\u001b[0m \u001b[0;34m\u001b[0m\u001b[0m\n\u001b[1;32m   1920\u001b[0m         \u001b[0;31m# Let's create an ID that uniquely identifies the current call. If the\u001b[0m\u001b[0;34m\u001b[0m\u001b[0;34m\u001b[0m\u001b[0m\n",
            "\u001b[0;32m/usr/local/lib/python3.11/dist-packages/joblib/parallel.py\u001b[0m in \u001b[0;36m_get_sequential_output\u001b[0;34m(self, iterable)\u001b[0m\n\u001b[1;32m   1845\u001b[0m                 \u001b[0mself\u001b[0m\u001b[0;34m.\u001b[0m\u001b[0mn_dispatched_batches\u001b[0m \u001b[0;34m+=\u001b[0m \u001b[0;36m1\u001b[0m\u001b[0;34m\u001b[0m\u001b[0;34m\u001b[0m\u001b[0m\n\u001b[1;32m   1846\u001b[0m                 \u001b[0mself\u001b[0m\u001b[0;34m.\u001b[0m\u001b[0mn_dispatched_tasks\u001b[0m \u001b[0;34m+=\u001b[0m \u001b[0;36m1\u001b[0m\u001b[0;34m\u001b[0m\u001b[0;34m\u001b[0m\u001b[0m\n\u001b[0;32m-> 1847\u001b[0;31m                 \u001b[0mres\u001b[0m \u001b[0;34m=\u001b[0m \u001b[0mfunc\u001b[0m\u001b[0;34m(\u001b[0m\u001b[0;34m*\u001b[0m\u001b[0margs\u001b[0m\u001b[0;34m,\u001b[0m \u001b[0;34m**\u001b[0m\u001b[0mkwargs\u001b[0m\u001b[0;34m)\u001b[0m\u001b[0;34m\u001b[0m\u001b[0;34m\u001b[0m\u001b[0m\n\u001b[0m\u001b[1;32m   1848\u001b[0m                 \u001b[0mself\u001b[0m\u001b[0;34m.\u001b[0m\u001b[0mn_completed_tasks\u001b[0m \u001b[0;34m+=\u001b[0m \u001b[0;36m1\u001b[0m\u001b[0;34m\u001b[0m\u001b[0;34m\u001b[0m\u001b[0m\n\u001b[1;32m   1849\u001b[0m                 \u001b[0mself\u001b[0m\u001b[0;34m.\u001b[0m\u001b[0mprint_progress\u001b[0m\u001b[0;34m(\u001b[0m\u001b[0;34m)\u001b[0m\u001b[0;34m\u001b[0m\u001b[0;34m\u001b[0m\u001b[0m\n",
            "\u001b[0;32m/usr/local/lib/python3.11/dist-packages/sklearn/utils/parallel.py\u001b[0m in \u001b[0;36m__call__\u001b[0;34m(self, *args, **kwargs)\u001b[0m\n\u001b[1;32m    137\u001b[0m             \u001b[0mconfig\u001b[0m \u001b[0;34m=\u001b[0m \u001b[0;34m{\u001b[0m\u001b[0;34m}\u001b[0m\u001b[0;34m\u001b[0m\u001b[0;34m\u001b[0m\u001b[0m\n\u001b[1;32m    138\u001b[0m         \u001b[0;32mwith\u001b[0m \u001b[0mconfig_context\u001b[0m\u001b[0;34m(\u001b[0m\u001b[0;34m**\u001b[0m\u001b[0mconfig\u001b[0m\u001b[0;34m)\u001b[0m\u001b[0;34m:\u001b[0m\u001b[0;34m\u001b[0m\u001b[0;34m\u001b[0m\u001b[0m\n\u001b[0;32m--> 139\u001b[0;31m             \u001b[0;32mreturn\u001b[0m \u001b[0mself\u001b[0m\u001b[0;34m.\u001b[0m\u001b[0mfunction\u001b[0m\u001b[0;34m(\u001b[0m\u001b[0;34m*\u001b[0m\u001b[0margs\u001b[0m\u001b[0;34m,\u001b[0m \u001b[0;34m**\u001b[0m\u001b[0mkwargs\u001b[0m\u001b[0;34m)\u001b[0m\u001b[0;34m\u001b[0m\u001b[0;34m\u001b[0m\u001b[0m\n\u001b[0m\u001b[1;32m    140\u001b[0m \u001b[0;34m\u001b[0m\u001b[0m\n\u001b[1;32m    141\u001b[0m \u001b[0;34m\u001b[0m\u001b[0m\n",
            "\u001b[0;32m/usr/local/lib/python3.11/dist-packages/sklearn/ensemble/_forest.py\u001b[0m in \u001b[0;36m_parallel_build_trees\u001b[0;34m(tree, bootstrap, X, y, sample_weight, tree_idx, n_trees, verbose, class_weight, n_samples_bootstrap, missing_values_in_feature_mask)\u001b[0m\n\u001b[1;32m    187\u001b[0m             \u001b[0mcurr_sample_weight\u001b[0m \u001b[0;34m*=\u001b[0m \u001b[0mcompute_sample_weight\u001b[0m\u001b[0;34m(\u001b[0m\u001b[0;34m\"balanced\"\u001b[0m\u001b[0;34m,\u001b[0m \u001b[0my\u001b[0m\u001b[0;34m,\u001b[0m \u001b[0mindices\u001b[0m\u001b[0;34m=\u001b[0m\u001b[0mindices\u001b[0m\u001b[0;34m)\u001b[0m\u001b[0;34m\u001b[0m\u001b[0;34m\u001b[0m\u001b[0m\n\u001b[1;32m    188\u001b[0m \u001b[0;34m\u001b[0m\u001b[0m\n\u001b[0;32m--> 189\u001b[0;31m         tree._fit(\n\u001b[0m\u001b[1;32m    190\u001b[0m             \u001b[0mX\u001b[0m\u001b[0;34m,\u001b[0m\u001b[0;34m\u001b[0m\u001b[0;34m\u001b[0m\u001b[0m\n\u001b[1;32m    191\u001b[0m             \u001b[0my\u001b[0m\u001b[0;34m,\u001b[0m\u001b[0;34m\u001b[0m\u001b[0;34m\u001b[0m\u001b[0m\n",
            "\u001b[0;32m/usr/local/lib/python3.11/dist-packages/sklearn/tree/_classes.py\u001b[0m in \u001b[0;36m_fit\u001b[0;34m(self, X, y, sample_weight, check_input, missing_values_in_feature_mask)\u001b[0m\n\u001b[1;32m    470\u001b[0m             )\n\u001b[1;32m    471\u001b[0m \u001b[0;34m\u001b[0m\u001b[0m\n\u001b[0;32m--> 472\u001b[0;31m         \u001b[0mbuilder\u001b[0m\u001b[0;34m.\u001b[0m\u001b[0mbuild\u001b[0m\u001b[0;34m(\u001b[0m\u001b[0mself\u001b[0m\u001b[0;34m.\u001b[0m\u001b[0mtree_\u001b[0m\u001b[0;34m,\u001b[0m \u001b[0mX\u001b[0m\u001b[0;34m,\u001b[0m \u001b[0my\u001b[0m\u001b[0;34m,\u001b[0m \u001b[0msample_weight\u001b[0m\u001b[0;34m,\u001b[0m \u001b[0mmissing_values_in_feature_mask\u001b[0m\u001b[0;34m)\u001b[0m\u001b[0;34m\u001b[0m\u001b[0;34m\u001b[0m\u001b[0m\n\u001b[0m\u001b[1;32m    473\u001b[0m \u001b[0;34m\u001b[0m\u001b[0m\n\u001b[1;32m    474\u001b[0m         \u001b[0;32mif\u001b[0m \u001b[0mself\u001b[0m\u001b[0;34m.\u001b[0m\u001b[0mn_outputs_\u001b[0m \u001b[0;34m==\u001b[0m \u001b[0;36m1\u001b[0m \u001b[0;32mand\u001b[0m \u001b[0mis_classifier\u001b[0m\u001b[0;34m(\u001b[0m\u001b[0mself\u001b[0m\u001b[0;34m)\u001b[0m\u001b[0;34m:\u001b[0m\u001b[0;34m\u001b[0m\u001b[0;34m\u001b[0m\u001b[0m\n",
            "\u001b[0;31mKeyboardInterrupt\u001b[0m: "
          ]
        }
      ]
    },
    {
      "cell_type": "markdown",
      "source": [
        "32. Train a Bagging Regressor with different numbers of base estimators and compare performance=\n",
        "\n",
        "\n",
        "\n",
        "ans:-"
      ],
      "metadata": {
        "id": "PJv_3SzIdF6l"
      }
    },
    {
      "source": [
        "import pandas as pd\n",
        "import matplotlib.pyplot as plt\n",
        "from sklearn.ensemble import BaggingRegressor\n",
        "from sklearn.tree import DecisionTreeRegressor  # Base estimator\n",
        "from sklearn.model_selection import train_test_split\n",
        "from sklearn.metrics import mean_squared_error\n",
        "from sklearn.datasets import load_boston"
      ],
      "cell_type": "code",
      "metadata": {
        "id": "pkWZF_BodME1"
      },
      "execution_count": null,
      "outputs": []
    },
    {
      "source": [
        "boston = load_boston()\n",
        "X, y = boston.data, boston.target"
      ],
      "cell_type": "code",
      "metadata": {
        "id": "FKobsokrdMZS"
      },
      "execution_count": null,
      "outputs": []
    },
    {
      "source": [
        "X_train, X_test, y_train, y_test = train_test_split(X, y, test_size=0.2, random_state=42)"
      ],
      "cell_type": "code",
      "metadata": {
        "id": "44NQdU5KdM_R"
      },
      "execution_count": null,
      "outputs": []
    },
    {
      "source": [
        "n_estimators_list = [10, 50, 100, 200, 500]  # List of number of base estimators to try\n",
        "mse_scores = []\n",
        "\n",
        "for n_estimators in n_estimators_list:\n",
        "    bagging_regressor = BaggingRegressor(base_estimator=DecisionTreeRegressor(), n_estimators=n_estimators, random_state=42)\n",
        "    bagging_regressor.fit(X_train, y_train)\n",
        "    y_pred = bagging_regressor.predict(X_test)\n",
        "    mse = mean_squared_error(y_test, y_pred)\n",
        "    mse_scores.append(mse)\n",
        "    print(f\"MSE with {n_estimators} base estimators: {mse}\")\n",
        "\n",
        "# Create a DataFrame to store the results\n",
        "results = pd.DataFrame({'n_estimators': n_estimators_list, 'mse': mse_scores})\n",
        "\n",
        "# Plot the results\n",
        "plt.plot(results['n_estimators'], results['mse'], marker='o')\n",
        "plt.xlabel('Number of Base Estimators (n_estimators)')\n",
        "plt.ylabel('Mean Squared Error (MSE)')\n",
        "plt"
      ],
      "cell_type": "code",
      "metadata": {
        "id": "Tc2ynmWhdNOT"
      },
      "execution_count": null,
      "outputs": []
    },
    {
      "source": [
        "n_estimators_list = [10, 50, 100, 200, 500]  # List of number of base estimators to try\n",
        "mse_scores = []\n",
        "\n",
        "for n_estimators in n_estimators_list:\n",
        "    bagging_regressor = BaggingRegressor(base_estimator=DecisionTreeRegressor(), n_estimators=n_estimators, random_state=42)\n",
        "    bagging_regressor.fit(X_train, y_train)\n",
        "    y_pred = bagging_regressor.predict(X_test)\n",
        "    mse = mean_squared_error(y_test, y_pred)\n",
        "    mse_scores.append(mse)\n",
        "    print(f\"MSE with {n_estimators} base estimators: {mse}\")\n",
        "\n",
        "# Create a DataFrame to store the results\n",
        "results = pd.DataFrame({'n_estimators': n_estimators_list, 'mse': mse_scores})\n",
        "\n",
        "# Plot the results\n",
        "plt.plot(results['n_estimators'], results['mse'], marker='o')\n",
        "plt.xlabel('Number of Base Estimators (n_estimators)')\n",
        "plt.ylabel('Mean Squared Error (MSE)')\n",
        "plt.title('MSE vs. Number of Base Estimators in Bagging Regressor')\n",
        "plt.grid(True)\n",
        "plt.show()"
      ],
      "cell_type": "code",
      "metadata": {
        "id": "xlApSPbrdP6V"
      },
      "execution_count": null,
      "outputs": []
    },
    {
      "source": [
        "import pandas as pd\n",
        "import matplotlib.pyplot as plt\n",
        "from sklearn.ensemble import BaggingRegressor\n",
        "from sklearn.tree import DecisionTreeRegressor\n",
        "from sklearn.model_selection import train_test_split\n",
        "from sklearn.metrics import mean_squared_error\n",
        "from sklearn.datasets import load_boston\n",
        "\n",
        "# Load the Boston Housing dataset\n",
        "boston = load_boston()\n",
        "X, y = boston.data, boston.target\n",
        "\n",
        "# Split data into training and testing sets\n",
        "X_train, X_test, y_train, y_test = train_test_split(X, y, test_size=0.2, random_state=42)\n",
        "\n",
        "# Train and evaluate for different numbers of base estimators\n",
        "n_estimators_list = [10, 50, 100, 200, 500]\n",
        "mse_scores = []\n",
        "\n",
        "for n_estimators in n_estimators_list:\n",
        "    bagging_regressor = BaggingRegressor(base_estimator=DecisionTreeRegressor(), n_estimators=n_estimators, random_state=42)\n",
        "    bagging_regressor.fit(X_train, y_train)\n",
        "    y_pred = bagging_regressor.predict(X_test)\n",
        "    mse = mean_squared_error(y_test, y_pred)\n",
        "    mse_scores.append(mse)\n",
        "    print(f\"MSE with {n_estimators} base estimators: {mse}\")\n",
        "\n",
        "# Create a DataFrame to store the results\n",
        "results = pd.DataFrame({'n_estimators': n_estimators_list, 'mse': mse_scores})\n",
        "\n",
        "# Plot the results\n",
        "plt.plot(results['n_estimators'], results['mse'], marker='o')\n",
        "plt.xlabel('Number of Base Estimators (n_estimators)')\n",
        "plt.ylabel('Mean Squared Error (MSE)')\n",
        "plt.title('MSE vs. Number of Base Estimators in Bagging Regressor')\n",
        "plt.grid(True)\n",
        "plt.show()"
      ],
      "cell_type": "code",
      "metadata": {
        "colab": {
          "base_uri": "https://localhost:8080/",
          "height": 1000
        },
        "id": "xWD2A-aJdQqr",
        "outputId": "1483da87-08c1-4fa9-ccda-c4cacf6d55de"
      },
      "execution_count": 14,
      "outputs": [
        {
          "output_type": "error",
          "ename": "ImportError",
          "evalue": "\n`load_boston` has been removed from scikit-learn since version 1.2.\n\nThe Boston housing prices dataset has an ethical problem: as\ninvestigated in [1], the authors of this dataset engineered a\nnon-invertible variable \"B\" assuming that racial self-segregation had a\npositive impact on house prices [2]. Furthermore the goal of the\nresearch that led to the creation of this dataset was to study the\nimpact of air quality but it did not give adequate demonstration of the\nvalidity of this assumption.\n\nThe scikit-learn maintainers therefore strongly discourage the use of\nthis dataset unless the purpose of the code is to study and educate\nabout ethical issues in data science and machine learning.\n\nIn this special case, you can fetch the dataset from the original\nsource::\n\n    import pandas as pd\n    import numpy as np\n\n    data_url = \"http://lib.stat.cmu.edu/datasets/boston\"\n    raw_df = pd.read_csv(data_url, sep=\"\\s+\", skiprows=22, header=None)\n    data = np.hstack([raw_df.values[::2, :], raw_df.values[1::2, :2]])\n    target = raw_df.values[1::2, 2]\n\nAlternative datasets include the California housing dataset and the\nAmes housing dataset. You can load the datasets as follows::\n\n    from sklearn.datasets import fetch_california_housing\n    housing = fetch_california_housing()\n\nfor the California housing dataset and::\n\n    from sklearn.datasets import fetch_openml\n    housing = fetch_openml(name=\"house_prices\", as_frame=True)\n\nfor the Ames housing dataset.\n\n[1] M Carlisle.\n\"Racist data destruction?\"\n<https://medium.com/@docintangible/racist-data-destruction-113e3eff54a8>\n\n[2] Harrison Jr, David, and Daniel L. Rubinfeld.\n\"Hedonic housing prices and the demand for clean air.\"\nJournal of environmental economics and management 5.1 (1978): 81-102.\n<https://www.researchgate.net/publication/4974606_Hedonic_housing_prices_and_the_demand_for_clean_air>\n",
          "traceback": [
            "\u001b[0;31m---------------------------------------------------------------------------\u001b[0m",
            "\u001b[0;31mImportError\u001b[0m                               Traceback (most recent call last)",
            "\u001b[0;32m<ipython-input-14-cf74540c51bc>\u001b[0m in \u001b[0;36m<cell line: 0>\u001b[0;34m()\u001b[0m\n\u001b[1;32m      5\u001b[0m \u001b[0;32mfrom\u001b[0m \u001b[0msklearn\u001b[0m\u001b[0;34m.\u001b[0m\u001b[0mmodel_selection\u001b[0m \u001b[0;32mimport\u001b[0m \u001b[0mtrain_test_split\u001b[0m\u001b[0;34m\u001b[0m\u001b[0;34m\u001b[0m\u001b[0m\n\u001b[1;32m      6\u001b[0m \u001b[0;32mfrom\u001b[0m \u001b[0msklearn\u001b[0m\u001b[0;34m.\u001b[0m\u001b[0mmetrics\u001b[0m \u001b[0;32mimport\u001b[0m \u001b[0mmean_squared_error\u001b[0m\u001b[0;34m\u001b[0m\u001b[0;34m\u001b[0m\u001b[0m\n\u001b[0;32m----> 7\u001b[0;31m \u001b[0;32mfrom\u001b[0m \u001b[0msklearn\u001b[0m\u001b[0;34m.\u001b[0m\u001b[0mdatasets\u001b[0m \u001b[0;32mimport\u001b[0m \u001b[0mload_boston\u001b[0m\u001b[0;34m\u001b[0m\u001b[0;34m\u001b[0m\u001b[0m\n\u001b[0m\u001b[1;32m      8\u001b[0m \u001b[0;34m\u001b[0m\u001b[0m\n\u001b[1;32m      9\u001b[0m \u001b[0;31m# Load the Boston Housing dataset\u001b[0m\u001b[0;34m\u001b[0m\u001b[0;34m\u001b[0m\u001b[0m\n",
            "\u001b[0;32m/usr/local/lib/python3.11/dist-packages/sklearn/datasets/__init__.py\u001b[0m in \u001b[0;36m__getattr__\u001b[0;34m(name)\u001b[0m\n\u001b[1;32m    159\u001b[0m             \"\"\"\n\u001b[1;32m    160\u001b[0m         )\n\u001b[0;32m--> 161\u001b[0;31m         \u001b[0;32mraise\u001b[0m \u001b[0mImportError\u001b[0m\u001b[0;34m(\u001b[0m\u001b[0mmsg\u001b[0m\u001b[0;34m)\u001b[0m\u001b[0;34m\u001b[0m\u001b[0;34m\u001b[0m\u001b[0m\n\u001b[0m\u001b[1;32m    162\u001b[0m     \u001b[0;32mtry\u001b[0m\u001b[0;34m:\u001b[0m\u001b[0;34m\u001b[0m\u001b[0;34m\u001b[0m\u001b[0m\n\u001b[1;32m    163\u001b[0m         \u001b[0;32mreturn\u001b[0m \u001b[0mglobals\u001b[0m\u001b[0;34m(\u001b[0m\u001b[0;34m)\u001b[0m\u001b[0;34m[\u001b[0m\u001b[0mname\u001b[0m\u001b[0;34m]\u001b[0m\u001b[0;34m\u001b[0m\u001b[0;34m\u001b[0m\u001b[0m\n",
            "\u001b[0;31mImportError\u001b[0m: \n`load_boston` has been removed from scikit-learn since version 1.2.\n\nThe Boston housing prices dataset has an ethical problem: as\ninvestigated in [1], the authors of this dataset engineered a\nnon-invertible variable \"B\" assuming that racial self-segregation had a\npositive impact on house prices [2]. Furthermore the goal of the\nresearch that led to the creation of this dataset was to study the\nimpact of air quality but it did not give adequate demonstration of the\nvalidity of this assumption.\n\nThe scikit-learn maintainers therefore strongly discourage the use of\nthis dataset unless the purpose of the code is to study and educate\nabout ethical issues in data science and machine learning.\n\nIn this special case, you can fetch the dataset from the original\nsource::\n\n    import pandas as pd\n    import numpy as np\n\n    data_url = \"http://lib.stat.cmu.edu/datasets/boston\"\n    raw_df = pd.read_csv(data_url, sep=\"\\s+\", skiprows=22, header=None)\n    data = np.hstack([raw_df.values[::2, :], raw_df.values[1::2, :2]])\n    target = raw_df.values[1::2, 2]\n\nAlternative datasets include the California housing dataset and the\nAmes housing dataset. You can load the datasets as follows::\n\n    from sklearn.datasets import fetch_california_housing\n    housing = fetch_california_housing()\n\nfor the California housing dataset and::\n\n    from sklearn.datasets import fetch_openml\n    housing = fetch_openml(name=\"house_prices\", as_frame=True)\n\nfor the Ames housing dataset.\n\n[1] M Carlisle.\n\"Racist data destruction?\"\n<https://medium.com/@docintangible/racist-data-destruction-113e3eff54a8>\n\n[2] Harrison Jr, David, and Daniel L. Rubinfeld.\n\"Hedonic housing prices and the demand for clean air.\"\nJournal of environmental economics and management 5.1 (1978): 81-102.\n<https://www.researchgate.net/publication/4974606_Hedonic_housing_prices_and_the_demand_for_clean_air>\n",
            "",
            "\u001b[0;31m---------------------------------------------------------------------------\u001b[0;32m\nNOTE: If your import is failing due to a missing package, you can\nmanually install dependencies using either !pip or !apt.\n\nTo view examples of installing some common dependencies, click the\n\"Open Examples\" button below.\n\u001b[0;31m---------------------------------------------------------------------------\u001b[0m\n"
          ],
          "errorDetails": {
            "actions": [
              {
                "action": "open_url",
                "actionText": "Open Examples",
                "url": "/notebooks/snippets/importing_libraries.ipynb"
              }
            ]
          }
        }
      ]
    },
    {
      "cell_type": "markdown",
      "source": [
        "33. Train a Random Forest Classifier and analyze misclassified samples=\n",
        "\n",
        "\n",
        "\n",
        "ans:-\n",
        "\n",
        "```\n",
        "# This is formatted as code\n",
        "```\n",
        "\n"
      ],
      "metadata": {
        "id": "3RBX6KT-dWkn"
      }
    },
    {
      "source": [
        "import pandas as pd\n",
        "from sklearn.ensemble import RandomForestClassifier\n",
        "from sklearn.model_selection import train_test_split\n",
        "from sklearn.metrics import accuracy_score\n",
        "from sklearn.datasets import load_breast_cancer"
      ],
      "cell_type": "code",
      "metadata": {
        "id": "EIbczWK1dYkI"
      },
      "execution_count": null,
      "outputs": []
    },
    {
      "source": [
        "breast_cancer = load_breast_cancer()\n",
        "X, y = breast_cancer.data, breast_cancer.target\n",
        "feature_names = breast_cancer.feature_names"
      ],
      "cell_type": "code",
      "metadata": {
        "id": "_d5mzjmTdY6F"
      },
      "execution_count": null,
      "outputs": []
    },
    {
      "source": [
        "X_train, X_test, y_train, y_test = train_test_split(X, y, test_size=0.2, random_state=42)"
      ],
      "cell_type": "code",
      "metadata": {
        "id": "_Ktd2J_2dZrx"
      },
      "execution_count": null,
      "outputs": []
    },
    {
      "source": [
        "rf_classifier = RandomForestClassifier(n_estimators=100, random_state=42)  # You can adjust n_estimators\n",
        "rf_classifier.fit(X_train, y_train)"
      ],
      "cell_type": "code",
      "metadata": {
        "id": "di1Qsen0daIM"
      },
      "execution_count": null,
      "outputs": []
    },
    {
      "source": [
        "y_pred = rf_classifier.predict(X_test)\n",
        "accuracy = accuracy_score(y_test, y_pred)\n",
        "print(f\"Accuracy: {accuracy}\")"
      ],
      "cell_type": "code",
      "metadata": {
        "id": "kqULZSRIdafX"
      },
      "execution_count": null,
      "outputs": []
    },
    {
      "source": [
        "misclassified_indices = [i for i in range(len(y_test)) if y_test[i] != y_pred[i]]\n",
        "misclassified_samples = pd.DataFrame(X_test[misclassified_indices], columns=feature_names)\n",
        "misclassified_samples['Actual_Class'] = y_test[misclassified_indices]\n",
        "misclassified_samples['Predicted_Class'] = y_pred[misclassified_indices]\n",
        "\n",
        "print(\"\\nMisclassified Samples:\")\n",
        "print(misclassified_samples)"
      ],
      "cell_type": "code",
      "metadata": {
        "id": "fEjrSnCadb-b"
      },
      "execution_count": null,
      "outputs": []
    },
    {
      "source": [
        "import pandas as pd\n",
        "from sklearn.ensemble import RandomForestClassifier\n",
        "from sklearn.model_selection import train_test_split\n",
        "from sklearn.metrics import accuracy_score\n",
        "from sklearn.datasets import load_breast_cancer\n",
        "\n",
        "# Load the Breast Cancer dataset\n",
        "breast_cancer = load_breast_cancer()\n",
        "X, y = breast_cancer.data, breast_cancer.target\n",
        "feature_names = breast_cancer.feature_names\n",
        "\n",
        "# Split data into training and testing sets\n",
        "X_train, X_test, y_train, y_test = train_test_split(X, y, test_size=0.2, random_state=42)\n",
        "\n",
        "# Create and train the Random Forest Classifier\n",
        "rf_classifier = RandomForestClassifier(n_estimators=100, random_state=42)\n",
        "rf_classifier.fit(X_train, y_train)\n",
        "\n",
        "# Make predictions and evaluate accuracy\n",
        "y_pred = rf_classifier.predict(X_test)\n",
        "accuracy = accuracy_score(y_test, y_pred)\n",
        "print(f\"Accuracy: {accuracy}\")\n",
        "\n",
        "# Analyze misclassified samples\n",
        "misclassified_indices = [i for i in range(len(y_test)) if y_test[i] != y_pred[i]]\n",
        "misclassified_samples = pd.DataFrame(X_test[misclassified_indices], columns=feature_names)\n",
        "misclassified_samples['Actual_Class'] = y_test[misclassified_indices]\n",
        "misclassified_samples['Predicted_Class'] = y_pred[misclassified_indices]\n",
        "\n",
        "print(\"\\nMisclassified Samples:\")\n",
        "print(misclassified_samples)"
      ],
      "cell_type": "code",
      "metadata": {
        "colab": {
          "base_uri": "https://localhost:8080/"
        },
        "id": "JRg9ksdOdcoV",
        "outputId": "7960f144-a6f0-4076-f935-cb2d6ea7be31"
      },
      "execution_count": 15,
      "outputs": [
        {
          "output_type": "stream",
          "name": "stdout",
          "text": [
            "Accuracy: 0.9649122807017544\n",
            "\n",
            "Misclassified Samples:\n",
            "   mean radius  mean texture  mean perimeter  mean area  mean smoothness  \\\n",
            "0        13.34         15.86           86.49      520.0          0.10780   \n",
            "1        13.80         15.79           90.43      584.1          0.10070   \n",
            "2        13.96         17.05           91.43      602.4          0.10960   \n",
            "3        14.48         21.46           94.25      648.2          0.09444   \n",
            "\n",
            "   mean compactness  mean concavity  mean concave points  mean symmetry  \\\n",
            "0           0.15350         0.11690              0.06987         0.1942   \n",
            "1           0.12800         0.07789              0.05069         0.1662   \n",
            "2           0.12790         0.09789              0.05246         0.1908   \n",
            "3           0.09947         0.12040              0.04938         0.2075   \n",
            "\n",
            "   mean fractal dimension  ...  worst perimeter  worst area  worst smoothness  \\\n",
            "0                 0.06902  ...            96.66       614.9            0.1536   \n",
            "1                 0.06566  ...           110.30       812.4            0.1411   \n",
            "2                 0.06130  ...           108.10       826.0            0.1512   \n",
            "3                 0.05636  ...           108.40       808.9            0.1306   \n",
            "\n",
            "   worst compactness  worst concavity  worst concave points  worst symmetry  \\\n",
            "0             0.4791           0.4858                0.1708          0.3527   \n",
            "1             0.3542           0.2779                0.1383          0.2589   \n",
            "2             0.3262           0.3209                0.1374          0.3068   \n",
            "3             0.1976           0.3349                0.1225          0.3020   \n",
            "\n",
            "   worst fractal dimension  Actual_Class  Predicted_Class  \n",
            "0                  0.10160             1                0  \n",
            "1                  0.10300             0                1  \n",
            "2                  0.07957             0                1  \n",
            "3                  0.06846             0                1  \n",
            "\n",
            "[4 rows x 32 columns]\n"
          ]
        }
      ]
    },
    {
      "cell_type": "markdown",
      "source": [
        "34. Train a Bagging Classifier and compare its performance with a single Decision Tree Classifier=\n",
        "\n",
        "\n",
        "ans:-"
      ],
      "metadata": {
        "id": "BIlq5HDPdfOi"
      }
    },
    {
      "source": [
        "from sklearn.ensemble import BaggingClassifier\n",
        "from sklearn.tree import DecisionTreeClassifier\n",
        "from sklearn.model_selection import train_test_split\n",
        "from sklearn.metrics import accuracy_score\n",
        "from sklearn.datasets import load_breast_cancer"
      ],
      "cell_type": "code",
      "metadata": {
        "id": "vMTxXdFadnsp"
      },
      "execution_count": null,
      "outputs": []
    },
    {
      "source": [
        "breast_cancer = load_breast_cancer()\n",
        "X, y = breast_cancer.data, breast_cancer.target"
      ],
      "cell_type": "code",
      "metadata": {
        "id": "GkMuMYfVdn9l"
      },
      "execution_count": null,
      "outputs": []
    },
    {
      "source": [
        "X_train, X_test, y_train, y_test = train_test_split(X, y, test_size=0.2, random_state=42)"
      ],
      "cell_type": "code",
      "metadata": {
        "id": "pADSJUBBdoRl"
      },
      "execution_count": null,
      "outputs": []
    },
    {
      "source": [
        "# Bagging Classifier\n",
        "bagging_classifier = BaggingClassifier(base_estimator=DecisionTreeClassifier(), n_estimators=100, random_state=42)\n",
        "bagging_classifier.fit(X_train, y_train)\n",
        "\n",
        "# Decision Tree Classifier\n",
        "dt_classifier = DecisionTreeClassifier(random_state=42)\n",
        "dt_classifier.fit(X_train, y_train)"
      ],
      "cell_type": "code",
      "metadata": {
        "id": "if3JvIemdoli"
      },
      "execution_count": null,
      "outputs": []
    },
    {
      "source": [
        "# Bagging Classifier\n",
        "bagging_predictions = bagging_classifier.predict(X_test)\n",
        "bagging_accuracy = accuracy_score(y_test, bagging_predictions)\n",
        "\n",
        "# Decision Tree Classifier\n",
        "dt_predictions = dt_classifier.predict(X_test)\n",
        "dt_accuracy = accuracy_score(y_test, dt_predictions)\n",
        "\n",
        "print(f\"Bagging Classifier Accuracy: {bagging_accuracy}\")\n",
        "print(f\"Decision Tree Classifier Accuracy: {dt_accuracy}\")"
      ],
      "cell_type": "code",
      "metadata": {
        "id": "i3w9Muq9dpCb"
      },
      "execution_count": null,
      "outputs": []
    },
    {
      "source": [
        "from sklearn.ensemble import BaggingClassifier\n",
        "from sklearn.tree import DecisionTreeClassifier\n",
        "from sklearn.model_selection import train_test_split\n",
        "from sklearn.metrics import accuracy_score\n",
        "from sklearn.datasets import load_breast_cancer\n",
        "\n",
        "# Load the Breast Cancer dataset\n",
        "breast_cancer = load_breast_cancer()\n",
        "X, y = breast_cancer.data, breast_cancer.target\n",
        "\n",
        "# Split data into training and testing sets\n",
        "X_train, X_test, y_train, y_test = train_test_split(X, y, test_size=0.2, random_state=42)\n",
        "\n",
        "# Create and train the models\n",
        "bagging_classifier = BaggingClassifier(base_estimator=DecisionTreeClassifier(), n_estimators=100, random_state=42)\n",
        "bagging_classifier.fit(X_train, y_train)\n",
        "\n",
        "dt_classifier = DecisionTreeClassifier(random_state=42)\n",
        "dt_classifier.fit(X_train, y_train)\n",
        "\n",
        "# Make predictions and evaluate accuracy\n",
        "bagging_predictions = bagging_classifier.predict(X_test)\n",
        "bagging_accuracy = accuracy_score(y_test, bagging_predictions)\n",
        "\n",
        "dt_predictions = dt_classifier.predict(X_test)\n",
        "dt_accuracy = accuracy_score(y_test, dt_predictions)\n",
        "\n",
        "print(f\"Bagging Classifier Accuracy: {bagging_accuracy}\")\n",
        "print(f\"Decision Tree Classifier Accuracy: {dt_accuracy}\")"
      ],
      "cell_type": "code",
      "metadata": {
        "colab": {
          "base_uri": "https://localhost:8080/",
          "height": 237
        },
        "id": "HM4vQtB-dpiA",
        "outputId": "986cc19a-86e5-495b-919c-6cb600596163"
      },
      "execution_count": 16,
      "outputs": [
        {
          "output_type": "error",
          "ename": "TypeError",
          "evalue": "BaggingClassifier.__init__() got an unexpected keyword argument 'base_estimator'",
          "traceback": [
            "\u001b[0;31m---------------------------------------------------------------------------\u001b[0m",
            "\u001b[0;31mTypeError\u001b[0m                                 Traceback (most recent call last)",
            "\u001b[0;32m<ipython-input-16-8bacc2f33415>\u001b[0m in \u001b[0;36m<cell line: 0>\u001b[0;34m()\u001b[0m\n\u001b[1;32m     13\u001b[0m \u001b[0;34m\u001b[0m\u001b[0m\n\u001b[1;32m     14\u001b[0m \u001b[0;31m# Create and train the models\u001b[0m\u001b[0;34m\u001b[0m\u001b[0;34m\u001b[0m\u001b[0m\n\u001b[0;32m---> 15\u001b[0;31m \u001b[0mbagging_classifier\u001b[0m \u001b[0;34m=\u001b[0m \u001b[0mBaggingClassifier\u001b[0m\u001b[0;34m(\u001b[0m\u001b[0mbase_estimator\u001b[0m\u001b[0;34m=\u001b[0m\u001b[0mDecisionTreeClassifier\u001b[0m\u001b[0;34m(\u001b[0m\u001b[0;34m)\u001b[0m\u001b[0;34m,\u001b[0m \u001b[0mn_estimators\u001b[0m\u001b[0;34m=\u001b[0m\u001b[0;36m100\u001b[0m\u001b[0;34m,\u001b[0m \u001b[0mrandom_state\u001b[0m\u001b[0;34m=\u001b[0m\u001b[0;36m42\u001b[0m\u001b[0;34m)\u001b[0m\u001b[0;34m\u001b[0m\u001b[0;34m\u001b[0m\u001b[0m\n\u001b[0m\u001b[1;32m     16\u001b[0m \u001b[0mbagging_classifier\u001b[0m\u001b[0;34m.\u001b[0m\u001b[0mfit\u001b[0m\u001b[0;34m(\u001b[0m\u001b[0mX_train\u001b[0m\u001b[0;34m,\u001b[0m \u001b[0my_train\u001b[0m\u001b[0;34m)\u001b[0m\u001b[0;34m\u001b[0m\u001b[0;34m\u001b[0m\u001b[0m\n\u001b[1;32m     17\u001b[0m \u001b[0;34m\u001b[0m\u001b[0m\n",
            "\u001b[0;31mTypeError\u001b[0m: BaggingClassifier.__init__() got an unexpected keyword argument 'base_estimator'"
          ]
        }
      ]
    },
    {
      "cell_type": "markdown",
      "source": [
        "35. Train a Random Forest Classifier and visualize the confusion matrix=\n",
        "\n",
        "\n",
        "\n",
        "ans:-"
      ],
      "metadata": {
        "id": "HI3P5L21drWL"
      }
    },
    {
      "source": [
        "import matplotlib.pyplot as plt\n",
        "import seaborn as sns\n",
        "from sklearn.ensemble import RandomForestClassifier\n",
        "from sklearn.model_selection import train_test_split\n",
        "from sklearn.metrics import confusion_matrix\n",
        "from sklearn.datasets import load_breast_cancer"
      ],
      "cell_type": "code",
      "metadata": {
        "id": "KHjPObsQdzlt"
      },
      "execution_count": null,
      "outputs": []
    },
    {
      "source": [
        "breast_cancer = load_breast_cancer()\n",
        "X, y = breast_cancer.data, breast_cancer.target"
      ],
      "cell_type": "code",
      "metadata": {
        "id": "dT2zfyLUdz4F"
      },
      "execution_count": null,
      "outputs": []
    },
    {
      "source": [
        "X_train, X_test, y_train, y_test = train_test_split(X, y, test_size=0.2, random_state=42)"
      ],
      "cell_type": "code",
      "metadata": {
        "id": "vXctVlySd0WP"
      },
      "execution_count": null,
      "outputs": []
    },
    {
      "source": [
        "rf_classifier = RandomForestClassifier(n_estimators=100, random_state=42)  # You can adjust n_estimators\n",
        "rf_classifier.fit(X_train, y_train)"
      ],
      "cell_type": "code",
      "metadata": {
        "id": "CBFHIKoqd05h"
      },
      "execution_count": null,
      "outputs": []
    },
    {
      "source": [
        "y_pred = rf_classifier.predict(X_test)\n",
        "cm = confusion_matrix(y_test, y_pred)"
      ],
      "cell_type": "code",
      "metadata": {
        "id": "nSPCFAYod1ST"
      },
      "execution_count": null,
      "outputs": []
    },
    {
      "source": [
        "plt.figure(figsize=(8, 6))\n",
        "sns.heatmap(cm, annot=True, fmt=\"d\", cmap=\"Blues\", cbar=False)\n",
        "plt.xlabel(\"Predicted Labels\")\n",
        "plt.ylabel(\"True Labels\")\n",
        "plt.title(\"Confusion Matrix for Random Forest Classifier\")\n",
        "plt.show()"
      ],
      "cell_type": "code",
      "metadata": {
        "id": "yiZ8iASfd1tD"
      },
      "execution_count": null,
      "outputs": []
    },
    {
      "source": [
        "import matplotlib.pyplot as plt\n",
        "import seaborn as sns\n",
        "from sklearn.ensemble import RandomForestClassifier\n",
        "from sklearn.model_selection import train_test_split\n",
        "from sklearn.metrics import confusion_matrix\n",
        "from sklearn.datasets import load_breast_cancer\n",
        "\n",
        "# Load the Breast Cancer dataset\n",
        "breast_cancer = load_breast_cancer()\n",
        "X, y = breast_cancer.data, breast_cancer.target\n",
        "\n",
        "# Split data into training and testing sets\n",
        "X_train, X_test, y_train, y_test = train_test_split(X, y, test_size=0.2, random_state=42)\n",
        "\n",
        "# Create and train the Random Forest Classifier\n",
        "rf_classifier = RandomForestClassifier(n_estimators=100, random_state=42)\n",
        "rf_classifier.fit(X_train, y_train)\n",
        "\n",
        "# Make predictions and create the confusion matrix\n",
        "y_pred = rf_classifier.predict(X_test)\n",
        "cm = confusion_matrix(y_test, y_pred)\n",
        "\n",
        "# Visualize the confusion matrix\n",
        "plt.figure(figsize=(8, 6))\n",
        "sns.heatmap(cm, annot=True, fmt=\"d\", cmap=\"Blues\", cbar=False)\n",
        "plt.xlabel(\"Predicted Labels\")\n",
        "plt.ylabel(\"True Labels\")\n",
        "plt.title(\"Confusion Matrix for Random Forest Classifier\")\n",
        "plt.show()"
      ],
      "cell_type": "code",
      "metadata": {
        "colab": {
          "base_uri": "https://localhost:8080/",
          "height": 564
        },
        "id": "h0EnhhMsd2Io",
        "outputId": "ed39fe5f-9933-4877-d09a-211325fcd7e1"
      },
      "execution_count": 17,
      "outputs": [
        {
          "output_type": "display_data",
          "data": {
            "text/plain": [
              "<Figure size 800x600 with 1 Axes>"
            ],
            "image/png": "[encoded data removed]"
          },
          "metadata": {}
        }
      ]
    },
    {
      "cell_type": "markdown",
      "source": [
        "36. Train a Stacking Classifier using Decision Trees, SVM, and Logistic Regression, and compare accuracy=\\\n",
        "\n",
        "\n",
        "ans:-"
      ],
      "metadata": {
        "id": "Zk0XTkV0d4Ep"
      }
    },
    {
      "source": [
        "from sklearn.ensemble import StackingClassifier\n",
        "from sklearn.tree import DecisionTreeClassifier\n",
        "from sklearn.svm import SVC\n",
        "from sklearn.linear_model import LogisticRegression\n",
        "from sklearn.model_selection import train_test_split\n",
        "from sklearn.metrics import accuracy_score\n",
        "from sklearn.datasets import load_breast_cancer"
      ],
      "cell_type": "code",
      "metadata": {
        "id": "4iSr3GdDeJG7"
      },
      "execution_count": null,
      "outputs": []
    },
    {
      "source": [
        "breast_cancer = load_breast_cancer()\n",
        "X, y = breast_cancer.data, breast_cancer.target"
      ],
      "cell_type": "code",
      "metadata": {
        "id": "f_aPJU6MeKBa"
      },
      "execution_count": null,
      "outputs": []
    },
    {
      "source": [
        "X_train, X_test, y_train, y_test = train_test_split(X, y, test_size=0.2, random_state=42)"
      ],
      "cell_type": "code",
      "metadata": {
        "id": "t5_DjrgFeKbU"
      },
      "execution_count": null,
      "outputs": []
    },
    {
      "source": [
        "estimators = [\n",
        "    ('dt', DecisionTreeClassifier(random_state=42)),\n",
        "    ('svm', SVC(random_state=42)),\n",
        "    ('lr', LogisticRegression(random_state=42))\n",
        "]\n",
        "final_estimator = LogisticRegression(random_state=42)  # You can choose a different final estimator"
      ],
      "cell_type": "code",
      "metadata": {
        "id": "Fek3zqH7eK4i"
      },
      "execution_count": null,
      "outputs": []
    },
    {
      "source": [
        "stacking_classifier = StackingClassifier(estimators=estimators, final_estimator=final_estimator)\n",
        "stacking_classifier.fit(X_train, y_train)"
      ],
      "cell_type": "code",
      "metadata": {
        "id": "j0YmscTieLSp"
      },
      "execution_count": null,
      "outputs": []
    },
    {
      "source": [
        "# Stacking Classifier\n",
        "stacking_predictions = stacking_classifier.predict(X_test)\n",
        "stacking_accuracy = accuracy_score(y_test, stacking_predictions)\n",
        "\n",
        "# Individual models\n",
        "dt_predictions = estimators[0][1].predict(X_test)\n",
        "svm_predictions = estimators[1][1].predict(X_test)\n",
        "# Stacking Classifier\n",
        "stacking_predictions = stacking_classifier.predict(X_test)\n",
        "stacking_accuracy = accuracy_score(y_test, stacking_predictions)\n",
        "\n",
        "# Individual models\n",
        "dt_predictions = estimators[0][1].predict(X_test)\n",
        "svm_predictions = estimators[1][1].predict(X_test)\n",
        "lr_predictions = estimators[2][1].predict(X_test)\n",
        "\n",
        "dt_accuracy = accuracy_score(y_test, dt_predictions)"
      ],
      "cell_type": "code",
      "metadata": {
        "colab": {
          "base_uri": "https://localhost:8080/",
          "height": 219
        },
        "id": "rb_9jkN9eLnp",
        "outputId": "260526a9-536b-4a6e-87f0-b01ea930803d"
      },
      "execution_count": 19,
      "outputs": [
        {
          "output_type": "error",
          "ename": "NameError",
          "evalue": "name 'stacking_classifier' is not defined",
          "traceback": [
            "\u001b[0;31m---------------------------------------------------------------------------\u001b[0m",
            "\u001b[0;31mNameError\u001b[0m                                 Traceback (most recent call last)",
            "\u001b[0;32m<ipython-input-19-079ae22996f6>\u001b[0m in \u001b[0;36m<cell line: 0>\u001b[0;34m()\u001b[0m\n\u001b[1;32m      1\u001b[0m \u001b[0;31m# Stacking Classifier\u001b[0m\u001b[0;34m\u001b[0m\u001b[0;34m\u001b[0m\u001b[0m\n\u001b[0;32m----> 2\u001b[0;31m \u001b[0mstacking_predictions\u001b[0m \u001b[0;34m=\u001b[0m \u001b[0mstacking_classifier\u001b[0m\u001b[0;34m.\u001b[0m\u001b[0mpredict\u001b[0m\u001b[0;34m(\u001b[0m\u001b[0mX_test\u001b[0m\u001b[0;34m)\u001b[0m\u001b[0;34m\u001b[0m\u001b[0;34m\u001b[0m\u001b[0m\n\u001b[0m\u001b[1;32m      3\u001b[0m \u001b[0mstacking_accuracy\u001b[0m \u001b[0;34m=\u001b[0m \u001b[0maccuracy_score\u001b[0m\u001b[0;34m(\u001b[0m\u001b[0my_test\u001b[0m\u001b[0;34m,\u001b[0m \u001b[0mstacking_predictions\u001b[0m\u001b[0;34m)\u001b[0m\u001b[0;34m\u001b[0m\u001b[0;34m\u001b[0m\u001b[0m\n\u001b[1;32m      4\u001b[0m \u001b[0;34m\u001b[0m\u001b[0m\n\u001b[1;32m      5\u001b[0m \u001b[0;31m# Individual models\u001b[0m\u001b[0;34m\u001b[0m\u001b[0;34m\u001b[0m\u001b[0m\n",
            "\u001b[0;31mNameError\u001b[0m: name 'stacking_classifier' is not defined"
          ]
        }
      ]
    },
    {
      "cell_type": "markdown",
      "source": [
        "37. Train a Random Forest Classifier and print the top 5 most important features=\n",
        "\n",
        "\n",
        "\n",
        "ans:-"
      ],
      "metadata": {
        "id": "I_fuskgRePyF"
      }
    },
    {
      "source": [
        "import pandas as pd\n",
        "from sklearn.ensemble import RandomForestClassifier\n",
        "from sklearn.model_selection import train_test_split\n",
        "from sklearn.datasets import load_breast_cancer  # Or use your own dataset"
      ],
      "cell_type": "code",
      "metadata": {
        "id": "-IK1EZQeeU09"
      },
      "execution_count": null,
      "outputs": []
    },
    {
      "source": [
        "breast_cancer = load_breast_cancer()\n",
        "X, y = breast_cancer.data, breast_cancer.target\n",
        "feature_names = breast_cancer.feature_names  # Get feature names"
      ],
      "cell_type": "code",
      "metadata": {
        "id": "cQmUUhP3eVNb"
      },
      "execution_count": null,
      "outputs": []
    },
    {
      "source": [
        "X_train, X_test, y_train, y_test = train_test_split(X, y, test_size=0.2, random_state=42)"
      ],
      "cell_type": "code",
      "metadata": {
        "id": "Le8fdrRpeVx3"
      },
      "execution_count": null,
      "outputs": []
    },
    {
      "source": [
        "rf_classifier = RandomForestClassifier(n_estimators=100, random_state=42)  # You can adjust n_estimators\n",
        "rf_classifier.fit(X_train, y_train)"
      ],
      "cell_type": "code",
      "metadata": {
        "id": "NYpA7mxleWq7"
      },
      "execution_count": null,
      "outputs": []
    },
    {
      "source": [
        "importances = rf_classifier.feature_importances_\n",
        "indices = importances.argsort()[::-1]  # Get indices of features sorted by importance (descending)\n",
        "\n",
        "print(\"Top 5 most important features:\")\n",
        "for i in range(5):\n",
        "    print(f\"{feature_names[indices[i]]}: {importances[indices[i]]}\")"
      ],
      "cell_type": "code",
      "metadata": {
        "id": "Yx3IqCRWeX0g"
      },
      "execution_count": null,
      "outputs": []
    },
    {
      "source": [
        "import pandas as pd\n",
        "from sklearn.ensemble import RandomForestClassifier\n",
        "from sklearn.model_selection import train_test_split\n",
        "from sklearn.datasets import load_breast_cancer\n",
        "\n",
        "# Load the Breast Cancer dataset\n",
        "breast_cancer = load_breast_cancer()\n",
        "X, y = breast_cancer.data, breast_cancer.target\n",
        "feature_names = breast_cancer.feature_names\n",
        "\n",
        "# Split data into training and testing sets\n",
        "X_train, X_test, y_train, y_test = train_test_split(X, y, test_size=0.2, random_state=42)\n",
        "\n",
        "# Create and train the Random Forest Classifier\n",
        "rf_classifier = RandomForestClassifier(n_estimators=100, random_state=42)\n",
        "rf_classifier.fit(X_train, y_train)\n",
        "\n",
        "# Get and print the top 5 most important features\n",
        "importances = rf_classifier.feature_importances_\n",
        "indices = importances.argsort()[::-1]\n",
        "\n",
        "print(\"Top 5 most important features:\")\n",
        "for i in range(5):\n",
        "    print(f\"{feature_names[indices[i]]}: {importances[indices[i]]}\")"
      ],
      "cell_type": "code",
      "metadata": {
        "colab": {
          "base_uri": "https://localhost:8080/"
        },
        "id": "ddlRGrrSeYQx",
        "outputId": "39b07228-c3c8-4cf6-97a7-8c72f74573fa"
      },
      "execution_count": 20,
      "outputs": [
        {
          "output_type": "stream",
          "name": "stdout",
          "text": [
            "Top 5 most important features:\n",
            "worst area: 0.15389236463205394\n",
            "worst concave points: 0.14466326620735528\n",
            "mean concave points: 0.10620998844591638\n",
            "worst radius: 0.07798687515738047\n",
            "mean concavity: 0.06800084191430111\n"
          ]
        }
      ]
    },
    {
      "cell_type": "markdown",
      "source": [
        "38.Train a Bagging Classifier and evaluate performance using Precision, Recall, and F1-score=\n",
        "\n",
        "\n",
        "\n",
        "ans:-"
      ],
      "metadata": {
        "id": "6tmk18OMeaZX"
      }
    },
    {
      "source": [
        "from sklearn.ensemble import BaggingClassifier\n",
        "from sklearn.tree import DecisionTreeClassifier  # Base estimator for Bagging\n",
        "from sklearn.model_selection import train_test_split\n",
        "from sklearn.metrics import accuracy_score, precision_score, recall_score, f1_score\n",
        "from sklearn.datasets import load_breast_cancer"
      ],
      "cell_type": "code",
      "metadata": {
        "id": "mzUAEqIDegGu"
      },
      "execution_count": null,
      "outputs": []
    },
    {
      "source": [
        "breast_cancer = load_breast_cancer()\n",
        "X, y = breast_cancer.data, breast_cancer.target"
      ],
      "cell_type": "code",
      "metadata": {
        "id": "Go__GOjeegf3"
      },
      "execution_count": null,
      "outputs": []
    },
    {
      "source": [
        "X_train, X_test, y_train, y_test = train_test_split(X, y, test_size=0.2, random_state=42)"
      ],
      "cell_type": "code",
      "metadata": {
        "id": "znpmiYf2eg_h"
      },
      "execution_count": null,
      "outputs": []
    },
    {
      "source": [
        "bagging_classifier = BaggingClassifier(base_estimator=DecisionTreeClassifier(), n_estimators=100, random_state=42)\n",
        "bagging_classifier.fit(X_train, y_train)"
      ],
      "cell_type": "code",
      "metadata": {
        "id": "y4rVsbBMehbO"
      },
      "execution_count": null,
      "outputs": []
    },
    {
      "source": [
        "y_pred = bagging_classifier.predict(X_test)\n",
        "\n",
        "accuracy = accuracy_score(y_test, y_pred)\n",
        "precision = precision_score(y_test, y_pred)\n",
        "recall = recall_score(y_test, y_pred)\n",
        "f1 = f1_score(y_test, y_pred)\n",
        "\n",
        "print(f\"Accuracy: {accuracy}\")\n",
        "print(f\"Precision: {precision}\")\n",
        "print(f\"Recall: {recall}\")\n",
        "print(f\"F1-score: {f1}\")"
      ],
      "cell_type": "code",
      "metadata": {
        "id": "9ZXI8MD-eh6g"
      },
      "execution_count": null,
      "outputs": []
    },
    {
      "source": [
        "from sklearn.ensemble import BaggingClassifier\n",
        "from sklearn.tree import DecisionTreeClassifier\n",
        "from sklearn.model_selection import train_test_split\n",
        "from sklearn.metrics import accuracy_score, precision_score, recall_score, f1_score\n",
        "from sklearn.datasets import load_breast_cancer\n",
        "\n",
        "# Load the Breast Cancer dataset\n",
        "breast_cancer = load_breast_cancer()\n",
        "X, y = breast_cancer.data, breast_cancer.target\n",
        "\n",
        "# Split data into training and testing sets\n",
        "X_train, X_test, y_train, y_test = train_test_split(X, y, test_size=0.2, random_state=42)\n",
        "\n",
        "# Create and train the Bagging Classifier\n",
        "bagging_classifier = BaggingClassifier(base_estimator=DecisionTreeClassifier(), n_estimators=100, random_state=42)\n",
        "bagging_classifier.fit(X_train, y_train)\n",
        "\n",
        "# Make predictions and evaluate performance\n",
        "y_pred = bagging_classifier.predict(X_test)\n",
        "\n",
        "accuracy = accuracy_score(y_test, y_pred)\n",
        "precision = precision_score(y_test, y_pred)\n",
        "recall = recall_score(y_test, y_pred)\n",
        "f1 = f1_score(y_test, y_pred)\n",
        "\n",
        "print(f\"Accuracy: {accuracy}\")\n",
        "print(f\"Precision: {precision}\")\n",
        "print(f\"Recall: {recall}\")\n",
        "print(f\"F1-score: {f1}\")"
      ],
      "cell_type": "code",
      "metadata": {
        "colab": {
          "base_uri": "https://localhost:8080/",
          "height": 237
        },
        "id": "rQWP6HQvekhh",
        "outputId": "aacbc1cb-44fa-4ac1-bf61-aeace7e544f2"
      },
      "execution_count": 21,
      "outputs": [
        {
          "output_type": "error",
          "ename": "TypeError",
          "evalue": "BaggingClassifier.__init__() got an unexpected keyword argument 'base_estimator'",
          "traceback": [
            "\u001b[0;31m---------------------------------------------------------------------------\u001b[0m",
            "\u001b[0;31mTypeError\u001b[0m                                 Traceback (most recent call last)",
            "\u001b[0;32m<ipython-input-21-1ffc26cb96cb>\u001b[0m in \u001b[0;36m<cell line: 0>\u001b[0;34m()\u001b[0m\n\u001b[1;32m     13\u001b[0m \u001b[0;34m\u001b[0m\u001b[0m\n\u001b[1;32m     14\u001b[0m \u001b[0;31m# Create and train the Bagging Classifier\u001b[0m\u001b[0;34m\u001b[0m\u001b[0;34m\u001b[0m\u001b[0m\n\u001b[0;32m---> 15\u001b[0;31m \u001b[0mbagging_classifier\u001b[0m \u001b[0;34m=\u001b[0m \u001b[0mBaggingClassifier\u001b[0m\u001b[0;34m(\u001b[0m\u001b[0mbase_estimator\u001b[0m\u001b[0;34m=\u001b[0m\u001b[0mDecisionTreeClassifier\u001b[0m\u001b[0;34m(\u001b[0m\u001b[0;34m)\u001b[0m\u001b[0;34m,\u001b[0m \u001b[0mn_estimators\u001b[0m\u001b[0;34m=\u001b[0m\u001b[0;36m100\u001b[0m\u001b[0;34m,\u001b[0m \u001b[0mrandom_state\u001b[0m\u001b[0;34m=\u001b[0m\u001b[0;36m42\u001b[0m\u001b[0;34m)\u001b[0m\u001b[0;34m\u001b[0m\u001b[0;34m\u001b[0m\u001b[0m\n\u001b[0m\u001b[1;32m     16\u001b[0m \u001b[0mbagging_classifier\u001b[0m\u001b[0;34m.\u001b[0m\u001b[0mfit\u001b[0m\u001b[0;34m(\u001b[0m\u001b[0mX_train\u001b[0m\u001b[0;34m,\u001b[0m \u001b[0my_train\u001b[0m\u001b[0;34m)\u001b[0m\u001b[0;34m\u001b[0m\u001b[0;34m\u001b[0m\u001b[0m\n\u001b[1;32m     17\u001b[0m \u001b[0;34m\u001b[0m\u001b[0m\n",
            "\u001b[0;31mTypeError\u001b[0m: BaggingClassifier.__init__() got an unexpected keyword argument 'base_estimator'"
          ]
        }
      ]
    },
    {
      "cell_type": "markdown",
      "source": [
        "39. Train a Random Forest Classifier and analyze the effect of max_depth on accuracy=\n",
        "\n",
        "\n",
        "ans:-"
      ],
      "metadata": {
        "id": "qdUorWjFemBB"
      }
    },
    {
      "source": [
        "import pandas as pd\n",
        "import matplotlib.pyplot as plt\n",
        "from sklearn.ensemble import RandomForestClassifier\n",
        "from sklearn.model_selection import train_test_split\n",
        "from sklearn.metrics import accuracy_score\n",
        "from sklearn.datasets import load_breast_cancer"
      ],
      "cell_type": "code",
      "metadata": {
        "id": "afLkTv4BerJ5"
      },
      "execution_count": null,
      "outputs": []
    },
    {
      "source": [
        "breast_cancer = load_breast_cancer()\n",
        "X, y = breast_cancer.data, breast_cancer.target"
      ],
      "cell_type": "code",
      "metadata": {
        "id": "h2L_DTGUerrB"
      },
      "execution_count": null,
      "outputs": []
    },
    {
      "source": [
        "X_train, X_test, y_train, y_test = train_test_split(X, y, test_size=0.2, random_state=42)"
      ],
      "cell_type": "code",
      "metadata": {
        "id": "J9TDOl2wesi0"
      },
      "execution_count": null,
      "outputs": []
    },
    {
      "source": [
        "max_depth_values = range(1, 21)  # Explore max_depth from 1 to 20\n",
        "accuracy_scores = []\n",
        "\n",
        "for max_depth in max_depth_values:\n",
        "    rf_classifier = RandomForestClassifier(n_estimators=100, max_depth=max_depth, random_state=42)\n",
        "    rf_classifier.fit(X_train, y_train)\n",
        "    y_pred = rf_classifier.predict(X_test)\n",
        "    accuracy = accuracy_score(y_test, y_pred)\n",
        "    accuracy_scores.append(accuracy)\n",
        "    print(f\"Accuracy with max_depth={max_depth}: {accuracy}\")\n",
        "\n",
        "# Create a DataFrame to store the results\n",
        "results = pd.DataFrame({'max_depth': max_depth_values, 'accuracy': accuracy_scores})\n",
        "\n",
        "# Plot the results\n",
        "plt.plot(results['max_depth'], results['accuracy'], marker='o')\n",
        "plt.xlabel('Max Depth (max_depth)')\n",
        "plt.ylabel('Accuracy')\n",
        "plt.title('Accuracy vs. Max Depth in Random Forest Classifier')\n",
        "plt.grid(True)\n",
        "plt.show()"
      ],
      "cell_type": "code",
      "metadata": {
        "colab": {
          "base_uri": "https://localhost:8080/",
          "height": 835
        },
        "id": "mR7C9IINesym",
        "outputId": "01dd397a-4117-4051-9cd9-96d58064022e"
      },
      "execution_count": 22,
      "outputs": [
        {
          "output_type": "stream",
          "name": "stdout",
          "text": [
            "Accuracy with max_depth=1: 0.956140350877193\n",
            "Accuracy with max_depth=2: 0.9649122807017544\n",
            "Accuracy with max_depth=3: 0.9649122807017544\n",
            "Accuracy with max_depth=4: 0.9649122807017544\n",
            "Accuracy with max_depth=5: 0.9649122807017544\n",
            "Accuracy with max_depth=6: 0.9649122807017544\n",
            "Accuracy with max_depth=7: 0.9649122807017544\n",
            "Accuracy with max_depth=8: 0.9649122807017544\n",
            "Accuracy with max_depth=9: 0.9649122807017544\n",
            "Accuracy with max_depth=10: 0.9649122807017544\n",
            "Accuracy with max_depth=11: 0.9649122807017544\n",
            "Accuracy with max_depth=12: 0.9649122807017544\n",
            "Accuracy with max_depth=13: 0.9649122807017544\n",
            "Accuracy with max_depth=14: 0.9649122807017544\n",
            "Accuracy with max_depth=15: 0.9649122807017544\n",
            "Accuracy with max_depth=16: 0.9649122807017544\n",
            "Accuracy with max_depth=17: 0.9649122807017544\n",
            "Accuracy with max_depth=18: 0.9649122807017544\n",
            "Accuracy with max_depth=19: 0.9649122807017544\n",
            "Accuracy with max_depth=20: 0.9649122807017544\n"
          ]
        },
        {
          "output_type": "display_data",
          "data": {
            "text/plain": [
              "<Figure size 640x480 with 1 Axes>"
            ],
            "image/png": "[encoded data removed]"
          },
          "metadata": {}
        }
      ]
    },
    {
      "cell_type": "markdown",
      "source": [
        "40. Train a Bagging Regressor using different base estimators (DecisionTree and KNeighbors) and compare\n",
        "performance=\n",
        "\n",
        "ans:-"
      ],
      "metadata": {
        "id": "tWG6ODgVevaY"
      }
    },
    {
      "source": [
        "import pandas as pd\n",
        "import matplotlib.pyplot as plt\n",
        "from sklearn.ensemble import BaggingRegressor\n",
        "from sklearn.tree import DecisionTreeRegressor\n",
        "from sklearn.neighbors import KNeighborsRegressor\n",
        "from sklearn.model_selection import train_test_split\n",
        "from sklearn.metrics import mean_squared_error\n",
        "from sklearn.datasets import load_boston"
      ],
      "cell_type": "code",
      "metadata": {
        "id": "0Tbpr-Xze1Ae"
      },
      "execution_count": null,
      "outputs": []
    },
    {
      "source": [
        "boston = load_boston()\n",
        "X, y = boston.data, boston.target"
      ],
      "cell_type": "code",
      "metadata": {
        "id": "WzBw_y8Xe1UJ"
      },
      "execution_count": null,
      "outputs": []
    },
    {
      "source": [
        "base_estimators = [DecisionTreeRegressor(), KNeighborsRegressor()]\n",
        "estimator_names = ['Decision Tree', 'KNeighbors']\n",
        "mse_scores = []\n",
        "\n",
        "for estimator, name in zip(base_estimators, estimator_names):\n",
        "    bagging_regressor = BaggingRegressor(base_estimator=estimator, n_estimators=100, random_state=42)\n",
        "    bagging_regressor.fit(X_train, y_train)\n",
        "    y_pred = bagging_regressor.predict(X_test)\n",
        "    mse = mean_squared_error(y_test, y_pred)\n",
        "    mse_scores.append(mse)\n",
        "    print(f\"MSE with {name} base estimator: {mse}\")\n",
        "\n",
        "# Create a DataFrame to store the results\n",
        "results = pd.DataFrame({'Base Estimator': estimator_names, 'MSE': mse_scores})\n",
        "\n",
        "# Plot the results\n",
        "plt.bar(results['Base Estimator'], results['MSE'])\n",
        "plt.xlabel('Base Estimator')\n",
        "plt.ylabel('Mean Squared Error (MSE)')\n",
        "plt.title('Comparison of Base Estimators in Bagging Regressor')\n",
        "plt.show()"
      ],
      "cell_type": "code",
      "metadata": {
        "colab": {
          "base_uri": "https://localhost:8080/",
          "height": 219
        },
        "id": "X289x7OYe2LN",
        "outputId": "b9871cf9-79d7-44cd-f6c2-3cc814f86d2e"
      },
      "execution_count": 23,
      "outputs": [
        {
          "output_type": "error",
          "ename": "NameError",
          "evalue": "name 'KNeighborsRegressor' is not defined",
          "traceback": [
            "\u001b[0;31m---------------------------------------------------------------------------\u001b[0m",
            "\u001b[0;31mNameError\u001b[0m                                 Traceback (most recent call last)",
            "\u001b[0;32m<ipython-input-23-daea4c793741>\u001b[0m in \u001b[0;36m<cell line: 0>\u001b[0;34m()\u001b[0m\n\u001b[0;32m----> 1\u001b[0;31m \u001b[0mbase_estimators\u001b[0m \u001b[0;34m=\u001b[0m \u001b[0;34m[\u001b[0m\u001b[0mDecisionTreeRegressor\u001b[0m\u001b[0;34m(\u001b[0m\u001b[0;34m)\u001b[0m\u001b[0;34m,\u001b[0m \u001b[0mKNeighborsRegressor\u001b[0m\u001b[0;34m(\u001b[0m\u001b[0;34m)\u001b[0m\u001b[0;34m]\u001b[0m\u001b[0;34m\u001b[0m\u001b[0;34m\u001b[0m\u001b[0m\n\u001b[0m\u001b[1;32m      2\u001b[0m \u001b[0mestimator_names\u001b[0m \u001b[0;34m=\u001b[0m \u001b[0;34m[\u001b[0m\u001b[0;34m'Decision Tree'\u001b[0m\u001b[0;34m,\u001b[0m \u001b[0;34m'KNeighbors'\u001b[0m\u001b[0;34m]\u001b[0m\u001b[0;34m\u001b[0m\u001b[0;34m\u001b[0m\u001b[0m\n\u001b[1;32m      3\u001b[0m \u001b[0mmse_scores\u001b[0m \u001b[0;34m=\u001b[0m \u001b[0;34m[\u001b[0m\u001b[0;34m]\u001b[0m\u001b[0;34m\u001b[0m\u001b[0;34m\u001b[0m\u001b[0m\n\u001b[1;32m      4\u001b[0m \u001b[0;34m\u001b[0m\u001b[0m\n\u001b[1;32m      5\u001b[0m \u001b[0;32mfor\u001b[0m \u001b[0mestimator\u001b[0m\u001b[0;34m,\u001b[0m \u001b[0mname\u001b[0m \u001b[0;32min\u001b[0m \u001b[0mzip\u001b[0m\u001b[0;34m(\u001b[0m\u001b[0mbase_estimators\u001b[0m\u001b[0;34m,\u001b[0m \u001b[0mestimator_names\u001b[0m\u001b[0;34m)\u001b[0m\u001b[0;34m:\u001b[0m\u001b[0;34m\u001b[0m\u001b[0;34m\u001b[0m\u001b[0m\n",
            "\u001b[0;31mNameError\u001b[0m: name 'KNeighborsRegressor' is not defined"
          ]
        }
      ]
    },
    {
      "cell_type": "code",
      "source": [],
      "metadata": {
        "id": "r9Fuw0XCaJ7o"
      },
      "execution_count": null,
      "outputs": []
    },
    {
      "source": [
        "base_estimators = [DecisionTreeRegressor(), KNeighborsRegressor()]\n",
        "estimator_names = ['Decision Tree', 'KNeighbors']\n",
        "mse_scores = []\n",
        "\n",
        "for estimator, name in zip(base_estimators, estimator_names):\n",
        "    bagging_regressor = BaggingRegressor(base_estimator=estimator, n_estimators=100, random_state=42)\n",
        "    bagging_regressor.fit(X_train, y_train)\n",
        "    y_pred = bagging_regressor.predict(X_test)\n",
        "    mse = mean_squared_error(y_test, y_pred)\n",
        "    mse_scores.append(mse)\n",
        "    print(f\"MSE with {name} base estimator: {mse}\")\n",
        "\n",
        "# Create a DataFrame to store the results\n",
        "results = pd.DataFrame({'Base Estimator': estimator_names, 'MSE': mse_scores})\n",
        "\n",
        "# Plot the results\n",
        "plt.bar(results['Base Estimator'], results['MSE'])\n",
        "plt.xlabel('Base Estimator')\n",
        "plt.ylabel('Mean Squared Error (MSE)')\n",
        "plt.title('Comparison of Base Estimators in Bagging Regressor')\n",
        "plt.show()"
      ],
      "cell_type": "code",
      "metadata": {
        "id": "JkJ4R202e5Rg"
      },
      "execution_count": null,
      "outputs": []
    },
    {
      "source": [
        "base_estimators = [DecisionTreeRegressor(), KNeighborsRegressor()]\n",
        "estimator_names = ['Decision Tree', 'KNeighbors']\n",
        "mse_scores = []\n",
        "\n",
        "for estimator, name in zip(base_estimators, estimator_names):\n",
        "    bagging_regressor = BaggingRegressor(base_estimator=estimator, n_estimators=100, random_state=42)\n",
        "    bagging_regressor.fit(X_train, y_train)\n",
        "    y_pred = bagging_regressor.predict(X_test)\n",
        "    mse = mean_squared_error(y_test, y_pred)\n",
        "    mse_scores.append(mse)\n",
        "    print(f\"MSE with {name} base estimator: {mse}\")\n",
        "\n",
        "# Create a DataFrame to store the results\n",
        "results = pd.DataFrame({'Base Estimator': estimator_names, 'MSE': mse_scores})\n",
        "\n",
        "# Plot the results\n",
        "plt.bar(results['Base Estimator'], results['MSE'])\n",
        "plt.xlabel('Base Estimator')\n",
        "plt.ylabel('Mean Squared Error (MSE)')\n",
        "plt.title('Comparison of Base Estimators in Bagging Regressor')\n",
        "plt.show()"
      ],
      "cell_type": "code",
      "metadata": {
        "id": "sT5RDD6De57O"
      },
      "execution_count": null,
      "outputs": []
    },
    {
      "cell_type": "markdown",
      "source": [
        "41. Train a Random Forest Classifier and evaluate its performance using ROC-AUC Score=\n",
        "\n",
        "\n",
        "ans:-"
      ],
      "metadata": {
        "id": "L3mLlJ6CdSYV"
      }
    },
    {
      "source": [
        "import matplotlib.pyplot as plt\n",
        "from sklearn.ensemble import RandomForestClassifier\n",
        "from sklearn.model_selection import train_test_split\n",
        "from sklearn.metrics import roc_auc_score, roc_curve\n",
        "from sklearn.datasets import load_breast_cancer"
      ],
      "cell_type": "code",
      "metadata": {
        "id": "7FtmwCdsfB5O"
      },
      "execution_count": null,
      "outputs": []
    },
    {
      "source": [
        "breast_cancer = load_breast_cancer()\n",
        "X, y = breast_cancer.data, breast_cancer.target"
      ],
      "cell_type": "code",
      "metadata": {
        "id": "73_MlgSvfCQR"
      },
      "execution_count": null,
      "outputs": []
    },
    {
      "source": [
        "X_train, X_test, y_train, y_test = train_test_split(X, y, test_size=0.2, random_state=42)"
      ],
      "cell_type": "code",
      "metadata": {
        "id": "tahvB_AIfCvN"
      },
      "execution_count": null,
      "outputs": []
    },
    {
      "source": [
        "rf_classifier = RandomForestClassifier(n_estimators=100, random_state=42)  # You can adjust n_estimators\n",
        "rf_classifier.fit(X_train, y_train)"
      ],
      "cell_type": "code",
      "metadata": {
        "id": "BuhQ4W1MfC8h"
      },
      "execution_count": null,
      "outputs": []
    },
    {
      "source": [
        "fpr, tpr, thresholds = roc_curve(y_test, y_probs)\n",
        "plt.plot(fpr, tpr, label=f\"ROC Curve (AUC = {roc_auc:.2f})\")\n",
        "plt.plot([0, 1], [0, 1], linestyle='--', color='gray')  # Diagonal line\n",
        "plt.xlabel(\"False Positive Rate\")\n",
        "plt.ylabel(\"True Positive Rate\")\n",
        "plt.title(\"ROC Curve for Random Forest Classifier\")\n",
        "plt.legend()\n",
        "plt.show()"
      ],
      "cell_type": "code",
      "metadata": {
        "colab": {
          "base_uri": "https://localhost:8080/",
          "height": 219
        },
        "id": "F5HKmYxXfEbj",
        "outputId": "23163ddf-8b99-4baa-a149-3166faad9c26"
      },
      "execution_count": 24,
      "outputs": [
        {
          "output_type": "error",
          "ename": "NameError",
          "evalue": "name 'roc_curve' is not defined",
          "traceback": [
            "\u001b[0;31m---------------------------------------------------------------------------\u001b[0m",
            "\u001b[0;31mNameError\u001b[0m                                 Traceback (most recent call last)",
            "\u001b[0;32m<ipython-input-24-7af6bfe8f775>\u001b[0m in \u001b[0;36m<cell line: 0>\u001b[0;34m()\u001b[0m\n\u001b[0;32m----> 1\u001b[0;31m \u001b[0mfpr\u001b[0m\u001b[0;34m,\u001b[0m \u001b[0mtpr\u001b[0m\u001b[0;34m,\u001b[0m \u001b[0mthresholds\u001b[0m \u001b[0;34m=\u001b[0m \u001b[0mroc_curve\u001b[0m\u001b[0;34m(\u001b[0m\u001b[0my_test\u001b[0m\u001b[0;34m,\u001b[0m \u001b[0my_probs\u001b[0m\u001b[0;34m)\u001b[0m\u001b[0;34m\u001b[0m\u001b[0;34m\u001b[0m\u001b[0m\n\u001b[0m\u001b[1;32m      2\u001b[0m \u001b[0mplt\u001b[0m\u001b[0;34m.\u001b[0m\u001b[0mplot\u001b[0m\u001b[0;34m(\u001b[0m\u001b[0mfpr\u001b[0m\u001b[0;34m,\u001b[0m \u001b[0mtpr\u001b[0m\u001b[0;34m,\u001b[0m \u001b[0mlabel\u001b[0m\u001b[0;34m=\u001b[0m\u001b[0;34mf\"ROC Curve (AUC = {roc_auc:.2f})\"\u001b[0m\u001b[0;34m)\u001b[0m\u001b[0;34m\u001b[0m\u001b[0;34m\u001b[0m\u001b[0m\n\u001b[1;32m      3\u001b[0m \u001b[0mplt\u001b[0m\u001b[0;34m.\u001b[0m\u001b[0mplot\u001b[0m\u001b[0;34m(\u001b[0m\u001b[0;34m[\u001b[0m\u001b[0;36m0\u001b[0m\u001b[0;34m,\u001b[0m \u001b[0;36m1\u001b[0m\u001b[0;34m]\u001b[0m\u001b[0;34m,\u001b[0m \u001b[0;34m[\u001b[0m\u001b[0;36m0\u001b[0m\u001b[0;34m,\u001b[0m \u001b[0;36m1\u001b[0m\u001b[0;34m]\u001b[0m\u001b[0;34m,\u001b[0m \u001b[0mlinestyle\u001b[0m\u001b[0;34m=\u001b[0m\u001b[0;34m'--'\u001b[0m\u001b[0;34m,\u001b[0m \u001b[0mcolor\u001b[0m\u001b[0;34m=\u001b[0m\u001b[0;34m'gray'\u001b[0m\u001b[0;34m)\u001b[0m  \u001b[0;31m# Diagonal line\u001b[0m\u001b[0;34m\u001b[0m\u001b[0;34m\u001b[0m\u001b[0m\n\u001b[1;32m      4\u001b[0m \u001b[0mplt\u001b[0m\u001b[0;34m.\u001b[0m\u001b[0mxlabel\u001b[0m\u001b[0;34m(\u001b[0m\u001b[0;34m\"False Positive Rate\"\u001b[0m\u001b[0;34m)\u001b[0m\u001b[0;34m\u001b[0m\u001b[0;34m\u001b[0m\u001b[0m\n\u001b[1;32m      5\u001b[0m \u001b[0mplt\u001b[0m\u001b[0;34m.\u001b[0m\u001b[0mylabel\u001b[0m\u001b[0;34m(\u001b[0m\u001b[0;34m\"True Positive Rate\"\u001b[0m\u001b[0;34m)\u001b[0m\u001b[0;34m\u001b[0m\u001b[0;34m\u001b[0m\u001b[0m\n",
            "\u001b[0;31mNameError\u001b[0m: name 'roc_curve' is not defined"
          ]
        }
      ]
    },
    {
      "cell_type": "markdown",
      "source": [
        "42. Train a Bagging Classifier and evaluate its performance using cross-validatio.\n",
        "\n",
        "\n",
        "ans:-"
      ],
      "metadata": {
        "id": "ZN-lbIFXfGCI"
      }
    },
    {
      "source": [
        "from sklearn.ensemble import BaggingClassifier\n",
        "from sklearn.tree import DecisionTreeClassifier  # You can choose a different base estimator\n",
        "from sklearn.model_selection import cross_val_score, KFold\n",
        "from sklearn.datasets import load_breast_cancer"
      ],
      "cell_type": "code",
      "metadata": {
        "id": "Rq1Bi3LlfLMs"
      },
      "execution_count": null,
      "outputs": []
    },
    {
      "source": [
        "breast_cancer = load_breast_cancer()\n",
        "X, y = breast_cancer.data, breast_cancer.target"
      ],
      "cell_type": "code",
      "metadata": {
        "id": "XcCQvpMifLhy"
      },
      "execution_count": null,
      "outputs": []
    },
    {
      "source": [
        "bagging_classifier = BaggingClassifier(base_estimator=DecisionTreeClassifier(), n_estimators=100, random_state=42)"
      ],
      "cell_type": "code",
      "metadata": {
        "id": "cRrtDDlOfMjY"
      },
      "execution_count": null,
      "outputs": []
    },
    {
      "source": [
        "bagging_classifier = BaggingClassifier(base_estimator=DecisionTreeClassifier(), n_estimators=100, random_state=42)"
      ],
      "cell_type": "code",
      "metadata": {
        "id": "Wb7aL4o8fM8V"
      },
      "execution_count": null,
      "outputs": []
    },
    {
      "source": [
        "print(f\"Cross-validation scores: {cv_scores}\")\n",
        "print(f\"Mean accuracy: {cv_scores.mean()}\")\n",
        "print(f\"Standard deviation: {cv_scores.std()}\")"
      ],
      "cell_type": "code",
      "metadata": {
        "id": "hwmSkrOvfNmO"
      },
      "execution_count": null,
      "outputs": []
    },
    {
      "source": [
        "from sklearn.ensemble import BaggingClassifier\n",
        "from sklearn.tree import DecisionTreeClassifier\n",
        "from sklearn.model_selection import cross_val_score, KFold\n",
        "from sklearn.datasets import load_breast_cancer\n",
        "\n",
        "# Load the Breast Cancer dataset\n",
        "breast_cancer = load_breast_cancer()\n",
        "X, y = breast_cancer.data, breast_cancer.target\n",
        "\n",
        "# Create the Bagging Classifier\n",
        "bagging_classifier = BaggingClassifier(base_estimator=DecisionTreeClassifier(), n_estimators=100, random_state=42)\n",
        "\n",
        "# Perform cross-validation\n",
        "kfold = KFold(n_splits=5, shuffle=True, random_state=42)\n",
        "cv_scores = cross_val_score(bagging_classifier, X, y, cv=kfold, scoring='accuracy')\n",
        "\n",
        "# Print the results\n",
        "print(f\"Cross-validation scores: {cv_scores}\")\n",
        "print(f\"Mean accuracy: {cv_scores.mean()}\")\n",
        "print(f\"Standard deviation: {cv_scores.std()}\")"
      ],
      "cell_type": "code",
      "metadata": {
        "colab": {
          "base_uri": "https://localhost:8080/",
          "height": 237
        },
        "id": "OjfkybmlfOGo",
        "outputId": "67a69d5e-0559-4f89-e662-4551e5b36e46"
      },
      "execution_count": 25,
      "outputs": [
        {
          "output_type": "error",
          "ename": "TypeError",
          "evalue": "BaggingClassifier.__init__() got an unexpected keyword argument 'base_estimator'",
          "traceback": [
            "\u001b[0;31m---------------------------------------------------------------------------\u001b[0m",
            "\u001b[0;31mTypeError\u001b[0m                                 Traceback (most recent call last)",
            "\u001b[0;32m<ipython-input-25-7086758c2d8c>\u001b[0m in \u001b[0;36m<cell line: 0>\u001b[0;34m()\u001b[0m\n\u001b[1;32m      9\u001b[0m \u001b[0;34m\u001b[0m\u001b[0m\n\u001b[1;32m     10\u001b[0m \u001b[0;31m# Create the Bagging Classifier\u001b[0m\u001b[0;34m\u001b[0m\u001b[0;34m\u001b[0m\u001b[0m\n\u001b[0;32m---> 11\u001b[0;31m \u001b[0mbagging_classifier\u001b[0m \u001b[0;34m=\u001b[0m \u001b[0mBaggingClassifier\u001b[0m\u001b[0;34m(\u001b[0m\u001b[0mbase_estimator\u001b[0m\u001b[0;34m=\u001b[0m\u001b[0mDecisionTreeClassifier\u001b[0m\u001b[0;34m(\u001b[0m\u001b[0;34m)\u001b[0m\u001b[0;34m,\u001b[0m \u001b[0mn_estimators\u001b[0m\u001b[0;34m=\u001b[0m\u001b[0;36m100\u001b[0m\u001b[0;34m,\u001b[0m \u001b[0mrandom_state\u001b[0m\u001b[0;34m=\u001b[0m\u001b[0;36m42\u001b[0m\u001b[0;34m)\u001b[0m\u001b[0;34m\u001b[0m\u001b[0;34m\u001b[0m\u001b[0m\n\u001b[0m\u001b[1;32m     12\u001b[0m \u001b[0;34m\u001b[0m\u001b[0m\n\u001b[1;32m     13\u001b[0m \u001b[0;31m# Perform cross-validation\u001b[0m\u001b[0;34m\u001b[0m\u001b[0;34m\u001b[0m\u001b[0m\n",
            "\u001b[0;31mTypeError\u001b[0m: BaggingClassifier.__init__() got an unexpected keyword argument 'base_estimator'"
          ]
        }
      ]
    },
    {
      "cell_type": "markdown",
      "source": [
        "44. Train a Stacking Classifier with Random Forest and Logistic Regression and compare accuracy=\n",
        "\n",
        "\n",
        "\n",
        "ans:-"
      ],
      "metadata": {
        "id": "dUDVJr0jfPdy"
      }
    },
    {
      "source": [
        "from sklearn.ensemble import RandomForestClassifier, StackingClassifier\n",
        "from sklearn.linear_model import LogisticRegression\n",
        "from sklearn.model_selection import train_test_split\n",
        "from sklearn.metrics import accuracy_score\n",
        "from sklearn.datasets import load_breast_cancer\n"
      ],
      "cell_type": "code",
      "metadata": {
        "id": "sgqdi5TlftkW"
      },
      "execution_count": null,
      "outputs": []
    },
    {
      "source": [
        "breast_cancer = load_breast_cancer()\n",
        "X, y = breast_cancer.data, breast_cancer.target"
      ],
      "cell_type": "code",
      "metadata": {
        "id": "4b62EDi5ft11"
      },
      "execution_count": null,
      "outputs": []
    },
    {
      "source": [
        "X_train, X_test, y_train, y_test = train_test_split(X, y, test_size=0.2, random_state=42)"
      ],
      "cell_type": "code",
      "metadata": {
        "id": "lK2rJKIFfu-D"
      },
      "execution_count": null,
      "outputs": []
    },
    {
      "source": [
        "rf_classifier = RandomForestClassifier(n_estimators=100, random_state=42)\n",
        "lr_classifier = LogisticRegression(random_state=42, max_iter=1000)\n",
        "\n",
        "rf_classifier.fit(X_train, y_train)\n",
        "lr_classifier.fit(X_train, y_train)"
      ],
      "cell_type": "code",
      "metadata": {
        "id": "HFEUZc2zfvWc"
      },
      "execution_count": null,
      "outputs": []
    },
    {
      "source": [
        "estimators = [('rf', rf_classifier), ('lr', lr_classifier)]\n",
        "stacking_classifier = StackingClassifier(estimators=estimators, final_estimator=LogisticRegression(random_state=42))\n",
        "stacking_classifier.fit(X_train, y_train)"
      ],
      "cell_type": "code",
      "metadata": {
        "id": "jNDcdF8bfvs8"
      },
      "execution_count": null,
      "outputs": []
    },
    {
      "source": [
        "estimators = [('rf', rf_classifier), ('lr', lr_classifier)]\n",
        "stacking_classifier = StackingClassifier(estimators=estimators, final_estimator=LogisticRegression(random_state=42))\n",
        "stacking_classifier.fit(X_train, y_train)"
      ],
      "cell_type": "code",
      "metadata": {
        "id": "skv1kimmfx8b"
      },
      "execution_count": null,
      "outputs": []
    },
    {
      "source": [
        "y_pred_rf = rf_classifier.predict(X_test)\n",
        "y_pred_lr = lr_classifier.predict(X_test)\n",
        "y_pred_stacking = stacking_classifier.predict(X_test)\n",
        "\n",
        "accuracy_rf = accuracy_score(y_test, y_pred_rf)\n",
        "accuracy_lr = accuracy_score(y_test, y_pred_lr)\n",
        "accuracy_stacking = accuracy_score(y_test, y_pred_stacking)\n",
        "\n",
        "print(f\"Random Forest Accuracy: {accuracy_rf}\")\n",
        "print(f\"Logistic Regression Accuracy: {accuracy_lr}\")\n",
        "print(f\"Stacking Classifier Accuracy: {accuracy_stacking}\")"
      ],
      "cell_type": "code",
      "metadata": {
        "id": "fEQtdHlofyeU"
      },
      "execution_count": null,
      "outputs": []
    },
    {
      "source": [
        "from sklearn.ensemble import RandomForestClassifier, StackingClassifier\n",
        "from sklearn.linear_model import LogisticRegression\n",
        "from sklearn.model_selection import train_test_split\n",
        "from sklearn.metrics import accuracy_score\n",
        "from sklearn.datasets import load_breast_cancer\n",
        "\n",
        "# Load the Breast Cancer dataset\n",
        "breast_cancer = load_breast_cancer()\n",
        "X, y = breast_cancer.data, breast_cancer.target\n",
        "\n",
        "# Split data into training and testing sets\n",
        "X_train, X_test, y_train, y_test = train_test_split(X, y, test_size=0.2, random_state=42)\n",
        "\n",
        "# Create and train the individual models\n",
        "rf_classifier = RandomForestClassifier(n_estimators=100, random_state=42)\n",
        "lr_classifier = LogisticRegression(random_state=42, max_iter=1000)\n",
        "\n",
        "rf_classifier.fit(X_train, y_train)\n",
        "lr_classifier.fit(X_train, y_train)\n",
        "\n",
        "# Create and train the Stacking Classifier\n",
        "estimators = [('rf', rf_classifier), ('lr', lr_classifier)]\n",
        "stacking_classifier = StackingClassifier(estimators=estimators, final_estimator=LogisticRegression(random_state=42))\n",
        "stacking_classifier.fit(X_train, y_train)\n",
        "\n",
        "# Make predictions and evaluate accuracy\n",
        "y_pred_rf = rf_classifier.predict(X_test)\n",
        "y_pred_lr = lr_classifier.predict(X_test)\n",
        "y_pred_stacking = stacking_classifier.predict(X_test)\n",
        "\n",
        "accuracy_rf = accuracy_score(y_test, y_pred_rf)\n",
        "accuracy_lr = accuracy_score(y_test, y_pred_lr)\n",
        "accuracy_stacking = accuracy_score(y_test, y_pred_stacking)\n",
        "\n",
        "print(f\"Random Forest Accuracy: {accuracy_rf}\")\n",
        "print(f\"Logistic Regression Accuracy: {accuracy_lr}\")\n",
        "print(f\"Stacking Classifier Accuracy: {accuracy_stacking}\")"
      ],
      "cell_type": "code",
      "metadata": {
        "colab": {
          "base_uri": "https://localhost:8080/"
        },
        "id": "bq4DUPLpfy_d",
        "outputId": "0d3bbf0d-2ec4-44d7-eb58-2151dfd6839f"
      },
      "execution_count": 26,
      "outputs": [
        {
          "output_type": "stream",
          "name": "stderr",
          "text": [
            "/usr/local/lib/python3.11/dist-packages/sklearn/linear_model/_logistic.py:465: ConvergenceWarning: lbfgs failed to converge (status=1):\n",
            "STOP: TOTAL NO. of ITERATIONS REACHED LIMIT.\n",
            "\n",
            "Increase the number of iterations (max_iter) or scale the data as shown in:\n",
            "    https://scikit-learn.org/stable/modules/preprocessing.html\n",
            "Please also refer to the documentation for alternative solver options:\n",
            "    https://scikit-learn.org/stable/modules/linear_model.html#logistic-regression\n",
            "  n_iter_i = _check_optimize_result(\n",
            "/usr/local/lib/python3.11/dist-packages/sklearn/linear_model/_logistic.py:465: ConvergenceWarning: lbfgs failed to converge (status=1):\n",
            "STOP: TOTAL NO. of ITERATIONS REACHED LIMIT.\n",
            "\n",
            "Increase the number of iterations (max_iter) or scale the data as shown in:\n",
            "    https://scikit-learn.org/stable/modules/preprocessing.html\n",
            "Please also refer to the documentation for alternative solver options:\n",
            "    https://scikit-learn.org/stable/modules/linear_model.html#logistic-regression\n",
            "  n_iter_i = _check_optimize_result(\n",
            "/usr/local/lib/python3.11/dist-packages/sklearn/linear_model/_logistic.py:465: ConvergenceWarning: lbfgs failed to converge (status=1):\n",
            "STOP: TOTAL NO. of ITERATIONS REACHED LIMIT.\n",
            "\n",
            "Increase the number of iterations (max_iter) or scale the data as shown in:\n",
            "    https://scikit-learn.org/stable/modules/preprocessing.html\n",
            "Please also refer to the documentation for alternative solver options:\n",
            "    https://scikit-learn.org/stable/modules/linear_model.html#logistic-regression\n",
            "  n_iter_i = _check_optimize_result(\n",
            "/usr/local/lib/python3.11/dist-packages/sklearn/linear_model/_logistic.py:465: ConvergenceWarning: lbfgs failed to converge (status=1):\n",
            "STOP: TOTAL NO. of ITERATIONS REACHED LIMIT.\n",
            "\n",
            "Increase the number of iterations (max_iter) or scale the data as shown in:\n",
            "    https://scikit-learn.org/stable/modules/preprocessing.html\n",
            "Please also refer to the documentation for alternative solver options:\n",
            "    https://scikit-learn.org/stable/modules/linear_model.html#logistic-regression\n",
            "  n_iter_i = _check_optimize_result(\n",
            "/usr/local/lib/python3.11/dist-packages/sklearn/linear_model/_logistic.py:465: ConvergenceWarning: lbfgs failed to converge (status=1):\n",
            "STOP: TOTAL NO. of ITERATIONS REACHED LIMIT.\n",
            "\n",
            "Increase the number of iterations (max_iter) or scale the data as shown in:\n",
            "    https://scikit-learn.org/stable/modules/preprocessing.html\n",
            "Please also refer to the documentation for alternative solver options:\n",
            "    https://scikit-learn.org/stable/modules/linear_model.html#logistic-regression\n",
            "  n_iter_i = _check_optimize_result(\n",
            "/usr/local/lib/python3.11/dist-packages/sklearn/linear_model/_logistic.py:465: ConvergenceWarning: lbfgs failed to converge (status=1):\n",
            "STOP: TOTAL NO. of ITERATIONS REACHED LIMIT.\n",
            "\n",
            "Increase the number of iterations (max_iter) or scale the data as shown in:\n",
            "    https://scikit-learn.org/stable/modules/preprocessing.html\n",
            "Please also refer to the documentation for alternative solver options:\n",
            "    https://scikit-learn.org/stable/modules/linear_model.html#logistic-regression\n",
            "  n_iter_i = _check_optimize_result(\n"
          ]
        },
        {
          "output_type": "stream",
          "name": "stdout",
          "text": [
            "Random Forest Accuracy: 0.9649122807017544\n",
            "Logistic Regression Accuracy: 0.956140350877193\n",
            "Stacking Classifier Accuracy: 0.9649122807017544\n"
          ]
        },
        {
          "output_type": "stream",
          "name": "stderr",
          "text": [
            "/usr/local/lib/python3.11/dist-packages/sklearn/linear_model/_logistic.py:465: ConvergenceWarning: lbfgs failed to converge (status=1):\n",
            "STOP: TOTAL NO. of ITERATIONS REACHED LIMIT.\n",
            "\n",
            "Increase the number of iterations (max_iter) or scale the data as shown in:\n",
            "    https://scikit-learn.org/stable/modules/preprocessing.html\n",
            "Please also refer to the documentation for alternative solver options:\n",
            "    https://scikit-learn.org/stable/modules/linear_model.html#logistic-regression\n",
            "  n_iter_i = _check_optimize_result(\n"
          ]
        }
      ]
    },
    {
      "cell_type": "code",
      "source": [],
      "metadata": {
        "id": "puq115kUfFBu"
      },
      "execution_count": null,
      "outputs": []
    },
    {
      "cell_type": "markdown",
      "source": [
        "45. Train a Bagging Regressor with different levels of bootstrap samples and compare performance.\n",
        "\n",
        "\n",
        "ans:-"
      ],
      "metadata": {
        "id": "q_TlJ8nSf1-x"
      }
    },
    {
      "source": [
        "import pandas as pd\n",
        "import matplotlib.pyplot as plt\n",
        "from sklearn.ensemble import BaggingRegressor\n",
        "from sklearn.tree import DecisionTreeRegressor  # You can choose a different base estimator\n",
        "from sklearn.model_selection import train_test_split\n",
        "from sklearn.metrics import mean_squared_error\n",
        "from sklearn.datasets import load_boston"
      ],
      "cell_type": "code",
      "metadata": {
        "id": "uI-VXovCf-NF"
      },
      "execution_count": null,
      "outputs": []
    },
    {
      "source": [
        "boston = load_boston()\n",
        "X, y = boston.data, boston.target"
      ],
      "cell_type": "code",
      "metadata": {
        "id": "QyXvjpXmgAEz"
      },
      "execution_count": null,
      "outputs": []
    },
    {
      "source": [
        "X_train, X_test, y_train, y_test = train_test_split(X, y, test_size=0.2, random_state=42)"
      ],
      "cell_type": "code",
      "metadata": {
        "id": "cbWPLmvJgAWo"
      },
      "execution_count": null,
      "outputs": []
    },
    {
      "source": [
        "bootstrap_sample_sizes = [0.5, 0.7, 0.9, 1.0]  # Explore different proportions of the training data\n",
        "mse_scores = []\n",
        "\n",
        "for sample_size in bootstrap_sample_sizes:\n",
        "    bagging_regressor = BaggingRegressor(base_estimator=DecisionTreeRegressor(),\n",
        "                                         n_estimators=100,\n",
        "                                         max_samples=sample_size,\n",
        "                                         random_state=42)\n",
        "    bagging_regressor.fit(X_train, y_train)\n",
        "    y_pred = bagging_regressor.predict(X_test)\n",
        "    mse = mean_squared_error(y_test, y_pred)\n",
        "    mse_scores.append(mse)\n",
        "    print(f\"MSE with bootstrap sample size {sample_size}: {mse}\")\n",
        "\n",
        "# Create a DataFrame to store the results\n",
        "results = pd.DataFrame({'Bootstrap Sample Size': bootstrap_sample_sizes, 'MSE': mse_scores})\n",
        "\n",
        "# Plot the results\n",
        "plt.plot(results['Bootstrap Sample Size'], results['MSE'], marker='o')\n",
        "plt.xlabel('Bootstrap Sample Size (max_samples)')\n",
        "plt.ylabel('Mean Squared Error (MSE)')\n",
        "plt.title('Performance of Bagging Regressor with Different Bootstrap Sample Sizes')\n",
        "plt.grid(True)\n",
        "plt.show()"
      ],
      "cell_type": "code",
      "metadata": {
        "colab": {
          "base_uri": "https://localhost:8080/",
          "height": 219
        },
        "id": "Z66A9gK4gA5-",
        "outputId": "cf5020cb-ff91-498e-c1e7-a15b958c8e79"
      },
      "execution_count": 27,
      "outputs": [
        {
          "output_type": "error",
          "ename": "TypeError",
          "evalue": "BaggingRegressor.__init__() got an unexpected keyword argument 'base_estimator'",
          "traceback": [
            "\u001b[0;31m---------------------------------------------------------------------------\u001b[0m",
            "\u001b[0;31mTypeError\u001b[0m                                 Traceback (most recent call last)",
            "\u001b[0;32m<ipython-input-27-83ff96746d56>\u001b[0m in \u001b[0;36m<cell line: 0>\u001b[0;34m()\u001b[0m\n\u001b[1;32m      3\u001b[0m \u001b[0;34m\u001b[0m\u001b[0m\n\u001b[1;32m      4\u001b[0m \u001b[0;32mfor\u001b[0m \u001b[0msample_size\u001b[0m \u001b[0;32min\u001b[0m \u001b[0mbootstrap_sample_sizes\u001b[0m\u001b[0;34m:\u001b[0m\u001b[0;34m\u001b[0m\u001b[0;34m\u001b[0m\u001b[0m\n\u001b[0;32m----> 5\u001b[0;31m     bagging_regressor = BaggingRegressor(base_estimator=DecisionTreeRegressor(), \n\u001b[0m\u001b[1;32m      6\u001b[0m                                          \u001b[0mn_estimators\u001b[0m\u001b[0;34m=\u001b[0m\u001b[0;36m100\u001b[0m\u001b[0;34m,\u001b[0m\u001b[0;34m\u001b[0m\u001b[0;34m\u001b[0m\u001b[0m\n\u001b[1;32m      7\u001b[0m                                          \u001b[0mmax_samples\u001b[0m\u001b[0;34m=\u001b[0m\u001b[0msample_size\u001b[0m\u001b[0;34m,\u001b[0m\u001b[0;34m\u001b[0m\u001b[0;34m\u001b[0m\u001b[0m\n",
            "\u001b[0;31mTypeError\u001b[0m: BaggingRegressor.__init__() got an unexpected keyword argument 'base_estimator'"
          ]
        }
      ]
    },
    {
      "source": [
        "import pandas as pd\n",
        "import matplotlib.pyplot as plt\n",
        "from sklearn.ensemble import BaggingRegressor\n",
        "from sklearn.tree import DecisionTreeRegressor\n",
        "from sklearn.model_selection import train_test_split\n",
        "from sklearn.metrics import mean_squared_error\n",
        "from sklearn.datasets import load_boston\n",
        "\n",
        "# Load the Boston Housing dataset\n",
        "boston = load_boston()\n",
        "X, y = boston.data, boston.target\n",
        "\n",
        "# Split data into training and testing sets\n",
        "X_train, X_test, y_train, y_test = train_test_split(X, y, test_size=0.2, random_state=42)\n",
        "\n",
        "# Train and evaluate with different bootstrap sample sizes\n",
        "bootstrap_sample_sizes = [0.5, 0.7, 0.9, 1.0]\n",
        "mse_scores = []\n",
        "\n",
        "for sample_size in bootstrap_sample_sizes:\n",
        "    bagging_regressor = BaggingRegressor(base_estimator=DecisionTreeRegressor(),\n",
        "                                         n_estimators=100,\n",
        "                                         max_samples=sample_size,\n",
        "                                         random_state=42)\n",
        "    bagging_regressor.fit(X_train, y_train)\n",
        "    y_pred = bagging_regressor.predict(X_test)\n",
        "    mse = mean_squared_error(y_test, y_pred)\n",
        "    mse_scores.append(mse)\n",
        "    print(f\"MSE with bootstrap sample size {sample_size}: {mse}\")\n",
        "\n",
        "# Create a DataFrame to store the results\n",
        "results = pd.DataFrame({'Bootstrap Sample Size': bootstrap_sample_sizes, 'MSE': mse_scores})\n",
        "\n",
        "# Plot the results\n",
        "plt.plot(results['Bootstrap Sample Size'], results['MSE'], marker='o')\n",
        "plt.xlabel('Bootstrap Sample Size (max_samples)')\n",
        "plt.ylabel('Mean Squared Error (MSE)')\n",
        "plt.title('Performance of Bagging Regressor with Different Bootstrap Sample Sizes')\n",
        "plt.grid(True)\n",
        "plt.show()"
      ],
      "cell_type": "code",
      "metadata": {
        "colab": {
          "base_uri": "https://localhost:8080/",
          "height": 1000
        },
        "id": "ocHbHMTOgEMH",
        "outputId": "674314b9-7030-4bfe-a29b-407536216cc1"
      },
      "execution_count": 28,
      "outputs": [
        {
          "output_type": "error",
          "ename": "ImportError",
          "evalue": "\n`load_boston` has been removed from scikit-learn since version 1.2.\n\nThe Boston housing prices dataset has an ethical problem: as\ninvestigated in [1], the authors of this dataset engineered a\nnon-invertible variable \"B\" assuming that racial self-segregation had a\npositive impact on house prices [2]. Furthermore the goal of the\nresearch that led to the creation of this dataset was to study the\nimpact of air quality but it did not give adequate demonstration of the\nvalidity of this assumption.\n\nThe scikit-learn maintainers therefore strongly discourage the use of\nthis dataset unless the purpose of the code is to study and educate\nabout ethical issues in data science and machine learning.\n\nIn this special case, you can fetch the dataset from the original\nsource::\n\n    import pandas as pd\n    import numpy as np\n\n    data_url = \"http://lib.stat.cmu.edu/datasets/boston\"\n    raw_df = pd.read_csv(data_url, sep=\"\\s+\", skiprows=22, header=None)\n    data = np.hstack([raw_df.values[::2, :], raw_df.values[1::2, :2]])\n    target = raw_df.values[1::2, 2]\n\nAlternative datasets include the California housing dataset and the\nAmes housing dataset. You can load the datasets as follows::\n\n    from sklearn.datasets import fetch_california_housing\n    housing = fetch_california_housing()\n\nfor the California housing dataset and::\n\n    from sklearn.datasets import fetch_openml\n    housing = fetch_openml(name=\"house_prices\", as_frame=True)\n\nfor the Ames housing dataset.\n\n[1] M Carlisle.\n\"Racist data destruction?\"\n<https://medium.com/@docintangible/racist-data-destruction-113e3eff54a8>\n\n[2] Harrison Jr, David, and Daniel L. Rubinfeld.\n\"Hedonic housing prices and the demand for clean air.\"\nJournal of environmental economics and management 5.1 (1978): 81-102.\n<https://www.researchgate.net/publication/4974606_Hedonic_housing_prices_and_the_demand_for_clean_air>\n",
          "traceback": [
            "\u001b[0;31m---------------------------------------------------------------------------\u001b[0m",
            "\u001b[0;31mImportError\u001b[0m                               Traceback (most recent call last)",
            "\u001b[0;32m<ipython-input-28-edfcfb8e39a1>\u001b[0m in \u001b[0;36m<cell line: 0>\u001b[0;34m()\u001b[0m\n\u001b[1;32m      5\u001b[0m \u001b[0;32mfrom\u001b[0m \u001b[0msklearn\u001b[0m\u001b[0;34m.\u001b[0m\u001b[0mmodel_selection\u001b[0m \u001b[0;32mimport\u001b[0m \u001b[0mtrain_test_split\u001b[0m\u001b[0;34m\u001b[0m\u001b[0;34m\u001b[0m\u001b[0m\n\u001b[1;32m      6\u001b[0m \u001b[0;32mfrom\u001b[0m \u001b[0msklearn\u001b[0m\u001b[0;34m.\u001b[0m\u001b[0mmetrics\u001b[0m \u001b[0;32mimport\u001b[0m \u001b[0mmean_squared_error\u001b[0m\u001b[0;34m\u001b[0m\u001b[0;34m\u001b[0m\u001b[0m\n\u001b[0;32m----> 7\u001b[0;31m \u001b[0;32mfrom\u001b[0m \u001b[0msklearn\u001b[0m\u001b[0;34m.\u001b[0m\u001b[0mdatasets\u001b[0m \u001b[0;32mimport\u001b[0m \u001b[0mload_boston\u001b[0m\u001b[0;34m\u001b[0m\u001b[0;34m\u001b[0m\u001b[0m\n\u001b[0m\u001b[1;32m      8\u001b[0m \u001b[0;34m\u001b[0m\u001b[0m\n\u001b[1;32m      9\u001b[0m \u001b[0;31m# Load the Boston Housing dataset\u001b[0m\u001b[0;34m\u001b[0m\u001b[0;34m\u001b[0m\u001b[0m\n",
            "\u001b[0;32m/usr/local/lib/python3.11/dist-packages/sklearn/datasets/__init__.py\u001b[0m in \u001b[0;36m__getattr__\u001b[0;34m(name)\u001b[0m\n\u001b[1;32m    159\u001b[0m             \"\"\"\n\u001b[1;32m    160\u001b[0m         )\n\u001b[0;32m--> 161\u001b[0;31m         \u001b[0;32mraise\u001b[0m \u001b[0mImportError\u001b[0m\u001b[0;34m(\u001b[0m\u001b[0mmsg\u001b[0m\u001b[0;34m)\u001b[0m\u001b[0;34m\u001b[0m\u001b[0;34m\u001b[0m\u001b[0m\n\u001b[0m\u001b[1;32m    162\u001b[0m     \u001b[0;32mtry\u001b[0m\u001b[0;34m:\u001b[0m\u001b[0;34m\u001b[0m\u001b[0;34m\u001b[0m\u001b[0m\n\u001b[1;32m    163\u001b[0m         \u001b[0;32mreturn\u001b[0m \u001b[0mglobals\u001b[0m\u001b[0;34m(\u001b[0m\u001b[0;34m)\u001b[0m\u001b[0;34m[\u001b[0m\u001b[0mname\u001b[0m\u001b[0;34m]\u001b[0m\u001b[0;34m\u001b[0m\u001b[0;34m\u001b[0m\u001b[0m\n",
            "\u001b[0;31mImportError\u001b[0m: \n`load_boston` has been removed from scikit-learn since version 1.2.\n\nThe Boston housing prices dataset has an ethical problem: as\ninvestigated in [1], the authors of this dataset engineered a\nnon-invertible variable \"B\" assuming that racial self-segregation had a\npositive impact on house prices [2]. Furthermore the goal of the\nresearch that led to the creation of this dataset was to study the\nimpact of air quality but it did not give adequate demonstration of the\nvalidity of this assumption.\n\nThe scikit-learn maintainers therefore strongly discourage the use of\nthis dataset unless the purpose of the code is to study and educate\nabout ethical issues in data science and machine learning.\n\nIn this special case, you can fetch the dataset from the original\nsource::\n\n    import pandas as pd\n    import numpy as np\n\n    data_url = \"http://lib.stat.cmu.edu/datasets/boston\"\n    raw_df = pd.read_csv(data_url, sep=\"\\s+\", skiprows=22, header=None)\n    data = np.hstack([raw_df.values[::2, :], raw_df.values[1::2, :2]])\n    target = raw_df.values[1::2, 2]\n\nAlternative datasets include the California housing dataset and the\nAmes housing dataset. You can load the datasets as follows::\n\n    from sklearn.datasets import fetch_california_housing\n    housing = fetch_california_housing()\n\nfor the California housing dataset and::\n\n    from sklearn.datasets import fetch_openml\n    housing = fetch_openml(name=\"house_prices\", as_frame=True)\n\nfor the Ames housing dataset.\n\n[1] M Carlisle.\n\"Racist data destruction?\"\n<https://medium.com/@docintangible/racist-data-destruction-113e3eff54a8>\n\n[2] Harrison Jr, David, and Daniel L. Rubinfeld.\n\"Hedonic housing prices and the demand for clean air.\"\nJournal of environmental economics and management 5.1 (1978): 81-102.\n<https://www.researchgate.net/publication/4974606_Hedonic_housing_prices_and_the_demand_for_clean_air>\n",
            "",
            "\u001b[0;31m---------------------------------------------------------------------------\u001b[0;32m\nNOTE: If your import is failing due to a missing package, you can\nmanually install dependencies using either !pip or !apt.\n\nTo view examples of installing some common dependencies, click the\n\"Open Examples\" button below.\n\u001b[0;31m---------------------------------------------------------------------------\u001b[0m\n"
          ],
          "errorDetails": {
            "actions": [
              {
                "action": "open_url",
                "actionText": "Open Examples",
                "url": "/notebooks/snippets/importing_libraries.ipynb"
              }
            ]
          }
        }
      ]
    },
    {
      "cell_type": "code",
      "source": [],
      "metadata": {
        "id": "Y_KxegBigBic"
      },
      "execution_count": null,
      "outputs": []
    }
  ]
}