{
  "nbformat": 4,
  "nbformat_minor": 0,
  "metadata": {
    "colab": {
      "provenance": []
    },
    "kernelspec": {
      "name": "python3",
      "display_name": "Python 3"
    },
    "language_info": {
      "name": "python"
    }
  },
  "cells": [
    {
      "cell_type": "code",
      "execution_count": null,
      "metadata": {
        "id": "ISpnOBxs_dSV"
      },
      "outputs": [],
      "source": []
    },
    {
      "cell_type": "markdown",
      "source": [
        "# ***#theory questions***"
      ],
      "metadata": {
        "id": "Pmc3wy7g_oe-"
      }
    },
    {
      "cell_type": "markdown",
      "source": [
        "1.explain the purpose and advantages of numpy in scientific computing and data analysis.how does it enhance python's capabilities for numerical operations.\n",
        "\n",
        "ans:-NumPy is a Python library fundamental for scientific computing and data analysis.\n",
        "\n",
        "Purpose and Advantages\n",
        "\n",
        "NumPy introduces the ndarray (n-dimensional array) object for efficient storage and manipulation of homogeneous data. It is faster to access and manipulate NumPy arrays compared to native Python lists, as data is stored contiguously in memory, improving performance. NumPy offers a wide array of mathematical functions that can be applied directly to these arrays, eliminating the need for explicit loops. This vectorization enables concise and efficient expression of complex calculations.\n",
        "NumPy enables the broadcasting feature, which allows operations between arrays of different shapes under specific rules, further simplifying code and enhancing flexibility. It provides tools for linear algebra, Fourier transforms, and random number generation, which are essential in scientific computing and data analysis workflows.\n",
        "Enhancing Python's Capabilities\n",
        "\n",
        "NumPy empowers Python by introducing an array object that is more suitable and optimized for numerical computations than native Python lists. It facilitates efficient storage and retrieval of data through the ndarray, and leverages vectorization, avoiding the overhead of explicit loops for numerical operations, leading to significant performance gains.\n",
        "Overall, NumPy's role is pivotal in scientific computing and data analysis with Python. Its functionalities like the efficient ndarray, a vast collection of mathematical functions, broadcasting, and tools for advanced mathematical operations make it an indispensable library for researchers, scientists, and data analysts.\n"
      ],
      "metadata": {
        "id": "o5XONYK4_wjY"
      }
    },
    {
      "cell_type": "markdown",
      "source": [
        "2.compare and contrast np.mean ()and np.average() function in numpy.when would you use one over the other.\n",
        "\n",
        "ans:-np.mean() and np.average() in NumPy:\n",
        "\n",
        "Similarities\n",
        "\n",
        "Both functions calculate the average (arithmetic mean) of elements in an array. When used with default parameters, they produce the same output.\n",
        "Differences\n",
        "\n",
        "np.average() allows for weighted averaging using the weights parameter, enabling different elements to contribute differently to the average. np.mean() does not offer this functionality directly.\n",
        "When to Use Which\n",
        "\n",
        "Use np.mean() when calculating the simple arithmetic mean of an array without considering any weights for the elements.\n",
        "Use np.average() when calculating the weighted average of an array, where different elements have different weights assigned to them influencing the final average."
      ],
      "metadata": {
        "id": "k9NSz7kLAA4C"
      }
    },
    {
      "cell_type": "markdown",
      "source": [
        "3.describes the method for reversing a numpoy array alohg different axes.provide example for 1d and 2d arrays.\n",
        "\n",
        "ans:-Method\n",
        "\n",
        "Use the numpy.flip() function to reverse an array along specified axes. The axis parameter determines which axis or axes to reverse. For example, axis=0 reverses along the first axis (rows), and axis=1 reverses along the second axis (columns). If axis is not specified, the array is flipped along all axes.\n",
        "\n",
        "Example: 1D Array\n",
        "\n",
        "\n",
        "import numpy as np\n",
        "\n",
        "arr = np.array([1, 2, 3, 4, 5])\n",
        "reversed_arr = np.flip(arr)  # Reverses along the only axis\n",
        "Use code with caution\n",
        "Example: 2D Array\n",
        "\n",
        "\n",
        "import numpy as np\n",
        "\n",
        "arr = np.array([[1, 2, 3], [4, 5, 6], [7, 8, 9]])\n",
        "\n",
        "# Reverse along rows (axis=0)\n",
        "reversed_rows = np.flip(arr, axis=0)\n",
        "\n",
        "# Reverse along columns (axis=1)\n",
        "reversed_cols = np.flip(arr, axis=1)\n",
        "Use code with caution\n",
        "In these examples, reversed_arr will contain the reversed 1D array, reversed_rows will contain the 2D array with rows reversed, and reversed_cols will contain the 2D array with columns reversed"
      ],
      "metadata": {
        "id": "PFl61c9qAPxR"
      }
    },
    {
      "cell_type": "markdown",
      "source": [
        "4.how can you determine the data type of elements in a  numpy array .discuss the importance of data types in memory management and performance.\n",
        "\n",
        "ans:-the data type of elements in a NumPy array and the importance of data types:\n",
        "\n",
        "Determining Data Type\n",
        "\n",
        "Use the dtype attribute of a NumPy array to determine the data type of its elements.\n",
        "\n",
        "\n",
        "import numpy as np\n",
        "\n",
        "arr = np.array([1, 2, 3])\n",
        "data_type = arr.dtype  # Accessing the data type\n",
        "Use code with caution\n",
        "Importance of Data Types\n",
        "\n",
        "Memory Management: Data types influence the amount of memory allocated to store each element in an array. Choosing an appropriate data type helps optimize memory usage and reduce memory footprint. For instance, if you're working with integers that fall within a specific range, using int16 instead of int64 can save significant memory space.\n",
        "\n",
        "Performance: Data types impact the performance of numerical computations. Operations on arrays with matching data types are generally faster. Type casting and conversions during computations can introduce overhead, affecting performance. NumPy's optimized functions often work best with specific data types, such as float64 for floating-point calculations.\n",
        "\n",
        "By carefully selecting and managing data types in NumPy arrays, you can ensure efficient memory usage and improve the performance of your numerical computations."
      ],
      "metadata": {
        "id": "Mh4mcDcn_n5A"
      }
    },
    {
      "cell_type": "markdown",
      "source": [
        "5.define ndarrays in numpy and explain their key feature .how do they differ from standard python list.\n",
        "\n",
        "ans:-Definition\n",
        "\n",
        "In NumPy, an ndarray (n-dimensional array) is a homogeneous multidimensional container of items of the same data type. It's the fundamental data structure in NumPy for representing and manipulating numerical data.\n",
        "\n",
        "Key Features\n",
        "\n",
        "Homogeneous Data: All elements in an ndarray have the same data type, ensuring efficient storage and operations.\n",
        "Multidimensional: ndarrays can represent data in multiple dimensions, allowing for the creation of vectors, matrices, and higher-dimensional arrays.\n",
        "Element-wise Operations: NumPy provides functions that operate element-wise on ndarrays, making numerical computations concise and efficient.\n",
        "Broadcasting: NumPy's broadcasting rules allow operations between arrays of different shapes under certain conditions, simplifying code and enhancing flexibility.\n",
        "Differences from Standard Python Lists\n",
        "\n",
        "Homogeneity: ndarrays are homogeneous, while Python lists can contain elements of different data types.\n",
        "Element-wise Operations: NumPy supports efficient element-wise operations on ndarrays, whereas Python lists require explicit loops for such computations.\n",
        "Memory Efficiency: ndarrays are more memory-efficient than Python lists, especially for large datasets, due to their contiguous storage and homogeneous data types.\n",
        "Functionality: NumPy provides a vast library of functions for numerical and scientific computing, extending the capabilities of standard Python lists."
      ],
      "metadata": {
        "id": "W3p8HskfBU5D"
      }
    },
    {
      "cell_type": "markdown",
      "source": [
        "6.analize the performance benefits of numpy arrays over python lists for large-scale numerical operations,.\n",
        "\n",
        "ans:-Performance Benefits\n",
        "\n",
        "Vectorization: NumPy arrays support vectorized operations, allowing mathematical functions to be applied to entire arrays without explicit loops. This significantly speeds up computations compared to iterating over elements in Python lists.\n",
        "Contiguous Memory: NumPy arrays store data in contiguous memory locations, enabling efficient access and manipulation of elements. Python lists, on the other hand, store pointers to objects scattered in memory, leading to performance overhead.\n",
        "Data Type Optimization: NumPy arrays use fixed data types for elements, allowing for optimized operations specific to those types. Python lists have more flexible data types, but this flexibility can introduce overhead in numerical computations.\n",
        "Specialized Functions: NumPy provides a vast library of specialized functions for numerical and scientific computing, optimized for performance. Python lists lack these specialized functions, requiring manual implementation or reliance on less efficient alternatives.\n",
        "Impact on Large-Scale Operations\n",
        "\n",
        "For large-scale numerical operations, the performance benefits of NumPy arrays become even more significant. The reduced overhead from vectorization, contiguous memory, and optimized functions translates into substantial time savings and improved efficiency. NumPy arrays are designed to handle large datasets efficiently, making them the preferred choice for scientific computing and data analysis tasks."
      ],
      "metadata": {
        "id": "KTWUqMTVBgsy"
      }
    },
    {
      "cell_type": "markdown",
      "source": [
        "7.compare vstack ()and hstack() functions in numpy.provide examples demonstrating their usage and output.\n",
        "\n",
        "ans:-vstack()\n",
        "\n",
        "Vertically stacks arrays.\n",
        "Arrays are stacked along the first axis (rows).\n",
        "The number of columns in the arrays must be the same.\n",
        "Example\n",
        "\n",
        "\n",
        "import numpy as np\n",
        "\n",
        "a = np.array([1, 2, 3])\n",
        "b = np.array([4, 5, 6])\n",
        "\n",
        "stacked = np.vstack((a, b))  # Vertical stacking\n",
        "Use code with caution\n",
        "hstack()\n",
        "\n",
        "Horizontally stacks arrays.\n",
        "Arrays are stacked along the second axis (columns).\n",
        "The number of rows in the arrays must be the same.\n",
        "Example\n",
        "\n",
        "\n",
        "import numpy as np\n",
        "\n",
        "a = np.array([[1], [2], [3]])\n",
        "b = np.array([[4], [5], [6]])\n",
        "\n",
        "stacked = np.hstack((a, b))  # Horizontal stacking\n",
        "Use code with caution\n",
        "Execute the code yourself to see the output. Choose the stacking function (vstack or hstack) that aligns with your desired stacking direction (vertical or horizontal) and the shape of your arrays."
      ],
      "metadata": {
        "id": "HB0VVKnWByUC"
      }
    },
    {
      "cell_type": "markdown",
      "source": [
        "8.explain the differences between fliplr() and filpud() methods in numpy. including their effacts oh various array dimensions.\n",
        "\n",
        "ans:-fliplr()\n",
        "\n",
        "Flips an array horizontally (left to right).\n",
        "Reverses the order of elements along the second axis (columns).\n",
        "Primarily used for 2D arrays.\n",
        "For 1D arrays, it behaves similarly to flipud().\n",
        "flipud()\n",
        "\n",
        "Flips an array vertically (up to down).\n",
        "Reverses the order of elements along the first axis (rows).\n",
        "Primarily used for 2D arrays.\n",
        "For 1D arrays, it behaves similarly to fliplr().\n",
        "Effects on Array Dimensions\n",
        "\n",
        "1D Arrays: Both fliplr() and flipud() have the same effect on 1D arrays, simply reversing the elements.\n",
        "2D Arrays: fliplr() flips the array horizontally, reversing the columns, while flipud() flips the array vertically, reversing the rows.\n",
        "Example\n",
        "\n",
        "\n",
        "import numpy as np\n",
        "\n",
        "arr = np.array([[1, 2, 3], [4, 5, 6]])\n",
        "\n",
        "flipped_lr = np.fliplr(arr)  # Horizontal flip\n",
        "flipped_ud = np.flipud(arr)  # Vertical flip\n",
        "Use code with caution\n",
        "Execute the code yourself to see the output. Remember that fliplr() is typically used to flip 2D arrays horizontally, while flipud() is used to flip them vertically. For 1D arrays, they have the same effect"
      ],
      "metadata": {
        "id": "bGoW3l7RB8qf"
      }
    },
    {
      "cell_type": "markdown",
      "source": [
        "9.discuss the functionality of the array_spilt ()method in numpy . how does it handle uneven splits.\n",
        "\n",
        "ans:-Functionality\n",
        "\n",
        "Splits an array into multiple sub-arrays along a specified axis.\n",
        "The number of sub-arrays is determined by the indices_or_sections parameter.\n",
        "Handles uneven splits by distributing the remaining elements as evenly as possible among the sub-arrays.\n",
        "Handling Uneven Splits\n",
        "\n",
        "When the array cannot be divided evenly into the specified number of sub-arrays, array_split() distributes the remaining elements among the sub-arrays to minimize the difference in their sizes.\n",
        "\n",
        "Example\n",
        "\n",
        "\n",
        "import numpy as np\n",
        "\n",
        "arr = np.array([1, 2, 3, 4, 5, 6, 7, 8])\n",
        "\n",
        "# Split into 3 sub-arrays\n",
        "sub_arrays = np.array_split(arr, 3)\n",
        "Use code with caution\n",
        "In this example, array_split() will create 3 sub-arrays: [1, 2, 3], [4, 5, 6], and [7, 8]. The remaining two elements are distributed to the last two sub-arrays to achieve a relatively balanced split.\n",
        "\n",
        "Execute the code yourself to see the output. Consider using array_split() when you need to split an array into a specific number of sub-arrays, even if the split is uneven."
      ],
      "metadata": {
        "id": "C1cVgWsgCHME"
      }
    },
    {
      "cell_type": "markdown",
      "source": [
        "10.explaim the concepts of vectorization and broadcasting in numpy. how do they contribute to efficient array operations.\n",
        "\n",
        "ans:-Okay, let's explain vectorization and broadcasting in NumPy:\n",
        "\n",
        "Vectorization\n",
        "\n",
        "Performing operations on entire arrays instead of individual elements using loops.\n",
        "NumPy functions are designed to operate on arrays directly, eliminating the need for explicit loops.\n",
        "Leads to significant performance improvements, especially for large arrays.\n",
        "Broadcasting\n",
        "\n",
        "Extending the concept of vectorization to arrays with different shapes.\n",
        "NumPy's broadcasting rules allow operations between arrays with compatible shapes, even if they don't have the same dimensions.\n",
        "Simplifies code and enhances flexibility in array operations.\n",
        "Contribution to Efficient Array Operations\n",
        "\n",
        "Reduced Loops: Vectorization and broadcasting minimize the need for explicit loops, reducing the overhead of iterating over elements individually.\n",
        "Optimized Operations: NumPy functions are optimized for array operations, leveraging low-level implementations for efficient execution.\n",
        "Concise Code: Vectorization and broadcasting allow for more concise and expressive code, making it easier to write and understand complex numerical operations.\n",
        "Example\n",
        "\n",
        "\n",
        "import numpy as np\n",
        "\n",
        "a = np.array([1, 2, 3])\n",
        "b = np.array([4, 5, 6])\n",
        "\n",
        "c = a + b  # Vectorized addition\n",
        "Use code with caution\n",
        "In this example, the + operator is applied element-wise to the entire arrays a and b, resulting in a new array c without explicit loops. This is vectorization in action. Broadcasting would come into play if a and b had different shapes but were compatible according to NumPy's broadcasting rules.\n",
        "\n",
        "By leveraging vectorization and broadcasting, NumPy enables efficient and concise array operations, making it a powerful tool for numerical computations.\n"
      ],
      "metadata": {
        "id": "pcm62bH8CRWz"
      }
    },
    {
      "cell_type": "markdown",
      "source": [
        "# ***practical question ***"
      ],
      "metadata": {
        "id": "xVUsb89MCigO"
      }
    },
    {
      "cell_type": "markdown",
      "source": [
        "\n",
        "1.create a 3*3 numpy array with random integers between 1 and 100. then interchange its rows and columns.\n"
      ],
      "metadata": {
        "id": "Yvsdr1AQCrOM"
      }
    },
    {
      "cell_type": "code",
      "source": [
        "import numpy as np\n",
        "\n",
        "# Create a 3x3 array with random integers between 1 and 100\n",
        "array = np.random.randint(1, 101, size=(3, 3))\n",
        "\n",
        "# Interchange rows and columns using transpose()\n",
        "transposed_array = array.transpose()\n",
        "\n",
        "# Print the original and transposed arrays\n",
        "print(\"Original array:\")\n",
        "print(array)\n",
        "print(\"\\nTransposed array:\")\n",
        "print(transposed_array)"
      ],
      "metadata": {
        "colab": {
          "base_uri": "https://localhost:8080/"
        },
        "id": "EugCH6FwCuqV",
        "outputId": "77ae2145-fb14-499b-b359-e9d494e522dc"
      },
      "execution_count": 1,
      "outputs": [
        {
          "output_type": "stream",
          "name": "stdout",
          "text": [
            "Original array:\n",
            "[[72 42 57]\n",
            " [23 77 55]\n",
            " [ 3 45 45]]\n",
            "\n",
            "Transposed array:\n",
            "[[72 23  3]\n",
            " [42 77 45]\n",
            " [57 55 45]]\n"
          ]
        }
      ]
    },
    {
      "cell_type": "markdown",
      "source": [
        "2.genrate a 1D numpy array with 10 elements . reshape it into 2*5 aray then into a 5*2.\n"
      ],
      "metadata": {
        "id": "dVKXAxiQC6V4"
      }
    },
    {
      "cell_type": "code",
      "source": [
        "import numpy as np\n",
        "\n",
        "# Create a 1D array with 10 elements\n",
        "array_1d = np.arange(10)\n",
        "\n",
        "# Reshape into a 2x5 array\n",
        "array_2x5 = array_1d.reshape(2, 5)\n",
        "\n",
        "# Reshape into a 5x2 array\n",
        "array_5x2 = array_1d.reshape(5, 2)\n",
        "\n",
        "# Print the arrays\n",
        "print(\"Original 1D array:\")\n",
        "print(array_1d)\n",
        "print(\"\\nReshaped 2x5 array:\")\n",
        "print(array_2x5)\n",
        "print(\"\\nReshaped 5x2 array:\")\n",
        "print(array_5x2)"
      ],
      "metadata": {
        "colab": {
          "base_uri": "https://localhost:8080/"
        },
        "id": "_ypzcDLwC1h7",
        "outputId": "927ea20a-50b7-4edc-e5bd-2dafdcdf875f"
      },
      "execution_count": 2,
      "outputs": [
        {
          "output_type": "stream",
          "name": "stdout",
          "text": [
            "Original 1D array:\n",
            "[0 1 2 3 4 5 6 7 8 9]\n",
            "\n",
            "Reshaped 2x5 array:\n",
            "[[0 1 2 3 4]\n",
            " [5 6 7 8 9]]\n",
            "\n",
            "Reshaped 5x2 array:\n",
            "[[0 1]\n",
            " [2 3]\n",
            " [4 5]\n",
            " [6 7]\n",
            " [8 9]]\n"
          ]
        }
      ]
    },
    {
      "cell_type": "markdown",
      "source": [
        "3.create a 4*4 numjpy array with random floot values .add a border of xeros around  it resulting in a 6*6 array.\n"
      ],
      "metadata": {
        "id": "ix_iyaOxDINh"
      }
    },
    {
      "cell_type": "code",
      "source": [
        "import numpy as np\n",
        "\n",
        "# Create a 4x4 array with random float values\n",
        "array_4x4 = np.random.rand(4, 4)\n",
        "\n",
        "# Add a border of zeros using pad\n",
        "array_6x6 = np.pad(array_4x4, pad_width=1, mode='constant', constant_values=0)\n",
        "\n",
        "# Print the arrays\n",
        "print(\"Original 4x4 array:\")\n",
        "print(array_4x4)\n",
        "print(\"\\n6x6 array with border of zeros:\")\n",
        "print(array_6x6)"
      ],
      "metadata": {
        "colab": {
          "base_uri": "https://localhost:8080/"
        },
        "id": "c415cpU3DD0e",
        "outputId": "e255d100-81bc-40a2-a134-5a7f3b9bf2a1"
      },
      "execution_count": 3,
      "outputs": [
        {
          "output_type": "stream",
          "name": "stdout",
          "text": [
            "Original 4x4 array:\n",
            "[[0.40440751 0.52222395 0.61976086 0.63436673]\n",
            " [0.69197124 0.95404589 0.64691795 0.10338327]\n",
            " [0.44509027 0.40251131 0.99203784 0.22786188]\n",
            " [0.56765278 0.45256571 0.64976795 0.80393078]]\n",
            "\n",
            "6x6 array with border of zeros:\n",
            "[[0.         0.         0.         0.         0.         0.        ]\n",
            " [0.         0.40440751 0.52222395 0.61976086 0.63436673 0.        ]\n",
            " [0.         0.69197124 0.95404589 0.64691795 0.10338327 0.        ]\n",
            " [0.         0.44509027 0.40251131 0.99203784 0.22786188 0.        ]\n",
            " [0.         0.56765278 0.45256571 0.64976795 0.80393078 0.        ]\n",
            " [0.         0.         0.         0.         0.         0.        ]]\n"
          ]
        }
      ]
    },
    {
      "cell_type": "markdown",
      "source": [
        "4.using numpy,create an array of integers from 10 to 60 with a step of 5.\n"
      ],
      "metadata": {
        "id": "txUVmBI8DRmu"
      }
    },
    {
      "cell_type": "code",
      "source": [
        "import numpy as np\n",
        "\n",
        "array = np.arange(10, 61, 5)\n",
        "print(array)"
      ],
      "metadata": {
        "colab": {
          "base_uri": "https://localhost:8080/"
        },
        "id": "rWBIBJ4gDQL7",
        "outputId": "4d410718-bf0e-4ec0-987e-906e8c6cd55b"
      },
      "execution_count": 4,
      "outputs": [
        {
          "output_type": "stream",
          "name": "stdout",
          "text": [
            "[10 15 20 25 30 35 40 45 50 55 60]\n"
          ]
        }
      ]
    },
    {
      "cell_type": "markdown",
      "source": [
        "5.create a numpy array of string [python ,numpy , pandas ]. apply  different case"
      ],
      "metadata": {
        "id": "nJrIj6hmDeyQ"
      }
    },
    {
      "cell_type": "code",
      "source": [
        "import numpy as np\n",
        "\n",
        "# Create the array\n",
        "arr = np.array(['python', 'numpy', 'pandas'])\n",
        "\n",
        "# Apply different case conversions\n",
        "lowercase = np.char.lower(arr)\n",
        "uppercase = np.char.upper(arr)\n",
        "titlecase = np.char.title(arr)\n",
        "swapcase = np.char.swapcase(arr)\n",
        "\n",
        "# Print the results\n",
        "print(\"Original array:\", arr)\n",
        "print(\"Lowercase:\", lowercase)\n",
        "print(\"Uppercase:\", uppercase)\n",
        "print(\"Titlecase:\", titlecase)\n",
        "print(\"Swapcase:\", swapcase)"
      ],
      "metadata": {
        "colab": {
          "base_uri": "https://localhost:8080/"
        },
        "id": "PwDXp6KlDY1z",
        "outputId": "36489e9b-4492-4756-9b13-788c4fa71061"
      },
      "execution_count": 5,
      "outputs": [
        {
          "output_type": "stream",
          "name": "stdout",
          "text": [
            "Original array: ['python' 'numpy' 'pandas']\n",
            "Lowercase: ['python' 'numpy' 'pandas']\n",
            "Uppercase: ['PYTHON' 'NUMPY' 'PANDAS']\n",
            "Titlecase: ['Python' 'Numpy' 'Pandas']\n",
            "Swapcase: ['PYTHON' 'NUMPY' 'PANDAS']\n"
          ]
        }
      ]
    },
    {
      "cell_type": "markdown",
      "source": [
        "6.genrate a numpy array  of words. insert a space between each character of every word in the array.\n"
      ],
      "metadata": {
        "id": "vq6ZEP7RDnxh"
      }
    },
    {
      "cell_type": "code",
      "source": [
        "import numpy as np\n",
        "\n",
        "# Create a NumPy array of words\n",
        "words = np.array(['hello', 'world', 'numpy'])\n",
        "\n",
        "# Insert a space between each character\n",
        "spaced_words = np.char.join(' ', words)\n",
        "\n",
        "# Print the result\n",
        "print(spaced_words)"
      ],
      "metadata": {
        "colab": {
          "base_uri": "https://localhost:8080/"
        },
        "id": "W-DQCJ0SDmyO",
        "outputId": "927bd6c8-fb81-4524-b5b2-3c7f22449d96"
      },
      "execution_count": 6,
      "outputs": [
        {
          "output_type": "stream",
          "name": "stdout",
          "text": [
            "['h e l l o' 'w o r l d' 'n u m p y']\n"
          ]
        }
      ]
    },
    {
      "cell_type": "markdown",
      "source": [
        "7.create two 2D numpy arrays and perform elements-wise addition,subtraction, multiplication , and dividion."
      ],
      "metadata": {
        "id": "ztngxKCyD0TK"
      }
    },
    {
      "cell_type": "code",
      "source": [
        "import numpy as np\n",
        "\n",
        "# Create two 2D arrays\n",
        "array1 = np.array([[1, 2, 3], [4, 5, 6]])\n",
        "array2 = np.array([[7, 8, 9], [10, 11, 12]])\n",
        "\n",
        "# Element-wise operations\n",
        "addition = array1 + array2\n",
        "subtraction = array1 - array2\n",
        "multiplication = array1 * array2\n",
        "division = array1 / array2\n",
        "\n",
        "# Print the results\n",
        "print(\"Array 1:\\n\", array1)\n",
        "print(\"\\nArray 2:\\n\", array2)\n",
        "print(\"\\nAddition:\\n\", addition)\n",
        "print(\"\\nSubtraction:\\n\", subtraction)\n",
        "print(\"\\nMultiplication:\\n\", multiplication)\n",
        "print(\"\\nDivision:\\n\", division)"
      ],
      "metadata": {
        "colab": {
          "base_uri": "https://localhost:8080/"
        },
        "id": "7LStVR4PDzAg",
        "outputId": "a7751673-73c5-40ae-bcde-a9c752284fad"
      },
      "execution_count": 7,
      "outputs": [
        {
          "output_type": "stream",
          "name": "stdout",
          "text": [
            "Array 1:\n",
            " [[1 2 3]\n",
            " [4 5 6]]\n",
            "\n",
            "Array 2:\n",
            " [[ 7  8  9]\n",
            " [10 11 12]]\n",
            "\n",
            "Addition:\n",
            " [[ 8 10 12]\n",
            " [14 16 18]]\n",
            "\n",
            "Subtraction:\n",
            " [[-6 -6 -6]\n",
            " [-6 -6 -6]]\n",
            "\n",
            "Multiplication:\n",
            " [[ 7 16 27]\n",
            " [40 55 72]]\n",
            "\n",
            "Division:\n",
            " [[0.14285714 0.25       0.33333333]\n",
            " [0.4        0.45454545 0.5       ]]\n"
          ]
        }
      ]
    },
    {
      "cell_type": "markdown",
      "source": [
        "8.use numpyto create a 5*5 identity matrix then extracts its diagonal elements .\n"
      ],
      "metadata": {
        "id": "VJV7ugsOD_cn"
      }
    },
    {
      "cell_type": "code",
      "source": [
        "import numpy as np\n",
        "\n",
        "# Create a 5x5 identity matrix\n",
        "identity_matrix = np.identity(5)\n",
        "\n",
        "# Extract diagonal elements\n",
        "diagonal_elements = np.diag(identity_matrix)\n",
        "\n",
        "# Print the results\n",
        "print(\"Identity matrix:\\n\", identity_matrix)\n",
        "print(\"\\nDiagonal elements:\", diagonal_elements)"
      ],
      "metadata": {
        "colab": {
          "base_uri": "https://localhost:8080/"
        },
        "id": "VqplJXisD74E",
        "outputId": "42bd8dd7-3c4e-4e86-a371-bfcdc49d0735"
      },
      "execution_count": 8,
      "outputs": [
        {
          "output_type": "stream",
          "name": "stdout",
          "text": [
            "Identity matrix:\n",
            " [[1. 0. 0. 0. 0.]\n",
            " [0. 1. 0. 0. 0.]\n",
            " [0. 0. 1. 0. 0.]\n",
            " [0. 0. 0. 1. 0.]\n",
            " [0. 0. 0. 0. 1.]]\n",
            "\n",
            "Diagonal elements: [1. 1. 1. 1. 1.]\n"
          ]
        }
      ]
    },
    {
      "cell_type": "markdown",
      "source": [
        "9.genrate a numpy array of 100 random integers between 0 and 1000. find and display all primes numbers in this array."
      ],
      "metadata": {
        "id": "cWtuFdhNEIGv"
      }
    },
    {
      "cell_type": "code",
      "source": [
        "import numpy as np\n",
        "\n",
        "def is_prime(n):\n",
        "    if n <= 1:\n",
        "        return False\n",
        "    for i in range(2, int(n**0.5) + 1):\n",
        "        if n % i == 0:\n",
        "            return False\n",
        "    return True\n",
        "\n",
        "# Generate random integers\n",
        "random_integers = np.random.randint(0, 1001, size=100)\n",
        "\n",
        "# Find prime numbers\n",
        "prime_numbers = [num for num in random_integers if is_prime(num)]\n",
        "\n",
        "# Display prime numbers\n",
        "print(\"Prime numbers in the array:\", prime_numbers)"
      ],
      "metadata": {
        "colab": {
          "base_uri": "https://localhost:8080/"
        },
        "id": "Je4JcQsXEGvt",
        "outputId": "9b6fe4b0-8001-44e5-9d85-7771f0ec96e2"
      },
      "execution_count": 9,
      "outputs": [
        {
          "output_type": "stream",
          "name": "stdout",
          "text": [
            "Prime numbers in the array: [107, 569, 389, 719, 499, 89, 673, 313, 109, 383, 503, 571, 23, 479, 397, 947, 947, 251, 163, 347, 179]\n"
          ]
        }
      ]
    },
    {
      "cell_type": "markdown",
      "source": [
        "10.create a numpy array representing daily temperature for a month .  calculate and display the weekly average.  \n",
        "\n"
      ],
      "metadata": {
        "id": "-XiIx9FgEVal"
      }
    },
    {
      "cell_type": "code",
      "source": [
        "import numpy as np\n",
        "\n",
        "# Assume 30 days in the month\n",
        "daily_temperatures = np.random.randint(20, 35, size=30)  # Example temperatures\n",
        "\n",
        "# Reshape for weekly averages (4 weeks + 2 extra days)\n",
        "weekly_temperatures = daily_temperatures[:28].reshape(4, 7)\n",
        "\n",
        "# Calculate weekly averages\n",
        "weekly_averages = np.mean(weekly_temperatures, axis=1)\n",
        "\n",
        "# Display the results\n",
        "print(\"Daily Temperatures:\", daily_temperatures)\n",
        "print(\"\\nWeekly Averages:\", weekly_averages)"
      ],
      "metadata": {
        "id": "TW34EtcvEiAq",
        "outputId": "d47b89fd-49b5-4d3c-dc25-55c2074d8aec",
        "colab": {
          "base_uri": "https://localhost:8080/"
        }
      },
      "execution_count": 10,
      "outputs": [
        {
          "output_type": "stream",
          "name": "stdout",
          "text": [
            "Daily Temperatures: [25 23 33 27 25 29 33 34 20 29 32 28 23 33 23 30 20 22 25 20 21 21 34 25\n",
            " 32 30 21 22 30 27]\n",
            "\n",
            "Weekly Averages: [27.85714286 28.42857143 23.         26.42857143]\n"
          ]
        }
      ]
    },
    {
      "cell_type": "code",
      "source": [],
      "metadata": {
        "id": "YfsrcPC8Ea_u"
      },
      "execution_count": null,
      "outputs": []
    }
  ]
}