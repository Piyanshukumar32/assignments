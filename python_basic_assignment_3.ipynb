{
  "nbformat": 4,
  "nbformat_minor": 0,
  "metadata": {
    "colab": {
      "provenance": []
    },
    "kernelspec": {
      "name": "python3",
      "display_name": "Python 3"
    },
    "language_info": {
      "name": "python"
    }
  },
  "cells": [
    {
      "cell_type": "code",
      "execution_count": 2,
      "metadata": {
        "colab": {
          "base_uri": "https://localhost:8080/"
        },
        "id": "UYOYJPtvvWz0",
        "outputId": "a303e77a-e13d-4b56-9d2a-ce7374743711"
      },
      "outputs": [
        {
          "output_type": "stream",
          "name": "stdout",
          "text": [
            "olleh\n"
          ]
        }
      ],
      "source": [
        "my_string = \"hello\"\n",
        "reversed_string = reverse_string(my_string)\n",
        "print(reversed_string)"
      ]
    },
    {
      "cell_type": "markdown",
      "source": [
        "1.what a code to reverse a string.\n",
        "\n",
        "Define a function: The code defines a function called reverse_string that accepts one argument, the string to be reversed (s).\n",
        "String slicing: Inside the function, the string slicing technique [::-1] is used. This creates a reversed copy of the string.\n",
        "Return: The reversed string is returned by the function."
      ],
      "metadata": {
        "id": "E4v3JDySvnZP"
      }
    },
    {
      "cell_type": "code",
      "source": [
        "#answer\n",
        "def count_vowels(text):\n",
        "    vowels = \"aeiouAEIOU\"\n",
        "    vowel_count = 0\n",
        "    for char in text:\n",
        "        if char in vowels:\n",
        "            vowel_count += 1\n",
        "    return vowel_count"
      ],
      "metadata": {
        "id": "q-LCCI17wVq7"
      },
      "execution_count": 4,
      "outputs": []
    },
    {
      "cell_type": "markdown",
      "source": [
        "2.write a code to count the number of vowels in a string?\n",
        "\n",
        "ans:-"
      ],
      "metadata": {
        "id": "Cr67xVR7wWqI"
      }
    },
    {
      "cell_type": "markdown",
      "source": [
        "3.write a code to check if given string is palindrom or not."
      ],
      "metadata": {
        "id": "4BfkS5zfwpBo"
      }
    },
    {
      "cell_type": "code",
      "source": [
        "#answer\n",
        "def is_palindrome(string):\n",
        "  string = string.lower()  # ignore case\n",
        "  return string == string[::-1]  # compare string to its reverse\n"
      ],
      "metadata": {
        "id": "OM4KB7gAwrzt"
      },
      "execution_count": 5,
      "outputs": []
    },
    {
      "cell_type": "code",
      "source": [],
      "metadata": {
        "id": "4vOaBuMkwxxy"
      },
      "execution_count": null,
      "outputs": []
    },
    {
      "cell_type": "markdown",
      "source": [
        "4.write a code to check if a given string are anagrams of each other."
      ],
      "metadata": {
        "id": "lhxVg7f9wzXT"
      }
    },
    {
      "cell_type": "code",
      "source": [
        "#answer\n",
        "def is_palindrome(string):\n",
        "  string = string.lower()  # ignore case\n",
        "  return string == string[::-1]  # compare string to its reverse\n",
        "\n",
        "def are_anagrams(string1, string2):\n",
        "  \"\"\"Checks if two strings are anagrams of each other.\n",
        "\n",
        "  Args:\n",
        "    string1: The first string.\n",
        "    string2: The second string.\n",
        "\n",
        "  Returns:\n",
        "    True if the strings are anagrams, False otherwise.\n",
        "  \"\"\"\n",
        "  string1 = string1.lower()  # ignore case\n",
        "  string2 = string2.lower()  # ignore case\n",
        "  return sorted(string1) == sorted(string2)  # compare sorted strings\n",
        "\n",
        "\n",
        "string1 = \"listen\"\n",
        "string2 = \"silent\"\n",
        "print(are_anagrams(string1, string2))  # Output: True"
      ],
      "metadata": {
        "colab": {
          "base_uri": "https://localhost:8080/"
        },
        "id": "sLdpODhcxFcV",
        "outputId": "29abcb15-205b-44db-8293-f6cc7d392dee"
      },
      "execution_count": 7,
      "outputs": [
        {
          "output_type": "stream",
          "name": "stdout",
          "text": [
            "True\n"
          ]
        }
      ]
    },
    {
      "cell_type": "code",
      "source": [],
      "metadata": {
        "id": "ysyD1t5LxIOW"
      },
      "execution_count": null,
      "outputs": []
    },
    {
      "cell_type": "markdown",
      "source": [
        "5.write a code to find all occurrences of a given substring within another string."
      ],
      "metadata": {
        "id": "D6lVXAUUxfHX"
      }
    },
    {
      "cell_type": "code",
      "source": [
        "#answer\n",
        "def find_all_occurrences(main_string, substring):\n",
        "  \"\"\"Finds all occurrences of a substring within a main string.\n",
        "\n",
        "  Args:\n",
        "    main_string: The string to search within.\n",
        "    substring: The substring to search for.\n",
        "\n",
        "  Returns:\n",
        "    A list of starting indices of all occurrences of the substring in the main string.\n",
        "  \"\"\"\n",
        "  occurrences = []\n",
        "  start = 0\n",
        "  while True:\n",
        "    index = main_string.find(substring, start)\n",
        "    if index == -1:  # If substring not found\n",
        "      break\n",
        "    occurrences.append(index)\n",
        "    start = index + 1  # Move search start to after the current occurrence\n",
        "\n",
        "  return occurrences\n",
        "\n",
        "# Example usage:\n",
        "main_string = \"hello world, hello again\"\n",
        "#answer\n",
        "def find_all_occurrences(main_string, substring):\n",
        "  \"\"\"Finds all occurrences of a substring within a main string.\n",
        "\n",
        "  Args:\n",
        "    main_string: The string to search within.\n",
        "    substring: The substring to search for.\n",
        "\n",
        "  Returns:\n",
        "    A list of starting indices of all occurrences of the substring in the main string.\n",
        "  \"\"\"\n",
        "  occurrences = []\n",
        "  start = 0\n",
        "  while True:\n",
        "    index = main_string.find(substring, start)\n",
        "    if index == -1:  # If substring not found\n",
        "      break\n",
        "    occurrences.append(index)\n",
        "    start = index + 1  # Move search start to after the current occurrence\n",
        "\n",
        "  return occurrences\n",
        "\n",
        "# Example usage:\n",
        "main_string = \"hello world, hello again\"\n",
        "substring = \"hello\"\n",
        "indices = find_all_occurrences(main_string, substring)\n",
        "print(indices)"
      ],
      "metadata": {
        "colab": {
          "base_uri": "https://localhost:8080/"
        },
        "id": "mi7IgyyUxpOb",
        "outputId": "cd1c02e3-28a6-409d-d537-db0706a9f456"
      },
      "execution_count": 9,
      "outputs": [
        {
          "output_type": "stream",
          "name": "stdout",
          "text": [
            "[0, 13]\n"
          ]
        }
      ]
    },
    {
      "cell_type": "markdown",
      "source": [
        "6.wrute acode to perform basic string compression using the counts of repeated charactes."
      ],
      "metadata": {
        "id": "NUnZWwKjxxeO"
      }
    },
    {
      "cell_type": "code",
      "source": [
        "#answer\n",
        "def compress_string(text):\n",
        "  \"\"\"Compresses a string using the counts of repeated characters.\n",
        "\n",
        "  Args:\n",
        "    text: The string to compress.\n",
        "\n",
        "  Returns:\n",
        "    The compressed string.\n",
        "  \"\"\"\n",
        "\n",
        "  if not text:  # Handle empty string\n",
        "    return \"\"\n",
        "\n",
        "  compressed = \"\"\n",
        "  count = 1\n",
        "  for i in range(1, len(text)):\n",
        "    if text[i] == text[i - 1]:\n",
        "      count += 1\n",
        "    else:\n",
        "      compressed += text[i - 1] + (str(count) if count > 1 else \"\")\n",
        "      count = 1  # Reset count for new character\n",
        "\n",
        "  # Add the last character and its count\n",
        "  compressed += text[-1] + (str(count) if count > 1 else \"\")\n",
        "\n",
        "  return compressed if len(compressed) < len(text) else text\n",
        "\n",
        "# Example usage:\n",
        "string1 = \"aabcccccaaa\"\n",
        "string2 = \"abc\"\n",
        "print(f\"'{string1}' compressed: {compress_string(string1)}\")\n",
        "print(f\"'{string2}' compressed: {compress_string(string2)}\")"
      ],
      "metadata": {
        "colab": {
          "base_uri": "https://localhost:8080/"
        },
        "id": "11zAaJbGxrpi",
        "outputId": "a9c9f725-d94e-4469-9be1-bac25fc96c4d"
      },
      "execution_count": 10,
      "outputs": [
        {
          "output_type": "stream",
          "name": "stdout",
          "text": [
            "'aabcccccaaa' compressed: a2bc5a3\n",
            "'abc' compressed: abc\n"
          ]
        }
      ]
    },
    {
      "cell_type": "code",
      "source": [],
      "metadata": {
        "id": "41r2YRqYyDYf"
      },
      "execution_count": null,
      "outputs": []
    },
    {
      "cell_type": "markdown",
      "source": [
        "7.write a code to determine a string has all unique charcters."
      ],
      "metadata": {
        "id": "DcrZN_4ZyIGd"
      }
    },
    {
      "cell_type": "code",
      "source": [
        "#answer\n",
        "def has_unique_characters(text):\n",
        "  \"\"\"Determines if a string has all unique characters.\n",
        "\n",
        "  Args:\n",
        "    text: The string to check.\n",
        "\n",
        "  Returns:\n",
        "    True if the string has all unique characters, False otherwise.\n",
        "  \"\"\"\n",
        "\n",
        "  # Using a set for efficient character tracking\n",
        "  seen_characters = set()\n",
        "\n",
        "  for char in text:\n",
        "    if char in seen_characters:\n",
        "      return False  # Character already seen, not unique\n",
        "    seen_characters.add(char)\n",
        "\n",
        "  return True  # All characters are unique\n",
        "\n",
        "# Example usage:\n",
        "string1 = \"abcdefg\"\n",
        "string2 = \"abacada\"\n",
        "\n",
        "print(f\"'{string1}' has unique characters: {has_unique_characters(string1)}\")\n",
        "print(f\"'{string2}' has unique characters: {has_unique_characters(string2)}\")"
      ],
      "metadata": {
        "colab": {
          "base_uri": "https://localhost:8080/"
        },
        "id": "yP4dOuxPyRMQ",
        "outputId": "7525e794-53e4-4d46-f085-0f199a46ba71"
      },
      "execution_count": 11,
      "outputs": [
        {
          "output_type": "stream",
          "name": "stdout",
          "text": [
            "'abcdefg' has unique characters: True\n",
            "'abacada' has unique characters: False\n"
          ]
        }
      ]
    },
    {
      "cell_type": "markdown",
      "source": [
        "8.write a code to convert given string to uppercase or lower cases."
      ],
      "metadata": {
        "id": "6akNAA2kyXX0"
      }
    },
    {
      "cell_type": "code",
      "source": [
        "#answer\n",
        "def convert_case(text, to_upper=True):\n",
        "  \"\"\"Converts a string to uppercase or lowercase.\n",
        "\n",
        "  Args:\n",
        "    text: The string to convert.\n",
        "    to_upper: If True, convert to uppercase. If False, convert to lowercase.\n",
        "              Defaults to True.\n",
        "\n",
        "  Returns:\n",
        "    The converted string.\n",
        "  \"\"\"\n",
        "\n",
        "  if to_upper:\n",
        "    return text.upper()\n",
        "  else:\n",
        "    return text.lower()\n",
        "\n",
        "# Example usage:\n",
        "string = \"Hello World\"\n",
        "\n",
        "uppercase_string = convert_case(string)  # Convert to uppercase (default)\n",
        "lowercase_string = convert_case(string, to_upper=False)  # Convert to lowercase\n",
        "\n",
        "print(f\"Original string: {string}\")\n",
        "print(f\"Uppercase string: {uppercase_string}\")\n",
        "print(f\"Lowercase string: {lowercase_string}\")"
      ],
      "metadata": {
        "colab": {
          "base_uri": "https://localhost:8080/"
        },
        "id": "ujAOtHo2yT-T",
        "outputId": "a4ed2a33-648d-4f18-8e91-98bbef46d413"
      },
      "execution_count": 13,
      "outputs": [
        {
          "output_type": "stream",
          "name": "stdout",
          "text": [
            "Original string: Hello World\n",
            "Uppercase string: HELLO WORLD\n",
            "Lowercase string: hello world\n"
          ]
        }
      ]
    },
    {
      "cell_type": "markdown",
      "source": [
        "9.write a code to count the number of words in a string."
      ],
      "metadata": {
        "id": "NcgTukvmyzEs"
      }
    },
    {
      "cell_type": "code",
      "source": [
        "\n",
        "def count_words(text):\n",
        "  \"\"\"Counts the number of words in a string.\n",
        "\n",
        "  Args:\n",
        "    text: The string to analyze.\n",
        "\n",
        "  Returns:\n",
        "    The number of words in the string.\n",
        "  \"\"\"\n",
        "\n",
        "  # Split the string into words using spaces as delimiters\n",
        "  words = text.split()\n",
        "\n",
        "  # Return the number of words\n",
        "  return len(words)\n",
        "\n",
        "# Example usage:\n",
        "string = \"This is a test string with multiple words.\"\n",
        "word_count = count_words(string)\n",
        "\n",
        "print(f\"The string '{string}' has {word_count} words.\")\n"
      ],
      "metadata": {
        "colab": {
          "base_uri": "https://localhost:8080/"
        },
        "id": "7Bqa8RUNyVwn",
        "outputId": "5166e964-d100-474d-e642-afb544544043"
      },
      "execution_count": 14,
      "outputs": [
        {
          "output_type": "stream",
          "name": "stdout",
          "text": [
            "The string 'This is a test string with multiple words.' has 8 words.\n"
          ]
        }
      ]
    },
    {
      "cell_type": "markdown",
      "source": [
        "10.write a code to concatenate two string without using the operator."
      ],
      "metadata": {
        "id": "6rMirXEBzDf3"
      }
    },
    {
      "cell_type": "code",
      "source": [
        "def concatenate_strings(str1, str2):\n",
        "  \"\"\"Concatenates two strings without using the '+' operator.\n",
        "\n",
        "  Args:\n",
        "    str1: The first string.\n",
        "    str2: The second string.\n",
        "\n",
        "  Returns:\n",
        "    The concatenated string.\n",
        "  \"\"\"\n",
        "\n",
        "  # Using join() method for string concatenation\n",
        "  return \"\".join([str1, str2])\n",
        "\n",
        "# Example usage\n",
        "string1 = \"Hello\"\n",
        "string2 = \"World\"\n",
        "\n",
        "concatenated_string = concatenate_strings(string1, string2)\n",
        "\n",
        "print(f\"Concatenated string: {concatenated_string}\")"
      ],
      "metadata": {
        "colab": {
          "base_uri": "https://localhost:8080/"
        },
        "id": "iBt-ZIyTzH9I",
        "outputId": "ceb08b07-9073-42b4-b8ec-eb2e906f12b5"
      },
      "execution_count": 15,
      "outputs": [
        {
          "output_type": "stream",
          "name": "stdout",
          "text": [
            "Concatenated string: HelloWorld\n"
          ]
        }
      ]
    },
    {
      "cell_type": "markdown",
      "source": [
        "11.write a code to remove all occurrences of a specific element from alist."
      ],
      "metadata": {
        "id": "6xqEnGZ4zN0E"
      }
    },
    {
      "cell_type": "code",
      "source": [
        "#answer\n",
        "def remove_all_occurrences(lst, element):\n",
        "  \"\"\"Removes all occurrences of a specific element from a list.\n",
        "\n",
        "  Args:\n",
        "    lst: The list to modify.\n",
        "    element: The element to remove.\n",
        "\n",
        "  Returns:\n",
        "    The modified list with all occurrences of the element removed.\n",
        "  \"\"\"\n",
        "\n",
        "  #using list comprehensions for filtering the list\n",
        "  return [x for x in lst if x != element]\n",
        "\n",
        "# Example usage:\n",
        "my_list = [1, 2, 3, 2, 4, 2, 5]\n",
        "element_to_remove = 2\n",
        "\n",
        "modified_list = remove_all_occurrences(my_list, element_to_remove)\n",
        "\n",
        "print(f\"Original list: {my_list}\")\n",
        "print(f\"Modified list: {modified_list}\")\n"
      ],
      "metadata": {
        "colab": {
          "base_uri": "https://localhost:8080/"
        },
        "id": "J31p3PT1zMgP",
        "outputId": "5ffceb96-f6d8-4a69-992b-28291b76c102"
      },
      "execution_count": 16,
      "outputs": [
        {
          "output_type": "stream",
          "name": "stdout",
          "text": [
            "Original list: [1, 2, 3, 2, 4, 2, 5]\n",
            "Modified list: [1, 3, 4, 5]\n"
          ]
        }
      ]
    },
    {
      "cell_type": "markdown",
      "source": [
        "12.implement a code tofind the second largest number in agiven list of integers."
      ],
      "metadata": {
        "id": "LVrsVEm3zd6N"
      }
    },
    {
      "cell_type": "code",
      "source": [
        "#answer\n",
        "def find_second_largest(numbers):\n",
        "  \"\"\"Finds the second largest number in a list of integers.\n",
        "\n",
        "  Args:\n",
        "    numbers: A list of integers.\n",
        "\n",
        "  Returns:\n",
        "    The second largest number in the list, or None if the list has fewer\n",
        "    than 2 elements or if all elements are the same.\n",
        "  \"\"\"\n",
        "\n",
        "  if len(numbers) < 2:\n",
        "    return None  # List is too small\n",
        "\n",
        "  # Remove duplicates and sort the list\n",
        "  unique_numbers = sorted(list(set(numbers)), reverse=True)\n",
        "\n",
        "  if len(unique_numbers) < 2:\n",
        "      return None  # All elements are the same\n",
        "\n",
        "  return unique_numbers[1] # Second largest element\n",
        "\n",
        "# Example usage\n",
        "numbers = [10, 5, 20, 15, 5, 20]\n",
        "second_largest = find_second_largest(numbers) # Corrected the function call\n",
        "print(second_largest)"
      ],
      "metadata": {
        "colab": {
          "base_uri": "https://localhost:8080/"
        },
        "id": "gDhfiNpszYkP",
        "outputId": "a959edeb-1bea-4e8f-fd97-9dbc30a2ad1c"
      },
      "execution_count": 18,
      "outputs": [
        {
          "output_type": "stream",
          "name": "stdout",
          "text": [
            "15\n"
          ]
        }
      ]
    },
    {
      "cell_type": "markdown",
      "source": [
        "13.create a code to count the occurrences of each elerment in a list and return a dictionary with elements as a key and their counts as values.\n"
      ],
      "metadata": {
        "id": "b3uo39Tnz5nS"
      }
    },
    {
      "cell_type": "code",
      "source": [
        "#answer\n",
        "from collections import Counter\n",
        "\n",
        "def count_elements(lst):\n",
        "  \"\"\"Counts the occurrences of each element in a list.\n",
        "\n",
        "  Args:\n",
        "    lst: The input list.\n",
        "\n",
        "  Returns:\n",
        "    A dictionary with elements as keys and their counts as values.\n",
        "  \"\"\"\n",
        "\n",
        "  # Using collections.Counter for efficient counting\n",
        "  element_counts = Counter(lst)\n",
        "  return dict(element_counts)\n",
        "\n",
        "# Example usage\n",
        "my_list = [1, 2, 2, 3, 3, 3, 4, 4, 4, 4]\n",
        "counts = count_elements(my_list)\n",
        "\n",
        "print(f\"List: {my_list}\")\n",
        "print(f\"Element Counts: {counts}\")"
      ],
      "metadata": {
        "colab": {
          "base_uri": "https://localhost:8080/"
        },
        "id": "mZeqDAI7zpvw",
        "outputId": "bde047fe-9b9a-4159-d3f2-4a4640a79ab2"
      },
      "execution_count": 19,
      "outputs": [
        {
          "output_type": "stream",
          "name": "stdout",
          "text": [
            "List: [1, 2, 2, 3, 3, 3, 4, 4, 4, 4]\n",
            "Element Counts: {1: 1, 2: 2, 3: 3, 4: 4}\n"
          ]
        }
      ]
    },
    {
      "cell_type": "markdown",
      "source": [
        "def reverse_list_in_place(lst):\n",
        "  \"\"\"Reverses a list in-place without using built-in reverse functions.\n",
        "\n",
        "  Args:\n",
        "    lst: The list to be reversed.\n",
        "\n",
        "  Returns:\n",
        "    None (modifies the list in-place).\n",
        "  \"\"\"\n",
        "\n",
        "  left, right = 0, len(lst) - 1\n",
        "  while left < right:\n",
        "    lst[left], lst[right] = lst[right], lst[left]  # Swap elements\n",
        "    left += 1\n",
        "    right -= 1\n",
        "\n",
        "# Example usage\n",
        "my_list = [1, 2, 3, 4, 5]\n",
        "reverse_list_in_place(my_list)\n",
        "print(f\"Reversed list: {my_list}\")"
      ],
      "metadata": {
        "id": "HbVC1H8y0LZw"
      }
    },
    {
      "cell_type": "code",
      "source": [
        "#answer\n",
        "def reverse_list_in_place(lst):\n",
        "  \"\"\"Reverses a list in-place without using built-in reverse functions.\n",
        "\n",
        "  Args:\n",
        "    lst: The list to be reversed.\n",
        "\n",
        "  Returns:\n",
        "    None (modifies the list in-place).\n",
        "  \"\"\"\n",
        "\n",
        "  left, right = 0, len(lst) - 1\n",
        "  while left < right:\n",
        "    lst[left], lst[right] = lst[right], lst[left]  # Swap elements\n",
        "    left += 1\n",
        "    right -= 1\n",
        "\n",
        "# Example usage\n",
        "my_list = [1, 2, 3, 4, 5]\n",
        "reverse_list_in_place(my_list)\n",
        "print(f\"Reversed list: {my_list}\")"
      ],
      "metadata": {
        "colab": {
          "base_uri": "https://localhost:8080/"
        },
        "id": "mZmHScu60Jo3",
        "outputId": "6af833f4-77a4-4d7a-a105-6a8d4098f254"
      },
      "execution_count": 20,
      "outputs": [
        {
          "output_type": "stream",
          "name": "stdout",
          "text": [
            "Reversed list: [5, 4, 3, 2, 1]\n"
          ]
        }
      ]
    },
    {
      "cell_type": "markdown",
      "source": [
        "15.implement a code to find and remove duplicates from alist while preserving the order of elements.\n"
      ],
      "metadata": {
        "id": "vK-ht0r90XgZ"
      }
    },
    {
      "cell_type": "code",
      "source": [
        "def remove_duplicates_preserve_order(lst):\n",
        "  \"\"\"Removes duplicates from a list while preserving the order of elements.\n",
        "\n",
        "  Args:\n",
        "    lst: The input list.\n",
        "\n",
        "  Returns:\n",
        "    A new list with duplicates removed, preserving the original order.\n",
        "  \"\"\"\n",
        "\n",
        "  seen = set()\n",
        "  result = []\n",
        "  for item in lst:\n",
        "    if item not in seen:\n",
        "      seen.add(item)\n",
        "      result.append(item)\n",
        "  return result\n",
        "\n",
        "# Example usage\n",
        "my_list = [1, 2, 2, 3, 4, 3, 5, 4]\n",
        "unique_list = remove_duplicates_preserve_order(my_list)\n",
        "print(f\"Original list: {my_list}\")\n",
        "print(f\"List with duplicates removed: {unique_list}\")"
      ],
      "metadata": {
        "colab": {
          "base_uri": "https://localhost:8080/"
        },
        "id": "5ID-14X90WIk",
        "outputId": "b64c091c-a9f4-4136-d85a-164b632c3be2"
      },
      "execution_count": 24,
      "outputs": [
        {
          "output_type": "stream",
          "name": "stdout",
          "text": [
            "Original list: [1, 2, 2, 3, 4, 3, 5, 4]\n",
            "List with duplicates removed: [1, 2, 3, 4, 5]\n"
          ]
        }
      ]
    },
    {
      "cell_type": "markdown",
      "source": [
        "16.create a code to check if a given list is sorted (either in ascending or decending order)or not.\n"
      ],
      "metadata": {
        "id": "aq_pUld31CeR"
      }
    },
    {
      "cell_type": "code",
      "source": [
        "#answer\n",
        "def is_sorted(lst):\n",
        "    \"\"\"Checks if a list is sorted in ascending or descending order.\n",
        "\n",
        "    Args:\n",
        "        lst: The list to check.\n",
        "\n",
        "    Returns:\n",
        "        True if the list is sorted, False otherwise.\n",
        "    \"\"\"\n",
        "    n = len(lst)\n",
        "\n",
        "    # Check for ascending order\n",
        "    is_ascending = all(lst[i] <= lst[i + 1] for i in range(n - 1))\n",
        "\n",
        "    # Check for descending order\n",
        "    is_descending = all(lst[i] >= lst[i + 1] for i in range(n - 1))\n",
        "\n",
        "    # Return True if either ascending or descending\n",
        "    return is_ascending or is_descending\n",
        "\n",
        "\n",
        "# Example usage\n",
        "my_list1 = [1, 2, 3, 4, 5]  # Ascending\n",
        "my_list2 = [5, 4, 3, 2, 1]  # Descending\n",
        "my_list3 = [1, 3, 2, 4, 5]  # Not sorted\n",
        "\n",
        "print(f\"List 1 is sorted: {is_sorted(my_list1)}\")\n",
        "print(f\"List 2 is sorted: {is_sorted(my_list2)}\")\n",
        "print(f\"List 3 is sorted: {is_sorted(my_list3)}\")\n"
      ],
      "metadata": {
        "colab": {
          "base_uri": "https://localhost:8080/"
        },
        "id": "MxrObK9O0mEc",
        "outputId": "989b1990-dacd-4b95-ff4d-a8e5c9bceced"
      },
      "execution_count": 25,
      "outputs": [
        {
          "output_type": "stream",
          "name": "stdout",
          "text": [
            "List 1 is sorted: True\n",
            "List 2 is sorted: True\n",
            "List 3 is sorted: False\n"
          ]
        }
      ]
    },
    {
      "cell_type": "markdown",
      "source": [
        "17.write a code to merge sorted list into a single sorted list.\n"
      ],
      "metadata": {
        "id": "mOd9JhR41SBV"
      }
    },
    {
      "cell_type": "code",
      "source": [
        "#answer\n",
        "def merge_sorted_lists(list1, list2):\n",
        "    \"\"\"Merges two sorted lists into a single sorted list.\n",
        "\n",
        "    Args:\n",
        "        list1: The first sorted list.\n",
        "        list2: The second sorted list.\n",
        "\n",
        "    Returns:\n",
        "        A new sorted list containing all elements from list1 and list2.\n",
        "    \"\"\"\n",
        "    merged_list = []\n",
        "    i = j = 0  # Pointers for list1 and list2\n",
        "\n",
        "    # Iterate until one list is exhausted\n",
        "    while i < len(list1) and j < len(list2):\n",
        "        if list1[i] <= list2[j]:\n",
        "            merged_list.append(list1[i])\n",
        "            i += 1\n",
        "        else:\n",
        "            merged_list.append(list2[j])\n",
        "            j += 1\n",
        "\n",
        "    # Add any remaining elements from list1\n",
        "    merged_list.extend(list1[i:])\n",
        "#answer\n",
        "def merge_sorted_lists(list1, list2):\n",
        "    \"\"\"Merges two sorted lists into a single sorted list.\n",
        "\n",
        "    Args:\n",
        "        list1: The first sorted list.\n",
        "        list2: The second sorted list.\n",
        "\n",
        "    Returns:\n",
        "        A new sorted list containing all elements from list1 and list2.\n",
        "    \"\"\"\n",
        "    merged_list = []\n",
        "    i = j = 0  # Pointers for list1 and list2\n",
        "\n",
        "    # Iterate until one list is exhausted\n",
        "    while i < len(list1) and j < len(list2):\n",
        "        if list1[i] <= list2[j]:\n",
        "            merged_list.append(list1[i])\n",
        "            i += 1\n",
        "        else:\n",
        "            merged_list.append(list2[j])\n",
        "            j += 1\n",
        "\n",
        "    # Add any remaining elements from list1\n",
        "    merged_list.extend(list1[i:])\n",
        "\n",
        "    # Add any remaining elements from list2\n",
        "    merged_list.extend(list2[j:])\n",
        "\n",
        "    return merged_list"
      ],
      "metadata": {
        "id": "22kEyF1k1QO_"
      },
      "execution_count": 28,
      "outputs": []
    },
    {
      "cell_type": "markdown",
      "source": [
        "18.imlement to find a the intersection of two given list."
      ],
      "metadata": {
        "id": "0Is1NvVj1glY"
      }
    },
    {
      "cell_type": "code",
      "source": [
        "#answer\n",
        "def find_intersection(list1, list2):\n",
        "    \"\"\"Finds the intersection of two lists.\n",
        "\n",
        "    Args:\n",
        "        list1: The first list.\n",
        "        list2: The second list.\n",
        "\n",
        "    Returns:\n",
        "        A new list containing the common elements of list1 and list2.\n",
        "    \"\"\"\n",
        "    # Convert lists to sets for efficient intersection\n",
        "    set1 = set(list1)\n",
        "    set2 = set(list2)\n",
        "\n",
        "    # Find the intersection using the & operator\n",
        "    intersection_set = set1 & set2\n",
        "\n",
        "    # Convert the intersection set back to a list\n",
        "    intersection_list = list(intersection_set)\n",
        "\n",
        "    return intersection_list\n",
        "\n",
        "# Example usage\n",
        "list1 = [1, 2, 3, 4, 5]\n",
        "#answer\n",
        "def find_intersection(list1, list2):\n",
        "    \"\"\"Finds the intersection of two lists.\n",
        "\n",
        "    Args:\n",
        "        list1: The first list.\n",
        "        list2: The second list.\n",
        "\n",
        "    Returns:\n",
        "        A new list containing the common elements of list1 and list2.\n",
        "    \"\"\"\n",
        "    # Convert lists to sets for efficient intersection\n",
        "    set1 = set(list1)\n",
        "    set2 = set(list2)\n",
        "\n",
        "    # Find the intersection using the & operator\n",
        "    intersection_set = set1 & set2\n",
        "\n",
        "    # Convert the intersection set back to a list\n",
        "    intersection_list = list(intersection_set)\n",
        "\n",
        "    return intersection_list\n",
        "\n",
        "# Example usage\n",
        "list1 = [1, 2, 3, 4, 5]\n",
        "list2 = [3, 5, 6, 7, 8]\n",
        "\n",
        "intersection = find_intersection(list1, list2)\n",
        "print(intersection)"
      ],
      "metadata": {
        "colab": {
          "base_uri": "https://localhost:8080/"
        },
        "id": "HwS-Fw7e1aZb",
        "outputId": "982a033d-bf27-4564-8e6a-2868832e8e41"
      },
      "execution_count": 30,
      "outputs": [
        {
          "output_type": "stream",
          "name": "stdout",
          "text": [
            "[3, 5]\n"
          ]
        }
      ]
    },
    {
      "cell_type": "markdown",
      "source": [
        "19.create a code to find the union of two list without duplicates."
      ],
      "metadata": {
        "id": "ClkkQmxJ1zzS"
      }
    },
    {
      "cell_type": "code",
      "source": [
        "#answer\n",
        "def find_union(list1, list2):\n",
        "    \"\"\"Finds the union of two lists without duplicates.\n",
        "\n",
        "    Args:\n",
        "        list1: The first list.\n",
        "        list2: The second list.\n",
        "\n",
        "    Returns:\n",
        "        A new list containing all unique elements from both lists.\n",
        "    \"\"\"\n",
        "    # Concatenate the lists and convert to a set to remove duplicates\n",
        "    union_set = set(list1 + list2)\n",
        "\n",
        "    # Convert the set back to a list to preserve order (optional)\n",
        "    union_list = list(union_set)\n",
        "\n",
        "    return union_list\n",
        "\n",
        "# Example usage\n",
        "list1 = [1, 2, 3, 4, 5]\n",
        "list2 = [3, 5, 6, 7, 8]\n",
        "\n",
        "union = find_union(list1, list2)\n",
        "print(f\"Union of lists (without duplicates): {union}\")\n"
      ],
      "metadata": {
        "colab": {
          "base_uri": "https://localhost:8080/"
        },
        "id": "0x8wSM4Y1tNa",
        "outputId": "1464bad5-19a6-4917-a68e-3539ea1683d4"
      },
      "execution_count": 31,
      "outputs": [
        {
          "output_type": "stream",
          "name": "stdout",
          "text": [
            "Union of lists (without duplicates): [1, 2, 3, 4, 5, 6, 7, 8]\n"
          ]
        }
      ]
    },
    {
      "cell_type": "markdown",
      "source": [
        "20.write code to shuffle a given number list randomly without using a any built-in dhuffle function."
      ],
      "metadata": {
        "id": "QMkv_Ja12A4W"
      }
    },
    {
      "cell_type": "code",
      "source": [
        "#answer\n",
        "import random\n",
        "\n",
        "def shuffle_list(lst):\n",
        "    \"\"\"Shuffles a list randomly without using built-in shuffle functions.\n",
        "\n",
        "    Args:\n",
        "        lst: The list to be shuffled.\n",
        "\n",
        "    Returns:\n",
        "        The shuffled list.\n",
        "    \"\"\"\n",
        "    n = len(lst)\n",
        "    for i in range(n - 1, 0, -1):\n",
        "        j = random.randint(0, i)  # Generate random index between 0 and i\n",
        "        lst[i], lst[j] = lst[j], lst[i]  # Swap elements at indices i and j\n",
        "    return lst\n",
        "\n",
        "# Example usage\n",
        "my_list = [1, 2, 3, 4, 5, 6, 7, 8, 9, 10]\n",
        "shuffled_list = shuffle_list(my_list)\n",
        "print(f\"Shuffled list: {shuffled_list}\")"
      ],
      "metadata": {
        "colab": {
          "base_uri": "https://localhost:8080/"
        },
        "id": "D8Z-cd9J19Nd",
        "outputId": "e334ccf2-8b9f-41f3-a00a-159cbf650980"
      },
      "execution_count": 32,
      "outputs": [
        {
          "output_type": "stream",
          "name": "stdout",
          "text": [
            "Shuffled list: [2, 7, 3, 10, 5, 6, 8, 9, 1, 4]\n"
          ]
        }
      ]
    },
    {
      "cell_type": "markdown",
      "source": [
        "21.warite a code that takes two tuples as input and returns a new tuple containg elements that are common to both input tuples."
      ],
      "metadata": {
        "id": "zubieqbI2LnR"
      }
    },
    {
      "cell_type": "code",
      "source": [
        "#answer\n",
        "def find_common_elements(tuple1, tuple2):\n",
        "    \"\"\"Finds common elements between two tuples.\n",
        "\n",
        "    Args:\n",
        "        tuple1: The first tuple.\n",
        "        tuple2: The second tuple.\n",
        "\n",
        "    Returns:\n",
        "        A new tuple containing elements common to both input tuples.\n",
        "    \"\"\"\n",
        "    # Convert tuples to sets for efficient intersection\n",
        "    set1 = set(tuple1)\n",
        "    set2 = set(tuple2)\n",
        "\n",
        "    # Find the intersection using the & operator\n",
        "    common_elements_set = set1 & set2\n",
        "\n",
        "    # Convert the intersection set back to a tuple\n",
        "    common_elements_tuple = tuple(common_elements_set)\n",
        "\n",
        "    return common_elements_tuple\n",
        "\n",
        "# Example usage\n",
        "#answer\n",
        "def find_common_elements(tuple1, tuple2):\n",
        "    \"\"\"Finds common elements between two tuples.\n",
        "\n",
        "    Args:\n",
        "        tuple1: The first tuple.\n",
        "        tuple2: The second tuple.\n",
        "\n",
        "    Returns:\n",
        "        A new tuple containing elements common to both input tuples.\n",
        "    \"\"\"\n",
        "    # Convert tuples to sets for efficient intersection\n",
        "    set1 = set(tuple1)\n",
        "    set2 = set(tuple2)\n",
        "\n",
        "    # Find the intersection using the & operator\n",
        "    common_elements_set = set1 & set2\n",
        "\n",
        "    # Convert the intersection set back to a tuple\n",
        "    common_elements_tuple = tuple(common_elements_set)\n",
        "\n",
        "    return common_elements_tuple\n",
        "\n",
        "# Example usage\n",
        "tuple1 = (1, 2, 3, 4, 5)\n",
        "tuple2 = (3, 5, 6, 7, 8)\n",
        "\n",
        "common_elements = find_common_elements(tuple1, tuple2)\n",
        "print(\"Common elements:\", common_elements)"
      ],
      "metadata": {
        "colab": {
          "base_uri": "https://localhost:8080/"
        },
        "id": "C920_9su2KWk",
        "outputId": "1332749f-6c6f-434a-a64d-aee5016730fc"
      },
      "execution_count": 34,
      "outputs": [
        {
          "output_type": "stream",
          "name": "stdout",
          "text": [
            "Common elements: (3, 5)\n"
          ]
        }
      ]
    },
    {
      "cell_type": "markdown",
      "source": [
        "22.create code that promots the user to enter two sets of integers separated by comma.then print the inter section of these two sets.\n"
      ],
      "metadata": {
        "id": "zQD1c2-x2ehL"
      }
    },
    {
      "cell_type": "code",
      "source": [
        "#answer\n",
        "def get_set_from_input():\n",
        "    \"\"\"Prompts the user to enter a set of integers separated by commas.\"\"\"\n",
        "    while True:\n",
        "        try:\n",
        "            input_str = input(\"Enter a set of integers separated by commas: \")\n",
        "            # Split the input string by commas and convert elements to integers\n",
        "            elements = [int(x.strip()) for x in input_str.split(',')]\n",
        "            return set(elements)  # Create a set from the elements\n",
        "        except ValueError:\n",
        "            print(\"Invalid input. Please enter integers separated by commas.\")\n",
        "\n",
        "def main():\n",
        "    \"\"\"Gets two sets from user input and prints their intersection.\"\"\"\n",
        "    set1 = get_set_from_input()\n",
        "    set2 = get_set_from_input()\n",
        "\n",
        "    intersection = set1 & set2  # Calculate intersection using & operator\n",
        "\n",
        "    print(f\"Intersection of the two sets: {intersection}\")\n",
        "\n",
        "if __name__ == \"__main__\":\n",
        "    main()\n"
      ],
      "metadata": {
        "colab": {
          "base_uri": "https://localhost:8080/"
        },
        "id": "FyWLd8La2Y8c",
        "outputId": "030d8cb4-7a08-455d-d012-1424dfae23cb"
      },
      "execution_count": 35,
      "outputs": [
        {
          "output_type": "stream",
          "name": "stdout",
          "text": [
            "Enter a set of integers separated by commas: 1,2,3,4,5\n",
            "Enter a set of integers separated by commas: 1,2,3,4,5\n",
            "Intersection of the two sets: {1, 2, 3, 4, 5}\n"
          ]
        }
      ]
    },
    {
      "cell_type": "markdown",
      "source": [
        "23.write a code to concatenate two tuples.the function should tale two tuples as input and return a new tuple containing elements from both input tuples."
      ],
      "metadata": {
        "id": "nh3gsHpx21ul"
      }
    },
    {
      "cell_type": "code",
      "source": [
        "#answer\n",
        "def concatenate_tuples(tuple1, tuple2):\n",
        "    \"\"\"Concatenates two tuples.\n",
        "\n",
        "    Args:\n",
        "        tuple1: The first tuple.\n",
        "        tuple2: The second tuple.\n",
        "\n",
        "    Returns:\n",
        "        A new tuple containing all elements from both input tuples.\n",
        "    \"\"\"\n",
        "    # Use the + operator to concatenate tuples\n",
        "    concatenated_tuple = tuple1 + tuple2\n",
        "    return concatenated_tuple\n",
        "\n",
        "# Example usage\n",
        "tuple1 = (1, 2, 3)\n",
        "tuple2 = (4, 5, 6)\n",
        "\n",
        "concatenated = concatenate_tuples(tuple1, tuple2)\n",
        "print(f\"Concatenated tuple: {concatenated}\")"
      ],
      "metadata": {
        "colab": {
          "base_uri": "https://localhost:8080/"
        },
        "id": "wepCfSJy2rA2",
        "outputId": "d4913ebc-addf-41bc-87b6-9fed9d676e82"
      },
      "execution_count": 36,
      "outputs": [
        {
          "output_type": "stream",
          "name": "stdout",
          "text": [
            "Concatenated tuple: (1, 2, 3, 4, 5, 6)\n"
          ]
        }
      ]
    },
    {
      "cell_type": "markdown",
      "source": [
        "24.devlope a code that prompts the user to input two sets of strings.then  print the elements that are present in the first set but not in the second set.\n"
      ],
      "metadata": {
        "id": "G4IZFiSB3CEU"
      }
    },
    {
      "cell_type": "code",
      "source": [
        "#answer\n",
        "def get_string_set_from_input():\n",
        "    \"\"\"Prompts the user to enter a set of strings separated by spaces.\"\"\"\n",
        "    input_str = input(\"Enter a set of strings separated by spaces: \")\n",
        "    return set(input_str.split())  # Split the input string by spaces and create a set\n",
        "\n",
        "def main():\n",
        "    \"\"\"Gets two sets of strings from user input and prints the difference.\"\"\"\n",
        "    set1 = get_string_set_from_input()\n",
        "    set2 = get_string_set_from_input()\n",
        "\n",
        "    difference = set1 - set2  # Calculate the difference using the - operator\n",
        "\n",
        "    print(f\"Elements in the first set but not in the second set: {difference}\")\n",
        "\n",
        "if __name__ == \"__main__\":\n",
        "    main()\n"
      ],
      "metadata": {
        "colab": {
          "base_uri": "https://localhost:8080/"
        },
        "id": "0P2MPCgW3BNl",
        "outputId": "4e756910-4ab4-46e4-dc70-a6680765dfa1"
      },
      "execution_count": 38,
      "outputs": [
        {
          "output_type": "stream",
          "name": "stdout",
          "text": [
            "Enter a set of strings separated by spaces: 1,2,3,4,5\n",
            "Enter a set of strings separated by spaces: 1,5,2,3\n",
            "Elements in the first set but not in the second set: {'1,2,3,4,5'}\n"
          ]
        }
      ]
    },
    {
      "cell_type": "markdown",
      "source": [
        "25.create a code that  take a tuple and teo integers as input.the function should return a new tuple containing elelments from the original tuple within the specified range o f insicies."
      ],
      "metadata": {
        "id": "kndkfggT3fTN"
      }
    },
    {
      "cell_type": "code",
      "source": [
        "#answer\n",
        "def slice_tuple(original_tuple, start_index, end_index):\n",
        "    \"\"\"Slices a tuple within a specified range of indices.\n",
        "\n",
        "    Args:\n",
        "        original_tuple: The original tuple.\n",
        "        start_index: The starting index (inclusive).\n",
        "        end_index: The ending index (exclusive).\n",
        "\n",
        "    Returns:\n",
        "        A new tuple containing elements from the original tuple within the specified range.\n",
        "    \"\"\"\n",
        "    # Use slicing to extract elements within the range\n",
        "    sliced_tuple = original_tuple[start_index:end_index]\n",
        "    return sliced_tuple\n",
        "\n",
        "# Example usage\n",
        "my_tuple = (1, 2, 3, 4, 5, 6, 7, 8, 9, 10)\n",
        "start_index = 2  #"
      ],
      "metadata": {
        "id": "TORk1bNI3M3u"
      },
      "execution_count": 40,
      "outputs": []
    },
    {
      "cell_type": "markdown",
      "source": [
        "26.write a code that prompts the user to input two sets of characters.then print the union of these two sets .\n"
      ],
      "metadata": {
        "id": "ipFfQIzw3xEt"
      }
    },
    {
      "cell_type": "code",
      "source": [
        "#answer\n",
        "def get_character_set_from_input():\n",
        "    \"\"\"Prompts the user to enter a set of characters.\"\"\"\n",
        "    input_str = input(\"Enter a set of characters: \")\n",
        "    return set(input_str)  # Create a set from the input string\n",
        "\n",
        "def main():\n",
        "    \"\"\"Gets two sets of characters from user input and prints their union.\"\"\"\n",
        "    set1 = get_character_set_from_input()\n",
        "    set2 = get_character_set_from_input()\n",
        "\n",
        "    union = set1 | set2  # Calculate the union using the | operator\n",
        "\n",
        "    print(f\"Union of the two sets: {union}\")\n",
        "\n",
        "if __name__ == \"__main__\":\n",
        "    main()"
      ],
      "metadata": {
        "colab": {
          "base_uri": "https://localhost:8080/"
        },
        "id": "-sjzy1XM3tuX",
        "outputId": "7774320b-9216-4dc9-9651-1068cca86376"
      },
      "execution_count": 41,
      "outputs": [
        {
          "output_type": "stream",
          "name": "stdout",
          "text": [
            "Enter a set of characters: college\n",
            "Enter a set of characters: college\n",
            "Union of the two sets: {'l', 'o', 'g', 'e', 'c'}\n"
          ]
        }
      ]
    },
    {
      "cell_type": "markdown",
      "source": [
        "27.devlope a code that takes a tuple of integers as input. the function should return amaximum and minimum values from the t uples using tuple unpacking.\n"
      ],
      "metadata": {
        "id": "hLx-oUbC4Ijc"
      }
    },
    {
      "cell_type": "code",
      "source": [
        "#answer\n",
        "def find_min_max(numbers):\n",
        "  \"\"\"Finds the minimum and maximum values in a tuple of integers.\n",
        "\n",
        "  Args:\n",
        "    numbers: A tuple of integers.\n",
        "\n",
        "  Returns:\n",
        "    A tuple containing the minimum and maximum values.\n",
        "  \"\"\"\n",
        "\n",
        "  # Check if the tuple is empty\n",
        "  if not numbers:\n",
        "    return None, None  # Return None for both if empty\n",
        "\n",
        "  # Initialize min and max with the first element\n",
        "  min_val, max_val = numbers[0], numbers[0]\n",
        "\n",
        "  # Iterate through the remaining elements\n",
        "  for num in numbers[1:]:\n",
        "    if num < min_val:\n",
        "      min_val = num\n",
        "    if num > max_val:\n",
        "      max_val = num\n",
        "\n",
        "  return min_val, max_val  # Return as a tuple\n",
        "#answer\n",
        "def find_min_max(numbers):\n",
        "  \"\"\"Finds the minimum and maximum values in a tuple of integers.\n",
        "\n",
        "  Args:\n",
        "    numbers: A tuple of integers.\n",
        "\n",
        "  Returns:\n",
        "    A tuple containing the minimum and maximum values.\n",
        "  \"\"\"\n",
        "\n",
        "  # Check if the tuple is empty\n",
        "  if not numbers:\n",
        "    return None, None  # Return None for both if empty\n",
        "\n",
        "  # Initialize min and max with the first element\n",
        "  min_val, max_val = numbers[0], numbers[0]\n",
        "\n",
        "  # Iterate through the remaining elements\n",
        "  for num in numbers[1:]:\n",
        "    if num < min_val:\n",
        "      min_val = num\n",
        "    if num > max_val:\n",
        "      max_val = num\n",
        "\n",
        "  return min_val, max_val  # Return as a tuple\n",
        "\n",
        "# Example usage\n",
        "my_numbers = (3, 1, 4, 1, 5, 9, 2, 6)\n",
        "min_value, max_value = find_min_max(my_numbers)\n",
        "print(\"Minimum:\", min_value)\n",
        "print(\"Maximum:\", max_value)"
      ],
      "metadata": {
        "colab": {
          "base_uri": "https://localhost:8080/"
        },
        "id": "FlVWVxzm3-zU",
        "outputId": "cb68c129-ecd6-43f7-cabe-b35a47e44f30"
      },
      "execution_count": 43,
      "outputs": [
        {
          "output_type": "stream",
          "name": "stdout",
          "text": [
            "Minimum: 1\n",
            "Maximum: 9\n"
          ]
        }
      ]
    },
    {
      "cell_type": "markdown",
      "source": [
        "28.create a code that defines two sets of integers . then print the union,intersection,and difference of these two sets.\n"
      ],
      "metadata": {
        "id": "pJXtzbs54jNw"
      }
    },
    {
      "cell_type": "code",
      "source": [
        "#answer\n",
        "# Define the two sets\n",
        "set1 = {1, 2, 3, 4, 5}\n",
        "set2 = {3, 4, 5, 6, 7}\n",
        "\n",
        "# Calculate and print the union\n",
        "union_set = set1.union(set2)  # or set1 | set2\n",
        "print(f\"Union of the sets: {union_set}\")\n",
        "\n",
        "# Calculate and print the intersection\n",
        "intersection_set = set1.intersection(set2)  # or set1 & set2\n",
        "print(f\"Intersection of the sets: {intersection_set}\")\n",
        "\n",
        "# Calculate and print the difference (set1 - set2)\n",
        "difference_set = set1.difference(set2)  # or set1 - set2\n",
        "print(f\"Difference of set1 and set2: {difference_set}\")\n",
        "\n",
        "# Calculate and print the difference (set2 - set1\n"
      ],
      "metadata": {
        "colab": {
          "base_uri": "https://localhost:8080/"
        },
        "id": "xYBnVEds4Yyg",
        "outputId": "b6c6797d-79d0-4115-cb5a-25e725824353"
      },
      "execution_count": 44,
      "outputs": [
        {
          "output_type": "stream",
          "name": "stdout",
          "text": [
            "Union of the sets: {1, 2, 3, 4, 5, 6, 7}\n",
            "Intersection of the sets: {3, 4, 5}\n",
            "Difference of set1 and set2: {1, 2}\n"
          ]
        }
      ]
    },
    {
      "cell_type": "markdown",
      "source": [
        "29.write a code that take a tuple and an elements as input.the function should return the count of occurrence of the given element in the tuple.\n"
      ],
      "metadata": {
        "id": "DnS16JtI4sv_"
      }
    },
    {
      "cell_type": "code",
      "source": [
        "#answer\n",
        "def count_occurrences(tuple_data, element):\n",
        "  \"\"\"Counts the occurrences of a given element in a tuple.\n",
        "\n",
        "  Args:\n",
        "    tuple_data: The input tuple.\n",
        "    element: The element to count occurrences of.\n",
        "\n",
        "  Returns:\n",
        "    The number of times the element appears in the tuple.\n",
        "  \"\"\"\n",
        "\n",
        "  count = tuple_data.count(element)  # Use the built-in count() method\n",
        "  return count\n",
        "\n",
        "# Example usage\n",
        "my_tuple = (1, 2, 3, 2, 4, 2, 5)\n",
        "element_to_count = 2\n",
        "occurrences = count_occurrences(my_tuple, element_to_count)\n",
        "\n",
        "print(f\"Tuple: {my_tuple}\")\n",
        "print(f\"Element to count: {element_to_count}\")\n",
        "print(f\"Occurrences: {occurrences}\")\n"
      ],
      "metadata": {
        "colab": {
          "base_uri": "https://localhost:8080/"
        },
        "id": "Ixw6s1M34qYI",
        "outputId": "9a87dbb9-cf26-4279-ffa4-621c9f2dce4f"
      },
      "execution_count": 45,
      "outputs": [
        {
          "output_type": "stream",
          "name": "stdout",
          "text": [
            "Tuple: (1, 2, 3, 2, 4, 2, 5)\n",
            "Element to count: 2\n",
            "Occurrences: 3\n"
          ]
        }
      ]
    },
    {
      "cell_type": "markdown",
      "source": [
        "30.devlope a code that  promts the user to input two sets of strings. then print the symmetricdifference of these two sets.\n"
      ],
      "metadata": {
        "id": "dlMUWlBi45R6"
      }
    },
    {
      "cell_type": "code",
      "source": [
        "#answer\n",
        "def get_set_from_user(prompt):\n",
        "  \"\"\"Prompts the user to input a set of strings.\n",
        "\n",
        "  Args:\n",
        "    prompt: The message to display to the user.\n",
        "\n",
        "  Returns:\n",
        "    A set containing the strings entered by the user.\n",
        "  \"\"\"\n",
        "\n",
        "  elements = input(prompt).split(\",\")\n",
        "  return set(elements)\n",
        "\n",
        "# Get the sets from the user\n",
        "set1 = get_set_from_user(\"Enter elements for set 1 (comma-separated): \")\n",
        "set2 = get_set_from_user(\"Enter elements for set 2 (comma-separated): \")\n",
        "\n",
        "# Calculate and print the symmetric difference\n",
        "symmetric_difference_set = set1.symmetric_difference(set2)  # or set1 ^ set2\n",
        "print(f\"Symmetric difference of the sets: {symmetric_difference_set}\")"
      ],
      "metadata": {
        "colab": {
          "base_uri": "https://localhost:8080/"
        },
        "id": "brrWpPWu43yc",
        "outputId": "8f980cd7-3c48-436f-e400-fa7f3232044d"
      },
      "execution_count": 46,
      "outputs": [
        {
          "output_type": "stream",
          "name": "stdout",
          "text": [
            "Enter elements for set 1 (comma-separated): 1,2,3,4,5\n",
            "Enter elements for set 2 (comma-separated): 1,5,3,2,1\n",
            "Symmetric difference of the sets: {'4'}\n"
          ]
        }
      ]
    },
    {
      "cell_type": "markdown",
      "source": [
        "31.write a code that take a list of words as input and return a dictionary where the keys  are unique words and the values are the frequensies of those words in the input list.\n"
      ],
      "metadata": {
        "id": "eS29sWFL5J2C"
      }
    },
    {
      "cell_type": "code",
      "source": [
        "#answer\n",
        "from collections import Counter\n",
        "\n",
        "def word_frequencies(words):\n",
        "  \"\"\"Calculates the frequencies of words in a list.\n",
        "\n",
        "  Args:\n",
        "    words: A list of words.\n",
        "\n",
        "  Returns:\n",
        "    A dictionary where keys are unique words and values are their frequencies.\n",
        "  \"\"\"\n",
        "\n",
        "  word_counts = Counter(words)  # Use Counter from collections\n",
        "  return dict(word_counts)\n",
        "\n",
        "# Example usage\n",
        "word_list = [\"apple\", \"banana\", \"apple\", \"orange\", \"banana\", \"apple\"]\n",
        "frequencies = word_frequencies(word_list)\n",
        "\n",
        "print(f\"Word list: {word_list}\")\n",
        "print(f\"Word frequencies: {frequencies}\")"
      ],
      "metadata": {
        "colab": {
          "base_uri": "https://localhost:8080/"
        },
        "id": "EzgCK8Yk5Dqb",
        "outputId": "194fcc2e-07c9-4605-f484-b93a0770f02d"
      },
      "execution_count": 47,
      "outputs": [
        {
          "output_type": "stream",
          "name": "stdout",
          "text": [
            "Word list: ['apple', 'banana', 'apple', 'orange', 'banana', 'apple']\n",
            "Word frequencies: {'apple': 3, 'banana': 2, 'orange': 1}\n"
          ]
        }
      ]
    },
    {
      "cell_type": "markdown",
      "source": [
        "32.write a code that takes two dictionaries as input  and merge them into single dictionary.if there are common keys the values should be added together.\n"
      ],
      "metadata": {
        "id": "R1gAxz0n5U80"
      }
    },
    {
      "cell_type": "code",
      "source": [
        "def merge_dictionaries(dict1, dict2):\n",
        "  \"\"\"Merges two dictionaries, adding values for common keys.\n",
        "\n",
        "  Args:\n",
        "    dict1: The first dictionary.\n",
        "    dict2: The second dictionary.\n",
        "\n",
        "  Returns:\n",
        "    A new dictionary containing the merged contents of dict1 and dict2.\n",
        "  \"\"\"\n",
        "\n",
        "  merged_dict = dict1.copy()  # Start with a copy of dict1\n",
        "\n",
        "  for key, value in dict2.items():\n",
        "    if key in merged_dict:\n",
        "      # If key exists in both dictionaries, add the values\n",
        "      merged_dict[key] += value\n",
        "    else:\n",
        "      # If key is unique to dict2, add it to the merged dictionary\n",
        "      merged_dict[key] = value\n",
        "\n",
        "  return merged_dict\n",
        "\n",
        "# Example usage:\n",
        "dict1 = {'a': 10, 'b': 20, 'c': 30}\n",
        "dict2 = {'b': 30, 'c': 40, 'd': 50}\n",
        "\n",
        "merged_dict = merge_dictionaries(dict1, dict2)\n",
        "print(f\"Merged dictionary: {merged_dict}\")"
      ],
      "metadata": {
        "colab": {
          "base_uri": "https://localhost:8080/"
        },
        "id": "uDhFhHKU5Tsb",
        "outputId": "9e1dd719-3f50-4f49-9652-2ef2723a4308"
      },
      "execution_count": 49,
      "outputs": [
        {
          "output_type": "stream",
          "name": "stdout",
          "text": [
            "Merged dictionary: {'a': 10, 'b': 50, 'c': 70, 'd': 50}\n"
          ]
        }
      ]
    },
    {
      "cell_type": "markdown",
      "source": [
        "33.write a code to access a value in a nested dictionary.the function should take the dioctionary and a list of keys as input and return the corresponding value. if any of the keys do not"
      ],
      "metadata": {
        "id": "HoOSP2Zr5t-X"
      }
    },
    {
      "cell_type": "code",
      "source": [
        "def access_nested_value(data, keys):\n",
        "  \"\"\"Accesses a value in a nested dictionary using a list of keys.\n",
        "\n",
        "  Args:\n",
        "    data: The nested dictionary.\n",
        "    keys: A list of keys to navigate the dictionary.\n",
        "\n",
        "  Returns:\n",
        "    The corresponding value if all keys are found, otherwise None.\n",
        "  \"\"\"\n",
        "\n",
        "  current_level = data  # Start at the top level of the dictionary\n",
        "\n",
        "  for key in keys:\n",
        "    if key in current_level:  # Check if the key exists at the current level\n",
        "      current_level = current_level[key]  # Move to the next level\n",
        "    else:\n",
        "      return None  # Key not found, return None\n",
        "\n",
        "  return current_level  # Return the value at the final level\n",
        "\n",
        "# Example usage:\n",
        "data = {\n",
        "  'a': {\n",
        "    'b': {\n",
        "      'c': 100\n",
        "    }\n",
        "  },\n",
        "  'd': 200\n",
        "}\n",
        "\n",
        "keys1 = ['a', 'b', 'c']  # Access data['a']['b']['c']\n",
        "keys2 = ['d']  # Access data['d']\n",
        "keys3 = ['a', 'x']  # Invalid key path\n",
        "\n",
        "value1 = access_nested_value(data, keys1)\n",
        "value2 = access_nested_value(data, keys2)\n",
        "value3 = access_nested_value(data, keys3)\n",
        "\n",
        "print(f\"Value for keys {keys1}: {value1}\")\n",
        "print(f\"Value for keys {keys2}: {value2}\")\n",
        "print(f\"Value for keys {keys3}: {value3}\")"
      ],
      "metadata": {
        "colab": {
          "base_uri": "https://localhost:8080/"
        },
        "id": "9M-6kvP46UHC",
        "outputId": "59fd79ad-4701-4847-8fb6-755eecf47b70"
      },
      "execution_count": 53,
      "outputs": [
        {
          "output_type": "stream",
          "name": "stdout",
          "text": [
            "Value for keys ['a', 'b', 'c']: 100\n",
            "Value for keys ['d']: 200\n",
            "Value for keys ['a', 'x']: None\n"
          ]
        }
      ]
    },
    {
      "cell_type": "markdown",
      "source": [
        "34.write a code that takes a dictionary as input and return a sorted version of it based on the values. you can choose whether to sor in ascending or descending order\\.\n"
      ],
      "metadata": {
        "id": "L1a-H2Gg6ZVo"
      }
    },
    {
      "cell_type": "code",
      "source": [
        "#answer\n",
        "def sort_dictionary_by_values(data, ascending=True):\n",
        "  \"\"\"Sorts a dictionary based on its values.\n",
        "\n",
        "  Args:\n",
        "    data: The dictionary to sort.\n",
        "    ascending: If True, sort in ascending order. If False, sort in descending order.\n",
        "              Defaults to True.\n",
        "\n",
        "  Returns:\n",
        "    A new dictionary sorted by values.\n",
        "  \"\"\"\n",
        "\n",
        "  # Use the `sorted` function with a lambda function as the key\n",
        "  sorted_items = sorted(data.items(), key=lambda item: item[1], reverse=not ascending)\n",
        "\n",
        "  # Create a new dictionary from the sorted items\n",
        "  sorted_dict = dict(sorted_items)\n",
        "\n",
        "  return sorted_dict\n",
        "\n",
        "# Example usage:\n",
        "data = {'a': 3, 'b': 1, 'c': 2, 'd': 4}\n",
        "\n",
        "ascending_sorted = sort_dictionary_by_values(data)  # Sort in ascending order (default)\n",
        "descending_sorted = sort_dictionary_by_values(data, ascending=False)  # Sort in descending order\n",
        "\n",
        "print(f\"Original dictionary: {data}\")\n",
        "print(f\"Ascending sorted: {ascending_sorted}\")\n",
        "print(f\"Descending sorted: {descending_sorted}\")"
      ],
      "metadata": {
        "colab": {
          "base_uri": "https://localhost:8080/"
        },
        "id": "tKjeuYE959O-",
        "outputId": "d11016b2-4289-4e0d-f958-72a7448a74a3"
      },
      "execution_count": 54,
      "outputs": [
        {
          "output_type": "stream",
          "name": "stdout",
          "text": [
            "Original dictionary: {'a': 3, 'b': 1, 'c': 2, 'd': 4}\n",
            "Ascending sorted: {'b': 1, 'c': 2, 'a': 3, 'd': 4}\n",
            "Descending sorted: {'d': 4, 'a': 3, 'c': 2, 'b': 1}\n"
          ]
        }
      ]
    },
    {
      "cell_type": "markdown",
      "source": [
        "35.write a code that inverts a dictionary swapping keys and values.ensure that the inverted dictionary correctlya handles cases where multiple keyas have the same value by storing the keys as a list in the inverted dictionary"
      ],
      "metadata": {
        "id": "Ws1kw5AH6ntR"
      }
    },
    {
      "cell_type": "code",
      "source": [
        "#answer\n",
        "from collections import defaultdict\n",
        "\n",
        "def invert_dictionary(data):\n",
        "  \"\"\"Inverts a dictionary, swapping keys and values.\n",
        "\n",
        "  Handles cases where multiple keys have the same value by storing\n",
        "  the keys as a list in the inverted dictionary.\n",
        "\n",
        "  Args:\n",
        "    data: The dictionary to invert.\n",
        "\n",
        "  Returns:\n",
        "    The inverted dictionary.\n",
        "  \"\"\"\n",
        "\n",
        "  inverted_dict = defaultdict(list)  # Use defaultdict to handle duplicate values\n",
        "\n",
        "  for key, value in data.items():\n",
        "    inverted_dict[value].append(key)  # Append key to the list for the corresponding value\n",
        "\n",
        "  return dict(inverted_dict)  # Convert back to a regular dictionary\n",
        "\n",
        "# Example usage:\n",
        "data = {'a': 1, 'b': 2, 'c': 1, 'd': 3, 'e': 2}\n",
        "\n",
        "inverted_dict = invert_dictionary(data)\n",
        "print(f\"Original dictionary: {data}\")\n",
        "print(f\"Inverted dictionary: {inverted_dict}\")"
      ],
      "metadata": {
        "colab": {
          "base_uri": "https://localhost:8080/"
        },
        "id": "LiB16h9E6mfR",
        "outputId": "40c27c50-9ff9-413e-cc5e-9359d41b2eef"
      },
      "execution_count": 55,
      "outputs": [
        {
          "output_type": "stream",
          "name": "stdout",
          "text": [
            "Original dictionary: {'a': 1, 'b': 2, 'c': 1, 'd': 3, 'e': 2}\n",
            "Inverted dictionary: {1: ['a', 'c'], 2: ['b', 'e'], 3: ['d']}\n"
          ]
        }
      ]
    },
    {
      "cell_type": "code",
      "source": [],
      "metadata": {
        "id": "D15tJn7e6x8y"
      },
      "execution_count": null,
      "outputs": []
    }
  ]
}