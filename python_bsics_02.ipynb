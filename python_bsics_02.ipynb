{
  "nbformat": 4,
  "nbformat_minor": 0,
  "metadata": {
    "colab": {
      "provenance": []
    },
    "kernelspec": {
      "name": "python3",
      "display_name": "Python 3"
    },
    "language_info": {
      "name": "python"
    }
  },
  "cells": [
    {
      "cell_type": "code",
      "execution_count": 4,
      "metadata": {
        "colab": {
          "base_uri": "https://localhost:8080/",
          "height": 36
        },
        "id": "A3JA6DWDHJkH",
        "outputId": "ff05d12b-fc16-4d71-e0ba-c902ed35195d"
      },
      "outputs": [
        {
          "output_type": "execute_result",
          "data": {
            "text/plain": [
              "'i sa'"
            ],
            "application/vnd.google.colaboratory.intrinsic+json": {
              "type": "string"
            }
          },
          "metadata": {},
          "execution_count": 4
        }
      ],
      "source": [
        "string = \"This is a string\" # Define the string variable\n",
        "start = 2 # Define the starting index for slicing\n",
        "end = 10 # Define the ending index for slicing\n",
        "step = 2 # Define the step for slicing\n",
        "\n",
        "string[start:end:step] # Now you can perform the slicing operation"
      ]
    },
    {
      "cell_type": "markdown",
      "source": [
        "1.discuss string slicing and provide examples?\n",
        "\n",
        "ans:-String Slicing in Python\n",
        "String slicing is a powerful technique in Python used to extract portions of a string. It allows you to create substrings by specifying a range of indices using the slice operator [:]. The basic syntax is as follows:\n",
        "where:\n",
        "\n",
        "start: The index of the first character to include in the slice (inclusive). Defaults to 0 if omitted.\n",
        "end: The index of the character before which the slice ends (exclusive). Defaults to the length of the string if omitted.\n",
        "step: The increment between characters in the slice. Defaults to 1 if omitted.\n",
        "example\n",
        "\n"
      ],
      "metadata": {
        "id": "kZZaob79Hksh"
      }
    },
    {
      "cell_type": "code",
      "source": [
        "text=\"hello\"\n",
        "print(text[:5])"
      ],
      "metadata": {
        "colab": {
          "base_uri": "https://localhost:8080/"
        },
        "id": "aOvW1wJXJMbk",
        "outputId": "006bae4a-d128-417b-e8ad-9373f94f3823"
      },
      "execution_count": 5,
      "outputs": [
        {
          "output_type": "stream",
          "name": "stdout",
          "text": [
            "hello\n"
          ]
        }
      ]
    },
    {
      "cell_type": "markdown",
      "source": [
        "2.explain the key feature of lists in python?\n",
        "\n",
        "ans:-Okay, let's discuss the key features of lists in Python.\n",
        "\n",
        "Key Features of Lists in Python\n",
        "Lists are one of the most versatile and commonly used data structures in Python. They offer several key features that make them powerful and flexible:\n",
        "\n",
        "Ordered Collection: Lists maintain the order in which elements are added. This means that you can access elements by their position (index) within the list.\n",
        "\n",
        "Mutable: Lists are mutable, meaning you can modify their contents after creation. You can add, remove, or change elements within a list.\n",
        "\n",
        "Heterogeneous: Lists can store elements of different data types. A single list can contain integers, strings, floats, booleans, or even other lists.\n",
        "\n",
        "Dynamic Size: Lists can grow or shrink dynamically as needed. You don't need to predefine the size of a list when creating it.\n",
        "\n",
        "Iterable: Lists are iterable, meaning you can loop through their elements using a for loop or other iteration methods.\n",
        "\n",
        "Nestable: Lists can be nested, meaning you can have lists within lists. This allows you to create complex data structures.\n",
        "\n",
        "Built-in Functions and Methods: Python provides a wide range of built-in functions and methods for working with lists, such as append(), insert(), remove(), sort(), and more.\n",
        "\n",
        "Zero-based Indexing: Lists use zero-based indexing, meaning the first element is at index 0, the second at index 1, and so on.\n",
        "\n",
        "Slicing: You can extract portions of a list using slicing, similar to string slicing.\n",
        "Examples"
      ],
      "metadata": {
        "id": "C5zZxfH0Jjmy"
      }
    },
    {
      "cell_type": "code",
      "source": [
        "# Create a list\n",
        "my_list = [1, \"hello\", 3.14, True]\n",
        "\n",
        "# Accessing elements by index\n",
        "print(my_list[0])\n",
        "print(my_list[2])\n",
        "\n",
        "# Modifying elements\n",
        "my_list[1] = \"world\"\n",
        "print(my_list)\n",
        "# Adding elements\n",
        "my_list.append(5)\n",
        "print(my_list)\n",
        "\n",
        "# Looping through elements\n",
        "for item in my_list:\n",
        "    print(item)\n",
        "\n",
        "# Nested list\n",
        "nested_list = [[1, 2], [3, 4]]\n",
        "print(nested_list[0][1])"
      ],
      "metadata": {
        "colab": {
          "base_uri": "https://localhost:8080/"
        },
        "id": "a2q_JWeGKAed",
        "outputId": "b3083f73-f82f-4b97-a818-65181988e438"
      },
      "execution_count": 6,
      "outputs": [
        {
          "output_type": "stream",
          "name": "stdout",
          "text": [
            "1\n",
            "3.14\n",
            "[1, 'world', 3.14, True]\n",
            "[1, 'world', 3.14, True, 5]\n",
            "1\n",
            "world\n",
            "3.14\n",
            "True\n",
            "5\n",
            "2\n"
          ]
        }
      ]
    },
    {
      "cell_type": "markdown",
      "source": [
        "3.describe how to access,modify,and delete elements in a list with eexamples?\n",
        "\n",
        "ans:-Accessing Elements\n",
        "To access individual elements in a list, you use their index, which starts from 0 for the first element. Here's an example:\n",
        "\n",
        "Modifying Elements\n",
        "You can change the value of an element in a list by assigning a new value to its index:\n",
        "Deleting Elements\n",
        "There are several ways to delete elements from a list:\n",
        "del keyword: This removes an element at a specific index.\n",
        "remove() method: This removes the first occurrence of a specific value.\n",
        "pop() method: This removes and returns the element at a specific index (default is the last element).\n"
      ],
      "metadata": {
        "id": "5vAA7MHFHrDg"
      }
    },
    {
      "cell_type": "code",
      "source": [
        "#accessing ekements\n",
        "my_list = [10, 20, 30, 40, 50]\n",
        "\n",
        "# Accessing the first element\n",
        "first_element = my_list[0]\n",
        "\n",
        "# Accessing the third element\n",
        "third_element = my_list[2]\n",
        "\n",
        "# Accessing the last element\n",
        "last_element = my_list[-1]"
      ],
      "metadata": {
        "id": "VbpGVSKyLpOW"
      },
      "execution_count": 14,
      "outputs": []
    },
    {
      "cell_type": "code",
      "source": [
        "my_list[0] #first element\n",
        "my_list[-1]  #last elements\n",
        "\n"
      ],
      "metadata": {
        "colab": {
          "base_uri": "https://localhost:8080/"
        },
        "id": "220NgQPAMSH_",
        "outputId": "dbc9b4f1-9154-4063-ce2a-da5b5fbb3e87"
      },
      "execution_count": 18,
      "outputs": [
        {
          "output_type": "stream",
          "name": "stdout",
          "text": [
            "50\n"
          ]
        }
      ]
    },
    {
      "cell_type": "code",
      "source": [
        "#modifying elements\n",
        "my_list = [10, 20, 30, 40, 50]\n",
        "\n",
        "# Modifying the second element\n",
        "my_list[1] = 25"
      ],
      "metadata": {
        "id": "XiJtTWJZL7-0"
      },
      "execution_count": 11,
      "outputs": []
    },
    {
      "cell_type": "code",
      "source": [
        "print(my_list)"
      ],
      "metadata": {
        "colab": {
          "base_uri": "https://localhost:8080/"
        },
        "id": "PX_EA8p2MLNL",
        "outputId": "ea02db17-9d34-45e8-d833-4d45947f9043"
      },
      "execution_count": 12,
      "outputs": [
        {
          "output_type": "stream",
          "name": "stdout",
          "text": [
            "[10, 25, 30, 40, 50]\n"
          ]
        }
      ]
    },
    {
      "cell_type": "code",
      "source": [
        "#deleting elements\n",
        "my_list = [10, 20, 30, 40, 50]\n",
        "del my_list[2]  # Corrected: No indentation"
      ],
      "metadata": {
        "id": "RyEpAKLSNFxI"
      },
      "execution_count": 21,
      "outputs": []
    },
    {
      "cell_type": "code",
      "source": [
        "print(my_list)"
      ],
      "metadata": {
        "colab": {
          "base_uri": "https://localhost:8080/"
        },
        "id": "QzmbiBrcNLt5",
        "outputId": "9f303d93-7007-4f7f-c7f3-677cebfb9c18"
      },
      "execution_count": 22,
      "outputs": [
        {
          "output_type": "stream",
          "name": "stdout",
          "text": [
            "[10, 20, 40, 50]\n"
          ]
        }
      ]
    },
    {
      "cell_type": "code",
      "source": [
        "#remove elements\n",
        "my_list = [10, 20, 30, 20, 50]\n",
        "my_list.remove(10)"
      ],
      "metadata": {
        "id": "vKXk1fnxN-qN"
      },
      "execution_count": 27,
      "outputs": []
    },
    {
      "cell_type": "code",
      "source": [
        "print(my_list)"
      ],
      "metadata": {
        "colab": {
          "base_uri": "https://localhost:8080/"
        },
        "id": "m64wL7mDOmYs",
        "outputId": "777e5cca-bad6-49ba-a660-41da547b1fe7"
      },
      "execution_count": 28,
      "outputs": [
        {
          "output_type": "stream",
          "name": "stdout",
          "text": [
            "[20, 30, 20, 50]\n"
          ]
        }
      ]
    },
    {
      "cell_type": "markdown",
      "source": [],
      "metadata": {
        "id": "IFfgFlExLnrm"
      }
    },
    {
      "cell_type": "code",
      "source": [
        "my_list = [10, 20, 30, 40, 50]\n",
        "removed_element = my_list.pop(1)"
      ],
      "metadata": {
        "id": "Ygc9PUkmONmu"
      },
      "execution_count": 29,
      "outputs": []
    },
    {
      "cell_type": "code",
      "source": [
        "print(my_list)"
      ],
      "metadata": {
        "colab": {
          "base_uri": "https://localhost:8080/"
        },
        "id": "tMTLlWYUOeta",
        "outputId": "1ecc3ba3-82ca-4f77-f69f-185947747a33"
      },
      "execution_count": 30,
      "outputs": [
        {
          "output_type": "stream",
          "name": "stdout",
          "text": [
            "[10, 30, 40, 50]\n"
          ]
        }
      ]
    },
    {
      "cell_type": "markdown",
      "source": [
        "4.compare and contrast tuples and lists with examples?\n",
        "\n",
        "Lists\n",
        "Mutable: Lists are mutable, meaning their elements can be modified after creation.\n",
        "Defined by square brackets: Lists are defined using square brackets [].\n",
        "Versatile: Lists are commonly used for storing collections of items that might need to change.\n",
        "Example:\n",
        "\n",
        "Tuples\n",
        "Immutable: Tuples are immutable, meaning their elements cannot be changed after creation.\n",
        "Defined by parentheses: Tuples are defined using parentheses ().\n",
        "Data Integrity: Tuples are often used when you want to ensure data remains constant.\n",
        "Example:\n",
        "\n",
        "Comparison Table\n",
        "Feature\tList\tTuple\n",
        "Mutability\tMutable\tImmutable\n",
        "Syntax\t[]\t()\n",
        "Use Cases\tStoring collections that might change\tRepresenting fixed data\n",
        "Performance\tGenerally slower\tGenerally faster\n",
        "Memory Usage\tGenerally higher\tGenerally lower\n",
        "When to Use Which\n",
        "Use lists when you need a collection that can be modified, such as a list of tasks or a shopping cart.\n",
        "Use tuples when you need to represent fixed data, such as coordinates, database records, or function arguments that shouldn't change."
      ],
      "metadata": {
        "id": "SjEG_PPUPAe3"
      }
    },
    {
      "cell_type": "code",
      "source": [
        "#\n",
        "my_list = [1, 2, 3, 'apple', 'banana']\n",
        "print(my_list)\n",
        "\n",
        "# Modifying the list\n",
        "my_list[0] = 10\n",
        "my_list.append('orange')\n",
        "print(my_list)\n"
      ],
      "metadata": {
        "colab": {
          "base_uri": "https://localhost:8080/"
        },
        "id": "8vf6sCRjO2qF",
        "outputId": "bda66c68-4cbf-449e-915b-71d3ce643857"
      },
      "execution_count": 31,
      "outputs": [
        {
          "output_type": "stream",
          "name": "stdout",
          "text": [
            "[1, 2, 3, 'apple', 'banana']\n",
            "[10, 2, 3, 'apple', 'banana', 'orange']\n"
          ]
        }
      ]
    },
    {
      "cell_type": "code",
      "source": [
        "#tuples\n",
        "my_tuple = (1, 2, 3, 'apple', 'banana')\n",
        "print(my_tuple)\n",
        "\n",
        "# Trying to modify the tuple (will raise an error)\n",
        "# my_tuple[0] = 10  # TypeError: 'tuple' object does not support item assignment"
      ],
      "metadata": {
        "colab": {
          "base_uri": "https://localhost:8080/"
        },
        "id": "lmkxBPSvO0jF",
        "outputId": "283c6d4e-ce62-4521-84b5-b23c17e715d5"
      },
      "execution_count": 32,
      "outputs": [
        {
          "output_type": "stream",
          "name": "stdout",
          "text": [
            "(1, 2, 3, 'apple', 'banana')\n"
          ]
        }
      ]
    },
    {
      "cell_type": "markdown",
      "source": [
        "5.describes the key features of sets and provide examples of their use?\n",
        "\n",
        "ans:-Key Features of Sets\n",
        "Unordered Collection: Sets are unordered, meaning the elements within a set do not have a specific order.\n",
        "Unique Elements: Sets only contain unique elements. Duplicate values are automatically discarded.\n",
        "Mutable: Sets are mutable, meaning you can add or remove elements after creation.\n",
        "Defined by Curly Braces: Sets are defined using curly braces {} or by using the set() constructor.\n",
        "Mathematical Set Operations: Sets support various mathematical operations like union, intersection, difference, and more.\n",
        "Examples of Set Use\n",
        "Here are a few examples demonstrating how sets can be used in Python:\n",
        "\n",
        "1. Removing Duplicates:\n",
        "2.membership testing\n",
        "3.mathematical set operation\n",
        "4.checking forsubsets and supersets\n",
        "5.data validation and filtering\n"
      ],
      "metadata": {
        "id": "3QLBWNJAPruP"
      }
    },
    {
      "cell_type": "code",
      "source": [
        "#remooving duplicates\n",
        "my_list = [1, 2, 2, 3, 3, 3, 4, 4, 4, 4]\n",
        "unique_elements = set(my_list)\n",
        "print(unique_elements)"
      ],
      "metadata": {
        "colab": {
          "base_uri": "https://localhost:8080/"
        },
        "id": "SBzurSEJQX4Z",
        "outputId": "c2d0a3eb-3d51-4a45-df4d-536d0636aed9"
      },
      "execution_count": 33,
      "outputs": [
        {
          "output_type": "stream",
          "name": "stdout",
          "text": [
            "{1, 2, 3, 4}\n"
          ]
        }
      ]
    },
    {
      "cell_type": "code",
      "source": [
        "#membership testing\n",
        "my_set = {1, 2, 3, 4, 5}\n",
        "print(3 in my_set)\n",
        "print(6 in my_set)\n"
      ],
      "metadata": {
        "colab": {
          "base_uri": "https://localhost:8080/"
        },
        "id": "4L3yNPY3Qj6L",
        "outputId": "d2c473bc-b419-4fe9-c4bd-63d3f597f938"
      },
      "execution_count": 34,
      "outputs": [
        {
          "output_type": "stream",
          "name": "stdout",
          "text": [
            "True\n",
            "False\n"
          ]
        }
      ]
    },
    {
      "cell_type": "code",
      "source": [
        "#mathematicall set operation\n",
        "set1 = {1, 2, 3}\n",
        "set2 = {3, 4, 5}\n",
        "\n",
        "# Union\n",
        "union_set = set1 | set2\n",
        "print(union_set)\n",
        "# Intersection\n",
        "intersection_set = set1 & set2\n",
        "print(intersection_set)\n",
        "\n",
        "# Difference\n",
        "difference_set = set1 - set2\n",
        "print(difference_set)"
      ],
      "metadata": {
        "colab": {
          "base_uri": "https://localhost:8080/"
        },
        "id": "yGSkwUHWPpig",
        "outputId": "0d480138-2b60-4893-afb9-b3d6b8b061f7"
      },
      "execution_count": 35,
      "outputs": [
        {
          "output_type": "stream",
          "name": "stdout",
          "text": [
            "{1, 2, 3, 4, 5}\n",
            "{3}\n",
            "{1, 2}\n"
          ]
        }
      ]
    },
    {
      "cell_type": "code",
      "source": [
        "#checking for subset and duperset\n",
        "set1 = {1, 2, 3}\n",
        "set2 = {1, 2}\n",
        "\n",
        "print(set2.issubset(set1))\n",
        "print(set1.issuperset(set2))"
      ],
      "metadata": {
        "colab": {
          "base_uri": "https://localhost:8080/"
        },
        "id": "woJQD4uNQ_D9",
        "outputId": "22af53e2-3739-462a-81e3-027c200e89ed"
      },
      "execution_count": 36,
      "outputs": [
        {
          "output_type": "stream",
          "name": "stdout",
          "text": [
            "True\n",
            "True\n"
          ]
        }
      ]
    },
    {
      "cell_type": "code",
      "source": [
        "#data validation and filtering\n",
        "data = [1, 2, 3, 4, 5, 6, 7, 8, 9, 10]\n",
        "even_numbers = {x for x in data if x % 2 == 0}\n",
        "print(even_numbers)"
      ],
      "metadata": {
        "colab": {
          "base_uri": "https://localhost:8080/"
        },
        "id": "cyPaG2R8RYAb",
        "outputId": "57d2d740-b454-4972-eae0-bf8c92e0a95a"
      },
      "execution_count": 37,
      "outputs": [
        {
          "output_type": "stream",
          "name": "stdout",
          "text": [
            "{2, 4, 6, 8, 10}\n"
          ]
        }
      ]
    },
    {
      "cell_type": "markdown",
      "source": [
        "6.discuss the use cases of tuples and sets in python programming?\n",
        "\n",
        "ans:-Use Cases of Tuples\n",
        "Representing Data Records: Tuples are often used to represent records or structures where data is logically grouped together, like database records or coordinates."
      ],
      "metadata": {
        "id": "40z0vd5mRqWM"
      }
    },
    {
      "cell_type": "code",
      "source": [
        "employee = ('John Doe', 30, 'Software Engineer')\n",
        "print = (10, 20)"
      ],
      "metadata": {
        "id": "fUsr26PoRo80"
      },
      "execution_count": 41,
      "outputs": []
    },
    {
      "cell_type": "markdown",
      "source": [
        "Function Arguments and Return Values: Tuples can be used to pass multiple values to a function or return multiple values from a function"
      ],
      "metadata": {
        "id": "EUISEQAiSNJq"
      }
    },
    {
      "cell_type": "code",
      "source": [
        "def get_user_info():\n",
        "       return ('Alice', 25, 'alice@example.com'):\n",
        "        name, age, email = get_user_info()"
      ],
      "metadata": {
        "colab": {
          "base_uri": "https://localhost:8080/",
          "height": 106
        },
        "id": "SCnQzF5DSB5A",
        "outputId": "ab19c9e5-4b95-40bc-9c3e-63cfb5c48b3b"
      },
      "execution_count": 44,
      "outputs": [
        {
          "output_type": "error",
          "ename": "SyntaxError",
          "evalue": "invalid syntax (<ipython-input-44-0c2785c69efa>, line 2)",
          "traceback": [
            "\u001b[0;36m  File \u001b[0;32m\"<ipython-input-44-0c2785c69efa>\"\u001b[0;36m, line \u001b[0;32m2\u001b[0m\n\u001b[0;31m    return ('Alice', 25, 'alice@example.com'):\u001b[0m\n\u001b[0m                                             ^\u001b[0m\n\u001b[0;31mSyntaxError\u001b[0m\u001b[0;31m:\u001b[0m invalid syntax\n"
          ]
        }
      ]
    },
    {
      "cell_type": "markdown",
      "source": [
        "Dictionary Keys: Tuples can be used as keys in dictionaries because they are immutable. Lists cannot be used as keys since they are mutable"
      ],
      "metadata": {
        "id": "y0CzpMMkSiH0"
      }
    },
    {
      "cell_type": "code",
      "source": [
        "my_dict = { (1, 2): 'value1', (3, 4): 'value2' }"
      ],
      "metadata": {
        "id": "_UecsFz6ShsE"
      },
      "execution_count": 46,
      "outputs": []
    },
    {
      "cell_type": "markdown",
      "source": [
        "Data Integrity: When you need to ensure data remains unchanged, using tuples guarantees that the values won't be accidentally modified. This is useful for representing constants or configuration settings.\n",
        "\n",
        "Iteration: You can iterate through tuples like lists using loops.\n",
        "\n",
        "Use Cases of Sets\n",
        "Removing Duplicates: Sets are excellent for eliminating duplicate elements from a collection, providing a quick way to get unique values."
      ],
      "metadata": {
        "id": "vV4TW8GPSooB"
      }
    },
    {
      "cell_type": "code",
      "source": [
        "my_list = [1, 2, 2, 3, 3, 3]\n",
        "unique_elements = set(my_list) # Removed the extra indentation from this line"
      ],
      "metadata": {
        "id": "CXKjTykkSVfi"
      },
      "execution_count": 50,
      "outputs": []
    },
    {
      "cell_type": "markdown",
      "source": [
        "Membership Testing: Sets provide efficient membership testing using the in operator, checking if an element is present in the set.\n",
        "\n"
      ],
      "metadata": {
        "id": "bQPSvvFvSxmA"
      }
    },
    {
      "cell_type": "code",
      "source": [
        "authorized_users = {'user1', 'user2', 'admin'}\n",
        "\n",
        "# Define or get the current user\n",
        "current_user = 'user1'  # Example: Replace with your logic to get the actual current user\n",
        "\n",
        "# Check if 'print' has been reassigned\n",
        "if callable(print):\n",
        "    if current_user in authorized_users:\n",
        "        print(authorized_users)\n",
        "else:\n",
        "    # Restore 'print' if it's not callable\n",
        "    # Note: In a Jupyter Notebook or IPython environment, you might need to restart the kernel\n",
        "    # to completely restore the 'print' function.\n",
        "    # This is a workaround for demonstration purposes.\n",
        "    del print  # Attempt to delete the reassigned 'print'\n",
        "\n",
        "    # Now try printing again\n",
        "    if current_user in authorized_users:\n",
        "        print(authorized_users)"
      ],
      "metadata": {
        "colab": {
          "base_uri": "https://localhost:8080/"
        },
        "id": "8ph9n1_SSvom",
        "outputId": "77756c69-be73-4a5d-a853-650edb81725e"
      },
      "execution_count": 57,
      "outputs": [
        {
          "output_type": "stream",
          "name": "stdout",
          "text": [
            "{'user2', 'user1', 'admin'}\n"
          ]
        }
      ]
    },
    {
      "cell_type": "markdown",
      "source": [
        "Mathematical Set Operations: Sets support operations like union, intersection, difference, and more, making them useful for tasks like data analysis or comparing datasets."
      ],
      "metadata": {
        "id": "dGHCP6qtTEFm"
      }
    },
    {
      "cell_type": "code",
      "source": [
        "set1 = {1, 2, 3}\n",
        "set2 = {3, 4, 5}\n",
        "common_elements = set1.intersection(set2)"
      ],
      "metadata": {
        "id": "HrXZaaUYTAyI"
      },
      "execution_count": 58,
      "outputs": []
    },
    {
      "cell_type": "markdown",
      "source": [
        "Data Filtering and Validation: Sets can be used to filter data based on specific criteria or validate input values. For instance, checking if a user's input is within a set of allowed values.\n",
        "\n",
        "Finding Unique Items: Sets are helpful for quickly identifying unique items in a large dataset or comparing different datasets to find distinct elements.\n",
        "\n",
        "Summary: When to Use Which\n",
        "Use tuples: When you need to represent fixed data, group related values, pass data between functions, or ensure data integrity.\n",
        "Use sets: When you need to remove duplicates, test membership, perform mathematical set operations, or filter and validate data."
      ],
      "metadata": {
        "id": "mpqqGBwYTM5Q"
      }
    },
    {
      "cell_type": "code",
      "source": [],
      "metadata": {
        "id": "q_xXP7zbTIHs"
      },
      "execution_count": null,
      "outputs": []
    },
    {
      "cell_type": "markdown",
      "source": [
        "\n",
        "7.describes how to add,modify.and delete items in dictionary with examples.\n",
        "\n",
        "Adding Items\n",
        "You can add new key-value pairs to a dictionary using the following methods:\n",
        "\n",
        "1. Using the assignment operator:\n",
        "2. Using the update() method:\n",
        "\n",
        "Modifying Items\n",
        "Deleting Items There are several ways to delete items from a dictionary:\n",
        "\n",
        "1. Using the del keyword:\n",
        "2. Using the pop() method:\n",
        "3. Using the popitem() method:\n",
        "4. Using the clear() method:"
      ],
      "metadata": {
        "id": "JfsNHc1ZUWua"
      }
    },
    {
      "cell_type": "code",
      "source": [
        "#using the assignment opserators\n",
        "my_dict = {}  # Create an empty dictionary\n",
        "my_dict[\"name\"] = \"Alice\"  # Add a new key-value pair\n",
        "my_dict[\"age\"] = 30  # Add another key-value pair\n",
        "\n",
        "print(my_dict)  # Output: {'name': 'Alice', 'age': 30}"
      ],
      "metadata": {
        "colab": {
          "base_uri": "https://localhost:8080/"
        },
        "id": "R4f8Q5qoVUL7",
        "outputId": "667cf13c-4eb2-4572-a08c-f10ae50a79a8"
      },
      "execution_count": 59,
      "outputs": [
        {
          "output_type": "stream",
          "name": "stdout",
          "text": [
            "{'name': 'Alice', 'age': 30}\n"
          ]
        }
      ]
    },
    {
      "cell_type": "code",
      "source": [
        "#Using the update() method:\n",
        "\n",
        "\n",
        "my_dict = {\"name\": \"Alice\"}\n",
        "my_dict.update({\"age\": 30, \"city\": \"New York\"})\n",
        "\n",
        "print(my_dict)  # Output: {'name': 'Alice', 'age': 30, 'city': 'New York'}"
      ],
      "metadata": {
        "colab": {
          "base_uri": "https://localhost:8080/"
        },
        "id": "6KEBWkiCVZhD",
        "outputId": "4b07c920-d440-4024-c225-49fb687b1c5a"
      },
      "execution_count": 62,
      "outputs": [
        {
          "output_type": "stream",
          "name": "stdout",
          "text": [
            "{'name': 'Alice', 'age': 30, 'city': 'New York'}\n"
          ]
        }
      ]
    },
    {
      "cell_type": "code",
      "source": [
        "#modyfing items\n",
        "my_dict = {\"name\": \"Alice\", \"age\": 30}\n",
        "my_dict[\"age\"] = 31  # Update the value of the 'age' key\n",
        "\n",
        "print(my_dict)  # Output: {'name': 'Alice', 'age': 31}"
      ],
      "metadata": {
        "colab": {
          "base_uri": "https://localhost:8080/"
        },
        "id": "lPqn2haiVjKM",
        "outputId": "daeb91fb-cc83-468b-d48e-9c1c295e2f08"
      },
      "execution_count": 63,
      "outputs": [
        {
          "output_type": "stream",
          "name": "stdout",
          "text": [
            "{'name': 'Alice', 'age': 31}\n"
          ]
        }
      ]
    },
    {
      "cell_type": "code",
      "source": [
        " #Using the del keyword:\n",
        "\n",
        "\n",
        "my_dict = {\"name\": \"Alice\", \"age\": 31, \"city\": \"New York\"}\n",
        "del my_dict[\"city\"]  # Delete the key-value pair with key 'city'\n",
        "\n",
        "print(my_dict)  # Output: {'name': 'Alice', 'age': 31}"
      ],
      "metadata": {
        "colab": {
          "base_uri": "https://localhost:8080/"
        },
        "id": "Tyhb9g1RVuwW",
        "outputId": "c18b1004-23f3-4725-82da-5df1a5235524"
      },
      "execution_count": 64,
      "outputs": [
        {
          "output_type": "stream",
          "name": "stdout",
          "text": [
            "{'name': 'Alice', 'age': 31}\n"
          ]
        }
      ]
    },
    {
      "cell_type": "code",
      "source": [
        "#Using the pop() method:\n",
        "\n",
        "\n",
        "my_dict = {\"name\": \"Alice\", \"age\": 31}\n",
        "age = my_dict.pop(\"age\")  # Remove the key-value pair with key 'age' and store the value in 'age'\n",
        "\n",
        "print(my_dict)\n",
        "print(age)"
      ],
      "metadata": {
        "colab": {
          "base_uri": "https://localhost:8080/"
        },
        "id": "lm0CTPyPV0d_",
        "outputId": "3a343b56-aa1e-45ab-ff7e-fa15081b0b51"
      },
      "execution_count": 66,
      "outputs": [
        {
          "output_type": "stream",
          "name": "stdout",
          "text": [
            "{'name': 'Alice'}\n",
            "31\n"
          ]
        }
      ]
    },
    {
      "cell_type": "code",
      "source": [
        "# Using the popitem() method:\n",
        "\n",
        "\n",
        "my_dict = {\"name\": \"Alice\", \"age\": 31}\n",
        "item = my_dict.popitem()  # Remove and return the last inserted item as a (key, value) tuple\n",
        "\n",
        "print(my_dict)  # Output: {'name': 'Alice'}\n",
        "print(item)  # Output: ('age', 31)"
      ],
      "metadata": {
        "colab": {
          "base_uri": "https://localhost:8080/"
        },
        "id": "mLHNsCKzXN5L",
        "outputId": "1870d093-ddc0-40f8-d052-e85c57807587"
      },
      "execution_count": 67,
      "outputs": [
        {
          "output_type": "stream",
          "name": "stdout",
          "text": [
            "{'name': 'Alice'}\n",
            "('age', 31)\n"
          ]
        }
      ]
    },
    {
      "cell_type": "code",
      "source": [
        " #3Using the clear() method:\n",
        "\n",
        "\n",
        "my_dict = {\"name\": \"Alice\", \"age\": 31}\n",
        "my_dict.clear()  # Remove all items from the dictionary\n",
        "\n",
        "print(my_dict)"
      ],
      "metadata": {
        "colab": {
          "base_uri": "https://localhost:8080/"
        },
        "id": "BmnvbpqpXZnt",
        "outputId": "bf9a54de-e060-4e19-b581-aef3efdd9a97"
      },
      "execution_count": 68,
      "outputs": [
        {
          "output_type": "stream",
          "name": "stdout",
          "text": [
            "{}\n"
          ]
        }
      ]
    },
    {
      "cell_type": "code",
      "source": [],
      "metadata": {
        "id": "brJFGh4wXgOR"
      },
      "execution_count": null,
      "outputs": []
    },
    {
      "cell_type": "markdown",
      "source": [
        "8.discuss the importance of dictionary keys being immutable and provide examples?\n",
        "\n",
        "Okay, let's discuss the importance of dictionary keys being immutable in Python.\n",
        "\n",
        "Importance of Immutable Dictionary Keys\n",
        "Dictionary keys in Python must be immutable. This is fundamental to how dictionaries work internally. Here's why:\n",
        "\n",
        "Hashing: Dictionaries use a hash table to store key-value pairs. When you add a key, Python calculates its hash value – a unique numerical representation. This hash value is used to determine the location of the key-value pair in memory, enabling fast lookups. If the key were mutable, its hash value could change after being inserted, making it impossible to find the corresponding value efficiently.\n",
        "\n",
        "Uniqueness: Dictionary keys must be unique. Immutable objects guarantee this uniqueness because their values cannot be altered after creation. If keys were mutable, you could potentially modify a key to be the same as another existing key, leading to data corruption and unpredictable behavior.\n",
        "\n",
        "Data Integrity: Immutability ensures data integrity within the dictionary. You can be confident that the key used to store a value will remain the same throughout the dictionary's lifetime. This predictability is crucial for reliable data retrieval and manipulation.\n",
        "\n",
        "Examples\n",
        "Valid Keys (Immutable):\n",
        "\n",
        "Numbers: int, float, complex\n",
        "Strings: str\n",
        "Tuples: tuple (only if they contain immutable elements)\n",
        "Booleans: bool\n",
        "Invalid Keys (Mutable):\n",
        "\n",
        "Lists: list\n",
        "Dictionaries: dict\n",
        "Sets: set\n",
        "\n",
        "Why the error? Lists are mutable. If you were to modify the list [1, 2] after using it as a key, the dictionary's internal hashing mechanism would break, preventing you from finding the associated value correctly.\n",
        "\n",
        "Using Tuples as Keys (with caution):\n",
        "\n",
        "While tuples are generally immutable, they can be used as dictionary keys only if they contain immutable elements. If a tuple contains a mutable object like a list, it becomes mutable and cannot be used as a key."
      ],
      "metadata": {
        "id": "fLRaGEsOXm_g"
      }
    },
    {
      "cell_type": "code",
      "source": [
        "#valid dict\n",
        "valid_dict = {\n",
        "    1: \"one\",\n",
        "    3.14: \"pi\",\n",
        "    \"name\": \"Alice\",\n",
        "    (1, 2): \"coordinates\",\n",
        "    True: \"yes\"\n",
        "}"
      ],
      "metadata": {
        "id": "ELu3ML42YHwg"
      },
      "execution_count": 73,
      "outputs": []
    },
    {
      "cell_type": "code",
      "source": [
        "# This will raise a TypeError: unhashable type: 'list'\n",
        "invalid_dict = {\n",
        "    [1, 2]: \"coordinates\"\n",
        "}"
      ],
      "metadata": {
        "colab": {
          "base_uri": "https://localhost:8080/",
          "height": 193
        },
        "id": "wxN4KRAmYI-S",
        "outputId": "e237494c-416a-41ce-f37b-cacef4b399b5"
      },
      "execution_count": 70,
      "outputs": [
        {
          "output_type": "error",
          "ename": "TypeError",
          "evalue": "unhashable type: 'list'",
          "traceback": [
            "\u001b[0;31m---------------------------------------------------------------------------\u001b[0m",
            "\u001b[0;31mTypeError\u001b[0m                                 Traceback (most recent call last)",
            "\u001b[0;32m<ipython-input-70-f8cba5aef6fe>\u001b[0m in \u001b[0;36m<cell line: 3>\u001b[0;34m()\u001b[0m\n\u001b[1;32m      1\u001b[0m \u001b[0;31m# This will raise a TypeError: unhashable type: 'list'\u001b[0m\u001b[0;34m\u001b[0m\u001b[0;34m\u001b[0m\u001b[0m\n\u001b[0;32m----> 2\u001b[0;31m invalid_dict = {\n\u001b[0m\u001b[1;32m      3\u001b[0m     \u001b[0;34m[\u001b[0m\u001b[0;36m1\u001b[0m\u001b[0;34m,\u001b[0m \u001b[0;36m2\u001b[0m\u001b[0;34m]\u001b[0m\u001b[0;34m:\u001b[0m \u001b[0;34m\"coordinates\"\u001b[0m\u001b[0;34m\u001b[0m\u001b[0;34m\u001b[0m\u001b[0m\n\u001b[1;32m      4\u001b[0m }\n",
            "\u001b[0;31mTypeError\u001b[0m: unhashable type: 'list'"
          ]
        }
      ]
    },
    {
      "cell_type": "code",
      "source": [
        "# Instead of a list, use a tuple, which is immutable and hashable.\n",
        "invalid_dict = {\n",
        "    (1, 2): \"coordinates\"  # Changed from [1, 2] to (1, 2)\n",
        "}\n"
      ],
      "metadata": {
        "id": "-QLINtICYN5T"
      },
      "execution_count": 72,
      "outputs": []
    },
    {
      "cell_type": "code",
      "source": [],
      "metadata": {
        "id": "o-a1LbCsYRjb"
      },
      "execution_count": null,
      "outputs": []
    }
  ]
}