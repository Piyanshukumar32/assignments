{
  "nbformat": 4,
  "nbformat_minor": 0,
  "metadata": {
    "colab": {
      "provenance": []
    },
    "kernelspec": {
      "name": "python3",
      "display_name": "Python 3"
    },
    "language_info": {
      "name": "python"
    }
  },
  "cells": [
    {
      "cell_type": "markdown",
      "source": [
        "1. What does R-R-squared (R²), also known as the coefficient of determination, is a statistical measure that represents the proportion of the variance in the dependent variable that is explained by the independent variable(s) in a regression model.\n",
        "\n",
        "In simpler terms:\n",
        "\n",
        "It tells you how well the regression line (the line of best fit) fits the actual data points.\n",
        "It indicates the goodness of fit of the model.\n",
        "Interpretation:\n",
        "\n",
        "R² values range from 0 to 1.\n",
        "A value of 0 means that the model does not explain any of the variability of the response data around its mean.\n",
        "A value of 1 means that the model explains all the variability of the response data around its mean.\n",
        "Higher R² values indicate a better fit, meaning the model explains more of the variance in the dependent variable.\n",
        "Example:\n",
        "\n",
        "If a regression model has an R² of 0.8, it means that 80% of the variation in the dependent variable can be explained by the independent variable(s) included in the model. The remaining 20% of the variation is unexplained and may be due to other factors not included in the model.squared represent in a regression model*\n",
        "\n",
        "\n",
        "ans:-"
      ],
      "metadata": {
        "id": "Vx4HDflfEH6p"
      }
    },
    {
      "cell_type": "markdown",
      "source": [
        "2.What are the assumptions of linear regression*\n",
        "\n",
        "\n",
        "ans;-Okay, here are the key assumptions of linear regression:\n",
        "\n",
        "1. Linearity: There should be a linear relationship between the independent and dependent variables. This means that the relationship between the variables can be represented by a straight line.\n",
        "\n",
        "How to check: You can check this assumption by creating a scatter plot of the independent variable against the dependent variable. If the points on the plot form a roughly straight line, then the linearity assumption is likely met.\n",
        "\n",
        "2. Independence: The observations should be independent of each other. This means that the value of one observation should not be influenced by the value of any other observation.\n",
        "\n",
        "How to check: This assumption is often difficult to test directly. However, you can look for patterns in the data that might suggest dependence, such as autocorrelation (correlation between observations over time) or clustering (groups of observations that are similar to each other).\n",
        "\n",
        "3. Homoscedasticity: The variance of the residuals (the difference between the predicted and actual values) should be constant across all levels of the independent variable. This means that the spread of the residuals should be roughly the same for all values of the independent variable.\n",
        "\n",
        "How to check: You can check this assumption by creating a scatter plot of the residuals against the predicted values. If the points on the plot are randomly scattered around a horizontal line, then the homoscedasticity assumption is likely met.\n",
        "\n",
        "4. Normality: The residuals should be normally distributed. This means that the distribution of the residuals should follow a bell-shaped curve.\n",
        "\n",
        "How to check: You can check this assumption by creating a histogram or a normal probability plot of the residuals. If the histogram is roughly bell-shaped or the points on the normal probability plot fall along a straight line, then the normality assumption is likely met."
      ],
      "metadata": {
        "id": "JLlnsNFlEa60"
      }
    },
    {
      "cell_type": "markdown",
      "source": [
        "3. What is the difference between R-squared and Adjusted R-squared*\n",
        "\n",
        "\n",
        "ans:-R-squared (R²)\n",
        "\n",
        "Represents the proportion of variance in the dependent variable explained by the independent variables in a regression model.\n",
        "Ranges from 0 to 1, with higher values indicating a better fit.\n",
        "Limitation: R² always increases when you add more predictors to a model, even if those predictors don't significantly improve the model's accuracy. This can lead to an overly optimistic view of the model's performance.\n",
        "Adjusted R-squared (Adjusted R²)\n",
        "\n",
        "Modifies R² to account for the number of predictors in the model.\n",
        "It penalizes the addition of irrelevant predictors that don't improve the model's explanatory power.\n",
        "Also ranges from 0 to 1, but is generally lower than R².\n",
        "Benefit: Provides a more realistic assessment of the model's goodness of fit, especially when comparing models with different numbers of predictors.\n",
        "In essence:\n",
        "\n",
        "R² tells you how well the model fits the data.\n",
        "Adjusted R² tells you how well the model fits the data, while also considering the complexity of the model (number of predictors)."
      ],
      "metadata": {
        "id": "uf0Wa_COEnkA"
      }
    },
    {
      "cell_type": "markdown",
      "source": [
        "4. Why do we use Mean Squared Error (MSE)*\n",
        "\n",
        "\n",
        "ans:-Reasons for using MSE:\n",
        "\n",
        "Sensitivity to Errors: MSE squares the errors, giving more weight to larger errors. This makes it sensitive to outliers and helps identify models that make significant prediction mistakes.\n",
        "\n",
        "Differentiability: MSE is a differentiable function, which means it can be easily used in optimization algorithms for finding the best model parameters. This is crucial for training regression models effectively.\n",
        "\n",
        "Mathematical Convenience: MSE has desirable mathematical properties that make it easier to work with compared to other error metrics. For example, it's easy to calculate and has a clear interpretation.\n",
        "\n",
        "Commonly Used: MSE is a widely accepted and understood metric in the field of machine learning, making it easy to compare results across different models and studies.\n",
        "\n",
        "In simpler terms:\n",
        "\n",
        "Imagine you're trying to predict the price of a house. MSE would calculate the average of the squared differences between your predicted prices and the actual prices. A lower MSE indicates that your predictions are closer to the true values, suggesting a better-performing model."
      ],
      "metadata": {
        "id": "hHNAsQc3E2CI"
      }
    },
    {
      "cell_type": "markdown",
      "source": [
        "5. What does an Adjusted R-squared value of 0.85 indicate*\n",
        "\n",
        "\n",
        "ans:-Interpretation:\n",
        "\n",
        "This is generally considered a very good fit. It suggests that the model is doing a good job of explaining the variation in the dependent variable.\n",
        "The model is likely to be useful for prediction and understanding the relationship between the variables.\n",
        "Important Considerations:\n",
        "\n",
        "Context: While 0.85 is a good score in many cases, the ideal Adjusted R-squared value depends on the specific dataset and the field of study. In some fields, lower values may still be considered acceptable, while in others, higher values might be expected.\n",
        "Overfitting: A very high Adjusted R-squared could potentially indicate overfitting, especially if the model has a large number of predictors. Overfitting means the model is too complex and is fitting the noise in the data rather than the underlying pattern.\n",
        "Other Metrics: It's essential to consider other model evaluation metrics in conjunction with Adjusted R-squared, such as MSE, RMSE, and MAE, to get a comprehensive picture of the model's performance."
      ],
      "metadata": {
        "id": "CWxGuiYrFHlm"
      }
    },
    {
      "cell_type": "markdown",
      "source": [
        "6. How do we check for normality of residuals in linear regression*\n",
        "\n",
        "\n",
        "ans:L;-Methods to check normality of residuals:\n",
        "\n",
        "Visual Inspection:\n",
        "\n",
        "Histogram: Plot a histogram of the residuals. If the histogram resembles a bell-shaped curve, it suggests that the residuals are approximately normally distributed.\n",
        "\n",
        "import matplotlib.pyplot as plt\n",
        "     import seaborn as sns\n",
        "\n",
        "     # Assuming 'residuals' is a variable containing your model's residuals\n",
        "     sns.histplot(residuals, kde=True)\n",
        "     plt.title('Histogram of Residuals')\n",
        "     plt.xlabel('Residuals')\n",
        "     plt.ylabel('Frequency')\n",
        "     plt.show()\n",
        "Use code with caution\n",
        "Q-Q Plot (Quantile-Quantile Plot): Create a Q-Q plot of the residuals. In a Q-Q plot, the observed quantiles of the residuals are plotted against the expected quantiles of a normal distribution. If the points fall approximately along a straight diagonal line, it suggests normality.\n",
        "\n",
        "import statsmodels.api as sm\n",
        "\n",
        "     # Assuming 'residuals' is a variable containing your model's residuals\n",
        "     sm.qqplot(residuals, line='s')\n",
        "     plt.title('Q-Q Plot of Residuals')\n",
        "     plt.show()\n",
        "Use code with caution\n",
        "Statistical Tests:\n",
        "\n",
        "Shapiro-Wilk Test: This test specifically tests for normality. The null hypothesis is that the data is normally distributed. If the p-value is greater than your chosen significance level (e.g., 0.05), you fail to reject the null hypothesis, suggesting normality.\n",
        "\n",
        "from scipy import stats\n",
        "\n",
        "     # Assuming 'residuals' is a variable containing your model's residuals\n",
        "     statistic, p_value = stats.shapiro(residuals)\n",
        "     print(f\"Shapiro-Wilk Test: Statistic = {statistic}, P-value = {p_value}\")\n",
        "Use code with caution\n",
        "Kolmogorov-Smirnov Test: This test can also be used for normality, but it's less powerful than the Shapiro-Wilk test for smaller sample sizes.\n",
        "\n",
        "from scipy import stats\n",
        "\n",
        "     # Assuming 'residuals' is a variable containing your model's residuals\n",
        "     statistic, p_value = stats.kstest(residuals, 'norm')\n",
        "     print(f\"Kolmogorov-Smirnov Test: Statistic = {statistic}, P"
      ],
      "metadata": {
        "id": "10l2MfWcFVt0"
      }
    },
    {
      "cell_type": "markdown",
      "source": [
        "7. What is multicollinearity, and how does it impact regression*\n",
        "\n",
        "\n",
        "ans:-Okay, let's discuss multicollinearity and its impact on regression:\n",
        "\n",
        "Multicollinearity occurs in regression analysis when two or more independent variables are highly correlated with each other. In simpler terms, it means that some predictors in your model can be predicted from other predictors.\n",
        "\n",
        "Impact on Regression:\n",
        "\n",
        "Unstable and unreliable coefficient estimates: Multicollinearity makes it difficult to isolate the individual effects of independent variables on the dependent variable. This leads to unstable and unreliable coefficient estimates, making it hard to interpret the importance of each predictor.\n",
        "\n",
        "Inflated standard errors: The standard errors of the regression coefficients increase when multicollinearity is present. This makes it more likely to find statistically insignificant coefficients, even if the predictors are actually important.\n",
        "\n",
        "Reduced model precision: Multicollinearity can reduce the overall precision of the regression model, making it less accurate in predicting the dependent variable.\n",
        "\n",
        "Difficulty in interpreting coefficients: It becomes challenging to determine the unique contribution of each independent variable to the dependent variable when they are highly correlated.\n",
        "\n",
        "Example:\n",
        "\n",
        "Imagine you're trying to predict a person's weight using their height and shoe size. Height and shoe size are likely to be correlated, as taller people tend to have larger feet. This correlation introduces multicollinearity, making it difficult to determine the individual effect of height or shoe size on weight.\n",
        "\n",
        "Detecting Multicollinearity:\n",
        "\n",
        "Correlation matrix: Examining the correlation coefficients between independent variables can help identify potential multicollinearity. High correlations (e.g., above 0.7 or 0.8) suggest a problem.\n",
        "Variance Inflation Factor (VIF): VIF measures how much the variance of an estimated regression coefficient is inflated due to multicollinearity. A VIF of 1 indicates no multicollinearity, while higher values suggest increasing levels of multicollinearity. Generally, VIF values above 5 or 10 are considered problematic.\n",
        "Addressing Multicollinearity:\n",
        "\n",
        "Remove one or more correlated variables: If two or more variables are highly correlated, removing one of them can help reduce multicollinearity.\n",
        "Combine correlated variables: You can create a composite variable by combining the correlated variables. For example, instead of using height and shoe size separately, you could create a new variable called \"body size\" that combines both.\n",
        "Regularization techniques: Methods like Ridge regression or Lasso regression can help mitigate the impact of multicollinearity by shrinking the coefficients of less important variables."
      ],
      "metadata": {
        "id": "d3qCaj3BFjdf"
      }
    },
    {
      "cell_type": "markdown",
      "source": [
        "8. What is Mean Absolute Error (MAE)*\n",
        "\n",
        "\n",
        "ans:-Mean Absolute Error (MAE) is a metric used to measure the average absolute difference between predicted and actual values in a regression model. It provides a measure of prediction accuracy without considering the direction of errors.\n",
        "\n",
        "Formula:\n",
        "\n",
        "\n",
        "MAE = (1/n) * Σ|yi - ŷi|\n",
        "Use code with caution\n",
        "where:\n",
        "\n",
        "n is the number of data points\n",
        "yi is the actual value for the ith data point\n",
        "ŷi is the predicted value for the ith data point\n",
        "Σ represents the sum over all data points\n",
        "In simpler terms:\n",
        "\n",
        "MAE calculates the average of the absolute differences between your predictions and the actual values. It tells you, on average, how far off your predictions are from the true values, regardless of whether they are overestimates or underestimates.\n",
        "\n",
        "Example:\n",
        "\n",
        "Let's say you're predicting house prices, and your model makes the following predictions:\n",
        "\n",
        "Actual price: $200,000, Predicted price: $$200,000, Predicted price: $180,000\n",
        "Actual price: $250,000, Predicted price: $$250,000, Predicted price: $260,000\n",
        "Actual price: $300,000, Predicted price: $$300,000, Predicted price: $290,000\n",
        "To calculate MAE:\n",
        "\n",
        "Calculate the absolute errors:\n",
        "\n",
        "|$200,000 - $$200,000 - $180,000| = $20,000 * |$$20,000 * |$250,000 - $260,000| = $$260,000| = $10,000\n",
        "|$300,000 - $$300,000 - $290,000| = $10,000\n",
        "Sum the absolute errors: $20,000 + $$20,000 + $10,000 + $10,000 = $$10,000 = $40,000\n",
        "\n",
        "Divide by the number of data points: $40,000 / 3 = $$40,000 / 3 = $13,333.33\n",
        "\n",
        "Therefore, the MAE for this model is $13,333.33. This means that, on average, the model's predictions are off by about $$13,333.33. This means that, on average, the model's predictions are off by about $13,333.33.\n",
        "\n",
        "Interpretation:\n",
        "\n",
        "Lower MAE values indicate better model accuracy, as they represent smaller average prediction errors.\n",
        "MAE is easier to interpret than MSE because it's in the same units as the original data."
      ],
      "metadata": {
        "id": "olgdZsDZF_zY"
      }
    },
    {
      "cell_type": "markdown",
      "source": [
        "9. What are the benefits of using an ML pipeline*\n",
        "\n",
        "\n",
        "ans:-An ML pipeline is a sequence of steps involved in building and deploying a machine learning model. It automates the workflow, making the process more efficient, reproducible, and maintainable.\n",
        "\n",
        "Benefits of using an ML pipeline:\n",
        "\n",
        "Increased Efficiency and Productivity: Pipelines automate repetitive tasks, such as data cleaning, preprocessing, feature engineering, model training, and evaluation. This frees up data scientists to focus on more complex and strategic aspects of the project.\n",
        "\n",
        "Improved Reproducibility: Pipelines ensure that the entire ML workflow is documented and repeatable. This allows for consistent results and makes it easier to share and collaborate on projects.\n",
        "\n",
        "Reduced Errors: Automation reduces the risk of human error, leading to more reliable and robust models.\n",
        "\n",
        "Better Collaboration: Pipelines facilitate collaboration among team members by providing a clear and structured workflow. This improves communication and helps ensure that everyone is working with the same data and processes.\n",
        "\n",
        "Easier Experimentation: Pipelines make it easier to experiment with different models, algorithms, and hyperparameters. This can lead to better model performance and faster development cycles.\n",
        "\n",
        "Simplified Deployment: Pipelines streamline the deployment process by automating the steps involved in moving a model from development to production. This helps ensure a smooth and efficient transition.\n",
        "\n",
        "Enhanced Scalability: Pipelines can be easily scaled to handle large datasets and complex workflows. This is essential for building and deploying ML models in real-world applications.\n",
        "\n",
        "Improved Maintainability: Pipelines make it easier to maintain and update ML models over time. This is crucial for ensuring that models remain accurate and relevant as new data becomes available."
      ],
      "metadata": {
        "id": "5k115vlwGJs9"
      }
    },
    {
      "cell_type": "markdown",
      "source": [
        "10. Why is RMSE considered more interpretable than MSE*\n",
        "\n",
        "\n",
        "ans:-RMSE is the square root of the average of squared differences between predicted and actual values. It's calculated as:\n",
        "\n",
        "\n",
        "RMSE = √(MSE)\n",
        "Use code with caution\n",
        "MSE is the average of squared differences between predicted and actual values.\n",
        "\n",
        "Interpretability:\n",
        "\n",
        "Units: RMSE is expressed in the same units as the target variable, making it easier to understand and relate to the real-world context. For example, if you're predicting house prices in dollars, RMSE will also be in dollars. This makes it directly interpretable as the average prediction error in the same units as the target variable.\n",
        "\n",
        "Scale: MSE, on the other hand, is expressed in squared units, which can be harder to grasp intuitively. Taking the square root in RMSE brings the error metric back to the original scale, making it more relatable to the data and the problem being addressed.\n",
        "\n",
        "Sensitivity to Outliers: Both RMSE and MSE are sensitive to outliers, but RMSE gives relatively more weight to larger errors. This can be beneficial in cases where larger errors are more significant and need to be addressed more prominently.\n",
        "\n",
        "Example:\n",
        "\n",
        "If you have an RMSE of $10,000 for predicting house prices, you can directly interpret it as: \"On average, the model's predictions are off by about $$10,000 for predicting house prices, you can directly interpret it as: \"On average, the model's predictions are off by about $10,000.\" With MSE, you would have a value in squared dollars, which is less intuitive to understand in the context of house prices.\n",
        "\n",
        "In summary:\n",
        "\n",
        "RMSE is generally preferred over MSE for interpretability because:\n",
        "\n",
        "It's expressed in the same units as the target variable, making it easier to understand in the real-world context.\n",
        "It's on the original scale of the data, making it more relatable and intuitive.\n",
        "It gives relatively more weight to larger errors, which can be important in certain applications.\n",
        "While both RMSE and MSE provide valuable information about model performance, RMSE's interpretability makes it a more practical choice for communicating results and understanding the magnitude of prediction errors."
      ],
      "metadata": {
        "id": "Vv8i4K8KGV91"
      }
    },
    {
      "cell_type": "markdown",
      "source": [
        "11. What is pickling in Python, and how is it useful in ML*\n",
        "\n",
        "\n",
        "ans:-Okay, let's discuss pickling in Python and its usefulness in machine learning:\n",
        "\n",
        "Pickling is a process in Python used to serialize and deserialize Python object structures.\n",
        "\n",
        "Serialization: Converting a Python object into a byte stream that can be stored in a file or transferred over a network.\n",
        "Deserialization: Reconstructing the original Python object from the byte stream.\n",
        "How Pickling is Useful in ML:\n",
        "\n",
        "Saving Trained Models: After training a machine learning model, you can pickle it to save it to a file. This allows you to load and reuse the model later without retraining, saving time and resources.\n",
        "\n",
        "Storing Data Objects: Pickling can be used to store complex data structures, such as feature matrices, data frames, or intermediate results of ML pipelines. This enables you to save and load data efficiently, especially for large datasets.\n",
        "\n",
        "Sharing Models and Data: Pickled objects can be easily shared between different Python scripts or systems. This facilitates collaboration and makes it easier to deploy ML models in different environments.\n",
        "\n",
        "Caching Results: You can use pickling to cache intermediate results of computationally expensive operations in ML workflows. This can significantly speed up the overall process.\n",
        "\n",
        "Example:\n",
        "\n",
        "\n",
        "import pickle\n",
        "\n",
        "# Saving a trained model\n",
        "with open('model.pkl', 'wb') as file:\n",
        "  pickle.dump(model, file)\n",
        "\n",
        "# Loading a saved model\n",
        "with open('model.pkl', 'rb') as file:\n",
        "  loaded_model = pickle.load(file)\n",
        "Use code with caution\n",
        "Important Considerations:\n",
        "\n",
        "Security: Pickling can be vulnerable to security risks if you load pickled data from untrusted sources. Only load pickled objects from sources you trust.\n",
        "Compatibility: Pickled objects may not be compatible across different Python versions or environments. Ensure compatibility when sharing pickled files."
      ],
      "metadata": {
        "id": "xtQI8KzoGieR"
      }
    },
    {
      "cell_type": "markdown",
      "source": [
        "12. What does a high R-squared value mean*\n",
        "\n",
        "\n",
        "ams;-A high R-squared value indicates that the model is well-fitted to the data and explains a large proportion of the variability in the dependent variable.\n",
        "\n",
        "Interpretation:\n",
        "\n",
        "R-squared values range from 0 to 1.\n",
        "A value closer to 1 suggests a stronger relationship between the independent and dependent variables, with the model capturing more of the underlying patterns in the data.\n",
        "A value closer to 0 implies that the model does not explain much of the variability in the dependent variable, suggesting a poor fit.\n",
        "Example:\n",
        "\n",
        "If a regression model has an R-squared value of 0.9, it means that 90% of the variation in the dependent variable is explained by the independent variables included in the model. This suggests a strong relationship and a good fit.\n",
        "\n",
        "Important Considerations:\n",
        "\n",
        "Context: While a high R-squared is generally desirable, it's crucial to consider the specific context and the field of study. In some fields, lower R-squared values may still be considered acceptable, while in others, higher values might be expected.\n",
        "Overfitting: A very high R-squared can sometimes indicate overfitting, especially if the model is complex and has many predictors. Overfitting means the model is too closely tailored to the training data and may not generalize well to new data.\n",
        "Adjusted R-squared: When comparing models with different numbers of predictors, it's often more appropriate to use Adjusted R-squared, which takes into account the model complexity and penalizes the addition of irrelevant predictors.\n"
      ],
      "metadata": {
        "id": "Hg4v0uvuGvhE"
      }
    },
    {
      "cell_type": "markdown",
      "source": [
        "13. What happens if linear regression assumptions are violated*\n",
        "\n",
        "\n",
        "ans:-Okay, let's discuss what happens when the assumptions of linear regression are violated:\n",
        "\n",
        "Violating linear regression assumptions can have several consequences, affecting the reliability and interpretability of the model:\n",
        "\n",
        "Biased or Inefficient Estimates: Violations of assumptions like linearity, independence, and homoscedasticity can lead to biased or inefficient coefficient estimates. This means the estimated relationships between predictors and the target variable might be inaccurate or less precise.\n",
        "\n",
        "Invalid Hypothesis Tests: When assumptions are violated, the results of hypothesis tests associated with the regression model may be invalid. This can lead to incorrect conclusions about the significance of predictors or the overall model fit.\n",
        "\n",
        "Misleading Predictions: If the assumptions are not met, the model's predictions might be unreliable and inaccurate. This can have serious consequences if the model is used for decision-making.\n",
        "\n",
        "Inflated or Deflated Standard Errors: Violations can impact the standard errors of the regression coefficients, making them either inflated or deflated. This affects the confidence intervals and p-values associated with the coefficients, potentially leading to incorrect interpretations.\n",
        "\n",
        "Reduced Model Generalizability: When assumptions are violated, the model might not generalize well to new, unseen data. This means the model's performance might degrade significantly when applied to data outside the training set.\n",
        "\n",
        "Specific Violations and Consequences:\n",
        "\n",
        "Non-linearity: If the relationship between predictors and the target variable is not linear, the model will not accurately capture the true relationship, leading to biased predictions.\n",
        "Heteroscedasticity: Unequal variance of residuals can lead to inefficient coefficient estimates and inaccurate hypothesis tests.\n",
        "Autocorrelation: Dependence between observations can result in biased standard errors and incorrect inferences.\n",
        "Non-normality of Residuals: While not always critical, non-normality can affect the validity of certain statistical tests and confidence intervals.\n",
        "Multicollinearity: High correlation between predictors can lead to unstable coefficient estimates and difficulty in interpreting the individual effects of predictors.\n",
        "Addressing Violations:\n",
        "\n",
        "Data Transformations: Applying transformations to variables (e.g., log transformation, Box-Cox transformation) can help address non-linearity or heteroscedasticity.\n",
        "Robust Regression: Techniques like robust regression can be used to handle outliers and violations of normality assumptions.\n",
        "Generalized Linear Models (GLMs): When the target variable's distribution is not normal, GLMs can provide a more appropriate modeling framework.\n",
        "Addressing Multicollinearity: Removing or combining highly correlated predictors, or using regularization methods like Ridge or Lasso regression, can mitigate multicollinearity issues."
      ],
      "metadata": {
        "id": "RrcyTZBBG9NR"
      }
    },
    {
      "cell_type": "markdown",
      "source": [
        "14. How can we address multicollinearity in regression*\n",
        "\n",
        "\n",
        "ans:-Okay, let's discuss how to address multicollinearity in regression:\n",
        "\n",
        "Multicollinearity, the presence of high correlation between predictor variables, can negatively impact the stability and interpretability of regression models. Here are several techniques to address this issue:\n",
        "\n",
        "Remove one or more correlated variables:\n",
        "\n",
        "Identify correlated predictors: Examine the correlation matrix or calculate Variance Inflation Factors (VIFs) to identify variables with high correlations (e.g., above 0.7 or VIFs above 5 or 10).\n",
        "Remove redundant variables: Carefully select and remove one or more of the highly correlated variables, prioritizing those that are less theoretically important or have weaker relationships with the target variable.\n",
        "Caution: Removing variables can lead to information loss, so consider the potential impact on model performance and interpretability.\n",
        "Combine correlated variables:\n",
        "\n",
        "Create composite variables: Combine highly correlated predictors into a single composite variable, often through principal component analysis (PCA) or by creating a new variable based on domain knowledge.\n",
        "Example: Instead of using separate variables for \"height\" and \"weight,\" you could create a composite variable like \"body mass index (BMI).\"\n",
        "Benefit: This reduces dimensionality and multicollinearity while potentially retaining important information.\n",
        "Regularization techniques:\n",
        "\n",
        "Ridge regression and Lasso regression: These methods introduce penalties on the size of regression coefficients, shrinking them towards zero. This helps reduce the impact of multicollinearity on coefficient estimates.\n",
        "Benefit: Regularization can improve model stability and prediction accuracy, especially when multicollinearity is present.\n",
        "Collect more data:\n",
        "\n",
        "Increase sample size: With more data, the impact of multicollinearity can be reduced, as the model has more information to estimate coefficients more reliably.\n",
        "Caution: This may not always be feasible or practical.\n",
        "Centering or scaling variables:\n",
        "\n",
        "Centering: Subtracting the mean of each predictor variable from its values can sometimes help reduce multicollinearity, especially in interaction terms.\n",
        "Scaling: Standardizing or normalizing predictor variables can also improve model stability and reduce the influence of multicollinearity.\n",
        "Partial least squares regression (PLS):\n",
        "\n",
        "Alternative method: PLS is a regression technique that can handle multicollinearity effectively by constructing new latent variables that are linear combinations of the original predictors.\n",
        "Benefit: Useful when dealing with highly correlated predictors and a large number of variables.\n",
        "Choosing the right approach:\n",
        "\n",
        "The best approach for addressing multicollinearity depends on the specific dataset, research question, and model objectives. Consider the trade-offs between model complexity, interpretability, and prediction accuracy when selecting a technique. Carefully evaluate the impact of each approach on the model's performance and draw conclusions accordingly."
      ],
      "metadata": {
        "id": "1E6q5liTHJev"
      }
    },
    {
      "cell_type": "markdown",
      "source": [
        "15.Why do we use pipelines in machine learning*\n",
        "\n",
        "\n",
        "ans;-Okay, let's discuss why we use pipelines in machine learning:\n",
        "\n",
        "In machine learning, a pipeline is a sequence of data transformations and modeling steps chained together to automate the machine learning workflow.\n",
        "\n",
        "Reasons for Using Pipelines:\n",
        "\n",
        "Clean and Organized Code: Pipelines help structure your code by encapsulating multiple steps into a single object, making it more readable, maintainable, and easier to debug.\n",
        "\n",
        "Reproducibility: Pipelines ensure consistency and reproducibility in your ML workflow. By defining all steps in a single pipeline, you can easily recreate the same process with different data or parameters.\n",
        "\n",
        "Preventing Data Leakage: Pipelines help prevent data leakage in cross-validation by applying transformations to each fold separately, ensuring that information from the test set doesn't influence the training process.\n",
        "\n",
        "Efficiency and Automation: Pipelines automate the entire process from data preprocessing to model training and evaluation, saving you time and effort.\n",
        "\n",
        "Hyperparameter Tuning: Pipelines make it easier to perform hyperparameter tuning using techniques like GridSearchCV or RandomizedSearchCV, as you can treat the entire pipeline as a single estimator.\n",
        "\n",
        "Simplified Deployment: Pipelines simplify the deployment process by bundling all the necessary steps into a single object that can be easily saved and loaded.\n",
        "\n",
        "Flexibility and Modularity: Pipelines allow you to easily swap out different components or add new steps, making your workflow more flexible and adaptable to changing requirements.\n",
        "\n",
        "Example:\n",
        "\n",
        "\n",
        "from sklearn.pipeline import Pipeline\n",
        "from sklearn.preprocessing import StandardScaler\n",
        "from sklearn.linear_model import LogisticRegression\n",
        "\n",
        "# Create a pipeline\n",
        "pipeline = Pipeline([\n",
        "    ('scaler', StandardScaler()),\n",
        "    ('classifier', LogisticRegression())\n",
        "])\n",
        "\n",
        "# Fit the pipeline to the training data\n",
        "pipeline.fit(X_train, y_train)\n",
        "\n",
        "# Make predictions on the test data\n",
        "y_pred = pipeline.predict(X_test)"
      ],
      "metadata": {
        "id": "3j4aoRMPHWCn"
      }
    },
    {
      "cell_type": "markdown",
      "source": [
        "16. How is Adjusted R-squared calculated*\n",
        "\n",
        "\n",
        "ans:-Adjusted R-squared (Adjusted R²) is a modified version of R-squared that takes into account the number of predictors in a regression model. It's calculated using the following formula:\n",
        "\n",
        "\n",
        "Adjusted R² = 1 - [(1 - R²) * (n - 1) / (n - k - 1)]\n",
        "Use code with caution\n",
        "where:\n",
        "\n",
        "R² is the R-squared value\n",
        "n is the number of observations (data points)\n",
        "k is the number of predictor variables (independent variables)\n",
        "Breaking down the formula:\n",
        "\n",
        "(1 - R²): Represents the proportion of variance in the dependent variable that is not explained by the model.\n",
        "(n - 1): Degrees of freedom for the total variance.\n",
        "(n - k - 1): Degrees of freedom for the residual variance (variance not explained by the model).\n",
        "[(1 - R²) * (n - 1) / (n - k - 1)]: This term adjusts the unexplained variance based on the number of predictors and sample size.\n",
        "1 - [ ... ]: Subtracting the adjusted unexplained variance from 1 gives the Adjusted R-squared value.\n",
        "In essence:\n",
        "\n",
        "The formula adjusts R-squared by penalizing the addition of unnecessary predictors that don't significantly improve the model's explanatory power. This makes Adjusted R-squared a more realistic measure of model fit, especially when comparing models with different numbers of predictors.\n",
        "\n",
        "Example:\n",
        "\n",
        "Let's say you have a regression model with an R-squared of 0.8, a sample size of 100, and 5 predictor variables. The Adjusted R-squared would be calculated as:\n",
        "\n",
        "\n",
        "Adjusted R² = 1 - [(1 - 0.8) * (100 - 1) / (100 - 5 - 1)]\n",
        "            = 1 - [0.2 * 99 / 94]\n",
        "            ≈ 0.794\n",
        "Use code with caution\n",
        "Interpretation:\n",
        "\n",
        "The Adjusted R-squared value of 0.794 is slightly lower than the R-squared value of 0.8. This reflects the penalty for including 5 predictors in the model.\n",
        "\n",
        "In summary:\n",
        "\n",
        "Adjusted R-squared is a valuable metric for evaluating regression models, as it provides a more realistic assessment of model fit by considering the number of predictors. It's particularly useful for comparing models with different levels of complexity."
      ],
      "metadata": {
        "id": "Bf3QxczoHgnx"
      }
    },
    {
      "cell_type": "markdown",
      "source": [
        "17 Why is MSE sensitive to outliers*\n",
        "\n",
        "\n",
        "ans:-Okay, let's discuss why Mean Squared Error (MSE) is sensitive to outliers:\n",
        "\n",
        "MSE calculates the average of the squared differences between predicted and actual values. The squaring of errors is the primary reason for its sensitivity to outliers.\n",
        "\n",
        "Here's why:\n",
        "\n",
        "Emphasis on Larger Errors: Squaring the errors gives more weight to larger errors compared to smaller errors. This is because larger errors, when squared, become disproportionately larger than smaller errors.\n",
        "\n",
        "Outliers Have Large Errors: Outliers, by definition, are data points that deviate significantly from the overall pattern of the data. This means they tend to have larger prediction errors compared to other data points.\n",
        "\n",
        "Squared Outliers Dominate MSE: When outliers are present, their squared errors can dominate the MSE calculation, inflating the overall error value and potentially giving a misleading impression of the model's performance.\n",
        "\n",
        "Example:\n",
        "\n",
        "Imagine you have a dataset of house prices, and most houses are priced between $200,000 and $$200,000 and $300,000. However, there's an outlier with a price of $1,000,000. If the model predicts this outlier's price as $$1,000,000. If the model predicts this outlier's price as $500,000, the squared error for this single outlier would be ($1,000,000 - $$1,000,000 - $500,000)² = $250,000,000,000. This massive squared error would heavily influence the overall MSE, even if the model performs well on the majority of the data points.\n",
        "\n",
        "Consequences:\n",
        "\n",
        "Overestimation of Error: MSE can overestimate the true prediction error when outliers are present, making the model appear worse than it actually is on the majority of the data.\n",
        "Model Selection Bias: When comparing models using MSE, models that are less sensitive to outliers might be unfairly penalized compared to models that are more heavily influenced by outliers.\n",
        "Mitigation:\n",
        "\n",
        "Outlier Detection and Removal: Identifying and removing or adjusting outliers before model training can reduce the impact on MSE.\n",
        "Robust Regression: Using robust regression techniques, which are less sensitive to outliers, can provide more reliable estimates of model performance.\n",
        "Alternative Error Metrics: Consider using error metrics like Mean Absolute Error (MAE), which are less sensitive to outliers, for a more balanced evaluation."
      ],
      "metadata": {
        "id": "YmSu9jgcHsRR"
      }
    },
    {
      "cell_type": "markdown",
      "source": [
        "18. What is the role of homoscedasticity in linear regression*\n",
        "\n",
        "\n",
        "ans:-Okay, let's discuss the role of homoscedasticity in linear regression:\n",
        "\n",
        "Homoscedasticity is an important assumption in linear regression that refers to the constant variance of the residuals (errors) across all levels of the independent variables. In simpler terms, it means that the spread of the residuals should be roughly the same for all values of the predictors.\n",
        "\n",
        "Role in Linear Regression:\n",
        "\n",
        "Efficient Estimation: When homoscedasticity is met, the ordinary least squares (OLS) estimator used in linear regression provides the most efficient estimates of the regression coefficients. This means the estimates have the lowest variance and are closer to the true values.\n",
        "\n",
        "Valid Hypothesis Testing: Homoscedasticity is essential for the validity of hypothesis tests related to the regression coefficients. When the assumption is violated, the standard errors of the coefficients can be biased, leading to incorrect conclusions about the significance of predictors.\n",
        "\n",
        "Accurate Confidence Intervals: Homoscedasticity ensures that the confidence intervals for the regression coefficients are accurate. When the assumption is violated, the confidence intervals might be too narrow or too wide, leading to misleading interpretations.\n",
        "\n",
        "Reliable Predictions: Homoscedasticity contributes to the reliability of predictions made by the linear regression model. When the assumption is met, the predictions are more likely to be accurate and have consistent levels of uncertainty across different values of the predictors.\n",
        "\n",
        "Consequences of Violation (Heteroscedasticity):\n",
        "\n",
        "When homoscedasticity is violated (heteroscedasticity), the following issues can arise:\n",
        "\n",
        "Inefficient Estimates: The OLS estimator is no longer the most efficient, and the estimates might be less precise.\n",
        "Invalid Hypothesis Tests: Hypothesis tests might lead to incorrect conclusions about the significance of predictors.\n",
        "Inaccurate Confidence Intervals: Confidence intervals for the coefficients might be unreliable.\n",
        "Unreliable Predictions: Predictions might have varying levels of uncertainty depending on the values of the predictors.\n",
        "Addressing Heteroscedasticity:\n",
        "\n",
        "Data Transformations: Applying transformations to the dependent or independent variables (e.g., log transformation, Box-Cox transformation) can help stabilize the variance.\n",
        "Weighted Least Squares (WLS): WLS is a regression technique that assigns different weights to observations based on their variance, giving more weight to observations with lower variance.\n",
        "Robust Standard Errors: Using robust standard errors can provide more accurate estimates of standard errors in the presence of heteroscedasticity.\n",
        "In summary:\n",
        "\n",
        "Homoscedasticity is a crucial assumption in linear regression that ensures the efficiency of estimates, the validity of hypothesis tests, the accuracy of confidence intervals, and the reliability of predictions. Violations of this assumption can lead to various problems, which can be addressed using techniques like data transformations, WLS, or robust standard errors."
      ],
      "metadata": {
        "id": "l8U-vHPjH_Sr"
      }
    },
    {
      "cell_type": "markdown",
      "source": [
        "19. What is Root Mean Squared Error (RMSE)*\n",
        "\n",
        "\n",
        "ans:-Root Mean Squared Error (RMSE) is a commonly used metric to evaluate the performance of regression models. It measures the average magnitude of the errors (residuals) between predicted and actual values.\n",
        "\n",
        "Formula:\n",
        "\n",
        "\n",
        "RMSE = √[ Σ(yi - ŷi)² / n ]\n",
        "Use code with caution\n",
        "where:\n",
        "\n",
        "yi is the actual value for the ith data point\n",
        "ŷi is the predicted value for the ith data point\n",
        "n is the number of data points\n",
        "Σ represents the sum over all data points\n",
        "Breaking it down:\n",
        "\n",
        "Calculate the errors (residuals): Find the difference between each predicted value (ŷi) and the actual value (yi).\n",
        "Square the errors: Square each of the errors to make them positive and emphasize larger errors.\n",
        "Calculate the mean: Take the average of all the squared errors.\n",
        "Take the square root: Take the square root of the mean squared error to get the RMSE.\n",
        "Interpretation:\n",
        "\n",
        "RMSE is expressed in the same units as the target variable, making it easy to understand and interpret.\n",
        "Lower RMSE values indicate better model performance, as they represent smaller average prediction errors.\n",
        "RMSE is sensitive to outliers, as larger errors have a disproportionately greater impact on the overall value.\n",
        "Example:\n",
        "\n",
        "If you're predicting house prices and your model has an RMSE of $10,000, it means that, on average, your predictions are off by about $$10,000, it means that, on average, your predictions are off by about $10,000.\n",
        "\n",
        "Relationship to MSE:\n",
        "\n",
        "RMSE is simply the square root of Mean Squared Error (MSE). While MSE is also a common error metric, RMSE is often preferred because it's expressed in the original units of the target variable, making it more interpretable.\n",
        "\n",
        "In summary:\n",
        "\n",
        "RMSE is a valuable metric for evaluating regression models, providing a measure of prediction accuracy that is easy to understand and relate to the real-world context. Lower RMSE values indicate better model performance, but it's important to consider its sensitivity to outliers when interpreting the results."
      ],
      "metadata": {
        "id": "Gu4nuUcjILxT"
      }
    },
    {
      "cell_type": "markdown",
      "source": [
        "20. Why is pickling considered risky*\n",
        "\n",
        "\n",
        "ans:-Okay, let's discuss why pickling in Python can be considered risky:\n",
        "\n",
        "While pickling is a convenient way to serialize and deserialize Python objects, it does come with certain security and compatibility risks:\n",
        "\n",
        "Security Risks:\n",
        "\n",
        "Arbitrary Code Execution: Unpickling data from untrusted sources can be dangerous. Malicious code can be embedded within a pickled object, and when unpickled, it can be executed on your system. This could potentially lead to data breaches, system compromise, or other security vulnerabilities.\n",
        "\n",
        "Denial of Service: Loading a very large or complex pickled object can consume significant system resources, potentially leading to a denial-of-service (DoS) attack.\n",
        "\n",
        "Compatibility Risks:\n",
        "\n",
        "Python Version Incompatibility: Pickled objects created with one version of Python may not be compatible with a different version. This can lead to errors or unexpected behavior when trying to unpickle the object in a different environment.\n",
        "\n",
        "Library and Class Changes: If the classes or libraries used to create a pickled object have changed since it was pickled, unpickling might fail or produce incorrect results.\n",
        "\n",
        "Mitigation Strategies:\n",
        "\n",
        "Trust Your Source: Only unpickle data from sources you trust completely. Avoid unpickling data from unknown or untrusted sources, especially from the internet.\n",
        "\n",
        "Use Security Measures: If you must unpickle data from an untrusted source, consider using security measures like sandboxing or input validation to mitigate potential risks.\n",
        "\n",
        "Version Control: Ensure compatibility by using the same Python version and libraries for pickling and unpickling. Document the versions used to facilitate future compatibility.\n",
        "\n",
        "Alternative Serialization Formats: Consider using alternative serialization formats like JSON, which are more secure and portable, especially for sharing data across different systems or platforms."
      ],
      "metadata": {
        "id": "XFUM0cENIWhi"
      }
    },
    {
      "cell_type": "markdown",
      "source": [
        "21. What alternatives exist to pickling for saving ML models*\n",
        "\n",
        "\n",
        "ans:-While pickling is a common method for saving models in Python, it has certain limitations, particularly regarding security and compatibility. Here are some alternatives:\n",
        "\n",
        "Joblib:\n",
        "\n",
        "Specifically designed for Scikit-learn objects: Joblib is often preferred for saving and loading Scikit-learn models as it's more efficient for objects with large NumPy arrays.\n",
        "Similar to pickling but optimized: It uses a combination of pickling and NumPy's memory mapping for faster and more efficient serialization.\n",
        "Example:\n",
        "\n",
        "from joblib import dump, load\n",
        "\n",
        "     # Save the model\n",
        "     dump(model, 'model.joblib')\n",
        "\n",
        "     # Load the model\n",
        "     loaded_model = load('model.joblib')\n",
        "Use code with caution\n",
        "ONNX (Open Neural Network Exchange):\n",
        "\n",
        "Framework-agnostic format: ONNX allows you to save models in a standardized format that can be used across different deep learning frameworks (e.g., PyTorch, TensorFlow, etc.).\n",
        "Improved interoperability: This makes it easier to share and deploy models in various environments.\n",
        "Example (using PyTorch):\n",
        "\n",
        "import torch.onnx\n",
        "\n",
        "     # Export the model to ONNX format\n",
        "     torch.onnx.export(model, input_sample, 'model.onnx', verbose=True)\n",
        "Use code with caution\n",
        "PMML (Predictive Model Markup Language):\n",
        "\n",
        "XML-based format: PMML is an XML-based language for representing predictive models.\n",
        "Widely supported: It's supported by many tools and platforms, making it a good option for sharing models across different systems.\n",
        "Example (using the jpmml library):\n",
        "\n",
        "from jpmml import sklearn2pmml\n",
        "\n",
        "     # Convert and save the model to PMML\n",
        "     sklearn2pmml(pipeline, \"model.pmml\", with_repr=True)\n",
        "Use code with caution\n",
        "Saving Model Weights:\n",
        "\n",
        "For deep learning models: Instead of saving the entire model architecture, you can save only the model's weights (parameters).\n",
        "Requires rebuilding architecture: You'll need to rebuild the model architecture before loading the weights.\n",
        "Example (using TensorFlow/Keras):\n",
        "\n",
        "model.save_weights('model_weights.h5')\n",
        "Use code with caution\n",
        "Saving as Text or HDF5:\n",
        "\n",
        "For simpler models: You might consider saving the model parameters as plain text or using formats like HDF5 for more complex data structures.\n",
        "Requires custom loading logic: You'll need to write custom code to load the model from these formats.\n",
        "Choosing the Right Approach:\n",
        "\n",
        "The best alternative to pickling depends on your specific needs and the type of model you're working with. Consider factors like:\n",
        "\n",
        "Model framework: Choose a format supported by your framework.\n",
        "Security concerns: Prioritize formats that offer better security.\n",
        "Compatibility requirements: Select formats that are portable and compatible across different environments.\n",
        "Model complexity: Choose a format that can efficiently handle the size and structure of your model."
      ],
      "metadata": {
        "id": "NTzWIIegIglU"
      }
    },
    {
      "cell_type": "markdown",
      "source": [
        "22. What is heteroscedasticity, and why is it a problem*\n",
        "\n",
        "\n",
        "ans:-Heteroscedasticity refers to the situation where the variance of the residuals (errors) in a regression model is not constant across all levels of the independent variables. In simpler terms, it means that the spread or dispersion of the residuals is unequal for different values of the predictors.\n",
        "\n",
        "Why it's a problem:\n",
        "\n",
        "Inefficient Estimates: When heteroscedasticity is present, the ordinary least squares (OLS) estimator, commonly used in linear regression, is no longer the most efficient. This means the estimated regression coefficients might not be as precise as they could be, leading to less accurate inferences.\n",
        "\n",
        "Biased Standard Errors: Heteroscedasticity can bias the standard errors of the regression coefficients. This can lead to incorrect conclusions about the statistical significance of predictors. Hypothesis tests might indicate that a predictor is significant when it's not, or vice versa.\n",
        "\n",
        "Invalid Confidence Intervals: The confidence intervals for the regression coefficients can also be affected by heteroscedasticity, making them unreliable. This can lead to misleading interpretations of the range of plausible values for the coefficients.\n",
        "\n",
        "Unreliable Predictions: Heteroscedasticity can impact the accuracy and reliability of predictions made by the regression model. The predictions might have varying levels of uncertainty depending on the values of the predictors, making them less trustworthy.\n",
        "\n",
        "Example:\n",
        "\n",
        "Imagine you're modeling the relationship between income and spending. Heteroscedasticity might occur if the variability in spending is higher for people with higher incomes. This could be because people with higher incomes have more disposable income and therefore more flexibility in their spending habits.\n",
        "\n",
        "Detecting Heteroscedasticity:\n",
        "\n",
        "Visual Inspection: Plotting residuals against predicted values or independent variables can reveal patterns of non-constant variance.\n",
        "Statistical Tests: Tests like the Breusch-Pagan test or White test can formally assess the presence of heteroscedasticity.\n",
        "Addressing Heteroscedasticity:\n",
        "\n",
        "Data Transformations: Applying transformations to the dependent or independent variables (e.g., log transformation, Box-Cox transformation) can help stabilize the variance.\n",
        "Weighted Least Squares (WLS): WLS assigns different weights to observations based on their variance, giving more weight to observations with lower variance.\n",
        "Robust Standard Errors: Using robust standard errors can provide more accurate estimates of standard errors in the presence of heteroscedasticity."
      ],
      "metadata": {
        "id": "19VceKLFIsYc"
      }
    },
    {
      "cell_type": "markdown",
      "source": [
        "23. How does adding irreOkay, let's discuss how adding irrelevant predictors affects R-squared and Adjusted R-squared:\n",
        "\n",
        "R-squared (R²)\n",
        "\n",
        "R-squared always increases or stays the same when you add more predictors to a model, even if those predictors are irrelevant.\n",
        "This is because R-squared measures the proportion of variance in the dependent variable explained by the independent variables. Adding more predictors, even irrelevant ones, can slightly increase the explained variance, leading to a higher R-squared.\n",
        "This can be misleading, as it might give the impression that the model is improving when it's simply becoming more complex without a genuine increase in predictive power.\n",
        "Adjusted R-squared (Adjusted R²)\n",
        "\n",
        "Adjusted R-squared, on the other hand, is designed to address this issue. It modifies R-squared to account for the number of predictors in the model.\n",
        "It penalizes the addition of irrelevant predictors that don't improve the model's explanatory power.\n",
        "Adjusted R-squared can decrease when irrelevant predictors are added. This happens when the increase in explained variance due to the added predictors is not enough to offset the penalty for increasing model complexity.\n",
        "In summary:\n",
        "\n",
        "Metric\tEffect of Adding Irrelevant Predictors\n",
        "R-squared\tIncreases or stays the same\n",
        "Adjusted R-squared\tDecreases or stays the same\n",
        "Why this matters:\n",
        "\n",
        "Model Selection: When comparing models with different numbers of predictors, Adjusted R-squared is a more reliable metric for model selection. It helps you choose the model that balances goodness of fit with complexity, avoiding overfitting.\n",
        "Interpretability: Adding irrelevant predictors can make the model more difficult to interpret, as it introduces noise and obscures the true relationships between the variables.\n",
        "Example:\n",
        "\n",
        "Imagine you're trying to predict a person's weight using their height and shoe size. If you add an irrelevant predictor, like their favorite color, R-squared might slightly increase, but Adjusted R-squared would likely decrease. This is because the favorite color doesn't provide any meaningful information for predicting weight, and its inclusion only adds complexity to the model.\n",
        "\n",
        "Therefore, it's generally recommended to use Adjusted R-squared instead of R-squared when comparing models with different numbers of predictors, especially when there's a concern about including irrelevant variables.levant predictors affect R-squared and Adjusted R-squared?\n",
        "\n",
        "\n",
        "ans:-"
      ],
      "metadata": {
        "id": "hf6aqMDdI6eP"
      }
    },
    {
      "cell_type": "code",
      "source": [
        "practical question"
      ],
      "metadata": {
        "id": "N-bsZMq9JJll"
      },
      "execution_count": null,
      "outputs": []
    },
    {
      "cell_type": "markdown",
      "source": [
        "**bold text**"
      ],
      "metadata": {
        "id": "0attBdSPJHuB"
      }
    },
    {
      "cell_type": "markdown",
      "source": [
        "1. Write a Python script that calculates the Mean Squared Error (MSE) and Mean Absolute Error (MAE) for a multiple linear regression model using Seaborn's \"diamonds\" datasetK\n",
        "\n",
        "\n",
        "ans:-"
      ],
      "metadata": {
        "id": "Uo1N1TcRJRuS"
      }
    },
    {
      "source": [
        "import seaborn as sns\n",
        "import pandas as pd\n",
        "from sklearn.model_selection import train_test_split\n",
        "from sklearn.linear_model import LinearRegression\n",
        "from sklearn.metrics import mean_squared_error, mean_absolute_error\n",
        "\n",
        "# Load the diamonds dataset\n",
        "diamonds = sns.load_dataset('diamonds')\n",
        "\n",
        "# Select features and target variable\n",
        "X = diamonds[['carat', 'depth', 'table', 'x', 'y', 'z']]\n",
        "y = diamonds['price']\n",
        "\n",
        "# Split the data into training and testing sets\n",
        "X_train, X_test, y_train, y_test = train_test_split(X, y, test_size=0.2, random_state=42)\n",
        "\n",
        "# Create and train the linear regression model\n",
        "model = LinearRegression()\n",
        "model.fit(X_train, y_train)\n",
        "\n",
        "# Make predictions on the test set\n",
        "y_pred = model.predict(X_test)\n",
        "\n",
        "# Calculate MSE and MAE\n",
        "mse = mean_squared_error(y_test, y_pred)\n",
        "mae = mean_absolute_error(y_test, y_pred)\n",
        "\n",
        "# Print the results\n",
        "print(f\"Mean Squared Error (MSE): {mse}\")\n",
        "print(f\"Mean Absolute Error (MAE): {mae}\")"
      ],
      "cell_type": "code",
      "metadata": {
        "colab": {
          "base_uri": "https://localhost:8080/"
        },
        "id": "WZQTpPYRJcMu",
        "outputId": "351454aa-3dd7-494d-d99f-601dec459d25"
      },
      "execution_count": 1,
      "outputs": [
        {
          "output_type": "stream",
          "name": "stdout",
          "text": [
            "Mean Squared Error (MSE): 2242178.9040856035\n",
            "Mean Absolute Error (MAE): 888.4808633901026\n"
          ]
        }
      ]
    },
    {
      "cell_type": "markdown",
      "source": [
        "2. Write a Python script to calculate and print Mean Squared Error (MSE), Mean Absolute Error (MAE), and\n",
        "Root Mean Squared Error (RMSE) for a linear regression modelK\n",
        "\n",
        "ans:=-"
      ],
      "metadata": {
        "id": "sIMO8SoDJeWa"
      }
    },
    {
      "source": [
        "import numpy as np\n",
        "from sklearn.linear_model import LinearRegression\n",
        "from sklearn.metrics import mean_squared_error, mean_absolute_error\n",
        "\n",
        "# Sample data (replace with your own data)\n",
        "X = np.array([[1], [2], [3], [4], [5]])  # Independent variable\n",
        "y = np.array([2, 4, 5, 4, 5])  # Dependent variable\n",
        "\n",
        "# Create and train the linear regression model\n",
        "model = LinearRegression()\n",
        "model.fit(X, y)\n",
        "\n",
        "# Make predictions\n",
        "y_pred = model.predict(X)\n",
        "\n",
        "# Calculate MSE, MAE, and RMSE\n",
        "mse = mean_squared_error(y, y_pred)\n",
        "mae = mean_absolute_error(y, y_pred)\n",
        "rmse = np.sqrt(mse)  # RMSE is the square root of MSE\n",
        "\n",
        "# Print the results\n",
        "print(f\"Mean Squared Error (MSE): {mse}\")\n",
        "print(f\"Mean Absolute Error (MAE): {mae}\")\n",
        "print(f\"Root Mean Squared Error (RMSE): {rmse}\")"
      ],
      "cell_type": "code",
      "metadata": {
        "colab": {
          "base_uri": "https://localhost:8080/"
        },
        "id": "jnuZ1GHcJp17",
        "outputId": "b7ae3cfe-b2b1-4df0-b8ab-ccfbf1426b63"
      },
      "execution_count": 2,
      "outputs": [
        {
          "output_type": "stream",
          "name": "stdout",
          "text": [
            "Mean Squared Error (MSE): 0.47999999999999987\n",
            "Mean Absolute Error (MAE): 0.6399999999999999\n",
            "Root Mean Squared Error (RMSE): 0.6928203230275508\n"
          ]
        }
      ]
    },
    {
      "cell_type": "markdown",
      "source": [
        "3. Write a Python script to check if the assumptions of linear regression are met. Use a scatter plot to check linearity, residuals plot for homoscedasticity, and correlation matrix for multicollinearity.\n",
        "\n",
        "ans:-"
      ],
      "metadata": {
        "id": "ysqsEiFNOCDP"
      }
    },
    {
      "source": [
        "import pandas as pd\n",
        "import numpy as np\n",
        "import matplotlib.pyplot as plt\n",
        "import seaborn as sns\n",
        "import statsmodels.api as sm\n",
        "\n",
        "# Assuming you have your data in a pandas DataFrame called 'df'\n",
        "# with columns 'x' (independent variable) and 'y' (dependent variable)\n",
        "\n",
        "# 1. Linearity: Scatter plot\n",
        "plt.scatter(df['x'], df['y'])\n",
        "plt.xlabel('x')\n",
        "plt.ylabel('y')\n",
        "plt.title('Scatter Plot to Check Linearity')\n",
        "plt.show()\n",
        "# If the points form a roughly straight line, the linearity assumption is likely met.\n",
        "\n",
        "# 2. Homoscedasticity: Residuals plot\n",
        "# Fit a linear regression model\n",
        "X = df['x']\n",
        "y = df['y']\n",
        "X = sm.add_constant(X)  # Add a constant for the intercept\n",
        "model = sm.OLS(y, X).fit()\n",
        "\n",
        "# Get the residuals\n",
        "residuals = model.resid\n",
        "\n",
        "# Plot the residuals against the predicted values\n",
        "plt.scatter(model.predict(X), residuals)\n",
        "plt.xlabel('Predicted Values')\n",
        "plt.ylabel('Residuals')\n",
        "plt.title('Residuals Plot to Check Homoscedasticity')\n",
        "plt.axhline(y=0, color='r', linestyle='--')  # Add a horizontal line at 0\n",
        "plt.show()\n",
        "# If the points are randomly scattered around the horizontal line, the homoscedasticity assumption is likely met.\n",
        "\n",
        "# 3. Multicollinearity: Correlation matrix\n",
        "# Calculate the correlation matrix\n",
        "correlation_matrix = df.corr()\n",
        "\n",
        "# Plot the correlation matrix as a heatmap\n",
        "sns.heatmap(correlation_matrix, annot=True, cmap='coolwarm')\n",
        "plt.title('Correlation Matrix to Check Multicollinearity')\n",
        "plt.show()\n",
        "# Look for high correlation coefficients (e.g., above 0.7 or 0.8) between independent variables.\n",
        "# High correlations suggest potential multicollinearity issues.\n",
        "\n",
        "# Additional checks:\n",
        "# - Independence: This assumption is often difficult to test directly, but you can look for patterns in the data that might suggest dependence.\n",
        "# - Normality of residuals: You can create a histogram or a Q-Q plot of the residuals to check for normality."
      ],
      "cell_type": "code",
      "metadata": {
        "colab": {
          "base_uri": "https://localhost:8080/",
          "height": 211
        },
        "id": "maLV6GOSQAWE",
        "outputId": "f9bf7e50-2c52-4533-862a-fe05796be336"
      },
      "execution_count": 1,
      "outputs": [
        {
          "output_type": "error",
          "ename": "NameError",
          "evalue": "name 'df' is not defined",
          "traceback": [
            "\u001b[0;31m---------------------------------------------------------------------------\u001b[0m",
            "\u001b[0;31mNameError\u001b[0m                                 Traceback (most recent call last)",
            "\u001b[0;32m<ipython-input-1-6c01a95859e7>\u001b[0m in \u001b[0;36m<cell line: 11>\u001b[0;34m()\u001b[0m\n\u001b[1;32m      9\u001b[0m \u001b[0;34m\u001b[0m\u001b[0m\n\u001b[1;32m     10\u001b[0m \u001b[0;31m# 1. Linearity: Scatter plot\u001b[0m\u001b[0;34m\u001b[0m\u001b[0;34m\u001b[0m\u001b[0m\n\u001b[0;32m---> 11\u001b[0;31m \u001b[0mplt\u001b[0m\u001b[0;34m.\u001b[0m\u001b[0mscatter\u001b[0m\u001b[0;34m(\u001b[0m\u001b[0mdf\u001b[0m\u001b[0;34m[\u001b[0m\u001b[0;34m'x'\u001b[0m\u001b[0;34m]\u001b[0m\u001b[0;34m,\u001b[0m \u001b[0mdf\u001b[0m\u001b[0;34m[\u001b[0m\u001b[0;34m'y'\u001b[0m\u001b[0;34m]\u001b[0m\u001b[0;34m)\u001b[0m\u001b[0;34m\u001b[0m\u001b[0;34m\u001b[0m\u001b[0m\n\u001b[0m\u001b[1;32m     12\u001b[0m \u001b[0mplt\u001b[0m\u001b[0;34m.\u001b[0m\u001b[0mxlabel\u001b[0m\u001b[0;34m(\u001b[0m\u001b[0;34m'x'\u001b[0m\u001b[0;34m)\u001b[0m\u001b[0;34m\u001b[0m\u001b[0;34m\u001b[0m\u001b[0m\n\u001b[1;32m     13\u001b[0m \u001b[0mplt\u001b[0m\u001b[0;34m.\u001b[0m\u001b[0mylabel\u001b[0m\u001b[0;34m(\u001b[0m\u001b[0;34m'y'\u001b[0m\u001b[0;34m)\u001b[0m\u001b[0;34m\u001b[0m\u001b[0;34m\u001b[0m\u001b[0m\n",
            "\u001b[0;31mNameError\u001b[0m: name 'df' is not defined"
          ]
        }
      ]
    },
    {
      "cell_type": "markdown",
      "source": [
        "4. Create a machine learning pipeline that standardizes the features, fits a linear regression model, and evaluates the model’s R-squared scorB\n",
        "\n",
        "\n",
        "ans:-"
      ],
      "metadata": {
        "id": "HpFONvKMQBpx"
      }
    },
    {
      "source": [
        "import pandas as pd\n",
        "from sklearn.pipeline import Pipeline\n",
        "from sklearn.preprocessing import StandardScaler\n",
        "from sklearn.linear_model import LinearRegression\n",
        "from sklearn.model_selection import train_test_split\n",
        "from sklearn.metrics import r2_score\n",
        "\n",
        "# Assuming you have your data in a pandas DataFrame called 'df'\n",
        "# with features in columns 'X' and target variable in column 'y'\n",
        "\n",
        "# 1. Split data into training and testing sets\n",
        "X = [['X']]  # Replace 'X' with the actual column name(s) of your features\n",
        "y = ['y']  # Replace 'y' with the actual column name of your target variable\n",
        "X_train, X_test, y_train, y_test = train_test_split(X, y, test_size=0.2, random_state=42)  # Adjust test_size and random_state as needed\n",
        "\n",
        "# 2. Create the pipeline\n",
        "pipeline = Pipeline([\n",
        "    ('scaler', StandardScaler()),  # Standardize features\n",
        "    ('regressor', LinearRegression())  # Fit linear regression model\n",
        "])\n",
        "\n",
        "# 3. Fit the pipeline to the training data\n",
        "pipeline.fit(X_train, y_train)\n",
        "\n",
        "# 4. Make predictions on the testing data\n",
        "y_pred = pipeline.predict(X_test)\n",
        "\n",
        "# 5. Evaluate the model's R-squared score\n",
        "r2 = r2_score(y_test, y_pred)\n",
        "print(f\"R-squared score: {r2}\")"
      ],
      "cell_type": "code",
      "metadata": {
        "colab": {
          "base_uri": "https://localhost:8080/",
          "height": 408
        },
        "id": "wwNDjN9wQMcD",
        "outputId": "6eaeec1e-4687-4a29-cbe2-7fb8e1003b26"
      },
      "execution_count": 3,
      "outputs": [
        {
          "output_type": "error",
          "ename": "ValueError",
          "evalue": "With n_samples=1, test_size=0.2 and train_size=None, the resulting train set will be empty. Adjust any of the aforementioned parameters.",
          "traceback": [
            "\u001b[0;31m---------------------------------------------------------------------------\u001b[0m",
            "\u001b[0;31mValueError\u001b[0m                                Traceback (most recent call last)",
            "\u001b[0;32m<ipython-input-3-6a40b8ec4c8e>\u001b[0m in \u001b[0;36m<cell line: 14>\u001b[0;34m()\u001b[0m\n\u001b[1;32m     12\u001b[0m \u001b[0mX\u001b[0m \u001b[0;34m=\u001b[0m \u001b[0;34m[\u001b[0m\u001b[0;34m[\u001b[0m\u001b[0;34m'X'\u001b[0m\u001b[0;34m]\u001b[0m\u001b[0;34m]\u001b[0m  \u001b[0;31m# Replace 'X' with the actual column name(s) of your features\u001b[0m\u001b[0;34m\u001b[0m\u001b[0;34m\u001b[0m\u001b[0m\n\u001b[1;32m     13\u001b[0m \u001b[0my\u001b[0m \u001b[0;34m=\u001b[0m \u001b[0;34m[\u001b[0m\u001b[0;34m'y'\u001b[0m\u001b[0;34m]\u001b[0m  \u001b[0;31m# Replace 'y' with the actual column name of your target variable\u001b[0m\u001b[0;34m\u001b[0m\u001b[0;34m\u001b[0m\u001b[0m\n\u001b[0;32m---> 14\u001b[0;31m \u001b[0mX_train\u001b[0m\u001b[0;34m,\u001b[0m \u001b[0mX_test\u001b[0m\u001b[0;34m,\u001b[0m \u001b[0my_train\u001b[0m\u001b[0;34m,\u001b[0m \u001b[0my_test\u001b[0m \u001b[0;34m=\u001b[0m \u001b[0mtrain_test_split\u001b[0m\u001b[0;34m(\u001b[0m\u001b[0mX\u001b[0m\u001b[0;34m,\u001b[0m \u001b[0my\u001b[0m\u001b[0;34m,\u001b[0m \u001b[0mtest_size\u001b[0m\u001b[0;34m=\u001b[0m\u001b[0;36m0.2\u001b[0m\u001b[0;34m,\u001b[0m \u001b[0mrandom_state\u001b[0m\u001b[0;34m=\u001b[0m\u001b[0;36m42\u001b[0m\u001b[0;34m)\u001b[0m  \u001b[0;31m# Adjust test_size and random_state as needed\u001b[0m\u001b[0;34m\u001b[0m\u001b[0;34m\u001b[0m\u001b[0m\n\u001b[0m\u001b[1;32m     15\u001b[0m \u001b[0;34m\u001b[0m\u001b[0m\n\u001b[1;32m     16\u001b[0m \u001b[0;31m# 2. Create the pipeline\u001b[0m\u001b[0;34m\u001b[0m\u001b[0;34m\u001b[0m\u001b[0m\n",
            "\u001b[0;32m/usr/local/lib/python3.10/dist-packages/sklearn/utils/_param_validation.py\u001b[0m in \u001b[0;36mwrapper\u001b[0;34m(*args, **kwargs)\u001b[0m\n\u001b[1;32m    214\u001b[0m                     )\n\u001b[1;32m    215\u001b[0m                 ):\n\u001b[0;32m--> 216\u001b[0;31m                     \u001b[0;32mreturn\u001b[0m \u001b[0mfunc\u001b[0m\u001b[0;34m(\u001b[0m\u001b[0;34m*\u001b[0m\u001b[0margs\u001b[0m\u001b[0;34m,\u001b[0m \u001b[0;34m**\u001b[0m\u001b[0mkwargs\u001b[0m\u001b[0;34m)\u001b[0m\u001b[0;34m\u001b[0m\u001b[0;34m\u001b[0m\u001b[0m\n\u001b[0m\u001b[1;32m    217\u001b[0m             \u001b[0;32mexcept\u001b[0m \u001b[0mInvalidParameterError\u001b[0m \u001b[0;32mas\u001b[0m \u001b[0me\u001b[0m\u001b[0;34m:\u001b[0m\u001b[0;34m\u001b[0m\u001b[0;34m\u001b[0m\u001b[0m\n\u001b[1;32m    218\u001b[0m                 \u001b[0;31m# When the function is just a wrapper around an estimator, we allow\u001b[0m\u001b[0;34m\u001b[0m\u001b[0;34m\u001b[0m\u001b[0m\n",
            "\u001b[0;32m/usr/local/lib/python3.10/dist-packages/sklearn/model_selection/_split.py\u001b[0m in \u001b[0;36mtrain_test_split\u001b[0;34m(test_size, train_size, random_state, shuffle, stratify, *arrays)\u001b[0m\n\u001b[1;32m   2849\u001b[0m \u001b[0;34m\u001b[0m\u001b[0m\n\u001b[1;32m   2850\u001b[0m     \u001b[0mn_samples\u001b[0m \u001b[0;34m=\u001b[0m \u001b[0m_num_samples\u001b[0m\u001b[0;34m(\u001b[0m\u001b[0marrays\u001b[0m\u001b[0;34m[\u001b[0m\u001b[0;36m0\u001b[0m\u001b[0;34m]\u001b[0m\u001b[0;34m)\u001b[0m\u001b[0;34m\u001b[0m\u001b[0;34m\u001b[0m\u001b[0m\n\u001b[0;32m-> 2851\u001b[0;31m     n_train, n_test = _validate_shuffle_split(\n\u001b[0m\u001b[1;32m   2852\u001b[0m         \u001b[0mn_samples\u001b[0m\u001b[0;34m,\u001b[0m \u001b[0mtest_size\u001b[0m\u001b[0;34m,\u001b[0m \u001b[0mtrain_size\u001b[0m\u001b[0;34m,\u001b[0m \u001b[0mdefault_test_size\u001b[0m\u001b[0;34m=\u001b[0m\u001b[0;36m0.25\u001b[0m\u001b[0;34m\u001b[0m\u001b[0;34m\u001b[0m\u001b[0m\n\u001b[1;32m   2853\u001b[0m     )\n",
            "\u001b[0;32m/usr/local/lib/python3.10/dist-packages/sklearn/model_selection/_split.py\u001b[0m in \u001b[0;36m_validate_shuffle_split\u001b[0;34m(n_samples, test_size, train_size, default_test_size)\u001b[0m\n\u001b[1;32m   2479\u001b[0m \u001b[0;34m\u001b[0m\u001b[0m\n\u001b[1;32m   2480\u001b[0m     \u001b[0;32mif\u001b[0m \u001b[0mn_train\u001b[0m \u001b[0;34m==\u001b[0m \u001b[0;36m0\u001b[0m\u001b[0;34m:\u001b[0m\u001b[0;34m\u001b[0m\u001b[0;34m\u001b[0m\u001b[0m\n\u001b[0;32m-> 2481\u001b[0;31m         raise ValueError(\n\u001b[0m\u001b[1;32m   2482\u001b[0m             \u001b[0;34m\"With n_samples={}, test_size={} and train_size={}, the \"\u001b[0m\u001b[0;34m\u001b[0m\u001b[0;34m\u001b[0m\u001b[0m\n\u001b[1;32m   2483\u001b[0m             \u001b[0;34m\"resulting train set will be empty. Adjust any of the \"\u001b[0m\u001b[0;34m\u001b[0m\u001b[0;34m\u001b[0m\u001b[0m\n",
            "\u001b[0;31mValueError\u001b[0m: With n_samples=1, test_size=0.2 and train_size=None, the resulting train set will be empty. Adjust any of the aforementioned parameters."
          ]
        }
      ]
    },
    {
      "cell_type": "markdown",
      "source": [
        "5.Implement a simple linear regression model on a dataset and print the model's coefficients, intercept,\n",
        "and R-squared scor\n",
        "\n",
        "ans;/-"
      ],
      "metadata": {
        "id": "W97jpP1wQOZN"
      }
    },
    {
      "cell_type": "code",
      "source": [
        "import pandas as pd\n",
        "import numpy as np\n",
        "from sklearn.linear_model import LinearRegression\n",
        "from sklearn.model_selection import train_test_split\n",
        "from sklearn.metrics import r2_score\n",
        "\n",
        "# Assuming you have your data in a pandas DataFrame called 'df'\n",
        "# with features in columns 'X' and target variable in column 'y'\n",
        "\n",
        "# 1. Prepare the data\n",
        "X = df[['X']]  # Replace 'X' with the actual column name(s) of your features\n",
        "y = df['y']  # Replace 'y' with the actual column name of your target variable\n",
        "X_train, X_test, y_train, y_test = train_test_split(X, y, test_size=0.2, random_state=42)  # Adjust test_size and random_state as needed\n",
        "\n",
        "# 2. Create and train the model\n",
        "model = LinearRegression()\n",
        "model.fit(X_train, y_train)\n",
        "\n",
        "# 3. Get the model's coefficients, intercept, and R-squared score\n",
        "coefficients = model.coef_\n",
        "intercept = model.intercept_\n",
        "y_pred = model.predict(X_test)\n",
        "r_squared = r2_score(y_test, y_pred)\n",
        "\n",
        "# 4. Print the results\n",
        "print(f\"Coefficients: {coefficients}\")\n",
        "print(f\"Intercept: {intercept}\")\n",
        "print(f\"R-squared score: {r_squared}\")"
      ],
      "metadata": {
        "colab": {
          "base_uri": "https://localhost:8080/",
          "height": 228
        },
        "id": "waYzuJivJczZ",
        "outputId": "3222985e-46a3-43a3-afe2-84ce95cf47f6"
      },
      "execution_count": 5,
      "outputs": [
        {
          "output_type": "error",
          "ename": "NameError",
          "evalue": "name 'df' is not defined",
          "traceback": [
            "\u001b[0;31m---------------------------------------------------------------------------\u001b[0m",
            "\u001b[0;31mNameError\u001b[0m                                 Traceback (most recent call last)",
            "\u001b[0;32m<ipython-input-5-e5342dc1f15e>\u001b[0m in \u001b[0;36m<cell line: 11>\u001b[0;34m()\u001b[0m\n\u001b[1;32m      9\u001b[0m \u001b[0;34m\u001b[0m\u001b[0m\n\u001b[1;32m     10\u001b[0m \u001b[0;31m# 1. Prepare the data\u001b[0m\u001b[0;34m\u001b[0m\u001b[0;34m\u001b[0m\u001b[0m\n\u001b[0;32m---> 11\u001b[0;31m \u001b[0mX\u001b[0m \u001b[0;34m=\u001b[0m \u001b[0mdf\u001b[0m\u001b[0;34m[\u001b[0m\u001b[0;34m[\u001b[0m\u001b[0;34m'X'\u001b[0m\u001b[0;34m]\u001b[0m\u001b[0;34m]\u001b[0m  \u001b[0;31m# Replace 'X' with the actual column name(s) of your features\u001b[0m\u001b[0;34m\u001b[0m\u001b[0;34m\u001b[0m\u001b[0m\n\u001b[0m\u001b[1;32m     12\u001b[0m \u001b[0my\u001b[0m \u001b[0;34m=\u001b[0m \u001b[0mdf\u001b[0m\u001b[0;34m[\u001b[0m\u001b[0;34m'y'\u001b[0m\u001b[0;34m]\u001b[0m  \u001b[0;31m# Replace 'y' with the actual column name of your target variable\u001b[0m\u001b[0;34m\u001b[0m\u001b[0;34m\u001b[0m\u001b[0m\n\u001b[1;32m     13\u001b[0m \u001b[0mX_train\u001b[0m\u001b[0;34m,\u001b[0m \u001b[0mX_test\u001b[0m\u001b[0;34m,\u001b[0m \u001b[0my_train\u001b[0m\u001b[0;34m,\u001b[0m \u001b[0my_test\u001b[0m \u001b[0;34m=\u001b[0m \u001b[0mtrain_test_split\u001b[0m\u001b[0;34m(\u001b[0m\u001b[0mX\u001b[0m\u001b[0;34m,\u001b[0m \u001b[0my\u001b[0m\u001b[0;34m,\u001b[0m \u001b[0mtest_size\u001b[0m\u001b[0;34m=\u001b[0m\u001b[0;36m0.2\u001b[0m\u001b[0;34m,\u001b[0m \u001b[0mrandom_state\u001b[0m\u001b[0;34m=\u001b[0m\u001b[0;36m42\u001b[0m\u001b[0;34m)\u001b[0m  \u001b[0;31m# Adjust test_size and random_state as needed\u001b[0m\u001b[0;34m\u001b[0m\u001b[0;34m\u001b[0m\u001b[0m\n",
            "\u001b[0;31mNameError\u001b[0m: name 'df' is not defined"
          ]
        }
      ]
    },
    {
      "cell_type": "markdown",
      "source": [
        "6. Fit a simple linear regression model to the 'tips' dataset and print the slope and intercept of the regression\n",
        "lineK\n",
        "\n",
        "ans';"
      ],
      "metadata": {
        "id": "u0P1i_RLQqTX"
      }
    },
    {
      "source": [
        "\n",
        "import seaborn as sns\n",
        "import statsmodels.formula.api as smf\n",
        "\n",
        "# Load the 'tips' dataset\n",
        "tips = sns.load_dataset('tips')\n",
        "\n",
        "# Fit the linear regression model\n",
        "model = smf.ols('tip ~ total_bill', data=tips).fit()\n",
        "\n",
        "# Print the slope and intercept\n",
        "print(f\"Slope: {model.params['total_bill']}\")\n",
        "print(f\"Intercept: {model.params['Intercept']}\")"
      ],
      "cell_type": "code",
      "metadata": {
        "colab": {
          "base_uri": "https://localhost:8080/"
        },
        "id": "RkstL0pWQziU",
        "outputId": "f87911e9-ae99-4c8d-a821-237281014d68"
      },
      "execution_count": 6,
      "outputs": [
        {
          "output_type": "stream",
          "name": "stdout",
          "text": [
            "Slope: 0.1050245173843534\n",
            "Intercept: 0.9202696135546726\n"
          ]
        }
      ]
    },
    {
      "cell_type": "markdown",
      "source": [
        "7.Write a Python script that fits a linear regression model to a synthetic dataset with one feature. Use the model to predict new values and plot the data points along with the regression lineK\n",
        "\n",
        "ans:-"
      ],
      "metadata": {
        "id": "pqJObgysQ1J8"
      }
    },
    {
      "source": [
        "\n",
        "import numpy as np\n",
        "import matplotlib.pyplot as plt\n",
        "from sklearn.linear_model import LinearRegression\n",
        "\n",
        "# Generate synthetic data\n",
        "np.random.seed(42)  # Set random seed for reproducibility\n",
        "X = np.random.rand(100, 1) * 10  # Generate 100 random numbers between 0 and 10\n",
        "y = 2 * X + 3 + np.random.randn(100, 1) * 2  # Create a linear relationship with some noise\n",
        "\n",
        "# Fit the linear regression model\n",
        "model = LinearRegression()\n",
        "model.fit(X, y)\n",
        "\n",
        "# Predict new values\n",
        "X_new = np.array([[5], [15]])  # New values to predict\n",
        "y_pred = model.predict(X_new)\n",
        "\n",
        "# Plot the data points and regression line\n",
        "plt.scatter(X, y, color='blue', label='Data Points')\n",
        "plt.plot(X_new, y_pred, color='red', linewidth=2, label='Regression Line')\n",
        "plt.xlabel('X')\n",
        "plt.ylabel('y')\n",
        "plt.title('Linear Regression with Synthetic Data')\n",
        "plt.legend()\n",
        "plt.show()"
      ],
      "cell_type": "code",
      "metadata": {
        "colab": {
          "base_uri": "https://localhost:8080/",
          "height": 472
        },
        "id": "c_ZmK2RURBFb",
        "outputId": "5f38e466-76bd-4b48-ad26-380fa0dc586c"
      },
      "execution_count": 7,
      "outputs": [
        {
          "output_type": "display_data",
          "data": {
            "text/plain": [
              "<Figure size 640x480 with 1 Axes>"
            ],
            "image/png": "[encoded data removed]"
          },
          "metadata": {}
        }
      ]
    },
    {
      "cell_type": "markdown",
      "source": [
        "8. Write a Python script that pickles a trained linear regression model and saves it to a fileK\n",
        "\n",
        "\n",
        "ans:-"
      ],
      "metadata": {
        "id": "ebb8ScfxRDbl"
      }
    },
    {
      "source": [
        "import pickle\n",
        "from sklearn.linear_model import LinearRegression\n",
        "\n",
        "# Assuming you have your trained linear regression model stored in a variable called 'model'\n",
        "\n",
        "# Specify the filename for saving the model\n",
        "filename = 'linear_regression_model.pkl'\n",
        "\n",
        "# Save the model using pickle\n",
        "with open(filename, 'wb') as file:\n",
        "    pickle.dump(model, file)\n",
        "\n",
        "print(f\"Model saved to: {filename}\")"
      ],
      "cell_type": "code",
      "metadata": {
        "colab": {
          "base_uri": "https://localhost:8080/"
        },
        "id": "G8BoQDnRRO1n",
        "outputId": "7a960ef4-3bae-4618-8cca-138f28f86a0c"
      },
      "execution_count": 8,
      "outputs": [
        {
          "output_type": "stream",
          "name": "stdout",
          "text": [
            "Model saved to: linear_regression_model.pkl\n"
          ]
        }
      ]
    },
    {
      "cell_type": "markdown",
      "source": [
        "9. Write a Python script that fits a polynomial regression model (degree 2) to a dataset and plots the\n",
        "regression curveK\n",
        "\n",
        "ans:-"
      ],
      "metadata": {
        "id": "FmYtiUmBRQvn"
      }
    },
    {
      "source": [
        "\n",
        "import numpy as np\n",
        "import matplotlib.pyplot as plt\n",
        "from sklearn.linear_model import LinearRegression\n",
        "from sklearn.preprocessing import PolynomialFeatures\n",
        "\n",
        "# Generate some sample data (you can replace this with your own dataset)\n",
        "np.random.seed(0)\n",
        "X = np.random.rand(100, 1) * 10  # 100 random numbers between 0 and 10\n",
        "y = X**2 + 2*X + 3 + np.random.randn(100, 1) * 5  # Quadratic relationship with noise\n",
        "\n",
        "# Create polynomial features (degree 2)\n",
        "poly_features = PolynomialFeatures(degree=2, include_bias=False)\n",
        "X_poly = poly_features.fit_transform(X)\n",
        "\n",
        "# Fit the polynomial regression model\n",
        "model = LinearRegression()\n",
        "model.fit(X_poly, y)\n",
        "\n",
        "# Generate points for plotting the curve\n",
        "X_plot = np.linspace(0, 10, 100).reshape(-1, 1)  # Evenly spaced points\n",
        "X_plot_poly = poly_features.transform(X_plot)\n",
        "y_plot = model.predict(X_plot_poly)\n",
        "\n",
        "# Plot the data points and regression curve\n",
        "plt.scatter(X, y, color='blue', label='Data Points')\n",
        "plt.plot(X_plot, y_plot, color='red', linewidth=2, label='Regression Curve')\n",
        "plt.xlabel('X')\n",
        "plt.ylabel('y')\n",
        "plt.title('Polynomial Regression (Degree 2)')\n",
        "plt.legend()\n",
        "plt.show()"
      ],
      "cell_type": "code",
      "metadata": {
        "colab": {
          "base_uri": "https://localhost:8080/",
          "height": 472
        },
        "id": "YLpXIpDxRqnM",
        "outputId": "645ad007-0c42-41db-e006-d97785e6b401"
      },
      "execution_count": 9,
      "outputs": [
        {
          "output_type": "display_data",
          "data": {
            "text/plain": [
              "<Figure size 640x480 with 1 Axes>"
            ],
            "image/png": "[encoded data removed]"
          },
          "metadata": {}
        }
      ]
    },
    {
      "cell_type": "markdown",
      "source": [
        "10.Generate synthetic data for simple linear regression (use random values for X and y) and fit a linear\n",
        "regression model to the data. Print the model's coefficient and intercep\n",
        "\n",
        "ams:-"
      ],
      "metadata": {
        "id": "dhr1Xtz0RskO"
      }
    },
    {
      "cell_type": "code",
      "source": [],
      "metadata": {
        "id": "Nz2VHCQxQl_S"
      },
      "execution_count": null,
      "outputs": []
    },
    {
      "source": [
        "import numpy as np\n",
        "import pandas as pd\n",
        "from sklearn.linear_model import LinearRegression\n",
        "\n",
        "# Generate random data for X and y\n",
        "np.random.seed(42)  # Set random seed for reproducibility\n",
        "X = np.random.rand(100, 1) * 10  # 100 random numbers between 0 and 10, reshaped to a column vector\n",
        "y = 2 * X + 3 + np.random.randn(100, 1) * 2  # Linear relationship with noise\n",
        "\n",
        "# Create a pandas DataFrame\n",
        "df = pd.DataFrame({'X': X.flatten(), 'y': y.flatten()})  # Flatten to 1D arrays for DataFrame\n",
        "\n",
        "# Fit the linear regression model\n",
        "model = LinearRegression()\n",
        "model.fit(df[['X']], df['y'])  # Use DataFrame columns for fitting\n",
        "\n",
        "# Print the coefficient and intercept\n",
        "print(f\"Coefficient: {model.coef_[0]}\")  # Access the coefficient (slope)\n",
        "print(f\"Intercept: {model.intercept_}\")"
      ],
      "cell_type": "code",
      "metadata": {
        "colab": {
          "base_uri": "https://localhost:8080/"
        },
        "id": "KitFbLCbR8wt",
        "outputId": "cb81d783-a037-4c36-b7b4-8690695afa21"
      },
      "execution_count": 10,
      "outputs": [
        {
          "output_type": "stream",
          "name": "stdout",
          "text": [
            "Coefficient: 1.908045354575393\n",
            "Intercept: 3.4301923150935014\n"
          ]
        }
      ]
    },
    {
      "cell_type": "markdown",
      "source": [
        "11. Write a Python script that fits a polynomial regression model (degree 3) to a synthetic non-linear dataset and plots the curvB\n",
        "\n",
        "\n",
        "ans;-"
      ],
      "metadata": {
        "id": "TesW62aGR-NB"
      }
    },
    {
      "source": [
        "import numpy as np\n",
        "import matplotlib.pyplot as plt\n",
        "from sklearn.linear_model import LinearRegression\n",
        "from sklearn.preprocessing import PolynomialFeatures\n",
        "\n",
        "# Generate synthetic non-linear data\n",
        "np.random.seed(0)\n",
        "X = np.random.rand(100, 1) * 10  # 100 random numbers between 0 and 10\n",
        "y = X**3 - 5*X**2 + 3*X + 2 + np.random.randn(100, 1) * 10  # Cubic relationship with noise\n",
        "\n",
        "# Create polynomial features (degree 3)\n",
        "poly_features = PolynomialFeatures(degree=3, include_bias=False)\n",
        "X_poly = poly_features.fit_transform(X)\n",
        "\n",
        "# Fit the polynomial regression model\n",
        "model = LinearRegression()\n",
        "model.fit(X_poly, y)\n",
        "\n",
        "# Generate points for plotting the curve\n",
        "X_plot = np.linspace(0, 10, 100).reshape(-1, 1)\n",
        "X_plot_poly = poly_features.transform(X_plot)\n",
        "y_plot = model.predict(X_plot_poly)\n",
        "\n",
        "# Plot the data points and regression curve\n",
        "plt.scatter(X, y, color='blue', label='Data Points')\n",
        "plt.plot(X_plot, y_plot, color='red', linewidth=2, label='Regression Curve')\n",
        "plt.xlabel('X')\n",
        "plt.ylabel('y')\n",
        "plt.title('Polynomial Regression (Degree 3)')\n",
        "plt.legend()\n",
        "plt.show()"
      ],
      "cell_type": "code",
      "metadata": {
        "colab": {
          "base_uri": "https://localhost:8080/",
          "height": 472
        },
        "id": "zu3G-zhiSGqx",
        "outputId": "ce57ed8d-15a8-470c-e9f5-0364e96d43be"
      },
      "execution_count": 11,
      "outputs": [
        {
          "output_type": "display_data",
          "data": {
            "text/plain": [
              "<Figure size 640x480 with 1 Axes>"
            ],
            "image/png": "[encoded data removed]"
          },
          "metadata": {}
        }
      ]
    },
    {
      "cell_type": "markdown",
      "source": [
        "12. Write a Python script that fits a simple linear regression model with two features and prints the model'scoefficients, intercept, and R-squared scoreK\n",
        "\n",
        "\n",
        "ans;-"
      ],
      "metadata": {
        "id": "l2f6m9l4SIE5"
      }
    },
    {
      "source": [
        "import numpy as np\n",
        "import pandas as pd\n",
        "from sklearn.linear_model import LinearRegression\n",
        "from sklearn.model_selection import train_test_split\n",
        "from sklearn.metrics import r2_score\n",
        "\n",
        "# Generate some sample data with two features (you can replace this with your own dataset)\n",
        "np.random.seed(0)\n",
        "X = np.random.rand(100, 2) * 10  # 100 rows, 2 features (columns)\n",
        "y = 3*X[:, 0] + 2*X[:, 1] + 5 + np.random.randn(100) * 3  # Linear relationship with noise\n",
        "\n",
        "# Create a pandas DataFrame (optional, but helpful for organization)\n",
        "df = pd.DataFrame(X, columns=['feature1', 'feature2'])\n",
        "df['target'] = y\n",
        "\n",
        "# Split the data into training and testing sets\n",
        "X_train, X_test, y_train, y_test = train_test_split(df[['feature1', 'feature2']], df['target'], test_size=0.2, random_state=42)\n",
        "\n",
        "# Create and fit the linear regression model\n",
        "model = LinearRegression()\n",
        "model.fit(X_train, y_train)\n",
        "\n",
        "# Get the model's coefficients, intercept, and R-squared score\n",
        "coefficients = model.coef_\n",
        "intercept = model.intercept_\n",
        "y_pred = model.predict(X_test)\n",
        "r_squared = r2_score(y_test, y_pred)\n",
        "\n",
        "# Print the results\n",
        "print(\"Coefficients:\", coefficients)\n",
        "print(\"Intercept:\", intercept)\n",
        "print(\"R-squared score:\", r_squared)"
      ],
      "cell_type": "code",
      "metadata": {
        "colab": {
          "base_uri": "https://localhost:8080/"
        },
        "id": "vuB2vt9tSSCU",
        "outputId": "9687f9d8-ce16-4d7a-98f7-3c8062fea3b9"
      },
      "execution_count": 12,
      "outputs": [
        {
          "output_type": "stream",
          "name": "stdout",
          "text": [
            "Coefficients: [2.86883297 2.02889412]\n",
            "Intercept: 5.134804881786746\n",
            "R-squared score: 0.9337799087925115\n"
          ]
        }
      ]
    },
    {
      "cell_type": "markdown",
      "source": [
        "13 Write a Python script that generates a synthetic dataset, fits a linear regression model, and calculates the Mean Squared Error (MSE), Mean Absolute Error (MAE), and Root Mean Squared Error (RMSE)K\n",
        "\n",
        "ans;"
      ],
      "metadata": {
        "id": "be9oqPhTSTPy"
      }
    },
    {
      "source": [
        "import numpy as np\n",
        "import pandas as pd\n",
        "from sklearn.linear_model import LinearRegression\n",
        "from sklearn.model_selection import train_test_split\n",
        "from sklearn.metrics import mean_squared_error, mean_absolute_error\n",
        "\n",
        "# Generate synthetic data\n",
        "np.random.seed(0)\n",
        "X = np.random.rand(100, 1) * 10  # 100 random numbers between 0 and 10\n",
        "y = 2 * X + 3 + np.random.randn(100, 1) * 2  # Linear relationship with noise\n",
        "\n",
        "# Create pandas DataFrame (optional, but helpful for organization)\n",
        "df = pd.DataFrame({'X': X.flatten(), 'y': y.flatten()})\n",
        "\n",
        "# Split data into training and testing sets\n",
        "X_"
      ],
      "cell_type": "code",
      "metadata": {
        "id": "FYXnXPHMSYl-"
      },
      "execution_count": null,
      "outputs": []
    },
    {
      "source": [
        "import numpy as np\n",
        "import pandas as pd\n",
        "from sklearn.linear_model import LinearRegression\n",
        "from sklearn.model_selection import train_test_split\n",
        "from sklearn.metrics import mean_squared_error, mean_absolute_error\n",
        "\n",
        "# Generate synthetic data\n",
        "np.random.seed(0)\n",
        "X = np.random.rand(100, 1) * 10  # 100 random numbers between 0 and 10\n",
        "y = 2 * X + 3 + np.random.randn(100, 1) * 2  # Linear relationship with noise\n",
        "\n",
        "# Create pandas DataFrame (optional, but helpful for organization)\n",
        "df = pd.DataFrame({'X': X.flatten(), 'y': y.flatten()})\n",
        "\n",
        "# Split data into training and testing sets\n",
        "X_train, X_test, y_train, y_test = train_test_split(df[['X']], df['y'], test_size=0.2, random_state=42)\n",
        "\n",
        "# Fit the linear regression model\n",
        "model = LinearRegression()\n",
        "model.fit(X_train, y_train)\n",
        "\n",
        "# Make predictions on the testing set\n",
        "y_pred = model.predict(X_test)\n",
        "\n",
        "# Calculate evaluation metrics\n",
        "mse = mean_squared_error(y_test, y_pred)\n",
        "mae = mean_absolute_error(y_test, y_pred)\n",
        "rmse = np.sqrt(mse)  # or use mean_squared_error(y_test, y_pred, squared=False)\n",
        "\n",
        "# Print the results\n",
        "print(f\"Mean Squared Error (MSE): {mse}\")\n",
        "print(f\"Mean Absolute Error (MAE): {mae}\")\n",
        "print(f\"Root Mean Squared Error (RMSE): {rmse}\")"
      ],
      "cell_type": "code",
      "metadata": {
        "id": "eTA38QAWSZe6"
      },
      "execution_count": null,
      "outputs": []
    },
    {
      "source": [
        "import numpy as np\n",
        "import pandas as pd\n",
        "from sklearn.linear_model import LinearRegression\n",
        "from sklearn.model_selection import train_test_split\n",
        "from sklearn.metrics import mean_squared_error, mean_absolute_error\n",
        "\n",
        "# Generate synthetic data\n",
        "np.random.seed(0)\n",
        "X = np.random.rand(100, 1) * 10  # 100 random numbers between 0 and 10\n",
        "y = 2 * X + 3 + np.random.randn(100, 1) * 2  # Linear relationship with noise\n",
        "\n",
        "# Create pandas DataFrame (optional, but helpful for organization)\n",
        "df = pd.DataFrame({'X': X.flatten(), 'y': y.flatten()})\n",
        "\n",
        "# Split data into training and testing sets\n",
        "X_train, X_test, y_train, y_test = train_test_split(df[['X']], df['y'], test_size=0.2, random_state=42)\n",
        "\n",
        "# Fit the linear regression model\n",
        "model = LinearRegression()\n",
        "model.fit(X_train, y_train)\n",
        "\n",
        "# Make predictions on the testing set\n",
        "y_pred = model.predict(X_test)\n",
        "\n",
        "# Calculate evaluation metrics\n",
        "mse = mean_squared_error(y_test, y_pred)\n",
        "mae = mean_absolute_error(y_test, y_pred)\n",
        "rmse = np.sqrt(mse)  # or use mean_squared_error(y_test, y_pred, squared=False)\n",
        "\n",
        "# Print the results\n",
        "print(f\"Mean Squared Error (MSE): {mse}\")\n",
        "print(f\"Mean Absolute Error (MAE): {mae}\")\n",
        "print(f\"Root Mean Squared Error (RMSE): {rmse}\")"
      ],
      "cell_type": "code",
      "metadata": {
        "colab": {
          "base_uri": "https://localhost:8080/"
        },
        "id": "ckYzJ-dfSaL_",
        "outputId": "cbad6dea-ebbb-4cab-ceb3-d6653f52229b"
      },
      "execution_count": 13,
      "outputs": [
        {
          "output_type": "stream",
          "name": "stdout",
          "text": [
            "Mean Squared Error (MSE): 3.6710129878857147\n",
            "Mean Absolute Error (MAE): 1.602910966850666\n",
            "Root Mean Squared Error (RMSE): 1.9159887755114107\n"
          ]
        }
      ]
    },
    {
      "cell_type": "markdown",
      "source": [
        "14. Write a Python script that uses the Variance Inflation Factor (VIF) to check for multicollinearity in a dataset with multiple featuresK\n",
        "\n",
        "\n",
        "an;-"
      ],
      "metadata": {
        "id": "knx_5ivGSbaT"
      }
    },
    {
      "source": [
        "import pandas as pd\n",
        "import statsmodels.api as sm\n",
        "from statsmodels.stats.outliers_influence import variance_inflation_factor\n",
        "\n",
        "# Assuming you have your data in a pandas DataFrame called 'df'\n",
        "# with multiple features (columns)\n",
        "\n",
        "# Select the features you want to check for multicollinearity\n",
        "features = df[['feature1', 'feature2', 'feature3']]  # Replace with your actual feature names\n",
        "\n",
        "# Add a constant column to the features (required for VIF calculation)\n",
        "features = sm.add_constant(features)\n",
        "\n",
        "# Calculate VIF for each feature\n",
        "vif_data = pd.DataFrame()\n",
        "vif_data[\"feature\"] = features.columns\n",
        "vif_data[\"VIF\"] = [variance_inflation_factor(features.values, i) for i in range(features.shape[1])]\n",
        "\n",
        "# Print the VIF data\n",
        "print(vif_data)"
      ],
      "cell_type": "code",
      "metadata": {
        "id": "ogeJ28SDShms"
      },
      "execution_count": null,
      "outputs": []
    },
    {
      "source": [
        "import pandas as pd\n",
        "import statsmodels.api as sm\n",
        "from statsmodels.stats.outliers_influence import variance_inflation_factor\n",
        "\n",
        "# Assuming you have your data in a pandas DataFrame called 'df'\n",
        "# with multiple features (columns)\n",
        "\n",
        "# Select the features you want to check for multicollinearity\n",
        "features = df[['feature1', 'feature2', 'feature3']]  # Replace with your actual feature names\n",
        "\n",
        "# Add a constant column to the features (required for VIF calculation)\n",
        "features = sm.add_constant(features)\n",
        "\n",
        "# Calculate VIF for each feature\n",
        "vif_data = pd.DataFrame()\n",
        "vif_data[\"feature\"] = features.columns\n",
        "vif_data[\"VIF\"] = [variance_inflation_factor(features.values, i) for i in range(features.shape[1])]\n",
        "\n",
        "# Print the VIF data\n",
        "print(vif_data)"
      ],
      "cell_type": "code",
      "metadata": {
        "colab": {
          "base_uri": "https://localhost:8080/",
          "height": 408
        },
        "id": "Ox_WAoowSiO2",
        "outputId": "02f1abfe-43e4-4ea9-bc89-80c25b7d622c"
      },
      "execution_count": 14,
      "outputs": [
        {
          "output_type": "error",
          "ename": "KeyError",
          "evalue": "\"None of [Index(['feature1', 'feature2', 'feature3'], dtype='object')] are in the [columns]\"",
          "traceback": [
            "\u001b[0;31m---------------------------------------------------------------------------\u001b[0m",
            "\u001b[0;31mKeyError\u001b[0m                                  Traceback (most recent call last)",
            "\u001b[0;32m<ipython-input-14-f41d10faeb51>\u001b[0m in \u001b[0;36m<cell line: 9>\u001b[0;34m()\u001b[0m\n\u001b[1;32m      7\u001b[0m \u001b[0;34m\u001b[0m\u001b[0m\n\u001b[1;32m      8\u001b[0m \u001b[0;31m# Select the features you want to check for multicollinearity\u001b[0m\u001b[0;34m\u001b[0m\u001b[0;34m\u001b[0m\u001b[0m\n\u001b[0;32m----> 9\u001b[0;31m \u001b[0mfeatures\u001b[0m \u001b[0;34m=\u001b[0m \u001b[0mdf\u001b[0m\u001b[0;34m[\u001b[0m\u001b[0;34m[\u001b[0m\u001b[0;34m'feature1'\u001b[0m\u001b[0;34m,\u001b[0m \u001b[0;34m'feature2'\u001b[0m\u001b[0;34m,\u001b[0m \u001b[0;34m'feature3'\u001b[0m\u001b[0;34m]\u001b[0m\u001b[0;34m]\u001b[0m  \u001b[0;31m# Replace with your actual feature names\u001b[0m\u001b[0;34m\u001b[0m\u001b[0;34m\u001b[0m\u001b[0m\n\u001b[0m\u001b[1;32m     10\u001b[0m \u001b[0;34m\u001b[0m\u001b[0m\n\u001b[1;32m     11\u001b[0m \u001b[0;31m# Add a constant column to the features (required for VIF calculation)\u001b[0m\u001b[0;34m\u001b[0m\u001b[0;34m\u001b[0m\u001b[0m\n",
            "\u001b[0;32m/usr/local/lib/python3.10/dist-packages/pandas/core/frame.py\u001b[0m in \u001b[0;36m__getitem__\u001b[0;34m(self, key)\u001b[0m\n\u001b[1;32m   4106\u001b[0m             \u001b[0;32mif\u001b[0m \u001b[0mis_iterator\u001b[0m\u001b[0;34m(\u001b[0m\u001b[0mkey\u001b[0m\u001b[0;34m)\u001b[0m\u001b[0;34m:\u001b[0m\u001b[0;34m\u001b[0m\u001b[0;34m\u001b[0m\u001b[0m\n\u001b[1;32m   4107\u001b[0m                 \u001b[0mkey\u001b[0m \u001b[0;34m=\u001b[0m \u001b[0mlist\u001b[0m\u001b[0;34m(\u001b[0m\u001b[0mkey\u001b[0m\u001b[0;34m)\u001b[0m\u001b[0;34m\u001b[0m\u001b[0;34m\u001b[0m\u001b[0m\n\u001b[0;32m-> 4108\u001b[0;31m             \u001b[0mindexer\u001b[0m \u001b[0;34m=\u001b[0m \u001b[0mself\u001b[0m\u001b[0;34m.\u001b[0m\u001b[0mcolumns\u001b[0m\u001b[0;34m.\u001b[0m\u001b[0m_get_indexer_strict\u001b[0m\u001b[0;34m(\u001b[0m\u001b[0mkey\u001b[0m\u001b[0;34m,\u001b[0m \u001b[0;34m\"columns\"\u001b[0m\u001b[0;34m)\u001b[0m\u001b[0;34m[\u001b[0m\u001b[0;36m1\u001b[0m\u001b[0;34m]\u001b[0m\u001b[0;34m\u001b[0m\u001b[0;34m\u001b[0m\u001b[0m\n\u001b[0m\u001b[1;32m   4109\u001b[0m \u001b[0;34m\u001b[0m\u001b[0m\n\u001b[1;32m   4110\u001b[0m         \u001b[0;31m# take() does not accept boolean indexers\u001b[0m\u001b[0;34m\u001b[0m\u001b[0;34m\u001b[0m\u001b[0m\n",
            "\u001b[0;32m/usr/local/lib/python3.10/dist-packages/pandas/core/indexes/base.py\u001b[0m in \u001b[0;36m_get_indexer_strict\u001b[0;34m(self, key, axis_name)\u001b[0m\n\u001b[1;32m   6198\u001b[0m             \u001b[0mkeyarr\u001b[0m\u001b[0;34m,\u001b[0m \u001b[0mindexer\u001b[0m\u001b[0;34m,\u001b[0m \u001b[0mnew_indexer\u001b[0m \u001b[0;34m=\u001b[0m \u001b[0mself\u001b[0m\u001b[0;34m.\u001b[0m\u001b[0m_reindex_non_unique\u001b[0m\u001b[0;34m(\u001b[0m\u001b[0mkeyarr\u001b[0m\u001b[0;34m)\u001b[0m\u001b[0;34m\u001b[0m\u001b[0;34m\u001b[0m\u001b[0m\n\u001b[1;32m   6199\u001b[0m \u001b[0;34m\u001b[0m\u001b[0m\n\u001b[0;32m-> 6200\u001b[0;31m         \u001b[0mself\u001b[0m\u001b[0;34m.\u001b[0m\u001b[0m_raise_if_missing\u001b[0m\u001b[0;34m(\u001b[0m\u001b[0mkeyarr\u001b[0m\u001b[0;34m,\u001b[0m \u001b[0mindexer\u001b[0m\u001b[0;34m,\u001b[0m \u001b[0maxis_name\u001b[0m\u001b[0;34m)\u001b[0m\u001b[0;34m\u001b[0m\u001b[0;34m\u001b[0m\u001b[0m\n\u001b[0m\u001b[1;32m   6201\u001b[0m \u001b[0;34m\u001b[0m\u001b[0m\n\u001b[1;32m   6202\u001b[0m         \u001b[0mkeyarr\u001b[0m \u001b[0;34m=\u001b[0m \u001b[0mself\u001b[0m\u001b[0;34m.\u001b[0m\u001b[0mtake\u001b[0m\u001b[0;34m(\u001b[0m\u001b[0mindexer\u001b[0m\u001b[0;34m)\u001b[0m\u001b[0;34m\u001b[0m\u001b[0;34m\u001b[0m\u001b[0m\n",
            "\u001b[0;32m/usr/local/lib/python3.10/dist-packages/pandas/core/indexes/base.py\u001b[0m in \u001b[0;36m_raise_if_missing\u001b[0;34m(self, key, indexer, axis_name)\u001b[0m\n\u001b[1;32m   6247\u001b[0m         \u001b[0;32mif\u001b[0m \u001b[0mnmissing\u001b[0m\u001b[0;34m:\u001b[0m\u001b[0;34m\u001b[0m\u001b[0;34m\u001b[0m\u001b[0m\n\u001b[1;32m   6248\u001b[0m             \u001b[0;32mif\u001b[0m \u001b[0mnmissing\u001b[0m \u001b[0;34m==\u001b[0m \u001b[0mlen\u001b[0m\u001b[0;34m(\u001b[0m\u001b[0mindexer\u001b[0m\u001b[0;34m)\u001b[0m\u001b[0;34m:\u001b[0m\u001b[0;34m\u001b[0m\u001b[0;34m\u001b[0m\u001b[0m\n\u001b[0;32m-> 6249\u001b[0;31m                 \u001b[0;32mraise\u001b[0m \u001b[0mKeyError\u001b[0m\u001b[0;34m(\u001b[0m\u001b[0;34mf\"None of [{key}] are in the [{axis_name}]\"\u001b[0m\u001b[0;34m)\u001b[0m\u001b[0;34m\u001b[0m\u001b[0;34m\u001b[0m\u001b[0m\n\u001b[0m\u001b[1;32m   6250\u001b[0m \u001b[0;34m\u001b[0m\u001b[0m\n\u001b[1;32m   6251\u001b[0m             \u001b[0mnot_found\u001b[0m \u001b[0;34m=\u001b[0m \u001b[0mlist\u001b[0m\u001b[0;34m(\u001b[0m\u001b[0mensure_index\u001b[0m\u001b[0;34m(\u001b[0m\u001b[0mkey\u001b[0m\u001b[0;34m)\u001b[0m\u001b[0;34m[\u001b[0m\u001b[0mmissing_mask\u001b[0m\u001b[0;34m.\u001b[0m\u001b[0mnonzero\u001b[0m\u001b[0;34m(\u001b[0m\u001b[0;34m)\u001b[0m\u001b[0;34m[\u001b[0m\u001b[0;36m0\u001b[0m\u001b[0;34m]\u001b[0m\u001b[0;34m]\u001b[0m\u001b[0;34m.\u001b[0m\u001b[0munique\u001b[0m\u001b[0;34m(\u001b[0m\u001b[0;34m)\u001b[0m\u001b[0;34m)\u001b[0m\u001b[0;34m\u001b[0m\u001b[0;34m\u001b[0m\u001b[0m\n",
            "\u001b[0;31mKeyError\u001b[0m: \"None of [Index(['feature1', 'feature2', 'feature3'], dtype='object')] are in the [columns]\""
          ]
        }
      ]
    },
    {
      "cell_type": "code",
      "source": [],
      "metadata": {
        "id": "Z_hXK3A7R9Gl"
      },
      "execution_count": null,
      "outputs": []
    },
    {
      "source": [
        "import pandas as pd\n",
        "import statsmodels.api as sm\n",
        "from statsmodels.stats.outliers_influence import variance_inflation_factor\n",
        "\n",
        "# Assuming you have your data in a pandas DataFrame called 'df'\n",
        "# with multiple features (columns)\n",
        "\n",
        "# Select the features you want to check for multicollinearity\n",
        "features = df[['feature1', 'feature2', 'feature3']]  # Replace with your actual feature names\n",
        "\n",
        "# Add a constant column to the features (required for VIF calculation)\n",
        "features = sm.add_constant(features)\n",
        "\n",
        "# Calculate VIF for each feature\n",
        "vif_data = pd.DataFrame()\n",
        "vif_data[\"feature\"] = features.columns\n",
        "vif_data[\"VIF\"] = [variance_inflation_factor(features.values, i) for i in range(features.shape[1])]\n",
        "\n",
        "# Print the VIF data\n",
        "print(vif_data)"
      ],
      "cell_type": "code",
      "metadata": {
        "colab": {
          "base_uri": "https://localhost:8080/",
          "height": 408
        },
        "id": "2-MS_sTiSkjm",
        "outputId": "0a5007d1-688c-4893-faa6-82969d39c2d1"
      },
      "execution_count": 15,
      "outputs": [
        {
          "output_type": "error",
          "ename": "KeyError",
          "evalue": "\"None of [Index(['feature1', 'feature2', 'feature3'], dtype='object')] are in the [columns]\"",
          "traceback": [
            "\u001b[0;31m---------------------------------------------------------------------------\u001b[0m",
            "\u001b[0;31mKeyError\u001b[0m                                  Traceback (most recent call last)",
            "\u001b[0;32m<ipython-input-15-f41d10faeb51>\u001b[0m in \u001b[0;36m<cell line: 9>\u001b[0;34m()\u001b[0m\n\u001b[1;32m      7\u001b[0m \u001b[0;34m\u001b[0m\u001b[0m\n\u001b[1;32m      8\u001b[0m \u001b[0;31m# Select the features you want to check for multicollinearity\u001b[0m\u001b[0;34m\u001b[0m\u001b[0;34m\u001b[0m\u001b[0m\n\u001b[0;32m----> 9\u001b[0;31m \u001b[0mfeatures\u001b[0m \u001b[0;34m=\u001b[0m \u001b[0mdf\u001b[0m\u001b[0;34m[\u001b[0m\u001b[0;34m[\u001b[0m\u001b[0;34m'feature1'\u001b[0m\u001b[0;34m,\u001b[0m \u001b[0;34m'feature2'\u001b[0m\u001b[0;34m,\u001b[0m \u001b[0;34m'feature3'\u001b[0m\u001b[0;34m]\u001b[0m\u001b[0;34m]\u001b[0m  \u001b[0;31m# Replace with your actual feature names\u001b[0m\u001b[0;34m\u001b[0m\u001b[0;34m\u001b[0m\u001b[0m\n\u001b[0m\u001b[1;32m     10\u001b[0m \u001b[0;34m\u001b[0m\u001b[0m\n\u001b[1;32m     11\u001b[0m \u001b[0;31m# Add a constant column to the features (required for VIF calculation)\u001b[0m\u001b[0;34m\u001b[0m\u001b[0;34m\u001b[0m\u001b[0m\n",
            "\u001b[0;32m/usr/local/lib/python3.10/dist-packages/pandas/core/frame.py\u001b[0m in \u001b[0;36m__getitem__\u001b[0;34m(self, key)\u001b[0m\n\u001b[1;32m   4106\u001b[0m             \u001b[0;32mif\u001b[0m \u001b[0mis_iterator\u001b[0m\u001b[0;34m(\u001b[0m\u001b[0mkey\u001b[0m\u001b[0;34m)\u001b[0m\u001b[0;34m:\u001b[0m\u001b[0;34m\u001b[0m\u001b[0;34m\u001b[0m\u001b[0m\n\u001b[1;32m   4107\u001b[0m                 \u001b[0mkey\u001b[0m \u001b[0;34m=\u001b[0m \u001b[0mlist\u001b[0m\u001b[0;34m(\u001b[0m\u001b[0mkey\u001b[0m\u001b[0;34m)\u001b[0m\u001b[0;34m\u001b[0m\u001b[0;34m\u001b[0m\u001b[0m\n\u001b[0;32m-> 4108\u001b[0;31m             \u001b[0mindexer\u001b[0m \u001b[0;34m=\u001b[0m \u001b[0mself\u001b[0m\u001b[0;34m.\u001b[0m\u001b[0mcolumns\u001b[0m\u001b[0;34m.\u001b[0m\u001b[0m_get_indexer_strict\u001b[0m\u001b[0;34m(\u001b[0m\u001b[0mkey\u001b[0m\u001b[0;34m,\u001b[0m \u001b[0;34m\"columns\"\u001b[0m\u001b[0;34m)\u001b[0m\u001b[0;34m[\u001b[0m\u001b[0;36m1\u001b[0m\u001b[0;34m]\u001b[0m\u001b[0;34m\u001b[0m\u001b[0;34m\u001b[0m\u001b[0m\n\u001b[0m\u001b[1;32m   4109\u001b[0m \u001b[0;34m\u001b[0m\u001b[0m\n\u001b[1;32m   4110\u001b[0m         \u001b[0;31m# take() does not accept boolean indexers\u001b[0m\u001b[0;34m\u001b[0m\u001b[0;34m\u001b[0m\u001b[0m\n",
            "\u001b[0;32m/usr/local/lib/python3.10/dist-packages/pandas/core/indexes/base.py\u001b[0m in \u001b[0;36m_get_indexer_strict\u001b[0;34m(self, key, axis_name)\u001b[0m\n\u001b[1;32m   6198\u001b[0m             \u001b[0mkeyarr\u001b[0m\u001b[0;34m,\u001b[0m \u001b[0mindexer\u001b[0m\u001b[0;34m,\u001b[0m \u001b[0mnew_indexer\u001b[0m \u001b[0;34m=\u001b[0m \u001b[0mself\u001b[0m\u001b[0;34m.\u001b[0m\u001b[0m_reindex_non_unique\u001b[0m\u001b[0;34m(\u001b[0m\u001b[0mkeyarr\u001b[0m\u001b[0;34m)\u001b[0m\u001b[0;34m\u001b[0m\u001b[0;34m\u001b[0m\u001b[0m\n\u001b[1;32m   6199\u001b[0m \u001b[0;34m\u001b[0m\u001b[0m\n\u001b[0;32m-> 6200\u001b[0;31m         \u001b[0mself\u001b[0m\u001b[0;34m.\u001b[0m\u001b[0m_raise_if_missing\u001b[0m\u001b[0;34m(\u001b[0m\u001b[0mkeyarr\u001b[0m\u001b[0;34m,\u001b[0m \u001b[0mindexer\u001b[0m\u001b[0;34m,\u001b[0m \u001b[0maxis_name\u001b[0m\u001b[0;34m)\u001b[0m\u001b[0;34m\u001b[0m\u001b[0;34m\u001b[0m\u001b[0m\n\u001b[0m\u001b[1;32m   6201\u001b[0m \u001b[0;34m\u001b[0m\u001b[0m\n\u001b[1;32m   6202\u001b[0m         \u001b[0mkeyarr\u001b[0m \u001b[0;34m=\u001b[0m \u001b[0mself\u001b[0m\u001b[0;34m.\u001b[0m\u001b[0mtake\u001b[0m\u001b[0;34m(\u001b[0m\u001b[0mindexer\u001b[0m\u001b[0;34m)\u001b[0m\u001b[0;34m\u001b[0m\u001b[0;34m\u001b[0m\u001b[0m\n",
            "\u001b[0;32m/usr/local/lib/python3.10/dist-packages/pandas/core/indexes/base.py\u001b[0m in \u001b[0;36m_raise_if_missing\u001b[0;34m(self, key, indexer, axis_name)\u001b[0m\n\u001b[1;32m   6247\u001b[0m         \u001b[0;32mif\u001b[0m \u001b[0mnmissing\u001b[0m\u001b[0;34m:\u001b[0m\u001b[0;34m\u001b[0m\u001b[0;34m\u001b[0m\u001b[0m\n\u001b[1;32m   6248\u001b[0m             \u001b[0;32mif\u001b[0m \u001b[0mnmissing\u001b[0m \u001b[0;34m==\u001b[0m \u001b[0mlen\u001b[0m\u001b[0;34m(\u001b[0m\u001b[0mindexer\u001b[0m\u001b[0;34m)\u001b[0m\u001b[0;34m:\u001b[0m\u001b[0;34m\u001b[0m\u001b[0;34m\u001b[0m\u001b[0m\n\u001b[0;32m-> 6249\u001b[0;31m                 \u001b[0;32mraise\u001b[0m \u001b[0mKeyError\u001b[0m\u001b[0;34m(\u001b[0m\u001b[0;34mf\"None of [{key}] are in the [{axis_name}]\"\u001b[0m\u001b[0;34m)\u001b[0m\u001b[0;34m\u001b[0m\u001b[0;34m\u001b[0m\u001b[0m\n\u001b[0m\u001b[1;32m   6250\u001b[0m \u001b[0;34m\u001b[0m\u001b[0m\n\u001b[1;32m   6251\u001b[0m             \u001b[0mnot_found\u001b[0m \u001b[0;34m=\u001b[0m \u001b[0mlist\u001b[0m\u001b[0;34m(\u001b[0m\u001b[0mensure_index\u001b[0m\u001b[0;34m(\u001b[0m\u001b[0mkey\u001b[0m\u001b[0;34m)\u001b[0m\u001b[0;34m[\u001b[0m\u001b[0mmissing_mask\u001b[0m\u001b[0;34m.\u001b[0m\u001b[0mnonzero\u001b[0m\u001b[0;34m(\u001b[0m\u001b[0;34m)\u001b[0m\u001b[0;34m[\u001b[0m\u001b[0;36m0\u001b[0m\u001b[0;34m]\u001b[0m\u001b[0;34m]\u001b[0m\u001b[0;34m.\u001b[0m\u001b[0munique\u001b[0m\u001b[0;34m(\u001b[0m\u001b[0;34m)\u001b[0m\u001b[0;34m)\u001b[0m\u001b[0;34m\u001b[0m\u001b[0;34m\u001b[0m\u001b[0m\n",
            "\u001b[0;31mKeyError\u001b[0m: \"None of [Index(['feature1', 'feature2', 'feature3'], dtype='object')] are in the [columns]\""
          ]
        }
      ]
    },
    {
      "cell_type": "markdown",
      "source": [
        "15. Write a Python script that generates synthetic data for a polynomial relationship (degree 4), fits a\n",
        "polynomial regression model, and plots the regression curveK\n",
        "\n",
        "ans:-"
      ],
      "metadata": {
        "id": "zHHnlt-KSloq"
      }
    },
    {
      "source": [
        "\n",
        "import numpy as np\n",
        "import matplotlib.pyplot as plt\n",
        "from sklearn.linear_model import LinearRegression\n",
        "from sklearn.preprocessing import PolynomialFeatures\n",
        "\n",
        "# Generate synthetic data for a polynomial relationship (degree 4)\n",
        "np.random.seed(0)\n",
        "X = np.random.rand(100, 1) * 10  # 100 random numbers between 0 and 10\n",
        "y = 0.5 * X**4 - 2 * X**3 + 5 * X**2 + 2 * X + 3 + np.random.randn(100, 1) * 10  # Polynomial relationship with noise\n",
        "\n",
        "# Create polynomial features (degree 4)\n",
        "poly_features = PolynomialFeatures(degree=4, include_bias=False)\n",
        "X_poly = poly_features.fit_transform(X)\n",
        "\n",
        "# Fit the polynomial regression model\n",
        "model = LinearRegression()\n",
        "model.fit(X_poly, y)\n",
        "\n",
        "# Generate points for plotting the regression curve\n",
        "X_plot = np.linspace(0, 10, 100).reshape(-1, 1)  # Evenly spaced points\n",
        "X_plot_poly = poly_features.transform(X_plot)\n",
        "y_plot = model.predict(X_plot_poly)\n",
        "\n",
        "# Plot the data points and regression curve\n",
        "plt.scatter(X, y, color='blue', label='Data Points')\n",
        "plt.plot(X_plot, y_plot, color='red', linewidth=2, label='Regression Curve')\n",
        "plt.xlabel('X')\n",
        "plt.ylabel('y')\n",
        "plt.title('Polynomial Regression (Degree 4)')\n",
        "plt.legend()\n",
        "plt.show()"
      ],
      "cell_type": "code",
      "metadata": {
        "colab": {
          "base_uri": "https://localhost:8080/",
          "height": 472
        },
        "id": "8CZ_eCRKSuWj",
        "outputId": "3fed0cc3-779a-41c7-fce2-f2159205968e"
      },
      "execution_count": 16,
      "outputs": [
        {
          "output_type": "display_data",
          "data": {
            "text/plain": [
              "<Figure size 640x480 with 1 Axes>"
            ],
            "image/png": "[encoded data removed]"
          },
          "metadata": {}
        }
      ]
    },
    {
      "cell_type": "markdown",
      "source": [
        "16. Write a Python script that creates a machine learning pipeline with data standardization and a multiple linear regression model, and prints the R-squared scoreK\n"
      ],
      "metadata": {
        "id": "-1GKF3TBSwf4"
      }
    },
    {
      "source": [
        "import pandas as pd\n",
        "from sklearn.pipeline import Pipeline\n",
        "from sklearn.preprocessing import StandardScaler\n",
        "from sklearn.linear_model import LinearRegression\n",
        "from sklearn.model_selection import train_test_split\n",
        "from sklearn.metrics import r2_score\n",
        "\n",
        "# Assuming you have your data in a pandas DataFrame called 'df'\n",
        "# with multiple features (columns) and a target variable (column)\n",
        "\n",
        "# Select the features and target variable\n",
        "X = df[['feature1', 'feature2', 'feature3']]  # Replace with your actual feature names\n",
        "y = df['target']  # Replace with your actual target variable name\n",
        "\n",
        "# Split the data into training and testing sets\n",
        "X_train, X_test, y_train, y_test = train_test_split(X, y, test_size=0.2, random_state=42)\n",
        "\n",
        "# Create the pipeline\n",
        "pipeline = Pipeline([\n",
        "    ('scaler', StandardScaler()),  # Standardize the features\n",
        "    ('regressor', LinearRegression())  # Apply multiple linear regression\n",
        "])\n",
        "\n",
        "# Fit the pipeline to the training data\n",
        "pipeline.fit(X_train, y_train)\n",
        "\n",
        "# Make predictions on the testing set\n",
        "y_pred = pipeline.predict(X_test)\n",
        "\n",
        "# Calculate and print the R-squared score\n",
        "r_squared = r2_score(y_test, y_pred)\n",
        "print(f\"R-squared score: {r_squared}\")"
      ],
      "cell_type": "code",
      "metadata": {
        "colab": {
          "base_uri": "https://localhost:8080/",
          "height": 391
        },
        "id": "OFl108L5S1Lr",
        "outputId": "c041b9a0-b2aa-45f4-d089-69ae735eabc2"
      },
      "execution_count": 17,
      "outputs": [
        {
          "output_type": "error",
          "ename": "KeyError",
          "evalue": "\"None of [Index(['feature1', 'feature2', 'feature3'], dtype='object')] are in the [columns]\"",
          "traceback": [
            "\u001b[0;31m---------------------------------------------------------------------------\u001b[0m",
            "\u001b[0;31mKeyError\u001b[0m                                  Traceback (most recent call last)",
            "\u001b[0;32m<ipython-input-17-aa0960219831>\u001b[0m in \u001b[0;36m<cell line: 12>\u001b[0;34m()\u001b[0m\n\u001b[1;32m     10\u001b[0m \u001b[0;34m\u001b[0m\u001b[0m\n\u001b[1;32m     11\u001b[0m \u001b[0;31m# Select the features and target variable\u001b[0m\u001b[0;34m\u001b[0m\u001b[0;34m\u001b[0m\u001b[0m\n\u001b[0;32m---> 12\u001b[0;31m \u001b[0mX\u001b[0m \u001b[0;34m=\u001b[0m \u001b[0mdf\u001b[0m\u001b[0;34m[\u001b[0m\u001b[0;34m[\u001b[0m\u001b[0;34m'feature1'\u001b[0m\u001b[0;34m,\u001b[0m \u001b[0;34m'feature2'\u001b[0m\u001b[0;34m,\u001b[0m \u001b[0;34m'feature3'\u001b[0m\u001b[0;34m]\u001b[0m\u001b[0;34m]\u001b[0m  \u001b[0;31m# Replace with your actual feature names\u001b[0m\u001b[0;34m\u001b[0m\u001b[0;34m\u001b[0m\u001b[0m\n\u001b[0m\u001b[1;32m     13\u001b[0m \u001b[0my\u001b[0m \u001b[0;34m=\u001b[0m \u001b[0mdf\u001b[0m\u001b[0;34m[\u001b[0m\u001b[0;34m'target'\u001b[0m\u001b[0;34m]\u001b[0m  \u001b[0;31m# Replace with your actual target variable name\u001b[0m\u001b[0;34m\u001b[0m\u001b[0;34m\u001b[0m\u001b[0m\n\u001b[1;32m     14\u001b[0m \u001b[0;34m\u001b[0m\u001b[0m\n",
            "\u001b[0;32m/usr/local/lib/python3.10/dist-packages/pandas/core/frame.py\u001b[0m in \u001b[0;36m__getitem__\u001b[0;34m(self, key)\u001b[0m\n\u001b[1;32m   4106\u001b[0m             \u001b[0;32mif\u001b[0m \u001b[0mis_iterator\u001b[0m\u001b[0;34m(\u001b[0m\u001b[0mkey\u001b[0m\u001b[0;34m)\u001b[0m\u001b[0;34m:\u001b[0m\u001b[0;34m\u001b[0m\u001b[0;34m\u001b[0m\u001b[0m\n\u001b[1;32m   4107\u001b[0m                 \u001b[0mkey\u001b[0m \u001b[0;34m=\u001b[0m \u001b[0mlist\u001b[0m\u001b[0;34m(\u001b[0m\u001b[0mkey\u001b[0m\u001b[0;34m)\u001b[0m\u001b[0;34m\u001b[0m\u001b[0;34m\u001b[0m\u001b[0m\n\u001b[0;32m-> 4108\u001b[0;31m             \u001b[0mindexer\u001b[0m \u001b[0;34m=\u001b[0m \u001b[0mself\u001b[0m\u001b[0;34m.\u001b[0m\u001b[0mcolumns\u001b[0m\u001b[0;34m.\u001b[0m\u001b[0m_get_indexer_strict\u001b[0m\u001b[0;34m(\u001b[0m\u001b[0mkey\u001b[0m\u001b[0;34m,\u001b[0m \u001b[0;34m\"columns\"\u001b[0m\u001b[0;34m)\u001b[0m\u001b[0;34m[\u001b[0m\u001b[0;36m1\u001b[0m\u001b[0;34m]\u001b[0m\u001b[0;34m\u001b[0m\u001b[0;34m\u001b[0m\u001b[0m\n\u001b[0m\u001b[1;32m   4109\u001b[0m \u001b[0;34m\u001b[0m\u001b[0m\n\u001b[1;32m   4110\u001b[0m         \u001b[0;31m# take() does not accept boolean indexers\u001b[0m\u001b[0;34m\u001b[0m\u001b[0;34m\u001b[0m\u001b[0m\n",
            "\u001b[0;32m/usr/local/lib/python3.10/dist-packages/pandas/core/indexes/base.py\u001b[0m in \u001b[0;36m_get_indexer_strict\u001b[0;34m(self, key, axis_name)\u001b[0m\n\u001b[1;32m   6198\u001b[0m             \u001b[0mkeyarr\u001b[0m\u001b[0;34m,\u001b[0m \u001b[0mindexer\u001b[0m\u001b[0;34m,\u001b[0m \u001b[0mnew_indexer\u001b[0m \u001b[0;34m=\u001b[0m \u001b[0mself\u001b[0m\u001b[0;34m.\u001b[0m\u001b[0m_reindex_non_unique\u001b[0m\u001b[0;34m(\u001b[0m\u001b[0mkeyarr\u001b[0m\u001b[0;34m)\u001b[0m\u001b[0;34m\u001b[0m\u001b[0;34m\u001b[0m\u001b[0m\n\u001b[1;32m   6199\u001b[0m \u001b[0;34m\u001b[0m\u001b[0m\n\u001b[0;32m-> 6200\u001b[0;31m         \u001b[0mself\u001b[0m\u001b[0;34m.\u001b[0m\u001b[0m_raise_if_missing\u001b[0m\u001b[0;34m(\u001b[0m\u001b[0mkeyarr\u001b[0m\u001b[0;34m,\u001b[0m \u001b[0mindexer\u001b[0m\u001b[0;34m,\u001b[0m \u001b[0maxis_name\u001b[0m\u001b[0;34m)\u001b[0m\u001b[0;34m\u001b[0m\u001b[0;34m\u001b[0m\u001b[0m\n\u001b[0m\u001b[1;32m   6201\u001b[0m \u001b[0;34m\u001b[0m\u001b[0m\n\u001b[1;32m   6202\u001b[0m         \u001b[0mkeyarr\u001b[0m \u001b[0;34m=\u001b[0m \u001b[0mself\u001b[0m\u001b[0;34m.\u001b[0m\u001b[0mtake\u001b[0m\u001b[0;34m(\u001b[0m\u001b[0mindexer\u001b[0m\u001b[0;34m)\u001b[0m\u001b[0;34m\u001b[0m\u001b[0;34m\u001b[0m\u001b[0m\n",
            "\u001b[0;32m/usr/local/lib/python3.10/dist-packages/pandas/core/indexes/base.py\u001b[0m in \u001b[0;36m_raise_if_missing\u001b[0;34m(self, key, indexer, axis_name)\u001b[0m\n\u001b[1;32m   6247\u001b[0m         \u001b[0;32mif\u001b[0m \u001b[0mnmissing\u001b[0m\u001b[0;34m:\u001b[0m\u001b[0;34m\u001b[0m\u001b[0;34m\u001b[0m\u001b[0m\n\u001b[1;32m   6248\u001b[0m             \u001b[0;32mif\u001b[0m \u001b[0mnmissing\u001b[0m \u001b[0;34m==\u001b[0m \u001b[0mlen\u001b[0m\u001b[0;34m(\u001b[0m\u001b[0mindexer\u001b[0m\u001b[0;34m)\u001b[0m\u001b[0;34m:\u001b[0m\u001b[0;34m\u001b[0m\u001b[0;34m\u001b[0m\u001b[0m\n\u001b[0;32m-> 6249\u001b[0;31m                 \u001b[0;32mraise\u001b[0m \u001b[0mKeyError\u001b[0m\u001b[0;34m(\u001b[0m\u001b[0;34mf\"None of [{key}] are in the [{axis_name}]\"\u001b[0m\u001b[0;34m)\u001b[0m\u001b[0;34m\u001b[0m\u001b[0;34m\u001b[0m\u001b[0m\n\u001b[0m\u001b[1;32m   6250\u001b[0m \u001b[0;34m\u001b[0m\u001b[0m\n\u001b[1;32m   6251\u001b[0m             \u001b[0mnot_found\u001b[0m \u001b[0;34m=\u001b[0m \u001b[0mlist\u001b[0m\u001b[0;34m(\u001b[0m\u001b[0mensure_index\u001b[0m\u001b[0;34m(\u001b[0m\u001b[0mkey\u001b[0m\u001b[0;34m)\u001b[0m\u001b[0;34m[\u001b[0m\u001b[0mmissing_mask\u001b[0m\u001b[0;34m.\u001b[0m\u001b[0mnonzero\u001b[0m\u001b[0;34m(\u001b[0m\u001b[0;34m)\u001b[0m\u001b[0;34m[\u001b[0m\u001b[0;36m0\u001b[0m\u001b[0;34m]\u001b[0m\u001b[0;34m]\u001b[0m\u001b[0;34m.\u001b[0m\u001b[0munique\u001b[0m\u001b[0;34m(\u001b[0m\u001b[0;34m)\u001b[0m\u001b[0;34m)\u001b[0m\u001b[0;34m\u001b[0m\u001b[0;34m\u001b[0m\u001b[0m\n",
            "\u001b[0;31mKeyError\u001b[0m: \"None of [Index(['feature1', 'feature2', 'feature3'], dtype='object')] are in the [columns]\""
          ]
        }
      ]
    },
    {
      "cell_type": "markdown",
      "source": [
        "17. Write a Python script that performs polynomial regression (degree 3) on a synthetic dataset and plots the regression curveK\n",
        "\n",
        "\n",
        "ans:-"
      ],
      "metadata": {
        "id": "tTydnZuCS214"
      }
    },
    {
      "source": [
        "import numpy as np\n",
        "import matplotlib.pyplot as plt\n",
        "from sklearn.linear_model import LinearRegression\n",
        "from sklearn.preprocessing import PolynomialFeatures\n",
        "\n",
        "# Generate synthetic data\n",
        "np.random.seed(0)\n",
        "X = np.random.rand(100, 1) * 10  # 100 random numbers between 0 and 10\n",
        "y = X**3 - 5*X**2 + 3*X + 2 + np.random.randn(100, 1) * 10  # Cubic relationship with noise\n",
        "\n",
        "# Create polynomial features (degree 3)\n",
        "poly_features = PolynomialFeatures(degree=3, include_bias=False)\n",
        "X_poly = poly_features.fit_transform(X)\n",
        "\n",
        "# Fit the polynomial regression model\n",
        "model = LinearRegression()\n",
        "model.fit(X_poly, y)\n",
        "\n",
        "# Generate points for plotting the curve\n",
        "X_plot = np.linspace(0, 10, 100).reshape(-1, 1)  # Evenly spaced points\n",
        "X_plot_poly = poly_features.transform(X_plot)\n",
        "y_plot = model.predict(X_plot_poly)\n",
        "\n",
        "# Plot the data points and regression curve\n",
        "plt.scatter(X, y, color='blue', label='Data Points')\n",
        "plt.plot(X_plot, y_plot, color='red', linewidth=2, label='Regression Curve')\n",
        "plt.xlabel('X')\n",
        "plt.ylabel('y')\n",
        "plt.title('Polynomial Regression (Degree 3)')\n",
        "plt.legend()\n",
        "plt.show()"
      ],
      "cell_type": "code",
      "metadata": {
        "colab": {
          "base_uri": "https://localhost:8080/",
          "height": 472
        },
        "id": "PQBvOyViS9Ku",
        "outputId": "79499f8c-85e8-4506-98fb-4b01af7c979f"
      },
      "execution_count": 18,
      "outputs": [
        {
          "output_type": "display_data",
          "data": {
            "text/plain": [
              "<Figure size 640x480 with 1 Axes>"
            ],
            "image/png": "[encoded data removed]"
          },
          "metadata": {}
        }
      ]
    },
    {
      "cell_type": "markdown",
      "source": [
        "18. Write a Python script that performs multiple linear regression on a synthetic dataset with 5 features. Print the R-squared score and model coefficientsK\n",
        "\n",
        "\n",
        "ans:-"
      ],
      "metadata": {
        "id": "QDLi6QcwS-yQ"
      }
    },
    {
      "source": [
        "import numpy as np\n",
        "import pandas as pd\n",
        "from sklearn.linear_model import LinearRegression\n",
        "from sklearn.model_selection import train_test_split\n",
        "from sklearn.metrics import r2_score\n",
        "\n",
        "# Generate synthetic data with 5 features\n",
        "np.random.seed(0)\n",
        "X = np.random.rand(100, 5) * 10  # 100 rows, 5 features (columns)\n",
        "y = 2*X[:, 0] + 3*X[:, 1] - 1*X[:, 2] + 0.5*X[:, 3] + 2*X[:, 4] + 5 + np.random.randn(100) * 3  # Linear relationship with noise\n",
        "\n",
        "# Create a pandas DataFrame (optional, but helpful for organization)\n",
        "df = pd.DataFrame(X, columns=['feature1', 'feature2', 'feature3', 'feature4', 'feature5'])\n",
        "df['target'] = y\n",
        "\n",
        "# Split the data into training and testing sets\n",
        "X_train, X_test, y_train, y_test = train_test_split(df[['feature1', 'feature2', 'feature3', 'feature4', 'feature5']], df['target'], test_size=0.2, random_state=42)\n",
        "\n",
        "# Create and fit the linear regression model\n",
        "model = LinearRegression()\n",
        "model.fit(X_train, y_train)\n",
        "\n",
        "# Make predictions on the testing set\n",
        "y_pred = model.predict(X_test)\n",
        "\n",
        "# Calculate and print the R-squared score\n",
        "r_squared = r2_score(y_test, y_pred)\n",
        "print(f\"R-squared score: {r_squared}\")\n",
        "\n",
        "# Print the model coefficients\n",
        "coefficients = model.coef_\n",
        "intercept = model.intercept_\n",
        "print(f\"Coefficients: {coefficients}\")\n",
        "print(f\"Intercept: {intercept}\")"
      ],
      "cell_type": "code",
      "metadata": {
        "colab": {
          "base_uri": "https://localhost:8080/"
        },
        "id": "YjiktaivTQU3",
        "outputId": "ab0641c7-94ba-430c-cd2e-337ae82786ae"
      },
      "execution_count": 19,
      "outputs": [
        {
          "output_type": "stream",
          "name": "stdout",
          "text": [
            "R-squared score: 0.9561460280678945\n",
            "Coefficients: [ 2.03365096  2.95990772 -0.87966855  0.59064365  1.92290716]\n",
            "Intercept: 4.204198662638802\n"
          ]
        }
      ]
    },
    {
      "cell_type": "markdown",
      "source": [
        "19. Write a Python script that generates synthetic data for linear regression, fits a model, and visualizes the data points along with the regression line.\n",
        "\n",
        "\n",
        "ans;-"
      ],
      "metadata": {
        "id": "mcFlICj2TRyW"
      }
    },
    {
      "source": [
        "import numpy as np\n",
        "import matplotlib.pyplot as plt\n",
        "from sklearn.linear_model import LinearRegression\n",
        "\n",
        "# Generate synthetic data\n",
        "np.random.seed(0)\n",
        "X = np.random.rand(100, 1) * 10  # 100 random numbers between 0 and 10\n",
        "y = 2 * X + 3 + np.random.randn(100, 1) * 2  # Linear relationship with noise\n",
        "\n",
        "# Fit the linear regression model\n",
        "model = LinearRegression()\n",
        "model.fit(X, y)\n",
        "\n",
        "# Predict y values using the model\n",
        "y_pred = model.predict(X)\n",
        "\n",
        "# Plot the data points and regression line\n",
        "plt.scatter(X, y, color='blue', label='Data Points')\n",
        "plt.plot(X, y_pred, color='red', linewidth=2, label='Regression Line')\n",
        "plt.xlabel('X')\n",
        "plt.ylabel('y')\n",
        "plt.title('Linear Regression')\n",
        "plt.legend()\n",
        "plt.show()"
      ],
      "cell_type": "code",
      "metadata": {
        "colab": {
          "base_uri": "https://localhost:8080/",
          "height": 472
        },
        "id": "02xzs8omTbhT",
        "outputId": "281dfa67-aca2-427f-ba84-63c4415e1ace"
      },
      "execution_count": 20,
      "outputs": [
        {
          "output_type": "display_data",
          "data": {
            "text/plain": [
              "<Figure size 640x480 with 1 Axes>"
            ],
            "image/png": "[encoded data removed]"
          },
          "metadata": {}
        }
      ]
    },
    {
      "cell_type": "markdown",
      "source": [
        "20. Create a synthetic dataset with 3 features and perform multiple linear regression. Print the model's Rsquared score and coefficients6\n",
        "\n",
        "\n",
        "ans:-"
      ],
      "metadata": {
        "id": "w7ALQLt7TeJn"
      }
    },
    {
      "source": [
        "import numpy as np\n",
        "import pandas as pd\n",
        "from sklearn.linear_model import LinearRegression\n",
        "from sklearn.model_selection import train_test_split\n",
        "from sklearn.metrics import r2_score\n",
        "\n",
        "# Generate synthetic data with 3 features\n",
        "np.random.seed(0)\n",
        "X = np.random.rand(100, 3) * 10  # 100 rows, 3 features (columns)\n",
        "y = 2*X[:, 0] + 3*X[:, 1] - 1*X[:, 2] + 5 + np.random.randn(100) * 3  # Linear relationship with noise\n",
        "\n",
        "# Create a pandas DataFrame (optional, but helpful for organization)\n",
        "df = pd.DataFrame(X, columns=['feature1', 'feature2', 'feature3'])\n",
        "df['target'] = y\n",
        "\n",
        "# Split the data into training and testing sets\n",
        "X_train, X_test, y_train, y_test = train_test_split(df[['feature1', 'feature2', 'feature3']], df['target'], test_size=0.2, random_state=42)\n",
        "\n",
        "# Create and fit the linear regression model\n",
        "model = LinearRegression()\n",
        "model.fit(X_train, y_train)\n",
        "\n",
        "# Make predictions on the testing set\n",
        "y_pred = model.predict(X_test)\n",
        "\n",
        "# Calculate and print the R-squared score\n",
        "r_squared = r2_score(y_test, y_pred)\n",
        "print(f\"R-squared score: {r_squared}\")\n",
        "\n",
        "# Print the model coefficients\n",
        "coefficients = model.coef_\n",
        "intercept = model.intercept_\n",
        "print(f\"Coefficients: {coefficients}\")\n",
        "print(f\"Intercept: {intercept}\")"
      ],
      "cell_type": "code",
      "metadata": {
        "colab": {
          "base_uri": "https://localhost:8080/"
        },
        "id": "3xIsSQQGTh0X",
        "outputId": "50f018da-e5be-4bf7-e31a-1b1e550ec685"
      },
      "execution_count": 21,
      "outputs": [
        {
          "output_type": "stream",
          "name": "stdout",
          "text": [
            "R-squared score: 0.9095165150690268\n",
            "Coefficients: [ 1.96062793  2.92802347 -0.97386491]\n",
            "Intercept: 5.049011037412793\n"
          ]
        }
      ]
    },
    {
      "cell_type": "markdown",
      "source": [
        "21.Write a Python script to pickle a trained linear regression model, save it to a file, and load it back for prediction6\n",
        "\n",
        "\n",
        "an;-"
      ],
      "metadata": {
        "id": "l1xoarydTjMz"
      }
    },
    {
      "source": [
        "import pickle\n",
        "import numpy as np\n",
        "from sklearn.linear_model import LinearRegression\n",
        "\n",
        "# Generate some sample data (you can replace this with your own dataset)\n",
        "X = np.array([[1, 2], [3, 4], [5, 6]])\n",
        "y = np.array([3, 7, 11])\n",
        "\n",
        "# Create and train the linear regression model\n",
        "model = LinearRegression()\n",
        "model.fit(X, y)\n",
        "\n",
        "# Pickle the model and save it to a file\n",
        "filename = 'linear_regression_model.pkl'\n",
        "with open(filename, 'wb') as file:\n",
        "    pickle.dump(model, file)\n",
        "\n",
        "# Load the pickled model from the file\n",
        "with open(filename, 'rb') as file:\n",
        "    loaded_model = pickle.load(file)\n",
        "\n",
        "# Use the loaded model for prediction\n",
        "new_data = np.array([[7, 8]])\n",
        "prediction = loaded_model.predict(new_data)\n",
        "\n",
        "# Print the prediction\n",
        "print(\"Prediction:\", prediction)"
      ],
      "cell_type": "code",
      "metadata": {
        "colab": {
          "base_uri": "https://localhost:8080/"
        },
        "id": "FpNMKTV8TqK5",
        "outputId": "f1df60d4-7377-43fa-9fa4-afd18004398f"
      },
      "execution_count": 22,
      "outputs": [
        {
          "output_type": "stream",
          "name": "stdout",
          "text": [
            "Prediction: [15.]\n"
          ]
        }
      ]
    },
    {
      "cell_type": "markdown",
      "source": [
        "22. Write a Python script to perform linear regression with categorical features using one-hot encoding. Use the Seaborn 'tips' dataset6\n",
        "\n",
        "\n",
        "ans:-"
      ],
      "metadata": {
        "id": "kkdNzk3aTrsD"
      }
    },
    {
      "source": [
        "import seaborn as sns\n",
        "import pandas as pd\n",
        "from sklearn.linear_model import LinearRegression\n",
        "from sklearn.model_selection import train_test_split\n",
        "from sklearn.metrics import r2_score\n",
        "from sklearn.preprocessing import OneHotEncoder\n",
        "\n",
        "# Load the Seaborn 'tips' dataset\n",
        "tips = sns.load_dataset('tips')\n",
        "\n",
        "# Select features and target variable\n",
        "X = tips[['total_bill', 'sex', 'smoker', 'day', 'time', 'size']]\n",
        "y = tips['tip']\n",
        "\n",
        "# Perform one-hot encoding for categorical features\n",
        "categorical_features = ['sex', 'smoker', 'day', 'time']\n",
        "encoder = OneHotEncoder(sparse_output=False, handle_unknown='ignore', drop='first')  # drop='first' to avoid dummy variable trap\n",
        "encoded_features = encoder.fit_transform(X[categorical_features])\n",
        "encoded_df = pd.DataFrame(encoded_features, columns=encoder.get_feature_names_out(categorical_features))\n",
        "\n",
        "# Concatenate encoded features with numerical features\n",
        "X = pd.concat([X[['total_bill', 'size']], encoded_df], axis=1)\n",
        "\n",
        "# Split the data into training and testing sets\n",
        "X_train, X_test, y_train, y_test = train_test_split(X, y, test_size=0.2, random_state=42)\n",
        "\n",
        "# Create and fit the linear regression model\n",
        "model = LinearRegression()\n",
        "model.fit(X_train, y_train)\n",
        "\n",
        "# Make predictions on the testing set\n",
        "y_pred = model.predict(X_test)\n",
        "\n",
        "# Calculate and print the R-squared score\n",
        "r_squared = r2_score(y_test, y_pred)\n",
        "print(f\"R-squared score: {r_squared}\")\n",
        "\n",
        "# Print the model coefficients\n",
        "print(\"Coefficients:\")\n",
        "for feature, coef in zip(X.columns, model.coef_):\n",
        "    print(f\"{feature}: {coef}\")\n",
        "\n",
        "print(f\"Intercept: {model."
      ],
      "cell_type": "code",
      "metadata": {
        "id": "NXq1kfm7TxV8"
      },
      "execution_count": null,
      "outputs": []
    },
    {
      "source": [
        "\n",
        "import seaborn as sns\n",
        "import pandas as pd\n",
        "from sklearn.linear_model import LinearRegression\n",
        "from sklearn.model_selection import train_test_split\n",
        "from sklearn.metrics import r2_score\n",
        "from sklearn.preprocessing import OneHotEncoder\n",
        "\n",
        "# Load the Seaborn 'tips' dataset\n",
        "tips = sns.load_dataset('tips')\n",
        "\n",
        "# Select features and target variable\n",
        "X = tips[['total_bill', 'sex', 'smoker', 'day', 'time', 'size']]\n",
        "y = tips['tip']\n",
        "\n",
        "# Perform one-hot encoding for categorical features\n",
        "categorical_features = ['sex', 'smoker', 'day', 'time']\n",
        "encoder = OneHotEncoder(sparse_output=False, handle_unknown='ignore', drop='first')  # drop='first' to avoid dummy variable trap\n",
        "encoded_features = encoder.fit_transform(X[categorical_features])\n",
        "encoded_df = pd.DataFrame(encoded_features, columns=encoder.get_feature_names_out(categorical_features))\n",
        "\n",
        "# Concatenate encoded features with numerical features\n",
        "X = pd.concat([X[['total_bill', 'size']], encoded_df], axis=1)\n",
        "\n",
        "# Split the data into training and testing sets\n",
        "X_train, X_test, y_train, y_test = train_test_split(X, y, test_size=0.2, random_state=42)\n",
        "\n",
        "# Create and fit the linear regression model\n",
        "model = LinearRegression()\n",
        "model.fit(X_train, y_train)\n",
        "\n",
        "# Make predictions on the testing set\n",
        "y_pred = model.predict(X_test)\n",
        "\n",
        "# Calculate and print the R-squared score\n",
        "r_squared = r2_score(y_test, y_pred)\n",
        "print(f\"R-squared score: {r_squared}\")\n",
        "\n",
        "# Print the model coefficients\n",
        "print(\"Coefficients:\")\n",
        "```python\n",
        "import seaborn as sns\n",
        "import pandas as pd\n",
        "from sklearn.linear_model import LinearRegression\n",
        "from sklearn.model_selection import train_test_split\n",
        "from sklearn.metrics import r2_score\n",
        "from sklearn.preprocessing import OneHotEncoder\n",
        "\n",
        "# Load the Seaborn 'tips' dataset\n",
        "tips = sns.load_dataset('tips')\n",
        "\n",
        "# Select features and target variable\n",
        "X = tips[['total_bill', 'sex', 'smoker', 'day', 'time', 'size']]\n",
        "y = tips['tip']\n",
        "\n",
        "# Perform one-hot encoding for categorical features\n",
        "categorical_features = ['sex', 'smoker', 'day', 'time']\n",
        "encoder = OneHotEncoder(sparse_output=False, handle_unknown='ignore', drop='first')  # drop='first' to avoid dummy variable trap\n",
        "encoded_features = encoder.fit_transform(X[categorical_features])\n",
        "encoded_df = pd.DataFrame(encoded_features, columns=encoder.get_feature_names_out(categorical_features))\n",
        "\n",
        "# Concatenate encoded features with numerical features\n",
        "X = pd.concat([X[['total_bill', 'size']], encoded_df], axis=1)\n",
        "\n",
        "# Split the data into training and testing sets\n",
        "X_train, X_test, y_train, y_test = train_test_split(X, y, test_size=0.2, random_state=42)\n",
        "\n",
        "# Create and fit the linear regression model\n",
        "model = LinearRegression()\n",
        "model.fit(X_train, y_train)\n",
        "\n",
        "# Make predictions on the testing set\n",
        "y_pred = model.predict(X_test)\n",
        "\n",
        "# Calculate and print the R-squared score\n",
        "r_squared = r2_score(y_test, y_pred)\n",
        "print(f\"R-squared score: {r_squared}\")\n",
        "\n",
        "# Print the model coefficients\n",
        "print(\"Coefficients:\")\n",
        "for feature, coef in zip(X.columns, model.coef_):\n",
        "    print(f\"{feature}: {coef}\")\n",
        "\n",
        "print(f\"Intercept: {model.intercept_}\")\n",
        "```"
      ],
      "cell_type": "code",
      "metadata": {
        "colab": {
          "base_uri": "https://localhost:8080/",
          "height": 106
        },
        "id": "5jxOfMJ0TzEe",
        "outputId": "431d61e0-c6d6-4769-e51a-99a24b5c68eb"
      },
      "execution_count": 30,
      "outputs": [
        {
          "output_type": "error",
          "ename": "SyntaxError",
          "evalue": "invalid syntax (<ipython-input-30-e28411c93e54>, line 40)",
          "traceback": [
            "\u001b[0;36m  File \u001b[0;32m\"<ipython-input-30-e28411c93e54>\"\u001b[0;36m, line \u001b[0;32m40\u001b[0m\n\u001b[0;31m    ```python\u001b[0m\n\u001b[0m    ^\u001b[0m\n\u001b[0;31mSyntaxError\u001b[0m\u001b[0;31m:\u001b[0m invalid syntax\n"
          ]
        }
      ]
    },
    {
      "cell_type": "markdown",
      "source": [
        "23. Compare Ridge Regression with Linear Regression on a synthetic dataset and print the coefficients and Rsquared score6\n",
        "\n",
        "\n",
        "ans:-"
      ],
      "metadata": {
        "id": "kL3EktZST0up"
      }
    },
    {
      "source": [
        "\n",
        "\n",
        "import numpy as np\n",
        "import pandas as pd\n",
        "from sklearn.linear_model import LinearRegression, Ridge\n",
        "from sklearn.model_selection import train_test_split\n",
        "from sklearn.metrics import r2_score\n",
        "\n",
        "# Generate synthetic data with multicollinearity\n",
        "np.random.seed(0)\n",
        "X = np.random.rand(100, 3) * 10  # 100 rows, 3 features (columns)\n",
        "X[:, 2] = X[:, 0] + X[:, 1] + np.random.randn(100) * 0.1  # Introduce multicollinearity\n",
        "y = 2*X[:, 0] + 3*X[:, 1] - 1*X[:, 2] + 5 + np.random.randn(100) * 3  # Linear relationship with noise\n",
        "\n",
        "# Create a pandas DataFrame\n",
        "df = pd.DataFrame(X, columns=['feature1', 'feature2', 'feature3'])\n",
        "df['target'] = y\n",
        "\n",
        "# Split the data into training and testing sets\n",
        "X_train, X_test, y_train, y_test = train_test_split(df[['feature1', 'feature2', 'feature3']], df['target'], test_size=0.2, random_state=42)\n",
        "\n",
        "# Linear Regression\n",
        "linear_model = LinearRegression()\n",
        "linear_model.fit(X_train, y_train)\n",
        "linear_pred = linear_model.predict(X_test)\n",
        "linear_r2 = r2_score(y_test, linear_pred)\n",
        "\n",
        "```python\n",
        "import numpy as np\n",
        "import pandas as pd\n",
        "from sklearn.linear_model import LinearRegression, Ridge\n",
        "from sklearn.model_selection import train_test_split\n",
        "from sklearn.metrics import r2_score\n",
        "\n",
        "# Generate synthetic data with multicollinearity\n",
        "np.random.seed(0)\n",
        "X = np.random.rand(100, 3) * 10  # 100 rows, 3 features (columns)\n",
        "X[:, 2] = X[:, 0] + X[:, 1] + np.random.randn(100) * 0.1  # Introduce multicollinearity\n",
        "y = 2*X[:, 0] + 3*X[:, 1] - 1*X[:, 2] + 5 + np.random.randn(100) * 3  # Linear relationship with noise\n",
        "\n",
        "# Create a pandas DataFrame\n",
        "df = pd.DataFrame(X, columns=['feature1', 'feature2', 'feature3'])\n",
        "df['target'] = y\n",
        "\n",
        "# Split the data into training and testing sets\n",
        "X_train, X_test, y_train, y_test = train_test_split(df[['feature1', 'feature2', 'feature3']], df['target'], test_size=0.2, random_state=42)\n",
        "\n",
        "# Linear Regression\n",
        "linear_model = LinearRegression()\n",
        "linear_model.fit(X_train, y_train)\n",
        "linear_pred = linear_model.predict(X_test)\n",
        "linear_r2 = r2_score(y_test, linear_pred)\n",
        "\n",
        "# Ridge Regression\n",
        "ridge_model = Ridge(alpha=1.0)  # You can adjust the alpha (regularization strength)\n",
        "ridge_model.fit(X_train, y_train)\n",
        "ridge_pred = ridge_model.predict(X_test)\n",
        "ridge_r2 = r2_score(y_test, ridge_pred)\n",
        "\n",
        "# Print results\n",
        "print(\"Linear Regression:\")\n",
        "print(f\"R-squared: {linear_r2}\")\n",
        "print(\"\\nRidge Regression:\")\n",
        "print(f\"R-squared: {ridge_r2}\")\n",
        "```\n",
        "import numpy as np\n",
        "import pandas as pd\n",
        "from sklearn.linear_model import LinearRegression, Ridge\n",
        "from sklearn.model_selection import train_test_split\n",
        "from sklearn.metrics import r2_score\n",
        "\n",
        "# Generate synthetic data with multicollinearity\n",
        "np.random.seed(0)\n",
        "X = np.random.rand(100, 3) * 10  # 100 rows, 3 features (columns)\n",
        "X[:, 2] = X[:, 0] + X[:, 1] + np.random.randn(100) * 0.1  # Introduce multicollinearity\n",
        "y = 2*X[:, 0] + 3*X[:, 1] - 1*X[:, 2] + 5 + np.random.randn(100) * 3  # Linear relationship with noise\n",
        "\n",
        "# Create a pandas DataFrame\n",
        "df = pd.DataFrame(X, columns=['feature1', 'feature2', 'feature3'])\n",
        "df['target'] = y\n",
        "\n",
        "# Split the data into training and testing sets\n",
        "X_train, X_test, y_train, y_test = train_test_split(df[['feature1', 'feature2', 'feature3']], df['target'], test_size=0.2, random_state=42)\n",
        "\n",
        "# Linear Regression\n",
        "linear_model = LinearRegression()\n",
        "linear_model.fit(X_train, y_train)\n",
        "linear_pred = linear_model.predict(X_test)\n",
        "linear_r2 = r2_score(y_test, linear_pred)\n",
        "\n",
        "# Ridge Regression\n",
        "ridge_model = Ridge(alpha=1.0)  # You can adjust the alpha (regularization strength)\n",
        "ridge_model.fit(X_train, y_train)\n",
        "ridge_pred = ridge_model.predict(X_test)\n",
        "ridge_r2 = r2_score(y_test, ridge_pred)\n",
        "\n",
        "# Print results\n",
        "print(\"Linear Regression:\")\n",
        "print(f\"R-squared: {linear_r2}\")\n",
        "print(\"\\nRidge Regression:\")\n",
        "print(f\"R-squared: {ridge_r2}\")\n",
        "```"
      ],
      "cell_type": "code",
      "metadata": {
        "colab": {
          "base_uri": "https://localhost:8080/",
          "height": 106
        },
        "id": "czezJ3f_T58j",
        "outputId": "74c8202e-d775-4e7d-f14d-0dda33be3e1a"
      },
      "execution_count": 29,
      "outputs": [
        {
          "output_type": "error",
          "ename": "SyntaxError",
          "evalue": "invalid syntax (<ipython-input-29-507c05927330>, line 26)",
          "traceback": [
            "\u001b[0;36m  File \u001b[0;32m\"<ipython-input-29-507c05927330>\"\u001b[0;36m, line \u001b[0;32m26\u001b[0m\n\u001b[0;31m    ```python\u001b[0m\n\u001b[0m    ^\u001b[0m\n\u001b[0;31mSyntaxError\u001b[0m\u001b[0;31m:\u001b[0m invalid syntax\n"
          ]
        }
      ]
    },
    {
      "cell_type": "markdown",
      "source": [
        "24. Write a Python script that uses cross-validation to evaluate a Linear Regression model on a synthetic dataset6\n",
        "\n",
        "\n",
        "ans:-\n"
      ],
      "metadata": {
        "id": "gQx8NoVMT8tp"
      }
    },
    {
      "source": [
        "import numpy as np\n",
        "import pandas as pd\n",
        "from sklearn.linear_model import LinearRegression\n",
        "from sklearn.model_selection import cross_val_score, KFold\n",
        "\n",
        "# Generate synthetic data\n",
        "np.random.seed(0)\n",
        "X = np.random.rand(100, 3) * 10  # 100 rows, 3 features (columns)\n",
        "y = 2*X[:, 0] + 3*X[:, 1] - 1*X[:, 2] + 5 + np.random.randn(100) * 3  # Linear relationship with noise\n",
        "\n",
        "# Create a pandas DataFrame\n",
        "df = pd.DataFrame(X, columns=['feature1', 'feature2', 'feature3'])\n",
        "df['target'] = y\n",
        "\n",
        "# Create the Linear Regression model\n",
        "model = LinearRegression()\n",
        "\n",
        "# Define the cross-validation strategy (e.g.,"
      ],
      "cell_type": "code",
      "metadata": {
        "id": "QTfBpOGzUESl"
      },
      "execution_count": null,
      "outputs": []
    },
    {
      "source": [
        "import numpy as np\n",
        "import pandas as pd\n",
        "from sklearn.linear_model import LinearRegression\n",
        "from sklearn.model_selection import cross_val_score, KFold\n",
        "\n",
        "# Generate synthetic data\n",
        "np.random.seed(0)\n",
        "X = np.random.rand(100, 3) * 10  # 100 rows, 3 features (columns)\n",
        "y = 2*X[:, 0] + 3*X[:, 1] - 1*X[:, 2] + 5 + np.random.randn(100) * 3  # Linear relationship with noise\n",
        "\n",
        "# Create a pandas DataFrame\n",
        "df = pd.DataFrame(X, columns=['feature1', 'feature2', 'feature3'])\n",
        "df['target'] = y\n",
        "\n",
        "# Create the Linear Regression model\n",
        "model = LinearRegression()\n",
        "\n",
        "# Define the cross-validation strategy (e.g., KFold with 5 folds)\n",
        "cv = KFold(n_splits=5, shuffle=True, random_state=42)\n",
        "\n",
        "# Perform cross-validation and get the R-squared scores for each fold\n",
        "scores = cross_val_score(model, df[['feature1', 'feature2', 'feature3']], df['target'], cv=cv, scoring='r2')\n",
        "\n",
        "# Print the cross-validation scores\n",
        "print(\"Cross-validation scores:\", scores)\n",
        "print(\"Average R-squared score:\", scores.mean())"
      ],
      "cell_type": "code",
      "metadata": {
        "colab": {
          "base_uri": "https://localhost:8080/"
        },
        "id": "YDSVxtocUE8y",
        "outputId": "228c6370-42d3-4697-f9d4-8149879656e0"
      },
      "execution_count": 25,
      "outputs": [
        {
          "output_type": "stream",
          "name": "stdout",
          "text": [
            "Cross-validation scores: [0.90951652 0.91705574 0.90652176 0.93942592 0.93593477]\n",
            "Average R-squared score: 0.9216909408404017\n"
          ]
        }
      ]
    },
    {
      "cell_type": "markdown",
      "source": [
        "25. Write a Python script that compares polynomial regression models of different degrees and prints the Rsquared score for each6\n",
        "\n",
        "\n",
        "ans:-"
      ],
      "metadata": {
        "id": "heKI9tpJUGlt"
      }
    },
    {
      "source": [
        "\n",
        "import numpy as np\n",
        "import pandas as pd\n",
        "from sklearn.linear_model import LinearRegression\n",
        "from sklearn.preprocessing import PolynomialFeatures\n",
        "from sklearn.model_selection import train_test_split\n",
        "from sklearn.metrics import r2_score\n",
        "\n",
        "# Generate synthetic data with a non-linear relationship\n",
        "np.random.seed(0)\n",
        "X = np.random.rand(100, 1) * 10  # 100 rows, 1 feature (column)\n",
        "y = X**3 - 5*X**2 + 3*X + 2 + np.random.randn(100, 1) * 10  # Cubic relationship with noise\n",
        "\n",
        "# Create a pandas DataFrame\n",
        "df = pd.DataFrame(X, columns=['feature'])\n",
        "df['target'] = y\n",
        "\n",
        "# Split the data into training and testing sets\n",
        "X_train, X_test,"
      ],
      "cell_type": "code",
      "metadata": {
        "colab": {
          "base_uri": "https://localhost:8080/"
        },
        "id": "AVHRvAYjUL7B",
        "outputId": "fc72ba8a-02b7-4747-a2d5-bad06cf4a3e8"
      },
      "execution_count": 26,
      "outputs": [
        {
          "output_type": "execute_result",
          "data": {
            "text/plain": [
              "(    feature1  feature2  feature3\n",
              " 55  8.558033  0.117141  3.599781\n",
              " 88  6.699165  7.851529  2.817301\n",
              " 26  2.961402  1.187277  3.179832\n",
              " 42  0.191932  3.015748  6.601735\n",
              " 69  4.536968  5.365792  8.966713\n",
              " ..       ...       ...       ...\n",
              " 60  1.646942  6.214784  5.772286\n",
              " 71  2.633224  0.206510  7.583787\n",
              " 14  6.976312  0.602255  6.667667\n",
              " 92  9.413777  7.992026  6.304479\n",
              " 51  6.155596  1.238200  8.480082\n",
              " \n",
              " [80 rows x 3 columns],\n",
              "     feature1  feature2  feature3\n",
              " 83  4.880563  3.556127  9.404319\n",
              " 53  0.691670  6.974288  4.535427\n",
              " 70  9.903389  2.168970  6.630782\n",
              " 45  5.908728  5.743252  6.532008\n",
              " 44  1.354741  2.982823  5.699649\n",
              " 39  5.812729  8.817354  6.925316\n",
              " 22  8.209932  0.971013  8.379449\n",
              " 80  8.638556  1.175319  5.173791\n",
              " 10  2.645556  7.742337  4.561503\n",
              " 0   5.488135  7.151894  6.027634\n",
              " 18  2.088768  1.613095  6.531083\n",
              " 30  3.185690  6.674104  1.317979\n",
              " 73  8.310485  6.289818  8.726507\n",
              " 33  0.046955  6.778165  2.700080\n",
              " 90  9.774951  8.765052  3.381590\n",
              " 4   5.680446  9.255966  0.710361\n",
              " 76  9.473706  7.308558  2.539416\n",
              " 77  2.133120  5.182007  0.256627\n",
              " 12  6.120957  6.169340  9.437481\n",
              " 31  7.163272  2.894061  1.831914)"
            ]
          },
          "metadata": {},
          "execution_count": 26
        }
      ]
    },
    {
      "cell_type": "markdown",
      "source": [
        "26. Write a Python script that adds interaction terms to a linear regression model and prints the coefficients\n",
        "\n",
        "ans;-"
      ],
      "metadata": {
        "id": "7vRnvL_IUPrN"
      }
    },
    {
      "source": [
        "import numpy as np\n",
        "import pandas as pd\n",
        "from sklearn.linear_model import LinearRegression\n",
        "from sklearn.model_selection import train_test_split\n",
        "from sklearn.preprocessing import PolynomialFeatures\n",
        "\n",
        "# Generate synthetic data with two features\n",
        "np.random.seed(0)\n",
        "X = np.random.rand(100, 2) * 10  # 100 rows, 2 features (columns)\n",
        "y = 2*X[:, 0] + 3*X[:, 1] + 1*X[:, 0]*X[:, 1] + 5 + np.random.randn(100) * 3  # Linear relationship with interaction term and noise\n",
        "\n",
        "# Create a pandas DataFrame\n",
        "df = pd.DataFrame(X, columns=['feature1', 'feature2'])\n",
        "df['target'] = y\n",
        "\n",
        "# Split the data into training and testing sets\n",
        "X_train, X"
      ],
      "cell_type": "code",
      "metadata": {
        "id": "3Et4Pz1wUSNV"
      },
      "execution_count": null,
      "outputs": []
    },
    {
      "source": [
        "import numpy as np\n",
        "import pandas as pd\n",
        "from sklearn.linear_model import LinearRegression\n",
        "from sklearn.model_selection import train_test_split\n",
        "from sklearn.preprocessing import PolynomialFeatures\n",
        "\n",
        "# Generate synthetic data with two features\n",
        "np.random.seed(0)\n",
        "X = np.random.rand(100, 2) * 10  # 100 rows, 2 features (columns)\n",
        "y = 2*X[:, 0] + 3*X[:, 1] + 1*X[:, 0]*X[:, 1] + 5 + np.random.randn(100) * 3  # Linear relationship with interaction term and noise\n",
        "\n",
        "# Create a pandas DataFrame\n",
        "df = pd.DataFrame(X, columns=['feature1', 'feature2'])\n",
        "df['target'] = y\n",
        "\n",
        "# Split the data into training and testing sets\n",
        "X_train, X_test, y_train, y_test = train_test_split(df[['feature1', 'feature2']], df['target'], test_size=0.2, random_state=42)\n",
        "\n",
        "# Create interaction terms using PolynomialFeatures\n",
        "poly = PolynomialFeatures(degree=2, interaction_only=True, include_bias=False)\n",
        "X_train_inter = poly.fit_transform(X_train)\n",
        "X_test_inter = poly.transform(X_test)\n",
        "\n",
        "# Fit the linear regression model with interaction terms\n",
        "model = LinearRegression()\n",
        "model.fit(X_train_inter, y_train)\n",
        "\n",
        "# Print the coefficients\n",
        "print(\"Coefficients:\")\n",
        "feature_names = poly.get_feature_names_out(input_features=['feature1', 'feature2'])\n",
        "for feature, coef in zip(feature_names, model.coef_):\n",
        "    print(f\"{feature}: {coef}\")\n",
        "\n",
        "print(f\"Intercept: {model.intercept_}\")"
      ],
      "cell_type": "code",
      "metadata": {
        "id": "kL0tyIm_USnU"
      },
      "execution_count": null,
      "outputs": []
    },
    {
      "source": [
        "\n",
        "import numpy as np\n",
        "import pandas as pd\n",
        "from sklearn.linear_model import LinearRegression\n",
        "from sklearn.model_selection import train_test_split\n",
        "from sklearn.preprocessing import PolynomialFeatures\n",
        "\n",
        "# Generate synthetic data with two features\n",
        "np.random.seed(0)\n",
        "X = np.random.rand(100, 2) * 10  # 100 rows, 2 features (columns)\n",
        "y = 2*X[:, 0] + 3*X[:, 1] + 1*X[:, 0]*X[:, 1] + 5 + np.random.randn(100) * 3  # Linear relationship with interaction term and noise\n",
        "\n",
        "# Create a pandas DataFrame\n",
        "df = pd.DataFrame(X, columns=['feature1', 'feature2'])\n",
        "df['target'] = y\n",
        "\n",
        "# Split the data into training and testing sets\n",
        "X_train, X_test, y_train, y_test = train_test_split(df[['feature1', 'feature2']], df['target'], test_size=0.2, random_state=42)\n",
        "\n",
        "# Create interaction terms using PolynomialFeatures\n",
        "poly = PolynomialFeatures(degree=2, interaction_only=True, include_bias=False)\n",
        "X_train_inter = poly.fit_transform(X_train)\n",
        "X_test_inter = poly.transform(X_test)\n",
        "\n",
        "# Fit the linear regression model with interaction terms\n",
        "model = LinearRegression()\n",
        "model.fit(X_train_inter, y_train)\n",
        "\n",
        "# Print the coefficients\n",
        "print(\"Coefficients:\")\n",
        "feature_names = poly.get_feature_names_out(input_features=['feature1', 'feature2'])\n",
        "for feature, coef in zip(feature_names, model.coef_):\n",
        "    print(f\"{feature}: {coef}\")\n",
        "\n",
        "print(f\"Intercept: {model.intercept_}\")"
      ],
      "cell_type": "code",
      "metadata": {
        "colab": {
          "base_uri": "https://localhost:8080/"
        },
        "id": "cf_G3NStUTLJ",
        "outputId": "74d22d42-5126-4cc4-cc2f-3289005e9ae1"
      },
      "execution_count": 27,
      "outputs": [
        {
          "output_type": "stream",
          "name": "stdout",
          "text": [
            "Coefficients:\n",
            "feature1: 1.753242890050389\n",
            "feature2: 2.914514372832734\n",
            "feature1 feature2: 1.0227534259580568\n",
            "Intercept: 5.7251434884849886\n"
          ]
        }
      ]
    },
    {
      "cell_type": "code",
      "source": [
        "\n"
      ],
      "metadata": {
        "id": "giwQdyuJSk4a"
      },
      "execution_count": null,
      "outputs": []
    }
  ]
}