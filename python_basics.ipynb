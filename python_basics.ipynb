{
  "nbformat": 4,
  "nbformat_minor": 0,
  "metadata": {
    "colab": {
      "provenance": []
    },
    "kernelspec": {
      "name": "python3",
      "display_name": "Python 3"
    },
    "language_info": {
      "name": "python"
    }
  },
  "cells": [
    {
      "cell_type": "code",
      "execution_count": null,
      "metadata": {
        "id": "UGAFvV_u5cn8"
      },
      "outputs": [],
      "source": []
    },
    {
      "cell_type": "markdown",
      "source": [
        "1.explane the key features of python that make it a popular choice in prigrraming?\n",
        "\n",
        "answer:-Python has several key features that contribute to its popularity:\n",
        "beginner-Friendly Syntax: Python's syntax is clear and readable, resembling natural language. This makes it easier for beginners to learn and understand. Versatility: Python is used in a wide range of applications, including web development, data science, machine learning, scripting, and more. This versatility makes it a valuable skill for various career paths. Extensive Libraries and Frameworks: Python boasts a rich ecosystem of libraries and frameworks like NumPy, Pandas, Django, and Flask, providing pre-built functionality for diverse tasks, saving developers time and effort. Large and Active Community: Python has a massive and supportive community of users and developers, which means there's a wealth of resources, tutorials, and assistance available online. Cross-Platform Compatibility: Python runs on various operating systems like Windows, macOS, and Linux, allowing developers to write code once and deploy it across different platforms. Open-Source and Free: Python is open-source software, meaning it's free to use, distribute, and modify. This accessibility makes it a cost-effective choice for individuals and organizations. Object-Oriented Programming: Python supports object-oriented programming concepts, enabling developers to create modular and reusable code, improving code organization and maintainability.\n"
      ],
      "metadata": {
        "id": "jd2PUz575lCk"
      }
    },
    {
      "cell_type": "code",
      "source": [],
      "metadata": {
        "id": "UhGDe73u6S85"
      },
      "execution_count": null,
      "outputs": []
    },
    {
      "cell_type": "markdown",
      "source": [
        "2.Describe the role of predefined keywords in python and giive the example how its work?\n",
        "\n",
        "ans:-Keywords are reserved words with special meanings. They cannot be used as variable names.\n",
        "For example, the for keyword is used to create a loop:\n",
        "\n",
        "This code will print the numbers 0 to 4.\n",
        "\n",
        "Other examples of keywords are if, else, while, def, and class.\n"
      ],
      "metadata": {
        "id": "Zk51aNMk5taC"
      }
    },
    {
      "cell_type": "code",
      "source": [
        "for i in range(5):print(i)"
      ],
      "metadata": {
        "colab": {
          "base_uri": "https://localhost:8080/"
        },
        "id": "WCV9XNtN6Tg_",
        "outputId": "dcb83730-2464-46dc-b281-e7decb54860a"
      },
      "execution_count": 1,
      "outputs": [
        {
          "output_type": "stream",
          "name": "stdout",
          "text": [
            "0\n",
            "1\n",
            "2\n",
            "3\n",
            "4\n"
          ]
        }
      ]
    },
    {
      "cell_type": "markdown",
      "source": [
        "3.compare and contrats muttable and immutable object in python with example?\n",
        "\n",
        "ans:-*MUTABLE*:mutable object can be changed after their ceation.example:list,set,dictionary are mutable.\n",
        "*IMMUTABLE*immutable object can not be changed after their creation.for example string,integer and tuples are immutable."
      ],
      "metadata": {
        "id": "7xcmbaTO6yoa"
      }
    },
    {
      "cell_type": "code",
      "source": [
        "#mutable\n",
        "my_list = [1, 2, 3]\n",
        "my_list.append(4)\n",
        "print(my_list) # Output: [1, 2, 3, 4]"
      ],
      "metadata": {
        "colab": {
          "base_uri": "https://localhost:8080/"
        },
        "id": "SIj53Ls76djC",
        "outputId": "c51088cd-f491-402b-e632-c64f460856ee"
      },
      "execution_count": null,
      "outputs": [
        {
          "output_type": "stream",
          "name": "stdout",
          "text": [
            "[1, 2, 3, 4]\n"
          ]
        }
      ]
    },
    {
      "cell_type": "markdown",
      "source": [],
      "metadata": {
        "id": "3gwLQbv46lYZ"
      }
    },
    {
      "cell_type": "code",
      "source": [],
      "metadata": {
        "id": "cQGGlC0w-xaY"
      },
      "execution_count": null,
      "outputs": []
    },
    {
      "cell_type": "code",
      "source": [
        "#immutable\n",
        "my_tuple = (1, 2, 3)\n",
        "# Convert the tuple to a list if you need to modify it\n",
        "my_list = list(my_tuple)\n",
        "my_list[0] = 4\n",
        "# Convert the list back to a tuple if needed\n",
        "my_tuple = tuple(my_list)\n",
        "print(my_tuple) # Output: (4, 2, 3)\n"
      ],
      "metadata": {
        "colab": {
          "base_uri": "https://localhost:8080/"
        },
        "id": "TanuiWmC8lTV",
        "outputId": "f1c86a60-4a31-43c1-decc-3ccde487c5c7"
      },
      "execution_count": 3,
      "outputs": [
        {
          "output_type": "stream",
          "name": "stdout",
          "text": [
            "(4, 2, 3)\n"
          ]
        }
      ]
    },
    {
      "cell_type": "markdown",
      "source": [
        "4.discuss the different types of operators python and how their used in python?\n",
        "\n",
        "ans:-Python has several types of operators:\n",
        "\n",
        "Arithmetic Operators: Used for basic mathematical operations.\n",
        "+ (Addition), - (Subtraction), * (Multiplication), / (Division), % (Modulus), ** (Exponentiation), // (Floor division).\n",
        "Comparison Operators: Used to compare values.\n",
        "== (Equal to), != (Not equal to), > (Greater than), < (Less than), >= (Greater than or equal to), <= (Less than or equal to)\n",
        "Logical Operators: Used to combine conditional statements.\n",
        "and (Returns True if both statements are true), or (Returns True if one of the statements is true), not (Reverse the result, returns False if the result is true)\n",
        "Assignment Operators: Used to assign values to variables\n",
        "= (Assign), += (Add and assign), -= (Subtract and assign), *= (Multiply and assign), /= (Divide and assign), %= (Modulus and assign), **= (Exponentiation and assign), //= (Floor division and assign)\n",
        "Bitwise Operators: Used to perform bitwise calculations on integers.\n",
        "& (AND), | (OR), ^ (XOR), ~ (NOT), << (Left shift), >> (Right shift)\n",
        "Membership Operators: Used to test if a sequence is presented in an object.\n",
        "in (Returns True if a sequence with the specified value is present in the object), not in (Returns True if a sequence with the specified value is not present in the object)\n",
        "Identity Operators: Used to compare the objects, not if they are equal, but if they are actually the same object, with the same memory location.\n",
        "is (Returns True if both variables are the same object), is not (Returns True if both variables are not the same object)\n",
        "\n"
      ],
      "metadata": {
        "id": "ZXXgafxK82I0"
      }
    },
    {
      "cell_type": "code",
      "source": [
        "#airthmetic operaters\n",
        "a=5\n",
        "b=7\n",
        "print(a+b)"
      ],
      "metadata": {
        "colab": {
          "base_uri": "https://localhost:8080/"
        },
        "id": "EHekgM8l-1Hf",
        "outputId": "98b1db23-a53c-4e2e-a817-a4f687126973"
      },
      "execution_count": null,
      "outputs": [
        {
          "output_type": "stream",
          "name": "stdout",
          "text": [
            "12\n"
          ]
        }
      ]
    },
    {
      "cell_type": "code",
      "source": [
        "#comparision operaters\n",
        "a=5\n",
        "b=5\n",
        "print(a>=b)\n"
      ],
      "metadata": {
        "colab": {
          "base_uri": "https://localhost:8080/"
        },
        "id": "ZXhAKQNs_PXt",
        "outputId": "0f4d8a79-827d-4846-a5c1-e008ba1013e0"
      },
      "execution_count": null,
      "outputs": [
        {
          "output_type": "stream",
          "name": "stdout",
          "text": [
            "True\n"
          ]
        }
      ]
    },
    {
      "cell_type": "code",
      "source": [
        "#logical operaters\n",
        "x=9\n",
        "print(x>6 and x<10)\n"
      ],
      "metadata": {
        "colab": {
          "base_uri": "https://localhost:8080/"
        },
        "id": "Wr92nzwU_3TC",
        "outputId": "a699cc4b-eca1-47d6-ff3a-09ccd20ee167"
      },
      "execution_count": null,
      "outputs": [
        {
          "output_type": "stream",
          "name": "stdout",
          "text": [
            "True\n"
          ]
        }
      ]
    },
    {
      "cell_type": "code",
      "source": [
        "#assignment operators\n",
        "a=5\n",
        "a+=2\n",
        "print(a)"
      ],
      "metadata": {
        "colab": {
          "base_uri": "https://localhost:8080/"
        },
        "id": "b1OBcpcSAM4M",
        "outputId": "d60d0e05-d01a-447e-cc61-e588240a0101"
      },
      "execution_count": null,
      "outputs": [
        {
          "output_type": "stream",
          "name": "stdout",
          "text": [
            "7\n"
          ]
        }
      ]
    },
    {
      "cell_type": "code",
      "source": [
        "#bitwise operaters\n",
        "a=10\n",
        "b=5\n",
        "print(a&b)"
      ],
      "metadata": {
        "colab": {
          "base_uri": "https://localhost:8080/"
        },
        "id": "rShfYJGPAhxr",
        "outputId": "6a7e70c2-ff32-4127-e000-2df81d8b48ee"
      },
      "execution_count": null,
      "outputs": [
        {
          "output_type": "stream",
          "name": "stdout",
          "text": [
            "0\n"
          ]
        }
      ]
    },
    {
      "cell_type": "code",
      "source": [
        "#membership operaters\n",
        "x = [\"apple\", \"banana\"]\n",
        "print(\"banana\" in x)"
      ],
      "metadata": {
        "colab": {
          "base_uri": "https://localhost:8080/"
        },
        "id": "8zKoE1s0A4an",
        "outputId": "001c3239-2337-4454-e668-ad29f5f43ae7"
      },
      "execution_count": null,
      "outputs": [
        {
          "output_type": "stream",
          "name": "stdout",
          "text": [
            "True\n"
          ]
        }
      ]
    },
    {
      "cell_type": "code",
      "source": [
        "#identity operaters\n",
        "x = [\"apple\", \"banana\"]\n",
        "y = [\"apple\", \"banana\"]\n",
        "z = x # Assign the value of x to z\n",
        "print(z)\n",
        "\n",
        "\n"
      ],
      "metadata": {
        "colab": {
          "base_uri": "https://localhost:8080/"
        },
        "id": "C40FGdPOBHNZ",
        "outputId": "ca9a000e-1a64-45df-9508-ad22b1e1b575"
      },
      "execution_count": 6,
      "outputs": [
        {
          "output_type": "stream",
          "name": "stdout",
          "text": [
            "['apple', 'banana']\n"
          ]
        }
      ]
    },
    {
      "cell_type": "code",
      "source": [],
      "metadata": {
        "id": "_bbuEYVtBp1g"
      },
      "execution_count": null,
      "outputs": []
    },
    {
      "cell_type": "markdown",
      "source": [
        "5.explain the concept of type casting with example?\n",
        "\n",
        "ans:-the process of changing the data type of a vairable/object.\n",
        "example;float to integer\n",
        "integer to float\n",
        "string to float\n",
        "string to integer etc"
      ],
      "metadata": {
        "id": "p2UURfjDCyNx"
      }
    },
    {
      "cell_type": "markdown",
      "source": [],
      "metadata": {
        "id": "mwr97IUVJWG0"
      }
    },
    {
      "cell_type": "code",
      "source": [
        "#type casting example\n",
        "#integer to float\n",
        "a=2\n",
        "type(a)\n"
      ],
      "metadata": {
        "colab": {
          "base_uri": "https://localhost:8080/"
        },
        "id": "faD0SiCLEX0k",
        "outputId": "b0fad437-3274-4d83-ea2c-0e1e997da7cb"
      },
      "execution_count": null,
      "outputs": [
        {
          "output_type": "execute_result",
          "data": {
            "text/plain": [
              "int"
            ]
          },
          "metadata": {},
          "execution_count": 20
        }
      ]
    },
    {
      "cell_type": "code",
      "source": [
        "b=float(a)\n",
        "type(b)"
      ],
      "metadata": {
        "colab": {
          "base_uri": "https://localhost:8080/"
        },
        "id": "JsOmy0ebEt_2",
        "outputId": "fef7a149-1aa2-4d18-d3c1-c2b29eeb5b50"
      },
      "execution_count": null,
      "outputs": [
        {
          "output_type": "execute_result",
          "data": {
            "text/plain": [
              "float"
            ]
          },
          "metadata": {},
          "execution_count": 21
        }
      ]
    },
    {
      "cell_type": "markdown",
      "source": [
        "6.how to conditional statement work in python?wiith illustrates example?\n",
        "\n",
        "ans:-Conditional statements control the flow of execution based on conditions. The most common conditional statement is the if statement.\n",
        "\n",
        "if statement:\n",
        "if-else statement:\n",
        "if-elif-else statement:"
      ],
      "metadata": {
        "id": "as13TPscE5r0"
      }
    },
    {
      "cell_type": "code",
      "source": [
        "#if statement\n",
        "x = 10\n",
        "if(x>5): #Removed extra indent\n",
        "  print(\"x is less than 5\")"
      ],
      "metadata": {
        "colab": {
          "base_uri": "https://localhost:8080/"
        },
        "id": "wfCr18RhE3_2",
        "outputId": "d2b440dc-e970-4c0f-bbad-666f1d883867"
      },
      "execution_count": 7,
      "outputs": [
        {
          "output_type": "stream",
          "name": "stdout",
          "text": [
            "x is less than 5\n"
          ]
        }
      ]
    },
    {
      "cell_type": "code",
      "source": [
        "#if else statemant\n",
        "x = 3\n",
        "if x > 5: #Removed extra indent\n",
        "  print(\"x is greater than 5\")\n",
        "else:\n",
        "  print(\"x is not greater than 5\")\n"
      ],
      "metadata": {
        "colab": {
          "base_uri": "https://localhost:8080/"
        },
        "id": "1O42ynJgGA2t",
        "outputId": "0ada41e7-2039-47e8-e8ce-88f89dae7d51"
      },
      "execution_count": 8,
      "outputs": [
        {
          "output_type": "stream",
          "name": "stdout",
          "text": [
            "x is not greater than 5\n"
          ]
        }
      ]
    },
    {
      "cell_type": "code",
      "source": [
        "#if elif else statement\n",
        "x = 10\n",
        "if x > 15: #removed extra indentation\n",
        "  print(\"x is greater than 15\")\n",
        "elif x > 5: #removed extra indentation\n",
        "  print(\"x is greater than 5 but not greater than 15\")\n",
        "else: #removed extra indentation\n",
        "  print(\"x is not greater than 5\")\n"
      ],
      "metadata": {
        "colab": {
          "base_uri": "https://localhost:8080/"
        },
        "id": "TB46-op0Gk_D",
        "outputId": "783a8bd8-1e95-4f38-f07f-0f8ac577fda5"
      },
      "execution_count": null,
      "outputs": [
        {
          "output_type": "stream",
          "name": "stdout",
          "text": [
            "x is greater than 5 but not greater than 15\n"
          ]
        }
      ]
    },
    {
      "cell_type": "markdown",
      "source": [
        "7.describe the different type of loops in python and their uses case example?\n",
        "ans;-Python offers two primary types of loops: for and while.\n",
        "\n",
        "for loop:\n",
        "Use case: Iterating over a sequence (list, tuple, string, range) or other iterable objects.\n",
        "Example:\n",
        "fruits = [\"apple\", \"banana\", \"cherry\"]\n",
        "      for fruit in fruits:\n",
        "        print(fruit)\n",
        "\n",
        "        while loop:\n",
        "Use case: Repeating a block of code as long as a condition is true.\n",
        "Example:\n",
        "count = 0\n",
        "     while count < 5:\n",
        "       print(count)\n",
        "       count += 1\n",
        "       Nested loops:\n",
        "\n",
        "You can have loops inside other loops (nested loops). This is useful for working with multi-dimensional data structures like matrices.\n",
        "Example:\n",
        "for i in range(3):\n",
        "      for j in range(2):\n",
        "          print(f\"({i}, {j})\")"
      ],
      "metadata": {
        "id": "7UE5ZtC1H3LZ"
      }
    },
    {
      "cell_type": "code",
      "source": [
        "fruits = [\"apple\", \"banana\", \"cherry\"]\n",
        "for fruit in fruits:\n",
        "    print(fruit)"
      ],
      "metadata": {
        "id": "hEvFq2cNGvAh",
        "colab": {
          "base_uri": "https://localhost:8080/"
        },
        "outputId": "766b5f53-b13b-45a4-cf1b-f9b39ca3d02a"
      },
      "execution_count": 13,
      "outputs": [
        {
          "output_type": "stream",
          "name": "stdout",
          "text": [
            "apple\n",
            "banana\n",
            "cherry\n"
          ]
        }
      ]
    },
    {
      "cell_type": "code",
      "source": [
        "count = 0\n",
        "while count < 5: #Removed extra indent\n",
        "  print(count)\n",
        "  count += 1"
      ],
      "metadata": {
        "id": "ULbzIjkyHwVn",
        "colab": {
          "base_uri": "https://localhost:8080/"
        },
        "outputId": "c2669dbe-0e92-4c10-d90b-4ba5aa3d950f"
      },
      "execution_count": 11,
      "outputs": [
        {
          "output_type": "stream",
          "name": "stdout",
          "text": [
            "0\n",
            "1\n",
            "2\n",
            "3\n",
            "4\n"
          ]
        }
      ]
    },
    {
      "cell_type": "code",
      "source": [
        "for i in range(3):\n",
        "      for j in range(2):\n",
        "          print(f\"({i}, {j})\")"
      ],
      "metadata": {
        "id": "hXyEpWLEJN_Z",
        "colab": {
          "base_uri": "https://localhost:8080/"
        },
        "outputId": "c681163a-8221-47e1-c486-c30d5fa980e2"
      },
      "execution_count": 9,
      "outputs": [
        {
          "output_type": "stream",
          "name": "stdout",
          "text": [
            "(0, 0)\n",
            "(0, 1)\n",
            "(1, 0)\n",
            "(1, 1)\n",
            "(2, 0)\n",
            "(2, 1)\n"
          ]
        }
      ]
    },
    {
      "cell_type": "code",
      "source": [],
      "metadata": {
        "id": "wZyyjd4DJRw2"
      },
      "execution_count": null,
      "outputs": []
    }
  ]
}