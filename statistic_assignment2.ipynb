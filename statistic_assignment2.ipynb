{
  "nbformat": 4,
  "nbformat_minor": 0,
  "metadata": {
    "colab": {
      "provenance": []
    },
    "kernelspec": {
      "name": "python3",
      "display_name": "Python 3"
    },
    "language_info": {
      "name": "python"
    }
  },
  "cells": [
    {
      "cell_type": "code",
      "execution_count": null,
      "metadata": {
        "id": "R5CcjCD99Azt"
      },
      "outputs": [],
      "source": []
    },
    {
      "cell_type": "markdown",
      "source": [
        "1. Generate a list of 100 integers containing values between 90 to 130 and store it in the variable `int_list`.\n",
        "After generating the list, find the following:\n",
        "\n",
        "  \n",
        "\n",
        "  (i) Write a Python function to calculate the mean of a given list of numbers.\n",
        "\n",
        "Create a function to find the median of a list of numbers.\n",
        "\n",
        "  \n",
        "\n",
        "  (ii) Develop a program to compute the mode of a list of integers.\n",
        "\n",
        "  \n",
        "\n",
        "  (iii) Implement a function to calculate the weighted mean of a list of values and their corresponding weights.\n",
        "\n",
        "  \n",
        "\n",
        "  (iv) Write a Python function to find the geometric mean of a list of positive numbers.\n",
        "\n",
        "  \n",
        "\n",
        "  (v) Create a program to calculate the harmonic mean of a list of values.\n",
        "\n",
        "  \n",
        "\n",
        "  (vi) Build a function to determine the midrange of a list of numbers (average of the minimum and maximum).\n",
        "\n",
        "  \n",
        "\n",
        "  (vii) Implement a Python program to find the trimmed mean of a list, excluding a certain percentage of\n",
        "outliers.\n",
        "\n",
        "\n",
        "ans:-1. Generate the list of integers:\n",
        "\n",
        "\n",
        "import random\n",
        "\n",
        "int_list = [random.randint(90, 130) for _ in range(100)]\n",
        "Use code with caution\n",
        "Reasoning:\n",
        "\n",
        "We import the random module to generate random numbers.\n",
        "We use a list comprehension for a concise way to create the list.\n",
        "random.randint(90, 130) generates a random integer between 90 and 130 (inclusive).\n",
        "for _ in range(100) repeats this process 100 times, creating a list of 100 integers.\n",
        "Now, let's create the functions for the calculations:\n",
        "\n",
        "(i) Mean and Median:\n",
        "\n",
        "\n",
        "def calculate_mean(numbers):\n",
        "    return sum(numbers) / len(numbers)\n",
        "\n",
        "def calculate_median(numbers):\n",
        "    numbers.sort()\n",
        "    n = len(numbers)\n",
        "    if n % 2 == 0:\n",
        "        # If even number of elements, average the middle two\n",
        "        mid1 = numbers[n // 2 - 1]\n",
        "        mid2 = numbers[n // 2]\n",
        "        median = (mid1 + mid2) / 2\n",
        "    else:\n",
        "        # If odd number of elements, take the middle one\n",
        "        median = numbers[n // 2]\n",
        "    return median\n",
        "Use code with caution\n",
        "Reasoning:\n",
        "\n",
        "calculate_mean: Sums all numbers in the list and divides by the total count.\n",
        "calculate_median: Sorts the list, then finds the middle element (or the average of the two middle elements for even-length lists).\n",
        "(ii) Mode:\n",
        "\n",
        "\n",
        "from collections import Counter\n",
        "\n",
        "def calculate_mode(numbers):\n",
        "    counts = Counter(numbers)\n",
        "    mode = counts.most_common(1)[0][0]  # Get the most frequent element\n",
        "    return mode\n",
        "Use code with caution\n",
        "Reasoning:\n",
        "\n",
        "Uses the Counter class from the collections module to count the frequency of each number.\n",
        "most_common(1) returns the most frequent element (and its count), and we extract the element itself.\n",
        "(iii) Weighted Mean:\n",
        "\n",
        "\n",
        "def calculate_weighted_mean(values, weights):\n",
        "    numerator = sum(value * weight for value, weight in zip(values, weights))\n",
        "    denominator = sum(weights)\n",
        "    return numerator / denominator\n",
        "Use code with caution\n",
        "Reasoning:\n",
        "\n",
        "Multiplies each value by its corresponding weight and sums the results (numerator).\n",
        "Sums all the weights (denominator).\n",
        "Divides the numerator by the denominator to get the weighted mean.\n",
        "(iv) Geometric Mean:\n",
        "\n",
        "\n",
        "import math\n",
        "\n",
        "def calculate_geometric_mean(numbers):\n",
        "    product = math.prod(numbers)  # Product of all numbers\n",
        "    return product ** (1 / len(numbers))  # nth root of the product\n",
        "Use code with caution\n",
        "Reasoning:\n",
        "\n",
        "Uses math.prod to calculate the product of all numbers in the list.\n",
        "Raises the product to the power of 1 divided by the number of elements (taking the nth root).\n",
        "(v) Harmonic Mean:\n",
        "\n",
        "\n",
        "def calculate_harmonic_mean(numbers):\n",
        "    reciprocals = [1 / number for number in numbers]\n",
        "    return len(numbers) / sum(reciprocals)\n",
        "Use code with caution\n",
        "Reasoning:\n",
        "\n",
        "Calculates the reciprocal of each number in the list.\n",
        "Divides the total number of elements by the sum of the reciprocals.\n",
        "(vi) Midrange:\n",
        "\n",
        "\n",
        "def calculate_midrange(numbers):\n",
        "    return (min(numbers) + max(numbers)) / 2\n",
        "Use code with caution\n",
        "Reasoning:\n",
        "\n",
        "Finds the minimum and maximum values in the list.\n",
        "Calculates their average.\n",
        "(vii) Trimmed Mean:\n",
        "\n",
        "\n",
        "def calculate_trimmed_mean(numbers, percentage):\n",
        "    n = len(numbers)\n",
        "    trim_count = int(n * (percentage / 100))  # Number of elements to trim\n",
        "    sorted_numbers = sorted(numbers)\n",
        "    trimmed_numbers = sorted_numbers[trim_count : n - trim_count]\n",
        "    return calculate_mean(trimmed_numbers)  # Use the mean function from before\n",
        "Use code with caution\n",
        "Reasoning:\n",
        "\n",
        "Calculates the number of elements to trim based on the percentage.\n",
        "Sorts the list.\n",
        "Removes the specified number of elements from both ends of the sorted list."
      ],
      "metadata": {
        "id": "p6FswvSO9Hak"
      }
    },
    {
      "cell_type": "code",
      "source": [
        "#1. Generate the list of integers:\n",
        "\n",
        "import random\n",
        "\n",
        "int_list = [random.randint(90, 130) for _ in range(100)]"
      ],
      "metadata": {
        "id": "QQ-SjyKv9gr1"
      },
      "execution_count": 2,
      "outputs": []
    },
    {
      "cell_type": "code",
      "source": [
        "#(i) Mean and Median:\n",
        "def calculate_mean(numbers):\n",
        "    return sum(numbers) / len(numbers)\n",
        "\n",
        "def calculate_median(numbers):\n",
        "    numbers.sort()\n",
        "    n = len(numbers)\n",
        "    if n % 2 == 0:\n",
        "        # If even number of elements, average the middle two\n",
        "        mid1 = numbers[n // 2 - 1]\n",
        "        mid2 = numbers[n // 2]\n",
        "        median = (mid1 + mid2) / 2\n",
        "    else:\n",
        "        # If odd number of elements, take the middle one\n",
        "        median = numbers[n // 2]\n",
        "    return median"
      ],
      "metadata": {
        "id": "YrarguYd9lqE"
      },
      "execution_count": 3,
      "outputs": []
    },
    {
      "cell_type": "code",
      "source": [
        "#mode\n",
        "from collections import Counter\n",
        "\n",
        "def calculate_mode(numbers):\n",
        "    counts = Counter(numbers)\n",
        "    mode = counts.most_common(1)[0][0]  # Get the most frequent element\n",
        "    return mode"
      ],
      "metadata": {
        "id": "SrFPfX1A9urs"
      },
      "execution_count": 4,
      "outputs": []
    },
    {
      "cell_type": "code",
      "source": [
        "#Weighted Mean:\n",
        "def calculate_weighted_mean(values, weights):\n",
        "    numerator = sum(value * weight for value, weight in zip(values, weights))\n",
        "    denominator = sum(weights)\n",
        "    return numerator / denominator"
      ],
      "metadata": {
        "id": "Cfx9WDz292fl"
      },
      "execution_count": 5,
      "outputs": []
    },
    {
      "cell_type": "code",
      "source": [
        "#Geometric Mean:\n",
        "import math\n",
        "\n",
        "def calculate_geometric_mean(numbers):\n",
        "    product = math.prod(numbers)  # Product of all numbers\n",
        "    return product ** (1 / len(numbers))  # nth root of the product\n"
      ],
      "metadata": {
        "id": "ibzeTvDE-CWv"
      },
      "execution_count": 6,
      "outputs": []
    },
    {
      "cell_type": "code",
      "source": [
        "#harmonic mean\n",
        "def calculate_harmonic_mean(numbers):\n",
        "    reciprocals = [1 / number for number in numbers]\n",
        "    return len(numbers) / sum(reciprocals)"
      ],
      "metadata": {
        "id": "eHxRNU05-KWg"
      },
      "execution_count": 7,
      "outputs": []
    },
    {
      "cell_type": "code",
      "source": [
        "#mid, range\n",
        "def calculate_midrange(numbers):\n",
        "    return (min(numbers) + max(numbers)) / 2"
      ],
      "metadata": {
        "id": "IZF5gMZ1-Ybx"
      },
      "execution_count": null,
      "outputs": []
    },
    {
      "cell_type": "code",
      "source": [
        "#trimmed mean\n",
        "def calculate_trimmed_mean(numbers, percentage):\n",
        "    n = len(numbers)\n",
        "    trim_count = int(n * (percentage / 100))  # Number of elements to trim\n",
        "    sorted_numbers = sorted(numbers)\n",
        "    trimmed_numbers = sorted_numbers[trim_count : n - trim_count]\n",
        "    return calculate_mean(trimmed_numbers)  # Use the mean function from before"
      ],
      "metadata": {
        "id": "izmwlb9c-jUF"
      },
      "execution_count": 8,
      "outputs": []
    },
    {
      "cell_type": "markdown",
      "source": [],
      "metadata": {
        "id": "N6MX2XYl-i46"
      }
    },
    {
      "cell_type": "markdown",
      "source": [
        " 2. Generate a list of 500 integers containing values between 200 to 300 and store it in the variable `int_list2`.\n",
        "After generating the list, find the following:\n",
        "\n",
        "\n",
        "  (i) Compare the given list of visualization for the given data:\n",
        "\n",
        "    \n",
        "\n",
        "    1. Frequency & Gaussian distribution\n",
        "\n",
        "    2. Frequency smoothened KDE plot\n",
        "\n",
        "    3. Gaussian distribution & smoothened KDE plot\n",
        "\n",
        "\n",
        "  (ii) Write a Python function to calculate the range of a given list of numbers.\n",
        "\n",
        "\n",
        "  (iii) Create a program to find the variance and standard deviation of a list of numbers.\n",
        "\n",
        "\n",
        "  (iv) Implement a function to compute the interquartile range (IQR) of a list of values.\n",
        "\n",
        "\n",
        "  (v) Build a program to calculate the coefficient of variation for a dataset.\n",
        "\n",
        "  \n",
        "\n",
        "  (vi) Write a Python function to find the mean absolute deviation (MAD) of a list of numbers.\n",
        "\n",
        "\n",
        "  (vii) Create a program to calculate the quartile deviation of a list of values.\n",
        "\n",
        "  \n",
        "\n",
        "  (viii) Implement a function to find the range-based coefficient of dispersion for a dataset\n",
        "\n",
        "ans:-Generate the list of integers:\n",
        "\n",
        "\n",
        "import random\n",
        "\n",
        "int_list2 = [random.randint(200, 300) for _ in range(500)]\n",
        "Use code with caution\n",
        "Reasoning:\n",
        "\n",
        "Similar to before, we import random and use a list comprehension to create the list.\n",
        "random.randint(200, 300) generates random integers between 200 and 300 (inclusive).\n",
        "(i) Visualizations:\n",
        "\n",
        "To compare the visualizations, you'll need to plot them using libraries like Matplotlib and Seaborn. Here's how you can do it:\n",
        "\n",
        "\n",
        "import matplotlib.pyplot as plt\n",
        "import seaborn as sns\n",
        "import numpy as np\n",
        "from scipy import stats\n",
        "\n",
        "# 1. Frequency & Gaussian Distribution:\n",
        "plt.hist(int_list2, bins=30, density=True, label=\"Frequency\")  # Frequency histogram\n",
        "xmin, xmax = plt.xlim()\n",
        "x = np.linspace(xmin, xmax, 100)\n",
        "p = stats.norm.pdf(x, np.mean(int_list2), np.std(int_list2))  # Gaussian PDF\n",
        "plt.plot(x, p, 'k', linewidth=2, label=\"Gaussian Distribution\")\n",
        "plt.legend()\n",
        "plt.title(\"Frequency & Gaussian Distribution\")\n",
        "plt.show()\n",
        "\n",
        "# 2. Frequency smoothened KDE plot:\n",
        "sns.histplot(int_list2, kde=True, stat=\"density\")  # KDE plot with Seaborn\n",
        "plt.title(\"Frequency smoothened KDE plot\")\n",
        "plt.show()\n",
        "\n",
        "# 3. Gaussian distribution & smoothened KDE plot:\n",
        "plt.plot(x, p, 'k', linewidth=2, label=\"Gaussian Distribution\")  # Gaussian PDF\n",
        "sns.kdeplot(int_list2, label=\"KDE\")  # KDE plot with Seaborn\n",
        "plt.legend()\n",
        "plt.title(\"Gaussian distribution & smoothened KDE plot\")\n",
        "plt.show()\n",
        "Use code with caution\n",
        "Reasoning:\n",
        "\n",
        "We use matplotlib.pyplot for basic plotting and seaborn for enhanced visualizations.\n",
        "Frequency & Gaussian Distribution: We plot a histogram to show the frequency of the data and overlay a Gaussian distribution curve using stats.norm.pdf.\n",
        "Frequency smoothened KDE plot: We use sns.histplot with kde=True to create a histogram with a Kernel Density Estimation (KDE) plot on top.\n",
        "Gaussian distribution & smoothened KDE plot: We combine the Gaussian curve from before with a KDE plot using sns.kdeplot.\n",
        "(ii) Range:\n",
        "\n",
        "\n",
        "def calculate_range(numbers):\n",
        "    return max(numbers) - min(numbers)\n",
        "Use code with caution\n",
        "Reasoning: The range is simply the difference between the largest and smallest values in the list.\n",
        "\n",
        "(iii) Variance and Standard Deviation:\n",
        "\n",
        "\n",
        "import statistics\n",
        "\n",
        "def calculate_variance_std(numbers):\n",
        "    variance = statistics.variance(numbers)\n",
        "    std_dev = statistics.stdev(numbers)\n",
        "    return variance, std_dev\n",
        "Use code with caution\n",
        "Reasoning:\n",
        "\n",
        "We use the statistics module for these calculations.\n",
        "statistics.variance calculates the variance.\n",
        "statistics.stdev calculates the standard deviation.\n",
        "(iv) Interquartile Range (IQR):\n",
        "\n",
        "\n",
        "import numpy as np\n",
        "\n",
        "def calculate_iqr(numbers):\n",
        "    q1 = np.percentile(numbers, 25)\n",
        "    q3 = np.percentile(numbers, 75)\n",
        "    iqr = q3 - q1\n",
        "    return iqr\n",
        "Use code with caution\n",
        "Reasoning:\n",
        "\n",
        "We use np.percentile from NumPy to find the 25th (Q1) and 75th (Q3) percentiles.\n",
        "The IQR is the difference between Q3 and Q1.\n",
        "(v) Coefficient of Variation:\n",
        "\n",
        "\n",
        "def calculate_coefficient_of_variation(numbers):\n",
        "    mean = calculate_mean(numbers)  # Using the mean function from before\n",
        "    std_dev = statistics.stdev(numbers)\n",
        "    return std_dev / mean\n",
        "Use code with caution\n",
        "Reasoning:\n",
        "\n",
        "The coefficient of variation is calculated by dividing the standard deviation by the mean.\n",
        "(vi) Mean Absolute Deviation (MAD):\n",
        "\n",
        "\n",
        "def calculate_mad(numbers):\n",
        "    mean = calculate_mean(numbers)\n",
        "    absolute_deviations = [abs(number - mean) for numbe"
      ],
      "metadata": {
        "id": "B5x_PPar-slk"
      }
    },
    {
      "cell_type": "code",
      "source": [
        "#visuakization\n",
        "import matplotlib.pyplot as plt\n",
        "import seaborn as sns\n",
        "import numpy as np\n",
        "from scipy import stats\n",
        "\n",
        "# Example data - replace with your actual data\n",
        "int_list2 = [1, 2, 3, 4, 5, 6, 7, 8, 9, 10] # This line is added to define int_list2\n",
        "\n",
        "# 1. Frequency & Gaussian Distribution:\n",
        "plt.hist(int_list2, bins=30, density=True, label=\"Frequency\")  # Frequency histogram\n",
        "xmin, xmax = plt.xlim()\n",
        "x = np.linspace(xmin, xmax, 100)\n",
        "p = stats.norm.pdf(x, np.mean(int_list2), np.std(int_list2))  # Gaussian PDF\n",
        "plt.plot(x, p, 'k', linewidth=2, label=\"Gaussian Distribution\")\n",
        "plt.legend()\n",
        "plt.title(\"Frequency & Gaussian Distribution\")\n",
        "plt.show()\n",
        "\n",
        "# 2. Frequency smoothened KDE plot:\n",
        "sns.histplot(int_list2, kde=True, stat=\"density\")  # KDE plot with Seaborn\n",
        "plt.title(\"Frequency smoothened KDE plot\")\n",
        "plt.show()\n",
        "\n",
        "# 3. Gaussian distribution & smoothened KDE plot:\n",
        "plt.plot(x, p, 'k', linewidth=2, label=\"Gaussian Distribution\")  # Gaussian PDF\n",
        "sns.kdeplot(int_list2, label=\"KDE\")  # KDE plot with Seaborn\n",
        "plt.legend()\n",
        "plt.title(\"Gaussian distribution & smoothened KDE plot\")\n",
        "plt.show()"
      ],
      "metadata": {
        "colab": {
          "base_uri": "https://localhost:8080/",
          "height": 1000
        },
        "id": "jkS41qH6AOK0",
        "outputId": "7ec4b602-8d0d-490c-82ec-8990c752c152"
      },
      "execution_count": 15,
      "outputs": [
        {
          "output_type": "display_data",
          "data": {
            "text/plain": [
              "<Figure size 640x480 with 1 Axes>"
            ],
            "image/png": "[encoded data removed]"
          },
          "metadata": {}
        },
        {
          "output_type": "display_data",
          "data": {
            "text/plain": [
              "<Figure size 640x480 with 1 Axes>"
            ],
            "image/png": "[encoded data removed]"
          },
          "metadata": {}
        },
        {
          "output_type": "display_data",
          "data": {
            "text/plain": [
              "<Figure size 640x480 with 1 Axes>"
            ],
            "image/png": "[encoded data removed]"
          },
          "metadata": {}
        }
      ]
    },
    {
      "cell_type": "code",
      "source": [
        "#range\n",
        "def calculate_(numbers):\n",
        "    return max(numbers) - min(numbers)"
      ],
      "metadata": {
        "id": "5hWu6Oer_MUq"
      },
      "execution_count": 18,
      "outputs": []
    },
    {
      "cell_type": "code",
      "source": [
        "import statistics\n",
        "\n",
        "def calculate_variance_std(numbers):\n",
        "    variance = statistics.variance(numbers)\n",
        "    standard_dev = statistics.stdev(numbers) # Corrected indentation\n",
        "    return variance, standard_dev"
      ],
      "metadata": {
        "id": "BcFahvwv_W2x"
      },
      "execution_count": 25,
      "outputs": []
    },
    {
      "cell_type": "code",
      "source": [
        "#interquartile range\n",
        "import numpy as np\n",
        "\n",
        "def calculate_iqr(numbers):\n",
        "    q1 = np.percentile(numbers, 25)\n",
        "    q3 = np.percentile(numbers, 75)\n",
        "    iqr = q3 - q1\n",
        "    return iqr"
      ],
      "metadata": {
        "id": "wW_PruHa_klT"
      },
      "execution_count": 21,
      "outputs": []
    },
    {
      "cell_type": "code",
      "source": [
        "#cofficinent of variance\n",
        "def calculate_coefficient_of_variation(numbers):\n",
        "    mean = calculate_mean(numbers)  # Using the mean function from before\n",
        "    std_dev = statistics.stdev(numbers)\n",
        "    return std_dev / mean"
      ],
      "metadata": {
        "id": "Sw1IlvOu_unF"
      },
      "execution_count": 13,
      "outputs": []
    },
    {
      "cell_type": "code",
      "source": [
        "#Mean Absolute Deviation (MAD):\n",
        "def calculate_mad(numbers):\n",
        "    mean = calculate_mean(numbers)\n",
        "    absolute_deviations = [abs(number - mean) for number in numbers]\n"
      ],
      "metadata": {
        "id": "7i7fYPf0_2Xu"
      },
      "execution_count": 20,
      "outputs": []
    },
    {
      "cell_type": "markdown",
      "source": [
        "3.  Write a Python class representing a discrete random variable with methods to calculate its expected\n",
        "value and variance.\n",
        "\n",
        "ans:-Import statistics: This line imports the necessary module for statistical calculations.\n",
        "Define calculate_variance_std: This defines a function that takes a list of numbers as input.\n",
        "Calculate variance: Inside the function, statistics.variance(numbers) is used to calculate the variance of the input numbers.\n",
        "Calculate standard deviation: Similarly, statistics.stdev(numbers) is used to calculate the standard deviation.\n",
        "Return results: The function returns both the calculated variance and standard deviation."
      ],
      "metadata": {
        "id": "bXW3xqtR__Hj"
      }
    },
    {
      "cell_type": "code",
      "source": [
        "import statistics  # Make sure to import the module\n",
        "\n",
        "numbers = [1, 2, 3, 4, 5]  # Example data\n",
        "variance, std_dev = calculate_variance_std(numbers)\n",
        "\n",
        "print(\"Variance:\", variance)\n",
        "print(\"Standard Deviation:\", std_dev)"
      ],
      "metadata": {
        "colab": {
          "base_uri": "https://localhost:8080/"
        },
        "id": "x5o7hq3oAzve",
        "outputId": "c3d19a07-851a-4c13-930c-44aa85654e05"
      },
      "execution_count": 27,
      "outputs": [
        {
          "output_type": "stream",
          "name": "stdout",
          "text": [
            "Variance: 2.5\n",
            "Standard Deviation: 1.5811388300841898\n"
          ]
        }
      ]
    },
    {
      "cell_type": "markdown",
      "source": [
        "4. Implement a program to simulate the rolling of a fair six-sided die and calculate the expected value and\n",
        "variance of the outcomes.\n",
        "\n",
        "ans:-"
      ],
      "metadata": {
        "id": "K3rRjYygBF6O"
      }
    },
    {
      "cell_type": "code",
      "source": [
        "import random\n",
        "\n",
        "def roll_die(num_trials):\n",
        "    \"\"\"Simulates rolling a fair six-sided die for a given number of trials.\n",
        "\n",
        "    Args:\n",
        "        num_trials (int): The number of times to roll the die.\n",
        "\n",
        "    Returns:\n",
        "        list: A list of outcomes from each roll.\n",
        "    \"\"\"\n",
        "    outcomes = []\n",
        "    for _ in range(num_trials):\n",
        "        outcomes.append(random.randint(1, 6))\n",
        "    return outcomes\n",
        "\n",
        "def calculate_expected_value(outcomes):\n",
        "    \"\"\"Calculates the expected value of a list of outcomes.\n",
        "\n",
        "    Args:\n",
        "        outcomes (list): A list of numerical outcomes.\n",
        "\n",
        "    Returns:\n",
        "        float: The expected value.\n",
        "    \"\"\"\n",
        "    return sum(outcomes) / len(outcomes)\n",
        "def calculate_variance(outcomes, expected_value):\n",
        "    \"\"\"Calculates the variance of a list\n",
        "    \"\"\""
      ],
      "metadata": {
        "id": "S3Py1H6IBEVQ"
      },
      "execution_count": 31,
      "outputs": []
    },
    {
      "cell_type": "markdown",
      "source": [
        "5. Create a Python function to generate random samples from a given probability distribution (e.g.,\n",
        "binomial, Poisson) and calculate their mean and variance.\n",
        "\n",
        "ans:-"
      ],
      "metadata": {
        "id": "6t75nzSxBUNk"
      }
    },
    {
      "cell_type": "code",
      "source": [
        "import numpy as np\n",
        "\n",
        "def generate_samples_and_stats(distribution, **kwargs):\n",
        "    \"\"\"Generates random samples from a specified distribution and calculates\n",
        "       their mean and variance.\n",
        "\n",
        "    Args:\n",
        "        distribution (str): The name of the probability distribution\n",
        "                           ('binomial' or 'poisson').\n",
        "        **kwargs: Keyword arguments specific to the distribution:\n",
        "            - For binomial: n (number of trials), p (probability of success)\n",
        "            - For poisson: lam (lambda, the average rate)\n",
        "\n",
        "    Returns:\n",
        "        tuple: A tuple containing the generated samples, mean, and variance.\n",
        "    \"\"\"\n",
        "\n",
        "    if distribution == 'binomial':\n",
        "        samples = np.random.binomial(n=kwargs['n'], p=kwargs['p'], size=kwargs.get('size', 1000))\n",
        "    elif distribution == 'poisson':\n",
        "        samples = np.random.poisson(lam=kwargs['lam'], size=kwargs.get('size',1000))"
      ],
      "metadata": {
        "id": "BOlmR_UyBPUy"
      },
      "execution_count": 33,
      "outputs": []
    },
    {
      "cell_type": "markdown",
      "source": [
        "\n",
        "6. Write a Python script to generate random numbers from a Gaussian (normal) distribution and compute\n",
        "the mean, variance, and standard deviation of the samples.\n",
        "\n",
        "> Add blockquote\n",
        "ans:-\n"
      ],
      "metadata": {
        "id": "5FjgGLXfBeKf"
      }
    },
    {
      "cell_type": "code",
      "source": [
        "import numpy as np\n",
        "\n",
        "def generate_gaussian_samples_and_stats(mu, sigma, num_samples=1000):\n",
        "    \"\"\"Generates random samples from a Gaussian distribution and calculates\n",
        "       their mean, variance, and standard deviation.\n",
        "\n",
        "    Args:\n",
        "        mu (float): The mean of the Gaussian distribution.\n",
        "        sigma (float): The standard deviation of the Gaussian distribution.\n",
        "        num_samples (int, optional): The number of samples to generate.\n",
        "                                     Defaults to 1000.\n",
        "\n",
        "    Returns:\n",
        "        tuple: A tuple containing the generated samples, mean, variance,\n",
        "               and standard deviation.\n",
        "    \"\"\"\n",
        "\n",
        "    samples = np.random.normal(loc=mu, scale=sigma, size=num_samples)\n",
        "    mean = np.mean(samples)\n",
        "    variance = np.var(samples)\n",
        "    std_dev = np.std(samples)\n",
        "\n",
        "    return samples, mean, variance, std_dev\n",
        "\n",
        "# Example usage:\n",
        "mu = 0  # Mean\n",
        "sigma = 1  # Standard deviation\n",
        "num_samples = 10000  # Number of samples\n",
        "\n",
        "samples, mean, variance, std_dev = generate_gaussian_samples_and_stats(\n",
        "    mu, sigma, num_samples\n",
        ")\n",
        "\n",
        "print(\"Samples:\", samples[:10])  # Print first 10 samples\n",
        "print(\"Mean:\", mean)\n",
        "print(\"Variance:\", variance)\n",
        "print(\"Standard Deviation:\", std_dev)"
      ],
      "metadata": {
        "colab": {
          "base_uri": "https://localhost:8080/"
        },
        "id": "8mBDKEYyBclr",
        "outputId": "2a8ffde7-2f1d-4e96-9ebc-72dabbeb82ec"
      },
      "execution_count": 34,
      "outputs": [
        {
          "output_type": "stream",
          "name": "stdout",
          "text": [
            "Samples: [ 1.19200748  1.70201176 -0.78473902  0.59474671  0.26489694 -1.01465546\n",
            " -0.03699692 -0.07546197  1.257813    1.34578774]\n",
            "Mean: 0.000723704915390989\n",
            "Variance: 1.0045709815432775\n",
            "Standard Deviation: 1.0022828849897008\n"
          ]
        }
      ]
    },
    {
      "cell_type": "markdown",
      "source": [
        "7. Use seaborn library to load tips dataset. Find the following from the dataset for the columns total_bill\n",
        "and tip`:\n",
        "\n",
        "  \n",
        "\n",
        "  (i) Write a Python function that calculates their skewness.\n",
        "\n",
        "\n",
        "  (ii) Create a program that determines whether the columns exhibit positive skewness, negative skewness, or is\n",
        "approximately symmetric.\n",
        "\n",
        "\n",
        "  (iii) Write a function that calculates the covariance between two columns.\n",
        "\n",
        "\n",
        "  (iv) Implement a Python program that calculates the Pearson correlation coefficient between two columns.\n",
        "\n",
        "\n",
        "  (v) Write a script to visualize the correlation between two specific columns in a Pandas DataFrame using\n",
        "scatter plots.\n",
        "\n",
        "\n",
        "ans:-"
      ],
      "metadata": {
        "id": "qB0zrbWpBv5M"
      }
    },
    {
      "cell_type": "code",
      "source": [
        "!pip install seaborn\n",
        "import seaborn as sns\n",
        "import pandas as pd\n",
        "import numpy as np\n",
        "import matplotlib.pyplot as plt\n",
        "from scipy.stats import skew\n",
        "\n",
        "# Load the 'tips' dataset\n",
        "tips = sns.load_dataset('tips')\n",
        "\n",
        "# (i) Function to calculate skewness\n",
        "def calculate_skewness(data):\n",
        "  \"\"\"Calculates the skewness of a dataset.\n",
        "\n",
        "  Args:\n",
        "    data: A Pandas Series or a NumPy array.\n",
        "\n",
        "  Returns:\n",
        "    The skewness of the data.\n",
        "  \"\"\"\n",
        "  return skew(data)\n",
        "\n",
        "# (ii) Program to determine skewness type\n",
        "def determine_skewness_type(data):\n",
        "  \"\"\"Determines the type of skewness of a dataset.\n",
        "\n",
        "  Args:\n",
        "    data: A Pandas Series or a NumPy array.\n",
        "\n",
        "  Returns:\n",
        "    A string indicating the type of skewness:\n",
        "    - \"Positive Skewness\" if skewness > 0.5\n",
        "    - \"Negative Skewness\" if skewness < -0.5\n",
        "    - \"Approximately Symmetric\" otherwise\n",
        "  \"\"\"\n",
        "  skewness = calculate_skewness(data)\n",
        "  if skewness > 0.5:\n",
        "    return \"Positive Skewness\"\n",
        "  elif skewness < -0.5:\n",
        "    return \"Negative Skewness\"\n",
        "  else:\n",
        "    return \"Approximately Symmetric\"\n",
        "\n",
        "# (iii) Function to calculate covariance\n",
        "def calculate_covariance(data1, data2):\n",
        "  \"\"\"Calculates the covariance between two datasets.\n",
        "\n",
        "  Args:\n",
        "    data1: A Pandas Series or a NumPy array.\n",
        "    data2: A Pandas Series or a NumPy array.\n",
        "\n",
        "  Returns:\n",
        "    The covariance between the two datasets.\n",
        "  \"\"\"\n",
        "  return np.cov(data1, data2, bias=True)[0][1]\n",
        "\n",
        "# (iv) Program to calculate Pearson correlation coefficient\n",
        "def calculate_correlation(data1, data2):\n",
        "  \"\"\"Calculates the Pearson correlation coefficient between two datasets.\n",
        "\n",
        "  Args:\n",
        "    data1: A Pandas Series or a NumPy array.\n",
        "    data2: A Pandas Series or a NumPy array.\n",
        "\n",
        "  Returns:\n",
        "    The Pearson correlation coefficient between the two datasets.\n",
        "  \"\"\"\n",
        "  return np.corrcoef(data1, data2)[0][1]\n",
        "\n",
        "# (v) Script to visualize correlation using scatter plots\n",
        "def visualize_correlation(data, col1, col2):\n",
        "  \"\"\"Visualizes the correlation between two columns using a scatter plot.\n",
        "\n",
        "  Args:\n",
        "    data: A Pandas DataFrame.\n",
        "    col1: The name of the first column.\n",
        "    col2: The name of the second column.\n",
        "  \"\"\"\n",
        "  plt.figure(figsize=(8, 6))\n",
        "  plt.scatter(data[col1], data[col2])\n",
        "  plt.title(f\"Correlation between {col1} and {col2}\")\n",
        "  plt.xlabel(col1)\n",
        "  plt.ylabel(col2)\n",
        "  plt.show()\n",
        "\n",
        "# Example usage for 'total_bill' and 'tip' columns\n",
        "total_bill_skewness = calculate_skewness(tips['total_bill'])\n",
        "total_bill_skewness_type = determine_skewness_type(tips['total_bill'])\n",
        "tip_skewness = calculate_skewness(tips['tip'])\n",
        "tip_skewness_type = determine_skewness_type(tips['tip'])\n",
        "\n",
        "covariance = calculate_covariance(tips['total_bill'], tips['tip'])\n",
        "correlation = calculate_correlation(tips['total_bill'], tips['tip'])\n",
        "\n",
        "print(f\"Skewness of total_bill: {total_bill_skewness}\")\n",
        "print(f\"Skewness type of total_bill: {total_bill_skewness_type}\")\n",
        "print(f\"Skewness of tip: {tip_skewness}\")\n",
        "print(f\"Skewness type of tip: {tip_skewness_type}\")\n",
        "print(f\"Covariance between total_bill and tip: {covariance}\")\n",
        "print(f\"Pearson correlation between total_bill and tip: {correlation}\")\n",
        "\n",
        "visualize_correlation(tips, 'total_bill', 'tip')"
      ],
      "metadata": {
        "colab": {
          "base_uri": "https://localhost:8080/",
          "height": 948
        },
        "id": "RbWGhFqRBudt",
        "outputId": "ff02a1e2-0b3e-4f4e-ab3e-ce91dd1f3f67"
      },
      "execution_count": 35,
      "outputs": [
        {
          "output_type": "stream",
          "name": "stdout",
          "text": [
            "Requirement already satisfied: seaborn in /usr/local/lib/python3.10/dist-packages (0.13.2)\n",
            "Requirement already satisfied: numpy!=1.24.0,>=1.20 in /usr/local/lib/python3.10/dist-packages (from seaborn) (1.26.4)\n",
            "Requirement already satisfied: pandas>=1.2 in /usr/local/lib/python3.10/dist-packages (from seaborn) (2.2.2)\n",
            "Requirement already satisfied: matplotlib!=3.6.1,>=3.4 in /usr/local/lib/python3.10/dist-packages (from seaborn) (3.8.0)\n",
            "Requirement already satisfied: contourpy>=1.0.1 in /usr/local/lib/python3.10/dist-packages (from matplotlib!=3.6.1,>=3.4->seaborn) (1.3.1)\n",
            "Requirement already satisfied: cycler>=0.10 in /usr/local/lib/python3.10/dist-packages (from matplotlib!=3.6.1,>=3.4->seaborn) (0.12.1)\n",
            "Requirement already satisfied: fonttools>=4.22.0 in /usr/local/lib/python3.10/dist-packages (from matplotlib!=3.6.1,>=3.4->seaborn) (4.55.0)\n",
            "Requirement already satisfied: kiwisolver>=1.0.1 in /usr/local/lib/python3.10/dist-packages (from matplotlib!=3.6.1,>=3.4->seaborn) (1.4.7)\n",
            "Requirement already satisfied: packaging>=20.0 in /usr/local/lib/python3.10/dist-packages (from matplotlib!=3.6.1,>=3.4->seaborn) (24.2)\n",
            "Requirement already satisfied: pillow>=6.2.0 in /usr/local/lib/python3.10/dist-packages (from matplotlib!=3.6.1,>=3.4->seaborn) (11.0.0)\n",
            "Requirement already satisfied: pyparsing>=2.3.1 in /usr/local/lib/python3.10/dist-packages (from matplotlib!=3.6.1,>=3.4->seaborn) (3.2.0)\n",
            "Requirement already satisfied: python-dateutil>=2.7 in /usr/local/lib/python3.10/dist-packages (from matplotlib!=3.6.1,>=3.4->seaborn) (2.8.2)\n",
            "Requirement already satisfied: pytz>=2020.1 in /usr/local/lib/python3.10/dist-packages (from pandas>=1.2->seaborn) (2024.2)\n",
            "Requirement already satisfied: tzdata>=2022.7 in /usr/local/lib/python3.10/dist-packages (from pandas>=1.2->seaborn) (2024.2)\n",
            "Requirement already satisfied: six>=1.5 in /usr/local/lib/python3.10/dist-packages (from python-dateutil>=2.7->matplotlib!=3.6.1,>=3.4->seaborn) (1.16.0)\n",
            "Skewness of total_bill: 1.1262346334818638\n",
            "Skewness type of total_bill: Positive Skewness\n",
            "Skewness of tip: 1.4564266884221506\n",
            "Skewness type of tip: Positive Skewness\n",
            "Covariance between total_bill and tip: 8.28938891762967\n",
            "Pearson correlation between total_bill and tip: 0.6757341092113641\n"
          ]
        },
        {
          "output_type": "display_data",
          "data": {
            "text/plain": [
              "<Figure size 800x600 with 1 Axes>"
            ],
            "image/png": "[encoded data removed]"
          },
          "metadata": {}
        }
      ]
    },
    {
      "cell_type": "markdown",
      "source": [
        "8. Write a Python function to calculate the probability density function (PDF) of a continuous random\n",
        "variable for a given normal distribution\n",
        "\n",
        "ans:-"
      ],
      "metadata": {
        "id": "rmLs1fY8CQHv"
      }
    },
    {
      "cell_type": "code",
      "source": [
        "import numpy as np\n",
        "\n",
        "def normal_pdf(x, mu, sigma):\n",
        "  \"\"\"Calculates the probability density function (PDF) of a normal distribution.\n",
        "\n",
        "  Args:\n",
        "    x: The value(s) at which to evaluate the PDF. Can be a single value or an array.\n",
        "    mu: The mean of the normal distribution.\n",
        "    sigma: The standard deviation of the normal distribution.\n",
        "\n",
        "  Returns:\n",
        "    The PDF value(s) corresponding to the input x.\n",
        "  \"\"\"\n",
        "  exponent = -((x - mu)**2) / (2 * (sigma**2))\n",
        "  pdf = (1 / (sigma * np.sqrt(2 * np.pi))) * np.exp(exponent)\n",
        "  return pdf # Added return statement and removed unexpected indent\n",
        "\n",
        "# Example usage:\n",
        "x_values = np.linspace(-5, 5, 100)  # Generate values from -5 to 5\n",
        "mu = 0  # Mean\n",
        "sigma = 1  # Standard deviation\n",
        "\n",
        "pdf_values = normal_pdf(x_values, mu, sigma)\n",
        "\n",
        "# You can now use pdf_values for further calculations or plotting."
      ],
      "metadata": {
        "id": "mdeDnEYmCacs"
      },
      "execution_count": 40,
      "outputs": []
    },
    {
      "cell_type": "markdown",
      "source": [
        "9. Create a program to calculate the cumulative distribution function (CDF) of exponential distribution.\n",
        "\n",
        "ans:-"
      ],
      "metadata": {
        "id": "xzKI6WFvCoLh"
      }
    },
    {
      "cell_type": "code",
      "source": [
        " import numpy as np\n",
        "\n",
        "def exponential_cdf(x, lambda_):\n",
        "  \"\"\"Calculates the cumulative distribution function (CDF) of the exponential distribution.\n",
        "\n",
        "  Args:\n",
        "    x: The value(s) at which to evaluate the CDF. Can be a single value or an array.\n",
        "    lambda_: The rate parameter of the exponential distribution.\n",
        "\n",
        "  Returns:\n",
        "    The CDF value(s) corresponding to the input x.\n",
        "  \"\"\"\n",
        "  cdf = 1 - np.exp(-lambda_ * x)\n",
        "  return cdf\n",
        "\n",
        "# Example usage:\n",
        "x_values = np.linspace(0, 5, 100)  # Generate values from 0 to 5\n",
        "lambda_ = 1  # Rate parameter\n",
        "\n",
        "cdf_values = exponential_cdf(x_values, lambda_)\n",
        "\n",
        "# You can now use cdf_values for further calculations or plotting."
      ],
      "metadata": {
        "id": "puDa-ZadCmk9"
      },
      "execution_count": 41,
      "outputs": []
    },
    {
      "cell_type": "markdown",
      "source": [
        "Õ10. Write a Python function to calculate the probability mass function (PMF) of Poisson distribution.\n",
        "\n",
        "\n",
        "ans:-"
      ],
      "metadata": {
        "id": "jEnptxa8CvY5"
      }
    },
    {
      "cell_type": "code",
      "source": [
        "import numpy as np\n",
        "\n",
        "def poisson_pmf(k, lambda_):\n",
        "  \"\"\"Calculates the probability mass function (PMF) of the Poisson distribution.\n",
        "\n",
        "  Args:\n",
        "    k: The number of events (non-negative integer).\n",
        "    lambda_: The average rate of events (positive real number).\n",
        "\n",
        "  Returns:\n",
        "    The PMF value for the given k and lambda_.\n",
        "  \"\"\"\n",
        "  pmf = (np.exp(-lambda_) * (lambda_**k)) / np.math.factorial(k)\n",
        "  return pmf\n",
        "\n",
        "# Example usage:\n",
        "k = 3  # Number of events\n",
        "lambda_ = 2  # Average rate of events\n",
        "\n",
        "pmf_value = poisson_pmf(k, lambda_)\n",
        "print(f\"PMF for k={k} and lambda_={lambda_}: {pmf_value}\")"
      ],
      "metadata": {
        "colab": {
          "base_uri": "https://localhost:8080/"
        },
        "id": "4IETnNSoDANx",
        "outputId": "af524265-5e0e-493f-f889-7f045cec8edd"
      },
      "execution_count": 42,
      "outputs": [
        {
          "output_type": "stream",
          "name": "stdout",
          "text": [
            "PMF for k=3 and lambda_=2: 0.1804470443154836\n"
          ]
        },
        {
          "output_type": "stream",
          "name": "stderr",
          "text": [
            "<ipython-input-42-2845675071f3>:13: DeprecationWarning: `np.math` is a deprecated alias for the standard library `math` module (Deprecated Numpy 1.25). Replace usages of `np.math` with `math`\n",
            "  pmf = (np.exp(-lambda_) * (lambda_**k)) / np.math.factorial(k)\n"
          ]
        }
      ]
    },
    {
      "cell_type": "markdown",
      "source": [
        "11. A company wants to test if a new website layout leads to a higher conversion rate (percentage of visitors\n",
        "who make a purchase). They collect data from the old and new layouts to compare.\n",
        "\n",
        "\n",
        "To generate the data use the following command:\n",
        "\n",
        "```python\n",
        "\n",
        "import numpy as np\n",
        "\n",
        "# 50 purchases out of 1000 visitors\n",
        "\n",
        "old_layout = np.array([1] * 50 + [0] * 950)\n",
        "\n",
        "# 70 purchases out of 1000 visitors  \n",
        "\n",
        "new_layout = np.array([1] * 70 + [0] * 930)\n",
        "\n",
        "  ```\n",
        "\n",
        "Apply z-test to find which layout is successful.\n",
        "\n",
        "ans:-"
      ],
      "metadata": {
        "id": "GPm1TQX8DCWf"
      }
    },
    {
      "cell_type": "code",
      "source": [
        "import numpy as np\n",
        "from statsmodels.stats.proportion import proportions_ztest\n",
        "\n",
        "# Data for old and new layouts\n",
        "old_layout = np.array([1] * 50 + [0] * 950)\n",
        "new_layout = np.array([1] * 70 + [0] * 930)\n",
        "\n",
        "# Calculate the number of successes (purchases) and total observations for each layout\n",
        "old_successes = np.sum(old_layout)\n",
        "new_successes = np.sum(new_layout)\n",
        "old_total = len(old_layout)\n",
        "new_total = len(new_layout)\n",
        "\n",
        "# Perform the z-test\n",
        "z_stat, p_value = proportions_ztest([old_successes, new_successes], [old_total, new_total], alternative='smaller')\n",
        "\n",
        "# Print the results\n",
        "print(f\"Z-statistic: {z_stat}\")\n",
        "print(f\"P-value: {p_value}\")\n",
        "\n",
        "# Interpret the results\n",
        "alpha = 0.05  # Significance level\n",
        "if p_value < alpha:\n",
        "  print(\"Reject the null hypothesis: The new layout has a significantly higher conversion rate.\")\n",
        "else:\n",
        "  print(\"Fail to reject the null hypothesis: There is no significant difference in conversion rates.\")"
      ],
      "metadata": {
        "colab": {
          "base_uri": "https://localhost:8080/"
        },
        "id": "W8vftofTDA8J",
        "outputId": "66972272-f250-4a40-94d3-6ac63995f47e"
      },
      "execution_count": 43,
      "outputs": [
        {
          "output_type": "stream",
          "name": "stdout",
          "text": [
            "Z-statistic: -1.883108942886774\n",
            "P-value: 0.029842802766213112\n",
            "Reject the null hypothesis: The new layout has a significantly higher conversion rate.\n"
          ]
        }
      ]
    },
    {
      "cell_type": "markdown",
      "source": [
        "12.A tutoring service claims that its program improves students' exam scores. A sample of students who\n",
        "participated in the program was taken, and their scores before and after the program were recorded.\n",
        "\n",
        "\n",
        "Use the below code to generate samples of respective arrays of marks:\n",
        "\n",
        "```python\n",
        "\n",
        "before_program = np.array([75, 80, 85, 70, 90, 78, 92, 88, 82, 87])\n",
        "\n",
        "after_program = np.array([80, 85, 90, 80, 92, 80, 95, 90, 85, 88])\n",
        "\n",
        "```\n",
        "\n",
        "Use z-test to find if the claims made by tutor are true or false.\n",
        "\n",
        "ans:-"
      ],
      "metadata": {
        "id": "7PwOZBXtDRVm"
      }
    },
    {
      "cell_type": "code",
      "source": [
        "import numpy as np\n",
        "from scipy import stats\n",
        "\n",
        "# Exam scores before and after the program\n",
        "before_program = np.array([75, 80, 85, 70, 90, 78, 92, 88, 82, 87])\n",
        "after_program = np.array([80, 85, 90, 80, 92, 80, 95, 90, 85, 88])\n",
        "\n",
        "# Calculate the differences between scores\n",
        "differences = after_program - before_program\n",
        "\n",
        "# Calculate the mean and standard deviation of the differences\n",
        "mean_diff = np.mean(differences)\n",
        "std_diff = np.std(differences, ddof=1)  # Use ddof=1 for sample standard deviation\n",
        "\n",
        "# Perform the paired z-test\n",
        "z_stat, p_value = stats.ttest_rel(before_program, after_program)\n",
        "\n",
        "# Print the results\n",
        "print(f\"Z-statistic: {z_stat}\")\n",
        "print(f\"P-value: {p_value}\")\n",
        "\n",
        "# Interpret the results\n",
        "alpha = 0.05  # Significance level\n",
        "if p_value < alpha:\n",
        "  print(\"Reject the null hypothesis: The tutoring program significantly improves exam scores.\")\n",
        "else:\n",
        "  print(\"Fail to reject the null hypothesis: There is no significant improvement in exam scores.\")"
      ],
      "metadata": {
        "colab": {
          "base_uri": "https://localhost:8080/"
        },
        "id": "mHnRvdC8DP4G",
        "outputId": "7f6cd683-4211-4971-e1d9-b14c46dfdfb5"
      },
      "execution_count": 44,
      "outputs": [
        {
          "output_type": "stream",
          "name": "stdout",
          "text": [
            "Z-statistic: -4.593190894944668\n",
            "P-value: 0.0013030932910086035\n",
            "Reject the null hypothesis: The tutoring program significantly improves exam scores.\n"
          ]
        }
      ]
    },
    {
      "cell_type": "markdown",
      "source": [
        "13. A pharmaceutical company wants to determine if a new drug is effective in reducing blood pressure. They\n",
        "conduct a study and record blood pressure measurements before and after administering the drug.\n",
        "\n",
        "\n",
        "Use the below code to generate samples of respective arrays of blood pressure:\n",
        "\n",
        "\n",
        "```python\n",
        "\n",
        "before_drug = np.array([145, 150, 140, 135, 155, 160, 152, 148, 130, 138])\n",
        "\n",
        "after_drug = np.array([130, 140, 132, 128, 145, 148, 138, 136, 125, 130])\n",
        "\n",
        "  ```\n",
        "\n",
        "\n",
        "Implement z-test to find if the drug really works or not.\n",
        "\n",
        "ans:-"
      ],
      "metadata": {
        "id": "N12SBt4bDjym"
      }
    },
    {
      "cell_type": "code",
      "source": [
        "import numpy as np\n",
        "from scipy import stats\n",
        "\n",
        "# Blood pressure measurements before and after the drug\n",
        "before_drug = np.array([145, 150, 140, 135, 155, 160, 152, 148, 130, 138])\n",
        "after_drug = np.array([130, 140, 132, 128, 145, 148, 138, 136, 125, 130])\n",
        "\n",
        "# Calculate the differences between measurements\n",
        "differences = before_drug - after_drug\n",
        "\n",
        "# Perform the paired t-test (more appropriate for smaller sample sizes)\n",
        "t_stat, p_value = stats.ttest_rel(before_drug, after_drug)\n",
        "\n",
        "# Print the results\n",
        "print(f\"T-statistic: {t_stat}\")\n",
        "print(f\"P-value: {p_value}\")\n",
        "\n",
        "# Interpret the results\n",
        "alpha = 0.05  # Significance level\n",
        "if p_value < alpha:\n",
        "    print(\"Reject the null hypothesis: The drug is effective in reducing blood pressure.\")\n",
        "else:\n",
        "    print(\"Fail to reject the null hypothesis: The drug is not effective in reducing blood pressure.\")"
      ],
      "metadata": {
        "colab": {
          "base_uri": "https://localhost:8080/"
        },
        "id": "Zju2uSa9D5O_",
        "outputId": "efb91a8d-7c05-4afa-8ba8-1074e0be58a0"
      },
      "execution_count": 49,
      "outputs": [
        {
          "output_type": "stream",
          "name": "stdout",
          "text": [
            "T-statistic: 10.04987562112089\n",
            "P-value: 3.433031432681152e-06\n",
            "Reject the null hypothesis: The drug is effective in reducing blood pressure.\n"
          ]
        }
      ]
    },
    {
      "cell_type": "markdown",
      "source": [
        "14. A customer service department claims that their average response time is less than 5 minutes. A sample\n",
        "of recent customer interactions was taken, and the response times were recorded.\n",
        "\n",
        "\n",
        "Implement the below code to generate the array of response time:\n",
        "\n",
        "```python\n",
        "\n",
        "response_times = np.array([4.3, 3.8, 5.1, 4.9, 4.7, 4.2, 5.2, 4.5, 4.6, 4.4])\n",
        "\n",
        "```\n",
        "\n",
        "Implement z-test to find the claims made by customer service department are tru or false.\n",
        "\n",
        "\n",
        "ans:-"
      ],
      "metadata": {
        "id": "1zHIL6nFEMOR"
      }
    },
    {
      "cell_type": "code",
      "source": [
        "import numpy as np\n",
        "from scipy import stats\n",
        "\n",
        "# Response times data\n",
        "response_times = np.array([4.3, 3.8, 5.1, 4.9, 4.7, 4.2, 5.2, 4.5, 4.6, 4.4])\n",
        "\n",
        "# Population mean (claimed average response time)\n",
        "population_mean = 5\n",
        "\n",
        "# Sample mean and standard deviation\n",
        "sample_mean = np.mean(response_times)\n",
        "sample_std = np.std(response_times, ddof=1)  # Use ddof=1 for sample standard deviation\n",
        "\n",
        "# Sample size\n",
        "n = len(response_times)\n",
        "\n",
        "# Calculate the z-statistic\n",
        "z_statistic = (sample_mean - population_mean) / (sample_std / np.sqrt(n))\n",
        "\n",
        "# Calculate the p-value (one-tailed test, since the claim is \"less than 5\")\n",
        "p_value = stats.norm.cdf(z_statistic)\n",
        "\n",
        "# Print the results\n",
        "print(f\"Z-statistic: {z_statistic}\")\n",
        "print(f\"P-value: {p_value}\")\n",
        "\n",
        "# Interpret the results\n",
        "alpha = 0.05  # Significance level\n",
        "if p_value < alpha:\n",
        "    print(\"Reject the null hypothesis: The average response time is less than 5 minutes.\")\n",
        "else:\n",
        "    print(\"Fail to reject the null hypothesis: There is not enough evidence to support the claim that the average response time is less than 5 minutes.\")"
      ],
      "metadata": {
        "colab": {
          "base_uri": "https://localhost:8080/"
        },
        "id": "F8UuMo-5ELCi",
        "outputId": "1f84db33-d962-493d-bab1-4126a30dc4cc"
      },
      "execution_count": 50,
      "outputs": [
        {
          "output_type": "stream",
          "name": "stdout",
          "text": [
            "Z-statistic: -3.184457226042963\n",
            "P-value: 0.0007251287113068958\n",
            "Reject the null hypothesis: The average response time is less than 5 minutes.\n"
          ]
        }
      ]
    },
    {
      "cell_type": "markdown",
      "source": [
        "15. A company is testing two different website layouts to see which one leads to higher click-through rates.\n",
        "Write a Python function to perform an A/B test analysis, including calculating the t-statistic, degrees of\n",
        "freedom, and p-value.\n",
        "\n",
        "\n",
        "Use the following data:\n",
        "\n",
        "```python\n",
        "\n",
        "layout_a_clicks = [28, 32, 33, 29, 31, 34, 30, 35, 36, 37]\n",
        "\n",
        "layout_b_clicks = [40, 41, 38, 42, 39, 44, 43, 41, 45, 47]\n",
        "\n",
        "ans:-"
      ],
      "metadata": {
        "id": "OitLvhFiEZ-J"
      }
    },
    {
      "cell_type": "code",
      "source": [
        "import numpy as np\n",
        "from scipy import stats\n",
        "\n",
        "def ab_test(layout_a_clicks, layout_b_clicks):\n",
        "  \"\"\"\n",
        "  Performs an A/B test analysis using a two-sample t-test.\n",
        "\n",
        "  Args:\n",
        "    layout_a_clicks: A list of click-through rates for layout A.\n",
        "    layout_b_clicks: A list of click-through rates for layout B.\n",
        "\n",
        "  Returns:\n",
        "    A tuple containing the t-statistic, degrees of freedom, and p-value.\n",
        "  \"\"\"\n",
        "  # Convert the lists to NumPy arrays\n",
        "  layout_a_clicks = np.array(layout_a_clicks)\n",
        "  layout_b_clicks = np.array(layout_b_clicks)\n",
        "\n",
        "  # Perform the two-sample t-test\n",
        "  t_statistic, p_value = stats.ttest_ind(layout_a_clicks, layout_b_clicks)\n",
        "\n",
        "  # Calculate degrees of freedom\n",
        "  degrees_of_freedom = len(layout_a_clicks) + len(layout_b_clicks) - 2\n",
        "\n",
        "  return t_statistic, degrees_of_freedom, p_value\n",
        "\n",
        "# Example usage with your data:\n",
        "layout_a_clicks = [28, 32, 33, 29, 31, 34, 30, 35, 36, 37]\n",
        "layout_b_clicks = [40, 41, 38, 42, 39, 44, 43, 41, 45, 47]\n",
        "\n",
        "t_statistic, degrees_of_freedom, p_value = ab_test(layout_a_clicks, layout_b_clicks)\n",
        "\n",
        "print(f\"T-statistic: {t_statistic}\")\n",
        "print(f\"Degrees of Freedom: {degrees_of_freedom}\")\n",
        "print(f\"P-value: {p_value}\")\n",
        "\n",
        "# Interpretation:\n",
        "alpha = 0.05  # Significance level\n",
        "if p_value < alpha:\n",
        "  print(\"Reject the null hypothesis: There is a significant difference in click-through rates between the two layouts.\")\n",
        "else:\n",
        "  print(\"Fail to reject the null hypothesis: There is no significant difference in click-through rates between the two layouts.\")"
      ],
      "metadata": {
        "colab": {
          "base_uri": "https://localhost:8080/"
        },
        "id": "GnxjUDUsEYV0",
        "outputId": "fa3ed538-a6c9-44bf-e750-2e2b62421125"
      },
      "execution_count": 51,
      "outputs": [
        {
          "output_type": "stream",
          "name": "stdout",
          "text": [
            "T-statistic: -7.298102156175071\n",
            "Degrees of Freedom: 18\n",
            "P-value: 8.833437608301987e-07\n",
            "Reject the null hypothesis: There is a significant difference in click-through rates between the two layouts.\n"
          ]
        }
      ]
    },
    {
      "cell_type": "markdown",
      "source": [
        "16. A pharmaceutical company wants to determine if a new drug is more effective than an existing drug in\n",
        "reducing cholesterol levels. Create a program to analyze the clinical trial data and calculate the tstatistic and p-value for the treatment effect.\n",
        "\n",
        "\n",
        "Use the following data of cholestrol level:\n",
        "\n",
        "```python\n",
        "\n",
        "existing_drug_levels = [180, 182, 175, 185, 178, 176, 172, 184, 179, 183]\n",
        "\n",
        "new_drug_levels = [170, 172, 165, 168, 175, 173, 170, 178, 172, 176]\n",
        "\n",
        "\n",
        "ans:-"
      ],
      "metadata": {
        "id": "e4716zH3EoGC"
      }
    },
    {
      "cell_type": "code",
      "source": [
        "import numpy as np\n",
        "from scipy import stats\n",
        "\n",
        "def compare_drugs(existing_drug_levels, new_drug_levels):\n",
        "  \"\"\"\n",
        "  Analyzes clinical trial data to compare the effectiveness of two drugs in reducing cholesterol levels.\n",
        "\n",
        "  Args:\n",
        "    existing_drug_levels: A list of cholesterol levels for patients using the existing drug.\n",
        "    new_drug_levels: A list of cholesterol levels for patients using the new drug.\n",
        "\n",
        "  Returns:\n",
        "    A tuple containing the t-statistic and p-value.\n",
        "  \"\"\"\n",
        "  # Convert the lists to NumPy arrays\n",
        "  existing_drug_levels = np.array(existing_drug_levels)\n",
        "  new_drug_levels = np.array(new_drug_levels)\n",
        "\n",
        "  # Perform the two-sample t-test (assuming unequal variances)\n",
        "  t_statistic, p_value = stats.ttest_ind(existing_drug_levels, new_drug_levels, equal_var=False, alternative='greater')\n",
        "  # alternative='greater' for testing if new drug is more effective (lower cholesterol)\n",
        "\n",
        "  return t_statistic, p_value\n",
        "\n",
        "# Clinical trial data\n",
        "existing_drug_levels = [180, 182, 175, 185, 178, 176, 172, 184, 179, 183]\n",
        "new_drug_levels = [170, 172, 165, 168, 175, 173, 170, 178, 172, 176]\n",
        "\n",
        "# Analyze the data\n",
        "t_statistic, p_value = compare_drugs(existing_drug_levels, new_drug_levels)\n",
        "\n",
        "# Print the results\n",
        "print(f\"T-statistic: {t_statistic}\")\n",
        "print(f\"P-value: {p_value}\")\n",
        "\n",
        "# Interpretation\n",
        "alpha = 0.05  # Significance level\n",
        "if p_value < alpha:\n",
        "  print(\"Reject the null hypothesis: The new drug is more effective in reducing cholesterol levels.\")\n",
        "else:\n",
        "  print(\"Fail to reject the null hypothesis: There is no significant evidence that the new drug is more effective.\")"
      ],
      "metadata": {
        "colab": {
          "base_uri": "https://localhost:8080/"
        },
        "id": "5PVcvc6hEmhe",
        "outputId": "36481634-7310-4390-9cd9-065b58d24037"
      },
      "execution_count": 52,
      "outputs": [
        {
          "output_type": "stream",
          "name": "stdout",
          "text": [
            "T-statistic: 4.140480986208659\n",
            "P-value: 0.00031146144727346644\n",
            "Reject the null hypothesis: The new drug is more effective in reducing cholesterol levels.\n"
          ]
        }
      ]
    },
    {
      "cell_type": "markdown",
      "source": [
        "17.U A school district introduces an educational intervention program to improve math scores. Write a Python\n",
        "function to analyze pre- and post-intervention test scores, calculating the t-statistic and p-value to\n",
        "determine if the intervention had a significant impact.\n",
        "\n",
        "\n",
        "Use the following data of test score:\n",
        "\n",
        "\n",
        "  ```python\n",
        "\n",
        "  pre_intervention_scores = [80, 85, 90, 75, 88, 82, 92, 78, 85, 87]\n",
        "\n",
        "  post_intervention_scores = [90, 92, 88, 92, 95, 91, 96, 93, 89, 93]\n",
        "\n",
        "  ans:-"
      ],
      "metadata": {
        "id": "SereTmANE2wD"
      }
    },
    {
      "cell_type": "code",
      "source": [
        "import numpy as np\n",
        "from scipy import stats\n",
        "\n",
        "def analyze_intervention_effect(pre_intervention_scores, post_intervention_scores):\n",
        "  \"\"\"\n",
        "  Analyzes pre- and post-intervention test scores to determine the intervention's impact.\n",
        "\n",
        "  Args:\n",
        "    pre_intervention_scores: A list of test scores before the intervention.\n",
        "    post_intervention_scores: A list of test scores after the intervention.\n",
        "\n",
        "  Returns:\n",
        "    A tuple containing the t-statistic and p-value.\n",
        "  \"\"\"\n",
        "  # Convert the lists to NumPy arrays\n",
        "  pre_intervention_scores = np.array(pre_intervention_scores)\n",
        "  post_intervention_scores = np.array(post_intervention_scores)\n",
        "\n",
        "  # Perform the paired t-test\n",
        "  t_statistic, p_value = stats.ttest_rel(pre_intervention_scores, post_intervention_scores)\n",
        "\n",
        "  return t_statistic, p_value\n",
        "\n",
        "# Test scores data\n",
        "pre_intervention_scores = [80, 85, 90, 75, 88, 82, 92, 78, 85, 87]\n",
        "post_intervention_scores = [90, 92, 88, 92, 95, 91, 96, 93, 89, 93]\n",
        "\n",
        "# Analyze the data\n",
        "t_statistic, p_value = analyze_intervention_effect(pre_intervention_scores, post_intervention_scores)\n",
        "\n",
        "# Print the results\n",
        "print(f\"T-statistic: {t_statistic}\")\n",
        "print(f\"P-value: {p_value}\")\n",
        "\n",
        "# Interpretation\n",
        "alpha = 0.05  # Significance level\n",
        "if p_value < alpha:\n",
        "  print(\"Reject the null hypothesis: The intervention had a significant impact on math scores.\")\n",
        "else:\n",
        "  print(\"Fail to reject the null hypothesis: There is no significant evidence that the intervention had an impact.\")\n"
      ],
      "metadata": {
        "colab": {
          "base_uri": "https://localhost:8080/"
        },
        "id": "zutorV4UE1yX",
        "outputId": "559294dc-8ae1-4ed9-c216-b138813d8c27"
      },
      "execution_count": 53,
      "outputs": [
        {
          "output_type": "stream",
          "name": "stdout",
          "text": [
            "T-statistic: -4.42840883965761\n",
            "P-value: 0.0016509548165795493\n",
            "Reject the null hypothesis: The intervention had a significant impact on math scores.\n"
          ]
        }
      ]
    },
    {
      "cell_type": "markdown",
      "source": [
        "18. An HR department wants to investigate if there's a gender-based salary gap within the company. Develop\n",
        "a program to analyze salary data, calculate the t-statistic, and determine if there's a statistically\n",
        "significant difference between the average salaries of male and female employees.\n",
        "\n",
        "\n",
        "Use the below code to generate synthetic data:\n",
        "\n",
        "\n",
        "```python\n",
        "\n",
        "# Generate synthetic salary data for male and female employees\n",
        "\n",
        "np.random.seed(0)  # For reproducibility\n",
        "\n",
        "male_salaries = np.random.normal(loc=50000, scale=10000, size=20)\n",
        "\n",
        "female_salaries = np.random.normal(loc=55000, scale=9000, size=20)\n",
        "\n",
        "ans:-"
      ],
      "metadata": {
        "id": "AKdsq5zKFIEX"
      }
    },
    {
      "cell_type": "code",
      "source": [
        "import numpy as np\n",
        "from scipy import stats\n",
        "\n",
        "def analyze_salary_gap(male_salaries, female_salaries):\n",
        "  \"\"\"\n",
        "  Analyzes salary data to determine if there's a gender-based salary gap.\n",
        "\n",
        "  Args:\n",
        "    male_salaries: A list or array of salaries for male employees.\n",
        "    female_salaries: A list or array of salaries for female employees.\n",
        "\n",
        "  Returns:\n",
        "    A tuple containing the t-statistic and p-value.\n",
        "  \"\"\"\n",
        "\n",
        "  # Perform the two-sample t-test (assuming unequal variances)\n",
        "  t_statistic, p_value = stats.ttest_ind(male_salaries, female_salaries, equal_var=False)\n",
        "\n",
        "  return t_statistic, p_value\n",
        "\n",
        "# Generate synthetic salary data (as provided)\n",
        "np.random.seed(0)\n",
        "male_salaries = np.random.normal(loc=50000, scale=10000, size=20)\n",
        "female_salaries = np.random.normal(loc=55000, scale=9000, size=20)\n",
        "\n",
        "# Analyze the data\n",
        "t_statistic, p_value = analyze_salary_gap(male_salaries, female_salaries)\n",
        "\n",
        "# Print the results\n",
        "print(f\"T-statistic: {t_statistic}\")\n",
        "print(f\"P-value: {p_value}\")\n",
        "\n",
        "# Interpretation\n",
        "alpha = 0.05  # Significance level\n",
        "if p_value < alpha:\n",
        "  print(\"Reject the null hypothesis: There is a statistically significant difference in average salaries between male and female employees.\")\n",
        "else:\n",
        "  print(\"Fail to reject the null hypothesis: There is no statistically significant difference in average salaries.\")"
      ],
      "metadata": {
        "colab": {
          "base_uri": "https://localhost:8080/"
        },
        "id": "q10R8RTSFGDy",
        "outputId": "fc9f5cc6-fdc6-4d21-9614-c46148efb683"
      },
      "execution_count": 54,
      "outputs": [
        {
          "output_type": "stream",
          "name": "stdout",
          "text": [
            "T-statistic: 0.061142089696313844\n",
            "P-value: 0.9515826849267927\n",
            "Fail to reject the null hypothesis: There is no statistically significant difference in average salaries.\n"
          ]
        }
      ]
    },
    {
      "cell_type": "markdown",
      "source": [
        "19. A manufacturer produces two different versions of a product and wants to compare their quality scores.\n",
        "Create a Python function to analyze quality assessment data, calculate the t-statistic, and decide\n",
        "whether there's a significant difference in quality between the two versions.\n",
        "\n",
        "\n",
        "Use the following data:\n",
        "\n",
        "\n",
        "```python\n",
        "\n",
        "version1_scores = [85, 88, 82, 89, 87, 84, 90, 88, 85, 86, 91, 83, 87, 84, 89, 86, 84, 88, 85, 86, 89, 90, 87, 88, 85]\n",
        "\n",
        "version2_scores = [80, 78, 83, 81, 79, 82, 76, 80, 78, 81, 77, 82, 80, 79, 82, 79, 80, 81, 79, 82, 79, 78, 80, 81, 82]\n",
        "\n",
        "ans:-"
      ],
      "metadata": {
        "id": "7jCQTpYKFdOW"
      }
    },
    {
      "cell_type": "code",
      "source": [
        "import numpy as np\n",
        "from scipy import stats\n",
        "\n",
        "def compare_product_versions(version1_scores, version2_scores):\n",
        "  \"\"\"\n",
        "  Analyzes quality assessment data to compare two product versions.\n",
        "\n",
        "  Args:\n",
        "    version1_scores: A list of quality scores for version 1.\n",
        "    version2_scores: A list of quality scores for version 2.\n",
        "\n",
        "  Returns:\n",
        "    A tuple containing the t-statistic and p-value.\n",
        "  \"\"\"\n",
        "  # Convert the lists to NumPy arrays\n",
        "  version1_scores = np.array(version1_scores)\n",
        "  version2_scores = np.array(version2_scores)\n",
        "\n",
        "  # Perform the two-sample t-test (assuming unequal variances)\n",
        "  t_statistic, p_value = stats.ttest_ind(version1_scores, version2_scores, equal_var=False)\n",
        "\n",
        "  return t_statistic, p_value\n",
        "\n",
        "# Quality assessment data\n",
        "version1_scores = [85, 88, 82, 89, 87, 84, 90, 88, 85, 86, 91, 83, 87, 84, 89, 86, 84, 88, 85, 86, 89, 90, 87, 88, 85]\n",
        "version2_scores = [80, 78, 83, 81, 79, 82, 76, 80, 78, 81, 77, 82, 80, 79, 82, 79, 80, 81, 79, 82, 79, 78, 80, 81, 82]\n",
        "\n",
        "# Analyze the data\n",
        "t_statistic, p_value = compare_product_versions(version1_scores, version2_scores)\n",
        "\n",
        "# Print the results\n",
        "print(f\"T-statistic: {t_statistic}\")\n",
        "print(f\"P-value: {p_value}\")\n",
        "\n",
        "# Interpretation\n",
        "alpha = 0.05  # Significance level\n",
        "if p_value < alpha:\n",
        "  print(\"Reject the null hypothesis: There is a significant difference in quality between the two versions.\")\n",
        "else:\n",
        "  print(\"Fail to reject the null hypothesis: There is no significant difference in quality between the two versions.\")"
      ],
      "metadata": {
        "colab": {
          "base_uri": "https://localhost:8080/"
        },
        "id": "zPDfyTxoFbFV",
        "outputId": "4fc44a24-081c-4ee7-8792-ae3c31d78c01"
      },
      "execution_count": 55,
      "outputs": [
        {
          "output_type": "stream",
          "name": "stdout",
          "text": [
            "T-statistic: 11.325830417646698\n",
            "P-value: 1.078754084378157e-14\n",
            "Reject the null hypothesis: There is a significant difference in quality between the two versions.\n"
          ]
        }
      ]
    },
    {
      "cell_type": "markdown",
      "source": [
        "20. A restaurant chain collects customer satisfaction scores for two different branches. Write a program to\n",
        "analyze the scores, calculate the t-statistic, and determine if there's a statistically significant difference in\n",
        "customer satisfaction between the branches.\n",
        "\n",
        "\n",
        "Use the below data of scores:\n",
        "\n",
        "  ```python\n",
        "\n",
        "branch_a_scores = [4, 5, 3, 4, 5, 4, 5, 3, 4, 4, 5, 4, 4, 3, 4, 5, 5, 4, 3, 4, 5, 4, 3, 5, 4, 4, 5, 3, 4, 5, 4]\n",
        "\n",
        "branch_b_scores = [3, 4, 2, 3, 4, 3, 4, 2, 3, 3, 4, 3, 3, 2, 3, 4, 4, 3, 2, 3, 4, 3, 2, 4, 3, 3, 4, 2, 3, 4, 3]\n",
        "\n",
        "ans:-"
      ],
      "metadata": {
        "id": "fDkAGy9KFvji"
      }
    },
    {
      "cell_type": "code",
      "source": [
        "import numpy as np\n",
        "from scipy import stats\n",
        "\n",
        "def compare_customer_satisfaction(branch_a_scores, branch_b_scores):\n",
        "  \"\"\"\n",
        "  Analyzes customer satisfaction scores to compare two restaurant branches.\n",
        "\n",
        "  Args:\n",
        "    branch_a_scores: A list of satisfaction scores for branch A.\n",
        "    branch_b_scores: A list of satisfaction scores for branch B.\n",
        "\n",
        "  Returns:\n",
        "    A tuple containing the t-statistic and p-value.\n",
        "  \"\"\"\n",
        "  # Convert the lists to NumPy arrays\n",
        "  branch_a_scores = np.array(branch_a_scores)\n",
        "  branch_b_scores = np.array(branch_b_scores)\n",
        "\n",
        "  # Perform the two-sample t-test (assuming unequal variances)\n",
        "  t_statistic, p_value = stats.ttest_ind(branch_a_scores, branch_b_scores, equal_var=False)\n",
        "\n",
        "  return t_statistic, p_value\n",
        "\n",
        "# Customer satisfaction scores\n",
        "branch_a_scores = [4, 5, 3, 4, 5, 4, 5, 3, 4, 4, 5, 4, 4, 3, 4, 5, 5, 4, 3, 4, 5, 4, 3, 5, 4, 4, 5, 3, 4, 5, 4]\n",
        "branch_b_scores = [3, 4, 2, 3, 4, 3, 4, 2, 3, 3, 4, 3, 3, 2, 3, 4, 4, 3, 2, 3, 4, 3, 2, 4, 3, 3, 4, 2, 3, 4, 3]\n",
        "\n",
        "# Analyze the data\n",
        "t_statistic, p_value = compare_customer_satisfaction(branch_a_scores, branch_b_scores)\n",
        "\n",
        "# Print the results\n",
        "print(f\"T-statistic: {t_statistic}\")\n",
        "print(f\"P-value: {p_value}\")\n",
        "\n",
        "# Interpretation\n",
        "alpha = 0.05  # Significance level\n",
        "if p_value < alpha:\n",
        "  print(\"Reject the null hypothesis: There is a statistically significant difference in customer satisfaction between the branches.\")\n",
        "else:\n",
        "  print(\"Fail to reject the null hypothesis: There is no statistically significant difference in customer satisfaction.\")"
      ],
      "metadata": {
        "colab": {
          "base_uri": "https://localhost:8080/"
        },
        "id": "McpOv1XbFuTH",
        "outputId": "36a83856-32e9-4c35-95c3-2416da166df5"
      },
      "execution_count": 56,
      "outputs": [
        {
          "output_type": "stream",
          "name": "stdout",
          "text": [
            "T-statistic: 5.480077554195743\n",
            "P-value: 8.895290509945655e-07\n",
            "Reject the null hypothesis: There is a statistically significant difference in customer satisfaction between the branches.\n"
          ]
        }
      ]
    },
    {
      "cell_type": "markdown",
      "source": [
        "\n",
        "21. A political analyst wants to determine if there is a significant association between age groups and voter\n",
        "preferences (Candidate A or Candidate B). They collect data from a sample of 500 voters and classify\n",
        "them into different age groups and candidate preferences. Perform a Chi-Square test to determine if\n",
        "there is a significant association between age groups and voter preferences.\n",
        "\n",
        "\n",
        "Use the below code to generate data:\n",
        "\n",
        "```python\n",
        "\n",
        "np.random.seed(0)\n",
        "\n",
        "age_groups = np.random.choice([ 18 30 , 31 50 , 51+', 51+'], size=30)\n",
        "\n",
        "voter_preferences = np.random.choice(['Candidate A', 'Candidate B'], size=30)\n",
        "\n",
        "\n",
        "ans:-"
      ],
      "metadata": {
        "id": "-YKbImN7F-QL"
      }
    },
    {
      "cell_type": "code",
      "source": [
        "import numpy as np\n",
        "from scipy import stats\n",
        "\n",
        "# Generate data (modified to have consistent age group labels)\n",
        "np.random.seed(0)\n",
        "age_groups = np.random.choice(['18-30', '31-50', '51+'], size=30)\n",
        "voter_preferences = np.random.choice(['Candidate A', 'Candidate B'], size=30)\n",
        "\n",
        "# Create a contingency table\n",
        "observed_frequencies = pd.crosstab(age_groups, voter_preferences)\n",
        "\n",
        "# Perform the Chi-Square test\n",
        "chi2_statistic, p_value, dof, expected_frequencies = stats.chi2_contingency(observed_frequencies)\n",
        "\n",
        "# Print the results\n",
        "print(\"Observed Frequencies:\")\n",
        "print(observed_frequencies)\n",
        "print(\"\\nExpected Frequencies:\")\n",
        "print(expected_frequencies)\n",
        "print(\"\\nChi-Square Statistic:\", chi2_statistic)\n",
        "print(\"P-value:\", p_value)\n",
        "print(\"Degrees of Freedom:\", dof)\n",
        "\n",
        "# Interpretation\n",
        "alpha = 0.05  # Significance level\n",
        "if p_value < alpha:\n",
        "  print(\"\\nReject the null hypothesis: There is a significant association between age groups and voter preferences.\")\n",
        "else:\n",
        "  print(\"\\nFail to reject the null hypothesis: There is no significant association between age groups and voter preferences.\")"
      ],
      "metadata": {
        "colab": {
          "base_uri": "https://localhost:8080/"
        },
        "id": "TburbX1sF8ax",
        "outputId": "72d510bf-fdbc-4a3c-9137-2892fc7ba011"
      },
      "execution_count": 57,
      "outputs": [
        {
          "output_type": "stream",
          "name": "stdout",
          "text": [
            "Observed Frequencies:\n",
            "col_0  Candidate A  Candidate B\n",
            "row_0                          \n",
            "18-30            4            8\n",
            "31-50            6            5\n",
            "51+              4            3\n",
            "\n",
            "Expected Frequencies:\n",
            "[[5.6        6.4       ]\n",
            " [5.13333333 5.86666667]\n",
            " [3.26666667 3.73333333]]\n",
            "\n",
            "Chi-Square Statistic: 1.4401669758812612\n",
            "P-value: 0.48671161971286614\n",
            "Degrees of Freedom: 2\n",
            "\n",
            "Fail to reject the null hypothesis: There is no significant association between age groups and voter preferences.\n"
          ]
        }
      ]
    },
    {
      "cell_type": "markdown",
      "source": [
        " 22. A company conducted a customer satisfaction survey to determine if there is a significant relationship\n",
        "between product satisfaction levels (Satisfied, Neutral, Dissatisfied) and the region where customers are\n",
        "located (East, West, North, South). The survey data is summarized in a contingency table. Conduct a ChiSquare test to determine if there is a significant relationship between product satisfaction levels and\n",
        "customer regions.\n",
        "\n",
        "\n",
        "Sample data:\n",
        "\n",
        "```python\n",
        "\n",
        "#Sample data: Product satisfaction levels (rows) vs. Customer regions (columns)\n",
        "\n",
        "data = np.array([[50, 30, 40, 20], [30, 40, 30, 50], [20, 30, 40, 30]])\n",
        "\n",
        "\n",
        "ans:-"
      ],
      "metadata": {
        "id": "8z4rfY6BGO_j"
      }
    },
    {
      "cell_type": "code",
      "source": [
        "import numpy as np\n",
        "from scipy import stats\n",
        "\n",
        "# Contingency table data\n",
        "data = np.array([[50, 30, 40, 20], [30, 40, 30, 50], [20, 30, 40, 30]])\n",
        "\n",
        "# Perform the Chi-Square test\n",
        "chi2_statistic, p_value, dof, expected_frequencies = stats.chi2_contingency(data)\n",
        "\n",
        "# Print the results\n",
        "print(\"Observed Frequencies:\")\n",
        "print(data)\n",
        "print(\"\\nExpected Frequencies:\")\n",
        "print(expected_frequencies)\n",
        "print(\"\\nChi-Square Statistic:\", chi2_statistic)\n",
        "print(\"P-value:\", p_value)\n",
        "print(\"Degrees of Freedom:\", dof)\n",
        "\n",
        "# Interpretation\n",
        "alpha = 0.05  # Significance level\n",
        "if p_value < alpha:\n",
        "  print(\"\\nReject the null hypothesis: There is a significant relationship between product satisfaction levels and customer regions.\")\n",
        "else:\n",
        "  print(\"\\nFail to reject the null hypothesis: There is no significant relationship between product satisfaction levels and customer regions.\")"
      ],
      "metadata": {
        "colab": {
          "base_uri": "https://localhost:8080/"
        },
        "id": "bY0MUsslGJRq",
        "outputId": "163f14d8-1e16-48b0-bcc2-a752b6853370"
      },
      "execution_count": 58,
      "outputs": [
        {
          "output_type": "stream",
          "name": "stdout",
          "text": [
            "Observed Frequencies:\n",
            "[[50 30 40 20]\n",
            " [30 40 30 50]\n",
            " [20 30 40 30]]\n",
            "\n",
            "Expected Frequencies:\n",
            "[[34.14634146 34.14634146 37.56097561 34.14634146]\n",
            " [36.58536585 36.58536585 40.24390244 36.58536585]\n",
            " [29.26829268 29.26829268 32.19512195 29.26829268]]\n",
            "\n",
            "Chi-Square Statistic: 27.777056277056275\n",
            "P-value: 0.00010349448486004387\n",
            "Degrees of Freedom: 6\n",
            "\n",
            "Reject the null hypothesis: There is a significant relationship between product satisfaction levels and customer regions.\n"
          ]
        }
      ]
    },
    {
      "cell_type": "markdown",
      "source": [
        " 23. A company implemented an employee training program to improve job performance (Effective, Neutral,\n",
        "Ineffective). After the training, they collected data from a sample of employees and classified them based\n",
        "on their job performance before and after the training. Perform a Chi-Square test to determine if there is a\n",
        "significant difference between job performance levels before and after the training.\n",
        "\n",
        "\n",
        "Sample data:\n",
        "\n",
        "```python\n",
        "\n",
        "# Sample data: Job performance levels before (rows) and after (columns) training\n",
        "\n",
        "data = np.array([[50, 30, 20], [30, 40, 30], [20, 30, 40]])\n",
        "\n",
        "ans:-"
      ],
      "metadata": {
        "id": "zTYz_Xp8GcsR"
      }
    },
    {
      "cell_type": "code",
      "source": [
        "import numpy as np\n",
        "from scipy import stats\n",
        "\n",
        "# Contingency table data\n",
        "data = np.array([[50, 30, 20], [30, 40, 30], [20, 30, 40]])\n",
        "\n",
        "# Perform the Chi-Square test\n",
        "chi2_statistic, p_value, dof, expected_frequencies = stats.chi2_contingency(data)\n",
        "\n",
        "# Print the results\n",
        "print(\"Observed Frequencies:\")\n",
        "print(data)\n",
        "print(\"\\nExpected Frequencies:\")\n",
        "print(expected_frequencies)\n",
        "print(\"\\nChi-Square Statistic:\", chi2_statistic)\n",
        "print(\"P-value:\", p_value)\n",
        "print(\"Degrees of Freedom:\", dof)\n",
        "\n",
        "# Interpretation\n",
        "alpha = 0.05  # Significance level\n",
        "if p_value < alpha:\n",
        "  print(\"\\nReject the null hypothesis: There is a significant difference in job performance levels before and after the training.\")\n",
        "else:\n",
        "  print(\"\\nFail to reject the null hypothesis: There is no significant difference in job performance levels before and after the training.\")"
      ],
      "metadata": {
        "colab": {
          "base_uri": "https://localhost:8080/"
        },
        "id": "p3YfArr9GbS3",
        "outputId": "dcc2a615-d186-4626-f0e6-dc47e963c225"
      },
      "execution_count": 59,
      "outputs": [
        {
          "output_type": "stream",
          "name": "stdout",
          "text": [
            "Observed Frequencies:\n",
            "[[50 30 20]\n",
            " [30 40 30]\n",
            " [20 30 40]]\n",
            "\n",
            "Expected Frequencies:\n",
            "[[34.48275862 34.48275862 31.03448276]\n",
            " [34.48275862 34.48275862 31.03448276]\n",
            " [31.03448276 31.03448276 27.93103448]]\n",
            "\n",
            "Chi-Square Statistic: 22.161728395061726\n",
            "P-value: 0.00018609719479882557\n",
            "Degrees of Freedom: 4\n",
            "\n",
            "Reject the null hypothesis: There is a significant difference in job performance levels before and after the training.\n"
          ]
        }
      ]
    },
    {
      "cell_type": "markdown",
      "source": [
        " 24. A company produces three different versions of a product: Standard, Premium, and Deluxe. The\n",
        "company wants to determine if there is a significant difference in customer satisfaction scores among the\n",
        "three product versions. They conducted a survey and collected customer satisfaction scores for each\n",
        "version from a random sample of customers. Perform an ANOVA test to determine if there is a significant\n",
        "difference in customer satisfaction scores.\n",
        "\n",
        "\n",
        "  Use the following data:\n",
        "\n",
        "  ```python\n",
        "\n",
        "  # Sample data: Customer satisfaction scores for each product version\n",
        "\n",
        "  standard_scores = [80, 85, 90, 78, 88, 82, 92, 78, 85, 87]\n",
        "\n",
        "  premium_scores = [90, 92, 88, 92, 95, 91, 96, 93, 89, 93]\n",
        "\n",
        "  deluxe_scores = [95, 98, 92, 97, 96, 94, 98, 97, 92, 99]\n",
        "\n",
        "\n",
        "ans:-"
      ],
      "metadata": {
        "id": "NAj7YzxbGov2"
      }
    },
    {
      "cell_type": "code",
      "source": [
        "import numpy as np\n",
        "from scipy import stats\n",
        "\n",
        "# Customer satisfaction scores for each product version\n",
        "standard_scores = [80, 85, 90, 78, 88, 82, 92, 78, 85, 87]\n",
        "premium_scores = [90, 92, 88, 92, 95, 91, 96, 93, 89, 93]\n",
        "deluxe_scores = [95, 98, 92, 97, 96, 94, 98, 97, 92, 99]\n",
        "\n",
        "# Perform the ANOVA test\n",
        "f_statistic, p_value = stats.f_oneway(standard_scores, premium_scores, deluxe_scores)\n",
        "\n",
        "# Print the results\n",
        "print(\"F-statistic:\", f_statistic)\n",
        "print(\"P-value:\", p_value)\n",
        "\n",
        "# Interpretation\n",
        "alpha = 0.05  # Significance level\n",
        "if p_value < alpha:\n",
        "  print(\"\\nReject the null hypothesis: There is a significant difference in customer satisfaction scores among the three product versions.\")\n",
        "else:\n",
        "  print(\"\\nFail to reject the null hypothesis: There is no significant difference in customer satisfaction scores among the three product versions.\")"
      ],
      "metadata": {
        "colab": {
          "base_uri": "https://localhost:8080/"
        },
        "id": "sGo2XgK7Gnjn",
        "outputId": "d3a99403-afd7-4de0-e06d-1fd0ed803ef2"
      },
      "execution_count": 60,
      "outputs": [
        {
          "output_type": "stream",
          "name": "stdout",
          "text": [
            "F-statistic: 27.03556231003039\n",
            "P-value: 3.5786328857349003e-07\n",
            "\n",
            "Reject the null hypothesis: There is a significant difference in customer satisfaction scores among the three product versions.\n"
          ]
        }
      ]
    },
    {
      "cell_type": "code",
      "source": [],
      "metadata": {
        "id": "_4qijnGDGyp4"
      },
      "execution_count": null,
      "outputs": []
    }
  ]
}