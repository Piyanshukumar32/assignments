{
  "nbformat": 4,
  "nbformat_minor": 0,
  "metadata": {
    "colab": {
      "provenance": []
    },
    "kernelspec": {
      "name": "python3",
      "display_name": "Python 3"
    },
    "language_info": {
      "name": "python"
    }
  },
  "cells": [
    {
      "cell_type": "code",
      "execution_count": null,
      "metadata": {
        "id": "Ri7GyrSlIwyu"
      },
      "outputs": [],
      "source": []
    },
    {
      "cell_type": "markdown",
      "source": [
        "1.what is the difference between a function and a method in python.\n",
        "\n",
        "ans:-Function:\n",
        "\n",
        "A block of reusable code that performs a specific task.\n",
        "Defined using the def keyword.\n",
        "Called independently.\n",
        "\n",
        "Method:\n",
        "\n",
        "A function associated with an object (class instance).\n",
        "Called using the dot operator on the object.\n",
        "Can access and modify the object's data.\n",
        "\n",
        "Key Differences:\n",
        "\n",
        "Association: Functions are independent, while methods are associated with objects.\n",
        "Calling: Functions are called directly, while methods are called on objects.\n",
        "Data Access: Methods can access and modify the object's data, while functions typically operate on their input arguments.\n",
        "Terminology: In Python, functions within a class are often called methods.\n",
        "\n",
        "example\n",
        "class Dog:\n",
        "    def __init__(self, name):\n",
        "        self.name = name\n",
        "\n",
        "    def bark(self):\n",
        "        print(f\"{self.name} says Woof!\")\n",
        "\n",
        "my_dog = Dog(\"Buddy\")\n",
        "my_dog.bark()"
      ],
      "metadata": {
        "id": "Wivf8ybUI3l7"
      }
    },
    {
      "cell_type": "markdown",
      "source": [
        "2.explain the concepect of the function arguments and parametresin python.\n",
        "\n",
        "ans:-Parameters:\n",
        "\n",
        "Parameters are the variables listed within the parentheses of a function definition.\n",
        "They act as placeholders for values that will be passed to the function when it's called.\n",
        "For example, in the function definition def greet(name, age):, name and age are parameters.\n",
        "Arguments:\n",
        "\n",
        "Arguments are the actual values that are provided to a function when it's called.\n",
        "They are assigned to the corresponding parameters in the function definition.\n",
        "For example, in the function call greet(\"Alice\", 30), \"Alice\" and 30 are arguments.\n",
        "Types of Arguments:\n",
        "\n",
        "Positional Arguments: These arguments are matched to parameters based on their position or order. The first argument is assigned to the first parameter, the second to the second, and so on.\n",
        "\n",
        "Keyword Arguments: These arguments are explicitly named when calling the function, allowing you to specify which parameter each value should be assigned to. This makes the order of arguments irrelevant.\n",
        "\n",
        "Default Arguments: Parameters can have default values specified in the function definition. If a value for that parameter isn't provided during the function call, the default value is used.\n",
        "\n",
        "example\n",
        "def greet(name, age=18):  # age has a default value\n",
        "    print(f\"Hello, {name}! You are {age} years old.\")\n",
        "\n",
        "greet(\"Bob\")           # Uses default age (18)\n",
        "greet(\"Eve\", age=25)  # Keyword argument overrides default age\n",
        "greet(\"Charlie\", 22) # Positional argument for age"
      ],
      "metadata": {
        "id": "9GnYVSJWJZg5"
      }
    },
    {
      "cell_type": "markdown",
      "source": [
        "3.what are the different ways to define and call a function in python.\n",
        "\n",
        "ans:-Defining a Function:\n",
        "\n",
        "Using the def keyword: This is the standard way to define a function. You provide the function name, parameters (if any), and the function body enclosed in an indented block.\n",
        "example\n",
        "def greet(name):\n",
        "       print(f\"Hello, {name}!\")\n",
        "\n",
        "       Lambda Functions: Also known as anonymous functions, lambdas are concise ways to define simple functions without a formal name. They use the lambda keyword.\n",
        "        add = lambda x, y: x + y\n",
        "   result = add(5, 3)\n",
        "   Calling a Function:\n",
        "\n",
        "Direct Call: Simply use the function name followed by parentheses containing any required arguments.\n",
        "\n",
        "greet(\"Alice\")\n",
        "Use code with caution\n",
        "Calling through a Variable: If a function is assigned to a variable, you can call it using the variable name.\n",
        "\n",
        "my_function = greet\n",
        "   my_function(\"Bob\")\n",
        "Use code with caution\n",
        "Using exec(): This function executes a string containing Python code, which can include a function call.\n",
        "\n",
        "exec(\"greet('Charlie')\")\n",
        "Use code with caution\n",
        "As Methods: Functions defined within a class are called methods and are invoked using the dot operator on an object of the class.\n",
        "\n",
        "class Dog:\n",
        "      def bark(self):\n",
        "          print(\"Woof!\")\n",
        "\n",
        "  my_dog = Dog()\n",
        "  my_dog.bark()\n",
        "Use code with caution\n",
        "Important Considerations:\n",
        "\n",
        "Functions need to be defined before they are called.\n",
        "Argument types and order matter for positional arguments.\n",
        "Keyword arguments make the order flexible and improve readability.\n",
        "Default arguments provide fallback values if no arguments are passed.\n",
        "I hope this provides a comprehensive overview of defining and calling functions in Python."
      ],
      "metadata": {
        "id": "0ahI8VyZJzuQ"
      }
    },
    {
      "cell_type": "markdown",
      "source": [
        "4.what is the purpose of the return statement in a python function.\n",
        "\n",
        "ans:-The return statement serves two primary purposes in a Python function:\n",
        "\n",
        "Terminating Function Execution: When a return statement is encountered within a function, the function's execution immediately stops. Control is returned back to the part of the code that called the function.\n",
        "\n",
        "Returning a Value: The return statement is often used to send a value or result back to the caller of the function. This value can be used for further computations or operations in the main program.\n",
        "\n",
        "Example:\n",
        "\n",
        "\n",
        "def add(x, y):\n",
        "    sum = x + y\n",
        "    return sum\n",
        "\n",
        "result = add(5, 3)\n",
        "print(result)  # Output: 8\n",
        "Use code with caution\n",
        "In this example:\n",
        "\n",
        "The add function takes two numbers (x and y) as input.\n",
        "It calculates their sum and assigns it to the variable sum.\n",
        "The return sum statement sends the value of sum (which is 8) back to the place where the function was called.\n",
        "The result is then assigned to the variable result and printed.\n",
        "Key Points:\n",
        "\n",
        "If a function does not have a return statement, it implicitly returns None.\n",
        "A function can have multiple return statements, but only one will be executed during a single function call.\n",
        "The returned value can be of any data type, including numbers, strings, lists, dictionaries, or even other functions.\n",
        "In essence:\n",
        "\n",
        "The return statement provides a mechanism for a function to produce a result and for the caller to receive and utilize that result. This is fundamental for building modular and reusable code in Python. I hope this clarifies the purpose of the return statement!"
      ],
      "metadata": {
        "id": "FLHOhWFvKZYx"
      }
    },
    {
      "cell_type": "markdown",
      "source": [
        "5.what are iterator in python and how do they differ from iterables.\n",
        "\n",
        "ans:-Iterables:\n",
        "\n",
        "An iterable is any Python object that can be looped over using a for loop.\n",
        "It has a method called __iter__() that returns an iterator.\n",
        "Examples: lists, tuples, strings, dictionaries, sets, files.\n",
        "Iterators:\n",
        "\n",
        "An iterator is an object that represents a stream of data.\n",
        "It has a method called __next__() that returns the next item in the stream.\n",
        "When there are no more items, it raises a StopIteration exception.\n",
        "You can get an iterator from an iterable using the iter() function.\n",
        "Key Differences:\n",
        "\n",
        "Feature\tIterable\tIterator\n",
        "Definition\tAn object that can be looped over.\tAn object that represents a stream of data.\n",
        "Method\t__iter__() returns an iterator.\t__next__() returns the next item.\n",
        "Looping\tCan be directly used in a for loop.\tNeeds to be manually advanced using next().\n",
        "State\tDoes not maintain state.\tMaintains state (remembers current position).\n",
        "Example:\n",
        "\n",
        "\n",
        "my_list = [1, 2, 3]\n",
        "\n",
        "# Get an iterator from the list\n",
        "my_iterator = iter(my_list)\n",
        "\n",
        "# Iterate using next()\n",
        "print(next(my_iterator))  # Output: 1\n",
        "print(next(my_iterator))  # Output: 2\n",
        "print(next(my_iterator))  # Output: 3\n",
        "#print(next(my_iterator))  # Raises StopIteration\n",
        "Use code with caution\n",
        "In essence:\n",
        "\n",
        "An iterable is like a book with multiple pages.\n",
        "An iterator is like a bookmark that keeps track of your current page and allows you to flip to the next one.\n",
        "Iterators provide a way to access elements of an iterable one at a time, without\n",
        "\n",
        "loading the entire iterable into memory, which can be more efficient for large datasets."
      ],
      "metadata": {
        "id": "HdsLzoONKm_D"
      }
    },
    {
      "cell_type": "markdown",
      "source": [
        "6.explain the concept of generetors  in python and hoe they are defined.\n",
        "\n",
        "ans:-Okay, let's discuss generators in Python:\n",
        "\n",
        "Concept:\n",
        "\n",
        "Generators are a special type of iterator that are defined using functions.\n",
        "They allow you to create iterators in a more concise and memory-efficient way.\n",
        "Instead of storing all the values in memory at once, generators produce values on demand as you iterate over them.\n",
        "This is achieved using the yield keyword.\n",
        "Definition:\n",
        "\n",
        "A generator function is defined like a regular function, but instead of using return to return a value, it uses yield to yield a value.\n",
        "When a generator function is called, it doesn't execute the function body immediately. Instead, it returns a generator object.\n",
        "When you iterate over the generator object using a for loop or next(), the function body is executed up to the next yield statement.\n",
        "The yielded value is returned, and the function's state is saved.\n",
        "On the next iteration, execution resumes from where it left off, continuing until another yield or the end of the function is reached.\n",
        "Example:\n",
        "\n",
        "\n",
        "def my_generator(n):\n",
        "    for i in range(n):\n",
        "        yield i * 2\n",
        "\n",
        "gen = my_generator(3)\n",
        "for value in gen:\n",
        "    print(value)  # Output: 0, 2, 4\n",
        "Use code with caution\n",
        "Benefits:\n",
        "\n",
        "Memory Efficiency: Generators avoid storing all values in memory, making them suitable for large datasets.\n",
        "Lazy Evaluation: Values are generated only when needed, improving performance.\n",
        "Readability: Generator functions can be more concise and easier to understand than equivalent iterator classes.\n",
        "In essence:\n",
        "\n",
        "Generators provide a convenient way to create iterators that generate values on the fly, offering benefits in terms of memory usage, performance, and code clarity."
      ],
      "metadata": {
        "id": "NJO9b0JkK1tk"
      }
    },
    {
      "cell_type": "markdown",
      "source": [
        "7.what are the advantages of uusing generators over regular function.\n",
        "\n",
        "ans:-1. Memory Efficiency:\n",
        "\n",
        "Generators: Produce values one at a time, saving memory, especially for large datasets.\n",
        "Regular Functions: Store all results in memory before returning, potentially consuming significant memory.\n",
        "2. Lazy Evaluation:\n",
        "\n",
        "Generators: Values are generated only when needed during iteration.\n",
        "Regular Functions: Calculate and store all results upfront, regardless of whether they are all used.\n",
        "3. Improved Performance:\n",
        "\n",
        "Generators: Lazy evaluation can lead to faster execution, especially if not all generated values are consumed.\n",
        "Regular Functions: May incur overhead from calculating and storing unused results.\n",
        "4. Infinite Sequences:\n",
        "\n",
        "Generators: Can represent infinite sequences, as values are generated on demand.\n",
        "Regular Functions: Cannot handle infinite sequences directly, as they would require infinite memory.\n",
        "5. Pipelining:\n",
        "\n",
        "Generators: Can be chained together to create pipelines of data processing, improving efficiency.\n",
        "Regular Functions: Require intermediate storage for results between function calls.\n",
        "Example:\n",
        "\n",
        "\n",
        "# Regular function\n",
        "def squares(n):\n",
        "    results = []\n",
        "    for i in range(n):\n",
        "        results.append(i * i)\n",
        "    return results\n",
        "\n",
        "# Generator function\n",
        "def squares_gen(n):\n",
        "    for i in range(n):\n",
        "        yield i * i\n",
        "Use code with caution\n",
        "In this example, squares_gen is more memory-efficient and potentially faster if you only need to access a few squares.\n",
        "\n",
        "In essence:\n",
        "\n",
        "Generators provide a more memory-efficient, performance-optimized, and flexible approach to working with sequences of data compared to regular functions. They are particularly advantageous when dealing with large datasets, infinite sequences, or data processing pipelines."
      ],
      "metadata": {
        "id": "aZJX3GQqLIk_"
      }
    },
    {
      "cell_type": "markdown",
      "source": [
        "8.what is the lambda function in python and when is it typically used.\n",
        "\n",
        "ans:-Concept:\n",
        "\n",
        "Lambda functions are small, anonymous (unnamed) functions defined using the lambda keyword.\n",
        "They are typically used for short, simple operations that don't require a full function definition.\n",
        "They can have any number of arguments but only one expression, which is evaluated and returned.\n",
        "Syntax:\n",
        "\n",
        "\n",
        "lambda arguments: expression\n",
        "Use code with caution\n",
        "Example:\n",
        "\n",
        "\n",
        "add = lambda x, y: x + y\n",
        "result = add(5, 3)  # result will be 8\n",
        "Use code with caution\n",
        "Typical Use Cases:\n",
        "\n",
        "Short, One-time Operations: When you need a simple function for a specific task without defining a separate named function.\n",
        "\n",
        "Higher-Order Functions: As arguments to functions like map, filter, and sorted, where a function is needed to process elements of a sequence.\n",
        "\n",
        "Callbacks: As event handlers or callbacks in GUI programming or other event-driven systems.\n",
        "\n",
        "Creating Closures: To encapsulate data and behavior in a concise way.\n",
        "\n",
        "Advantages:\n",
        "\n",
        "Conciseness: Lambda functions can be more compact than traditional functions.\n",
        "Readability: Can improve code readability when used for simple operations within larger expressions.\n",
        "Flexibility: Can be defined and used inline, making them convenient for short tasks.\n",
        "Limitations:\n",
        "\n",
        "Single Expression: Limited to a single expression, making them unsuitable for complex logic.\n",
        "No Statements: Cannot contain statements like loops or conditional statements.\n",
        "Readability: Can become less readable if used for overly complex operations.\n",
        "In essence:\n",
        "\n",
        "Lambda functions provide a concise way to define small, anonymous functions, often used for simple operations or as arguments to higher-order functions. They are a powerful tool when used appropriately but should be avoided for complex logic to maintain code clarity."
      ],
      "metadata": {
        "id": "V9RY9XF3LXCB"
      }
    },
    {
      "cell_type": "markdown",
      "source": [
        "9.explain the purpose and  uses of the map() function in python.\n",
        "\n",
        "ans:-map(function, iterable, ...)\n",
        "Use code with caution\n",
        "function: The function to be applied to each item.\n",
        "iterable: The iterable containing the items to be processed.\n",
        "...: Optional, additional iterables if the function takes multiple arguments.\n",
        "Uses:\n",
        "\n",
        "Transforming Data: Applying a function to modify each element of a sequence. For example, converting a list of numbers to their squares:\n",
        "\n",
        "numbers = [1, 2, 3, 4]\n",
        "   squares = map(lambda x: x * x, numbers)  # squares is an iterator\n",
        "   print(list(squares))  # Output: [1, 4, 9, 16]\n",
        "Use code with caution\n",
        "Applying Functions with Multiple Arguments: Using map() with a function that takes multiple arguments, by providing corresponding iterables:\n",
        "\n",
        "numbers1 = [1, 2, 3]\n",
        "   numbers2 = [4, 5, 6]\n",
        "   sums = map(lambda x, y: x + y, numbers1, numbers2)\n",
        "   print(list(sums))  # Output: [5, 7, 9]\n",
        "Use code with caution\n",
        "Data Cleaning and Preprocessing: Applying functions to clean or transform data in a dataset, such as converting strings to lowercase or removing unwanted characters.\n",
        "\n",
        "Working with Functional Programming Paradigms: map() is a fundamental tool in functional programming, promoting concise and expressive code.\n",
        "\n",
        "Advantages:\n",
        "\n",
        "Conciseness: Provides a compact way to apply a function to a sequence.\n",
        "Efficiency: Lazy evaluation avoids unnecessary computations until results are needed.\n",
        "Readability: Can improve code readability when used for simple transformations.\n",
        "In essence:\n",
        "\n",
        "The map() function is a versatile tool for applying functions to iterables, facilitating data transformation, cleaning, and other operations in a concise and efficient manner."
      ],
      "metadata": {
        "id": "dnIWCfwQLlFW"
      }
    },
    {
      "cell_type": "markdown",
      "source": [
        "10.what is the difference between map() reduce () and filter()  functions in python.\n",
        "\n",
        "ans:-map()\n",
        "\n",
        "Purpose: Applies a function to each item of an iterable and returns an iterator with the results.\n",
        "Transformation: Focuses on transforming elements of a sequence.\n",
        "Output: Returns an iterator of the same length as the input iterable.\n",
        "Example: map(lambda x: x * 2, [1, 2, 3]) (doubles each element)\n",
        "reduce()\n",
        "\n",
        "Purpose: Applies a function cumulatively to the items of an iterable, reducing it to a single value.\n",
        "Aggregation: Focuses on combining elements into a single result.\n",
        "Output: Returns a single value.\n",
        "Example: reduce(lambda x, y: x + y, [1, 2, 3]) (sums all elements)\n",
        "Note: You need to import reduce from functools to use it: from functools import reduce\n",
        "\n",
        "filter()\n",
        "\n",
        "Purpose: Filters elements of an iterable based on a condition specified by a function.\n",
        "Selection: Focuses on selecting specific elements based on a criteria.\n",
        "Output: Returns an iterator with the elements that satisfy the condition.\n",
        "Example: filter(lambda x: x % 2 == 0, [1, 2, 3, 4]) (selects even numbers)\n",
        "Key Differences:\n",
        "\n",
        "Function\tPurpose\tInput\tOutput\n",
        "map()\tTransformation\tIterable, Function\tIterator (same length)\n",
        "reduce()\tAggregation\tIterable, Function\tSingle value\n",
        "filter()\tSelection\tIterable, Function\tIterator (subset of input)\n",
        "In essence:\n",
        "\n",
        "map() transforms each element individually.\n",
        "reduce() combines elements into a single result.\n",
        "filter() selects elements based on a condition.\n",
        "These functions provide powerful tools for data manipulation and are often used in functional programming paradigms."
      ],
      "metadata": {
        "id": "Jpuzv2JgLz7_"
      }
    },
    {
      "cell_type": "markdown",
      "source": [
        "11.using a pen and paper write the internal mechanism for some operation using reduce function on this given list[47,11,42,13].\n",
        "\n",
        "ans:-Code:\n",
        "\n",
        "\n",
        "from functools import reduce\n",
        "\n",
        "numbers = [47, 11, 42, 13]\n",
        "sum_of_numbers = reduce(lambda x, y: x + y, numbers)\n",
        "Use code with caution\n",
        "Internal Steps:\n",
        "\n",
        "Initialization:\n",
        "\n",
        "x is assigned the first element of the list: x = 47\n",
        "y is assigned the second element of the list: y = 11\n",
        "First Iteration:\n",
        "\n",
        "The lambda function lambda x, y: x + y is applied to x and y: 47 + 11 = 58\n",
        "The result (58) is assigned back to x: x = 58\n",
        "y is assigned the next element in the list: y = 42\n",
        "Second Iteration:\n",
        "\n",
        "The lambda function is applied to the current x and y: 58 + 42 = 100\n",
        "The result (100) is assigned back to x: x = 100\n",
        "y is assigned the next element in the list: y = 13\n",
        "Third Iteration:\n",
        "\n",
        "The lambda function is applied to the current x and y: 100 + 13 = 113\n",
        "The result (113) is assigned back to x: x = 113\n",
        "Final Step:\n",
        "\n",
        "There are no more elements in the list.\n",
        "The final value of x (113) is returned as the result of the reduce() function.\n",
        "Therefore, sum_of_numbers will be 113.\n",
        "\n",
        "In essence:\n",
        "\n",
        "The reduce() function iteratively applies the given function to pairs of elements, accumulating the result until a single value is obtained. I hope this step-by-step walkthrough clarifies the internal mechanism!"
      ],
      "metadata": {
        "id": "-kkYVf5wMHr5"
      }
    },
    {
      "cell_type": "markdown",
      "source": [
        "1.write a python  function that takes a list of numbers as input and return the sum of all even number in the list.\n"
      ],
      "metadata": {
        "id": "TtrWSq2gM_eN"
      }
    },
    {
      "cell_type": "code",
      "source": [
        "def sum_even_numbers(numbers):\n",
        "  \"\"\"\n",
        "  Calculates the sum of all even numbers in a list.\n",
        "\n",
        "  Args:\n",
        "    numbers: A list of numbers.\n",
        "\n",
        "  Returns:\n",
        "    The sum of all even numbers in the list.\n",
        "  \"\"\"\n",
        "  sum_even = 0\n",
        "  for number in numbers:\n",
        "    if number % 2 == 0:\n",
        "      sum_even += number\n",
        "  return sum_even\n",
        "\n",
        "# Example usage\n",
        "numbers = [1, 2, 3, 4, 5, 6]\n",
        "even_sum = sum_even_numbers(numbers)\n",
        "print(f\"The sum of even numbers in the list is: {even_sum}\")"
      ],
      "metadata": {
        "colab": {
          "base_uri": "https://localhost:8080/"
        },
        "id": "D-tNfc4VNDow",
        "outputId": "071a1356-e71c-4df9-9f5e-5e6a93ce9211"
      },
      "execution_count": 1,
      "outputs": [
        {
          "output_type": "stream",
          "name": "stdout",
          "text": [
            "The sum of even numbers in the list is: 12\n"
          ]
        }
      ]
    },
    {
      "cell_type": "markdown",
      "source": [
        "2.create a python function that accepts a string and return the reverse of thart string.\n"
      ],
      "metadata": {
        "id": "Aib0S8VaNOxu"
      }
    },
    {
      "cell_type": "code",
      "source": [
        "def reverse_string(text):\n",
        "  \"\"\"\n",
        "  Reverses a given string.\n",
        "\n",
        "  Args:\n",
        "    text: The string to be reversed.\n",
        "\n",
        "  Returns:\n",
        "    The reversed string.\n",
        "  \"\"\"\n",
        "  return text[::-1]\n",
        "\n",
        "# Example usage\n",
        "string = \"hello\"\n",
        "reversed_string = reverse_string(string)\n",
        "print(f\"The reversed string is: {reversed_string}\")  # Output: olleh"
      ],
      "metadata": {
        "colab": {
          "base_uri": "https://localhost:8080/"
        },
        "id": "-1pj8AMKNSDc",
        "outputId": "1faa3009-27aa-4026-b58d-922619614415"
      },
      "execution_count": 2,
      "outputs": [
        {
          "output_type": "stream",
          "name": "stdout",
          "text": [
            "The reversed string is: olleh\n"
          ]
        }
      ]
    },
    {
      "cell_type": "markdown",
      "source": [
        "3.implement a python function that takes a list integers and return a new list containing the squre of each number.\n"
      ],
      "metadata": {
        "id": "z-AdMm7SNbhm"
      }
    },
    {
      "cell_type": "code",
      "source": [
        "def square_numbers(numbers):\n",
        "  \"\"\"\n",
        "  Squares each number in a list.\n",
        "\n",
        "  Args:\n",
        "    numbers: A list of integers.\n",
        "\n",
        "  Returns:\n",
        "    A new list containing the squares of each number.\n",
        "  \"\"\"\n",
        "  return [number**2 for number in numbers]\n",
        "\n",
        "# Example usage\n",
        "numbers = [1, 2, 3, 4, 5]\n",
        "squared_numbers = square_numbers(numbers)\n",
        "print(f\"The squared numbers are: {squared_numbers}\")  # Output: [1, 4, 9, 16, 25]"
      ],
      "metadata": {
        "colab": {
          "base_uri": "https://localhost:8080/"
        },
        "id": "BeFzTv88NKnf",
        "outputId": "6ca5c38b-678c-4616-c24a-a7b720d7aa31"
      },
      "execution_count": 3,
      "outputs": [
        {
          "output_type": "stream",
          "name": "stdout",
          "text": [
            "The squared numbers are: [1, 4, 9, 16, 25]\n"
          ]
        }
      ]
    },
    {
      "cell_type": "markdown",
      "source": [
        "4.write a python function that checks if a given number is prime or not 1 to 100.\n"
      ],
      "metadata": {
        "id": "U2YSUjgXNmlX"
      }
    },
    {
      "cell_type": "code",
      "source": [
        "def is_prime(number):\n",
        "  \"\"\"\n",
        "  Checks if a number is prime within the range of 1 to 100.\n",
        "\n",
        "  Args:\n",
        "    number: The number to check.\n",
        "\n",
        "  Returns:\n",
        "    True if the number is prime, False otherwise.\n",
        "  \"\"\"\n",
        "  if number <= 1 or number > 100:\n",
        "    return False  # Numbers outside the range are not considered\n",
        "\n",
        "  for i in range(2, int(number**0.5) + 1):\n",
        "    if number % i == 0:\n",
        "      return False  # Divisible by a number other than 1 and itself\n",
        "  return True\n",
        "\n",
        "# Example usage\n",
        "number = 17\n",
        "if is_prime(number):\n",
        "  print(f\"{number} is a prime number.\")\n",
        "else:\n",
        "  print(f\"{number} is not a prime number.\")"
      ],
      "metadata": {
        "colab": {
          "base_uri": "https://localhost:8080/"
        },
        "id": "oXt6kyOxNgoq",
        "outputId": "e955c988-b1fe-4354-cd2d-e2804c5ecb4d"
      },
      "execution_count": 4,
      "outputs": [
        {
          "output_type": "stream",
          "name": "stdout",
          "text": [
            "17 is a prime number.\n"
          ]
        }
      ]
    },
    {
      "cell_type": "markdown",
      "source": [
        "5create a iterator class in python that  genretes the fianacci sequence up to a specified number of terms.\n"
      ],
      "metadata": {
        "id": "9ygyhpgFNwZu"
      }
    },
    {
      "cell_type": "code",
      "source": [
        "class FibonacciIterator:\n",
        "  \"\"\"\n",
        "  An iterator class that generates the Fibonacci sequence up to a\n",
        "  specified number of terms.\n",
        "  \"\"\"\n",
        "  def __init__(self, max_terms):\n",
        "    self.max_terms = max_terms\n",
        "    self.count = 0\n",
        "    self.a, self.b = 0, 1\n",
        "\n",
        "  def __iter__(self):\n",
        "    return self\n",
        "\n",
        "  def __next__(self):\n",
        "    if self.count < self.max_terms:\n",
        "      result = self.a\n",
        "      self.a, self.b = self.b, self.a + self.b\n",
        "      self.count += 1\n",
        "      return result\n",
        "    else:\n",
        "      raise StopIteration\n",
        "\n",
        "# Example usage\n",
        "fib_iter = FibonacciIterator(10)\n",
        "for number in fib_iter:\n",
        "  print(number)  # Output: 0 1 1 2 3 5 8 13 21 34"
      ],
      "metadata": {
        "colab": {
          "base_uri": "https://localhost:8080/"
        },
        "id": "SMPVaSmENtWs",
        "outputId": "f130fd53-b073-4899-e137-5e36af9dccd9"
      },
      "execution_count": 5,
      "outputs": [
        {
          "output_type": "stream",
          "name": "stdout",
          "text": [
            "0\n",
            "1\n",
            "1\n",
            "2\n",
            "3\n",
            "5\n",
            "8\n",
            "13\n",
            "21\n",
            "34\n"
          ]
        }
      ]
    },
    {
      "cell_type": "markdown",
      "source": [
        "6.write  a generator function in python that yields th epower of 2 up to a given exponent .\n"
      ],
      "metadata": {
        "id": "gucHQmyxN8b9"
      }
    },
    {
      "cell_type": "code",
      "source": [
        "def powers_of_2(exponent):\n",
        "  \"\"\"\n",
        "  A generator function that yields powers of 2 up to a given exponent.\n",
        "\n",
        "  Args:\n",
        "    exponent: The maximum exponent.\n",
        "\n",
        "  Yields:\n",
        "    Powers of 2 (2^0, 2^1, 2^2, ...).\n",
        "  \"\"\"\n",
        "  for i in range(exponent + 1):\n",
        "    yield 2**i\n",
        "\n",
        "# Example usage\n",
        "for power in powers_of_2(5):\n",
        "  print(power)  # Output: 1 2 4 8 16 32"
      ],
      "metadata": {
        "colab": {
          "base_uri": "https://localhost:8080/"
        },
        "id": "MB--17OjN7HU",
        "outputId": "06ae8d4b-916e-4acf-eb8d-2758f341c29f"
      },
      "execution_count": 6,
      "outputs": [
        {
          "output_type": "stream",
          "name": "stdout",
          "text": [
            "1\n",
            "2\n",
            "4\n",
            "8\n",
            "16\n",
            "32\n"
          ]
        }
      ]
    },
    {
      "cell_type": "markdown",
      "source": [
        "7.implemen tof generator function that reads  a file line by line and yields each line as string.\n"
      ],
      "metadata": {
        "id": "PuxkEV8sOErq"
      }
    },
    {
      "cell_type": "code",
      "source": [
        "def read_file_lines(filename):\n",
        "  \"\"\"\n",
        "  A generator function that reads a file line by line and yields each line\n",
        "  as a string.\n",
        "\n",
        "  Args:\n",
        "    filename: The path to the file.\n",
        "\n",
        "  Yields:\n",
        "    Each line of the file as a string.\n",
        "  \"\"\"\n",
        "  try:\n",
        "    with open(filename, 'r') as file:\n",
        "      for line in file:\n",
        "        yield line.strip()  # Strip newline characters\n",
        "  except FileNotFoundError:\n",
        "    print(f\"Error: File '{filename}' not found.\")\n",
        "    # You can add other actions here, like returning an empty list\n",
        "    # or using a default file\n",
        "\n",
        "# Example usage\n",
        "for line in read_file_lines('my_file.txt'):\n",
        "  print(line)  # Prints each line of the file"
      ],
      "metadata": {
        "colab": {
          "base_uri": "https://localhost:8080/"
        },
        "id": "T8KIVKW1OIZ1",
        "outputId": "e5983897-b30b-42c4-aeca-55d0ebc88e60"
      },
      "execution_count": 8,
      "outputs": [
        {
          "output_type": "stream",
          "name": "stdout",
          "text": [
            "Error: File 'my_file.txt' not found.\n"
          ]
        }
      ]
    },
    {
      "cell_type": "markdown",
      "source": [
        "8.use a lambda function in python to sort a list of tuples based on the second  elements of each tuple .\n"
      ],
      "metadata": {
        "id": "yEv2scnjOcOr"
      }
    },
    {
      "cell_type": "code",
      "source": [
        "# Define a list of tuples\n",
        "my_list = [('apple', 3), ('banana', 1), ('cherry', 2), ('date', 4)]\n",
        "\n",
        "# Sort the list using a lambda function as the key\n",
        "sorted_list = sorted(my_list, key=lambda item: item[1])\n",
        "\n",
        "# Print the sorted list\n",
        "print(sorted_list)  # Output: [('banana', 1), ('cherry', 2), ('apple', 3), ('date', 4)]"
      ],
      "metadata": {
        "colab": {
          "base_uri": "https://localhost:8080/"
        },
        "id": "t6Mb4DqlODi0",
        "outputId": "27bac7f1-c3e9-4bff-9b08-724afa7b4859"
      },
      "execution_count": 9,
      "outputs": [
        {
          "output_type": "stream",
          "name": "stdout",
          "text": [
            "[('banana', 1), ('cherry', 2), ('apple', 3), ('date', 4)]\n"
          ]
        }
      ]
    },
    {
      "cell_type": "markdown",
      "source": [
        "9.write a  python program that uses map()to convert a list of temperature from calsous tofahrenhiet.\n"
      ],
      "metadata": {
        "id": "gwtvN2ovOnGa"
      }
    },
    {
      "cell_type": "code",
      "source": [
        "def celsius_to_fahrenheit(celsius):\n",
        "  \"\"\"Converts a temperature from Celsius to Fahrenheit.\"\"\"\n",
        "  return (celsius * 9/5) + 32\n",
        "\n",
        "# List of temperatures in Celsius\n",
        "celsius_temps = [0, 10, 20, 30, 40]\n",
        "\n",
        "# Use map() to convert the list to Fahrenheit\n",
        "fahrenheit_temps = list(map(celsius_to_fahrenheit, celsius_temps))\n",
        "\n",
        "# Print the Fahrenheit temperatures\n",
        "print(fahrenheit_temps)  # Output: [32.0, 50.0, 68.0, 86.0, 104.0]"
      ],
      "metadata": {
        "colab": {
          "base_uri": "https://localhost:8080/"
        },
        "id": "5fTiJs13OlUH",
        "outputId": "5bf42c40-fa39-4c00-a674-e106a4ebc9af"
      },
      "execution_count": 10,
      "outputs": [
        {
          "output_type": "stream",
          "name": "stdout",
          "text": [
            "[32.0, 50.0, 68.0, 86.0, 104.0]\n"
          ]
        }
      ]
    },
    {
      "cell_type": "markdown",
      "source": [
        "10.create a python program that uses filter ()to remove all the frome a given dtring.\n"
      ],
      "metadata": {
        "id": "s_WH-xXZOy0S"
      }
    },
    {
      "cell_type": "code",
      "source": [
        "def is_not_vowel(char):\n",
        "  \"\"\"Checks if a character is not a vowel.\"\"\"\n",
        "  vowels = \"aeiouAEIOU\"\n",
        "  return char not in vowels\n",
        "\n",
        "# Input string\n",
        "string = \"Hello, World!\"\n",
        "\n",
        "# Use filter() to remove vowels\n",
        "filtered_string = \"\".join(filter(is_not_vowel, string))\n",
        "\n",
        "# Print the filtered string\n",
        "print(filtered_string)  # Output: Hll, Wrld!"
      ],
      "metadata": {
        "colab": {
          "base_uri": "https://localhost:8080/"
        },
        "id": "fc82VAHpOxEh",
        "outputId": "6634f4b7-6bc2-4feb-f6d3-b0e95ceeb640"
      },
      "execution_count": 11,
      "outputs": [
        {
          "output_type": "stream",
          "name": "stdout",
          "text": [
            "Hll, Wrld!\n"
          ]
        }
      ]
    },
    {
      "cell_type": "code",
      "source": [],
      "metadata": {
        "id": "xzexzFd6O6TF"
      },
      "execution_count": null,
      "outputs": []
    },
    {
      "cell_type": "markdown",
      "source": [
        "11.imagine a counting routin used in book shop.its works on a list which sublist which look like this\n",
        "order number                         book title and author                       quantity                        price\n",
        "34587                      n          learning python,mark lutz                     4                              40.95\n",
        "98762                                 programming python,mark lutz                  5                             56.80\n",
        "77226                                 head first python,paul barry                  3                             32.95    \n",
        "88112                                 einfiihrung in python,brend kalin             3                              24.99\n",
        "\n",
        "write a python program which return a list with 2 tuples .each tuple consist of the order number and the order of th eprice per item and quantity. the product should be increased by 10 if the value of othe order is smaller than 10000.\n",
        "\n",
        "write a program using lambda and map."
      ],
      "metadata": {
        "id": "SwoCTKAQO7tx"
      }
    },
    {
      "cell_type": "code",
      "source": [
        "def calculate_order_total(orders):\n",
        "  \"\"\"Calculates the total order value for a list of book orders.\n",
        "\n",
        "  Args:\n",
        "    orders: A list of sublists, each containing\n",
        "            [order number, book title and author, quantity, price].\n",
        "\n",
        "  Returns:\n",
        "    The total order value.\n",
        "  \"\"\"\n",
        "  total_value = 0\n",
        "  for order in orders:\n",
        "    # Assuming order structure: [order_number, title_author, quantity, price]\n",
        "    if len(order) >= 4:  # Ensure the order has all necessary information\n",
        "      quantity = order[2]\n",
        "      price = order[3]\n",
        "      total_value += quantity * price\n",
        "  return total_value\n",
        "\n",
        "# Example order list (representing the data you provided)\n",
        "orders = [\n",
        "  [34587, \"Learning Python, Mark Lutz\", 4, 40.95],\n",
        "  [98762, \"Programming Python, Mark Lutz\", 5, 56.80],\n",
        "  [77226, \"Head First Python, Paul Barry\", 3, 32.95],\n",
        "  [88112] # This order seems incomplete - will be skipped\n",
        "]\n",
        "\n",
        "total_order_value = calculate_order_total(orders)\n",
        "print(f\"Total order value: ${total_order_value:.2f}\")"
      ],
      "metadata": {
        "id": "OudmEWo5PP3m",
        "outputId": "08cec109-f894-4512-e95f-4531f38ac212",
        "colab": {
          "base_uri": "https://localhost:8080/"
        }
      },
      "execution_count": 12,
      "outputs": [
        {
          "output_type": "stream",
          "name": "stdout",
          "text": [
            "Total order value: $546.65\n"
          ]
        }
      ]
    },
    {
      "cell_type": "code",
      "source": [],
      "metadata": {
        "id": "MP9PFmYNPRMX"
      },
      "execution_count": null,
      "outputs": []
    }
  ]
}